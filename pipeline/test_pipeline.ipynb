{
 "cells": [
  {
   "cell_type": "code",
   "execution_count": 1,
   "outputs": [],
   "source": [
    "import pandas as pd\n",
    "from pyspark.sql import SparkSession\n",
    "from pyspark.sql import functions as F\n",
    "from pyspark.sql.types import StringType\n",
    "import docker\n",
    "\n",
    "import requests\n",
    "\n",
    "import logging\n",
    "import os\n",
    "import subprocess\n",
    "import sys\n",
    "\n",
    "import shutil\n",
    "\n",
    "from collections import defaultdict"
   ],
   "metadata": {
    "collapsed": false,
    "pycharm": {
     "name": "#%%\n"
    }
   }
  },
  {
   "cell_type": "code",
   "execution_count": 2,
   "outputs": [
    {
     "name": "stdout",
     "output_type": "stream",
     "text": [
      "22/06/21 17:16:36 WARN Utils: Your hostname, UNIT-1700 resolves to a loopback address: 127.0.1.1; using 192.168.0.104 instead (on interface wlp59s0)\n",
      "22/06/21 17:16:36 WARN Utils: Set SPARK_LOCAL_IP if you need to bind to another address\n"
     ]
    },
    {
     "name": "stderr",
     "output_type": "stream",
     "text": [
      "Setting default log level to \"WARN\".\n",
      "To adjust logging level use sc.setLogLevel(newLevel). For SparkR, use setLogLevel(newLevel).\n"
     ]
    },
    {
     "name": "stdout",
     "output_type": "stream",
     "text": [
      "22/06/21 17:16:47 WARN NativeCodeLoader: Unable to load native-hadoop library for your platform... using builtin-java classes where applicable\n"
     ]
    }
   ],
   "source": [
    "# Start Spark session\n",
    "spark = (SparkSession\n",
    "         .builder\n",
    "         .appName(\"Handle new project pipline\")\n",
    "         .getOrCreate())"
   ],
   "metadata": {
    "collapsed": false,
    "pycharm": {
     "name": "#%%\n"
    }
   }
  },
  {
   "cell_type": "code",
   "execution_count": 3,
   "outputs": [],
   "source": [
    "def create_dir(dir_path: str):\n",
    "    if not os.path.exists(dir_path):\n",
    "        os.makedirs(dir_path)"
   ],
   "metadata": {
    "collapsed": false,
    "pycharm": {
     "name": "#%%\n"
    }
   }
  },
  {
   "cell_type": "code",
   "execution_count": 4,
   "outputs": [],
   "source": [
    "def remove_dir(dir_path: str):\n",
    "    shutil.rmtree(dir_path)"
   ],
   "metadata": {
    "collapsed": false,
    "pycharm": {
     "name": "#%%\n"
    }
   }
  },
  {
   "cell_type": "code",
   "execution_count": 5,
   "outputs": [],
   "source": [
    "PATH_TO_CLONE_REPO = \"/home/Dmitry.Pogrebnoy/Desktop/tmp_folder\"\n",
    "GIT_CLONE_LINK=\"https://github.com/zuevmaxim/itmo-ibd.git\"\n",
    "PROJECT_OWNER = GIT_CLONE_LINK.split(\"/\")[-2]\n",
    "PROJECT_NAME = GIT_CLONE_LINK.split(\"/\")[-1].split(\".git\")[0]\n",
    "PROJECT_PATH = os.path.join(PATH_TO_CLONE_REPO, PROJECT_NAME)"
   ],
   "metadata": {
    "collapsed": false,
    "pycharm": {
     "name": "#%%\n"
    }
   }
  },
  {
   "cell_type": "code",
   "execution_count": 6,
   "outputs": [],
   "source": [
    "create_dir(PROJECT_PATH)"
   ],
   "metadata": {
    "collapsed": false,
    "pycharm": {
     "name": "#%%\n"
    }
   }
  },
  {
   "cell_type": "code",
   "execution_count": 7,
   "outputs": [
    {
     "name": "stderr",
     "output_type": "stream",
     "text": [
      "fatal: destination path '/home/Dmitry.Pogrebnoy/Desktop/tmp_folder/itmo-ibd' already exists and is not an empty directory.\n"
     ]
    }
   ],
   "source": [
    "#First of all clone repo\n",
    "p = subprocess.Popen(['git', 'clone', GIT_CLONE_LINK, PROJECT_PATH, '--depth', '1'])\n",
    "return_code = p.wait()\n",
    "if return_code != 0:\n",
    "    logging.info(f'Error while cloning {GIT_CLONE_LINK}!')\n",
    "    exit(1)"
   ],
   "metadata": {
    "collapsed": false,
    "pycharm": {
     "name": "#%%\n"
    }
   }
  },
  {
   "cell_type": "code",
   "execution_count": 8,
   "outputs": [],
   "source": [
    "#Compute extensions metrics\n",
    "cont_extensions = defaultdict(int)\n",
    "for root, _, files in os.walk(PROJECT_PATH):\n",
    "    for filename in files:\n",
    "        extension = os.path.splitext(filename)[1]\n",
    "        cont_extensions[extension] += 1\n",
    "extensions_metrics = []\n",
    "for extension, count in cont_extensions.items():\n",
    "    extensions_metrics.append((f\"{PROJECT_NAME}\" ,extension, count))"
   ],
   "metadata": {
    "collapsed": false,
    "pycharm": {
     "name": "#%%\n"
    }
   }
  },
  {
   "cell_type": "code",
   "execution_count": 9,
   "outputs": [],
   "source": [
    "extensions_metrics_dataset = spark.createDataFrame(extensions_metrics).toDF(*[\"project_name\", \"extension\", \"count\"]).cache()"
   ],
   "metadata": {
    "collapsed": false,
    "pycharm": {
     "name": "#%%\n"
    }
   }
  },
  {
   "cell_type": "code",
   "execution_count": 10,
   "outputs": [
    {
     "name": "stderr",
     "output_type": "stream",
     "text": [
      "                                                                                \r"
     ]
    },
    {
     "name": "stdout",
     "output_type": "stream",
     "text": [
      "+------------+---------+-----+\n",
      "|project_name|extension|count|\n",
      "+------------+---------+-----+\n",
      "|    itmo-ibd|         |   85|\n",
      "|    itmo-ibd|      .md|    4|\n",
      "|    itmo-ibd|      .py|   10|\n",
      "|    itmo-ibd|   .ipynb|    2|\n",
      "|    itmo-ibd|  .sample|   12|\n",
      "|    itmo-ibd|      .sh|    1|\n",
      "|    itmo-ibd|     .csv|   31|\n",
      "+------------+---------+-----+\n",
      "\n"
     ]
    }
   ],
   "source": [
    "extensions_metrics_dataset.show()"
   ],
   "metadata": {
    "collapsed": false,
    "pycharm": {
     "name": "#%%\n"
    }
   }
  },
  {
   "cell_type": "code",
   "execution_count": 11,
   "outputs": [],
   "source": [
    "def rename_extension(package_name):\n",
    "    return f\"extension#{package_name}\"\n",
    "\n",
    "udf_rename_extension = F.udf(rename_extension, returnType=StringType())"
   ],
   "metadata": {
    "collapsed": false,
    "pycharm": {
     "name": "#%%\n"
    }
   }
  },
  {
   "cell_type": "code",
   "execution_count": 12,
   "outputs": [
    {
     "name": "stdout",
     "output_type": "stream",
     "text": [
      "+------------+-----------------+-----+\n",
      "|project_name|        extension|count|\n",
      "+------------+-----------------+-----+\n",
      "|    itmo-ibd|       extension#|   85|\n",
      "|    itmo-ibd|    extension#.md|    4|\n",
      "|    itmo-ibd|    extension#.py|   10|\n",
      "|    itmo-ibd| extension#.ipynb|    2|\n",
      "|    itmo-ibd|extension#.sample|   12|\n",
      "|    itmo-ibd|    extension#.sh|    1|\n",
      "|    itmo-ibd|   extension#.csv|   31|\n",
      "+------------+-----------------+-----+\n",
      "\n"
     ]
    }
   ],
   "source": [
    "extensions_metrics_dataset = extensions_metrics_dataset.select(\"project_name\", udf_rename_extension(\"extension\").alias(\"extension\"), \"count\")\n",
    "extensions_metrics_dataset.show()"
   ],
   "metadata": {
    "collapsed": false,
    "pycharm": {
     "name": "#%%\n"
    }
   }
  },
  {
   "cell_type": "code",
   "execution_count": 13,
   "outputs": [],
   "source": [
    "# generate unique folders every time\n",
    "PATH_TO_LUPA_KOTLIN_OUTPUT = \"/home/Dmitry.Pogrebnoy/Desktop/tmp_lupa_kotlin_output\"\n",
    "PATH_TO_LUPA_PYTHON_OUTPUT = \"/home/Dmitry.Pogrebnoy/Desktop/tmp_lupa_python_output\""
   ],
   "metadata": {
    "collapsed": false,
    "pycharm": {
     "name": "#%%\n"
    }
   }
  },
  {
   "cell_type": "code",
   "execution_count": 14,
   "outputs": [],
   "source": [
    "create_dir(PATH_TO_LUPA_KOTLIN_OUTPUT)\n",
    "create_dir(PATH_TO_LUPA_PYTHON_OUTPUT)"
   ],
   "metadata": {
    "collapsed": false,
    "pycharm": {
     "name": "#%%\n"
    }
   }
  },
  {
   "cell_type": "code",
   "execution_count": 15,
   "outputs": [],
   "source": [
    "docker_volumes= {\n",
    "    f'{PATH_TO_CLONE_REPO}' : {'bind' : '/data', 'mode' : 'ro'},\n",
    "    f'{PATH_TO_LUPA_PYTHON_OUTPUT}' : {'bind' : '/output_python', 'mode' : 'rw'},\n",
    "    f'{PATH_TO_LUPA_KOTLIN_OUTPUT}' : {'bind' : '/output_kotlin', 'mode' : 'rw'}\n",
    "}"
   ],
   "metadata": {
    "collapsed": false,
    "pycharm": {
     "name": "#%%\n"
    }
   }
  },
  {
   "cell_type": "code",
   "execution_count": 248,
   "outputs": [
    {
     "ename": "KeyboardInterrupt",
     "evalue": "",
     "output_type": "error",
     "traceback": [
      "\u001B[0;31m---------------------------------------------------------------------------\u001B[0m",
      "\u001B[0;31mKeyboardInterrupt\u001B[0m                         Traceback (most recent call last)",
      "Input \u001B[0;32mIn [248]\u001B[0m, in \u001B[0;36m<cell line: 3>\u001B[0;34m()\u001B[0m\n\u001B[1;32m      1\u001B[0m \u001B[38;5;66;03m# run lupa docker to extract imports\u001B[39;00m\n\u001B[1;32m      2\u001B[0m docker_client \u001B[38;5;241m=\u001B[39m docker\u001B[38;5;241m.\u001B[39mfrom_env()\n\u001B[0;32m----> 3\u001B[0m \u001B[43mdocker_client\u001B[49m\u001B[38;5;241;43m.\u001B[39;49m\u001B[43mcontainers\u001B[49m\u001B[38;5;241;43m.\u001B[39;49m\u001B[43mrun\u001B[49m\u001B[43m(\u001B[49m\u001B[38;5;124;43m'\u001B[39;49m\u001B[38;5;124;43mpogrebnoy/ibd-lupa-extract-imports:1.0.0\u001B[39;49m\u001B[38;5;124;43m'\u001B[39;49m\u001B[43m,\u001B[49m\n\u001B[1;32m      4\u001B[0m \u001B[43m                                         \u001B[49m\u001B[43mauto_remove\u001B[49m\u001B[38;5;241;43m=\u001B[39;49m\u001B[38;5;28;43;01mTrue\u001B[39;49;00m\u001B[43m,\u001B[49m\n\u001B[1;32m      5\u001B[0m \u001B[43m                                         \u001B[49m\u001B[38;5;66;43;03m#user=f\"{os.getuid()}\", # Fails lupa with Exception in thread \"main\" java.lang.RuntimeException: Could not create parent directory for lock file /Lupa/?/.gradle/wrapper/dists/gradle-6.8.3-bin/7ykxq50lst7lb7wx1nijpicxn/gradle-6.8.3-bin.zip.lck\u001B[39;49;00m\n\u001B[1;32m      6\u001B[0m \u001B[43m                                         \u001B[49m\u001B[43mstderr\u001B[49m\u001B[38;5;241;43m=\u001B[39;49m\u001B[38;5;28;43;01mTrue\u001B[39;49;00m\u001B[43m,\u001B[49m\n\u001B[1;32m      7\u001B[0m \u001B[43m                                         \u001B[49m\u001B[43mvolumes\u001B[49m\u001B[38;5;241;43m=\u001B[39;49m\u001B[43mdocker_volumes\u001B[49m\u001B[43m)\u001B[49m\n",
      "File \u001B[0;32m~/Desktop/itmo-ibd/venv/lib/python3.9/site-packages/docker/models/containers.py:839\u001B[0m, in \u001B[0;36mContainerCollection.run\u001B[0;34m(self, image, command, stdout, stderr, remove, **kwargs)\u001B[0m\n\u001B[1;32m    834\u001B[0m \u001B[38;5;28;01mif\u001B[39;00m logging_driver \u001B[38;5;241m==\u001B[39m \u001B[38;5;124m'\u001B[39m\u001B[38;5;124mjson-file\u001B[39m\u001B[38;5;124m'\u001B[39m \u001B[38;5;129;01mor\u001B[39;00m logging_driver \u001B[38;5;241m==\u001B[39m \u001B[38;5;124m'\u001B[39m\u001B[38;5;124mjournald\u001B[39m\u001B[38;5;124m'\u001B[39m:\n\u001B[1;32m    835\u001B[0m     out \u001B[38;5;241m=\u001B[39m container\u001B[38;5;241m.\u001B[39mlogs(\n\u001B[1;32m    836\u001B[0m         stdout\u001B[38;5;241m=\u001B[39mstdout, stderr\u001B[38;5;241m=\u001B[39mstderr, stream\u001B[38;5;241m=\u001B[39m\u001B[38;5;28;01mTrue\u001B[39;00m, follow\u001B[38;5;241m=\u001B[39m\u001B[38;5;28;01mTrue\u001B[39;00m\n\u001B[1;32m    837\u001B[0m     )\n\u001B[0;32m--> 839\u001B[0m exit_status \u001B[38;5;241m=\u001B[39m \u001B[43mcontainer\u001B[49m\u001B[38;5;241;43m.\u001B[39;49m\u001B[43mwait\u001B[49m\u001B[43m(\u001B[49m\u001B[43m)\u001B[49m[\u001B[38;5;124m'\u001B[39m\u001B[38;5;124mStatusCode\u001B[39m\u001B[38;5;124m'\u001B[39m]\n\u001B[1;32m    840\u001B[0m \u001B[38;5;28;01mif\u001B[39;00m exit_status \u001B[38;5;241m!=\u001B[39m \u001B[38;5;241m0\u001B[39m:\n\u001B[1;32m    841\u001B[0m     out \u001B[38;5;241m=\u001B[39m \u001B[38;5;28;01mNone\u001B[39;00m\n",
      "File \u001B[0;32m~/Desktop/itmo-ibd/venv/lib/python3.9/site-packages/docker/models/containers.py:512\u001B[0m, in \u001B[0;36mContainer.wait\u001B[0;34m(self, **kwargs)\u001B[0m\n\u001B[1;32m    491\u001B[0m \u001B[38;5;28;01mdef\u001B[39;00m \u001B[38;5;21mwait\u001B[39m(\u001B[38;5;28mself\u001B[39m, \u001B[38;5;241m*\u001B[39m\u001B[38;5;241m*\u001B[39mkwargs):\n\u001B[1;32m    492\u001B[0m     \u001B[38;5;124;03m\"\"\"\u001B[39;00m\n\u001B[1;32m    493\u001B[0m \u001B[38;5;124;03m    Block until the container stops, then return its exit code. Similar to\u001B[39;00m\n\u001B[1;32m    494\u001B[0m \u001B[38;5;124;03m    the ``docker wait`` command.\u001B[39;00m\n\u001B[0;32m   (...)\u001B[0m\n\u001B[1;32m    510\u001B[0m \u001B[38;5;124;03m            If the server returns an error.\u001B[39;00m\n\u001B[1;32m    511\u001B[0m \u001B[38;5;124;03m    \"\"\"\u001B[39;00m\n\u001B[0;32m--> 512\u001B[0m     \u001B[38;5;28;01mreturn\u001B[39;00m \u001B[38;5;28;43mself\u001B[39;49m\u001B[38;5;241;43m.\u001B[39;49m\u001B[43mclient\u001B[49m\u001B[38;5;241;43m.\u001B[39;49m\u001B[43mapi\u001B[49m\u001B[38;5;241;43m.\u001B[39;49m\u001B[43mwait\u001B[49m\u001B[43m(\u001B[49m\u001B[38;5;28;43mself\u001B[39;49m\u001B[38;5;241;43m.\u001B[39;49m\u001B[43mid\u001B[49m\u001B[43m,\u001B[49m\u001B[43m \u001B[49m\u001B[38;5;241;43m*\u001B[39;49m\u001B[38;5;241;43m*\u001B[39;49m\u001B[43mkwargs\u001B[49m\u001B[43m)\u001B[49m\n",
      "File \u001B[0;32m~/Desktop/itmo-ibd/venv/lib/python3.9/site-packages/docker/utils/decorators.py:19\u001B[0m, in \u001B[0;36mcheck_resource.<locals>.decorator.<locals>.wrapped\u001B[0;34m(self, resource_id, *args, **kwargs)\u001B[0m\n\u001B[1;32m     15\u001B[0m \u001B[38;5;28;01mif\u001B[39;00m \u001B[38;5;129;01mnot\u001B[39;00m resource_id:\n\u001B[1;32m     16\u001B[0m     \u001B[38;5;28;01mraise\u001B[39;00m errors\u001B[38;5;241m.\u001B[39mNullResource(\n\u001B[1;32m     17\u001B[0m         \u001B[38;5;124m'\u001B[39m\u001B[38;5;124mResource ID was not provided\u001B[39m\u001B[38;5;124m'\u001B[39m\n\u001B[1;32m     18\u001B[0m     )\n\u001B[0;32m---> 19\u001B[0m \u001B[38;5;28;01mreturn\u001B[39;00m \u001B[43mf\u001B[49m\u001B[43m(\u001B[49m\u001B[38;5;28;43mself\u001B[39;49m\u001B[43m,\u001B[49m\u001B[43m \u001B[49m\u001B[43mresource_id\u001B[49m\u001B[43m,\u001B[49m\u001B[43m \u001B[49m\u001B[38;5;241;43m*\u001B[39;49m\u001B[43margs\u001B[49m\u001B[43m,\u001B[49m\u001B[43m \u001B[49m\u001B[38;5;241;43m*\u001B[39;49m\u001B[38;5;241;43m*\u001B[39;49m\u001B[43mkwargs\u001B[49m\u001B[43m)\u001B[49m\n",
      "File \u001B[0;32m~/Desktop/itmo-ibd/venv/lib/python3.9/site-packages/docker/api/container.py:1303\u001B[0m, in \u001B[0;36mContainerApiMixin.wait\u001B[0;34m(self, container, timeout, condition)\u001B[0m\n\u001B[1;32m   1298\u001B[0m         \u001B[38;5;28;01mraise\u001B[39;00m errors\u001B[38;5;241m.\u001B[39mInvalidVersion(\n\u001B[1;32m   1299\u001B[0m             \u001B[38;5;124m'\u001B[39m\u001B[38;5;124mwait condition is not supported for API version < 1.30\u001B[39m\u001B[38;5;124m'\u001B[39m\n\u001B[1;32m   1300\u001B[0m         )\n\u001B[1;32m   1301\u001B[0m     params[\u001B[38;5;124m'\u001B[39m\u001B[38;5;124mcondition\u001B[39m\u001B[38;5;124m'\u001B[39m] \u001B[38;5;241m=\u001B[39m condition\n\u001B[0;32m-> 1303\u001B[0m res \u001B[38;5;241m=\u001B[39m \u001B[38;5;28;43mself\u001B[39;49m\u001B[38;5;241;43m.\u001B[39;49m\u001B[43m_post\u001B[49m\u001B[43m(\u001B[49m\u001B[43murl\u001B[49m\u001B[43m,\u001B[49m\u001B[43m \u001B[49m\u001B[43mtimeout\u001B[49m\u001B[38;5;241;43m=\u001B[39;49m\u001B[43mtimeout\u001B[49m\u001B[43m,\u001B[49m\u001B[43m \u001B[49m\u001B[43mparams\u001B[49m\u001B[38;5;241;43m=\u001B[39;49m\u001B[43mparams\u001B[49m\u001B[43m)\u001B[49m\n\u001B[1;32m   1304\u001B[0m \u001B[38;5;28;01mreturn\u001B[39;00m \u001B[38;5;28mself\u001B[39m\u001B[38;5;241m.\u001B[39m_result(res, \u001B[38;5;28;01mTrue\u001B[39;00m)\n",
      "File \u001B[0;32m~/Desktop/itmo-ibd/venv/lib/python3.9/site-packages/docker/utils/decorators.py:46\u001B[0m, in \u001B[0;36mupdate_headers.<locals>.inner\u001B[0;34m(self, *args, **kwargs)\u001B[0m\n\u001B[1;32m     44\u001B[0m     \u001B[38;5;28;01melse\u001B[39;00m:\n\u001B[1;32m     45\u001B[0m         kwargs[\u001B[38;5;124m'\u001B[39m\u001B[38;5;124mheaders\u001B[39m\u001B[38;5;124m'\u001B[39m]\u001B[38;5;241m.\u001B[39mupdate(\u001B[38;5;28mself\u001B[39m\u001B[38;5;241m.\u001B[39m_general_configs[\u001B[38;5;124m'\u001B[39m\u001B[38;5;124mHttpHeaders\u001B[39m\u001B[38;5;124m'\u001B[39m])\n\u001B[0;32m---> 46\u001B[0m \u001B[38;5;28;01mreturn\u001B[39;00m \u001B[43mf\u001B[49m\u001B[43m(\u001B[49m\u001B[38;5;28;43mself\u001B[39;49m\u001B[43m,\u001B[49m\u001B[43m \u001B[49m\u001B[38;5;241;43m*\u001B[39;49m\u001B[43margs\u001B[49m\u001B[43m,\u001B[49m\u001B[43m \u001B[49m\u001B[38;5;241;43m*\u001B[39;49m\u001B[38;5;241;43m*\u001B[39;49m\u001B[43mkwargs\u001B[49m\u001B[43m)\u001B[49m\n",
      "File \u001B[0;32m~/Desktop/itmo-ibd/venv/lib/python3.9/site-packages/docker/api/client.py:233\u001B[0m, in \u001B[0;36mAPIClient._post\u001B[0;34m(self, url, **kwargs)\u001B[0m\n\u001B[1;32m    231\u001B[0m \u001B[38;5;129m@update_headers\u001B[39m\n\u001B[1;32m    232\u001B[0m \u001B[38;5;28;01mdef\u001B[39;00m \u001B[38;5;21m_post\u001B[39m(\u001B[38;5;28mself\u001B[39m, url, \u001B[38;5;241m*\u001B[39m\u001B[38;5;241m*\u001B[39mkwargs):\n\u001B[0;32m--> 233\u001B[0m     \u001B[38;5;28;01mreturn\u001B[39;00m \u001B[38;5;28;43mself\u001B[39;49m\u001B[38;5;241;43m.\u001B[39;49m\u001B[43mpost\u001B[49m\u001B[43m(\u001B[49m\u001B[43murl\u001B[49m\u001B[43m,\u001B[49m\u001B[43m \u001B[49m\u001B[38;5;241;43m*\u001B[39;49m\u001B[38;5;241;43m*\u001B[39;49m\u001B[38;5;28;43mself\u001B[39;49m\u001B[38;5;241;43m.\u001B[39;49m\u001B[43m_set_request_timeout\u001B[49m\u001B[43m(\u001B[49m\u001B[43mkwargs\u001B[49m\u001B[43m)\u001B[49m\u001B[43m)\u001B[49m\n",
      "File \u001B[0;32m~/Desktop/itmo-ibd/venv/lib/python3.9/site-packages/requests/sessions.py:635\u001B[0m, in \u001B[0;36mSession.post\u001B[0;34m(self, url, data, json, **kwargs)\u001B[0m\n\u001B[1;32m    624\u001B[0m \u001B[38;5;28;01mdef\u001B[39;00m \u001B[38;5;21mpost\u001B[39m(\u001B[38;5;28mself\u001B[39m, url, data\u001B[38;5;241m=\u001B[39m\u001B[38;5;28;01mNone\u001B[39;00m, json\u001B[38;5;241m=\u001B[39m\u001B[38;5;28;01mNone\u001B[39;00m, \u001B[38;5;241m*\u001B[39m\u001B[38;5;241m*\u001B[39mkwargs):\n\u001B[1;32m    625\u001B[0m     \u001B[38;5;124mr\u001B[39m\u001B[38;5;124;03m\"\"\"Sends a POST request. Returns :class:`Response` object.\u001B[39;00m\n\u001B[1;32m    626\u001B[0m \n\u001B[1;32m    627\u001B[0m \u001B[38;5;124;03m    :param url: URL for the new :class:`Request` object.\u001B[39;00m\n\u001B[0;32m   (...)\u001B[0m\n\u001B[1;32m    632\u001B[0m \u001B[38;5;124;03m    :rtype: requests.Response\u001B[39;00m\n\u001B[1;32m    633\u001B[0m \u001B[38;5;124;03m    \"\"\"\u001B[39;00m\n\u001B[0;32m--> 635\u001B[0m     \u001B[38;5;28;01mreturn\u001B[39;00m \u001B[38;5;28;43mself\u001B[39;49m\u001B[38;5;241;43m.\u001B[39;49m\u001B[43mrequest\u001B[49m\u001B[43m(\u001B[49m\u001B[38;5;124;43m\"\u001B[39;49m\u001B[38;5;124;43mPOST\u001B[39;49m\u001B[38;5;124;43m\"\u001B[39;49m\u001B[43m,\u001B[49m\u001B[43m \u001B[49m\u001B[43murl\u001B[49m\u001B[43m,\u001B[49m\u001B[43m \u001B[49m\u001B[43mdata\u001B[49m\u001B[38;5;241;43m=\u001B[39;49m\u001B[43mdata\u001B[49m\u001B[43m,\u001B[49m\u001B[43m \u001B[49m\u001B[43mjson\u001B[49m\u001B[38;5;241;43m=\u001B[39;49m\u001B[43mjson\u001B[49m\u001B[43m,\u001B[49m\u001B[43m \u001B[49m\u001B[38;5;241;43m*\u001B[39;49m\u001B[38;5;241;43m*\u001B[39;49m\u001B[43mkwargs\u001B[49m\u001B[43m)\u001B[49m\n",
      "File \u001B[0;32m~/Desktop/itmo-ibd/venv/lib/python3.9/site-packages/requests/sessions.py:587\u001B[0m, in \u001B[0;36mSession.request\u001B[0;34m(self, method, url, params, data, headers, cookies, files, auth, timeout, allow_redirects, proxies, hooks, stream, verify, cert, json)\u001B[0m\n\u001B[1;32m    582\u001B[0m send_kwargs \u001B[38;5;241m=\u001B[39m {\n\u001B[1;32m    583\u001B[0m     \u001B[38;5;124m\"\u001B[39m\u001B[38;5;124mtimeout\u001B[39m\u001B[38;5;124m\"\u001B[39m: timeout,\n\u001B[1;32m    584\u001B[0m     \u001B[38;5;124m\"\u001B[39m\u001B[38;5;124mallow_redirects\u001B[39m\u001B[38;5;124m\"\u001B[39m: allow_redirects,\n\u001B[1;32m    585\u001B[0m }\n\u001B[1;32m    586\u001B[0m send_kwargs\u001B[38;5;241m.\u001B[39mupdate(settings)\n\u001B[0;32m--> 587\u001B[0m resp \u001B[38;5;241m=\u001B[39m \u001B[38;5;28;43mself\u001B[39;49m\u001B[38;5;241;43m.\u001B[39;49m\u001B[43msend\u001B[49m\u001B[43m(\u001B[49m\u001B[43mprep\u001B[49m\u001B[43m,\u001B[49m\u001B[43m \u001B[49m\u001B[38;5;241;43m*\u001B[39;49m\u001B[38;5;241;43m*\u001B[39;49m\u001B[43msend_kwargs\u001B[49m\u001B[43m)\u001B[49m\n\u001B[1;32m    589\u001B[0m \u001B[38;5;28;01mreturn\u001B[39;00m resp\n",
      "File \u001B[0;32m~/Desktop/itmo-ibd/venv/lib/python3.9/site-packages/requests/sessions.py:745\u001B[0m, in \u001B[0;36mSession.send\u001B[0;34m(self, request, **kwargs)\u001B[0m\n\u001B[1;32m    742\u001B[0m         \u001B[38;5;28;01mpass\u001B[39;00m\n\u001B[1;32m    744\u001B[0m \u001B[38;5;28;01mif\u001B[39;00m \u001B[38;5;129;01mnot\u001B[39;00m stream:\n\u001B[0;32m--> 745\u001B[0m     \u001B[43mr\u001B[49m\u001B[38;5;241;43m.\u001B[39;49m\u001B[43mcontent\u001B[49m\n\u001B[1;32m    747\u001B[0m \u001B[38;5;28;01mreturn\u001B[39;00m r\n",
      "File \u001B[0;32m~/Desktop/itmo-ibd/venv/lib/python3.9/site-packages/requests/models.py:900\u001B[0m, in \u001B[0;36mResponse.content\u001B[0;34m(self)\u001B[0m\n\u001B[1;32m    898\u001B[0m         \u001B[38;5;28mself\u001B[39m\u001B[38;5;241m.\u001B[39m_content \u001B[38;5;241m=\u001B[39m \u001B[38;5;28;01mNone\u001B[39;00m\n\u001B[1;32m    899\u001B[0m     \u001B[38;5;28;01melse\u001B[39;00m:\n\u001B[0;32m--> 900\u001B[0m         \u001B[38;5;28mself\u001B[39m\u001B[38;5;241m.\u001B[39m_content \u001B[38;5;241m=\u001B[39m \u001B[38;5;124;43mb\u001B[39;49m\u001B[38;5;124;43m\"\u001B[39;49m\u001B[38;5;124;43m\"\u001B[39;49m\u001B[38;5;241;43m.\u001B[39;49m\u001B[43mjoin\u001B[49m\u001B[43m(\u001B[49m\u001B[38;5;28;43mself\u001B[39;49m\u001B[38;5;241;43m.\u001B[39;49m\u001B[43miter_content\u001B[49m\u001B[43m(\u001B[49m\u001B[43mCONTENT_CHUNK_SIZE\u001B[49m\u001B[43m)\u001B[49m\u001B[43m)\u001B[49m \u001B[38;5;129;01mor\u001B[39;00m \u001B[38;5;124mb\u001B[39m\u001B[38;5;124m\"\u001B[39m\u001B[38;5;124m\"\u001B[39m\n\u001B[1;32m    902\u001B[0m \u001B[38;5;28mself\u001B[39m\u001B[38;5;241m.\u001B[39m_content_consumed \u001B[38;5;241m=\u001B[39m \u001B[38;5;28;01mTrue\u001B[39;00m\n\u001B[1;32m    903\u001B[0m \u001B[38;5;66;03m# don't need to release the connection; that's been handled by urllib3\u001B[39;00m\n\u001B[1;32m    904\u001B[0m \u001B[38;5;66;03m# since we exhausted the data.\u001B[39;00m\n",
      "File \u001B[0;32m~/Desktop/itmo-ibd/venv/lib/python3.9/site-packages/requests/models.py:816\u001B[0m, in \u001B[0;36mResponse.iter_content.<locals>.generate\u001B[0;34m()\u001B[0m\n\u001B[1;32m    814\u001B[0m \u001B[38;5;28;01mif\u001B[39;00m \u001B[38;5;28mhasattr\u001B[39m(\u001B[38;5;28mself\u001B[39m\u001B[38;5;241m.\u001B[39mraw, \u001B[38;5;124m\"\u001B[39m\u001B[38;5;124mstream\u001B[39m\u001B[38;5;124m\"\u001B[39m):\n\u001B[1;32m    815\u001B[0m     \u001B[38;5;28;01mtry\u001B[39;00m:\n\u001B[0;32m--> 816\u001B[0m         \u001B[38;5;28;01mfor\u001B[39;00m chunk \u001B[38;5;129;01min\u001B[39;00m \u001B[38;5;28mself\u001B[39m\u001B[38;5;241m.\u001B[39mraw\u001B[38;5;241m.\u001B[39mstream(chunk_size, decode_content\u001B[38;5;241m=\u001B[39m\u001B[38;5;28;01mTrue\u001B[39;00m):\n\u001B[1;32m    817\u001B[0m             \u001B[38;5;28;01myield\u001B[39;00m chunk\n\u001B[1;32m    818\u001B[0m     \u001B[38;5;28;01mexcept\u001B[39;00m ProtocolError \u001B[38;5;28;01mas\u001B[39;00m e:\n",
      "File \u001B[0;32m~/Desktop/itmo-ibd/venv/lib/python3.9/site-packages/urllib3/response.py:575\u001B[0m, in \u001B[0;36mHTTPResponse.stream\u001B[0;34m(self, amt, decode_content)\u001B[0m\n\u001B[1;32m    559\u001B[0m \u001B[38;5;124;03m\"\"\"\u001B[39;00m\n\u001B[1;32m    560\u001B[0m \u001B[38;5;124;03mA generator wrapper for the read() method. A call will block until\u001B[39;00m\n\u001B[1;32m    561\u001B[0m \u001B[38;5;124;03m``amt`` bytes have been read from the connection or until the\u001B[39;00m\n\u001B[0;32m   (...)\u001B[0m\n\u001B[1;32m    572\u001B[0m \u001B[38;5;124;03m    'content-encoding' header.\u001B[39;00m\n\u001B[1;32m    573\u001B[0m \u001B[38;5;124;03m\"\"\"\u001B[39;00m\n\u001B[1;32m    574\u001B[0m \u001B[38;5;28;01mif\u001B[39;00m \u001B[38;5;28mself\u001B[39m\u001B[38;5;241m.\u001B[39mchunked \u001B[38;5;129;01mand\u001B[39;00m \u001B[38;5;28mself\u001B[39m\u001B[38;5;241m.\u001B[39msupports_chunked_reads():\n\u001B[0;32m--> 575\u001B[0m     \u001B[38;5;28;01mfor\u001B[39;00m line \u001B[38;5;129;01min\u001B[39;00m \u001B[38;5;28mself\u001B[39m\u001B[38;5;241m.\u001B[39mread_chunked(amt, decode_content\u001B[38;5;241m=\u001B[39mdecode_content):\n\u001B[1;32m    576\u001B[0m         \u001B[38;5;28;01myield\u001B[39;00m line\n\u001B[1;32m    577\u001B[0m \u001B[38;5;28;01melse\u001B[39;00m:\n",
      "File \u001B[0;32m~/Desktop/itmo-ibd/venv/lib/python3.9/site-packages/urllib3/response.py:767\u001B[0m, in \u001B[0;36mHTTPResponse.read_chunked\u001B[0;34m(self, amt, decode_content)\u001B[0m\n\u001B[1;32m    764\u001B[0m     \u001B[38;5;28;01mreturn\u001B[39;00m\n\u001B[1;32m    766\u001B[0m \u001B[38;5;28;01mwhile\u001B[39;00m \u001B[38;5;28;01mTrue\u001B[39;00m:\n\u001B[0;32m--> 767\u001B[0m     \u001B[38;5;28;43mself\u001B[39;49m\u001B[38;5;241;43m.\u001B[39;49m\u001B[43m_update_chunk_length\u001B[49m\u001B[43m(\u001B[49m\u001B[43m)\u001B[49m\n\u001B[1;32m    768\u001B[0m     \u001B[38;5;28;01mif\u001B[39;00m \u001B[38;5;28mself\u001B[39m\u001B[38;5;241m.\u001B[39mchunk_left \u001B[38;5;241m==\u001B[39m \u001B[38;5;241m0\u001B[39m:\n\u001B[1;32m    769\u001B[0m         \u001B[38;5;28;01mbreak\u001B[39;00m\n",
      "File \u001B[0;32m~/Desktop/itmo-ibd/venv/lib/python3.9/site-packages/urllib3/response.py:697\u001B[0m, in \u001B[0;36mHTTPResponse._update_chunk_length\u001B[0;34m(self)\u001B[0m\n\u001B[1;32m    695\u001B[0m \u001B[38;5;28;01mif\u001B[39;00m \u001B[38;5;28mself\u001B[39m\u001B[38;5;241m.\u001B[39mchunk_left \u001B[38;5;129;01mis\u001B[39;00m \u001B[38;5;129;01mnot\u001B[39;00m \u001B[38;5;28;01mNone\u001B[39;00m:\n\u001B[1;32m    696\u001B[0m     \u001B[38;5;28;01mreturn\u001B[39;00m\n\u001B[0;32m--> 697\u001B[0m line \u001B[38;5;241m=\u001B[39m \u001B[38;5;28;43mself\u001B[39;49m\u001B[38;5;241;43m.\u001B[39;49m\u001B[43m_fp\u001B[49m\u001B[38;5;241;43m.\u001B[39;49m\u001B[43mfp\u001B[49m\u001B[38;5;241;43m.\u001B[39;49m\u001B[43mreadline\u001B[49m\u001B[43m(\u001B[49m\u001B[43m)\u001B[49m\n\u001B[1;32m    698\u001B[0m line \u001B[38;5;241m=\u001B[39m line\u001B[38;5;241m.\u001B[39msplit(\u001B[38;5;124mb\u001B[39m\u001B[38;5;124m\"\u001B[39m\u001B[38;5;124m;\u001B[39m\u001B[38;5;124m\"\u001B[39m, \u001B[38;5;241m1\u001B[39m)[\u001B[38;5;241m0\u001B[39m]\n\u001B[1;32m    699\u001B[0m \u001B[38;5;28;01mtry\u001B[39;00m:\n",
      "File \u001B[0;32m/usr/lib/python3.9/socket.py:704\u001B[0m, in \u001B[0;36mSocketIO.readinto\u001B[0;34m(self, b)\u001B[0m\n\u001B[1;32m    702\u001B[0m \u001B[38;5;28;01mwhile\u001B[39;00m \u001B[38;5;28;01mTrue\u001B[39;00m:\n\u001B[1;32m    703\u001B[0m     \u001B[38;5;28;01mtry\u001B[39;00m:\n\u001B[0;32m--> 704\u001B[0m         \u001B[38;5;28;01mreturn\u001B[39;00m \u001B[38;5;28;43mself\u001B[39;49m\u001B[38;5;241;43m.\u001B[39;49m\u001B[43m_sock\u001B[49m\u001B[38;5;241;43m.\u001B[39;49m\u001B[43mrecv_into\u001B[49m\u001B[43m(\u001B[49m\u001B[43mb\u001B[49m\u001B[43m)\u001B[49m\n\u001B[1;32m    705\u001B[0m     \u001B[38;5;28;01mexcept\u001B[39;00m timeout:\n\u001B[1;32m    706\u001B[0m         \u001B[38;5;28mself\u001B[39m\u001B[38;5;241m.\u001B[39m_timeout_occurred \u001B[38;5;241m=\u001B[39m \u001B[38;5;28;01mTrue\u001B[39;00m\n",
      "\u001B[0;31mKeyboardInterrupt\u001B[0m: "
     ]
    }
   ],
   "source": [
    "# run lupa docker to extract imports\n",
    "docker_client = docker.from_env()\n",
    "docker_client.containers.run('pogrebnoy/ibd-lupa-extract-imports:1.0.0',\n",
    "                                         auto_remove=True,\n",
    "                                         #user=f\"{os.getuid()}\", # Fails lupa with Exception in thread \"main\" java.lang.RuntimeException: Could not create parent directory for lock file /Lupa/?/.gradle/wrapper/dists/gradle-6.8.3-bin/7ykxq50lst7lb7wx1nijpicxn/gradle-6.8.3-bin.zip.lck\n",
    "                                         stderr=True,\n",
    "                                         volumes=docker_volumes)"
   ],
   "metadata": {
    "collapsed": false,
    "pycharm": {
     "name": "#%%\n"
    }
   }
  },
  {
   "cell_type": "code",
   "execution_count": 16,
   "outputs": [
    {
     "name": "stdout",
     "output_type": "stream",
     "text": [
      "+------------+--------------------+\n",
      "|project_name|              import|\n",
      "+------------+--------------------+\n",
      "|    itmo-ibd|                 sys|\n",
      "|    itmo-ibd|            requests|\n",
      "|    itmo-ibd|             logging|\n",
      "|    itmo-ibd|                  os|\n",
      "|    itmo-ibd|          subprocess|\n",
      "|    itmo-ibd|              pandas|\n",
      "|    itmo-ibd|              shutil|\n",
      "|    itmo-ibd|                json|\n",
      "|    itmo-ibd|collections.defau...|\n",
      "|project_name|              import|\n",
      "|    itmo-ibd|                 sys|\n",
      "|    itmo-ibd|            requests|\n",
      "|    itmo-ibd|             logging|\n",
      "|    itmo-ibd|                  os|\n",
      "|    itmo-ibd|          subprocess|\n",
      "|    itmo-ibd|              pandas|\n",
      "|    itmo-ibd|              shutil|\n",
      "|    itmo-ibd|                json|\n",
      "|    itmo-ibd|collections.defau...|\n",
      "+------------+--------------------+\n",
      "\n"
     ]
    }
   ],
   "source": [
    "# Gathering all imports data to one dataset\n",
    "python_imports_dataset = spark.read.csv(os.path.join(PATH_TO_LUPA_PYTHON_OUTPUT, \"import_statements_data.csv\"), header=True).cache()\n",
    "python_imports_dataset.show()"
   ],
   "metadata": {
    "collapsed": false,
    "pycharm": {
     "name": "#%%\n"
    }
   }
  },
  {
   "cell_type": "code",
   "execution_count": 17,
   "outputs": [
    {
     "name": "stdout",
     "output_type": "stream",
     "text": [
      "+------------+------+\n",
      "|project_name|import|\n",
      "+------------+------+\n",
      "|project_name|import|\n",
      "+------------+------+\n",
      "\n"
     ]
    }
   ],
   "source": [
    "kotlin_imports_dataset = spark.read.csv(os.path.join(PATH_TO_LUPA_KOTLIN_OUTPUT, \"import_directives_data.csv\"), header=True).cache()\n",
    "kotlin_imports_dataset.show()"
   ],
   "metadata": {
    "collapsed": false,
    "pycharm": {
     "name": "#%%\n"
    }
   }
  },
  {
   "cell_type": "code",
   "execution_count": 18,
   "outputs": [
    {
     "name": "stdout",
     "output_type": "stream",
     "text": [
      "+------------+--------------------+\n",
      "|project_name|              import|\n",
      "+------------+--------------------+\n",
      "|    itmo-ibd|                 sys|\n",
      "|    itmo-ibd|            requests|\n",
      "|    itmo-ibd|             logging|\n",
      "|    itmo-ibd|                  os|\n",
      "|    itmo-ibd|          subprocess|\n",
      "|    itmo-ibd|              pandas|\n",
      "|    itmo-ibd|              shutil|\n",
      "|    itmo-ibd|                json|\n",
      "|    itmo-ibd|collections.defau...|\n",
      "|project_name|              import|\n",
      "|    itmo-ibd|                 sys|\n",
      "|    itmo-ibd|            requests|\n",
      "|    itmo-ibd|             logging|\n",
      "|    itmo-ibd|                  os|\n",
      "|    itmo-ibd|          subprocess|\n",
      "|    itmo-ibd|              pandas|\n",
      "|    itmo-ibd|              shutil|\n",
      "|    itmo-ibd|                json|\n",
      "|    itmo-ibd|collections.defau...|\n",
      "|project_name|              import|\n",
      "+------------+--------------------+\n",
      "\n"
     ]
    }
   ],
   "source": [
    "imports_dataset = python_imports_dataset.union(kotlin_imports_dataset).cache()\n",
    "imports_dataset.show()"
   ],
   "metadata": {
    "collapsed": false,
    "pycharm": {
     "name": "#%%\n"
    }
   }
  },
  {
   "cell_type": "code",
   "execution_count": 19,
   "outputs": [],
   "source": [
    "PATH_TO_IMPORT_TO_PACKAGE_DATASET=\"/home/Dmitry.Pogrebnoy/Desktop/itmo-ibd/data/full_import_dataset/lupa_import_grouping/output/import_by_package.csv\""
   ],
   "metadata": {
    "collapsed": false,
    "pycharm": {
     "name": "#%%\n"
    }
   }
  },
  {
   "cell_type": "code",
   "execution_count": 20,
   "outputs": [
    {
     "name": "stdout",
     "output_type": "stream",
     "text": [
      "+--------------------+------------------+\n",
      "|              import|           package|\n",
      "+--------------------+------------------+\n",
      "|androidx.appcompa...|androidx.appcompat|\n",
      "|androidx.appcompa...|androidx.appcompat|\n",
      "|androidx.appcompa...|androidx.appcompat|\n",
      "|androidx.appcompa...|androidx.appcompat|\n",
      "|androidx.appcompa...|androidx.appcompat|\n",
      "|androidx.appcompa...|androidx.appcompat|\n",
      "|androidx.appcompa...|androidx.appcompat|\n",
      "|androidx.appcompa...|androidx.appcompat|\n",
      "|androidx.appcompa...|androidx.appcompat|\n",
      "|androidx.appcompa...|androidx.appcompat|\n",
      "|androidx.appcompa...|androidx.appcompat|\n",
      "|androidx.appcompa...|androidx.appcompat|\n",
      "|androidx.appcompa...|androidx.appcompat|\n",
      "|androidx.appcompa...|androidx.appcompat|\n",
      "|androidx.appcompa...|androidx.appcompat|\n",
      "|androidx.appcompa...|androidx.appcompat|\n",
      "|androidx.appcompa...|androidx.appcompat|\n",
      "|androidx.appcompa...|androidx.appcompat|\n",
      "|androidx.appcompa...|androidx.appcompat|\n",
      "|androidx.appcompa...|androidx.appcompat|\n",
      "+--------------------+------------------+\n",
      "only showing top 20 rows\n",
      "\n"
     ]
    }
   ],
   "source": [
    "import_to_package_dataset = spark.read.csv(PATH_TO_IMPORT_TO_PACKAGE_DATASET, header=True)\n",
    "import_to_package_dataset.show()"
   ],
   "metadata": {
    "collapsed": false,
    "pycharm": {
     "name": "#%%\n"
    }
   }
  },
  {
   "cell_type": "code",
   "execution_count": 21,
   "outputs": [
    {
     "data": {
      "text/plain": "{'androidx.appcompat.app.AppCompatActivity': 'androidx.appcompat',\n 'androidx.appcompat.app.ActionBarDrawerToggle': 'androidx.appcompat',\n 'androidx.appcompat.app.AlertDialog': 'androidx.appcompat',\n 'androidx.appcompat.app.AppCompatDelegate': 'androidx.appcompat',\n 'androidx.appcompat.widget.Toolbar': 'androidx.appcompat',\n 'androidx.appcompat.content.res.AppCompatResources': 'androidx.appcompat',\n 'androidx.appcompat.view.ContextThemeWrapper': 'androidx.appcompat',\n 'androidx.appcompat.widget.PopupMenu': 'androidx.appcompat',\n 'androidx.appcompat.graphics.drawable.DrawerArrowDrawable': 'androidx.appcompat',\n 'androidx.appcompat.app.AppCompatDialogFragment': 'androidx.appcompat',\n 'androidx.appcompat.widget.AppCompatImageButton': 'androidx.appcompat',\n 'androidx.appcompat.widget.AppCompatTextView': 'androidx.appcompat',\n 'androidx.appcompat.widget.AppCompatSeekBar': 'androidx.appcompat',\n 'androidx.appcompat.widget.SearchView': 'androidx.appcompat',\n 'androidx.appcompat.widget.SwitchCompat': 'androidx.appcompat',\n 'androidx.appcompat.view.ActionMode': 'androidx.appcompat',\n 'androidx.appcompat.app.AppCompatDialog': 'androidx.appcompat',\n 'androidx.appcompat.widget.AppCompatImageView': 'androidx.appcompat',\n 'androidx.appcompat.widget.AppCompatButton': 'androidx.appcompat',\n 'androidx.appcompat.widget.ListPopupWindow': 'androidx.appcompat',\n 'androidx.appcompat.view.menu.ActionMenuItemView': 'androidx.appcompat',\n 'androidx.appcompat.view.SupportMenuInflater': 'androidx.appcompat',\n 'androidx.appcompat.view.menu.MenuBuilder': 'androidx.appcompat',\n 'androidx.appcompat.content.res.AppCompatResources.getDrawable': 'androidx.appcompat',\n 'androidx.appcompat.widget.ContentFrameLayout': 'androidx.appcompat',\n 'androidx.appcompat.widget.AppCompatEditText': 'androidx.appcompat',\n 'androidx.appcompat.widget.AppCompatSpinner': 'androidx.appcompat',\n 'androidx.appcompat.widget.AppCompatRadioButton': 'androidx.appcompat',\n 'androidx.appcompat.app.ActionBar': 'androidx.appcompat',\n 'androidx.appcompat.app.AppCompatActivity.RESULT_OK': 'androidx.appcompat',\n 'androidx.appcompat.widget.TooltipCompat.setTooltipText': 'androidx.appcompat',\n 'androidx.appcompat.app.AppCompatDelegate.MODE_NIGHT_NO': 'androidx.appcompat',\n 'androidx.appcompat.app.AppCompatDelegate.MODE_NIGHT_YES': 'androidx.appcompat',\n 'androidx.appcompat.app.AppCompatDelegate.setDefaultNightMode': 'androidx.appcompat',\n 'androidx.appcompat.widget.AppCompatAutoCompleteTextView': 'androidx.appcompat',\n 'androidx.appcompat.widget.AppCompatCheckBox': 'androidx.appcompat',\n 'androidx.appcompat.widget.LinearLayoutCompat': 'androidx.appcompat',\n 'androidx.appcompat.app.AppCompatDelegate.MODE_NIGHT_AUTO_BATTERY': 'androidx.appcompat',\n 'androidx.appcompat.app.AppCompatDelegate.MODE_NIGHT_FOLLOW_SYSTEM': 'androidx.appcompat',\n 'androidx.appcompat.widget.ActionMenuView': 'androidx.appcompat',\n 'androidx.appcompat.widget.TooltipCompat': 'androidx.appcompat',\n 'androidx.appcompat.widget.TintTypedArray': 'androidx.appcompat',\n 'androidx.appcompat.view.menu.MenuPopupHelper': 'androidx.appcompat',\n 'androidx.appcompat.app.AlertDialog.Builder': 'androidx.appcompat',\n 'androidx.appcompat.content.res.AppCompatResources.getColorStateList': 'androidx.appcompat',\n 'androidx.appcompat.view.ActionMode.Callback': 'androidx.appcompat',\n 'androidx.appcompat.R': 'androidx.appcompat',\n 'androidx.appcompat.graphics.drawable.DrawableWrapper': 'androidx.appcompat',\n 'android.view.MenuItem': 'android.view',\n 'android.view.KeyEvent': 'android.view',\n 'android.view.Menu': 'android.view',\n 'android.view.View': 'android.view',\n 'android.view.LayoutInflater': 'android.view',\n 'android.view.ViewGroup': 'android.view',\n 'android.view.animation.AccelerateInterpolator': 'android.view',\n 'android.view.animation.DecelerateInterpolator': 'android.view',\n 'android.view.inputmethod.EditorInfo': 'android.view',\n 'android.view.inputmethod.InputMethodManager': 'android.view',\n 'android.view': 'android.view',\n 'android.view.MenuInflater': 'android.view',\n 'android.view.Display': 'android.view',\n 'android.view.Surface': 'android.view',\n 'android.view.WindowManager': 'android.view',\n 'android.view.ViewManager': 'android.view',\n 'android.view.ContextThemeWrapper': 'android.view',\n 'android.view.SubMenu': 'android.view',\n 'android.view.ViewGroup.LayoutParams': 'android.view',\n 'android.view.accessibility.AccessibilityManager': 'android.view',\n 'android.view.accessibility.CaptioningManager': 'android.view',\n 'android.view.textclassifier.TextClassificationManager': 'android.view',\n 'android.view.WindowInsets': 'android.view',\n 'android.view.Gravity': 'android.view',\n 'android.view.animation.Animation': 'android.view',\n 'android.view.animation.AnimationUtils': 'android.view',\n 'android.view.MotionEvent': 'android.view',\n 'android.view.VelocityTracker': 'android.view',\n 'android.view.ViewConfiguration': 'android.view',\n 'android.view.ViewGroup.LayoutParams.WRAP_CONTENT': 'android.view',\n 'android.view.ViewTreeObserver': 'android.view',\n 'android.view.ViewTreeObserver.OnPreDrawListener': 'android.view',\n 'android.view.ViewGroup.MarginLayoutParams': 'android.view',\n 'android.view.View.GONE': 'android.view',\n 'android.view.View.VISIBLE': 'android.view',\n 'android.view.View.OnAttachStateChangeListener': 'android.view',\n 'android.view.ViewOutlineProvider': 'android.view',\n 'android.view.accessibility.AccessibilityEvent': 'android.view',\n 'android.view.Window': 'android.view',\n 'android.view.View.SYSTEM_UI_FLAG_LAYOUT_FULLSCREEN': 'android.view',\n 'android.view.View.SYSTEM_UI_FLAG_LAYOUT_STABLE': 'android.view',\n 'android.view.animation.Interpolator': 'android.view',\n 'android.view.animation.LinearInterpolator': 'android.view',\n 'android.view.ViewGroup.LayoutParams.MATCH_PARENT': 'android.view',\n 'android.view.View.MeasureSpec': 'android.view',\n 'android.view.GestureDetector': 'android.view',\n 'android.view.WindowManager.LayoutParams.SOFT_INPUT_STATE_ALWAYS_VISIBLE': 'android.view',\n 'android.view.View.MeasureSpec.EXACTLY': 'android.view',\n 'android.view.Gravity.CENTER': 'android.view',\n 'android.view.View.OnClickListener': 'android.view',\n 'android.view.View.OnLongClickListener': 'android.view',\n 'android.view.HapticFeedbackConstants': 'android.view',\n 'android.view.View.INVISIBLE': 'android.view',\n 'android.view.animation.AccelerateDecelerateInterpolator': 'android.view',\n 'android.view.animation.AlphaAnimation': 'android.view',\n 'android.view.ScaleGestureDetector': 'android.view',\n 'android.view.ViewParent': 'android.view',\n 'android.view.DragEvent': 'android.view',\n 'android.view.animation.PathInterpolator': 'android.view',\n 'android.view.SoundEffectConstants': 'android.view',\n 'android.view.TouchDelegate': 'android.view',\n 'android.view.accessibility.AccessibilityNodeInfo': 'android.view',\n 'android.view.accessibility.AccessibilityNodeInfo.AccessibilityAction.ACTION_LONG_CLICK': 'android.view',\n 'android.view.textclassifier.TextClassifier': 'android.view',\n 'android.view.MotionEvent.ACTION_UP': 'android.view',\n 'android.view.ViewStub': 'android.view',\n 'android.view.ActionMode': 'android.view',\n 'android.view.WindowManager.LayoutParams.FLAG_SECURE': 'android.view',\n 'android.view.KeyEvent.ACTION_DOWN': 'android.view',\n 'android.view.KeyEvent.KEYCODE_DPAD_LEFT': 'android.view',\n 'android.view.KeyEvent.KEYCODE_DPAD_RIGHT': 'android.view',\n 'android.view.autofill.AutofillManager': 'android.view',\n 'android.view.InputDevice': 'android.view',\n 'android.view.ViewConfiguration.getLongPressTimeout': 'android.view',\n 'android.view.animation.AnticipateOvershootInterpolator': 'android.view',\n 'android.view.MotionEvent.PointerProperties': 'android.view',\n 'android.view.GestureDetector.SimpleOnGestureListener': 'android.view',\n 'android.view.View.OnTouchListener': 'android.view',\n 'android.view.Choreographer': 'android.view',\n 'android.view.inputmethod.InputMethodManager.SHOW_FORCED': 'android.view',\n 'android.view.LayoutInflater.from': 'android.view',\n 'android.view.animation.GridLayoutAnimationController': 'android.view',\n 'android.view.animation.OvershootInterpolator': 'android.view',\n 'android.view.SurfaceHolder': 'android.view',\n 'android.view.SurfaceView': 'android.view',\n 'android.view.ContextMenu': 'android.view',\n 'android.view.PixelCopy': 'android.view',\n 'android.view.ScaleGestureDetector.OnScaleGestureListener': 'android.view',\n 'android.view.ViewDebug.ExportedProperty': 'android.view',\n 'android.view.ViewTreeObserver.OnGlobalLayoutListener': 'android.view',\n 'android.view.animation.TranslateAnimation': 'android.view',\n 'android.view.animation.Transformation': 'android.view',\n 'android.view.View.OnFocusChangeListener': 'android.view',\n 'android.view.animation': 'android.view',\n 'android.view.OrientationEventListener': 'android.view',\n 'android.view.TextureView': 'android.view',\n 'android.view.TextureView.SurfaceTextureListener': 'android.view',\n 'android.view.View.MeasureSpec.getSize': 'android.view',\n 'android.view.View.MeasureSpec.makeMeasureSpec': 'android.view',\n 'android.view.WindowManager.LayoutParams.FLAG_SHOW_WHEN_LOCKED': 'android.view',\n 'android.view.View.MeasureSpec.AT_MOST': 'android.view',\n 'android.view.View.MeasureSpec.UNSPECIFIED': 'android.view',\n 'android.view.WindowManager.LayoutParams': 'android.view',\n 'android.view.MotionEvent.ACTION_DOWN': 'android.view',\n 'android.view.MotionEvent.ACTION_MOVE': 'android.view',\n 'android.view.KeyEvent.KEYCODE_BACK': 'android.view',\n 'android.view.MotionEvent.ACTION_CANCEL': 'android.view',\n 'android.view.View.SYSTEM_UI_FLAG_FULLSCREEN': 'android.view',\n 'android.view.View.OnSystemUiVisibilityChangeListener': 'android.view',\n 'android.view.animation.BounceInterpolator': 'android.view',\n 'android.view.View.LAYER_TYPE_HARDWARE': 'android.view',\n 'android.view.autofill.AutofillId': 'android.view',\n 'android.view.autofill.AutofillValue': 'android.view',\n 'android.view.MotionEvent.ACTION_BUTTON_RELEASE': 'android.view',\n 'android.view.DisplayCutout': 'android.view',\n 'android.view.ViewAnimationUtils': 'android.view',\n 'android.view.ViewTreeObserver.OnGlobalFocusChangeListener': 'android.view',\n 'android.view.textservice.TextServicesManager': 'android.view',\n 'android.view.animation.AnimationUtils.loadAnimation': 'android.view',\n 'android.view.inputmethod.InputConnection': 'android.view',\n 'android.view.inputmethod.InputConnectionWrapper': 'android.view',\n 'android.view.animation.RotateAnimation': 'android.view',\n 'android.view.ViewPropertyAnimator': 'android.view',\n 'android.view.Gravity.BOTTOM': 'android.view',\n 'android.view.Gravity.TOP': 'android.view',\n 'android.view.KeyEvent.ACTION_UP': 'android.view',\n 'android.view.KeyEvent.DispatcherState': 'android.view',\n 'android.view.Gravity.CENTER_VERTICAL': 'android.view',\n 'android.view.WindowManager.LayoutParams.SOFT_INPUT_ADJUST_NOTHING': 'android.view',\n 'android.view.WindowManager.LayoutParams.SOFT_INPUT_ADJUST_RESIZE': 'android.view',\n 'android.view.Window.ID_ANDROID_CONTENT': 'android.view',\n 'android.view.HapticFeedbackConstants.LONG_PRESS': 'android.view',\n 'android.view.MenuItem.SHOW_AS_ACTION_IF_ROOM': 'android.view',\n 'android.view.MenuItem.SHOW_AS_ACTION_NEVER': 'android.view',\n 'android.view.inputmethod.EditorInfo.IME_FLAG_NO_FULLSCREEN': 'android.view',\n 'android.view.Gravity.CENTER_HORIZONTAL': 'android.view',\n 'android.view.WindowManager.LayoutParams.FLAG_DRAWS_SYSTEM_BAR_BACKGROUNDS': 'android.view',\n 'android.view.ViewGroup.OnHierarchyChangeListener': 'android.view',\n 'android.view.inputmethod.EditorInfo.IME_ACTION_GO': 'android.view',\n 'android.view.MenuItem.OnActionExpandListener': 'android.view',\n 'android.view.View.OnLayoutChangeListener': 'android.view',\n 'android.view.animation.Animation.AnimationListener': 'android.view',\n 'android.view.View.SYSTEM_UI_FLAG_LIGHT_NAVIGATION_BAR': 'android.view',\n 'android.view.View.SYSTEM_UI_FLAG_LIGHT_STATUS_BAR': 'android.view',\n 'android.view.accessibility.AccessibilityEvent.TYPE_VIEW_ACCESSIBILITY_FOCUSED': 'android.view',\n 'android.view.accessibility.AccessibilityNodeInfo.ACTION_CLICK': 'android.view',\n 'android.view.LayoutInflater.Factory2': 'android.view',\n 'android.view.animation.ScaleAnimation': 'android.view',\n 'android.view.KeyCharacterMap': 'android.view',\n 'android.view.ContextMenu.ContextMenuInfo': 'android.view',\n 'android.view.KeyEvent.KEYCODE_DPAD_CENTER': 'android.view',\n 'android.Manifest': 'android',\n 'android.R': 'android',\n 'android.mixer': 'android',\n 'android.api_version': 'android',\n 'android.python_act': 'android',\n 'android.remove_presplash': 'android',\n 'android.activity': 'android',\n 'android.mActivity': 'android',\n 'android._ctypes_library_finder': 'android',\n 'android._android_sound': 'android',\n 'android._android': 'android',\n 'android.content.Intent': 'android.content',\n 'android.content': 'android.content',\n 'android.content.Context': 'android.content',\n 'android.content.ClipboardManager': 'android.content',\n 'android.content.ClipData': 'android.content',\n 'android.content.pm.ApplicationInfo': 'android.content',\n 'android.content.pm.PackageInfo': 'android.content',\n 'android.content.pm.PackageManager': 'android.content',\n 'android.content.SharedPreferences': 'android.content',\n 'android.content.BroadcastReceiver': 'android.content',\n 'android.content.IntentFilter': 'android.content',\n 'android.content.ComponentName': 'android.content',\n 'android.content.SharedPreferences.OnSharedPreferenceChangeListener': 'android.content',\n 'android.content.ContentResolver': 'android.content',\n 'android.content.res.Configuration': 'android.content',\n 'android.content.ContentProvider': 'android.content',\n 'android.content.ContentValues': 'android.content',\n 'android.content.ActivityNotFoundException': 'android.content',\n 'android.content.DialogInterface': 'android.content',\n 'android.content.ComponentCallbacks': 'android.content',\n 'android.content.res.Resources': 'android.content',\n 'android.content.ContextWrapper': 'android.content',\n 'android.content.res.AssetManager': 'android.content',\n 'android.content.RestrictionsManager': 'android.content',\n 'android.content.pm.ShortcutManager': 'android.content',\n 'android.content.res.ColorStateList': 'android.content',\n 'android.content.ContentResolver.SCHEME_FILE': 'android.content',\n 'android.content.ContentResolver.SCHEME_ANDROID_RESOURCE': 'android.content',\n 'android.content.pm.PackageManager.PERMISSION_GRANTED': 'android.content',\n 'android.content.ComponentCallbacks2': 'android.content',\n 'android.content.ComponentCallbacks2.TRIM_MEMORY_COMPLETE': 'android.content',\n 'android.content.ContentResolver.EXTRA_SIZE': 'android.content',\n 'android.content.ContentResolver.SCHEME_CONTENT': 'android.content',\n 'android.content.ComponentCallbacks2.TRIM_MEMORY_RUNNING_LOW': 'android.content',\n 'android.content.ComponentCallbacks2.TRIM_MEMORY_UI_HIDDEN': 'android.content',\n 'android.content.ComponentCallbacks2.TRIM_MEMORY_BACKGROUND': 'android.content',\n 'android.content.ContentUris': 'android.content',\n 'android.content.pm.ActivityInfo': 'android.content',\n 'android.content.res.TypedArray': 'android.content',\n 'android.content.res.Resources.NotFoundException': 'android.content',\n 'android.content.Context.CONNECTIVITY_SERVICE': 'android.content',\n 'android.content.Intent.ACTION_VIEW': 'android.content',\n 'android.content.ContentUris.parseId': 'android.content',\n 'android.content.Context.ALARM_SERVICE': 'android.content',\n 'android.content.DialogInterface.BUTTON_NEGATIVE': 'android.content',\n 'android.content.DialogInterface.OnMultiChoiceClickListener': 'android.content',\n 'android.content.res.Configuration.UI_MODE_NIGHT_MASK': 'android.content',\n 'android.content.res.Configuration.UI_MODE_NIGHT_YES': 'android.content',\n 'android.content.pm.LauncherApps': 'android.content',\n 'android.content.pm.ShortcutInfo': 'android.content',\n 'android.content.pm.LauncherApps.ShortcutQuery': 'android.content',\n 'android.content.res.XmlResourceParser': 'android.content',\n 'android.content.res.Resources.Theme': 'android.content',\n 'android.content.pm.ResolveInfo': 'android.content',\n 'android.content.Intent.ACTION_SEND': 'android.content',\n 'android.content.Intent.EXTRA_SUBJECT': 'android.content',\n 'android.content.Intent.EXTRA_TEXT': 'android.content',\n 'android.content.Intent.FLAG_ACTIVITY_MULTIPLE_TASK': 'android.content',\n 'android.content.Intent.FLAG_ACTIVITY_NEW_DOCUMENT': 'android.content',\n 'android.content.Context.MODE_PRIVATE': 'android.content',\n 'android.content.res.Configuration.UI_MODE_NIGHT_NO': 'android.content',\n 'android.content.Intent.FLAG_ACTIVITY_CLEAR_TASK': 'android.content',\n 'android.content.Intent.FLAG_ACTIVITY_NEW_TASK': 'android.content',\n 'android.content.Intent.ACTION_MAIN': 'android.content',\n 'android.content.Intent.FLAG_ACTIVITY_REORDER_TO_FRONT': 'android.content',\n 'android.content.SharedPreferences.Editor': 'android.content',\n 'android.content.Intent.FLAG_ACTIVITY_LAUNCHED_FROM_HISTORY': 'android.content',\n 'android.content.IntentSender': 'android.content',\n 'android.content.Intent.EXTRA_STREAM': 'android.content',\n 'android.content.Intent.EXTRA_TITLE': 'android.content',\n 'android.content.Intent.FLAG_GRANT_READ_URI_PERMISSION': 'android.content',\n 'android.content.Intent.createChooser': 'android.content',\n 'android.content.Context.INPUT_METHOD_SERVICE': 'android.content',\n 'android.content.Context.NOTIFICATION_SERVICE': 'android.content',\n 'android.content.Intent.makeMainActivity': 'android.content',\n 'android.content.res.Configuration.ORIENTATION_PORTRAIT': 'android.content',\n 'android.content.DialogInterface.BUTTON_POSITIVE': 'android.content',\n 'android.content.Context.ACTIVITY_SERVICE': 'android.content',\n 'android.content.Context.SHORTCUT_SERVICE': 'android.content',\n 'android.content.ServiceConnection': 'android.content',\n 'android.content.pm.Signature': 'android.content',\n 'android.content.res.ColorStateList.valueOf': 'android.content',\n 'android.content.res.Configuration.ORIENTATION_LANDSCAPE': 'android.content',\n 'android.content.Context.WINDOW_SERVICE': 'android.content',\n 'android.content.DialogInterface.OnShowListener': 'android.content',\n 'android.content.MutableContextWrapper': 'android.content',\n 'android.content.Context.MEDIA_PROJECTION_SERVICE': 'android.content',\n 'android.content.res.AssetFileDescriptor': 'android.content',\n 'android.content.Intent.FLAG_ACTIVITY_CLEAR_TOP': 'android.content',\n 'android.content.Intent.FLAG_ACTIVITY_SINGLE_TOP': 'android.content',\n 'android.content.Intent.ACTION_SCREEN_OFF': 'android.content',\n 'android.content.Intent.ACTION_SCREEN_ON': 'android.content',\n 'android.content.Context.UI_MODE_SERVICE': 'android.content',\n 'android.content.pm.PackageManager.COMPONENT_ENABLED_STATE_DISABLED': 'android.content',\n 'android.content.pm.PackageManager.COMPONENT_ENABLED_STATE_ENABLED': 'android.content',\n 'android.content.pm.PackageManager.DONT_KILL_APP': 'android.content',\n 'android.content.pm.ShortcutInfo.Builder': 'android.content',\n 'android.content.pm.ProviderInfo': 'android.content',\n 'android.content.pm.ServiceInfo': 'android.content',\n 'android.content.pm.PackageInstaller': 'android.content',\n 'android.content.Context.NFC_SERVICE': 'android.content',\n 'android.content.ContentProviderClient': 'android.content',\n 'android.content.Intent.ACTION_GET_CONTENT': 'android.content',\n 'android.content.Intent.ACTION_OPEN_DOCUMENT': 'android.content',\n 'android.content.Intent.CATEGORY_OPENABLE': 'android.content',\n 'android.content.Context.JOB_SCHEDULER_SERVICE': 'android.content',\n 'android.content.Intent.ACTION_BOOT_COMPLETED': 'android.content',\n 'android.content.SearchRecentSuggestionsProvider': 'android.content',\n 'android.content.UriMatcher': 'android.content',\n 'android.content.pm.PackageManager.NameNotFoundException': 'android.content',\n 'android.content.DialogInterface.OnClickListener': 'android.content',\n 'android.content.DialogInterface.BUTTON_NEUTRAL': 'android.content',\n 'android.net.Uri': 'android.net',\n 'android.net.VpnService': 'android.net',\n 'android.net': 'android.net',\n 'android.net.ConnectivityManager': 'android.net',\n 'android.net.wifi.WifiManager': 'android.net',\n 'android.net.wifi.p2p.WifiP2pManager': 'android.net',\n 'android.net.nsd.NsdManager': 'android.net',\n 'android.net.wifi.aware.WifiAwareManager': 'android.net',\n 'android.net.Network': 'android.net',\n 'android.net.NetworkCapabilities': 'android.net',\n 'android.net.NetworkRequest': 'android.net',\n 'android.net.NetworkCapabilities.NET_CAPABILITY_INTERNET': 'android.net',\n 'android.net.wifi.WifiConfiguration': 'android.net',\n 'android.net.InetAddresses': 'android.net',\n 'android.net.ConnectivityManager.TYPE_MOBILE': 'android.net',\n 'android.net.ConnectivityManager.TYPE_WIFI': 'android.net',\n 'android.net.NetworkInfo': 'android.net',\n 'android.net.NetworkInfo.State.CONNECTED': 'android.net',\n 'android.net.wifi.WifiInfo': 'android.net',\n 'android.net.TrafficStats': 'android.net',\n 'android.net.http.SslError': 'android.net',\n 'android.net.ParseException': 'android.net',\n 'android.net.wifi.WifiManager.UNKNOWN_SSID': 'android.net',\n 'android.net.ssl.SSLSockets': 'android.net',\n 'android.net.http.X509TrustManagerExtensions': 'android.net',\n 'android.net.DnsResolver': 'android.net',\n 'android.net.Uri.fromFile': 'android.net',\n 'android.net.http.HttpResponseCache': 'android.net',\n 'android.os.Bundle': 'android.os',\n 'android.os.Handler': 'android.os',\n 'android.os.Looper': 'android.os',\n 'android.os.SystemClock': 'android.os',\n 'android.os.Build': 'android.os',\n 'android.os.ParcelFileDescriptor': 'android.os',\n 'android.os.StrictMode': 'android.os',\n 'android.os.IBinder': 'android.os',\n 'android.os.Environment': 'android.os',\n 'android.os.PersistableBundle': 'android.os',\n 'android.os.DropBoxManager': 'android.os',\n 'android.os.Process': 'android.os',\n 'android.os.Debug': 'android.os',\n 'android.os.StatFs': 'android.os',\n 'android.os.Parcelable': 'android.os',\n 'android.os.PowerManager': 'android.os',\n 'android.os.storage.StorageManager': 'android.os',\n 'android.os.UserManager': 'android.os',\n 'android.os.BatteryManager': 'android.os',\n 'android.os.HardwarePropertiesManager': 'android.os',\n 'android.os.health.SystemHealthManager': 'android.os',\n 'android.os.Build.VERSION.SDK_INT': 'android.os',\n 'android.os.NetworkOnMainThreadException': 'android.os',\n 'android.os.StrictMode.ThreadPolicy': 'android.os',\n 'android.os.Parcel': 'android.os',\n 'android.os.AsyncTask': 'android.os',\n 'android.os.Build.VERSION': 'android.os',\n 'android.os.Build.VERSION_CODES': 'android.os',\n 'android.os.HandlerThread': 'android.os',\n 'android.os.VibrationEffect': 'android.os',\n 'android.os.Vibrator': 'android.os',\n 'android.os.Parcelable.ClassLoaderCreator': 'android.os',\n 'android.os.UserHandle': 'android.os',\n 'android.os': 'android.os',\n 'android.os.strictmode.Violation': 'android.os',\n 'android.os.Build.VERSION_CODES.M': 'android.os',\n 'android.os.Build.VERSION_CODES.N': 'android.os',\n 'android.os.Build.VERSION_CODES.P': 'android.os',\n 'android.os.SystemClock.sleep': 'android.os',\n 'android.os.StrictMode.VmPolicy': 'android.os',\n 'android.os.StrictMode.setThreadPolicy': 'android.os',\n 'android.os.StrictMode.setVmPolicy': 'android.os',\n 'android.os.Build.VERSION_CODES.O': 'android.os',\n 'android.os.CountDownTimer': 'android.os',\n 'android.os.Build.MANUFACTURER': 'android.os',\n 'android.os.Build.MODEL': 'android.os',\n 'android.os.Build.VERSION_CODES.LOLLIPOP': 'android.os',\n 'android.os.Build.VERSION_CODES.KITKAT': 'android.os',\n 'android.os.Binder': 'android.os',\n 'android.os.Message': 'android.os',\n 'android.os.PowerManager.ACQUIRE_CAUSES_WAKEUP': 'android.os',\n 'android.os.PowerManager.FULL_WAKE_LOCK': 'android.os',\n 'android.os.PowerManager.ON_AFTER_RELEASE': 'android.os',\n 'android.os.strictmode.DiskReadViolation': 'android.os',\n 'android.os.strictmode.UntaggedSocketViolation': 'android.os',\n 'android.os.Build.VERSION_CODES.JELLY_BEAN_MR1': 'android.os',\n 'android.os.RemoteException': 'android.os',\n 'android.os.VibratorManager': 'android.os',\n 'android.os.BaseBundle': 'android.os',\n 'android.os.DeadObjectException': 'android.os',\n 'android.os.FileUtils': 'android.os',\n 'android.os.CancellationSignal': 'android.os',\n 'android.os.ParcelFormatException': 'android.os',\n 'android.os.ResultReceiver': 'android.os',\n 'android.os.Process.THREAD_PRIORITY_BACKGROUND': 'android.os',\n 'android.os.MessageQueue.IdleHandler': 'android.os',\n 'android.os.Environment.DIRECTORY_DOWNLOADS': 'android.os',\n 'android.os.Build.VERSION_CODES.JELLY_BEAN': 'android.os',\n 'android.os.Handler.Callback': 'android.os',\n 'android.os.TransactionTooLargeException': 'android.os',\n 'android.os.Parcelable.Creator': 'android.os',\n 'android.os.ParcelFileDescriptor.AutoCloseInputStream': 'android.os',\n 'android.os.BadParcelableException': 'android.os',\n 'android.os.Environment.getExternalStorageDirectory': 'android.os',\n 'android.os.AsyncTask.Status': 'android.os',\n 'android.os.LocaleList': 'android.os',\n 'com.google.android.material.navigation.NavigationView': 'com.google.android',\n 'com.google.android.material.tabs.TabLayoutMediator': 'com.google.android',\n 'com.google.android.material.dialog.MaterialAlertDialogBuilder': 'com.google.android',\n 'com.google.android.material.textfield.TextInputLayout': 'com.google.android',\n 'com.google.android.material.bottomsheet.BottomSheetDialogFragment': 'com.google.android',\n 'com.google.android.material.textfield.TextInputEditText': 'com.google.android',\n 'com.google.android.material.appbar.MaterialToolbar': 'com.google.android',\n 'com.google.android.material.internal.TextWatcherAdapter': 'com.google.android',\n 'com.google.android.material.snackbar.Snackbar': 'com.google.android',\n 'com.google.android.apps.flexbox.R': 'com.google.android',\n 'com.google.android.material.floatingactionbutton.FloatingActionButton': 'com.google.android',\n 'com.google.android.gms.maps.model.BitmapDescriptorFactory': 'com.google.android',\n 'com.google.android.gms.maps.MapView': 'com.google.android',\n 'com.google.android.gms.maps.CameraUpdate': 'com.google.android',\n 'com.google.android.gms.maps.CameraUpdateFactory': 'com.google.android',\n 'com.google.android.gms.maps.GoogleMap': 'com.google.android',\n 'com.google.android.gms.maps.model.LatLngBounds': 'com.google.android',\n 'com.google.android.gms.maps.model.UrlTileProvider': 'com.google.android',\n 'com.google.android.gms.maps.model.MapStyleOptions': 'com.google.android',\n 'com.google.android.gms.maps.model.TileOverlayOptions': 'com.google.android',\n 'com.google.android.material.button.MaterialButton': 'com.google.android',\n 'com.google.android.flexbox.FlexboxItemDecoration': 'com.google.android',\n 'com.google.android.material.chip.Chip': 'com.google.android',\n 'com.google.android.material.appbar.AppBarLayout': 'com.google.android',\n 'com.google.android.material.appbar.AppBarLayout.OnOffsetChangedListener': 'com.google.android',\n 'com.google.android.flexbox.FlexboxLayoutManager': 'com.google.android',\n 'com.google.android.material.navigationrail.NavigationRailView': 'com.google.android',\n 'com.google.android.gms.auth.api.signin.GoogleSignInOptions': 'com.google.android',\n 'com.google.android.material.color.MaterialColors': 'com.google.android',\n 'com.google.android.material.bottomappbar.BottomAppBar': 'com.google.android',\n 'com.google.android.material.card.MaterialCardView': 'com.google.android',\n 'com.google.android.gms.maps.model.LatLng': 'com.google.android',\n 'com.google.android.gms.tasks.Tasks': 'com.google.android',\n 'com.google.android.gms.tasks.Task': 'com.google.android',\n 'com.google.android.material.bottomsheet.BottomSheetBehavior': 'com.google.android',\n 'com.google.android.material.bottomsheet.BottomSheetDialog': 'com.google.android',\n 'com.google.android.material.bottomnavigation.BottomNavigationItemView': 'com.google.android',\n 'com.google.android.material.bottomnavigation.BottomNavigationMenuView': 'com.google.android',\n 'com.google.android.material.snackbar.BaseTransientBottomBar': 'com.google.android',\n 'com.google.android.play.core.splitcompat.SplitCompatApplication': 'com.google.android',\n 'com.google.android.exoplayer2.C': 'com.google.android',\n 'com.google.android.exoplayer2.MediaItem': 'com.google.android',\n 'com.google.android.exoplayer2.Player': 'com.google.android',\n 'com.google.android.exoplayer2.SimpleExoPlayer': 'com.google.android',\n 'com.google.android.exoplayer2.source.MediaSource': 'com.google.android',\n 'com.google.android.exoplayer2.source.ProgressiveMediaSource': 'com.google.android',\n 'com.google.android.exoplayer2.source.hls.HlsMediaSource': 'com.google.android',\n 'com.google.android.exoplayer2.trackselection.AdaptiveTrackSelection': 'com.google.android',\n 'com.google.android.exoplayer2.trackselection.DefaultTrackSelector': 'com.google.android',\n 'com.google.android.exoplayer2.upstream.DefaultHttpDataSource': 'com.google.android',\n 'com.google.android.exoplayer2.util.Util': 'com.google.android',\n 'com.google.android.material.tabs.TabLayout': 'com.google.android',\n 'com.google.android.material.tabs.TabLayout.OnTabSelectedListener': 'com.google.android',\n 'com.google.android.material.bottomsheet.BottomSheetBehavior.BottomSheetCallback': 'com.google.android',\n 'com.google.android.play.core.review.ReviewInfo': 'com.google.android',\n 'com.google.android.play.core.review.ReviewManagerFactory': 'com.google.android',\n 'com.google.android.gms.common.ConnectionResult': 'com.google.android',\n 'com.google.android.gms.common.GoogleApiAvailability': 'com.google.android',\n 'com.google.android.gms.tasks.OnCompleteListener': 'com.google.android',\n 'com.google.android.gms.common.util.Base64Utils': 'com.google.android',\n 'com.google.android.material.color.DynamicColors': 'com.google.android',\n 'com.google.android.material.shape.CornerFamily': 'com.google.android',\n 'com.google.android.material.shape.ShapeAppearanceModel': 'com.google.android',\n 'com.google.android.material.shape.MaterialShapeDrawable': 'com.google.android',\n 'com.google.android.material.switchmaterial.SwitchMaterial': 'com.google.android',\n 'com.google.android.material.R': 'com.google.android',\n 'com.google.android.material.bottomsheet.BottomSheetBehavior.STATE_HIDDEN': 'com.google.android',\n 'com.google.android.material.floatingactionbutton.ExtendedFloatingActionButton': 'com.google.android',\n 'com.google.android.gms.ads.identifier.AdvertisingIdClient': 'com.google.android',\n 'com.google.android.gms.common.GooglePlayServicesNotAvailableException': 'com.google.android',\n 'com.google.android.gms.common.GooglePlayServicesRepairableException': 'com.google.android',\n 'com.google.android.material.snackbar.ContentViewCallback': 'com.google.android',\n 'com.google.android.play.core.review.ReviewManager': 'com.google.android',\n 'com.google.android.material.bottomsheet.BottomSheetBehavior.STATE_COLLAPSED': 'com.google.android',\n 'com.google.android.material.bottomsheet.BottomSheetBehavior.STATE_DRAGGING': 'com.google.android',\n 'com.google.android.material.bottomsheet.BottomSheetBehavior.STATE_EXPANDED': 'com.google.android',\n 'com.google.android.material.bottomsheet.BottomSheetBehavior.STATE_HALF_EXPANDED': 'com.google.android',\n 'com.google.android.material.bottomsheet.BottomSheetBehavior.STATE_SETTLING': 'com.google.android',\n 'com.google.android.material.snackbar.Snackbar.LENGTH_SHORT': 'com.google.android',\n 'com.google.android.gms.auth.api.signin.GoogleSignIn': 'com.google.android',\n 'com.google.android.gms.auth.api.signin.GoogleSignInClient': 'com.google.android',\n 'com.google.android.material.transition.MaterialElevationScale': 'com.google.android',\n 'com.google.android.material.transition.MaterialFadeThrough': 'com.google.android',\n 'com.google.android.material.bottomnavigation.BottomNavigationView': 'com.google.android',\n 'com.google.android.gms.common.api.ApiException': 'com.google.android',\n 'com.google.android.gms.auth.api.signin.GoogleSignInAccount': 'com.google.android',\n 'com.google.android.gms.location.LocationServices': 'com.google.android',\n 'com.google.android.gms.tasks.RuntimeExecutionException': 'com.google.android',\n 'com.google.android.libraries.places.api.model.Place': 'com.google.android',\n 'com.google.android.libraries.places.api.model.RectangularBounds': 'com.google.android',\n 'com.google.android.libraries.places.api.net.FetchPlaceRequest': 'com.google.android',\n 'com.google.android.libraries.places.api.net.FindAutocompletePredictionsRequest': 'com.google.android',\n 'com.google.android.libraries.places.api.net.FindAutocompletePredictionsResponse': 'com.google.android',\n 'com.google.android.libraries.places.api.net.PlacesClient': 'com.google.android',\n 'com.google.android.gms.common.api.GoogleApiClient': 'com.google.android',\n 'com.google.android.gms.location.LocationListener': 'com.google.android',\n 'com.google.android.gms.maps.GoogleMap.MAP_TYPE_NORMAL': 'com.google.android',\n 'com.google.android.gms.maps.GoogleMap.MAP_TYPE_SATELLITE': 'com.google.android',\n 'com.google.android.gms.maps.OnMapReadyCallback': 'com.google.android',\n 'com.google.android.gms.maps.SupportMapFragment': 'com.google.android',\n 'com.google.android.gms.maps.model.CameraPosition': 'com.google.android',\n 'com.google.android.gms.maps.model.Marker': 'com.google.android',\n 'com.google.android.gms.maps.model.MarkerOptions': 'com.google.android',\n 'com.google.android.libraries.places.api.Places': 'com.google.android',\n 'com.google.android.material.transition.platform.Hold': 'com.google.android',\n 'com.google.android.material.transition.platform.MaterialElevationScale': 'com.google.android',\n 'com.google.android.material.transition.platform.MaterialArcMotion': 'com.google.android',\n 'com.google.android.material.transition.platform.MaterialContainerTransform': 'com.google.android',\n 'com.google.android.material.bottomsheet.BottomSheetBehavior.from': 'com.google.android',\n 'com.google.android.material.tabs.TabLayout.Tab': 'com.google.android',\n 'com.google.android.material.datepicker.MaterialDatePicker': 'com.google.android',\n 'com.google.android.material.timepicker.MaterialTimePicker': 'com.google.android',\n 'com.google.android.gms.ads.AdRequest': 'com.google.android',\n 'com.google.android.gms.ads.AdSize': 'com.google.android',\n 'com.google.android.gms.ads.AdView': 'com.google.android',\n 'com.google.android.libraries.maps.CameraUpdateFactory': 'com.google.android',\n 'com.google.android.libraries.maps.MapView': 'com.google.android',\n 'com.google.android.libraries.maps.model.LatLng': 'com.google.android',\n 'com.google.android.libraries.maps.model.MarkerOptions': 'com.google.android',\n 'com.google.android.gms.ads.MobileAds': 'com.google.android',\n 'com.google.android.exoplayer2.ui.AspectRatioFrameLayout': 'com.google.android',\n 'com.google.android.exoplayer2.ui.PlayerView': 'com.google.android',\n 'com.google.android.exoplayer2.upstream.DefaultDataSourceFactory': 'com.google.android',\n 'com.google.android.exoplayer2': 'com.google.android',\n 'com.google.android.exoplayer2.source.TrackGroupArray': 'com.google.android',\n 'com.google.android.exoplayer2.trackselection.TrackSelectionArray': 'com.google.android',\n 'com.google.android.exoplayer2.util.MimeTypes': 'com.google.android',\n 'com.google.android.gms.tasks': 'com.google.android',\n 'com.google.android.gms.tasks.OnFailureListener': 'com.google.android',\n 'com.google.android.gms.tasks.OnSuccessListener': 'com.google.android',\n 'com.google.android.material.chip.ChipDrawable': 'com.google.android',\n 'com.google.android.gms.tasks.TaskExecutors': 'com.google.android',\n 'com.google.android.material.chip.ChipGroup': 'com.google.android',\n 'com.google.android.material.appbar.CollapsingToolbarLayout': 'com.google.android',\n 'com.google.android.material.transition.MaterialSharedAxis': 'com.google.android',\n 'com.google.android.material.progressindicator.CircularProgressIndicator': 'com.google.android',\n 'com.google.android.material.elevation.SurfaceColors': 'com.google.android',\n 'com.google.android.play.core.tasks.Task': 'com.google.android',\n 'com.google.android.play.core.ktx.hasTerminalStatus': 'com.google.android',\n 'com.google.android.play.core.splitinstall.SplitInstallManager': 'com.google.android',\n 'com.google.android.play.core.splitinstall.SplitInstallManagerFactory': 'com.google.android',\n 'com.google.android.play.core.splitinstall.SplitInstallRequest': 'com.google.android',\n 'com.google.android.play.core.splitinstall.SplitInstallSessionState': 'com.google.android',\n 'com.google.android.play.core.splitinstall.SplitInstallStateUpdatedListener': 'com.google.android',\n 'com.google.android.play.core.splitcompat.SplitCompat': 'com.google.android',\n 'com.google.android.gms.common.api.Scope': 'com.google.android',\n 'com.google.android.material.floatingactionbutton.FloatingActionButton.OnVisibilityChangedListener': 'com.google.android',\n 'com.google.android.gms.oss.licenses.OssLicensesMenuActivity': 'com.google.android',\n 'com.google.android.play.core.splitinstall.model.SplitInstallSessionStatus': 'com.google.android',\n 'com.google.android.libraries.places.api.model.AutocompleteSessionToken': 'com.google.android',\n 'com.google.android.libraries.places.api.model.TypeFilter': 'com.google.android',\n 'com.google.android.libraries.places.api.net.FetchPlaceResponse': 'com.google.android',\n 'com.google.android.material.shape.RoundedCornerTreatment': 'com.google.android',\n 'com.google.android.material.shape.ShapeAppearancePathProvider': 'com.google.android',\n 'com.google.android.material.shape.EdgeTreatment': 'com.google.android',\n 'com.google.android.material.shape.ShapePath': 'com.google.android',\n 'com.google.android.gms.recaptcha.Recaptcha': 'com.google.android',\n 'com.google.android.gms.recaptcha.RecaptchaAction': 'com.google.android',\n 'com.google.android.gms.recaptcha.RecaptchaActionType': 'com.google.android',\n 'com.google.android.gms.recaptcha.RecaptchaHandle': 'com.google.android',\n 'com.google.android.gms.recaptcha.RecaptchaResultData': 'com.google.android',\n 'com.google.android.play.core.appupdate.AppUpdateInfo': 'com.google.android',\n 'com.google.android.play.core.appupdate.AppUpdateManager': 'com.google.android',\n 'com.google.android.play.core.install.model.AppUpdateType': 'com.google.android',\n 'com.google.android.play.core.install.model.UpdateAvailability': 'com.google.android',\n 'com.google.android.play.core.appupdate.AppUpdateManagerFactory': 'com.google.android',\n 'com.google.android.play.core.install.InstallState': 'com.google.android',\n 'com.google.android.play.core.install.InstallStateUpdatedListener': 'com.google.android',\n 'com.google.android.play.core.install.model.InstallStatus': 'com.google.android',\n 'com.google.android.gms.security.ProviderInstaller': 'com.google.android',\n 'com.google.android.play.core.missingsplits.MissingSplitsManagerFactory': 'com.google.android',\n 'com.google.android.gms.wallet.AutoResolveHelper': 'com.google.android',\n 'com.google.android.gms.wallet.IsReadyToPayRequest': 'com.google.android',\n 'com.google.android.gms.wallet.PaymentDataRequest': 'com.google.android',\n 'com.google.android.gms.wallet.PaymentsClient': 'com.google.android',\n 'com.google.android.gms.wallet.Wallet': 'com.google.android',\n 'com.google.android.gms.wallet.WalletConstants': 'com.google.android',\n 'com.google.android.gms.wallet.PaymentData': 'com.google.android',\n 'com.google.android.material.textview.MaterialTextView': 'com.google.android',\n 'com.google.android.material.dialog.MaterialDialogs': 'com.google.android',\n 'com.google.android.flexbox.FlexDirection': 'com.google.android',\n 'com.google.android.flexbox.JustifyContent': 'com.google.android',\n 'com.google.android.gms.location': 'com.google.android',\n 'com.google.android.gms.maps': 'com.google.android',\n 'com.google.android.gms.maps.GoogleMap.OnCameraMoveStartedListener.REASON_GESTURE': 'com.google.android',\n 'com.google.android.gms.maps.model': 'com.google.android',\n 'com.google.android.gms.location.GeofencingEvent': 'com.google.android',\n 'com.google.android.gms.location.LocationAvailability': 'com.google.android',\n 'com.google.android.gms.location.LocationResult': 'com.google.android',\n 'com.google.android.gms.location.FusedLocationProviderClient': 'com.google.android',\n 'com.google.android.flexbox.AlignItems': 'com.google.android',\n 'com.google.android.material.bottomnavigation.LabelVisibilityMode': 'com.google.android',\n 'com.google.android.gms.auth.api.Auth': 'com.google.android',\n 'com.google.android.material.navigation.NavigationBarView': 'com.google.android',\n 'com.google.android.material.transition.platform.MaterialContainerTransformSharedElementCallback': 'com.google.android',\n 'com.google.android.material.datepicker.CalendarConstraints': 'com.google.android',\n 'com.google.android.material.datepicker.DateValidatorPointBackward': 'com.google.android',\n 'com.google.android.material.datepicker.DateValidatorPointForward': 'com.google.android',\n 'com.google.android.material.progressindicator.BaseProgressIndicator': 'com.google.android',\n 'com.google.android.material.badge.BadgeDrawable': 'com.google.android',\n 'com.google.android.material.slider.Slider': 'com.google.android',\n 'com.google.android.material.elevation.ElevationOverlayProvider': 'com.google.android',\n 'com.google.android.material.composethemeadapter3.createMdc3Theme': 'com.google.android',\n 'com.google.android.material.bottomnavigation.BottomNavigationView.OnNavigationItemSelectedListener': 'com.google.android',\n 'com.google.android.material.shape.ShapePathModel': 'com.google.android',\n 'com.google.android.material.transition.MaterialArcMotion': 'com.google.android',\n 'com.google.android.material.transition.MaterialContainerTransform': 'com.google.android',\n 'com.google.android.material.animation.AnimationUtils': 'com.google.android',\n 'com.google.android.exoplayer2.ExoPlayerFactory': 'com.google.android',\n 'com.google.android.exoplayer2.source.ExtractorMediaSource': 'com.google.android',\n 'com.google.android.material.transition.MaterialContainerTransform.FADE_MODE_OUT': 'com.google.android',\n 'com.google.android.material.transition.MaterialContainerTransform.ProgressThresholds': 'com.google.android',\n 'com.google.android.material.snackbar.Snackbar.SnackbarLayout': 'com.google.android',\n 'com.google.android.material.tabs.TabLayoutMediator.TabConfigurationStrategy': 'com.google.android',\n 'com.google.android.material.bottomnavigation.BottomNavigationView.OnNavigationItemReselectedListener': 'com.google.android',\n 'com.google.android.exoplayer2.C.ContentType': 'com.google.android',\n 'com.google.android.exoplayer2.offline.FilteringManifestParser': 'com.google.android',\n 'com.google.android.exoplayer2.source.dash.DashMediaSource.Factory': 'com.google.android',\n 'com.google.android.exoplayer2.source.dash.manifest.DashManifestParser': 'com.google.android',\n 'com.google.android.exoplayer2.source.hls.playlist.DefaultHlsPlaylistParserFactory': 'com.google.android',\n 'com.google.android.exoplayer2.source.smoothstreaming.SsMediaSource': 'com.google.android',\n 'com.google.android.exoplayer2.source.smoothstreaming.manifest.SsManifestParser': 'com.google.android',\n 'com.google.android.exoplayer2.upstream.DefaultHttpDataSourceFactory': 'com.google.android',\n 'com.google.android.material.appbar.AppBarLayout.LayoutParams': 'com.google.android',\n 'com.google.android.flexbox.FlexWrap': 'com.google.android',\n 'com.google.android.material.snackbar.Snackbar.Callback.DISMISS_EVENT_SWIPE': 'com.google.android',\n 'com.google.android.flexbox.FlexboxLayout': 'com.google.android',\n 'com.google.android.material.snackbar.Snackbar.Callback': 'com.google.android',\n 'com.google.android.material.animation.ArgbEvaluatorCompat': 'com.google.android',\n 'com.google.android.exoplayer2.ext.okhttp.OkHttpDataSourceFactory': 'com.google.android',\n 'com.google.android.exoplayer2.extractor.DefaultExtractorsFactory': 'com.google.android',\n 'com.google.android.exoplayer2.extractor.ExtractorsFactory': 'com.google.android',\n 'com.google.android.exoplayer2.upstream.DataSource': 'com.google.android',\n 'com.google.android.exoplayer2.upstream.HttpDataSource': 'com.google.android',\n 'com.google.android.exoplayer2.database.StandaloneDatabaseProvider': 'com.google.android',\n 'com.google.android.exoplayer2.upstream.cache.LeastRecentlyUsedCacheEvictor': 'com.google.android',\n 'com.google.android.exoplayer2.upstream.cache.SimpleCache': 'com.google.android',\n 'com.google.android.exoplayer2.upstream.DefaultBandwidthMeter': 'com.google.android',\n 'com.google.android.exoplayer2.upstream.DefaultDataSource': 'com.google.android',\n 'com.google.android.exoplayer2.upstream.FileDataSource': 'com.google.android',\n 'com.google.android.exoplayer2.upstream.cache.CacheDataSink': 'com.google.android',\n 'com.google.android.exoplayer2.upstream.cache.CacheDataSource': 'com.google.android',\n 'com.google.android.renderscript.Toolkit': 'com.google.android',\n 'com.google.android.exoplayer2.ExoPlayer': 'com.google.android',\n 'com.google.android.exoplayer2.ext.okhttp.OkHttpDataSource': 'com.google.android',\n 'com.google.android.exoplayer2.source.DefaultMediaSourceFactory': 'com.google.android',\n 'com.google.android.exoplayer2.ui.StyledPlayerView': 'com.google.android',\n 'androidx.core.view.GravityCompat': 'androidx.core',\n 'androidx.core.content.ContextCompat': 'androidx.core',\n 'androidx.core.app.NotificationCompat': 'androidx.core',\n 'androidx.core.app.RemoteInput': 'androidx.core',\n 'androidx.core.app.ShareCompat': 'androidx.core',\n 'androidx.core.content.edit': 'androidx.core',\n 'androidx.core.view.isVisible': 'androidx.core',\n 'androidx.core.widget.addTextChangedListener': 'androidx.core',\n 'androidx.core.content.res.ResourcesCompat': 'androidx.core',\n 'androidx.core.view.drawToBitmap': 'androidx.core',\n 'androidx.core.view.ViewCompat': 'androidx.core',\n 'androidx.core.widget.TextViewCompat': 'androidx.core',\n 'androidx.core.app.NotificationManagerCompat': 'androidx.core',\n 'androidx.core.content.getSystemService': 'androidx.core',\n 'androidx.core.view.iterator': 'androidx.core',\n 'androidx.core.text.HtmlCompat': 'androidx.core',\n 'androidx.core.os.bundleOf': 'androidx.core',\n 'androidx.core.net.toUri': 'androidx.core',\n 'androidx.core.graphics.decodeDrawable': 'androidx.core',\n 'androidx.core.util.component1': 'androidx.core',\n 'androidx.core.util.component2': 'androidx.core',\n 'androidx.core.graphics.createBitmap': 'androidx.core',\n 'androidx.core.graphics.withSave': 'androidx.core',\n 'androidx.core.graphics.drawable.toBitmap': 'androidx.core',\n 'androidx.core.graphics.drawable.toDrawable': 'androidx.core',\n 'androidx.core.graphics.component1': 'androidx.core',\n 'androidx.core.graphics.component2': 'androidx.core',\n 'androidx.core.graphics.component3': 'androidx.core',\n 'androidx.core.graphics.component4': 'androidx.core',\n 'androidx.core.graphics.applyCanvas': 'androidx.core',\n 'androidx.core.view.setPadding': 'androidx.core',\n 'androidx.core.view.updateLayoutParams': 'androidx.core',\n 'androidx.core.graphics.alpha': 'androidx.core',\n 'androidx.core.graphics.blue': 'androidx.core',\n 'androidx.core.graphics.green': 'androidx.core',\n 'androidx.core.graphics.red': 'androidx.core',\n 'androidx.core.view.WindowInsetsCompat': 'androidx.core',\n 'androidx.core.view.WindowCompat': 'androidx.core',\n 'androidx.core.view.updatePadding': 'androidx.core',\n 'androidx.core.graphics.toColorInt': 'androidx.core',\n 'androidx.core.widget.CompoundButtonCompat': 'androidx.core',\n 'androidx.core.view.marginBottom': 'androidx.core',\n 'androidx.core.widget.NestedScrollView': 'androidx.core',\n 'androidx.core.view.doOnLayout': 'androidx.core',\n 'androidx.core.content.res.getColorOrThrow': 'androidx.core',\n 'androidx.core.content.res.getDimensionOrThrow': 'androidx.core',\n 'androidx.core.content.res.getDimensionPixelSizeOrThrow': 'androidx.core',\n 'androidx.core.content.res.getResourceIdOrThrow': 'androidx.core',\n 'androidx.core.graphics.withTranslation': 'androidx.core',\n 'androidx.core.view.forEach': 'androidx.core',\n 'androidx.core.view.doOnNextLayout': 'androidx.core',\n 'androidx.core.os.trace': 'androidx.core',\n 'androidx.core.view.MenuItemCompat': 'androidx.core',\n 'androidx.core.view.isGone': 'androidx.core',\n 'androidx.core.text.HtmlCompat.FROM_HTML_MODE_LEGACY': 'androidx.core',\n 'androidx.core.util.containsKey': 'androidx.core',\n 'androidx.core.text.inSpans': 'androidx.core',\n 'androidx.core.view.isEmpty': 'androidx.core',\n 'androidx.core.animation.addListener': 'androidx.core',\n 'androidx.core.graphics.Insets': 'androidx.core',\n 'androidx.core.graphics.drawable.DrawableCompat': 'androidx.core',\n 'androidx.core.os.BuildCompat': 'androidx.core',\n 'androidx.core.view.AccessibilityDelegateCompat': 'androidx.core',\n 'androidx.core.view.postDelayed': 'androidx.core',\n 'androidx.core.util.Preconditions': 'androidx.core',\n 'androidx.core.os.ParcelCompat': 'androidx.core',\n 'androidx.core.app.AlarmManagerCompat': 'androidx.core',\n 'androidx.core.view.doOnPreDraw': 'androidx.core',\n 'androidx.core.graphics.values': 'androidx.core',\n 'androidx.core.graphics.drawable.RoundedBitmapDrawableFactory': 'androidx.core',\n 'androidx.core.view.isInvisible': 'androidx.core',\n 'androidx.core.splashscreen.SplashScreen.Companion.installSplashScreen': 'androidx.core',\n 'androidx.core.text.getSpans': 'androidx.core',\n 'androidx.core.graphics.ColorUtils.setAlphaComponent': 'androidx.core',\n 'androidx.core.content.FileProvider': 'androidx.core',\n 'androidx.core.app.NotificationCompat.Action': 'androidx.core',\n 'androidx.core.app.NotificationCompat.Builder': 'androidx.core',\n 'androidx.core.app.NotificationCompat.WearableExtender': 'androidx.core',\n 'androidx.core.content.withStyledAttributes': 'androidx.core',\n 'androidx.core.widget.doOnTextChanged': 'androidx.core',\n 'androidx.core.app.ActivityOptionsCompat': 'androidx.core',\n 'androidx.core.content.ContextCompat.getSystemService': 'androidx.core',\n 'androidx.core.graphics.ColorUtils': 'androidx.core',\n 'androidx.core.app.ActivityCompat': 'androidx.core',\n 'androidx.core.graphics.drawable.IconCompat': 'androidx.core',\n 'androidx.core.view.LayoutInflaterCompat': 'androidx.core',\n 'androidx.core.content.res.use': 'androidx.core',\n 'androidx.core.view.LayoutInflaterFactory': 'androidx.core',\n 'androidx.core.graphics.BlendModeColorFilterCompat.createBlendModeColorFilterCompat': 'androidx.core',\n 'androidx.core.graphics.BlendModeCompat.SRC_IN': 'androidx.core',\n 'androidx.core.text.toSpannable': 'androidx.core',\n 'androidx.core.view.MarginLayoutParamsCompat': 'androidx.core',\n 'androidx.core.content.ContextCompat.getColor': 'androidx.core',\n 'androidx.core.view.GestureDetectorCompat': 'androidx.core',\n 'androidx.core.animation.doOnEnd': 'androidx.core',\n 'androidx.core.graphics.contains': 'androidx.core',\n 'androidx.core.graphics.toPoint': 'androidx.core',\n 'androidx.core.view.updatePaddingRelative': 'androidx.core',\n 'androidx.core.content.pm.PackageInfoCompat': 'androidx.core',\n 'androidx.core.view.children': 'androidx.core',\n 'androidx.core.content.res.TypedArrayUtils.getAttr': 'androidx.core',\n 'androidx.core.view.accessibility.AccessibilityNodeInfoCompat.RangeInfoCompat.RANGE_TYPE_PERCENT': 'androidx.core',\n 'androidx.core.content.pm.ShortcutInfoCompat': 'androidx.core',\n 'androidx.core.content.pm.ShortcutManagerCompat': 'androidx.core',\n 'androidx.core.app.NotificationCompat.BADGE_ICON_NONE': 'androidx.core',\n 'androidx.core.view.accessibility.AccessibilityNodeInfoCompat': 'androidx.core',\n 'androidx.core.widget.doAfterTextChanged': 'androidx.core',\n 'androidx.core.content.ContextCompat.startActivity': 'androidx.core',\n 'androidx.core.text.bold': 'androidx.core',\n 'androidx.core.widget.ImageViewCompat': 'androidx.core',\n 'androidx.core.app.JobIntentService': 'androidx.core',\n 'androidx.core.app.ActivityCompat.startPostponedEnterTransition': 'androidx.core',\n 'androidx.core.content.FileProvider.getUriForFile': 'androidx.core',\n 'androidx.core.app.NotificationManagerCompat.IMPORTANCE_LOW': 'androidx.core',\n 'androidx.core.content.ContextCompat.getDrawable': 'androidx.core',\n 'androidx.core.view.ViewCompat.setElevation': 'androidx.core',\n 'androidx.core.os.LocaleListCompat': 'androidx.core',\n 'androidx.core.math.MathUtils': 'androidx.core',\n 'androidx.core.view.WindowInsetsCompat.Type.InsetsType': 'androidx.core',\n 'androidx.core.view.WindowInsetsControllerCompat': 'androidx.core',\n 'androidx.core.text.buildSpannedString': 'androidx.core',\n 'androidx.core.provider.FontRequest': 'androidx.core',\n 'androidx.core.text.set': 'androidx.core',\n 'androidx.core.content.res.getDrawableOrThrow': 'androidx.core',\n 'androidx.core.app.TaskStackBuilder': 'androidx.core',\n 'androidx.core.text.italic': 'androidx.core',\n 'androidx.core.util.Pair': 'androidx.core',\n 'androidx.core.view.setMargins': 'androidx.core',\n 'androidx.core.widget.ContentLoadingProgressBar': 'androidx.core',\n 'androidx.core.text.color': 'androidx.core',\n 'androidx.core.text.PrecomputedTextCompat': 'androidx.core',\n 'androidx.core.text.layoutDirection': 'androidx.core',\n 'androidx.core.transition.addListener': 'androidx.core',\n 'androidx.core.animation.doOnStart': 'androidx.core',\n 'androidx.core.util.set': 'androidx.core',\n 'androidx.core.provider.FontsContractCompat': 'androidx.core',\n 'androidx.core.provider.FontsContractCompat.FontRequestCallback': 'androidx.core',\n 'androidx.core.app.ActivityManagerCompat': 'androidx.core',\n 'androidx.core.util.toAndroidPair': 'androidx.core',\n 'androidx.core.graphics.ColorUtils.colorToHSL': 'androidx.core',\n 'androidx.core.app.NavUtils': 'androidx.core',\n 'androidx.core.view.get': 'androidx.core',\n 'androidx.core.app.ActivityCompat.startActivityForResult': 'androidx.core',\n 'androidx.core.os.ConfigurationCompat': 'androidx.core',\n 'androidx.core.text.parseAsHtml': 'androidx.core',\n 'androidx.core.os.postDelayed': 'androidx.core',\n 'androidx.core.graphics.toRectF': 'androidx.core',\n 'androidx.core.util.forEach': 'androidx.core',\n 'androidx.core.view': 'androidx.core',\n 'androidx.core.widget.ListViewCompat': 'androidx.core',\n 'androidx.core.location.LocationManagerCompat': 'androidx.core',\n 'androidx.core.app.NotificationCompat.PRIORITY_LOW': 'androidx.core',\n 'androidx.core.location.LocationCompat': 'androidx.core',\n 'androidx.core.view.marginLeft': 'androidx.core',\n 'androidx.core.view.marginRight': 'androidx.core',\n 'androidx.core.content.res.getIntOrThrow': 'androidx.core',\n 'androidx.core.app.NotificationChannelCompat': 'androidx.core',\n 'androidx.core.util.Pools': 'androidx.core',\n 'androidx.core.graphics.ColorUtils.HSLToColor': 'androidx.core',\n 'androidx.core.graphics.ColorUtils.calculateContrast': 'androidx.core',\n 'androidx.core.graphics.ColorUtils.compositeColors': 'androidx.core',\n 'androidx.core.view.postOnAnimationDelayed': 'androidx.core',\n 'androidx.core.app.NotificationCompat.Action.Builder': 'androidx.core',\n 'androidx.core.splashscreen.SplashScreen': 'androidx.core',\n 'androidx.core.view.updateMargins': 'androidx.core',\n 'androidx.core.view.isNotEmpty': 'androidx.core',\n 'androidx.core.graphics.toXfermode': 'androidx.core',\n 'androidx.core.content.contentValuesOf': 'androidx.core',\n 'androidx.core.app.NotificationManagerCompat.IMPORTANCE_DEFAULT': 'androidx.core',\n 'androidx.core.app.NotificationManagerCompat.IMPORTANCE_HIGH': 'androidx.core',\n 'androidx.core.view.descendants': 'androidx.core',\n 'androidx.core.app.NotificationChannelGroupCompat': 'androidx.core',\n 'androidx.core.view.inputmethod.EditorInfoCompat': 'androidx.core',\n 'androidx.core.text.isDigitsOnly': 'androidx.core',\n 'androidx.core.view.forEachIndexed': 'androidx.core',\n 'androidx.core.os.HandlerCompat.postDelayed': 'androidx.core',\n 'androidx.core.transition.doOnEnd': 'androidx.core',\n 'androidx.core.app.ComponentActivity': 'androidx.core',\n 'androidx.core.view.WindowInsetsCompat.Type.systemBars': 'androidx.core',\n 'androidx.core.view.WindowInsetsCompat.Type.ime': 'androidx.core',\n 'androidx.core.app.ServiceCompat': 'androidx.core',\n 'androidx.core.view.plusAssign': 'androidx.core',\n 'androidx.core.view.WindowInsetsAnimationCompat': 'androidx.core',\n 'androidx.core.view.WindowInsetsAnimationCompat.BoundsCompat': 'androidx.core',\n 'androidx.core.view.OnApplyWindowInsetsListener': 'androidx.core',\n 'androidx.core.view.ViewPropertyAnimatorCompat': 'androidx.core',\n 'androidx.core.view.ViewPropertyAnimatorListener': 'androidx.core',\n 'androidx.core.util.Consumer': 'androidx.core',\n 'androidx.core.view.accessibility.AccessibilityNodeInfoCompat.AccessibilityActionCompat': 'androidx.core',\n 'androidx.core.view.MenuCompat': 'androidx.core',\n 'androidx.core.graphics.BlendModeColorFilterCompat': 'androidx.core',\n 'androidx.core.graphics.BlendModeCompat': 'androidx.core',\n 'androidx.core.text.HtmlCompat.FROM_HTML_MODE_COMPACT': 'androidx.core',\n 'androidx.core.view.MotionEventCompat': 'androidx.core',\n 'androidx.core.view.NestedScrollingChild3': 'androidx.core',\n 'androidx.core.view.NestedScrollingChildHelper': 'androidx.core',\n 'androidx.core.app.NotificationCompat.CATEGORY_REMINDER': 'androidx.core',\n 'androidx.core.app.NotificationCompat.PRIORITY_DEFAULT': 'androidx.core',\n 'androidx.core.text.HtmlCompat.fromHtml': 'androidx.core',\n 'androidx.core.app.NotificationCompat.BigTextStyle': 'androidx.core',\n 'androidx.core.app.NotificationCompat.DEFAULT_VIBRATE': 'androidx.core',\n 'androidx.core.view.doOnDetach': 'androidx.core',\n 'androidx.core.content.PermissionChecker': 'androidx.core',\n 'androidx.core.net.ConnectivityManagerCompat': 'androidx.core',\n 'androidx.core.text.BidiFormatter': 'androidx.core',\n 'androidx.recyclerview.widget.LinearLayoutManager': 'androidx.recyclerview',\n 'androidx.recyclerview.widget.ItemTouchHelper': 'androidx.recyclerview',\n 'androidx.recyclerview.widget.RecyclerView': 'androidx.recyclerview',\n 'androidx.recyclerview.widget.DividerItemDecoration': 'androidx.recyclerview',\n 'androidx.recyclerview.widget.DiffUtil': 'androidx.recyclerview',\n 'androidx.recyclerview.widget.ListAdapter': 'androidx.recyclerview',\n 'androidx.recyclerview.widget.AsyncDifferConfig': 'androidx.recyclerview',\n 'androidx.recyclerview.widget.StaggeredGridLayoutManager': 'androidx.recyclerview',\n 'androidx.recyclerview.widget.StaggeredGridLayoutManager.VERTICAL': 'androidx.recyclerview',\n 'androidx.recyclerview.widget.RecyclerView.Adapter': 'androidx.recyclerview',\n 'androidx.recyclerview.widget.RecyclerView.ViewHolder': 'androidx.recyclerview',\n 'androidx.recyclerview.widget.RecyclerView.HORIZONTAL': 'androidx.recyclerview',\n 'androidx.recyclerview.widget.RecyclerView.LayoutManager': 'androidx.recyclerview',\n 'androidx.recyclerview.widget.RecyclerView.NO_POSITION': 'androidx.recyclerview',\n 'androidx.recyclerview.widget.RecyclerView.OnScrollListener': 'androidx.recyclerview',\n 'androidx.recyclerview.widget.RecyclerView.SCROLL_STATE_IDLE': 'androidx.recyclerview',\n 'androidx.recyclerview.widget.RecyclerView.ItemDecoration': 'androidx.recyclerview',\n 'androidx.recyclerview.widget.RecyclerView.State': 'androidx.recyclerview',\n 'androidx.recyclerview.widget.RecyclerView.RecycledViewPool': 'androidx.recyclerview',\n 'androidx.recyclerview.widget.AsyncListDiffer': 'androidx.recyclerview',\n 'androidx.recyclerview.widget.DefaultItemAnimator': 'androidx.recyclerview',\n 'androidx.recyclerview.widget.DiffUtil.ItemCallback': 'androidx.recyclerview',\n 'androidx.recyclerview.widget.LinearSmoothScroller': 'androidx.recyclerview',\n 'androidx.recyclerview.widget.ConcatAdapter': 'androidx.recyclerview',\n 'androidx.recyclerview.widget.GridLayoutManager': 'androidx.recyclerview',\n 'androidx.recyclerview.widget.PagerSnapHelper': 'androidx.recyclerview',\n 'androidx.recyclerview.widget.ItemTouchHelper.DOWN': 'androidx.recyclerview',\n 'androidx.recyclerview.widget.ItemTouchHelper.END': 'androidx.recyclerview',\n 'androidx.recyclerview.widget.ItemTouchHelper.START': 'androidx.recyclerview',\n 'androidx.recyclerview.widget.ItemTouchHelper.UP': 'androidx.recyclerview',\n 'androidx.recyclerview.widget.SimpleItemAnimator': 'androidx.recyclerview',\n 'androidx.recyclerview.widget.RecyclerView.VERTICAL': 'androidx.recyclerview',\n 'androidx.recyclerview.widget.ItemTouchHelper.ACTION_STATE_IDLE': 'androidx.recyclerview',\n 'androidx.recyclerview.widget.ItemTouchHelper.Callback.makeMovementFlags': 'androidx.recyclerview',\n 'androidx.recyclerview.widget.RecyclerView.Adapter.StateRestorationPolicy.PREVENT_WHEN_EMPTY': 'androidx.recyclerview',\n 'androidx.recyclerview.widget.SortedList': 'androidx.recyclerview',\n 'androidx.recyclerview.widget.SortedListAdapterCallback': 'androidx.recyclerview',\n 'androidx.recyclerview.widget.OrientationHelper': 'androidx.recyclerview',\n 'androidx.recyclerview.widget.OrientationHelper.createHorizontalHelper': 'androidx.recyclerview',\n 'androidx.recyclerview.widget.OrientationHelper.createVerticalHelper': 'androidx.recyclerview',\n 'androidx.recyclerview.widget.SnapHelper': 'androidx.recyclerview',\n 'androidx.recyclerview.widget.RecyclerView.Recycler': 'androidx.recyclerview',\n 'androidx.recyclerview.widget.LinearSnapHelper': 'androidx.recyclerview',\n 'androidx.recyclerview.widget.DiffUtil.Callback': 'androidx.recyclerview',\n 'androidx.recyclerview.widget.DiffUtil.DiffResult': 'androidx.recyclerview',\n 'androidx.recyclerview.widget.ItemTouchHelper.LEFT': 'androidx.recyclerview',\n 'androidx.recyclerview.widget.ItemTouchHelper.RIGHT': 'androidx.recyclerview',\n 'androidx.recyclerview.widget': 'androidx.recyclerview',\n 'androidx.recyclerview.widget.ListUpdateCallback': 'androidx.recyclerview',\n 'androidx.recyclerview.widget.RecyclerView.AdapterDataObserver': 'androidx.recyclerview',\n 'androidx.recyclerview.widget.RecyclerView.EdgeEffectFactory': 'androidx.recyclerview',\n 'androidx.recyclerview.widget.DividerItemDecoration.VERTICAL': 'androidx.recyclerview',\n 'androidx.recyclerview.widget.RecyclerView.SCROLL_STATE_DRAGGING': 'androidx.recyclerview',\n 'androidx.recyclerview.widget.RecyclerView.Orientation': 'androidx.recyclerview',\n 'androidx.recyclerview.widget.RecyclerView.LayoutParams': 'androidx.recyclerview',\n 'androidx.recyclerview.widget.StaggeredGridLayoutManager.LayoutParams': 'androidx.recyclerview',\n 'androidx.recyclerview.widget.RecyclerView.OnItemTouchListener': 'androidx.recyclerview',\n 'androidx.recyclerview.widget.LinearLayoutManager.HORIZONTAL': 'androidx.recyclerview',\n 'androidx.recyclerview.widget.GridLayoutManager.SpanSizeLookup': 'androidx.recyclerview',\n 'androidx.recyclerview.widget.DiffUtil.calculateDiff': 'androidx.recyclerview',\n 'android.text.TextUtils': 'android.text',\n 'android.text.method.ScrollingMovementMethod': 'android.text',\n 'android.text.Editable': 'android.text',\n 'android.text.InputType': 'android.text',\n 'android.text.SpannableStringBuilder': 'android.text',\n 'android.text.Spanned': 'android.text',\n 'android.text.style.BackgroundColorSpan': 'android.text',\n 'android.text.style.ClickableSpan': 'android.text',\n 'android.text.style.ForegroundColorSpan': 'android.text',\n 'android.text.style.StrikethroughSpan': 'android.text',\n 'android.text.style.StyleSpan': 'android.text',\n 'android.text.style.URLSpan': 'android.text',\n 'android.text.style.UnderlineSpan': 'android.text',\n 'android.text.SpannedString': 'android.text',\n 'android.text.method.LinkMovementMethod': 'android.text',\n 'android.text.style.BulletSpan': 'android.text',\n 'android.text.style.QuoteSpan': 'android.text',\n 'android.text.style.ImageSpan': 'android.text',\n 'android.text.Html': 'android.text',\n 'android.text.TextWatcher': 'android.text',\n 'android.text.SpannableString': 'android.text',\n 'android.text.Layout.Alignment.ALIGN_CENTER': 'android.text',\n 'android.text.StaticLayout': 'android.text',\n 'android.text.TextPaint': 'android.text',\n 'android.text.style.AbsoluteSizeSpan': 'android.text',\n 'android.text.Layout.Alignment': 'android.text',\n 'android.text.Spannable': 'android.text',\n 'android.text.style.TextAppearanceSpan': 'android.text',\n 'android.text.format.DateFormat': 'android.text',\n 'android.text.format.DateFormat.getBestDateTimePattern': 'android.text',\n 'android.text.InputFilter': 'android.text',\n 'android.text.style.MetricAffectingSpan': 'android.text',\n 'android.text.util.Linkify': 'android.text',\n 'android.text.Html.FROM_HTML_MODE_LEGACY': 'android.text',\n 'android.text.Selection': 'android.text',\n 'android.text.style.RelativeSizeSpan': 'android.text',\n 'android.text.InputFilter.LengthFilter': 'android.text',\n 'android.text.style.DynamicDrawableSpan': 'android.text',\n 'android.text.ParcelableSpan': 'android.text',\n 'android.text.style.CharacterStyle': 'android.text',\n 'android.text.style.TypefaceSpan': 'android.text',\n 'android.text.format.DateUtils': 'android.text',\n 'android.text.Spanned.SPAN_EXCLUSIVE_INCLUSIVE': 'android.text',\n 'android.text.Html.fromHtml': 'android.text',\n 'android.text.method.PasswordTransformationMethod': 'android.text',\n 'android.text.format.Formatter': 'android.text',\n 'android.text.format.DateUtils.FORMAT_ABBREV_RELATIVE': 'android.text',\n 'android.text.format.DateUtils.SECOND_IN_MILLIS': 'android.text',\n 'android.text.Annotation': 'android.text',\n 'android.text.Layout': 'android.text',\n 'android.text.method.Touch': 'android.text',\n 'android.text.InputFilter.AllCaps': 'android.text',\n 'android.text.style': 'android.text',\n 'android.text.method.MovementMethod': 'android.text',\n 'android.text.Spanned.SPAN_EXCLUSIVE_EXCLUSIVE': 'android.text',\n 'android.text.method.TransformationMethod': 'android.text',\n 'android.text.method.DigitsKeyListener': 'android.text',\n 'android.text.style.DynamicDrawableSpan.ALIGN_BOTTOM': 'android.text',\n 'android.text.style.ReplacementSpan': 'android.text',\n 'android.text.SpanWatcher': 'android.text',\n 'android.text.NoCopySpan': 'android.text',\n 'android.text.Editable.Factory': 'android.text',\n ...}"
     },
     "execution_count": 21,
     "metadata": {},
     "output_type": "execute_result"
    }
   ],
   "source": [
    "import_to_package_dataset = import_to_package_dataset.toPandas()\n",
    "import_to_package_dict = dict(zip(import_to_package_dataset[\"import\"], import_to_package_dataset[\"package\"]))\n",
    "import_to_package_dict"
   ],
   "metadata": {
    "collapsed": false,
    "pycharm": {
     "name": "#%%\n"
    }
   }
  },
  {
   "cell_type": "code",
   "execution_count": 22,
   "outputs": [],
   "source": [
    "def get_package_by_import(lib_import):\n",
    "    if lib_import in import_to_package_dict:\n",
    "        return import_to_package_dict[lib_import]\n",
    "    else:\n",
    "        return lib_import\n",
    "\n",
    "map_import_to_package = F.udf(get_package_by_import, returnType=StringType())"
   ],
   "metadata": {
    "collapsed": false,
    "pycharm": {
     "name": "#%%\n"
    }
   }
  },
  {
   "cell_type": "code",
   "execution_count": 23,
   "outputs": [
    {
     "name": "stdout",
     "output_type": "stream",
     "text": [
      "+------------+--------------------+-----------+\n",
      "|project_name|              import|    package|\n",
      "+------------+--------------------+-----------+\n",
      "|    itmo-ibd|                 sys|        sys|\n",
      "|    itmo-ibd|            requests|   requests|\n",
      "|    itmo-ibd|             logging|    logging|\n",
      "|    itmo-ibd|                  os|         os|\n",
      "|    itmo-ibd|          subprocess| subprocess|\n",
      "|    itmo-ibd|              pandas|     pandas|\n",
      "|    itmo-ibd|              shutil|     shutil|\n",
      "|    itmo-ibd|                json|       json|\n",
      "|    itmo-ibd|collections.defau...|collections|\n",
      "|project_name|              import|     import|\n",
      "|    itmo-ibd|                 sys|        sys|\n",
      "|    itmo-ibd|            requests|   requests|\n",
      "|    itmo-ibd|             logging|    logging|\n",
      "|    itmo-ibd|                  os|         os|\n",
      "|    itmo-ibd|          subprocess| subprocess|\n",
      "|    itmo-ibd|              pandas|     pandas|\n",
      "|    itmo-ibd|              shutil|     shutil|\n",
      "|    itmo-ibd|                json|       json|\n",
      "|    itmo-ibd|collections.defau...|collections|\n",
      "|project_name|              import|     import|\n",
      "+------------+--------------------+-----------+\n",
      "\n"
     ]
    }
   ],
   "source": [
    "full_import_dataset = imports_dataset.select(\n",
    " \"*\", map_import_to_package(\"import\").alias(\"package\")\n",
    ").cache()\n",
    "full_import_dataset.show()"
   ],
   "metadata": {
    "collapsed": false,
    "pycharm": {
     "name": "#%%\n"
    }
   }
  },
  {
   "cell_type": "code",
   "execution_count": 24,
   "outputs": [],
   "source": [
    "# Make final dataset"
   ],
   "metadata": {
    "collapsed": false,
    "pycharm": {
     "name": "#%%\n"
    }
   }
  },
  {
   "cell_type": "code",
   "execution_count": 25,
   "outputs": [],
   "source": [
    "intermediate_dataframe = (full_import_dataset.select(\"*\")\n",
    "                          .groupby(['project_name', 'package'])\n",
    "                          .agg(F.count(\"*\").alias(\"count_different_import\")))"
   ],
   "metadata": {
    "collapsed": false,
    "pycharm": {
     "name": "#%%\n"
    }
   }
  },
  {
   "cell_type": "code",
   "execution_count": 26,
   "outputs": [
    {
     "name": "stdout",
     "output_type": "stream",
     "text": [
      "+------------+-----------+----------------------+\n",
      "|project_name|    package|count_different_import|\n",
      "+------------+-----------+----------------------+\n",
      "|    itmo-ibd|       json|                     2|\n",
      "|    itmo-ibd|     shutil|                     2|\n",
      "|    itmo-ibd|        sys|                     2|\n",
      "|    itmo-ibd|         os|                     2|\n",
      "|    itmo-ibd|collections|                     2|\n",
      "|    itmo-ibd|     pandas|                     2|\n",
      "|    itmo-ibd|   requests|                     2|\n",
      "|    itmo-ibd| subprocess|                     2|\n",
      "|    itmo-ibd|    logging|                     2|\n",
      "|project_name|     import|                     2|\n",
      "+------------+-----------+----------------------+\n",
      "\n"
     ]
    }
   ],
   "source": [
    "intermediate_dataframe.show()"
   ],
   "metadata": {
    "collapsed": false,
    "pycharm": {
     "name": "#%%\n"
    }
   }
  },
  {
   "cell_type": "code",
   "execution_count": 27,
   "outputs": [],
   "source": [
    "def rename_package(package_name):\n",
    "    return f\"package#{package_name}\"\n",
    "\n",
    "udf_rename_package = F.udf(rename_package, returnType=StringType())"
   ],
   "metadata": {
    "collapsed": false,
    "pycharm": {
     "name": "#%%\n"
    }
   }
  },
  {
   "cell_type": "code",
   "execution_count": 28,
   "outputs": [
    {
     "name": "stderr",
     "output_type": "stream",
     "text": [
      "                                                                                \r"
     ]
    },
    {
     "name": "stdout",
     "output_type": "stream",
     "text": [
      "+------------+-------------------+\n",
      "|project_name|            package|\n",
      "+------------+-------------------+\n",
      "|    itmo-ibd|       package#json|\n",
      "|    itmo-ibd|     package#shutil|\n",
      "|    itmo-ibd|        package#sys|\n",
      "|    itmo-ibd|         package#os|\n",
      "|    itmo-ibd|package#collections|\n",
      "|    itmo-ibd|     package#pandas|\n",
      "|    itmo-ibd|   package#requests|\n",
      "|    itmo-ibd| package#subprocess|\n",
      "|    itmo-ibd|    package#logging|\n",
      "|project_name|     package#import|\n",
      "+------------+-------------------+\n",
      "\n"
     ]
    }
   ],
   "source": [
    "intermediate_dataframe = intermediate_dataframe.select(\n",
    " \"project_name\", udf_rename_package(\"package\").alias(\"package\")\n",
    ").cache()\n",
    "intermediate_dataframe.show()"
   ],
   "metadata": {
    "collapsed": false,
    "pycharm": {
     "name": "#%%\n"
    }
   }
  },
  {
   "cell_type": "code",
   "execution_count": 29,
   "outputs": [
    {
     "name": "stdout",
     "output_type": "stream",
     "text": [
      "+------------+-------------------+--------------+------------+---------------+----------+--------------+----------------+--------------+------------------+-----------+\n",
      "|project_name|package#collections|package#import|package#json|package#logging|package#os|package#pandas|package#requests|package#shutil|package#subprocess|package#sys|\n",
      "+------------+-------------------+--------------+------------+---------------+----------+--------------+----------------+--------------+------------------+-----------+\n",
      "|project_name|               null|             1|        null|           null|      null|          null|            null|          null|              null|       null|\n",
      "|    itmo-ibd|                  1|          null|           1|              1|         1|             1|               1|             1|                 1|          1|\n",
      "+------------+-------------------+--------------+------------+---------------+----------+--------------+----------------+--------------+------------------+-----------+\n",
      "\n"
     ]
    }
   ],
   "source": [
    "pivot_package_dataframe = intermediate_dataframe.groupby(\"project_name\").pivot(\"package\").agg(F.count(\"*\"))\n",
    "pivot_package_dataframe.show()"
   ],
   "metadata": {
    "collapsed": false,
    "pycharm": {
     "name": "#%%\n"
    }
   }
  },
  {
   "cell_type": "code",
   "execution_count": 30,
   "outputs": [
    {
     "name": "stdout",
     "output_type": "stream",
     "text": [
      "+------------+----------+--------------+----------------+-------------+-------------+-----------------+-------------+\n",
      "|project_name|extension#|extension#.csv|extension#.ipynb|extension#.md|extension#.py|extension#.sample|extension#.sh|\n",
      "+------------+----------+--------------+----------------+-------------+-------------+-----------------+-------------+\n",
      "|    itmo-ibd|        85|            31|               2|            4|           10|               12|            1|\n",
      "+------------+----------+--------------+----------------+-------------+-------------+-----------------+-------------+\n",
      "\n"
     ]
    }
   ],
   "source": [
    "pivot_ext_count_dataset = extensions_metrics_dataset.groupby(\"project_name\").pivot(\"extension\").agg(F.first(\"count\"))\n",
    "pivot_ext_count_dataset.show()"
   ],
   "metadata": {
    "collapsed": false,
    "pycharm": {
     "name": "#%%\n"
    }
   }
  },
  {
   "cell_type": "code",
   "execution_count": 31,
   "outputs": [
    {
     "name": "stdout",
     "output_type": "stream",
     "text": [
      "+------------+-------------------+--------------+------------+---------------+----------+--------------+----------------+--------------+------------------+-----------+----------+--------------+----------------+-------------+-------------+-----------------+-------------+\n",
      "|project_name|package#collections|package#import|package#json|package#logging|package#os|package#pandas|package#requests|package#shutil|package#subprocess|package#sys|extension#|extension#.csv|extension#.ipynb|extension#.md|extension#.py|extension#.sample|extension#.sh|\n",
      "+------------+-------------------+--------------+------------+---------------+----------+--------------+----------------+--------------+------------------+-----------+----------+--------------+----------------+-------------+-------------+-----------------+-------------+\n",
      "|    itmo-ibd|                  1|          null|           1|              1|         1|             1|               1|             1|                 1|          1|        85|            31|               2|            4|           10|               12|            1|\n",
      "+------------+-------------------+--------------+------------+---------------+----------+--------------+----------------+--------------+------------------+-----------+----------+--------------+----------------+-------------+-------------+-----------------+-------------+\n",
      "\n"
     ]
    }
   ],
   "source": [
    "final_dataset = pivot_package_dataframe.join(pivot_ext_count_dataset, [\"project_name\"])\n",
    "final_dataset.show()"
   ],
   "metadata": {
    "collapsed": false,
    "pycharm": {
     "name": "#%%\n"
    }
   }
  },
  {
   "cell_type": "code",
   "execution_count": 34,
   "outputs": [
    {
     "data": {
      "text/plain": "{'project_name': 'itmo-ibd',\n 'package#collections': 1,\n 'package#json': 1,\n 'package#logging': 1,\n 'package#os': 1,\n 'package#pandas': 1,\n 'package#requests': 1,\n 'package#shutil': 1,\n 'package#subprocess': 1,\n 'package#sys': 1,\n 'extension#': 85,\n 'extension#.csv': 31,\n 'extension#.ipynb': 2,\n 'extension#.md': 4,\n 'extension#.py': 10,\n 'extension#.sample': 12,\n 'extension#.sh': 1}"
     },
     "execution_count": 34,
     "metadata": {},
     "output_type": "execute_result"
    }
   ],
   "source": [
    "final_dataset_dict = final_dataset.collect()[0].asDict(True)\n",
    "final_dataset_dict"
   ],
   "metadata": {
    "collapsed": false,
    "pycharm": {
     "name": "#%%\n"
    }
   }
  },
  {
   "cell_type": "code",
   "execution_count": 25,
   "outputs": [],
   "source": [
    "PATH_TO_COLUMN_DATASET = \"/home/Dmitry.Pogrebnoy/Desktop/itmo-ibd/data/pipeline/final_columns.csv\""
   ],
   "metadata": {
    "collapsed": false,
    "pycharm": {
     "name": "#%%\n"
    }
   }
  },
  {
   "cell_type": "code",
   "execution_count": 60,
   "outputs": [],
   "source": [
    "columns_dataset = spark.read.csv(PATH_TO_COLUMN_DATASET, header=True).toPandas()[\"column_name\"].to_list()\n",
    "final_data_for_prediction = []\n",
    "for item in columns_dataset:\n",
    "    if item in final_dataset_dict:\n",
    "        final_data_for_prediction.append(final_dataset_dict.get(item))\n",
    "    else:\n",
    "        final_data_for_prediction.append(0)"
   ],
   "metadata": {
    "collapsed": false,
    "pycharm": {
     "name": "#%%\n"
    }
   }
  },
  {
   "cell_type": "code",
   "execution_count": 62,
   "outputs": [
    {
     "data": {
      "text/plain": "['itmo-ibd',\n 0,\n 0,\n 0,\n 0,\n 0,\n 0,\n 0,\n 0,\n 0,\n 0,\n 0,\n 0,\n 0,\n 0,\n 0,\n 0,\n 0,\n 0,\n 0,\n 0,\n 0,\n 0,\n 0,\n 0,\n 0,\n 0,\n 0,\n 0,\n 0,\n 0,\n 0,\n 0,\n 0,\n 0,\n 0,\n 0,\n 0,\n 0,\n 0,\n 0,\n 0,\n 0,\n 0,\n 0,\n 0,\n 0,\n 0,\n 0,\n 0,\n 0,\n 0,\n 0,\n 0,\n 0,\n 0,\n 0,\n 0,\n 0,\n 0,\n 0,\n 0,\n 0,\n 0,\n 0,\n 0,\n 0,\n 0,\n 0,\n 0,\n 0,\n 0,\n 0,\n 0,\n 0,\n 0,\n 0,\n 0,\n 0,\n 0,\n 0,\n 0,\n 0,\n 0,\n 0,\n 0,\n 0,\n 0,\n 0,\n 0,\n 0,\n 0,\n 0,\n 0,\n 0,\n 0,\n 0,\n 0,\n 0,\n 0,\n 0,\n 0,\n 0,\n 0,\n 0,\n 0,\n 0,\n 0,\n 0,\n 0,\n 0,\n 0,\n 0,\n 0,\n 0,\n 0,\n 0,\n 0,\n 0,\n 0,\n 0,\n 0,\n 0,\n 0,\n 0,\n 0,\n 0,\n 0,\n 0,\n 0,\n 0,\n 0,\n 0,\n 0,\n 0,\n 0,\n 0,\n 0,\n 0,\n 0,\n 0,\n 0,\n 0,\n 0,\n 0,\n 0,\n 0,\n 0,\n 0,\n 0,\n 0,\n 0,\n 0,\n 0,\n 0,\n 0,\n 0,\n 0,\n 0,\n 0,\n 0,\n 0,\n 0,\n 0,\n 0,\n 0,\n 0,\n 0,\n 0,\n 0,\n 0,\n 0,\n 0,\n 0,\n 0,\n 0,\n 0,\n 0,\n 0,\n 0,\n 0,\n 0,\n 0,\n 0,\n 0,\n 0,\n 0,\n 0,\n 0,\n 0,\n 0,\n 0,\n 0,\n 0,\n 0,\n 0,\n 0,\n 0,\n 0,\n 0,\n 0,\n 0,\n 0,\n 0,\n 0,\n 0,\n 0,\n 0,\n 0,\n 0,\n 0,\n 0,\n 0,\n 0,\n 0,\n 0,\n 0,\n 0,\n 0,\n 0,\n 0,\n 0,\n 0,\n 0,\n 0,\n 0,\n 0,\n 0,\n 0,\n 0,\n 0,\n 0,\n 0,\n 0,\n 0,\n 0,\n 0,\n 0,\n 0,\n 0,\n 0,\n 0,\n 0,\n 0,\n 0,\n 0,\n 0,\n 0,\n 0,\n 0,\n 0,\n 0,\n 0,\n 0,\n 0,\n 0,\n 0,\n 0,\n 0,\n 0,\n 0,\n 0,\n 0,\n 0,\n 0,\n 0,\n 0,\n 0,\n 0,\n 0,\n 0,\n 0,\n 0,\n 0,\n 0,\n 0,\n 0,\n 0,\n 0,\n 0,\n 0,\n 0,\n 0,\n 0,\n 0,\n 0,\n 0,\n 0,\n 0,\n 0,\n 0,\n 0,\n 0,\n 0,\n 0,\n 0,\n 0,\n 0,\n 0,\n 0,\n 0,\n 0,\n 0,\n 0,\n 0,\n 0,\n 0,\n 0,\n 0,\n 0,\n 0,\n 0,\n 0,\n 0,\n 0,\n 0,\n 0,\n 0,\n 0,\n 0,\n 0,\n 0,\n 0,\n 0,\n 0,\n 0,\n 0,\n 0,\n 0,\n 0,\n 0,\n 0,\n 0,\n 0,\n 0,\n 0,\n 0,\n 0,\n 0,\n 0,\n 0,\n 0,\n 0,\n 0,\n 0,\n 0,\n 0,\n 0,\n 0,\n 0,\n 0,\n 0,\n 0,\n 0,\n 0,\n 0,\n 0,\n 0,\n 0,\n 0,\n 0,\n 0,\n 0,\n 0,\n 0,\n 0,\n 0,\n 0,\n 0,\n 0,\n 0,\n 0,\n 0,\n 0,\n 0,\n 0,\n 0,\n 0,\n 0,\n 0,\n 0,\n 0,\n 0,\n 0,\n 0,\n 0,\n 0,\n 0,\n 0,\n 0,\n 0,\n 0,\n 0,\n 0,\n 0,\n 0,\n 0,\n 0,\n 0,\n 0,\n 0,\n 0,\n 0,\n 0,\n 0,\n 0,\n 0,\n 0,\n 0,\n 0,\n 0,\n 0,\n 0,\n 0,\n 0,\n 0,\n 0,\n 0,\n 0,\n 0,\n 0,\n 0,\n 0,\n 0,\n 0,\n 0,\n 0,\n 0,\n 0,\n 0,\n 0,\n 0,\n 0,\n 0,\n 0,\n 0,\n 0,\n 0,\n 0,\n 0,\n 0,\n 0,\n 0,\n 0,\n 0,\n 0,\n 0,\n 0,\n 0,\n 0,\n 0,\n 0,\n 0,\n 0,\n 0,\n 0,\n 0,\n 0,\n 0,\n 0,\n 0,\n 0,\n 0,\n 0,\n 0,\n 0,\n 0,\n 0,\n 0,\n 0,\n 0,\n 0,\n 0,\n 0,\n 0,\n 0,\n 0,\n 0,\n 0,\n 0,\n 0,\n 0,\n 0,\n 0,\n 0,\n 0,\n 0,\n 0,\n 0,\n 0,\n 0,\n 0,\n 0,\n 0,\n 0,\n 0,\n 0,\n 0,\n 0,\n 0,\n 0,\n 0,\n 0,\n 0,\n 0,\n 0,\n 0,\n 0,\n 0,\n 0,\n 0,\n 0,\n 0,\n 0,\n 0,\n 0,\n 0,\n 0,\n 0,\n 0,\n 0,\n 0,\n 0,\n 0,\n 0,\n 0,\n 0,\n 0,\n 0,\n 0,\n 0,\n 0,\n 0,\n 0,\n 0,\n 0,\n 0,\n 0,\n 0,\n 0,\n 0,\n 0,\n 0,\n 0,\n 0,\n 0,\n 0,\n 0,\n 0,\n 0,\n 0,\n 0,\n 0,\n 0,\n 0,\n 0,\n 0,\n 0,\n 0,\n 0,\n 0,\n 0,\n 0,\n 0,\n 0,\n 0,\n 0,\n 0,\n 0,\n 0,\n 0,\n 0,\n 0,\n 0,\n 0,\n 0,\n 0,\n 0,\n 0,\n 0,\n 0,\n 0,\n 0,\n 0,\n 0,\n 0,\n 0,\n 0,\n 0,\n 0,\n 0,\n 0,\n 0,\n 0,\n 0,\n 0,\n 0,\n 0,\n 0,\n 0,\n 0,\n 0,\n 0,\n 0,\n 0,\n 0,\n 0,\n 0,\n 0,\n 0,\n 0,\n 0,\n 0,\n 0,\n 0,\n 0,\n 0,\n 0,\n 0,\n 0,\n 0,\n 0,\n 0,\n 0,\n 0,\n 0,\n 0,\n 0,\n 0,\n 0,\n 0,\n 0,\n 0,\n 0,\n 0,\n 0,\n 0,\n 0,\n 0,\n 0,\n 0,\n 0,\n 0,\n 0,\n 0,\n 0,\n 0,\n 0,\n 0,\n 0,\n 0,\n 0,\n 0,\n 0,\n 0,\n 0,\n 0,\n 0,\n 0,\n 0,\n 0,\n 0,\n 0,\n 0,\n 0,\n 0,\n 0,\n 0,\n 0,\n 0,\n 0,\n 0,\n 0,\n 0,\n 0,\n 0,\n 0,\n 0,\n 0,\n 0,\n 0,\n 0,\n 0,\n 0,\n 0,\n 0,\n 0,\n 0,\n 0,\n 0,\n 0,\n 0,\n 0,\n 0,\n 0,\n 0,\n 0,\n 0,\n 0,\n 0,\n 0,\n 0,\n 0,\n 0,\n 0,\n 0,\n 0,\n 0,\n 0,\n 0,\n 0,\n 0,\n 0,\n 0,\n 0,\n 0,\n 0,\n 0,\n 0,\n 0,\n 0,\n 0,\n 0,\n 0,\n 0,\n 0,\n 0,\n 0,\n 0,\n 0,\n 0,\n 0,\n 0,\n 0,\n 0,\n 0,\n 0,\n 0,\n 0,\n 0,\n 0,\n 0,\n 0,\n 0,\n 0,\n 0,\n 0,\n 0,\n 0,\n 0,\n 0,\n 0,\n 0,\n 0,\n 0,\n 0,\n 0,\n 0,\n 0,\n 0,\n 0,\n 0,\n 0,\n 0,\n 0,\n 0,\n 0,\n 0,\n 0,\n 0,\n 0,\n 0,\n 0,\n 0,\n 0,\n 0,\n 0,\n 0,\n 0,\n 0,\n 0,\n 0,\n 0,\n 0,\n 0,\n 0,\n 0,\n 0,\n 0,\n 0,\n 0,\n 0,\n 0,\n 0,\n 0,\n 0,\n 0,\n 0,\n 0,\n 0,\n 0,\n 0,\n 0,\n 0,\n 0,\n 0,\n 0,\n 0,\n 0,\n 0,\n 0,\n 0,\n 0,\n 0,\n 0,\n 0,\n 0,\n 0,\n 0,\n 0,\n 0,\n 0,\n 0,\n 0,\n 0,\n 0,\n 0,\n 0,\n 0,\n 0,\n 0,\n 0,\n 0,\n 0,\n 0,\n 0,\n 0,\n 0,\n 0,\n 0,\n 0,\n 0,\n 0,\n 0,\n 0,\n 0,\n 0,\n 0,\n 0,\n 0,\n 0,\n 0,\n 0,\n 0,\n 0,\n 0,\n 0,\n 0,\n 0,\n 0,\n 0,\n 0,\n 0,\n 0,\n 0,\n 0,\n 0,\n 0,\n 0,\n 0,\n 0,\n 0,\n 0,\n 0,\n 0,\n 0,\n 0,\n 0,\n 0,\n 0,\n 0,\n 0,\n 0,\n 0,\n 0,\n 0,\n 0,\n 0,\n 0,\n 0,\n 0,\n 0,\n 0,\n 0,\n 0,\n 0,\n 0,\n 0,\n 0,\n 0,\n 0,\n 0,\n 0,\n 0,\n 0,\n 0,\n 0,\n 0,\n 0,\n 0,\n 0,\n 0,\n 0,\n 0,\n 0,\n 0,\n 0,\n 0,\n 0,\n 0,\n 0,\n 0,\n 0,\n 0,\n 0,\n 0,\n 0,\n 0,\n 0,\n 0,\n 0,\n 0,\n 0,\n 0,\n 0,\n 0,\n 0,\n 0,\n 0,\n 0,\n 0,\n 0,\n 0,\n 0,\n 0,\n 0,\n 0,\n 0,\n 0,\n 0,\n 0,\n 0,\n 0,\n 0,\n 0,\n 0,\n 0,\n 0,\n 0,\n 0,\n 0,\n 0,\n 0,\n 0,\n 0,\n 0,\n 0,\n 0,\n 0,\n 0,\n 0,\n 0,\n 0,\n 0,\n 0,\n 0,\n 0,\n 0,\n 0,\n 0,\n 0,\n 0,\n 0,\n 0,\n 0,\n 0,\n 0,\n 0,\n 0,\n 0,\n 0,\n 0,\n 0,\n 0,\n 0,\n 0,\n 0,\n 0,\n 0,\n 0,\n ...]"
     },
     "execution_count": 62,
     "metadata": {},
     "output_type": "execute_result"
    }
   ],
   "source": [
    "final_data_for_prediction"
   ],
   "metadata": {
    "collapsed": false,
    "pycharm": {
     "name": "#%%\n"
    }
   }
  },
  {
   "cell_type": "code",
   "execution_count": 66,
   "outputs": [
    {
     "data": {
      "text/plain": "69"
     },
     "execution_count": 66,
     "metadata": {},
     "output_type": "execute_result"
    }
   ],
   "source": [
    "# Not all zeros\n",
    "sum(final_data_for_prediction[1:])"
   ],
   "metadata": {
    "collapsed": false,
    "pycharm": {
     "name": "#%%\n"
    }
   }
  },
  {
   "cell_type": "code",
   "execution_count": null,
   "outputs": [],
   "source": [
    "# Then we should pass the data to predictor and that's it"
   ],
   "metadata": {
    "collapsed": false,
    "pycharm": {
     "name": "#%%\n"
    }
   }
  },
  {
   "cell_type": "code",
   "execution_count": null,
   "outputs": [],
   "source": [
    "# bla bla bla"
   ],
   "metadata": {
    "collapsed": false,
    "pycharm": {
     "name": "#%%\n"
    }
   }
  },
  {
   "cell_type": "code",
   "execution_count": null,
   "outputs": [],
   "source": [
    "PATH_TO_TAG_DATASET = \"/home/Dmitry.Pogrebnoy/Desktop/itmo-ibd/data/pipeline/final_tags.csv\""
   ],
   "metadata": {
    "collapsed": false,
    "pycharm": {
     "name": "#%%\n"
    }
   }
  },
  {
   "cell_type": "code",
   "execution_count": null,
   "outputs": [],
   "source": [
    "tags_dataset = spark.read.csv(PATH_TO_COLUMN_DATASET, header=True).toPandas()[\"tag_name\"].to_list()"
   ],
   "metadata": {
    "collapsed": false,
    "pycharm": {
     "name": "#%%\n"
    }
   }
  },
  {
   "cell_type": "code",
   "execution_count": null,
   "outputs": [],
   "source": [
    "print(tags_dataset[0])\n",
    "print(tags_dataset[10])\n",
    "print(tags_dataset[20])"
   ],
   "metadata": {
    "collapsed": false,
    "pycharm": {
     "name": "#%%\n"
    }
   }
  }
 ],
 "metadata": {
  "kernelspec": {
   "display_name": "Python 3",
   "language": "python",
   "name": "python3"
  },
  "language_info": {
   "codemirror_mode": {
    "name": "ipython",
    "version": 2
   },
   "file_extension": ".py",
   "mimetype": "text/x-python",
   "name": "python",
   "nbconvert_exporter": "python",
   "pygments_lexer": "ipython2",
   "version": "2.7.6"
  }
 },
 "nbformat": 4,
 "nbformat_minor": 0
}