{
 "cells": [
  {
   "cell_type": "code",
   "execution_count": 2,
   "metadata": {},
   "outputs": [],
   "source": [
    "import pandas as pd\n",
    "import numpy as np"
   ]
  },
  {
   "cell_type": "code",
   "execution_count": 3,
   "metadata": {},
   "outputs": [
    {
     "data": {
      "text/html": [
       "<div>\n",
       "<style scoped>\n",
       "    .dataframe tbody tr th:only-of-type {\n",
       "        vertical-align: middle;\n",
       "    }\n",
       "\n",
       "    .dataframe tbody tr th {\n",
       "        vertical-align: top;\n",
       "    }\n",
       "\n",
       "    .dataframe thead th {\n",
       "        text-align: right;\n",
       "    }\n",
       "</style>\n",
       "<table border=\"1\" class=\"dataframe\">\n",
       "  <thead>\n",
       "    <tr style=\"text-align: right;\">\n",
       "      <th></th>\n",
       "      <th>project_name</th>\n",
       "      <th>package#A</th>\n",
       "      <th>package#ACGAN</th>\n",
       "      <th>package#APDrawing</th>\n",
       "      <th>package#APDrawingGAN</th>\n",
       "      <th>package#APDrawingGAN.data</th>\n",
       "      <th>package#APDrawingGAN.data.base_data_loader</th>\n",
       "      <th>package#APDrawingGAN.data.base_dataset</th>\n",
       "      <th>package#APDrawingGAN.data.face_landmark</th>\n",
       "      <th>package#APDrawingGAN.data.image_folder</th>\n",
       "      <th>...</th>\n",
       "      <th>topic#vim</th>\n",
       "      <th>topic#virtual-reality</th>\n",
       "      <th>topic#vue</th>\n",
       "      <th>topic#wagtail</th>\n",
       "      <th>topic#web-components</th>\n",
       "      <th>topic#webapp</th>\n",
       "      <th>topic#webpack</th>\n",
       "      <th>topic#windows</th>\n",
       "      <th>topic#wordpress</th>\n",
       "      <th>topic#xml</th>\n",
       "    </tr>\n",
       "  </thead>\n",
       "  <tbody>\n",
       "    <tr>\n",
       "      <th>0</th>\n",
       "      <td>01joy#news-search-engine</td>\n",
       "      <td>0</td>\n",
       "      <td>0</td>\n",
       "      <td>0</td>\n",
       "      <td>0</td>\n",
       "      <td>0</td>\n",
       "      <td>0</td>\n",
       "      <td>0</td>\n",
       "      <td>0</td>\n",
       "      <td>0</td>\n",
       "      <td>...</td>\n",
       "      <td>0</td>\n",
       "      <td>0</td>\n",
       "      <td>0</td>\n",
       "      <td>0</td>\n",
       "      <td>0</td>\n",
       "      <td>0</td>\n",
       "      <td>0</td>\n",
       "      <td>0</td>\n",
       "      <td>0</td>\n",
       "      <td>0</td>\n",
       "    </tr>\n",
       "    <tr>\n",
       "      <th>1</th>\n",
       "      <td>05bit#peewee-async</td>\n",
       "      <td>0</td>\n",
       "      <td>0</td>\n",
       "      <td>0</td>\n",
       "      <td>0</td>\n",
       "      <td>0</td>\n",
       "      <td>0</td>\n",
       "      <td>0</td>\n",
       "      <td>0</td>\n",
       "      <td>0</td>\n",
       "      <td>...</td>\n",
       "      <td>0</td>\n",
       "      <td>0</td>\n",
       "      <td>0</td>\n",
       "      <td>0</td>\n",
       "      <td>0</td>\n",
       "      <td>0</td>\n",
       "      <td>0</td>\n",
       "      <td>0</td>\n",
       "      <td>0</td>\n",
       "      <td>0</td>\n",
       "    </tr>\n",
       "    <tr>\n",
       "      <th>2</th>\n",
       "      <td>0k#shyaml</td>\n",
       "      <td>0</td>\n",
       "      <td>0</td>\n",
       "      <td>0</td>\n",
       "      <td>0</td>\n",
       "      <td>0</td>\n",
       "      <td>0</td>\n",
       "      <td>0</td>\n",
       "      <td>0</td>\n",
       "      <td>0</td>\n",
       "      <td>...</td>\n",
       "      <td>0</td>\n",
       "      <td>0</td>\n",
       "      <td>0</td>\n",
       "      <td>0</td>\n",
       "      <td>0</td>\n",
       "      <td>0</td>\n",
       "      <td>0</td>\n",
       "      <td>0</td>\n",
       "      <td>0</td>\n",
       "      <td>0</td>\n",
       "    </tr>\n",
       "    <tr>\n",
       "      <th>3</th>\n",
       "      <td>0x00-0x00#ShellPop</td>\n",
       "      <td>0</td>\n",
       "      <td>0</td>\n",
       "      <td>0</td>\n",
       "      <td>0</td>\n",
       "      <td>0</td>\n",
       "      <td>0</td>\n",
       "      <td>0</td>\n",
       "      <td>0</td>\n",
       "      <td>0</td>\n",
       "      <td>...</td>\n",
       "      <td>0</td>\n",
       "      <td>0</td>\n",
       "      <td>0</td>\n",
       "      <td>0</td>\n",
       "      <td>0</td>\n",
       "      <td>0</td>\n",
       "      <td>0</td>\n",
       "      <td>0</td>\n",
       "      <td>0</td>\n",
       "      <td>0</td>\n",
       "    </tr>\n",
       "    <tr>\n",
       "      <th>4</th>\n",
       "      <td>0xAX#linux-insides</td>\n",
       "      <td>0</td>\n",
       "      <td>0</td>\n",
       "      <td>0</td>\n",
       "      <td>0</td>\n",
       "      <td>0</td>\n",
       "      <td>0</td>\n",
       "      <td>0</td>\n",
       "      <td>0</td>\n",
       "      <td>0</td>\n",
       "      <td>...</td>\n",
       "      <td>0</td>\n",
       "      <td>0</td>\n",
       "      <td>0</td>\n",
       "      <td>0</td>\n",
       "      <td>0</td>\n",
       "      <td>0</td>\n",
       "      <td>0</td>\n",
       "      <td>0</td>\n",
       "      <td>0</td>\n",
       "      <td>0</td>\n",
       "    </tr>\n",
       "  </tbody>\n",
       "</table>\n",
       "<p>5 rows × 28545 columns</p>\n",
       "</div>"
      ],
      "text/plain": [
       "               project_name  package#A  package#ACGAN  package#APDrawing  \\\n",
       "0  01joy#news-search-engine          0              0                  0   \n",
       "1        05bit#peewee-async          0              0                  0   \n",
       "2                 0k#shyaml          0              0                  0   \n",
       "3        0x00-0x00#ShellPop          0              0                  0   \n",
       "4        0xAX#linux-insides          0              0                  0   \n",
       "\n",
       "   package#APDrawingGAN  package#APDrawingGAN.data  \\\n",
       "0                     0                          0   \n",
       "1                     0                          0   \n",
       "2                     0                          0   \n",
       "3                     0                          0   \n",
       "4                     0                          0   \n",
       "\n",
       "   package#APDrawingGAN.data.base_data_loader  \\\n",
       "0                                           0   \n",
       "1                                           0   \n",
       "2                                           0   \n",
       "3                                           0   \n",
       "4                                           0   \n",
       "\n",
       "   package#APDrawingGAN.data.base_dataset  \\\n",
       "0                                       0   \n",
       "1                                       0   \n",
       "2                                       0   \n",
       "3                                       0   \n",
       "4                                       0   \n",
       "\n",
       "   package#APDrawingGAN.data.face_landmark  \\\n",
       "0                                        0   \n",
       "1                                        0   \n",
       "2                                        0   \n",
       "3                                        0   \n",
       "4                                        0   \n",
       "\n",
       "   package#APDrawingGAN.data.image_folder  ...  topic#vim  \\\n",
       "0                                       0  ...          0   \n",
       "1                                       0  ...          0   \n",
       "2                                       0  ...          0   \n",
       "3                                       0  ...          0   \n",
       "4                                       0  ...          0   \n",
       "\n",
       "   topic#virtual-reality  topic#vue  topic#wagtail  topic#web-components  \\\n",
       "0                      0          0              0                     0   \n",
       "1                      0          0              0                     0   \n",
       "2                      0          0              0                     0   \n",
       "3                      0          0              0                     0   \n",
       "4                      0          0              0                     0   \n",
       "\n",
       "   topic#webapp  topic#webpack  topic#windows  topic#wordpress  topic#xml  \n",
       "0             0              0              0                0          0  \n",
       "1             0              0              0                0          0  \n",
       "2             0              0              0                0          0  \n",
       "3             0              0              0                0          0  \n",
       "4             0              0              0                0          0  \n",
       "\n",
       "[5 rows x 28545 columns]"
      ]
     },
     "execution_count": 3,
     "metadata": {},
     "output_type": "execute_result"
    }
   ],
   "source": [
    "df = pd.read_csv(\"../data/classification/count_dataset_for_multilabel.csv\")\n",
    "df.head()"
   ]
  },
  {
   "cell_type": "code",
   "execution_count": 4,
   "metadata": {},
   "outputs": [],
   "source": [
    "from xgboost import XGBClassifier\n",
    "from sklearn.metrics import accuracy_score\n",
    "from sklearn.metrics import classification_report"
   ]
  },
  {
   "cell_type": "code",
   "execution_count": 26,
   "metadata": {},
   "outputs": [],
   "source": [
    "from sklearn.ensemble import RandomForestClassifier\n",
    "from sklearn.multiclass import OneVsRestClassifier\n",
    "\n",
    "def get_forest_clf(X_train, y_train):\n",
    "    clf = RandomForestClassifier(criterion='gini', min_samples_leaf=5, max_depth=10, n_estimators=10, random_state=42)\n",
    "    clf_model = OneVsRestClassifier(clf)\n",
    "    clf_model.fit(X_train, y_train)\n",
    "    return clf_model\n",
    "\n",
    "def get_xgboost_clf(X_train, y_train, X_test, y_test):\n",
    "    clf = XGBClassifier(learning_rate=0.05,\n",
    "                        n_estimators=100,\n",
    "                        max_depth=5,\n",
    "                        min_child_weight=5.0,\n",
    "                        gamma=1,\n",
    "                        subsample=0.9,\n",
    "                        colsample_bytree=0.9,\n",
    "                        objective=\"binary:logistic\",\n",
    "                        random_state=42)\n",
    "    \n",
    "    clf.fit(X_train, y_train, verbose=False, eval_set=[(X_test, y_test)])\n",
    "\n",
    "    return clf"
   ]
  },
  {
   "cell_type": "code",
   "execution_count": null,
   "outputs": [],
   "source": [
    "import matplotlib.pyplot as plt\n",
    "from sklearn.metrics import roc_auc_score, roc_curve, precision_recall_curve\n",
    "\n",
    "\n",
    "def get_youden_threshold(model, X, y_true):\n",
    "    y_predict_proba = model.predict_proba(X)[:, 1]\n",
    "    fpr, tpr, thresholds = roc_curve(y_true, y_predict_proba, pos_label=1)\n",
    "    auc = roc_auc_score(y_true, y_predict_proba)\n",
    "    youden_idx = np.argmax(np.abs(tpr - fpr))\n",
    "    youden_threshold = thresholds[youden_idx]\n",
    "    \n",
    "    plt.figure(figsize=(5, 5))\n",
    "    plt.plot(fpr, tpr, color=\"red\", label=f\"ROC curve\")\n",
    "    plt.plot(fpr[youden_idx], tpr[youden_idx], marker=\"o\", color=\"navy\", ms=10, \n",
    "             label=f\"Youden Threshold={youden_threshold:.2f}\\nAUC={auc:.3f})\")\n",
    "    plt.plot([0,1], [0,1] , color=\"black\", ls=\"--\")\n",
    "    plt.xlim([-0.01, 1.01])\n",
    "    plt.ylim([-0.01, 1.01])\n",
    "    plt.xlabel('FPR', fontsize=12)\n",
    "    plt.ylabel('TPR', fontsize=12)\n",
    "    plt.tick_params(axis='both', which='major', labelsize=12)\n",
    "    plt.legend(prop={'size':12} , loc=4)\n",
    "    plt.show()\n",
    "    \n",
    "    return youden_threshold\n",
    "\n",
    "\n",
    "def get_threshold(model, X, y_true):\n",
    "    y_predict_proba = model.predict_proba(X)[:, 1]\n",
    "    precision, recall, thresholds = precision_recall_curve(y_true, y_predict_proba)\n",
    "    auc = roc_auc_score(y_true, y_predict_proba)\n",
    "    idx = np.argmin(np.abs(precision - recall))\n",
    "    threshold = thresholds[idx]\n",
    "    \n",
    "    f1 = []\n",
    "    for i in range(len(precision)):\n",
    "        f1.append(2 * (precision[i] * recall[i]) / (precision[i] + recall[i]))\n",
    "        \n",
    "    queue_rate = []\n",
    "    for thr in thresholds:\n",
    "        queue_rate.append((y_predict_proba >= thr).mean())\n",
    "        \n",
    "    plt.figure(figsize=(5, 5))\n",
    "    plt.plot(thresholds, precision[1:], label=\"Precision\")\n",
    "    plt.plot(thresholds, recall[1:], label=\"Recall\")\n",
    "    plt.plot(thresholds, f1[1:], label=\"F1-Score\")\n",
    "    plt.plot(thresholds, queue_rate, label=\"Queue Rate\")\n",
    "    plt.legend(loc=0)\n",
    "    plt.xlim([0.025, threshold + 0.2])\n",
    "    plt.xlabel(\"Threshold\", fontsize=12)\n",
    "    plt.ylabel(\"Score\", fontsize=12)\n",
    "    plt.axvline(threshold, color=\"k\", ls=\"--\")\n",
    "    plt.title(label = F\"Threshold={threshold:.3f}\", fontsize=12)\n",
    "    plt.show()\n",
    "    \n",
    "    return threshold"
   ],
   "metadata": {
    "collapsed": false,
    "pycharm": {
     "name": "#%%\n"
    }
   }
  },
  {
   "cell_type": "code",
   "execution_count": null,
   "outputs": [],
   "source": [
    "def evaluate(X_train, X_test, y_train, y_test, features):\n",
    "    for f in features: \n",
    "        y_train_unit, y_test_unit = y_train[f].values, y_test[f].values\n",
    "        clf = get_xgboost_clf(X_train, y_train_unit, X_test, y_test_unit)\n",
    "        \n",
    "        threshhold = get_youden_threshold(clf, X_test, y_test_unit)\n",
    "        \n",
    "        y_pred_proba = clf.predict_proba(X_test)\n",
    "        y_pred = [1 if p[1] > threshhold else 0 for p in y_pred_proba]\n",
    "        print('================', f, '================')\n",
    "        print(classification_report(y_test_unit, y_pred, labels=[0, 1]))\n",
    "        \n",
    "        threshhold = get_threshold(clf, X_test, y_test_unit)\n",
    "        \n",
    "        y_pred_proba = clf.predict_proba(X_test)\n",
    "        y_pred = [1 if p[1] > threshhold else 0 for p in y_pred_proba]\n",
    "        print('================', f, '================')\n",
    "        print(classification_report(y_test_unit, y_pred, labels=[0, 1]))"
   ],
   "metadata": {
    "collapsed": false,
    "pycharm": {
     "name": "#%%\n"
    }
   }
  },
  {
   "cell_type": "code",
   "execution_count": null,
   "outputs": [],
   "source": [
    "X_columns = [c for c in df.columns if c.startswith('ext') or c.startswith('package')]\n",
    "# X_columns"
   ],
   "metadata": {
    "collapsed": false,
    "pycharm": {
     "name": "#%%\n"
    }
   }
  },
  {
   "cell_type": "code",
   "execution_count": null,
   "outputs": [],
   "source": [
    "y_columns = [c for c in df.columns if c.startswith('tag') or c.startswith('topic')]\n",
    "# y_columns"
   ],
   "metadata": {
    "collapsed": false,
    "pycharm": {
     "name": "#%%\n"
    }
   }
  },
  {
   "cell_type": "code",
   "execution_count": null,
   "outputs": [],
   "source": [
    "X = df[X_columns].to_numpy()\n",
    "X.shape"
   ],
   "metadata": {
    "collapsed": false,
    "pycharm": {
     "name": "#%%\n"
    }
   }
  },
  {
   "cell_type": "code",
   "execution_count": null,
   "outputs": [],
   "source": [
    "y = df[y_columns]\n",
    "y.shape"
   ],
   "metadata": {
    "collapsed": false,
    "pycharm": {
     "name": "#%%\n"
    }
   }
  },
  {
   "cell_type": "code",
   "execution_count": null,
   "outputs": [],
   "source": [
    "from sklearn.model_selection import train_test_split\n",
    "\n",
    "X_train, X_test, y_train, y_test = train_test_split(X, y, random_state=42, train_size=0.7)\n",
    "X_train.shape, X_test.shape, y_train.shape, y_test.shape"
   ],
   "metadata": {
    "collapsed": false,
    "pycharm": {
     "name": "#%%\n"
    }
   }
  },
  {
   "cell_type": "markdown",
   "source": [
    "## Tags prediction"
   ],
   "metadata": {
    "collapsed": false,
    "pycharm": {
     "name": "#%% md\n"
    }
   }
  },
  {
   "cell_type": "code",
   "execution_count": null,
   "outputs": [],
   "source": [
    "tags = [c for c in y.columns if c.startswith('tag') and y[c].sum() > 50]\n",
    "print(len(tags))\n",
    "# tags"
   ],
   "metadata": {
    "collapsed": false,
    "pycharm": {
     "name": "#%%\n"
    }
   }
  },
  {
   "cell_type": "code",
   "execution_count": null,
   "outputs": [],
   "source": [
    "evaluate(X_train, X_test, y_train, y_test, tags)"
   ],
   "metadata": {
    "collapsed": false,
    "pycharm": {
     "name": "#%%\n"
    }
   }
  }
 ],
 "metadata": {
  "kernelspec": {
   "display_name": "Python 3 (ipykernel)",
   "language": "python",
   "name": "python3"
  },
  "language_info": {
   "codemirror_mode": {
    "name": "ipython",
    "version": 3
   },
   "file_extension": ".py",
   "mimetype": "text/x-python",
   "name": "python",
   "nbconvert_exporter": "python",
   "pygments_lexer": "ipython3",
   "version": "3.9.12"
  }
 },
 "nbformat": 4,
 "nbformat_minor": 1
}