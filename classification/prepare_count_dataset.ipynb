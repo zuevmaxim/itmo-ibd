{
 "cells": [
  {
   "cell_type": "code",
   "execution_count": 1,
   "metadata": {
    "pycharm": {
     "name": "#%%\n"
    }
   },
   "outputs": [],
   "source": [
    "import pandas as pd\n",
    "import numpy as np\n",
    "import ast\n",
    "import matplotlib.pyplot as plt"
   ]
  },
  {
   "cell_type": "code",
   "execution_count": 2,
   "outputs": [
    {
     "name": "stdout",
     "output_type": "stream",
     "text": [
      "\u001B[33mDEPRECATION: Configuring installation scheme with distutils config files is deprecated and will no longer work in the near future. If you are using a Homebrew or Linuxbrew Python, please see discussion at https://github.com/Homebrew/homebrew-core/issues/76621\u001B[0m\u001B[33m\r\n",
      "\u001B[0mRequirement already satisfied: pyspark in /usr/local/lib/python3.9/site-packages (3.2.1)\r\n",
      "Requirement already satisfied: py4j==0.10.9.3 in /usr/local/lib/python3.9/site-packages (from pyspark) (0.10.9.3)\r\n",
      "\u001B[33mDEPRECATION: Configuring installation scheme with distutils config files is deprecated and will no longer work in the near future. If you are using a Homebrew or Linuxbrew Python, please see discussion at https://github.com/Homebrew/homebrew-core/issues/76621\u001B[0m\u001B[33m\r\n",
      "\u001B[0m"
     ]
    },
    {
     "name": "stderr",
     "output_type": "stream",
     "text": [
      "WARNING: An illegal reflective access operation has occurred\n",
      "WARNING: Illegal reflective access by org.apache.spark.unsafe.Platform (file:/usr/local/lib/python3.9/site-packages/pyspark/jars/spark-unsafe_2.12-3.2.1.jar) to constructor java.nio.DirectByteBuffer(long,int)\n",
      "WARNING: Please consider reporting this to the maintainers of org.apache.spark.unsafe.Platform\n",
      "WARNING: Use --illegal-access=warn to enable warnings of further illegal reflective access operations\n",
      "WARNING: All illegal access operations will be denied in a future release\n",
      "Using Spark's default log4j profile: org/apache/spark/log4j-defaults.properties\n",
      "Setting default log level to \"WARN\".\n",
      "To adjust logging level use sc.setLogLevel(newLevel). For SparkR, use setLogLevel(newLevel).\n",
      "22/06/25 20:46:23 WARN NativeCodeLoader: Unable to load native-hadoop library for your platform... using builtin-java classes where applicable\n",
      "22/06/25 20:46:24 WARN Utils: Service 'SparkUI' could not bind on port 4040. Attempting port 4041.\n",
      "22/06/25 20:46:24 WARN Utils: Service 'SparkUI' could not bind on port 4041. Attempting port 4042.\n"
     ]
    }
   ],
   "source": [
    "! pip3 install pyspark\n",
    "from pyspark.sql.session import SparkSession\n",
    "import pyspark.sql.types as T\n",
    "import pyspark.sql.functions as F\n",
    "\n",
    "spark = SparkSession.builder.master(\"local\").getOrCreate()"
   ],
   "metadata": {
    "collapsed": false,
    "pycharm": {
     "name": "#%%\n"
    }
   }
  },
  {
   "cell_type": "code",
   "execution_count": 3,
   "metadata": {
    "pycharm": {
     "name": "#%%\n"
    }
   },
   "outputs": [
    {
     "name": "stderr",
     "output_type": "stream",
     "text": [
      "                                                                                \r"
     ]
    },
    {
     "name": "stdout",
     "output_type": "stream",
     "text": [
      "root\n",
      " |-- project_name: string (nullable = true)\n",
      " |-- import: string (nullable = true)\n",
      " |-- is_kotlin_import: integer (nullable = true)\n",
      " |-- is_python_import: integer (nullable = true)\n",
      " |-- package: string (nullable = true)\n",
      "\n",
      "+-----------------+--------------------+----------------+----------------+--------------------+\n",
      "|     project_name|              import|is_kotlin_import|is_python_import|             package|\n",
      "+-----------------+--------------------+----------------+----------------+--------------------+\n",
      "|    2dust#v2rayNG|androidx.appcompa...|               1|               0|androidx.appcompa...|\n",
      "|InsertKoinIO#koin|androidx.appcompa...|               1|               0|androidx.appcompa...|\n",
      "|InsertKoinIO#koin|androidx.appcompa...|               1|               0|androidx.appcompa...|\n",
      "|InsertKoinIO#koin|androidx.appcompa...|               1|               0|androidx.appcompa...|\n",
      "|InsertKoinIO#koin|androidx.appcompa...|               1|               0|androidx.appcompa...|\n",
      "|InsertKoinIO#koin|androidx.appcompa...|               1|               0|androidx.appcompa...|\n",
      "|InsertKoinIO#koin|androidx.appcompa...|               1|               0|androidx.appcompa...|\n",
      "|InsertKoinIO#koin|androidx.appcompa...|               1|               0|androidx.appcompa...|\n",
      "|InsertKoinIO#koin|androidx.appcompa...|               1|               0|androidx.appcompa...|\n",
      "|InsertKoinIO#koin|androidx.appcompa...|               1|               0|androidx.appcompa...|\n",
      "+-----------------+--------------------+----------------+----------------+--------------------+\n",
      "only showing top 10 rows\n",
      "\n"
     ]
    }
   ],
   "source": [
    "df_import_package_full = spark.read \\\n",
    "    .csv(\"../data/full_import_dataset/full_import_dataset_with_package.csv\", inferSchema=True, header=True) \\\n",
    "    .drop(\"_c0\")\n",
    "df_import_package_full.printSchema()\n",
    "df_import_package_full.show(10)"
   ]
  },
  {
   "cell_type": "code",
   "execution_count": 4,
   "metadata": {
    "pycharm": {
     "name": "#%%\n"
    }
   },
   "outputs": [
    {
     "name": "stderr",
     "output_type": "stream",
     "text": [
      "[Stage 3:>                                                          (0 + 1) / 1]\r"
     ]
    },
    {
     "name": "stdout",
     "output_type": "stream",
     "text": [
      "+--------------------+-------------------+----------------------+-----------------+-----------------+\n",
      "|        project_name|            package|count_different_import|is_kotlin_package|is_python_package|\n",
      "+--------------------+-------------------+----------------------+-----------------+-----------------+\n",
      "|       2dust#v2rayNG|   android.Manifest|                     5|                1|                0|\n",
      "|tachiyomiorg#tach...|       android.text|                    16|                1|                0|\n",
      "|       2dust#v2rayNG|  androidx.activity|                     6|                1|                0|\n",
      "|   JetBrains#Exposed|          java.util|                   112|                1|                0|\n",
      "|     walleth#walleth|            java.io|                    12|                1|                0|\n",
      "|miaowmiaow#fragmject|        android.app|                     8|                1|                0|\n",
      "|kongpf8848#Animation|  androidx.fragment|                     9|                1|                0|\n",
      "|         mamoe#mirai|androidx.preference|                     4|                1|                0|\n",
      "|skydoves#GithubFo...|          java.lang|                     3|                1|                0|\n",
      "|izhangzhihao#inte...|            java.io|                     2|                1|                0|\n",
      "+--------------------+-------------------+----------------------+-----------------+-----------------+\n",
      "only showing top 10 rows\n",
      "\n"
     ]
    },
    {
     "name": "stderr",
     "output_type": "stream",
     "text": [
      "                                                                                \r"
     ]
    }
   ],
   "source": [
    "# Count diff imports of packages in projects\n",
    "df_package = df_import_package_full \\\n",
    "    .groupby('project_name', 'package') \\\n",
    "    .agg(F.count('import').name('count_different_import'),\n",
    "         F.first('is_kotlin_import').name('is_kotlin_package'),\n",
    "         F.first('is_python_import').name('is_python_package'))\n",
    "\n",
    "df_package.show(10)"
   ]
  },
  {
   "cell_type": "code",
   "execution_count": 5,
   "metadata": {
    "pycharm": {
     "name": "#%%\n"
    }
   },
   "outputs": [],
   "source": [
    "def map_project(is_kotlin_package: int, name: str) -> str:\n",
    "    tag = 'package'\n",
    "    lang = 'kotlin' if is_kotlin_package == 1 else 'python'\n",
    "    return f'{tag}#{lang}#{name}'"
   ]
  },
  {
   "cell_type": "code",
   "execution_count": 6,
   "metadata": {
    "pycharm": {
     "name": "#%%\n"
    }
   },
   "outputs": [
    {
     "name": "stderr",
     "output_type": "stream",
     "text": [
      "[Stage 6:>                                                          (0 + 1) / 1]\r"
     ]
    },
    {
     "name": "stdout",
     "output_type": "stream",
     "text": [
      "+--------------------+--------------------+----------------------+-----------------+-----------------+\n",
      "|        project_name|             package|count_different_import|is_kotlin_package|is_python_package|\n",
      "+--------------------+--------------------+----------------------+-----------------+-----------------+\n",
      "|       2dust#v2rayNG|package#kotlin#an...|                     5|                1|                0|\n",
      "|tachiyomiorg#tach...|package#kotlin#an...|                    16|                1|                0|\n",
      "|       2dust#v2rayNG|package#kotlin#an...|                     6|                1|                0|\n",
      "|   JetBrains#Exposed|package#kotlin#ja...|                   112|                1|                0|\n",
      "|     walleth#walleth|package#kotlin#ja...|                    12|                1|                0|\n",
      "|miaowmiaow#fragmject|package#kotlin#an...|                     8|                1|                0|\n",
      "|kongpf8848#Animation|package#kotlin#an...|                     9|                1|                0|\n",
      "|         mamoe#mirai|package#kotlin#an...|                     4|                1|                0|\n",
      "|skydoves#GithubFo...|package#kotlin#ja...|                     3|                1|                0|\n",
      "|izhangzhihao#inte...|package#kotlin#ja...|                     2|                1|                0|\n",
      "+--------------------+--------------------+----------------------+-----------------+-----------------+\n",
      "only showing top 10 rows\n",
      "\n"
     ]
    },
    {
     "name": "stderr",
     "output_type": "stream",
     "text": [
      "                                                                                \r"
     ]
    }
   ],
   "source": [
    "map_project_udf=F.udf(map_project, T.StringType())\n",
    "df_package = df_package.withColumn(\"package\", map_project_udf(F.col(\"is_kotlin_package\"), F.col(\"package\")))\n",
    "df_package.show(10)"
   ]
  },
  {
   "cell_type": "markdown",
   "metadata": {
    "pycharm": {
     "name": "#%% md\n"
    }
   },
   "source": [
    "## Package features extraction"
   ]
  },
  {
   "cell_type": "code",
   "execution_count": 7,
   "metadata": {
    "pycharm": {
     "name": "#%%\n"
    }
   },
   "outputs": [
    {
     "name": "stderr",
     "output_type": "stream",
     "text": [
      "                                                                                \r"
     ]
    },
    {
     "data": {
      "text/plain": "package                   package#kotlin#B  package#kotlin#C  \\\nproject_name                                                   \n01joy#news-search-engine                 0                 0   \n05bit#peewee-async                       0                 0   \n0k#shyaml                                0                 0   \n0x00-0x00#ShellPop                       0                 0   \n0xAX#linux-insides                       0                 0   \n\npackage                   package#kotlin#Class  package#kotlin#Host  \\\nproject_name                                                          \n01joy#news-search-engine                     0                    0   \n05bit#peewee-async                           0                    0   \n0k#shyaml                                    0                    0   \n0x00-0x00#ShellPop                           0                    0   \n0xAX#linux-insides                           0                    0   \n\npackage                   package#kotlin#LibPackCase1  \\\nproject_name                                            \n01joy#news-search-engine                            0   \n05bit#peewee-async                                  0   \n0k#shyaml                                           0   \n0x00-0x00#ShellPop                                  0   \n0xAX#linux-insides                                  0   \n\npackage                   package#kotlin#LibPackCase2  \\\nproject_name                                            \n01joy#news-search-engine                            0   \n05bit#peewee-async                                  0   \n0k#shyaml                                           0   \n0x00-0x00#ShellPop                                  0   \n0xAX#linux-insides                                  0   \n\npackage                   package#kotlin#Libraries  package#kotlin#Library  \\\nproject_name                                                                 \n01joy#news-search-engine                         0                       0   \n05bit#peewee-async                               0                       0   \n0k#shyaml                                        0                       0   \n0x00-0x00#ShellPop                               0                       0   \n0xAX#linux-insides                               0                       0   \n\npackage                   package#kotlin#My  package#kotlin#POGOProtos  ...  \\\nproject_name                                                            ...   \n01joy#news-search-engine                  0                          0  ...   \n05bit#peewee-async                        0                          0  ...   \n0k#shyaml                                 0                          0  ...   \n0x00-0x00#ShellPop                        0                          0  ...   \n0xAX#linux-insides                        0                          0  ...   \n\npackage                   package#python#zeroconf  package#python#zigpy  \\\nproject_name                                                              \n01joy#news-search-engine                        0                     0   \n05bit#peewee-async                              0                     0   \n0k#shyaml                                       0                     0   \n0x00-0x00#ShellPop                              0                     0   \n0xAX#linux-insides                              0                     0   \n\npackage                   package#python#zipfile  package#python#zipimport  \\\nproject_name                                                                 \n01joy#news-search-engine                       0                         0   \n05bit#peewee-async                             0                         0   \n0k#shyaml                                      0                         0   \n0x00-0x00#ShellPop                             0                         0   \n0xAX#linux-insides                             0                         0   \n\npackage                   package#python#zlib  package#python#zmq  \\\nproject_name                                                        \n01joy#news-search-engine                    0                   0   \n05bit#peewee-async                          0                   0   \n0k#shyaml                                   0                   0   \n0x00-0x00#ShellPop                          0                   0   \n0xAX#linux-insides                          0                   0   \n\npackage                   package#python#zope  package#python#zulint  \\\nproject_name                                                           \n01joy#news-search-engine                    0                      0   \n05bit#peewee-async                          0                      0   \n0k#shyaml                                   0                      0   \n0x00-0x00#ShellPop                          0                      0   \n0xAX#linux-insides                          0                      0   \n\npackage                   package#python#zulip_bots  \\\nproject_name                                          \n01joy#news-search-engine                          0   \n05bit#peewee-async                                0   \n0k#shyaml                                         0   \n0x00-0x00#ShellPop                                0   \n0xAX#linux-insides                                0   \n\npackage                   package#python#zwave_js_server  \nproject_name                                              \n01joy#news-search-engine                               0  \n05bit#peewee-async                                     0  \n0k#shyaml                                              0  \n0x00-0x00#ShellPop                                     0  \n0xAX#linux-insides                                     0  \n\n[5 rows x 3982 columns]",
      "text/html": "<div>\n<style scoped>\n    .dataframe tbody tr th:only-of-type {\n        vertical-align: middle;\n    }\n\n    .dataframe tbody tr th {\n        vertical-align: top;\n    }\n\n    .dataframe thead th {\n        text-align: right;\n    }\n</style>\n<table border=\"1\" class=\"dataframe\">\n  <thead>\n    <tr style=\"text-align: right;\">\n      <th>package</th>\n      <th>package#kotlin#B</th>\n      <th>package#kotlin#C</th>\n      <th>package#kotlin#Class</th>\n      <th>package#kotlin#Host</th>\n      <th>package#kotlin#LibPackCase1</th>\n      <th>package#kotlin#LibPackCase2</th>\n      <th>package#kotlin#Libraries</th>\n      <th>package#kotlin#Library</th>\n      <th>package#kotlin#My</th>\n      <th>package#kotlin#POGOProtos</th>\n      <th>...</th>\n      <th>package#python#zeroconf</th>\n      <th>package#python#zigpy</th>\n      <th>package#python#zipfile</th>\n      <th>package#python#zipimport</th>\n      <th>package#python#zlib</th>\n      <th>package#python#zmq</th>\n      <th>package#python#zope</th>\n      <th>package#python#zulint</th>\n      <th>package#python#zulip_bots</th>\n      <th>package#python#zwave_js_server</th>\n    </tr>\n    <tr>\n      <th>project_name</th>\n      <th></th>\n      <th></th>\n      <th></th>\n      <th></th>\n      <th></th>\n      <th></th>\n      <th></th>\n      <th></th>\n      <th></th>\n      <th></th>\n      <th></th>\n      <th></th>\n      <th></th>\n      <th></th>\n      <th></th>\n      <th></th>\n      <th></th>\n      <th></th>\n      <th></th>\n      <th></th>\n      <th></th>\n    </tr>\n  </thead>\n  <tbody>\n    <tr>\n      <th>01joy#news-search-engine</th>\n      <td>0</td>\n      <td>0</td>\n      <td>0</td>\n      <td>0</td>\n      <td>0</td>\n      <td>0</td>\n      <td>0</td>\n      <td>0</td>\n      <td>0</td>\n      <td>0</td>\n      <td>...</td>\n      <td>0</td>\n      <td>0</td>\n      <td>0</td>\n      <td>0</td>\n      <td>0</td>\n      <td>0</td>\n      <td>0</td>\n      <td>0</td>\n      <td>0</td>\n      <td>0</td>\n    </tr>\n    <tr>\n      <th>05bit#peewee-async</th>\n      <td>0</td>\n      <td>0</td>\n      <td>0</td>\n      <td>0</td>\n      <td>0</td>\n      <td>0</td>\n      <td>0</td>\n      <td>0</td>\n      <td>0</td>\n      <td>0</td>\n      <td>...</td>\n      <td>0</td>\n      <td>0</td>\n      <td>0</td>\n      <td>0</td>\n      <td>0</td>\n      <td>0</td>\n      <td>0</td>\n      <td>0</td>\n      <td>0</td>\n      <td>0</td>\n    </tr>\n    <tr>\n      <th>0k#shyaml</th>\n      <td>0</td>\n      <td>0</td>\n      <td>0</td>\n      <td>0</td>\n      <td>0</td>\n      <td>0</td>\n      <td>0</td>\n      <td>0</td>\n      <td>0</td>\n      <td>0</td>\n      <td>...</td>\n      <td>0</td>\n      <td>0</td>\n      <td>0</td>\n      <td>0</td>\n      <td>0</td>\n      <td>0</td>\n      <td>0</td>\n      <td>0</td>\n      <td>0</td>\n      <td>0</td>\n    </tr>\n    <tr>\n      <th>0x00-0x00#ShellPop</th>\n      <td>0</td>\n      <td>0</td>\n      <td>0</td>\n      <td>0</td>\n      <td>0</td>\n      <td>0</td>\n      <td>0</td>\n      <td>0</td>\n      <td>0</td>\n      <td>0</td>\n      <td>...</td>\n      <td>0</td>\n      <td>0</td>\n      <td>0</td>\n      <td>0</td>\n      <td>0</td>\n      <td>0</td>\n      <td>0</td>\n      <td>0</td>\n      <td>0</td>\n      <td>0</td>\n    </tr>\n    <tr>\n      <th>0xAX#linux-insides</th>\n      <td>0</td>\n      <td>0</td>\n      <td>0</td>\n      <td>0</td>\n      <td>0</td>\n      <td>0</td>\n      <td>0</td>\n      <td>0</td>\n      <td>0</td>\n      <td>0</td>\n      <td>...</td>\n      <td>0</td>\n      <td>0</td>\n      <td>0</td>\n      <td>0</td>\n      <td>0</td>\n      <td>0</td>\n      <td>0</td>\n      <td>0</td>\n      <td>0</td>\n      <td>0</td>\n    </tr>\n  </tbody>\n</table>\n<p>5 rows × 3982 columns</p>\n</div>"
     },
     "execution_count": 7,
     "metadata": {},
     "output_type": "execute_result"
    }
   ],
   "source": [
    "pivot_package = df_package.toPandas() \\\n",
    "    .pivot_table(index=\"project_name\", columns=\"package\", values=\"count_different_import\", fill_value=0)\n",
    "\n",
    "pivot_package.head()"
   ]
  },
  {
   "cell_type": "code",
   "execution_count": 8,
   "metadata": {
    "pycharm": {
     "name": "#%%\n"
    }
   },
   "outputs": [
    {
     "data": {
      "text/plain": "(2836, 3982)"
     },
     "execution_count": 8,
     "metadata": {},
     "output_type": "execute_result"
    }
   ],
   "source": [
    "pivot_package.shape"
   ]
  },
  {
   "cell_type": "markdown",
   "metadata": {},
   "source": [
    "### TF-IDF transformation for packages"
   ]
  },
  {
   "cell_type": "code",
   "execution_count": 9,
   "metadata": {},
   "outputs": [],
   "source": [
    "def tf_idf(t):\n",
    "    N = pivot_package.shape[0]\n",
    "    idf = np.log(N / pivot_package[pivot_package[t] > 0].shape[0])\n",
    "    tf = pivot_package[t] / pivot_package['packages_count']\n",
    "    return tf * idf"
   ]
  },
  {
   "cell_type": "code",
   "execution_count": 10,
   "metadata": {
    "pycharm": {
     "name": "#%%\n"
    }
   },
   "outputs": [
    {
     "data": {
      "text/plain": "package                   package#kotlin#B  package#kotlin#C  \\\nproject_name                                                   \n01joy#news-search-engine               0.0               0.0   \n05bit#peewee-async                     0.0               0.0   \n0k#shyaml                              0.0               0.0   \n0x00-0x00#ShellPop                     0.0               0.0   \n0xAX#linux-insides                     0.0               0.0   \n\npackage                   package#kotlin#Class  package#kotlin#Host  \\\nproject_name                                                          \n01joy#news-search-engine                   0.0                  0.0   \n05bit#peewee-async                         0.0                  0.0   \n0k#shyaml                                  0.0                  0.0   \n0x00-0x00#ShellPop                         0.0                  0.0   \n0xAX#linux-insides                         0.0                  0.0   \n\npackage                   package#kotlin#LibPackCase1  \\\nproject_name                                            \n01joy#news-search-engine                          0.0   \n05bit#peewee-async                                0.0   \n0k#shyaml                                         0.0   \n0x00-0x00#ShellPop                                0.0   \n0xAX#linux-insides                                0.0   \n\npackage                   package#kotlin#LibPackCase2  \\\nproject_name                                            \n01joy#news-search-engine                          0.0   \n05bit#peewee-async                                0.0   \n0k#shyaml                                         0.0   \n0x00-0x00#ShellPop                                0.0   \n0xAX#linux-insides                                0.0   \n\npackage                   package#kotlin#Libraries  package#kotlin#Library  \\\nproject_name                                                                 \n01joy#news-search-engine                       0.0                     0.0   \n05bit#peewee-async                             0.0                     0.0   \n0k#shyaml                                      0.0                     0.0   \n0x00-0x00#ShellPop                             0.0                     0.0   \n0xAX#linux-insides                             0.0                     0.0   \n\npackage                   package#kotlin#My  package#kotlin#POGOProtos  ...  \\\nproject_name                                                            ...   \n01joy#news-search-engine                0.0                        0.0  ...   \n05bit#peewee-async                      0.0                        0.0  ...   \n0k#shyaml                               0.0                        0.0  ...   \n0x00-0x00#ShellPop                      0.0                        0.0  ...   \n0xAX#linux-insides                      0.0                        0.0  ...   \n\npackage                   package#python#zigpy  package#python#zipfile  \\\nproject_name                                                             \n01joy#news-search-engine                   0.0                     0.0   \n05bit#peewee-async                         0.0                     0.0   \n0k#shyaml                                  0.0                     0.0   \n0x00-0x00#ShellPop                         0.0                     0.0   \n0xAX#linux-insides                         0.0                     0.0   \n\npackage                   package#python#zipimport  package#python#zlib  \\\nproject_name                                                              \n01joy#news-search-engine                       0.0                  0.0   \n05bit#peewee-async                             0.0                  0.0   \n0k#shyaml                                      0.0                  0.0   \n0x00-0x00#ShellPop                             0.0                  0.0   \n0xAX#linux-insides                             0.0                  0.0   \n\npackage                   package#python#zmq  package#python#zope  \\\nproject_name                                                        \n01joy#news-search-engine                 0.0                  0.0   \n05bit#peewee-async                       0.0                  0.0   \n0k#shyaml                                0.0                  0.0   \n0x00-0x00#ShellPop                       0.0                  0.0   \n0xAX#linux-insides                       0.0                  0.0   \n\npackage                   package#python#zulint  package#python#zulip_bots  \\\nproject_name                                                                 \n01joy#news-search-engine                    0.0                        0.0   \n05bit#peewee-async                          0.0                        0.0   \n0k#shyaml                                   0.0                        0.0   \n0x00-0x00#ShellPop                          0.0                        0.0   \n0xAX#linux-insides                          0.0                        0.0   \n\npackage                   package#python#zwave_js_server  packages_count  \nproject_name                                                              \n01joy#news-search-engine                             0.0              15  \n05bit#peewee-async                                   0.0               5  \n0k#shyaml                                            0.0               9  \n0x00-0x00#ShellPop                                   0.0              14  \n0xAX#linux-insides                                   0.0               8  \n\n[5 rows x 3983 columns]",
      "text/html": "<div>\n<style scoped>\n    .dataframe tbody tr th:only-of-type {\n        vertical-align: middle;\n    }\n\n    .dataframe tbody tr th {\n        vertical-align: top;\n    }\n\n    .dataframe thead th {\n        text-align: right;\n    }\n</style>\n<table border=\"1\" class=\"dataframe\">\n  <thead>\n    <tr style=\"text-align: right;\">\n      <th>package</th>\n      <th>package#kotlin#B</th>\n      <th>package#kotlin#C</th>\n      <th>package#kotlin#Class</th>\n      <th>package#kotlin#Host</th>\n      <th>package#kotlin#LibPackCase1</th>\n      <th>package#kotlin#LibPackCase2</th>\n      <th>package#kotlin#Libraries</th>\n      <th>package#kotlin#Library</th>\n      <th>package#kotlin#My</th>\n      <th>package#kotlin#POGOProtos</th>\n      <th>...</th>\n      <th>package#python#zigpy</th>\n      <th>package#python#zipfile</th>\n      <th>package#python#zipimport</th>\n      <th>package#python#zlib</th>\n      <th>package#python#zmq</th>\n      <th>package#python#zope</th>\n      <th>package#python#zulint</th>\n      <th>package#python#zulip_bots</th>\n      <th>package#python#zwave_js_server</th>\n      <th>packages_count</th>\n    </tr>\n    <tr>\n      <th>project_name</th>\n      <th></th>\n      <th></th>\n      <th></th>\n      <th></th>\n      <th></th>\n      <th></th>\n      <th></th>\n      <th></th>\n      <th></th>\n      <th></th>\n      <th></th>\n      <th></th>\n      <th></th>\n      <th></th>\n      <th></th>\n      <th></th>\n      <th></th>\n      <th></th>\n      <th></th>\n      <th></th>\n      <th></th>\n    </tr>\n  </thead>\n  <tbody>\n    <tr>\n      <th>01joy#news-search-engine</th>\n      <td>0.0</td>\n      <td>0.0</td>\n      <td>0.0</td>\n      <td>0.0</td>\n      <td>0.0</td>\n      <td>0.0</td>\n      <td>0.0</td>\n      <td>0.0</td>\n      <td>0.0</td>\n      <td>0.0</td>\n      <td>...</td>\n      <td>0.0</td>\n      <td>0.0</td>\n      <td>0.0</td>\n      <td>0.0</td>\n      <td>0.0</td>\n      <td>0.0</td>\n      <td>0.0</td>\n      <td>0.0</td>\n      <td>0.0</td>\n      <td>15</td>\n    </tr>\n    <tr>\n      <th>05bit#peewee-async</th>\n      <td>0.0</td>\n      <td>0.0</td>\n      <td>0.0</td>\n      <td>0.0</td>\n      <td>0.0</td>\n      <td>0.0</td>\n      <td>0.0</td>\n      <td>0.0</td>\n      <td>0.0</td>\n      <td>0.0</td>\n      <td>...</td>\n      <td>0.0</td>\n      <td>0.0</td>\n      <td>0.0</td>\n      <td>0.0</td>\n      <td>0.0</td>\n      <td>0.0</td>\n      <td>0.0</td>\n      <td>0.0</td>\n      <td>0.0</td>\n      <td>5</td>\n    </tr>\n    <tr>\n      <th>0k#shyaml</th>\n      <td>0.0</td>\n      <td>0.0</td>\n      <td>0.0</td>\n      <td>0.0</td>\n      <td>0.0</td>\n      <td>0.0</td>\n      <td>0.0</td>\n      <td>0.0</td>\n      <td>0.0</td>\n      <td>0.0</td>\n      <td>...</td>\n      <td>0.0</td>\n      <td>0.0</td>\n      <td>0.0</td>\n      <td>0.0</td>\n      <td>0.0</td>\n      <td>0.0</td>\n      <td>0.0</td>\n      <td>0.0</td>\n      <td>0.0</td>\n      <td>9</td>\n    </tr>\n    <tr>\n      <th>0x00-0x00#ShellPop</th>\n      <td>0.0</td>\n      <td>0.0</td>\n      <td>0.0</td>\n      <td>0.0</td>\n      <td>0.0</td>\n      <td>0.0</td>\n      <td>0.0</td>\n      <td>0.0</td>\n      <td>0.0</td>\n      <td>0.0</td>\n      <td>...</td>\n      <td>0.0</td>\n      <td>0.0</td>\n      <td>0.0</td>\n      <td>0.0</td>\n      <td>0.0</td>\n      <td>0.0</td>\n      <td>0.0</td>\n      <td>0.0</td>\n      <td>0.0</td>\n      <td>14</td>\n    </tr>\n    <tr>\n      <th>0xAX#linux-insides</th>\n      <td>0.0</td>\n      <td>0.0</td>\n      <td>0.0</td>\n      <td>0.0</td>\n      <td>0.0</td>\n      <td>0.0</td>\n      <td>0.0</td>\n      <td>0.0</td>\n      <td>0.0</td>\n      <td>0.0</td>\n      <td>...</td>\n      <td>0.0</td>\n      <td>0.0</td>\n      <td>0.0</td>\n      <td>0.0</td>\n      <td>0.0</td>\n      <td>0.0</td>\n      <td>0.0</td>\n      <td>0.0</td>\n      <td>0.0</td>\n      <td>8</td>\n    </tr>\n  </tbody>\n</table>\n<p>5 rows × 3983 columns</p>\n</div>"
     },
     "execution_count": 10,
     "metadata": {},
     "output_type": "execute_result"
    }
   ],
   "source": [
    "packages = df_package.toPandas()['package'].unique()\n",
    "pivot_package['packages_count'] = pivot_package[packages].sum(axis=1)\n",
    "\n",
    "for t in packages:\n",
    "    pivot_package[t] = tf_idf(t)\n",
    "    \n",
    "pivot_package.head()"
   ]
  },
  {
   "cell_type": "markdown",
   "metadata": {
    "pycharm": {
     "name": "#%% md\n"
    }
   },
   "source": [
    "## Extension features extraction"
   ]
  },
  {
   "cell_type": "code",
   "execution_count": 11,
   "metadata": {
    "pycharm": {
     "name": "#%%\n"
    }
   },
   "outputs": [
    {
     "name": "stdout",
     "output_type": "stream",
     "text": [
      "root\n",
      " |-- project_name: string (nullable = true)\n",
      " |-- ext: string (nullable = true)\n",
      " |-- count: integer (nullable = true)\n",
      "\n",
      "+-------------------+-----+-----+\n",
      "|       project_name|  ext|count|\n",
      "+-------------------+-----+-----+\n",
      "|donnemartin#gitsome| .yml|    4|\n",
      "|donnemartin#gitsome|  .md|   10|\n",
      "|donnemartin#gitsome|  .py|  345|\n",
      "|donnemartin#gitsome| .txt|    3|\n",
      "|donnemartin#gitsome| .ini|    1|\n",
      "|donnemartin#gitsome| .rst|    1|\n",
      "|donnemartin#gitsome| .png|    1|\n",
      "|donnemartin#gitsome|   .p|    3|\n",
      "|donnemartin#gitsome|.json|    1|\n",
      "|donnemartin#gitsome|   .c|    1|\n",
      "+-------------------+-----+-----+\n",
      "only showing top 10 rows\n",
      "\n"
     ]
    }
   ],
   "source": [
    "# Load ext count dataset\n",
    "df_extension = spark.read \\\n",
    "    .csv(\"../data/ext_count/full_ext_count_dataset.csv\", inferSchema=True, header=True) \\\n",
    "    .drop(\"_c0\").dropna()\n",
    "df_extension.printSchema()\n",
    "df_extension.show(10)"
   ]
  },
  {
   "cell_type": "code",
   "execution_count": 12,
   "metadata": {
    "pycharm": {
     "name": "#%%\n"
    }
   },
   "outputs": [
    {
     "data": {
      "text/plain": "75348"
     },
     "execution_count": 12,
     "metadata": {},
     "output_type": "execute_result"
    }
   ],
   "source": [
    "df_extension.count()"
   ]
  },
  {
   "cell_type": "code",
   "execution_count": 13,
   "metadata": {
    "pycharm": {
     "name": "#%%\n"
    }
   },
   "outputs": [],
   "source": [
    "def map_extension(ext: str) -> str:\n",
    "    tag = 'ext'\n",
    "    ext = ext[1:]\n",
    "    return f'{tag}#{ext}'"
   ]
  },
  {
   "cell_type": "code",
   "execution_count": 14,
   "metadata": {
    "pycharm": {
     "name": "#%%\n"
    }
   },
   "outputs": [
    {
     "name": "stdout",
     "output_type": "stream",
     "text": [
      "+-------------------+--------+-----+\n",
      "|       project_name|     ext|count|\n",
      "+-------------------+--------+-----+\n",
      "|donnemartin#gitsome| ext#yml|    4|\n",
      "|donnemartin#gitsome|  ext#md|   10|\n",
      "|donnemartin#gitsome|  ext#py|  345|\n",
      "|donnemartin#gitsome| ext#txt|    3|\n",
      "|donnemartin#gitsome| ext#ini|    1|\n",
      "|donnemartin#gitsome| ext#rst|    1|\n",
      "|donnemartin#gitsome| ext#png|    1|\n",
      "|donnemartin#gitsome|   ext#p|    3|\n",
      "|donnemartin#gitsome|ext#json|    1|\n",
      "|donnemartin#gitsome|   ext#c|    1|\n",
      "+-------------------+--------+-----+\n",
      "only showing top 10 rows\n",
      "\n"
     ]
    }
   ],
   "source": [
    "map_extension_udf = F.udf(map_extension, T.StringType())\n",
    "df_extension = df_extension.withColumn(\"ext\", map_extension_udf(F.col(\"ext\")))\n",
    "df_extension.show(10)"
   ]
  },
  {
   "cell_type": "code",
   "execution_count": 15,
   "metadata": {
    "pycharm": {
     "name": "#%%\n"
    }
   },
   "outputs": [
    {
     "data": {
      "text/plain": "ext                       ext#  ext#0  ext#0+  ext#0-AT  \\\nproject_name                                              \n01joy#news-search-engine     0      0       0         0   \n05bit#peewee-async           0      0       0         0   \n0k#shyaml                    0      0       0         0   \n0x00-0x00#ShellPop           0      0       0         0   \n0xAX#linux-insides           0      0       0         0   \n\next                       ext#0-Combined-Work-Exception  ext#0-DE  ext#0-FR  \\\nproject_name                                                                  \n01joy#news-search-engine                              0         0         0   \n05bit#peewee-async                                    0         0         0   \n0k#shyaml                                             0         0         0   \n0x00-0x00#ShellPop                                    0         0         0   \n0xAX#linux-insides                                    0         0         0   \n\next                       ext#0-IGO  ext#0-NL  ext#0-Perl  ...  ext#zktx  \\\nproject_name                                               ...             \n01joy#news-search-engine          0         0           0  ...         0   \n05bit#peewee-async                0         0           0  ...         0   \n0k#shyaml                         0         0           0  ...         0   \n0x00-0x00#ShellPop                0         0           0  ...         0   \n0xAX#linux-insides                0         0           0  ...         0   \n\next                       ext#zlib  ext#zmpl  ext#zone  ext#zoneinfo  \\\nproject_name                                                           \n01joy#news-search-engine         0         0         0             0   \n05bit#peewee-async               0         0         0             0   \n0k#shyaml                        0         0         0             0   \n0x00-0x00#ShellPop               0         0         0             0   \n0xAX#linux-insides               0         0         0             0   \n\next                       ext#zpln  ext#zraw  ext#zsh  ext#zst  ext#zzz  \nproject_name                                                             \n01joy#news-search-engine         0         0        0        0        0  \n05bit#peewee-async               0         0        0        0        0  \n0k#shyaml                        0         0        0        0        0  \n0x00-0x00#ShellPop               0         0        0        0        0  \n0xAX#linux-insides               0         0        0        0        0  \n\n[5 rows x 3852 columns]",
      "text/html": "<div>\n<style scoped>\n    .dataframe tbody tr th:only-of-type {\n        vertical-align: middle;\n    }\n\n    .dataframe tbody tr th {\n        vertical-align: top;\n    }\n\n    .dataframe thead th {\n        text-align: right;\n    }\n</style>\n<table border=\"1\" class=\"dataframe\">\n  <thead>\n    <tr style=\"text-align: right;\">\n      <th>ext</th>\n      <th>ext#</th>\n      <th>ext#0</th>\n      <th>ext#0+</th>\n      <th>ext#0-AT</th>\n      <th>ext#0-Combined-Work-Exception</th>\n      <th>ext#0-DE</th>\n      <th>ext#0-FR</th>\n      <th>ext#0-IGO</th>\n      <th>ext#0-NL</th>\n      <th>ext#0-Perl</th>\n      <th>...</th>\n      <th>ext#zktx</th>\n      <th>ext#zlib</th>\n      <th>ext#zmpl</th>\n      <th>ext#zone</th>\n      <th>ext#zoneinfo</th>\n      <th>ext#zpln</th>\n      <th>ext#zraw</th>\n      <th>ext#zsh</th>\n      <th>ext#zst</th>\n      <th>ext#zzz</th>\n    </tr>\n    <tr>\n      <th>project_name</th>\n      <th></th>\n      <th></th>\n      <th></th>\n      <th></th>\n      <th></th>\n      <th></th>\n      <th></th>\n      <th></th>\n      <th></th>\n      <th></th>\n      <th></th>\n      <th></th>\n      <th></th>\n      <th></th>\n      <th></th>\n      <th></th>\n      <th></th>\n      <th></th>\n      <th></th>\n      <th></th>\n      <th></th>\n    </tr>\n  </thead>\n  <tbody>\n    <tr>\n      <th>01joy#news-search-engine</th>\n      <td>0</td>\n      <td>0</td>\n      <td>0</td>\n      <td>0</td>\n      <td>0</td>\n      <td>0</td>\n      <td>0</td>\n      <td>0</td>\n      <td>0</td>\n      <td>0</td>\n      <td>...</td>\n      <td>0</td>\n      <td>0</td>\n      <td>0</td>\n      <td>0</td>\n      <td>0</td>\n      <td>0</td>\n      <td>0</td>\n      <td>0</td>\n      <td>0</td>\n      <td>0</td>\n    </tr>\n    <tr>\n      <th>05bit#peewee-async</th>\n      <td>0</td>\n      <td>0</td>\n      <td>0</td>\n      <td>0</td>\n      <td>0</td>\n      <td>0</td>\n      <td>0</td>\n      <td>0</td>\n      <td>0</td>\n      <td>0</td>\n      <td>...</td>\n      <td>0</td>\n      <td>0</td>\n      <td>0</td>\n      <td>0</td>\n      <td>0</td>\n      <td>0</td>\n      <td>0</td>\n      <td>0</td>\n      <td>0</td>\n      <td>0</td>\n    </tr>\n    <tr>\n      <th>0k#shyaml</th>\n      <td>0</td>\n      <td>0</td>\n      <td>0</td>\n      <td>0</td>\n      <td>0</td>\n      <td>0</td>\n      <td>0</td>\n      <td>0</td>\n      <td>0</td>\n      <td>0</td>\n      <td>...</td>\n      <td>0</td>\n      <td>0</td>\n      <td>0</td>\n      <td>0</td>\n      <td>0</td>\n      <td>0</td>\n      <td>0</td>\n      <td>0</td>\n      <td>0</td>\n      <td>0</td>\n    </tr>\n    <tr>\n      <th>0x00-0x00#ShellPop</th>\n      <td>0</td>\n      <td>0</td>\n      <td>0</td>\n      <td>0</td>\n      <td>0</td>\n      <td>0</td>\n      <td>0</td>\n      <td>0</td>\n      <td>0</td>\n      <td>0</td>\n      <td>...</td>\n      <td>0</td>\n      <td>0</td>\n      <td>0</td>\n      <td>0</td>\n      <td>0</td>\n      <td>0</td>\n      <td>0</td>\n      <td>0</td>\n      <td>0</td>\n      <td>0</td>\n    </tr>\n    <tr>\n      <th>0xAX#linux-insides</th>\n      <td>0</td>\n      <td>0</td>\n      <td>0</td>\n      <td>0</td>\n      <td>0</td>\n      <td>0</td>\n      <td>0</td>\n      <td>0</td>\n      <td>0</td>\n      <td>0</td>\n      <td>...</td>\n      <td>0</td>\n      <td>0</td>\n      <td>0</td>\n      <td>0</td>\n      <td>0</td>\n      <td>0</td>\n      <td>0</td>\n      <td>0</td>\n      <td>0</td>\n      <td>0</td>\n    </tr>\n  </tbody>\n</table>\n<p>5 rows × 3852 columns</p>\n</div>"
     },
     "execution_count": 15,
     "metadata": {},
     "output_type": "execute_result"
    }
   ],
   "source": [
    "pivot_extension = df_extension.toPandas().pivot_table(index=\"project_name\", columns=\"ext\", values=\"count\", fill_value=0)\n",
    "pivot_extension.head()"
   ]
  },
  {
   "cell_type": "code",
   "execution_count": 16,
   "metadata": {
    "pycharm": {
     "name": "#%%\n"
    }
   },
   "outputs": [
    {
     "data": {
      "text/plain": "(3404, 3852)"
     },
     "execution_count": 16,
     "metadata": {},
     "output_type": "execute_result"
    }
   ],
   "source": [
    "pivot_extension.shape"
   ]
  },
  {
   "cell_type": "code",
   "execution_count": 17,
   "metadata": {},
   "outputs": [],
   "source": [
    "def tf(t):\n",
    "    tf = pivot_extension[t] / (pivot_extension['ext_count'] + 1)\n",
    "    return tf"
   ]
  },
  {
   "cell_type": "code",
   "execution_count": 18,
   "metadata": {
    "pycharm": {
     "name": "#%%\n"
    }
   },
   "outputs": [
    {
     "data": {
      "text/plain": "ext                       ext#  ext#0  ext#0+  ext#0-AT  \\\nproject_name                                              \n01joy#news-search-engine   0.0    0.0     0.0       0.0   \n05bit#peewee-async         0.0    0.0     0.0       0.0   \n0k#shyaml                  0.0    0.0     0.0       0.0   \n0x00-0x00#ShellPop         0.0    0.0     0.0       0.0   \n0xAX#linux-insides         0.0    0.0     0.0       0.0   \n\next                       ext#0-Combined-Work-Exception  ext#0-DE  ext#0-FR  \\\nproject_name                                                                  \n01joy#news-search-engine                            0.0       0.0       0.0   \n05bit#peewee-async                                  0.0       0.0       0.0   \n0k#shyaml                                           0.0       0.0       0.0   \n0x00-0x00#ShellPop                                  0.0       0.0       0.0   \n0xAX#linux-insides                                  0.0       0.0       0.0   \n\next                       ext#0-IGO  ext#0-NL  ext#0-Perl  ...  ext#zlib  \\\nproject_name                                               ...             \n01joy#news-search-engine        0.0       0.0         0.0  ...       0.0   \n05bit#peewee-async              0.0       0.0         0.0  ...       0.0   \n0k#shyaml                       0.0       0.0         0.0  ...       0.0   \n0x00-0x00#ShellPop              0.0       0.0         0.0  ...       0.0   \n0xAX#linux-insides              0.0       0.0         0.0  ...       0.0   \n\next                       ext#zmpl  ext#zone  ext#zoneinfo  ext#zpln  \\\nproject_name                                                           \n01joy#news-search-engine       0.0       0.0           0.0       0.0   \n05bit#peewee-async             0.0       0.0           0.0       0.0   \n0k#shyaml                      0.0       0.0           0.0       0.0   \n0x00-0x00#ShellPop             0.0       0.0           0.0       0.0   \n0xAX#linux-insides             0.0       0.0           0.0       0.0   \n\next                       ext#zraw  ext#zsh  ext#zst  ext#zzz  ext_count  \nproject_name                                                              \n01joy#news-search-engine       0.0      0.0      0.0      0.0     2492.0  \n05bit#peewee-async             0.0      0.0      0.0      0.0       30.0  \n0k#shyaml                      0.0      0.0      0.0      0.0       22.0  \n0x00-0x00#ShellPop             0.0      0.0      0.0      0.0       44.0  \n0xAX#linux-insides             0.0      0.0      0.0      0.0      132.0  \n\n[5 rows x 3853 columns]",
      "text/html": "<div>\n<style scoped>\n    .dataframe tbody tr th:only-of-type {\n        vertical-align: middle;\n    }\n\n    .dataframe tbody tr th {\n        vertical-align: top;\n    }\n\n    .dataframe thead th {\n        text-align: right;\n    }\n</style>\n<table border=\"1\" class=\"dataframe\">\n  <thead>\n    <tr style=\"text-align: right;\">\n      <th>ext</th>\n      <th>ext#</th>\n      <th>ext#0</th>\n      <th>ext#0+</th>\n      <th>ext#0-AT</th>\n      <th>ext#0-Combined-Work-Exception</th>\n      <th>ext#0-DE</th>\n      <th>ext#0-FR</th>\n      <th>ext#0-IGO</th>\n      <th>ext#0-NL</th>\n      <th>ext#0-Perl</th>\n      <th>...</th>\n      <th>ext#zlib</th>\n      <th>ext#zmpl</th>\n      <th>ext#zone</th>\n      <th>ext#zoneinfo</th>\n      <th>ext#zpln</th>\n      <th>ext#zraw</th>\n      <th>ext#zsh</th>\n      <th>ext#zst</th>\n      <th>ext#zzz</th>\n      <th>ext_count</th>\n    </tr>\n    <tr>\n      <th>project_name</th>\n      <th></th>\n      <th></th>\n      <th></th>\n      <th></th>\n      <th></th>\n      <th></th>\n      <th></th>\n      <th></th>\n      <th></th>\n      <th></th>\n      <th></th>\n      <th></th>\n      <th></th>\n      <th></th>\n      <th></th>\n      <th></th>\n      <th></th>\n      <th></th>\n      <th></th>\n      <th></th>\n      <th></th>\n    </tr>\n  </thead>\n  <tbody>\n    <tr>\n      <th>01joy#news-search-engine</th>\n      <td>0.0</td>\n      <td>0.0</td>\n      <td>0.0</td>\n      <td>0.0</td>\n      <td>0.0</td>\n      <td>0.0</td>\n      <td>0.0</td>\n      <td>0.0</td>\n      <td>0.0</td>\n      <td>0.0</td>\n      <td>...</td>\n      <td>0.0</td>\n      <td>0.0</td>\n      <td>0.0</td>\n      <td>0.0</td>\n      <td>0.0</td>\n      <td>0.0</td>\n      <td>0.0</td>\n      <td>0.0</td>\n      <td>0.0</td>\n      <td>2492.0</td>\n    </tr>\n    <tr>\n      <th>05bit#peewee-async</th>\n      <td>0.0</td>\n      <td>0.0</td>\n      <td>0.0</td>\n      <td>0.0</td>\n      <td>0.0</td>\n      <td>0.0</td>\n      <td>0.0</td>\n      <td>0.0</td>\n      <td>0.0</td>\n      <td>0.0</td>\n      <td>...</td>\n      <td>0.0</td>\n      <td>0.0</td>\n      <td>0.0</td>\n      <td>0.0</td>\n      <td>0.0</td>\n      <td>0.0</td>\n      <td>0.0</td>\n      <td>0.0</td>\n      <td>0.0</td>\n      <td>30.0</td>\n    </tr>\n    <tr>\n      <th>0k#shyaml</th>\n      <td>0.0</td>\n      <td>0.0</td>\n      <td>0.0</td>\n      <td>0.0</td>\n      <td>0.0</td>\n      <td>0.0</td>\n      <td>0.0</td>\n      <td>0.0</td>\n      <td>0.0</td>\n      <td>0.0</td>\n      <td>...</td>\n      <td>0.0</td>\n      <td>0.0</td>\n      <td>0.0</td>\n      <td>0.0</td>\n      <td>0.0</td>\n      <td>0.0</td>\n      <td>0.0</td>\n      <td>0.0</td>\n      <td>0.0</td>\n      <td>22.0</td>\n    </tr>\n    <tr>\n      <th>0x00-0x00#ShellPop</th>\n      <td>0.0</td>\n      <td>0.0</td>\n      <td>0.0</td>\n      <td>0.0</td>\n      <td>0.0</td>\n      <td>0.0</td>\n      <td>0.0</td>\n      <td>0.0</td>\n      <td>0.0</td>\n      <td>0.0</td>\n      <td>...</td>\n      <td>0.0</td>\n      <td>0.0</td>\n      <td>0.0</td>\n      <td>0.0</td>\n      <td>0.0</td>\n      <td>0.0</td>\n      <td>0.0</td>\n      <td>0.0</td>\n      <td>0.0</td>\n      <td>44.0</td>\n    </tr>\n    <tr>\n      <th>0xAX#linux-insides</th>\n      <td>0.0</td>\n      <td>0.0</td>\n      <td>0.0</td>\n      <td>0.0</td>\n      <td>0.0</td>\n      <td>0.0</td>\n      <td>0.0</td>\n      <td>0.0</td>\n      <td>0.0</td>\n      <td>0.0</td>\n      <td>...</td>\n      <td>0.0</td>\n      <td>0.0</td>\n      <td>0.0</td>\n      <td>0.0</td>\n      <td>0.0</td>\n      <td>0.0</td>\n      <td>0.0</td>\n      <td>0.0</td>\n      <td>0.0</td>\n      <td>132.0</td>\n    </tr>\n  </tbody>\n</table>\n<p>5 rows × 3853 columns</p>\n</div>"
     },
     "execution_count": 18,
     "metadata": {},
     "output_type": "execute_result"
    }
   ],
   "source": [
    "extensions = df_extension.toPandas()['ext'].unique()\n",
    "pivot_extension['ext_count'] = pivot_extension[extensions].sum(axis=1)\n",
    "\n",
    "for t in extensions:\n",
    "    pivot_extension[t] = tf(t)\n",
    "    \n",
    "pivot_extension.head()"
   ]
  },
  {
   "cell_type": "markdown",
   "metadata": {
    "pycharm": {
     "name": "#%% md\n"
    }
   },
   "source": [
    "## Kaggle dataset"
   ]
  },
  {
   "cell_type": "code",
   "execution_count": 19,
   "metadata": {
    "pycharm": {
     "name": "#%%\n"
    }
   },
   "outputs": [
    {
     "name": "stdout",
     "output_type": "stream",
     "text": [
      "root\n",
      " |-- topic: string (nullable = true)\n",
      " |-- name: string (nullable = true)\n",
      " |-- owner: string (nullable = true)\n",
      " |-- owner_type: string (nullable = true)\n",
      " |-- full_name: string (nullable = true)\n",
      " |-- description: string (nullable = true)\n",
      " |-- og_image: string (nullable = true)\n",
      " |-- license: string (nullable = true)\n",
      " |-- is_archived: string (nullable = true)\n",
      " |-- is_forked: string (nullable = true)\n",
      " |-- size: string (nullable = true)\n",
      " |-- language: string (nullable = true)\n",
      " |-- tags: string (nullable = true)\n",
      " |-- open_issues: string (nullable = true)\n",
      " |-- forks: string (nullable = true)\n",
      " |-- stars: string (nullable = true)\n",
      " |-- watchers: string (nullable = true)\n",
      " |-- has_wiki: string (nullable = true)\n",
      " |-- has_pages: string (nullable = true)\n",
      " |-- has_sponsorship: string (nullable = true)\n",
      " |-- created_at: string (nullable = true)\n",
      " |-- updated_at: string (nullable = true)\n",
      " |-- repo: string (nullable = true)\n",
      "\n"
     ]
    },
    {
     "data": {
      "text/plain": "  topic                name         owner    owner_type  \\\n0    3d  SpaceshipGenerator  a1studmuffin          User   \n1    3d          BlenderGIS       domlysz          User   \n2    3d               PRNet       YadiraF          User   \n3    3d               3DDFA     cleardusk          User   \n4    3d              armory      armory3d  Organization   \n\n                         full_name  \\\n0  a1studmuffin/SpaceshipGenerator   \n1               domlysz/BlenderGIS   \n2                    YadiraF/PRNet   \n3                  cleardusk/3DDFA   \n4                  armory3d/armory   \n\n                                         description og_image  \\\n0  A Blender script to procedurally generate 3D s...     None   \n1                                               None     None   \n2  Joint 3D Face Reconstruction and Dense Alignme...     None   \n3  The PyTorch improved version of TPAMI 2017 pap...     None   \n4                                               None     None   \n\n                           license is_archived is_forked  ... open_issues  \\\n0                            Other       False     False  ...          13   \n1  GNU General Public License v3.0       False     False  ...         155   \n2                      MIT License       False     False  ...         160   \n3                      MIT License       False     False  ...          51   \n4                     zlib License       False     False  ...         310   \n\n  forks stars watchers has_wiki has_pages has_sponsorship  \\\n0   391  7100     7100     True     False           False   \n1   923  5047     5047     True     False           False   \n2   919  4574     4574     True     False           False   \n3   621  3223     3223    False     False           False   \n4   263  2421     2421     True     False           False   \n\n             created_at            updated_at  \\\n0  2016-06-14T03:16:07Z  2022-04-06T16:55:48Z   \n1  2014-05-08T14:48:25Z  2022-04-08T00:59:56Z   \n2  2018-03-20T11:44:06Z  2022-04-08T03:00:19Z   \n3  2018-06-29T14:19:21Z  2022-04-07T07:47:09Z   \n4  2015-10-29T18:27:56Z  2022-04-06T21:17:40Z   \n\n                                                repo  \n0  https://github.com/a1studmuffin/SpaceshipGener...  \n1              https://github.com/domlysz/BlenderGIS  \n2                   https://github.com/YadiraF/PRNet  \n3                 https://github.com/cleardusk/3DDFA  \n4                 https://github.com/armory3d/armory  \n\n[5 rows x 23 columns]",
      "text/html": "<div>\n<style scoped>\n    .dataframe tbody tr th:only-of-type {\n        vertical-align: middle;\n    }\n\n    .dataframe tbody tr th {\n        vertical-align: top;\n    }\n\n    .dataframe thead th {\n        text-align: right;\n    }\n</style>\n<table border=\"1\" class=\"dataframe\">\n  <thead>\n    <tr style=\"text-align: right;\">\n      <th></th>\n      <th>topic</th>\n      <th>name</th>\n      <th>owner</th>\n      <th>owner_type</th>\n      <th>full_name</th>\n      <th>description</th>\n      <th>og_image</th>\n      <th>license</th>\n      <th>is_archived</th>\n      <th>is_forked</th>\n      <th>...</th>\n      <th>open_issues</th>\n      <th>forks</th>\n      <th>stars</th>\n      <th>watchers</th>\n      <th>has_wiki</th>\n      <th>has_pages</th>\n      <th>has_sponsorship</th>\n      <th>created_at</th>\n      <th>updated_at</th>\n      <th>repo</th>\n    </tr>\n  </thead>\n  <tbody>\n    <tr>\n      <th>0</th>\n      <td>3d</td>\n      <td>SpaceshipGenerator</td>\n      <td>a1studmuffin</td>\n      <td>User</td>\n      <td>a1studmuffin/SpaceshipGenerator</td>\n      <td>A Blender script to procedurally generate 3D s...</td>\n      <td>None</td>\n      <td>Other</td>\n      <td>False</td>\n      <td>False</td>\n      <td>...</td>\n      <td>13</td>\n      <td>391</td>\n      <td>7100</td>\n      <td>7100</td>\n      <td>True</td>\n      <td>False</td>\n      <td>False</td>\n      <td>2016-06-14T03:16:07Z</td>\n      <td>2022-04-06T16:55:48Z</td>\n      <td>https://github.com/a1studmuffin/SpaceshipGener...</td>\n    </tr>\n    <tr>\n      <th>1</th>\n      <td>3d</td>\n      <td>BlenderGIS</td>\n      <td>domlysz</td>\n      <td>User</td>\n      <td>domlysz/BlenderGIS</td>\n      <td>None</td>\n      <td>None</td>\n      <td>GNU General Public License v3.0</td>\n      <td>False</td>\n      <td>False</td>\n      <td>...</td>\n      <td>155</td>\n      <td>923</td>\n      <td>5047</td>\n      <td>5047</td>\n      <td>True</td>\n      <td>False</td>\n      <td>False</td>\n      <td>2014-05-08T14:48:25Z</td>\n      <td>2022-04-08T00:59:56Z</td>\n      <td>https://github.com/domlysz/BlenderGIS</td>\n    </tr>\n    <tr>\n      <th>2</th>\n      <td>3d</td>\n      <td>PRNet</td>\n      <td>YadiraF</td>\n      <td>User</td>\n      <td>YadiraF/PRNet</td>\n      <td>Joint 3D Face Reconstruction and Dense Alignme...</td>\n      <td>None</td>\n      <td>MIT License</td>\n      <td>False</td>\n      <td>False</td>\n      <td>...</td>\n      <td>160</td>\n      <td>919</td>\n      <td>4574</td>\n      <td>4574</td>\n      <td>True</td>\n      <td>False</td>\n      <td>False</td>\n      <td>2018-03-20T11:44:06Z</td>\n      <td>2022-04-08T03:00:19Z</td>\n      <td>https://github.com/YadiraF/PRNet</td>\n    </tr>\n    <tr>\n      <th>3</th>\n      <td>3d</td>\n      <td>3DDFA</td>\n      <td>cleardusk</td>\n      <td>User</td>\n      <td>cleardusk/3DDFA</td>\n      <td>The PyTorch improved version of TPAMI 2017 pap...</td>\n      <td>None</td>\n      <td>MIT License</td>\n      <td>False</td>\n      <td>False</td>\n      <td>...</td>\n      <td>51</td>\n      <td>621</td>\n      <td>3223</td>\n      <td>3223</td>\n      <td>False</td>\n      <td>False</td>\n      <td>False</td>\n      <td>2018-06-29T14:19:21Z</td>\n      <td>2022-04-07T07:47:09Z</td>\n      <td>https://github.com/cleardusk/3DDFA</td>\n    </tr>\n    <tr>\n      <th>4</th>\n      <td>3d</td>\n      <td>armory</td>\n      <td>armory3d</td>\n      <td>Organization</td>\n      <td>armory3d/armory</td>\n      <td>None</td>\n      <td>None</td>\n      <td>zlib License</td>\n      <td>False</td>\n      <td>False</td>\n      <td>...</td>\n      <td>310</td>\n      <td>263</td>\n      <td>2421</td>\n      <td>2421</td>\n      <td>True</td>\n      <td>False</td>\n      <td>False</td>\n      <td>2015-10-29T18:27:56Z</td>\n      <td>2022-04-06T21:17:40Z</td>\n      <td>https://github.com/armory3d/armory</td>\n    </tr>\n  </tbody>\n</table>\n<p>5 rows × 23 columns</p>\n</div>"
     },
     "execution_count": 19,
     "metadata": {},
     "output_type": "execute_result"
    }
   ],
   "source": [
    "# Load kaggle_repos dataframe\n",
    "df_kaggle = spark.read \\\n",
    "    .csv(\"../data/kaggle_repos/kaggle_repos.csv\", inferSchema=True, header=True) \\\n",
    "    .drop(\"_c0\")\n",
    "df_kaggle.printSchema()\n",
    "df_kaggle.toPandas().head()"
   ]
  },
  {
   "cell_type": "code",
   "execution_count": 20,
   "metadata": {
    "pycharm": {
     "name": "#%%\n"
    }
   },
   "outputs": [
    {
     "data": {
      "text/plain": "['topic',\n 'name',\n 'owner',\n 'owner_type',\n 'full_name',\n 'description',\n 'og_image',\n 'license',\n 'is_archived',\n 'is_forked',\n 'size',\n 'language',\n 'tags',\n 'open_issues',\n 'forks',\n 'stars',\n 'watchers',\n 'has_wiki',\n 'has_pages',\n 'has_sponsorship',\n 'created_at',\n 'updated_at',\n 'repo']"
     },
     "execution_count": 20,
     "metadata": {},
     "output_type": "execute_result"
    }
   ],
   "source": [
    "df_kaggle.columns"
   ]
  },
  {
   "cell_type": "code",
   "execution_count": 21,
   "metadata": {
    "pycharm": {
     "name": "#%%\n"
    }
   },
   "outputs": [
    {
     "data": {
      "text/plain": "  topic                name         owner    owner_type  \\\n0    3d  SpaceshipGenerator  a1studmuffin          User   \n1    3d          BlenderGIS       domlysz          User   \n2    3d               PRNet       YadiraF          User   \n3    3d               3DDFA     cleardusk          User   \n4    3d              armory      armory3d  Organization   \n\n                         full_name  \\\n0  a1studmuffin/SpaceshipGenerator   \n1               domlysz/BlenderGIS   \n2                    YadiraF/PRNet   \n3                  cleardusk/3DDFA   \n4                  armory3d/armory   \n\n                                         description og_image  \\\n0  A Blender script to procedurally generate 3D s...     None   \n1                                               None     None   \n2  Joint 3D Face Reconstruction and Dense Alignme...     None   \n3  The PyTorch improved version of TPAMI 2017 pap...     None   \n4                                               None     None   \n\n                           license is_archived is_forked  ... forks stars  \\\n0                            Other       False     False  ...   391  7100   \n1  GNU General Public License v3.0       False     False  ...   923  5047   \n2                      MIT License       False     False  ...   919  4574   \n3                      MIT License       False     False  ...   621  3223   \n4                     zlib License       False     False  ...   263  2421   \n\n  watchers has_wiki has_pages has_sponsorship            created_at  \\\n0     7100     True     False           False  2016-06-14T03:16:07Z   \n1     5047     True     False           False  2014-05-08T14:48:25Z   \n2     4574     True     False           False  2018-03-20T11:44:06Z   \n3     3223    False     False           False  2018-06-29T14:19:21Z   \n4     2421     True     False           False  2015-10-29T18:27:56Z   \n\n             updated_at                                               repo  \\\n0  2022-04-06T16:55:48Z  https://github.com/a1studmuffin/SpaceshipGener...   \n1  2022-04-08T00:59:56Z              https://github.com/domlysz/BlenderGIS   \n2  2022-04-08T03:00:19Z                   https://github.com/YadiraF/PRNet   \n3  2022-04-07T07:47:09Z                 https://github.com/cleardusk/3DDFA   \n4  2022-04-06T21:17:40Z                 https://github.com/armory3d/armory   \n\n                      project_name  \n0  a1studmuffin#SpaceshipGenerator  \n1               domlysz#BlenderGIS  \n2                    YadiraF#PRNet  \n3                  cleardusk#3DDFA  \n4                  armory3d#armory  \n\n[5 rows x 24 columns]",
      "text/html": "<div>\n<style scoped>\n    .dataframe tbody tr th:only-of-type {\n        vertical-align: middle;\n    }\n\n    .dataframe tbody tr th {\n        vertical-align: top;\n    }\n\n    .dataframe thead th {\n        text-align: right;\n    }\n</style>\n<table border=\"1\" class=\"dataframe\">\n  <thead>\n    <tr style=\"text-align: right;\">\n      <th></th>\n      <th>topic</th>\n      <th>name</th>\n      <th>owner</th>\n      <th>owner_type</th>\n      <th>full_name</th>\n      <th>description</th>\n      <th>og_image</th>\n      <th>license</th>\n      <th>is_archived</th>\n      <th>is_forked</th>\n      <th>...</th>\n      <th>forks</th>\n      <th>stars</th>\n      <th>watchers</th>\n      <th>has_wiki</th>\n      <th>has_pages</th>\n      <th>has_sponsorship</th>\n      <th>created_at</th>\n      <th>updated_at</th>\n      <th>repo</th>\n      <th>project_name</th>\n    </tr>\n  </thead>\n  <tbody>\n    <tr>\n      <th>0</th>\n      <td>3d</td>\n      <td>SpaceshipGenerator</td>\n      <td>a1studmuffin</td>\n      <td>User</td>\n      <td>a1studmuffin/SpaceshipGenerator</td>\n      <td>A Blender script to procedurally generate 3D s...</td>\n      <td>None</td>\n      <td>Other</td>\n      <td>False</td>\n      <td>False</td>\n      <td>...</td>\n      <td>391</td>\n      <td>7100</td>\n      <td>7100</td>\n      <td>True</td>\n      <td>False</td>\n      <td>False</td>\n      <td>2016-06-14T03:16:07Z</td>\n      <td>2022-04-06T16:55:48Z</td>\n      <td>https://github.com/a1studmuffin/SpaceshipGener...</td>\n      <td>a1studmuffin#SpaceshipGenerator</td>\n    </tr>\n    <tr>\n      <th>1</th>\n      <td>3d</td>\n      <td>BlenderGIS</td>\n      <td>domlysz</td>\n      <td>User</td>\n      <td>domlysz/BlenderGIS</td>\n      <td>None</td>\n      <td>None</td>\n      <td>GNU General Public License v3.0</td>\n      <td>False</td>\n      <td>False</td>\n      <td>...</td>\n      <td>923</td>\n      <td>5047</td>\n      <td>5047</td>\n      <td>True</td>\n      <td>False</td>\n      <td>False</td>\n      <td>2014-05-08T14:48:25Z</td>\n      <td>2022-04-08T00:59:56Z</td>\n      <td>https://github.com/domlysz/BlenderGIS</td>\n      <td>domlysz#BlenderGIS</td>\n    </tr>\n    <tr>\n      <th>2</th>\n      <td>3d</td>\n      <td>PRNet</td>\n      <td>YadiraF</td>\n      <td>User</td>\n      <td>YadiraF/PRNet</td>\n      <td>Joint 3D Face Reconstruction and Dense Alignme...</td>\n      <td>None</td>\n      <td>MIT License</td>\n      <td>False</td>\n      <td>False</td>\n      <td>...</td>\n      <td>919</td>\n      <td>4574</td>\n      <td>4574</td>\n      <td>True</td>\n      <td>False</td>\n      <td>False</td>\n      <td>2018-03-20T11:44:06Z</td>\n      <td>2022-04-08T03:00:19Z</td>\n      <td>https://github.com/YadiraF/PRNet</td>\n      <td>YadiraF#PRNet</td>\n    </tr>\n    <tr>\n      <th>3</th>\n      <td>3d</td>\n      <td>3DDFA</td>\n      <td>cleardusk</td>\n      <td>User</td>\n      <td>cleardusk/3DDFA</td>\n      <td>The PyTorch improved version of TPAMI 2017 pap...</td>\n      <td>None</td>\n      <td>MIT License</td>\n      <td>False</td>\n      <td>False</td>\n      <td>...</td>\n      <td>621</td>\n      <td>3223</td>\n      <td>3223</td>\n      <td>False</td>\n      <td>False</td>\n      <td>False</td>\n      <td>2018-06-29T14:19:21Z</td>\n      <td>2022-04-07T07:47:09Z</td>\n      <td>https://github.com/cleardusk/3DDFA</td>\n      <td>cleardusk#3DDFA</td>\n    </tr>\n    <tr>\n      <th>4</th>\n      <td>3d</td>\n      <td>armory</td>\n      <td>armory3d</td>\n      <td>Organization</td>\n      <td>armory3d/armory</td>\n      <td>None</td>\n      <td>None</td>\n      <td>zlib License</td>\n      <td>False</td>\n      <td>False</td>\n      <td>...</td>\n      <td>263</td>\n      <td>2421</td>\n      <td>2421</td>\n      <td>True</td>\n      <td>False</td>\n      <td>False</td>\n      <td>2015-10-29T18:27:56Z</td>\n      <td>2022-04-06T21:17:40Z</td>\n      <td>https://github.com/armory3d/armory</td>\n      <td>armory3d#armory</td>\n    </tr>\n  </tbody>\n</table>\n<p>5 rows × 24 columns</p>\n</div>"
     },
     "execution_count": 21,
     "metadata": {},
     "output_type": "execute_result"
    }
   ],
   "source": [
    "# Prepare column for join\n",
    "df_kaggle = df_kaggle.withColumn(\"project_name\", F.concat(F.col(\"owner\"), F.lit(\"#\"), F.col(\"name\")))\n",
    "df_kaggle.toPandas().head()"
   ]
  },
  {
   "cell_type": "markdown",
   "metadata": {
    "pycharm": {
     "name": "#%% md\n"
    }
   },
   "source": [
    "## Repos tags extraction"
   ]
  },
  {
   "cell_type": "code",
   "execution_count": 22,
   "metadata": {
    "pycharm": {
     "name": "#%%\n"
    }
   },
   "outputs": [
    {
     "name": "stdout",
     "output_type": "stream",
     "text": [
      "+--------------------+--------------------+\n",
      "|        project_name|                tags|\n",
      "+--------------------+--------------------+\n",
      "|a1studmuffin#Spac...|['python', 'proce...|\n",
      "|  domlysz#BlenderGIS|                  []|\n",
      "|       YadiraF#PRNet|['swap', 'face', ...|\n",
      "|     cleardusk#3DDFA|['python', 'compu...|\n",
      "|     armory3d#armory|                  []|\n",
      "|  cleardusk#3DDFA_V2|['computer-vision...|\n",
      "|   CadQuery#cadquery|                  []|\n",
      "|facebookresearch#...|['deep-learning',...|\n",
      "|charlesq34#frustu...|['deep-learning',...|\n",
      "| nywang16#Pixel2Mesh|['mesh', 'reconst...|\n",
      "+--------------------+--------------------+\n",
      "only showing top 10 rows\n",
      "\n"
     ]
    }
   ],
   "source": [
    "df_kaggle_tags = df_kaggle.select(\"project_name\", \"tags\")\n",
    "df_kaggle_tags.show(10)"
   ]
  },
  {
   "cell_type": "code",
   "execution_count": 23,
   "metadata": {
    "pycharm": {
     "name": "#%%\n"
    }
   },
   "outputs": [
    {
     "name": "stdout",
     "output_type": "stream",
     "text": [
      "+--------------------+--------------------+\n",
      "|        project_name|                tags|\n",
      "+--------------------+--------------------+\n",
      "|a1studmuffin#Spac...|[python, procedur...|\n",
      "|  domlysz#BlenderGIS|                  []|\n",
      "|       YadiraF#PRNet|[swap, face, alig...|\n",
      "|     cleardusk#3DDFA|[python, computer...|\n",
      "|     armory3d#armory|                  []|\n",
      "|  cleardusk#3DDFA_V2|[computer-vision,...|\n",
      "|   CadQuery#cadquery|                  []|\n",
      "|facebookresearch#...|[deep-learning, r...|\n",
      "|charlesq34#frustu...|[deep-learning, r...|\n",
      "| nywang16#Pixel2Mesh|[mesh, reconstruc...|\n",
      "+--------------------+--------------------+\n",
      "only showing top 10 rows\n",
      "\n"
     ]
    }
   ],
   "source": [
    "def literal_eval(s):\n",
    "    try:\n",
    "        return ast.literal_eval(s)\n",
    "    except Exception:\n",
    "        return []\n",
    "\n",
    "literal_eval_udf = F.udf(literal_eval, T.ArrayType(T.StringType()))\n",
    "df_kaggle_tags = df_kaggle_tags.withColumn(\"tags\", literal_eval_udf(F.col(\"tags\")))\n",
    "df_kaggle_tags.show(10)"
   ]
  },
  {
   "cell_type": "code",
   "execution_count": 24,
   "metadata": {
    "pycharm": {
     "name": "#%%\n"
    }
   },
   "outputs": [
    {
     "name": "stdout",
     "output_type": "stream",
     "text": [
      "+--------------------+--------------------+\n",
      "|        project_name|                tags|\n",
      "+--------------------+--------------------+\n",
      "|a1studmuffin#Spac...|              python|\n",
      "|a1studmuffin#Spac...|procedural-genera...|\n",
      "|a1studmuffin#Spac...|     blender-scripts|\n",
      "|a1studmuffin#Spac...|    game-development|\n",
      "|a1studmuffin#Spac...|                  3d|\n",
      "|a1studmuffin#Spac...|           spaceship|\n",
      "|       YadiraF#PRNet|                swap|\n",
      "|       YadiraF#PRNet|                face|\n",
      "|       YadiraF#PRNet|           alignment|\n",
      "|       YadiraF#PRNet|      reconstruction|\n",
      "+--------------------+--------------------+\n",
      "only showing top 10 rows\n",
      "\n"
     ]
    }
   ],
   "source": [
    "# Prepare dataset for pivot\n",
    "df_kaggle_tags = df_kaggle_tags.select(\"project_name\", F.explode(\"tags\").name(\"tags\"))\n",
    "df_kaggle_tags.show(10)"
   ]
  },
  {
   "cell_type": "code",
   "execution_count": 25,
   "metadata": {
    "pycharm": {
     "name": "#%%\n"
    }
   },
   "outputs": [
    {
     "name": "stdout",
     "output_type": "stream",
     "text": [
      "+--------------------+--------------------+---+\n",
      "|        project_name|                tags|val|\n",
      "+--------------------+--------------------+---+\n",
      "|a1studmuffin#Spac...|              python|  1|\n",
      "|a1studmuffin#Spac...|procedural-genera...|  1|\n",
      "|a1studmuffin#Spac...|     blender-scripts|  1|\n",
      "|a1studmuffin#Spac...|    game-development|  1|\n",
      "|a1studmuffin#Spac...|                  3d|  1|\n",
      "|a1studmuffin#Spac...|           spaceship|  1|\n",
      "|       YadiraF#PRNet|                swap|  1|\n",
      "|       YadiraF#PRNet|                face|  1|\n",
      "|       YadiraF#PRNet|           alignment|  1|\n",
      "|       YadiraF#PRNet|      reconstruction|  1|\n",
      "+--------------------+--------------------+---+\n",
      "only showing top 10 rows\n",
      "\n"
     ]
    }
   ],
   "source": [
    "df_kaggle_tags = df_kaggle_tags.withColumn(\"val\", F.lit(1))\n",
    "df_kaggle_tags.show(10)"
   ]
  },
  {
   "cell_type": "code",
   "execution_count": 26,
   "metadata": {
    "pycharm": {
     "name": "#%%\n"
    }
   },
   "outputs": [
    {
     "name": "stdout",
     "output_type": "stream",
     "text": [
      "+--------------------+--------------------+---+\n",
      "|        project_name|                tags|val|\n",
      "+--------------------+--------------------+---+\n",
      "|a1studmuffin#Spac...|          tag#python|  1|\n",
      "|a1studmuffin#Spac...|tag#procedural-ge...|  1|\n",
      "|a1studmuffin#Spac...| tag#blender-scripts|  1|\n",
      "|a1studmuffin#Spac...|tag#game-development|  1|\n",
      "|a1studmuffin#Spac...|              tag#3d|  1|\n",
      "|a1studmuffin#Spac...|       tag#spaceship|  1|\n",
      "|       YadiraF#PRNet|            tag#swap|  1|\n",
      "|       YadiraF#PRNet|            tag#face|  1|\n",
      "|       YadiraF#PRNet|       tag#alignment|  1|\n",
      "|       YadiraF#PRNet|  tag#reconstruction|  1|\n",
      "+--------------------+--------------------+---+\n",
      "only showing top 10 rows\n",
      "\n"
     ]
    }
   ],
   "source": [
    "# Rename each tag name to avoid name collision with package names\n",
    "def map_tag(tag: str) -> str:\n",
    "    return f'tag#{tag}'\n",
    "\n",
    "map_tag_udf = F.udf(map_tag, T.StringType())\n",
    "df_kaggle_tags = df_kaggle_tags.withColumn(\"tags\", map_tag_udf(F.col(\"tags\")))\n",
    "df_kaggle_tags.show(10)"
   ]
  },
  {
   "cell_type": "code",
   "execution_count": 27,
   "metadata": {
    "pycharm": {
     "name": "#%%\n"
    }
   },
   "outputs": [
    {
     "data": {
      "text/plain": "9102"
     },
     "execution_count": 27,
     "metadata": {},
     "output_type": "execute_result"
    }
   ],
   "source": [
    "# Total number of tags\n",
    "df_kaggle_tags.select(\"tags\").distinct().count()"
   ]
  },
  {
   "cell_type": "code",
   "execution_count": 28,
   "metadata": {
    "pycharm": {
     "name": "#%%\n"
    }
   },
   "outputs": [
    {
     "data": {
      "text/plain": "tags                      tag#010editor  tag#053  tag#0day  tag#100daysofcode  \\\nproject_name                                                                    \n01joy#news-search-engine              0        0         0                  0   \n05bit#peewee-async                    0        0         0                  0   \n0k#shyaml                             0        0         0                  0   \n0x00-0x00#ShellPop                    0        0         0                  0   \n0xAX#linux-insides                    0        0         0                  0   \n\ntags                      tag#104  tag#1111  tag#12306  tag#163mail-login  \\\nproject_name                                                                \n01joy#news-search-engine        0         0          0                  0   \n05bit#peewee-async              0         0          0                  0   \n0k#shyaml                       0         0          0                  0   \n0x00-0x00#ShellPop              0         0          0                  0   \n0xAX#linux-insides              0         0          0                  0   \n\ntags                      tag#2  tag#2019-ncov  ...  tag#zircon  \\\nproject_name                                    ...               \n01joy#news-search-engine      0              0  ...           0   \n05bit#peewee-async            0              0  ...           0   \n0k#shyaml                     0              0  ...           0   \n0x00-0x00#ShellPop            0              0  ...           0   \n0xAX#linux-insides            0              0  ...           0   \n\ntags                      tag#zookeeper  tag#zoom  tag#zotero  tag#zotero-api  \\\nproject_name                                                                    \n01joy#news-search-engine              0         0           0               0   \n05bit#peewee-async                    0         0           0               0   \n0k#shyaml                             0         0           0               0   \n0x00-0x00#ShellPop                    0         0           0               0   \n0xAX#linux-insides                    0         0           0               0   \n\ntags                      tag#zsh  tag#ztp  tag#zuul  tag#zvt  tag#zypper  \nproject_name                                                               \n01joy#news-search-engine        0        0         0        0           0  \n05bit#peewee-async              0        0         0        0           0  \n0k#shyaml                       0        0         0        0           0  \n0x00-0x00#ShellPop              0        0         0        0           0  \n0xAX#linux-insides              0        0         0        0           0  \n\n[5 rows x 9102 columns]",
      "text/html": "<div>\n<style scoped>\n    .dataframe tbody tr th:only-of-type {\n        vertical-align: middle;\n    }\n\n    .dataframe tbody tr th {\n        vertical-align: top;\n    }\n\n    .dataframe thead th {\n        text-align: right;\n    }\n</style>\n<table border=\"1\" class=\"dataframe\">\n  <thead>\n    <tr style=\"text-align: right;\">\n      <th>tags</th>\n      <th>tag#010editor</th>\n      <th>tag#053</th>\n      <th>tag#0day</th>\n      <th>tag#100daysofcode</th>\n      <th>tag#104</th>\n      <th>tag#1111</th>\n      <th>tag#12306</th>\n      <th>tag#163mail-login</th>\n      <th>tag#2</th>\n      <th>tag#2019-ncov</th>\n      <th>...</th>\n      <th>tag#zircon</th>\n      <th>tag#zookeeper</th>\n      <th>tag#zoom</th>\n      <th>tag#zotero</th>\n      <th>tag#zotero-api</th>\n      <th>tag#zsh</th>\n      <th>tag#ztp</th>\n      <th>tag#zuul</th>\n      <th>tag#zvt</th>\n      <th>tag#zypper</th>\n    </tr>\n    <tr>\n      <th>project_name</th>\n      <th></th>\n      <th></th>\n      <th></th>\n      <th></th>\n      <th></th>\n      <th></th>\n      <th></th>\n      <th></th>\n      <th></th>\n      <th></th>\n      <th></th>\n      <th></th>\n      <th></th>\n      <th></th>\n      <th></th>\n      <th></th>\n      <th></th>\n      <th></th>\n      <th></th>\n      <th></th>\n      <th></th>\n    </tr>\n  </thead>\n  <tbody>\n    <tr>\n      <th>01joy#news-search-engine</th>\n      <td>0</td>\n      <td>0</td>\n      <td>0</td>\n      <td>0</td>\n      <td>0</td>\n      <td>0</td>\n      <td>0</td>\n      <td>0</td>\n      <td>0</td>\n      <td>0</td>\n      <td>...</td>\n      <td>0</td>\n      <td>0</td>\n      <td>0</td>\n      <td>0</td>\n      <td>0</td>\n      <td>0</td>\n      <td>0</td>\n      <td>0</td>\n      <td>0</td>\n      <td>0</td>\n    </tr>\n    <tr>\n      <th>05bit#peewee-async</th>\n      <td>0</td>\n      <td>0</td>\n      <td>0</td>\n      <td>0</td>\n      <td>0</td>\n      <td>0</td>\n      <td>0</td>\n      <td>0</td>\n      <td>0</td>\n      <td>0</td>\n      <td>...</td>\n      <td>0</td>\n      <td>0</td>\n      <td>0</td>\n      <td>0</td>\n      <td>0</td>\n      <td>0</td>\n      <td>0</td>\n      <td>0</td>\n      <td>0</td>\n      <td>0</td>\n    </tr>\n    <tr>\n      <th>0k#shyaml</th>\n      <td>0</td>\n      <td>0</td>\n      <td>0</td>\n      <td>0</td>\n      <td>0</td>\n      <td>0</td>\n      <td>0</td>\n      <td>0</td>\n      <td>0</td>\n      <td>0</td>\n      <td>...</td>\n      <td>0</td>\n      <td>0</td>\n      <td>0</td>\n      <td>0</td>\n      <td>0</td>\n      <td>0</td>\n      <td>0</td>\n      <td>0</td>\n      <td>0</td>\n      <td>0</td>\n    </tr>\n    <tr>\n      <th>0x00-0x00#ShellPop</th>\n      <td>0</td>\n      <td>0</td>\n      <td>0</td>\n      <td>0</td>\n      <td>0</td>\n      <td>0</td>\n      <td>0</td>\n      <td>0</td>\n      <td>0</td>\n      <td>0</td>\n      <td>...</td>\n      <td>0</td>\n      <td>0</td>\n      <td>0</td>\n      <td>0</td>\n      <td>0</td>\n      <td>0</td>\n      <td>0</td>\n      <td>0</td>\n      <td>0</td>\n      <td>0</td>\n    </tr>\n    <tr>\n      <th>0xAX#linux-insides</th>\n      <td>0</td>\n      <td>0</td>\n      <td>0</td>\n      <td>0</td>\n      <td>0</td>\n      <td>0</td>\n      <td>0</td>\n      <td>0</td>\n      <td>0</td>\n      <td>0</td>\n      <td>...</td>\n      <td>0</td>\n      <td>0</td>\n      <td>0</td>\n      <td>0</td>\n      <td>0</td>\n      <td>0</td>\n      <td>0</td>\n      <td>0</td>\n      <td>0</td>\n      <td>0</td>\n    </tr>\n  </tbody>\n</table>\n<p>5 rows × 9102 columns</p>\n</div>"
     },
     "execution_count": 28,
     "metadata": {},
     "output_type": "execute_result"
    }
   ],
   "source": [
    "pivot_tags = df_kaggle_tags.toPandas().pivot_table(index=\"project_name\", values=\"val\", columns=\"tags\", fill_value=0)\n",
    "pivot_tags.head()"
   ]
  },
  {
   "cell_type": "markdown",
   "metadata": {
    "pycharm": {
     "name": "#%% md\n"
    }
   },
   "source": [
    "## Repos topics extraction"
   ]
  },
  {
   "cell_type": "code",
   "execution_count": 29,
   "metadata": {
    "pycharm": {
     "name": "#%%\n"
    }
   },
   "outputs": [
    {
     "name": "stdout",
     "output_type": "stream",
     "text": [
      "+--------------------+-----+\n",
      "|        project_name|topic|\n",
      "+--------------------+-----+\n",
      "|a1studmuffin#Spac...|   3d|\n",
      "|  domlysz#BlenderGIS|   3d|\n",
      "|       YadiraF#PRNet|   3d|\n",
      "|     cleardusk#3DDFA|   3d|\n",
      "|     armory3d#armory|   3d|\n",
      "|  cleardusk#3DDFA_V2|   3d|\n",
      "|   CadQuery#cadquery|   3d|\n",
      "|facebookresearch#...|   3d|\n",
      "|charlesq34#frustu...|   3d|\n",
      "| nywang16#Pixel2Mesh|   3d|\n",
      "+--------------------+-----+\n",
      "only showing top 10 rows\n",
      "\n"
     ]
    }
   ],
   "source": [
    "df_kaggle_topics = df_kaggle.select(\"project_name\", \"topic\")\n",
    "df_kaggle_topics.show(10)"
   ]
  },
  {
   "cell_type": "code",
   "execution_count": 30,
   "metadata": {
    "pycharm": {
     "name": "#%%\n"
    }
   },
   "outputs": [
    {
     "name": "stdout",
     "output_type": "stream",
     "text": [
      "+--------------------+-----+---+\n",
      "|        project_name|topic|val|\n",
      "+--------------------+-----+---+\n",
      "|a1studmuffin#Spac...|   3d|  1|\n",
      "|  domlysz#BlenderGIS|   3d|  1|\n",
      "|       YadiraF#PRNet|   3d|  1|\n",
      "|     cleardusk#3DDFA|   3d|  1|\n",
      "|     armory3d#armory|   3d|  1|\n",
      "|  cleardusk#3DDFA_V2|   3d|  1|\n",
      "|   CadQuery#cadquery|   3d|  1|\n",
      "|facebookresearch#...|   3d|  1|\n",
      "|charlesq34#frustu...|   3d|  1|\n",
      "| nywang16#Pixel2Mesh|   3d|  1|\n",
      "+--------------------+-----+---+\n",
      "only showing top 10 rows\n",
      "\n"
     ]
    }
   ],
   "source": [
    "df_kaggle_topics = df_kaggle_topics.withColumn(\"val\", F.lit(1))\n",
    "df_kaggle_topics.show(10)"
   ]
  },
  {
   "cell_type": "code",
   "execution_count": 31,
   "metadata": {
    "pycharm": {
     "name": "#%%\n"
    }
   },
   "outputs": [
    {
     "name": "stdout",
     "output_type": "stream",
     "text": [
      "+--------------------+--------+---+\n",
      "|        project_name|   topic|val|\n",
      "+--------------------+--------+---+\n",
      "|a1studmuffin#Spac...|topic#3d|  1|\n",
      "|  domlysz#BlenderGIS|topic#3d|  1|\n",
      "|       YadiraF#PRNet|topic#3d|  1|\n",
      "|     cleardusk#3DDFA|topic#3d|  1|\n",
      "|     armory3d#armory|topic#3d|  1|\n",
      "|  cleardusk#3DDFA_V2|topic#3d|  1|\n",
      "|   CadQuery#cadquery|topic#3d|  1|\n",
      "|facebookresearch#...|topic#3d|  1|\n",
      "|charlesq34#frustu...|topic#3d|  1|\n",
      "| nywang16#Pixel2Mesh|topic#3d|  1|\n",
      "+--------------------+--------+---+\n",
      "only showing top 10 rows\n",
      "\n"
     ]
    }
   ],
   "source": [
    "def map_topic(topic: str) -> str:\n",
    "    return f'topic#{topic}'\n",
    "\n",
    "map_topic_udf = F.udf(map_topic, T.StringType())\n",
    "df_kaggle_topics = df_kaggle_topics.withColumn(\"topic\", map_topic_udf(F.col(\"topic\")))\n",
    "df_kaggle_topics.show(10)"
   ]
  },
  {
   "cell_type": "code",
   "execution_count": 32,
   "metadata": {
    "pycharm": {
     "name": "#%%\n"
    }
   },
   "outputs": [
    {
     "data": {
      "text/plain": "topic                     topic#3d  topic#ajax  topic#algorithm  \\\nproject_name                                                      \n01joy#news-search-engine         0           0                0   \n05bit#peewee-async               0           0                0   \n0k#shyaml                        0           0                0   \n0x00-0x00#ShellPop               0           0                0   \n0xAX#linux-insides               0           0                0   \n\ntopic                     topic#android  topic#angular  topic#ansible  \\\nproject_name                                                            \n01joy#news-search-engine              0              0              0   \n05bit#peewee-async                    0              0              0   \n0k#shyaml                             0              0              0   \n0x00-0x00#ShellPop                    0              0              0   \n0xAX#linux-insides                    0              0              0   \n\ntopic                     topic#api  topic#arduino  topic#aspnet  topic#atom  \\\nproject_name                                                                   \n01joy#news-search-engine          0              0             0           0   \n05bit#peewee-async                0              0             0           0   \n0k#shyaml                         0              0             0           0   \n0x00-0x00#ShellPop                0              0             0           0   \n0xAX#linux-insides                0              0             0           0   \n\ntopic                     ...  topic#vim  topic#virtual-reality  topic#vue  \\\nproject_name              ...                                                \n01joy#news-search-engine  ...          0                      0          0   \n05bit#peewee-async        ...          0                      0          0   \n0k#shyaml                 ...          0                      0          0   \n0x00-0x00#ShellPop        ...          0                      0          0   \n0xAX#linux-insides        ...          0                      0          0   \n\ntopic                     topic#wagtail  topic#web-components  topic#webapp  \\\nproject_name                                                                  \n01joy#news-search-engine              0                     0             0   \n05bit#peewee-async                    0                     0             0   \n0k#shyaml                             0                     0             0   \n0x00-0x00#ShellPop                    0                     0             0   \n0xAX#linux-insides                    0                     0             0   \n\ntopic                     topic#webpack  topic#windows  topic#wordpress  \\\nproject_name                                                              \n01joy#news-search-engine              0              0                0   \n05bit#peewee-async                    0              0                0   \n0k#shyaml                             0              0                0   \n0x00-0x00#ShellPop                    0              0                0   \n0xAX#linux-insides                    0              0                0   \n\ntopic                     topic#xml  \nproject_name                         \n01joy#news-search-engine          0  \n05bit#peewee-async                0  \n0k#shyaml                         0  \n0x00-0x00#ShellPop                0  \n0xAX#linux-insides                0  \n\n[5 rows x 161 columns]",
      "text/html": "<div>\n<style scoped>\n    .dataframe tbody tr th:only-of-type {\n        vertical-align: middle;\n    }\n\n    .dataframe tbody tr th {\n        vertical-align: top;\n    }\n\n    .dataframe thead th {\n        text-align: right;\n    }\n</style>\n<table border=\"1\" class=\"dataframe\">\n  <thead>\n    <tr style=\"text-align: right;\">\n      <th>topic</th>\n      <th>topic#3d</th>\n      <th>topic#ajax</th>\n      <th>topic#algorithm</th>\n      <th>topic#android</th>\n      <th>topic#angular</th>\n      <th>topic#ansible</th>\n      <th>topic#api</th>\n      <th>topic#arduino</th>\n      <th>topic#aspnet</th>\n      <th>topic#atom</th>\n      <th>...</th>\n      <th>topic#vim</th>\n      <th>topic#virtual-reality</th>\n      <th>topic#vue</th>\n      <th>topic#wagtail</th>\n      <th>topic#web-components</th>\n      <th>topic#webapp</th>\n      <th>topic#webpack</th>\n      <th>topic#windows</th>\n      <th>topic#wordpress</th>\n      <th>topic#xml</th>\n    </tr>\n    <tr>\n      <th>project_name</th>\n      <th></th>\n      <th></th>\n      <th></th>\n      <th></th>\n      <th></th>\n      <th></th>\n      <th></th>\n      <th></th>\n      <th></th>\n      <th></th>\n      <th></th>\n      <th></th>\n      <th></th>\n      <th></th>\n      <th></th>\n      <th></th>\n      <th></th>\n      <th></th>\n      <th></th>\n      <th></th>\n      <th></th>\n    </tr>\n  </thead>\n  <tbody>\n    <tr>\n      <th>01joy#news-search-engine</th>\n      <td>0</td>\n      <td>0</td>\n      <td>0</td>\n      <td>0</td>\n      <td>0</td>\n      <td>0</td>\n      <td>0</td>\n      <td>0</td>\n      <td>0</td>\n      <td>0</td>\n      <td>...</td>\n      <td>0</td>\n      <td>0</td>\n      <td>0</td>\n      <td>0</td>\n      <td>0</td>\n      <td>0</td>\n      <td>0</td>\n      <td>0</td>\n      <td>0</td>\n      <td>0</td>\n    </tr>\n    <tr>\n      <th>05bit#peewee-async</th>\n      <td>0</td>\n      <td>0</td>\n      <td>0</td>\n      <td>0</td>\n      <td>0</td>\n      <td>0</td>\n      <td>0</td>\n      <td>0</td>\n      <td>0</td>\n      <td>0</td>\n      <td>...</td>\n      <td>0</td>\n      <td>0</td>\n      <td>0</td>\n      <td>0</td>\n      <td>0</td>\n      <td>0</td>\n      <td>0</td>\n      <td>0</td>\n      <td>0</td>\n      <td>0</td>\n    </tr>\n    <tr>\n      <th>0k#shyaml</th>\n      <td>0</td>\n      <td>0</td>\n      <td>0</td>\n      <td>0</td>\n      <td>0</td>\n      <td>0</td>\n      <td>0</td>\n      <td>0</td>\n      <td>0</td>\n      <td>0</td>\n      <td>...</td>\n      <td>0</td>\n      <td>0</td>\n      <td>0</td>\n      <td>0</td>\n      <td>0</td>\n      <td>0</td>\n      <td>0</td>\n      <td>0</td>\n      <td>0</td>\n      <td>0</td>\n    </tr>\n    <tr>\n      <th>0x00-0x00#ShellPop</th>\n      <td>0</td>\n      <td>0</td>\n      <td>0</td>\n      <td>0</td>\n      <td>0</td>\n      <td>0</td>\n      <td>0</td>\n      <td>0</td>\n      <td>0</td>\n      <td>0</td>\n      <td>...</td>\n      <td>0</td>\n      <td>0</td>\n      <td>0</td>\n      <td>0</td>\n      <td>0</td>\n      <td>0</td>\n      <td>0</td>\n      <td>0</td>\n      <td>0</td>\n      <td>0</td>\n    </tr>\n    <tr>\n      <th>0xAX#linux-insides</th>\n      <td>0</td>\n      <td>0</td>\n      <td>0</td>\n      <td>0</td>\n      <td>0</td>\n      <td>0</td>\n      <td>0</td>\n      <td>0</td>\n      <td>0</td>\n      <td>0</td>\n      <td>...</td>\n      <td>0</td>\n      <td>0</td>\n      <td>0</td>\n      <td>0</td>\n      <td>0</td>\n      <td>0</td>\n      <td>0</td>\n      <td>0</td>\n      <td>0</td>\n      <td>0</td>\n    </tr>\n  </tbody>\n</table>\n<p>5 rows × 161 columns</p>\n</div>"
     },
     "execution_count": 32,
     "metadata": {},
     "output_type": "execute_result"
    }
   ],
   "source": [
    "pivot_topics = df_kaggle_topics.toPandas().pivot_table(index=\"project_name\", values=\"val\", columns=\"topic\", fill_value=0)\n",
    "pivot_topics.head()"
   ]
  },
  {
   "cell_type": "markdown",
   "metadata": {
    "pycharm": {
     "name": "#%% md\n"
    }
   },
   "source": [
    "## Final dataset construction"
   ]
  },
  {
   "cell_type": "code",
   "execution_count": 33,
   "metadata": {
    "pycharm": {
     "name": "#%%\n"
    }
   },
   "outputs": [],
   "source": [
    "# Final step - join package columns (features) and tags columns (targets)"
   ]
  },
  {
   "cell_type": "code",
   "execution_count": 34,
   "metadata": {
    "pycharm": {
     "name": "#%%\n"
    }
   },
   "outputs": [
    {
     "name": "stdout",
     "output_type": "stream",
     "text": [
      "package: (2836, 3983)\n",
      "ext: (3404, 3853)\n",
      "tag: (2928, 9102)\n",
      "topic: (3418, 161)\n"
     ]
    }
   ],
   "source": [
    "# First of all check size of dataframes\n",
    "print('package:', pivot_package.shape)\n",
    "print('ext:', pivot_extension.shape)\n",
    "print('tag:', pivot_tags.shape)\n",
    "print('topic:', pivot_topics.shape)"
   ]
  },
  {
   "cell_type": "code",
   "execution_count": 35,
   "metadata": {
    "pycharm": {
     "name": "#%%\n"
    }
   },
   "outputs": [
    {
     "data": {
      "text/plain": "                          package#kotlin#B  package#kotlin#C  \\\nproject_name                                                   \n01joy#news-search-engine               0.0               0.0   \n05bit#peewee-async                     0.0               0.0   \n0k#shyaml                              0.0               0.0   \n0x00-0x00#ShellPop                     0.0               0.0   \n0xAX#linux-insides                     0.0               0.0   \n\n                          package#kotlin#Class  package#kotlin#Host  \\\nproject_name                                                          \n01joy#news-search-engine                   0.0                  0.0   \n05bit#peewee-async                         0.0                  0.0   \n0k#shyaml                                  0.0                  0.0   \n0x00-0x00#ShellPop                         0.0                  0.0   \n0xAX#linux-insides                         0.0                  0.0   \n\n                          package#kotlin#LibPackCase1  \\\nproject_name                                            \n01joy#news-search-engine                          0.0   \n05bit#peewee-async                                0.0   \n0k#shyaml                                         0.0   \n0x00-0x00#ShellPop                                0.0   \n0xAX#linux-insides                                0.0   \n\n                          package#kotlin#LibPackCase2  \\\nproject_name                                            \n01joy#news-search-engine                          0.0   \n05bit#peewee-async                                0.0   \n0k#shyaml                                         0.0   \n0x00-0x00#ShellPop                                0.0   \n0xAX#linux-insides                                0.0   \n\n                          package#kotlin#Libraries  package#kotlin#Library  \\\nproject_name                                                                 \n01joy#news-search-engine                       0.0                     0.0   \n05bit#peewee-async                             0.0                     0.0   \n0k#shyaml                                      0.0                     0.0   \n0x00-0x00#ShellPop                             0.0                     0.0   \n0xAX#linux-insides                             0.0                     0.0   \n\n                          package#kotlin#My  package#kotlin#POGOProtos  ...  \\\nproject_name                                                            ...   \n01joy#news-search-engine                0.0                        0.0  ...   \n05bit#peewee-async                      0.0                        0.0  ...   \n0k#shyaml                               0.0                        0.0  ...   \n0x00-0x00#ShellPop                      0.0                        0.0  ...   \n0xAX#linux-insides                      0.0                        0.0  ...   \n\n                          topic#vim  topic#virtual-reality  topic#vue  \\\nproject_name                                                            \n01joy#news-search-engine          0                      0          0   \n05bit#peewee-async                0                      0          0   \n0k#shyaml                         0                      0          0   \n0x00-0x00#ShellPop                0                      0          0   \n0xAX#linux-insides                0                      0          0   \n\n                          topic#wagtail  topic#web-components  topic#webapp  \\\nproject_name                                                                  \n01joy#news-search-engine              0                     0             0   \n05bit#peewee-async                    0                     0             0   \n0k#shyaml                             0                     0             0   \n0x00-0x00#ShellPop                    0                     0             0   \n0xAX#linux-insides                    0                     0             0   \n\n                          topic#webpack  topic#windows  topic#wordpress  \\\nproject_name                                                              \n01joy#news-search-engine              0              0                0   \n05bit#peewee-async                    0              0                0   \n0k#shyaml                             0              0                0   \n0x00-0x00#ShellPop                    0              0                0   \n0xAX#linux-insides                    0              0                0   \n\n                          topic#xml  \nproject_name                         \n01joy#news-search-engine          0  \n05bit#peewee-async                0  \n0k#shyaml                         0  \n0x00-0x00#ShellPop                0  \n0xAX#linux-insides                0  \n\n[5 rows x 17099 columns]",
      "text/html": "<div>\n<style scoped>\n    .dataframe tbody tr th:only-of-type {\n        vertical-align: middle;\n    }\n\n    .dataframe tbody tr th {\n        vertical-align: top;\n    }\n\n    .dataframe thead th {\n        text-align: right;\n    }\n</style>\n<table border=\"1\" class=\"dataframe\">\n  <thead>\n    <tr style=\"text-align: right;\">\n      <th></th>\n      <th>package#kotlin#B</th>\n      <th>package#kotlin#C</th>\n      <th>package#kotlin#Class</th>\n      <th>package#kotlin#Host</th>\n      <th>package#kotlin#LibPackCase1</th>\n      <th>package#kotlin#LibPackCase2</th>\n      <th>package#kotlin#Libraries</th>\n      <th>package#kotlin#Library</th>\n      <th>package#kotlin#My</th>\n      <th>package#kotlin#POGOProtos</th>\n      <th>...</th>\n      <th>topic#vim</th>\n      <th>topic#virtual-reality</th>\n      <th>topic#vue</th>\n      <th>topic#wagtail</th>\n      <th>topic#web-components</th>\n      <th>topic#webapp</th>\n      <th>topic#webpack</th>\n      <th>topic#windows</th>\n      <th>topic#wordpress</th>\n      <th>topic#xml</th>\n    </tr>\n    <tr>\n      <th>project_name</th>\n      <th></th>\n      <th></th>\n      <th></th>\n      <th></th>\n      <th></th>\n      <th></th>\n      <th></th>\n      <th></th>\n      <th></th>\n      <th></th>\n      <th></th>\n      <th></th>\n      <th></th>\n      <th></th>\n      <th></th>\n      <th></th>\n      <th></th>\n      <th></th>\n      <th></th>\n      <th></th>\n      <th></th>\n    </tr>\n  </thead>\n  <tbody>\n    <tr>\n      <th>01joy#news-search-engine</th>\n      <td>0.0</td>\n      <td>0.0</td>\n      <td>0.0</td>\n      <td>0.0</td>\n      <td>0.0</td>\n      <td>0.0</td>\n      <td>0.0</td>\n      <td>0.0</td>\n      <td>0.0</td>\n      <td>0.0</td>\n      <td>...</td>\n      <td>0</td>\n      <td>0</td>\n      <td>0</td>\n      <td>0</td>\n      <td>0</td>\n      <td>0</td>\n      <td>0</td>\n      <td>0</td>\n      <td>0</td>\n      <td>0</td>\n    </tr>\n    <tr>\n      <th>05bit#peewee-async</th>\n      <td>0.0</td>\n      <td>0.0</td>\n      <td>0.0</td>\n      <td>0.0</td>\n      <td>0.0</td>\n      <td>0.0</td>\n      <td>0.0</td>\n      <td>0.0</td>\n      <td>0.0</td>\n      <td>0.0</td>\n      <td>...</td>\n      <td>0</td>\n      <td>0</td>\n      <td>0</td>\n      <td>0</td>\n      <td>0</td>\n      <td>0</td>\n      <td>0</td>\n      <td>0</td>\n      <td>0</td>\n      <td>0</td>\n    </tr>\n    <tr>\n      <th>0k#shyaml</th>\n      <td>0.0</td>\n      <td>0.0</td>\n      <td>0.0</td>\n      <td>0.0</td>\n      <td>0.0</td>\n      <td>0.0</td>\n      <td>0.0</td>\n      <td>0.0</td>\n      <td>0.0</td>\n      <td>0.0</td>\n      <td>...</td>\n      <td>0</td>\n      <td>0</td>\n      <td>0</td>\n      <td>0</td>\n      <td>0</td>\n      <td>0</td>\n      <td>0</td>\n      <td>0</td>\n      <td>0</td>\n      <td>0</td>\n    </tr>\n    <tr>\n      <th>0x00-0x00#ShellPop</th>\n      <td>0.0</td>\n      <td>0.0</td>\n      <td>0.0</td>\n      <td>0.0</td>\n      <td>0.0</td>\n      <td>0.0</td>\n      <td>0.0</td>\n      <td>0.0</td>\n      <td>0.0</td>\n      <td>0.0</td>\n      <td>...</td>\n      <td>0</td>\n      <td>0</td>\n      <td>0</td>\n      <td>0</td>\n      <td>0</td>\n      <td>0</td>\n      <td>0</td>\n      <td>0</td>\n      <td>0</td>\n      <td>0</td>\n    </tr>\n    <tr>\n      <th>0xAX#linux-insides</th>\n      <td>0.0</td>\n      <td>0.0</td>\n      <td>0.0</td>\n      <td>0.0</td>\n      <td>0.0</td>\n      <td>0.0</td>\n      <td>0.0</td>\n      <td>0.0</td>\n      <td>0.0</td>\n      <td>0.0</td>\n      <td>...</td>\n      <td>0</td>\n      <td>0</td>\n      <td>0</td>\n      <td>0</td>\n      <td>0</td>\n      <td>0</td>\n      <td>0</td>\n      <td>0</td>\n      <td>0</td>\n      <td>0</td>\n    </tr>\n  </tbody>\n</table>\n<p>5 rows × 17099 columns</p>\n</div>"
     },
     "execution_count": 35,
     "metadata": {},
     "output_type": "execute_result"
    }
   ],
   "source": [
    "final_dataset = pivot_package.join(pivot_extension, on=\"project_name\", how=\"inner\")\n",
    "final_dataset = final_dataset.join(pivot_tags, on=\"project_name\", how=\"inner\")\n",
    "final_dataset = final_dataset.join(pivot_topics, on=\"project_name\", how=\"inner\")\n",
    "final_dataset.head()"
   ]
  },
  {
   "cell_type": "code",
   "execution_count": 36,
   "metadata": {
    "pycharm": {
     "name": "#%%\n"
    }
   },
   "outputs": [
    {
     "name": "stderr",
     "output_type": "stream",
     "text": [
      "/var/folders/m4/7rszzss57xs8c_n79jnryrrw0000kt/T/ipykernel_54403/1419431761.py:1: PerformanceWarning: DataFrame is highly fragmented.  This is usually the result of calling `frame.insert` many times, which has poor performance.  Consider joining all columns at once using pd.concat(axis=1) instead.  To get a de-fragmented frame, use `newframe = frame.copy()`\n",
      "  final_dataset.reset_index(inplace=True)\n"
     ]
    }
   ],
   "source": [
    "final_dataset.reset_index(inplace=True)"
   ]
  },
  {
   "cell_type": "code",
   "execution_count": 37,
   "metadata": {
    "pycharm": {
     "name": "#%%\n"
    }
   },
   "outputs": [
    {
     "data": {
      "text/plain": "               project_name  package#kotlin#B  package#kotlin#C  \\\n0  01joy#news-search-engine               0.0               0.0   \n1        05bit#peewee-async               0.0               0.0   \n2                 0k#shyaml               0.0               0.0   \n3        0x00-0x00#ShellPop               0.0               0.0   \n4        0xAX#linux-insides               0.0               0.0   \n\n   package#kotlin#Class  package#kotlin#Host  package#kotlin#LibPackCase1  \\\n0                   0.0                  0.0                          0.0   \n1                   0.0                  0.0                          0.0   \n2                   0.0                  0.0                          0.0   \n3                   0.0                  0.0                          0.0   \n4                   0.0                  0.0                          0.0   \n\n   package#kotlin#LibPackCase2  package#kotlin#Libraries  \\\n0                          0.0                       0.0   \n1                          0.0                       0.0   \n2                          0.0                       0.0   \n3                          0.0                       0.0   \n4                          0.0                       0.0   \n\n   package#kotlin#Library  package#kotlin#My  ...  topic#vim  \\\n0                     0.0                0.0  ...          0   \n1                     0.0                0.0  ...          0   \n2                     0.0                0.0  ...          0   \n3                     0.0                0.0  ...          0   \n4                     0.0                0.0  ...          0   \n\n   topic#virtual-reality  topic#vue  topic#wagtail  topic#web-components  \\\n0                      0          0              0                     0   \n1                      0          0              0                     0   \n2                      0          0              0                     0   \n3                      0          0              0                     0   \n4                      0          0              0                     0   \n\n   topic#webapp  topic#webpack  topic#windows  topic#wordpress  topic#xml  \n0             0              0              0                0          0  \n1             0              0              0                0          0  \n2             0              0              0                0          0  \n3             0              0              0                0          0  \n4             0              0              0                0          0  \n\n[5 rows x 17100 columns]",
      "text/html": "<div>\n<style scoped>\n    .dataframe tbody tr th:only-of-type {\n        vertical-align: middle;\n    }\n\n    .dataframe tbody tr th {\n        vertical-align: top;\n    }\n\n    .dataframe thead th {\n        text-align: right;\n    }\n</style>\n<table border=\"1\" class=\"dataframe\">\n  <thead>\n    <tr style=\"text-align: right;\">\n      <th></th>\n      <th>project_name</th>\n      <th>package#kotlin#B</th>\n      <th>package#kotlin#C</th>\n      <th>package#kotlin#Class</th>\n      <th>package#kotlin#Host</th>\n      <th>package#kotlin#LibPackCase1</th>\n      <th>package#kotlin#LibPackCase2</th>\n      <th>package#kotlin#Libraries</th>\n      <th>package#kotlin#Library</th>\n      <th>package#kotlin#My</th>\n      <th>...</th>\n      <th>topic#vim</th>\n      <th>topic#virtual-reality</th>\n      <th>topic#vue</th>\n      <th>topic#wagtail</th>\n      <th>topic#web-components</th>\n      <th>topic#webapp</th>\n      <th>topic#webpack</th>\n      <th>topic#windows</th>\n      <th>topic#wordpress</th>\n      <th>topic#xml</th>\n    </tr>\n  </thead>\n  <tbody>\n    <tr>\n      <th>0</th>\n      <td>01joy#news-search-engine</td>\n      <td>0.0</td>\n      <td>0.0</td>\n      <td>0.0</td>\n      <td>0.0</td>\n      <td>0.0</td>\n      <td>0.0</td>\n      <td>0.0</td>\n      <td>0.0</td>\n      <td>0.0</td>\n      <td>...</td>\n      <td>0</td>\n      <td>0</td>\n      <td>0</td>\n      <td>0</td>\n      <td>0</td>\n      <td>0</td>\n      <td>0</td>\n      <td>0</td>\n      <td>0</td>\n      <td>0</td>\n    </tr>\n    <tr>\n      <th>1</th>\n      <td>05bit#peewee-async</td>\n      <td>0.0</td>\n      <td>0.0</td>\n      <td>0.0</td>\n      <td>0.0</td>\n      <td>0.0</td>\n      <td>0.0</td>\n      <td>0.0</td>\n      <td>0.0</td>\n      <td>0.0</td>\n      <td>...</td>\n      <td>0</td>\n      <td>0</td>\n      <td>0</td>\n      <td>0</td>\n      <td>0</td>\n      <td>0</td>\n      <td>0</td>\n      <td>0</td>\n      <td>0</td>\n      <td>0</td>\n    </tr>\n    <tr>\n      <th>2</th>\n      <td>0k#shyaml</td>\n      <td>0.0</td>\n      <td>0.0</td>\n      <td>0.0</td>\n      <td>0.0</td>\n      <td>0.0</td>\n      <td>0.0</td>\n      <td>0.0</td>\n      <td>0.0</td>\n      <td>0.0</td>\n      <td>...</td>\n      <td>0</td>\n      <td>0</td>\n      <td>0</td>\n      <td>0</td>\n      <td>0</td>\n      <td>0</td>\n      <td>0</td>\n      <td>0</td>\n      <td>0</td>\n      <td>0</td>\n    </tr>\n    <tr>\n      <th>3</th>\n      <td>0x00-0x00#ShellPop</td>\n      <td>0.0</td>\n      <td>0.0</td>\n      <td>0.0</td>\n      <td>0.0</td>\n      <td>0.0</td>\n      <td>0.0</td>\n      <td>0.0</td>\n      <td>0.0</td>\n      <td>0.0</td>\n      <td>...</td>\n      <td>0</td>\n      <td>0</td>\n      <td>0</td>\n      <td>0</td>\n      <td>0</td>\n      <td>0</td>\n      <td>0</td>\n      <td>0</td>\n      <td>0</td>\n      <td>0</td>\n    </tr>\n    <tr>\n      <th>4</th>\n      <td>0xAX#linux-insides</td>\n      <td>0.0</td>\n      <td>0.0</td>\n      <td>0.0</td>\n      <td>0.0</td>\n      <td>0.0</td>\n      <td>0.0</td>\n      <td>0.0</td>\n      <td>0.0</td>\n      <td>0.0</td>\n      <td>...</td>\n      <td>0</td>\n      <td>0</td>\n      <td>0</td>\n      <td>0</td>\n      <td>0</td>\n      <td>0</td>\n      <td>0</td>\n      <td>0</td>\n      <td>0</td>\n      <td>0</td>\n    </tr>\n  </tbody>\n</table>\n<p>5 rows × 17100 columns</p>\n</div>"
     },
     "execution_count": 37,
     "metadata": {},
     "output_type": "execute_result"
    }
   ],
   "source": [
    "final_dataset.head()"
   ]
  },
  {
   "cell_type": "markdown",
   "metadata": {
    "pycharm": {
     "name": "#%% md\n"
    }
   },
   "source": [
    "# Final dataset postprocessing"
   ]
  },
  {
   "cell_type": "markdown",
   "metadata": {
    "pycharm": {
     "name": "#%% md\n"
    }
   },
   "source": [
    "# Filtering tags"
   ]
  },
  {
   "cell_type": "code",
   "execution_count": 38,
   "metadata": {
    "pycharm": {
     "name": "#%%\n"
    }
   },
   "outputs": [
    {
     "data": {
      "text/plain": "9102"
     },
     "execution_count": 38,
     "metadata": {},
     "output_type": "execute_result"
    }
   ],
   "source": [
    "old_tags = [c for c in final_dataset.columns if c.startswith('tag#')]\n",
    "len(old_tags)"
   ]
  },
  {
   "cell_type": "code",
   "execution_count": 39,
   "metadata": {
    "pycharm": {
     "name": "#%%\n"
    }
   },
   "outputs": [
    {
     "data": {
      "text/plain": "   tag#010editor  tag#053  tag#0day  tag#100daysofcode  tag#104  tag#1111  \\\n0              0        0         0                  0        0         0   \n1              0        0         0                  0        0         0   \n2              0        0         0                  0        0         0   \n3              0        0         0                  0        0         0   \n4              0        0         0                  0        0         0   \n\n   tag#12306  tag#163mail-login  tag#2  tag#2019-ncov  ...  tag#zircon  \\\n0          0                  0      0              0  ...           0   \n1          0                  0      0              0  ...           0   \n2          0                  0      0              0  ...           0   \n3          0                  0      0              0  ...           0   \n4          0                  0      0              0  ...           0   \n\n   tag#zookeeper  tag#zoom  tag#zotero  tag#zotero-api  tag#zsh  tag#ztp  \\\n0              0         0           0               0        0        0   \n1              0         0           0               0        0        0   \n2              0         0           0               0        0        0   \n3              0         0           0               0        0        0   \n4              0         0           0               0        0        0   \n\n   tag#zuul  tag#zvt  tag#zypper  \n0         0        0           0  \n1         0        0           0  \n2         0        0           0  \n3         0        0           0  \n4         0        0           0  \n\n[5 rows x 9102 columns]",
      "text/html": "<div>\n<style scoped>\n    .dataframe tbody tr th:only-of-type {\n        vertical-align: middle;\n    }\n\n    .dataframe tbody tr th {\n        vertical-align: top;\n    }\n\n    .dataframe thead th {\n        text-align: right;\n    }\n</style>\n<table border=\"1\" class=\"dataframe\">\n  <thead>\n    <tr style=\"text-align: right;\">\n      <th></th>\n      <th>tag#010editor</th>\n      <th>tag#053</th>\n      <th>tag#0day</th>\n      <th>tag#100daysofcode</th>\n      <th>tag#104</th>\n      <th>tag#1111</th>\n      <th>tag#12306</th>\n      <th>tag#163mail-login</th>\n      <th>tag#2</th>\n      <th>tag#2019-ncov</th>\n      <th>...</th>\n      <th>tag#zircon</th>\n      <th>tag#zookeeper</th>\n      <th>tag#zoom</th>\n      <th>tag#zotero</th>\n      <th>tag#zotero-api</th>\n      <th>tag#zsh</th>\n      <th>tag#ztp</th>\n      <th>tag#zuul</th>\n      <th>tag#zvt</th>\n      <th>tag#zypper</th>\n    </tr>\n  </thead>\n  <tbody>\n    <tr>\n      <th>0</th>\n      <td>0</td>\n      <td>0</td>\n      <td>0</td>\n      <td>0</td>\n      <td>0</td>\n      <td>0</td>\n      <td>0</td>\n      <td>0</td>\n      <td>0</td>\n      <td>0</td>\n      <td>...</td>\n      <td>0</td>\n      <td>0</td>\n      <td>0</td>\n      <td>0</td>\n      <td>0</td>\n      <td>0</td>\n      <td>0</td>\n      <td>0</td>\n      <td>0</td>\n      <td>0</td>\n    </tr>\n    <tr>\n      <th>1</th>\n      <td>0</td>\n      <td>0</td>\n      <td>0</td>\n      <td>0</td>\n      <td>0</td>\n      <td>0</td>\n      <td>0</td>\n      <td>0</td>\n      <td>0</td>\n      <td>0</td>\n      <td>...</td>\n      <td>0</td>\n      <td>0</td>\n      <td>0</td>\n      <td>0</td>\n      <td>0</td>\n      <td>0</td>\n      <td>0</td>\n      <td>0</td>\n      <td>0</td>\n      <td>0</td>\n    </tr>\n    <tr>\n      <th>2</th>\n      <td>0</td>\n      <td>0</td>\n      <td>0</td>\n      <td>0</td>\n      <td>0</td>\n      <td>0</td>\n      <td>0</td>\n      <td>0</td>\n      <td>0</td>\n      <td>0</td>\n      <td>...</td>\n      <td>0</td>\n      <td>0</td>\n      <td>0</td>\n      <td>0</td>\n      <td>0</td>\n      <td>0</td>\n      <td>0</td>\n      <td>0</td>\n      <td>0</td>\n      <td>0</td>\n    </tr>\n    <tr>\n      <th>3</th>\n      <td>0</td>\n      <td>0</td>\n      <td>0</td>\n      <td>0</td>\n      <td>0</td>\n      <td>0</td>\n      <td>0</td>\n      <td>0</td>\n      <td>0</td>\n      <td>0</td>\n      <td>...</td>\n      <td>0</td>\n      <td>0</td>\n      <td>0</td>\n      <td>0</td>\n      <td>0</td>\n      <td>0</td>\n      <td>0</td>\n      <td>0</td>\n      <td>0</td>\n      <td>0</td>\n    </tr>\n    <tr>\n      <th>4</th>\n      <td>0</td>\n      <td>0</td>\n      <td>0</td>\n      <td>0</td>\n      <td>0</td>\n      <td>0</td>\n      <td>0</td>\n      <td>0</td>\n      <td>0</td>\n      <td>0</td>\n      <td>...</td>\n      <td>0</td>\n      <td>0</td>\n      <td>0</td>\n      <td>0</td>\n      <td>0</td>\n      <td>0</td>\n      <td>0</td>\n      <td>0</td>\n      <td>0</td>\n      <td>0</td>\n    </tr>\n  </tbody>\n</table>\n<p>5 rows × 9102 columns</p>\n</div>"
     },
     "execution_count": 39,
     "metadata": {},
     "output_type": "execute_result"
    }
   ],
   "source": [
    "tags_dataset = final_dataset[old_tags]\n",
    "tags_dataset.head()"
   ]
  },
  {
   "cell_type": "code",
   "execution_count": 40,
   "metadata": {
    "pycharm": {
     "name": "#%%\n"
    }
   },
   "outputs": [],
   "source": [
    "def build_count_tags_usage_dataset(tags_data):\n",
    "    return tags_data.apply(lambda x: x.sum()).reset_index().rename(columns={0:\"count\"})"
   ]
  },
  {
   "cell_type": "code",
   "execution_count": 41,
   "metadata": {
    "pycharm": {
     "name": "#%%\n"
    }
   },
   "outputs": [
    {
     "data": {
      "text/plain": "               index  count\n0      tag#010editor      0\n1            tag#053      1\n2           tag#0day      1\n3  tag#100daysofcode      1\n4            tag#104      1",
      "text/html": "<div>\n<style scoped>\n    .dataframe tbody tr th:only-of-type {\n        vertical-align: middle;\n    }\n\n    .dataframe tbody tr th {\n        vertical-align: top;\n    }\n\n    .dataframe thead th {\n        text-align: right;\n    }\n</style>\n<table border=\"1\" class=\"dataframe\">\n  <thead>\n    <tr style=\"text-align: right;\">\n      <th></th>\n      <th>index</th>\n      <th>count</th>\n    </tr>\n  </thead>\n  <tbody>\n    <tr>\n      <th>0</th>\n      <td>tag#010editor</td>\n      <td>0</td>\n    </tr>\n    <tr>\n      <th>1</th>\n      <td>tag#053</td>\n      <td>1</td>\n    </tr>\n    <tr>\n      <th>2</th>\n      <td>tag#0day</td>\n      <td>1</td>\n    </tr>\n    <tr>\n      <th>3</th>\n      <td>tag#100daysofcode</td>\n      <td>1</td>\n    </tr>\n    <tr>\n      <th>4</th>\n      <td>tag#104</td>\n      <td>1</td>\n    </tr>\n  </tbody>\n</table>\n</div>"
     },
     "execution_count": 41,
     "metadata": {},
     "output_type": "execute_result"
    }
   ],
   "source": [
    "count_tags_usage_dataset = build_count_tags_usage_dataset(tags_dataset)\n",
    "count_tags_usage_dataset.head()"
   ]
  },
  {
   "cell_type": "markdown",
   "metadata": {
    "pycharm": {
     "name": "#%% md\n"
    }
   },
   "source": [
    "There are many zeros - need to filter it"
   ]
  },
  {
   "cell_type": "code",
   "execution_count": 42,
   "metadata": {
    "pycharm": {
     "name": "#%%\n"
    }
   },
   "outputs": [
    {
     "data": {
      "text/plain": "                     index  count\n0            tag#010editor      0\n3837    tag#image-analysis      0\n3833         tag#ijcai2020      0\n3832             tag#ijcai      0\n3829      tag#igramscraper      0\n...                    ...    ...\n7883        tag#tensorflow    173\n1993     tag#deep-learning    201\n2205            tag#django    235\n4642  tag#machine-learning    255\n6348            tag#python   1081\n\n[9102 rows x 2 columns]",
      "text/html": "<div>\n<style scoped>\n    .dataframe tbody tr th:only-of-type {\n        vertical-align: middle;\n    }\n\n    .dataframe tbody tr th {\n        vertical-align: top;\n    }\n\n    .dataframe thead th {\n        text-align: right;\n    }\n</style>\n<table border=\"1\" class=\"dataframe\">\n  <thead>\n    <tr style=\"text-align: right;\">\n      <th></th>\n      <th>index</th>\n      <th>count</th>\n    </tr>\n  </thead>\n  <tbody>\n    <tr>\n      <th>0</th>\n      <td>tag#010editor</td>\n      <td>0</td>\n    </tr>\n    <tr>\n      <th>3837</th>\n      <td>tag#image-analysis</td>\n      <td>0</td>\n    </tr>\n    <tr>\n      <th>3833</th>\n      <td>tag#ijcai2020</td>\n      <td>0</td>\n    </tr>\n    <tr>\n      <th>3832</th>\n      <td>tag#ijcai</td>\n      <td>0</td>\n    </tr>\n    <tr>\n      <th>3829</th>\n      <td>tag#igramscraper</td>\n      <td>0</td>\n    </tr>\n    <tr>\n      <th>...</th>\n      <td>...</td>\n      <td>...</td>\n    </tr>\n    <tr>\n      <th>7883</th>\n      <td>tag#tensorflow</td>\n      <td>173</td>\n    </tr>\n    <tr>\n      <th>1993</th>\n      <td>tag#deep-learning</td>\n      <td>201</td>\n    </tr>\n    <tr>\n      <th>2205</th>\n      <td>tag#django</td>\n      <td>235</td>\n    </tr>\n    <tr>\n      <th>4642</th>\n      <td>tag#machine-learning</td>\n      <td>255</td>\n    </tr>\n    <tr>\n      <th>6348</th>\n      <td>tag#python</td>\n      <td>1081</td>\n    </tr>\n  </tbody>\n</table>\n<p>9102 rows × 2 columns</p>\n</div>"
     },
     "execution_count": 42,
     "metadata": {},
     "output_type": "execute_result"
    }
   ],
   "source": [
    "count_tags_usage_dataset.sort_values(by=[\"count\"])"
   ]
  },
  {
   "cell_type": "code",
   "execution_count": 43,
   "metadata": {
    "pycharm": {
     "name": "#%%\n"
    }
   },
   "outputs": [
    {
     "data": {
      "text/plain": "(1119, 2)"
     },
     "execution_count": 43,
     "metadata": {},
     "output_type": "execute_result"
    }
   ],
   "source": [
    "count_tags_usage_dataset[count_tags_usage_dataset[\"count\"] == 0].shape"
   ]
  },
  {
   "cell_type": "code",
   "execution_count": 44,
   "metadata": {
    "pycharm": {
     "name": "#%%\n"
    }
   },
   "outputs": [
    {
     "data": {
      "text/plain": "(2412, 7983)"
     },
     "execution_count": 44,
     "metadata": {},
     "output_type": "execute_result"
    }
   ],
   "source": [
    "tags_dataset = tags_dataset[count_tags_usage_dataset[count_tags_usage_dataset[\"count\"] != 0][\"index\"]]\n",
    "tags_dataset.shape"
   ]
  },
  {
   "cell_type": "code",
   "execution_count": 45,
   "metadata": {
    "pycharm": {
     "name": "#%%\n"
    }
   },
   "outputs": [
    {
     "data": {
      "text/plain": "               index  count\n0            tag#053      1\n1           tag#0day      1\n2  tag#100daysofcode      1\n3            tag#104      1\n4           tag#1111      1",
      "text/html": "<div>\n<style scoped>\n    .dataframe tbody tr th:only-of-type {\n        vertical-align: middle;\n    }\n\n    .dataframe tbody tr th {\n        vertical-align: top;\n    }\n\n    .dataframe thead th {\n        text-align: right;\n    }\n</style>\n<table border=\"1\" class=\"dataframe\">\n  <thead>\n    <tr style=\"text-align: right;\">\n      <th></th>\n      <th>index</th>\n      <th>count</th>\n    </tr>\n  </thead>\n  <tbody>\n    <tr>\n      <th>0</th>\n      <td>tag#053</td>\n      <td>1</td>\n    </tr>\n    <tr>\n      <th>1</th>\n      <td>tag#0day</td>\n      <td>1</td>\n    </tr>\n    <tr>\n      <th>2</th>\n      <td>tag#100daysofcode</td>\n      <td>1</td>\n    </tr>\n    <tr>\n      <th>3</th>\n      <td>tag#104</td>\n      <td>1</td>\n    </tr>\n    <tr>\n      <th>4</th>\n      <td>tag#1111</td>\n      <td>1</td>\n    </tr>\n  </tbody>\n</table>\n</div>"
     },
     "execution_count": 45,
     "metadata": {},
     "output_type": "execute_result"
    }
   ],
   "source": [
    "count_tags_usage_dataset = build_count_tags_usage_dataset(tags_dataset)\n",
    "count_tags_usage_dataset.head()"
   ]
  },
  {
   "cell_type": "code",
   "execution_count": 46,
   "metadata": {
    "pycharm": {
     "name": "#%%\n"
    }
   },
   "outputs": [
    {
     "data": {
      "text/plain": "                     index  count\n5579            tag#python   1081\n4079  tag#machine-learning    255\n1910            tag#django    235\n1727     tag#deep-learning    201\n6932        tag#tensorflow    173",
      "text/html": "<div>\n<style scoped>\n    .dataframe tbody tr th:only-of-type {\n        vertical-align: middle;\n    }\n\n    .dataframe tbody tr th {\n        vertical-align: top;\n    }\n\n    .dataframe thead th {\n        text-align: right;\n    }\n</style>\n<table border=\"1\" class=\"dataframe\">\n  <thead>\n    <tr style=\"text-align: right;\">\n      <th></th>\n      <th>index</th>\n      <th>count</th>\n    </tr>\n  </thead>\n  <tbody>\n    <tr>\n      <th>5579</th>\n      <td>tag#python</td>\n      <td>1081</td>\n    </tr>\n    <tr>\n      <th>4079</th>\n      <td>tag#machine-learning</td>\n      <td>255</td>\n    </tr>\n    <tr>\n      <th>1910</th>\n      <td>tag#django</td>\n      <td>235</td>\n    </tr>\n    <tr>\n      <th>1727</th>\n      <td>tag#deep-learning</td>\n      <td>201</td>\n    </tr>\n    <tr>\n      <th>6932</th>\n      <td>tag#tensorflow</td>\n      <td>173</td>\n    </tr>\n  </tbody>\n</table>\n</div>"
     },
     "execution_count": 46,
     "metadata": {},
     "output_type": "execute_result"
    }
   ],
   "source": [
    "# there is nan tag - should be filtered\n",
    "count_tags_usage_dataset = count_tags_usage_dataset.sort_values(by=[\"count\"],ascending=False)\n",
    "count_tags_usage_dataset.head()"
   ]
  },
  {
   "cell_type": "code",
   "execution_count": 47,
   "metadata": {
    "pycharm": {
     "name": "#%%\n"
    }
   },
   "outputs": [
    {
     "data": {
      "text/plain": "   tag#python  tag#machine-learning  tag#django  tag#deep-learning  \\\n0           0                     0           0                  0   \n1           1                     0           0                  0   \n2           0                     0           0                  0   \n3           0                     0           0                  0   \n4           0                     0           0                  0   \n\n   tag#tensorflow  tag#python3  tag#flask  tag#kotlin  tag#android  \\\n0               0            0          1           0            0   \n1               0            0          0           0            0   \n2               0            0          0           0            0   \n3               0            0          0           0            0   \n4               0            0          0           0            0   \n\n   tag#hacktoberfest  ...  tag#hamming-distance  tag#hail  tag#hacs  \\\n0                  0  ...                     0         0         0   \n1                  0  ...                     0         0         0   \n2                  0  ...                     0         0         0   \n3                  0  ...                     0         0         0   \n4                  0  ...                     0         0         0   \n\n   tag#hacks  tag#hackintosh  tag#hackerrank  tag#hackerone  \\\n0          0               0               0              0   \n1          0               0               0              0   \n2          0               0               0              0   \n3          0               0               0              0   \n4          0               0               0              0   \n\n   tag#hacker-news-reader  tag#hacker-news-client  tag#zypper  \n0                       0                       0           0  \n1                       0                       0           0  \n2                       0                       0           0  \n3                       0                       0           0  \n4                       0                       0           0  \n\n[5 rows x 7983 columns]",
      "text/html": "<div>\n<style scoped>\n    .dataframe tbody tr th:only-of-type {\n        vertical-align: middle;\n    }\n\n    .dataframe tbody tr th {\n        vertical-align: top;\n    }\n\n    .dataframe thead th {\n        text-align: right;\n    }\n</style>\n<table border=\"1\" class=\"dataframe\">\n  <thead>\n    <tr style=\"text-align: right;\">\n      <th></th>\n      <th>tag#python</th>\n      <th>tag#machine-learning</th>\n      <th>tag#django</th>\n      <th>tag#deep-learning</th>\n      <th>tag#tensorflow</th>\n      <th>tag#python3</th>\n      <th>tag#flask</th>\n      <th>tag#kotlin</th>\n      <th>tag#android</th>\n      <th>tag#hacktoberfest</th>\n      <th>...</th>\n      <th>tag#hamming-distance</th>\n      <th>tag#hail</th>\n      <th>tag#hacs</th>\n      <th>tag#hacks</th>\n      <th>tag#hackintosh</th>\n      <th>tag#hackerrank</th>\n      <th>tag#hackerone</th>\n      <th>tag#hacker-news-reader</th>\n      <th>tag#hacker-news-client</th>\n      <th>tag#zypper</th>\n    </tr>\n  </thead>\n  <tbody>\n    <tr>\n      <th>0</th>\n      <td>0</td>\n      <td>0</td>\n      <td>0</td>\n      <td>0</td>\n      <td>0</td>\n      <td>0</td>\n      <td>1</td>\n      <td>0</td>\n      <td>0</td>\n      <td>0</td>\n      <td>...</td>\n      <td>0</td>\n      <td>0</td>\n      <td>0</td>\n      <td>0</td>\n      <td>0</td>\n      <td>0</td>\n      <td>0</td>\n      <td>0</td>\n      <td>0</td>\n      <td>0</td>\n    </tr>\n    <tr>\n      <th>1</th>\n      <td>1</td>\n      <td>0</td>\n      <td>0</td>\n      <td>0</td>\n      <td>0</td>\n      <td>0</td>\n      <td>0</td>\n      <td>0</td>\n      <td>0</td>\n      <td>0</td>\n      <td>...</td>\n      <td>0</td>\n      <td>0</td>\n      <td>0</td>\n      <td>0</td>\n      <td>0</td>\n      <td>0</td>\n      <td>0</td>\n      <td>0</td>\n      <td>0</td>\n      <td>0</td>\n    </tr>\n    <tr>\n      <th>2</th>\n      <td>0</td>\n      <td>0</td>\n      <td>0</td>\n      <td>0</td>\n      <td>0</td>\n      <td>0</td>\n      <td>0</td>\n      <td>0</td>\n      <td>0</td>\n      <td>0</td>\n      <td>...</td>\n      <td>0</td>\n      <td>0</td>\n      <td>0</td>\n      <td>0</td>\n      <td>0</td>\n      <td>0</td>\n      <td>0</td>\n      <td>0</td>\n      <td>0</td>\n      <td>0</td>\n    </tr>\n    <tr>\n      <th>3</th>\n      <td>0</td>\n      <td>0</td>\n      <td>0</td>\n      <td>0</td>\n      <td>0</td>\n      <td>0</td>\n      <td>0</td>\n      <td>0</td>\n      <td>0</td>\n      <td>0</td>\n      <td>...</td>\n      <td>0</td>\n      <td>0</td>\n      <td>0</td>\n      <td>0</td>\n      <td>0</td>\n      <td>0</td>\n      <td>0</td>\n      <td>0</td>\n      <td>0</td>\n      <td>0</td>\n    </tr>\n    <tr>\n      <th>4</th>\n      <td>0</td>\n      <td>0</td>\n      <td>0</td>\n      <td>0</td>\n      <td>0</td>\n      <td>0</td>\n      <td>0</td>\n      <td>0</td>\n      <td>0</td>\n      <td>0</td>\n      <td>...</td>\n      <td>0</td>\n      <td>0</td>\n      <td>0</td>\n      <td>0</td>\n      <td>0</td>\n      <td>0</td>\n      <td>0</td>\n      <td>0</td>\n      <td>0</td>\n      <td>0</td>\n    </tr>\n  </tbody>\n</table>\n<p>5 rows × 7983 columns</p>\n</div>"
     },
     "execution_count": 47,
     "metadata": {},
     "output_type": "execute_result"
    }
   ],
   "source": [
    "tags_dataset = tags_dataset[count_tags_usage_dataset[count_tags_usage_dataset[\"index\"] != \"tag#nan\"]['index']]\n",
    "tags_dataset.head()"
   ]
  },
  {
   "cell_type": "code",
   "execution_count": 48,
   "metadata": {
    "pycharm": {
     "name": "#%%\n"
    }
   },
   "outputs": [
    {
     "data": {
      "text/plain": "                  index  count\n0            tag#python   1081\n1  tag#machine-learning    255\n2            tag#django    235\n3     tag#deep-learning    201\n4        tag#tensorflow    173",
      "text/html": "<div>\n<style scoped>\n    .dataframe tbody tr th:only-of-type {\n        vertical-align: middle;\n    }\n\n    .dataframe tbody tr th {\n        vertical-align: top;\n    }\n\n    .dataframe thead th {\n        text-align: right;\n    }\n</style>\n<table border=\"1\" class=\"dataframe\">\n  <thead>\n    <tr style=\"text-align: right;\">\n      <th></th>\n      <th>index</th>\n      <th>count</th>\n    </tr>\n  </thead>\n  <tbody>\n    <tr>\n      <th>0</th>\n      <td>tag#python</td>\n      <td>1081</td>\n    </tr>\n    <tr>\n      <th>1</th>\n      <td>tag#machine-learning</td>\n      <td>255</td>\n    </tr>\n    <tr>\n      <th>2</th>\n      <td>tag#django</td>\n      <td>235</td>\n    </tr>\n    <tr>\n      <th>3</th>\n      <td>tag#deep-learning</td>\n      <td>201</td>\n    </tr>\n    <tr>\n      <th>4</th>\n      <td>tag#tensorflow</td>\n      <td>173</td>\n    </tr>\n  </tbody>\n</table>\n</div>"
     },
     "execution_count": 48,
     "metadata": {},
     "output_type": "execute_result"
    }
   ],
   "source": [
    "count_tags_usage_dataset = build_count_tags_usage_dataset(tags_dataset)\n",
    "count_tags_usage_dataset.head()"
   ]
  },
  {
   "cell_type": "code",
   "execution_count": 49,
   "metadata": {
    "pycharm": {
     "name": "#%%\n"
    }
   },
   "outputs": [
    {
     "data": {
      "text/plain": "1       5762\n2       1027\n3        376\n4        211\n5        131\n        ... \n47         1\n27         1\n46         1\n40         1\n1081       1\nName: count, Length: 67, dtype: int64"
     },
     "execution_count": 49,
     "metadata": {},
     "output_type": "execute_result"
    }
   ],
   "source": [
    "# check value counts\n",
    "value_counts = count_tags_usage_dataset[\"count\"].value_counts()\n",
    "value_counts"
   ]
  },
  {
   "cell_type": "code",
   "execution_count": 50,
   "metadata": {
    "pycharm": {
     "name": "#%%\n"
    }
   },
   "outputs": [
    {
     "data": {
      "text/plain": "<AxesSubplot:>"
     },
     "execution_count": 50,
     "metadata": {},
     "output_type": "execute_result"
    },
    {
     "data": {
      "text/plain": "<Figure size 1080x1080 with 1 Axes>",
      "image/png": "[encoded data removed]"
     },
     "metadata": {
      "needs_background": "light"
     },
     "output_type": "display_data"
    }
   ],
   "source": [
    "# take a look on bar chart of value counts\n",
    "value_counts.plot.bar(figsize=(15,15))"
   ]
  },
  {
   "cell_type": "code",
   "execution_count": 51,
   "metadata": {
    "pycharm": {
     "name": "#%%\n"
    }
   },
   "outputs": [
    {
     "data": {
      "text/plain": "                  index  count\n0            tag#python   1081\n1  tag#machine-learning    255\n2            tag#django    235\n3     tag#deep-learning    201\n4        tag#tensorflow    173",
      "text/html": "<div>\n<style scoped>\n    .dataframe tbody tr th:only-of-type {\n        vertical-align: middle;\n    }\n\n    .dataframe tbody tr th {\n        vertical-align: top;\n    }\n\n    .dataframe thead th {\n        text-align: right;\n    }\n</style>\n<table border=\"1\" class=\"dataframe\">\n  <thead>\n    <tr style=\"text-align: right;\">\n      <th></th>\n      <th>index</th>\n      <th>count</th>\n    </tr>\n  </thead>\n  <tbody>\n    <tr>\n      <th>0</th>\n      <td>tag#python</td>\n      <td>1081</td>\n    </tr>\n    <tr>\n      <th>1</th>\n      <td>tag#machine-learning</td>\n      <td>255</td>\n    </tr>\n    <tr>\n      <th>2</th>\n      <td>tag#django</td>\n      <td>235</td>\n    </tr>\n    <tr>\n      <th>3</th>\n      <td>tag#deep-learning</td>\n      <td>201</td>\n    </tr>\n    <tr>\n      <th>4</th>\n      <td>tag#tensorflow</td>\n      <td>173</td>\n    </tr>\n  </tbody>\n</table>\n</div>"
     },
     "execution_count": 51,
     "metadata": {},
     "output_type": "execute_result"
    }
   ],
   "source": [
    "# try to filter tags which count less than 5\n",
    "count_tags_usage_dataset = build_count_tags_usage_dataset(tags_dataset)\n",
    "count_tags_usage_dataset.head()"
   ]
  },
  {
   "cell_type": "code",
   "execution_count": 52,
   "metadata": {
    "pycharm": {
     "name": "#%%\n"
    }
   },
   "outputs": [
    {
     "data": {
      "text/plain": "   tag#python  tag#machine-learning  tag#django  tag#deep-learning  \\\n0           0                     0           0                  0   \n1           1                     0           0                  0   \n2           0                     0           0                  0   \n3           0                     0           0                  0   \n4           0                     0           0                  0   \n\n   tag#tensorflow  tag#python3  tag#flask  tag#kotlin  tag#android  \\\n0               0            0          1           0            0   \n1               0            0          0           0            0   \n2               0            0          0           0            0   \n3               0            0          0           0            0   \n4               0            0          0           0            0   \n\n   tag#hacktoberfest  ...  tag#asynchronous  tag#tensorflow-tutorials  \\\n0                  0  ...                 0                         0   \n1                  0  ...                 0                         0   \n2                  0  ...                 0                         0   \n3                  0  ...                 0                         0   \n4                  0  ...                 0                         0   \n\n   tag#embeddings  tag#e-commerce  tag#plotly-dash  tag#icon-font  tag#editor  \\\n0               0               0                0              0           0   \n1               0               0                0              0           0   \n2               0               0                0              0           0   \n3               0               0                0              0           0   \n4               0               0                0              0           0   \n\n   tag#decentralized  tag#pycharm  tag#wrapper  \n0                  0            0            0  \n1                  0            0            0  \n2                  0            0            0  \n3                  0            0            0  \n4                  0            0            0  \n\n[5 rows x 607 columns]",
      "text/html": "<div>\n<style scoped>\n    .dataframe tbody tr th:only-of-type {\n        vertical-align: middle;\n    }\n\n    .dataframe tbody tr th {\n        vertical-align: top;\n    }\n\n    .dataframe thead th {\n        text-align: right;\n    }\n</style>\n<table border=\"1\" class=\"dataframe\">\n  <thead>\n    <tr style=\"text-align: right;\">\n      <th></th>\n      <th>tag#python</th>\n      <th>tag#machine-learning</th>\n      <th>tag#django</th>\n      <th>tag#deep-learning</th>\n      <th>tag#tensorflow</th>\n      <th>tag#python3</th>\n      <th>tag#flask</th>\n      <th>tag#kotlin</th>\n      <th>tag#android</th>\n      <th>tag#hacktoberfest</th>\n      <th>...</th>\n      <th>tag#asynchronous</th>\n      <th>tag#tensorflow-tutorials</th>\n      <th>tag#embeddings</th>\n      <th>tag#e-commerce</th>\n      <th>tag#plotly-dash</th>\n      <th>tag#icon-font</th>\n      <th>tag#editor</th>\n      <th>tag#decentralized</th>\n      <th>tag#pycharm</th>\n      <th>tag#wrapper</th>\n    </tr>\n  </thead>\n  <tbody>\n    <tr>\n      <th>0</th>\n      <td>0</td>\n      <td>0</td>\n      <td>0</td>\n      <td>0</td>\n      <td>0</td>\n      <td>0</td>\n      <td>1</td>\n      <td>0</td>\n      <td>0</td>\n      <td>0</td>\n      <td>...</td>\n      <td>0</td>\n      <td>0</td>\n      <td>0</td>\n      <td>0</td>\n      <td>0</td>\n      <td>0</td>\n      <td>0</td>\n      <td>0</td>\n      <td>0</td>\n      <td>0</td>\n    </tr>\n    <tr>\n      <th>1</th>\n      <td>1</td>\n      <td>0</td>\n      <td>0</td>\n      <td>0</td>\n      <td>0</td>\n      <td>0</td>\n      <td>0</td>\n      <td>0</td>\n      <td>0</td>\n      <td>0</td>\n      <td>...</td>\n      <td>0</td>\n      <td>0</td>\n      <td>0</td>\n      <td>0</td>\n      <td>0</td>\n      <td>0</td>\n      <td>0</td>\n      <td>0</td>\n      <td>0</td>\n      <td>0</td>\n    </tr>\n    <tr>\n      <th>2</th>\n      <td>0</td>\n      <td>0</td>\n      <td>0</td>\n      <td>0</td>\n      <td>0</td>\n      <td>0</td>\n      <td>0</td>\n      <td>0</td>\n      <td>0</td>\n      <td>0</td>\n      <td>...</td>\n      <td>0</td>\n      <td>0</td>\n      <td>0</td>\n      <td>0</td>\n      <td>0</td>\n      <td>0</td>\n      <td>0</td>\n      <td>0</td>\n      <td>0</td>\n      <td>0</td>\n    </tr>\n    <tr>\n      <th>3</th>\n      <td>0</td>\n      <td>0</td>\n      <td>0</td>\n      <td>0</td>\n      <td>0</td>\n      <td>0</td>\n      <td>0</td>\n      <td>0</td>\n      <td>0</td>\n      <td>0</td>\n      <td>...</td>\n      <td>0</td>\n      <td>0</td>\n      <td>0</td>\n      <td>0</td>\n      <td>0</td>\n      <td>0</td>\n      <td>0</td>\n      <td>0</td>\n      <td>0</td>\n      <td>0</td>\n    </tr>\n    <tr>\n      <th>4</th>\n      <td>0</td>\n      <td>0</td>\n      <td>0</td>\n      <td>0</td>\n      <td>0</td>\n      <td>0</td>\n      <td>0</td>\n      <td>0</td>\n      <td>0</td>\n      <td>0</td>\n      <td>...</td>\n      <td>0</td>\n      <td>0</td>\n      <td>0</td>\n      <td>0</td>\n      <td>0</td>\n      <td>0</td>\n      <td>0</td>\n      <td>0</td>\n      <td>0</td>\n      <td>0</td>\n    </tr>\n  </tbody>\n</table>\n<p>5 rows × 607 columns</p>\n</div>"
     },
     "execution_count": 52,
     "metadata": {},
     "output_type": "execute_result"
    }
   ],
   "source": [
    "tags_dataset = tags_dataset[count_tags_usage_dataset[count_tags_usage_dataset[\"count\"] >= 5]['index']]\n",
    "tags_dataset.head()"
   ]
  },
  {
   "cell_type": "code",
   "execution_count": 53,
   "metadata": {
    "pycharm": {
     "name": "#%%\n"
    }
   },
   "outputs": [
    {
     "data": {
      "text/plain": "                  index  count\n0            tag#python   1081\n1  tag#machine-learning    255\n2            tag#django    235\n3     tag#deep-learning    201\n4        tag#tensorflow    173",
      "text/html": "<div>\n<style scoped>\n    .dataframe tbody tr th:only-of-type {\n        vertical-align: middle;\n    }\n\n    .dataframe tbody tr th {\n        vertical-align: top;\n    }\n\n    .dataframe thead th {\n        text-align: right;\n    }\n</style>\n<table border=\"1\" class=\"dataframe\">\n  <thead>\n    <tr style=\"text-align: right;\">\n      <th></th>\n      <th>index</th>\n      <th>count</th>\n    </tr>\n  </thead>\n  <tbody>\n    <tr>\n      <th>0</th>\n      <td>tag#python</td>\n      <td>1081</td>\n    </tr>\n    <tr>\n      <th>1</th>\n      <td>tag#machine-learning</td>\n      <td>255</td>\n    </tr>\n    <tr>\n      <th>2</th>\n      <td>tag#django</td>\n      <td>235</td>\n    </tr>\n    <tr>\n      <th>3</th>\n      <td>tag#deep-learning</td>\n      <td>201</td>\n    </tr>\n    <tr>\n      <th>4</th>\n      <td>tag#tensorflow</td>\n      <td>173</td>\n    </tr>\n  </tbody>\n</table>\n</div>"
     },
     "execution_count": 53,
     "metadata": {},
     "output_type": "execute_result"
    }
   ],
   "source": [
    "count_tags_usage_dataset = build_count_tags_usage_dataset(tags_dataset)\n",
    "count_tags_usage_dataset.head()"
   ]
  },
  {
   "cell_type": "code",
   "execution_count": 54,
   "metadata": {
    "pycharm": {
     "name": "#%%\n"
    }
   },
   "outputs": [
    {
     "data": {
      "text/plain": "<AxesSubplot:>"
     },
     "execution_count": 54,
     "metadata": {},
     "output_type": "execute_result"
    },
    {
     "data": {
      "text/plain": "<Figure size 1080x1080 with 1 Axes>",
      "image/png": "[encoded data removed]"
     },
     "metadata": {
      "needs_background": "light"
     },
     "output_type": "display_data"
    }
   ],
   "source": [
    "# check bar chart of value counts again\n",
    "count_tags_usage_dataset[\"count\"].value_counts().plot.bar(figsize=(15,15))"
   ]
  },
  {
   "cell_type": "code",
   "execution_count": 55,
   "metadata": {
    "pycharm": {
     "name": "#%%\n"
    }
   },
   "outputs": [
    {
     "data": {
      "text/plain": "   tag#python  tag#machine-learning  tag#django  tag#deep-learning  \\\n0           0                     0           0                  0   \n1           1                     0           0                  0   \n2           0                     0           0                  0   \n3           0                     0           0                  0   \n4           0                     0           0                  0   \n\n   tag#tensorflow  tag#python3  tag#flask  tag#kotlin  tag#android  \\\n0               0            0          1           0            0   \n1               0            0          0           0            0   \n2               0            0          0           0            0   \n3               0            0          0           0            0   \n4               0            0          0           0            0   \n\n   tag#hacktoberfest  ...  tag#cryptocurrencies  tag#cross-platform  \\\n0                  0  ...                     0                   0   \n1                  0  ...                     0                   0   \n2                  0  ...                     0                   0   \n3                  0  ...                     0                   0   \n4                  0  ...                     0                   0   \n\n   tag#code-review  tag#transformers  tag#translation  tag#c  tag#tools  \\\n0                0                 0                0      0          0   \n1                0                 0                0      0          0   \n2                0                 0                0      0          0   \n3                0                 0                0      0          0   \n4                0                 0                0      0          0   \n\n   tag#scala  tag#matplotlib  tag#scrapy  \n0          0               0           0  \n1          0               0           0  \n2          0               0           0  \n3          0               0           0  \n4          0               0           0  \n\n[5 rows x 249 columns]",
      "text/html": "<div>\n<style scoped>\n    .dataframe tbody tr th:only-of-type {\n        vertical-align: middle;\n    }\n\n    .dataframe tbody tr th {\n        vertical-align: top;\n    }\n\n    .dataframe thead th {\n        text-align: right;\n    }\n</style>\n<table border=\"1\" class=\"dataframe\">\n  <thead>\n    <tr style=\"text-align: right;\">\n      <th></th>\n      <th>tag#python</th>\n      <th>tag#machine-learning</th>\n      <th>tag#django</th>\n      <th>tag#deep-learning</th>\n      <th>tag#tensorflow</th>\n      <th>tag#python3</th>\n      <th>tag#flask</th>\n      <th>tag#kotlin</th>\n      <th>tag#android</th>\n      <th>tag#hacktoberfest</th>\n      <th>...</th>\n      <th>tag#cryptocurrencies</th>\n      <th>tag#cross-platform</th>\n      <th>tag#code-review</th>\n      <th>tag#transformers</th>\n      <th>tag#translation</th>\n      <th>tag#c</th>\n      <th>tag#tools</th>\n      <th>tag#scala</th>\n      <th>tag#matplotlib</th>\n      <th>tag#scrapy</th>\n    </tr>\n  </thead>\n  <tbody>\n    <tr>\n      <th>0</th>\n      <td>0</td>\n      <td>0</td>\n      <td>0</td>\n      <td>0</td>\n      <td>0</td>\n      <td>0</td>\n      <td>1</td>\n      <td>0</td>\n      <td>0</td>\n      <td>0</td>\n      <td>...</td>\n      <td>0</td>\n      <td>0</td>\n      <td>0</td>\n      <td>0</td>\n      <td>0</td>\n      <td>0</td>\n      <td>0</td>\n      <td>0</td>\n      <td>0</td>\n      <td>0</td>\n    </tr>\n    <tr>\n      <th>1</th>\n      <td>1</td>\n      <td>0</td>\n      <td>0</td>\n      <td>0</td>\n      <td>0</td>\n      <td>0</td>\n      <td>0</td>\n      <td>0</td>\n      <td>0</td>\n      <td>0</td>\n      <td>...</td>\n      <td>0</td>\n      <td>0</td>\n      <td>0</td>\n      <td>0</td>\n      <td>0</td>\n      <td>0</td>\n      <td>0</td>\n      <td>0</td>\n      <td>0</td>\n      <td>0</td>\n    </tr>\n    <tr>\n      <th>2</th>\n      <td>0</td>\n      <td>0</td>\n      <td>0</td>\n      <td>0</td>\n      <td>0</td>\n      <td>0</td>\n      <td>0</td>\n      <td>0</td>\n      <td>0</td>\n      <td>0</td>\n      <td>...</td>\n      <td>0</td>\n      <td>0</td>\n      <td>0</td>\n      <td>0</td>\n      <td>0</td>\n      <td>0</td>\n      <td>0</td>\n      <td>0</td>\n      <td>0</td>\n      <td>0</td>\n    </tr>\n    <tr>\n      <th>3</th>\n      <td>0</td>\n      <td>0</td>\n      <td>0</td>\n      <td>0</td>\n      <td>0</td>\n      <td>0</td>\n      <td>0</td>\n      <td>0</td>\n      <td>0</td>\n      <td>0</td>\n      <td>...</td>\n      <td>0</td>\n      <td>0</td>\n      <td>0</td>\n      <td>0</td>\n      <td>0</td>\n      <td>0</td>\n      <td>0</td>\n      <td>0</td>\n      <td>0</td>\n      <td>0</td>\n    </tr>\n    <tr>\n      <th>4</th>\n      <td>0</td>\n      <td>0</td>\n      <td>0</td>\n      <td>0</td>\n      <td>0</td>\n      <td>0</td>\n      <td>0</td>\n      <td>0</td>\n      <td>0</td>\n      <td>0</td>\n      <td>...</td>\n      <td>0</td>\n      <td>0</td>\n      <td>0</td>\n      <td>0</td>\n      <td>0</td>\n      <td>0</td>\n      <td>0</td>\n      <td>0</td>\n      <td>0</td>\n      <td>0</td>\n    </tr>\n  </tbody>\n</table>\n<p>5 rows × 249 columns</p>\n</div>"
     },
     "execution_count": 55,
     "metadata": {},
     "output_type": "execute_result"
    }
   ],
   "source": [
    "# I like count 10, lets filter tags with count less than 10\n",
    "tags_dataset = tags_dataset[count_tags_usage_dataset[count_tags_usage_dataset[\"count\"] >= 10]['index']]\n",
    "tags_dataset.head()"
   ]
  },
  {
   "cell_type": "code",
   "execution_count": 56,
   "metadata": {
    "pycharm": {
     "name": "#%%\n"
    }
   },
   "outputs": [
    {
     "data": {
      "text/plain": "['tag#python',\n 'tag#machine-learning',\n 'tag#django',\n 'tag#deep-learning',\n 'tag#tensorflow',\n 'tag#python3',\n 'tag#flask',\n 'tag#kotlin',\n 'tag#android',\n 'tag#hacktoberfest',\n 'tag#bot',\n 'tag#scikit-learn',\n 'tag#nlp',\n 'tag#pytorch',\n 'tag#docker',\n 'tag#telegram',\n 'tag#linux',\n 'tag#data-science',\n 'tag#security',\n 'tag#cryptocurrency',\n 'tag#gradle',\n 'tag#cli',\n 'tag#java',\n 'tag#api',\n 'tag#keras',\n 'tag#natural-language-processing',\n 'tag#google',\n 'tag#computer-vision',\n 'tag#jupyter-notebook',\n 'tag#bitcoin',\n 'tag#aws',\n 'tag#library',\n 'tag#javascript',\n 'tag#testing',\n 'tag#ansible',\n 'tag#data-visualization',\n 'tag#wagtail',\n 'tag#covid-19',\n 'tag#algorithm',\n 'tag#github-api',\n 'tag#windows',\n 'tag#json',\n 'tag#git',\n 'tag#neural-network',\n 'tag#telegram-bot',\n 'tag#terminal',\n 'tag#twitter',\n 'tag#ubuntu',\n 'tag#pandas',\n 'tag#jupyter',\n 'tag#web',\n 'tag#rest-api',\n 'tag#automation',\n 'tag#framework',\n 'tag#parsing',\n 'tag#font',\n 'tag#monitoring',\n 'tag#ethereum',\n 'tag#github',\n 'tag#artificial-intelligence',\n 'tag#trading',\n 'tag#visualization',\n 'tag#devops',\n 'tag#3d',\n 'tag#database',\n 'tag#sql',\n 'tag#macos',\n 'tag#sqlalchemy',\n 'tag#deployment',\n 'tag#kubernetes',\n 'tag#ai',\n 'tag#mastodon',\n 'tag#xml',\n 'tag#shell',\n 'tag#emoji',\n 'tag#discord',\n 'tag#code-quality',\n 'tag#trading-bot',\n 'tag#http',\n 'tag#postgresql',\n 'tag#mysql',\n 'tag#webapp',\n 'tag#rest',\n 'tag#data-structures',\n 'tag#object-detection',\n 'tag#elasticsearch',\n 'tag#command-line',\n 'tag#chatbot',\n 'tag#project-management',\n 'tag#django-rest-framework',\n 'tag#neural-networks',\n 'tag#raspberry-pi',\n 'tag#emulator',\n 'tag#tutorial',\n 'tag#python-3',\n 'tag#bert',\n 'tag#markdown',\n 'tag#reinforcement-learning',\n 'tag#asyncio',\n 'tag#data-analysis',\n 'tag#python-library',\n 'tag#html',\n 'tag#server',\n 'tag#gan',\n 'tag#heroku',\n 'tag#hacking',\n 'tag#deeplearning',\n 'tag#bash',\n 'tag#terraform',\n 'tag#documentation',\n 'tag#algorithms',\n 'tag#graphql',\n 'tag#unreal-engine',\n 'tag#spider',\n 'tag#vagrant',\n 'tag#linter',\n 'tag#rss',\n 'tag#redis',\n 'tag#data',\n 'tag#pentesting',\n 'tag#material-design',\n 'tag#android-library',\n 'tag#serverless',\n 'tag#numpy',\n 'tag#youtube',\n 'tag#azure',\n 'tag#monero',\n 'tag#crawler',\n 'tag#osint',\n 'tag#automl',\n 'tag#continuous-integration',\n 'tag#ml',\n 'tag#gui',\n 'tag#deep-neural-networks',\n 'tag#opencv',\n 'tag#blockchain',\n 'tag#chrome',\n 'tag#support',\n 'tag#bootstrap',\n 'tag#ios',\n 'tag#mongodb',\n 'tag#selenium',\n 'tag#cloud',\n 'tag#dataset',\n 'tag#cnn',\n 'tag#classification',\n 'tag#ui',\n 'tag#text-classification',\n 'tag#coronavirus',\n 'tag#animation',\n 'tag#gradle-plugin',\n 'tag#parser',\n 'tag#firebase',\n 'tag#firefox',\n 'tag#sklearn',\n 'tag#slack',\n 'tag#mlops',\n 'tag#algorithmic-trading',\n 'tag#music',\n 'tag#vue',\n 'tag#onnx',\n 'tag#scraper',\n 'tag#xgboost',\n 'tag#client',\n 'tag#pypi',\n 'tag#speech-recognition',\n 'tag#atom',\n 'tag#python2',\n 'tag#lambda',\n 'tag#kotlin-multiplatform',\n 'tag#crypto',\n 'tag#discord-bot',\n 'tag#sketch',\n 'tag#dashboard',\n 'tag#game',\n 'tag#spacy',\n 'tag#react',\n 'tag#kotlin-android',\n 'tag#performance',\n 'tag#celery',\n 'tag#trading-strategies',\n 'tag#named-entity-recognition',\n 'tag#intellij-plugin',\n 'tag#sqlite',\n 'tag#android-development',\n 'tag#tensorboard',\n 'tag#awesome',\n 'tag#image-processing',\n 'tag#interview',\n 'tag#ner',\n 'tag#intellij',\n 'tag#spark',\n 'tag#p2p',\n 'tag#chinese',\n 'tag#orm',\n 'tag#compiler',\n 'tag#detection',\n 'tag#generative-adversarial-network',\n 'tag#privacy',\n 'tag#email',\n 'tag#developer-tools',\n 'tag#sdk',\n 'tag#security-tools',\n 'tag#statistics',\n 'tag#development',\n 'tag#rnn',\n 'tag#matlab',\n 'tag#yaml',\n 'tag#mvvm',\n 'tag#covid19',\n 'tag#css',\n 'tag#authentication',\n 'tag#time-series',\n 'tag#segmentation',\n 'tag#self-hosted',\n 'tag#swagger',\n 'tag#async',\n 'tag#coroutines',\n 'tag#mobile',\n 'tag#command-line-tool',\n 'tag#pyqt5',\n 'tag#debian',\n 'tag#data-mining',\n 'tag#hyperparameter-optimization',\n 'tag#fastapi',\n 'tag#kotlin-library',\n 'tag#proxy',\n 'tag#pretrained-models',\n 'tag#ipython',\n 'tag#oauth2',\n 'tag#telethon',\n 'tag#wechat',\n 'tag#plotly',\n 'tag#nginx',\n 'tag#word2vec',\n 'tag#virtual-reality',\n 'tag#pyrogram',\n 'tag#search',\n 'tag#quantitative-finance',\n 'tag#cryptocurrencies',\n 'tag#cross-platform',\n 'tag#code-review',\n 'tag#transformers',\n 'tag#translation',\n 'tag#c',\n 'tag#tools',\n 'tag#scala',\n 'tag#matplotlib',\n 'tag#scrapy']"
     },
     "execution_count": 56,
     "metadata": {},
     "output_type": "execute_result"
    }
   ],
   "source": [
    "# Lets check the rest of tags - looks good to me\n",
    "tags_dataset.columns.tolist()"
   ]
  },
  {
   "cell_type": "code",
   "execution_count": 57,
   "metadata": {
    "pycharm": {
     "name": "#%%\n"
    }
   },
   "outputs": [],
   "source": [
    "new_tags = tags_dataset.columns"
   ]
  },
  {
   "cell_type": "code",
   "execution_count": 58,
   "metadata": {
    "pycharm": {
     "name": "#%%\n"
    }
   },
   "outputs": [],
   "source": [
    "# generate new columns of final dataset\n",
    "new_final_dataset_columns = [c for c in final_dataset.columns if not c.startswith('tag#') or c in new_tags]"
   ]
  },
  {
   "cell_type": "code",
   "execution_count": 59,
   "metadata": {
    "pycharm": {
     "name": "#%%\n"
    }
   },
   "outputs": [
    {
     "data": {
      "text/plain": "(2412, 17100)"
     },
     "execution_count": 59,
     "metadata": {},
     "output_type": "execute_result"
    }
   ],
   "source": [
    "final_dataset.shape"
   ]
  },
  {
   "cell_type": "code",
   "execution_count": 60,
   "metadata": {
    "pycharm": {
     "name": "#%%\n"
    }
   },
   "outputs": [],
   "source": [
    "final_dataset = final_dataset[new_final_dataset_columns]"
   ]
  },
  {
   "cell_type": "code",
   "execution_count": 61,
   "metadata": {
    "pycharm": {
     "name": "#%%\n"
    }
   },
   "outputs": [
    {
     "data": {
      "text/plain": "(2412, 8247)"
     },
     "execution_count": 61,
     "metadata": {},
     "output_type": "execute_result"
    }
   ],
   "source": [
    "# new shape\n",
    "final_dataset.shape"
   ]
  },
  {
   "cell_type": "code",
   "execution_count": 62,
   "metadata": {
    "pycharm": {
     "name": "#%%\n"
    }
   },
   "outputs": [
    {
     "data": {
      "text/plain": "               project_name  package#kotlin#B  package#kotlin#C  \\\n0  01joy#news-search-engine               0.0               0.0   \n1        05bit#peewee-async               0.0               0.0   \n2                 0k#shyaml               0.0               0.0   \n3        0x00-0x00#ShellPop               0.0               0.0   \n4        0xAX#linux-insides               0.0               0.0   \n\n   package#kotlin#Class  package#kotlin#Host  package#kotlin#LibPackCase1  \\\n0                   0.0                  0.0                          0.0   \n1                   0.0                  0.0                          0.0   \n2                   0.0                  0.0                          0.0   \n3                   0.0                  0.0                          0.0   \n4                   0.0                  0.0                          0.0   \n\n   package#kotlin#LibPackCase2  package#kotlin#Libraries  \\\n0                          0.0                       0.0   \n1                          0.0                       0.0   \n2                          0.0                       0.0   \n3                          0.0                       0.0   \n4                          0.0                       0.0   \n\n   package#kotlin#Library  package#kotlin#My  ...  topic#vim  \\\n0                     0.0                0.0  ...          0   \n1                     0.0                0.0  ...          0   \n2                     0.0                0.0  ...          0   \n3                     0.0                0.0  ...          0   \n4                     0.0                0.0  ...          0   \n\n   topic#virtual-reality  topic#vue  topic#wagtail  topic#web-components  \\\n0                      0          0              0                     0   \n1                      0          0              0                     0   \n2                      0          0              0                     0   \n3                      0          0              0                     0   \n4                      0          0              0                     0   \n\n   topic#webapp  topic#webpack  topic#windows  topic#wordpress  topic#xml  \n0             0              0              0                0          0  \n1             0              0              0                0          0  \n2             0              0              0                0          0  \n3             0              0              0                0          0  \n4             0              0              0                0          0  \n\n[5 rows x 8247 columns]",
      "text/html": "<div>\n<style scoped>\n    .dataframe tbody tr th:only-of-type {\n        vertical-align: middle;\n    }\n\n    .dataframe tbody tr th {\n        vertical-align: top;\n    }\n\n    .dataframe thead th {\n        text-align: right;\n    }\n</style>\n<table border=\"1\" class=\"dataframe\">\n  <thead>\n    <tr style=\"text-align: right;\">\n      <th></th>\n      <th>project_name</th>\n      <th>package#kotlin#B</th>\n      <th>package#kotlin#C</th>\n      <th>package#kotlin#Class</th>\n      <th>package#kotlin#Host</th>\n      <th>package#kotlin#LibPackCase1</th>\n      <th>package#kotlin#LibPackCase2</th>\n      <th>package#kotlin#Libraries</th>\n      <th>package#kotlin#Library</th>\n      <th>package#kotlin#My</th>\n      <th>...</th>\n      <th>topic#vim</th>\n      <th>topic#virtual-reality</th>\n      <th>topic#vue</th>\n      <th>topic#wagtail</th>\n      <th>topic#web-components</th>\n      <th>topic#webapp</th>\n      <th>topic#webpack</th>\n      <th>topic#windows</th>\n      <th>topic#wordpress</th>\n      <th>topic#xml</th>\n    </tr>\n  </thead>\n  <tbody>\n    <tr>\n      <th>0</th>\n      <td>01joy#news-search-engine</td>\n      <td>0.0</td>\n      <td>0.0</td>\n      <td>0.0</td>\n      <td>0.0</td>\n      <td>0.0</td>\n      <td>0.0</td>\n      <td>0.0</td>\n      <td>0.0</td>\n      <td>0.0</td>\n      <td>...</td>\n      <td>0</td>\n      <td>0</td>\n      <td>0</td>\n      <td>0</td>\n      <td>0</td>\n      <td>0</td>\n      <td>0</td>\n      <td>0</td>\n      <td>0</td>\n      <td>0</td>\n    </tr>\n    <tr>\n      <th>1</th>\n      <td>05bit#peewee-async</td>\n      <td>0.0</td>\n      <td>0.0</td>\n      <td>0.0</td>\n      <td>0.0</td>\n      <td>0.0</td>\n      <td>0.0</td>\n      <td>0.0</td>\n      <td>0.0</td>\n      <td>0.0</td>\n      <td>...</td>\n      <td>0</td>\n      <td>0</td>\n      <td>0</td>\n      <td>0</td>\n      <td>0</td>\n      <td>0</td>\n      <td>0</td>\n      <td>0</td>\n      <td>0</td>\n      <td>0</td>\n    </tr>\n    <tr>\n      <th>2</th>\n      <td>0k#shyaml</td>\n      <td>0.0</td>\n      <td>0.0</td>\n      <td>0.0</td>\n      <td>0.0</td>\n      <td>0.0</td>\n      <td>0.0</td>\n      <td>0.0</td>\n      <td>0.0</td>\n      <td>0.0</td>\n      <td>...</td>\n      <td>0</td>\n      <td>0</td>\n      <td>0</td>\n      <td>0</td>\n      <td>0</td>\n      <td>0</td>\n      <td>0</td>\n      <td>0</td>\n      <td>0</td>\n      <td>0</td>\n    </tr>\n    <tr>\n      <th>3</th>\n      <td>0x00-0x00#ShellPop</td>\n      <td>0.0</td>\n      <td>0.0</td>\n      <td>0.0</td>\n      <td>0.0</td>\n      <td>0.0</td>\n      <td>0.0</td>\n      <td>0.0</td>\n      <td>0.0</td>\n      <td>0.0</td>\n      <td>...</td>\n      <td>0</td>\n      <td>0</td>\n      <td>0</td>\n      <td>0</td>\n      <td>0</td>\n      <td>0</td>\n      <td>0</td>\n      <td>0</td>\n      <td>0</td>\n      <td>0</td>\n    </tr>\n    <tr>\n      <th>4</th>\n      <td>0xAX#linux-insides</td>\n      <td>0.0</td>\n      <td>0.0</td>\n      <td>0.0</td>\n      <td>0.0</td>\n      <td>0.0</td>\n      <td>0.0</td>\n      <td>0.0</td>\n      <td>0.0</td>\n      <td>0.0</td>\n      <td>...</td>\n      <td>0</td>\n      <td>0</td>\n      <td>0</td>\n      <td>0</td>\n      <td>0</td>\n      <td>0</td>\n      <td>0</td>\n      <td>0</td>\n      <td>0</td>\n      <td>0</td>\n    </tr>\n  </tbody>\n</table>\n<p>5 rows × 8247 columns</p>\n</div>"
     },
     "execution_count": 62,
     "metadata": {},
     "output_type": "execute_result"
    }
   ],
   "source": [
    "final_dataset.head()"
   ]
  },
  {
   "cell_type": "markdown",
   "metadata": {
    "pycharm": {
     "name": "#%% md\n"
    }
   },
   "source": [
    "# Filter projects which hasn't any tag form our new tag set"
   ]
  },
  {
   "cell_type": "code",
   "execution_count": 63,
   "metadata": {
    "pycharm": {
     "name": "#%%\n"
    }
   },
   "outputs": [
    {
     "data": {
      "text/plain": "3     569\n2     541\n4     384\n1     311\n5     263\n6     146\n7      64\n8      46\n0      26\n10     24\n9      24\n12      5\n13      5\n11      3\n14      1\ndtype: int64"
     },
     "execution_count": 63,
     "metadata": {},
     "output_type": "execute_result"
    }
   ],
   "source": [
    "# Count such unlucky projects\n",
    "final_dataset[new_tags].sum(1).value_counts()"
   ]
  },
  {
   "cell_type": "code",
   "execution_count": 64,
   "metadata": {
    "pycharm": {
     "name": "#%%\n"
    }
   },
   "outputs": [],
   "source": [
    "# So we have 439 projects without any tag from our new tag set\n",
    "# And we have two options:\n",
    "# First - leave it untouched and fit classifier on full negative projects too\n",
    "# Second - filter it\n",
    "# So hard choice :)"
   ]
  },
  {
   "cell_type": "code",
   "execution_count": 65,
   "metadata": {
    "pycharm": {
     "name": "#%%\n"
    }
   },
   "outputs": [],
   "source": [
    "# Lets leave it as it is for now"
   ]
  },
  {
   "cell_type": "markdown",
   "metadata": {
    "pycharm": {
     "name": "#%% md\n"
    }
   },
   "source": [
    "# Export final dataset"
   ]
  },
  {
   "cell_type": "code",
   "execution_count": 66,
   "metadata": {
    "pycharm": {
     "name": "#%%\n"
    }
   },
   "outputs": [
    {
     "data": {
      "text/plain": "               project_name  package#kotlin#B  package#kotlin#C  \\\n0  01joy#news-search-engine               0.0               0.0   \n1        05bit#peewee-async               0.0               0.0   \n2                 0k#shyaml               0.0               0.0   \n3        0x00-0x00#ShellPop               0.0               0.0   \n4        0xAX#linux-insides               0.0               0.0   \n\n   package#kotlin#Class  package#kotlin#Host  package#kotlin#LibPackCase1  \\\n0                   0.0                  0.0                          0.0   \n1                   0.0                  0.0                          0.0   \n2                   0.0                  0.0                          0.0   \n3                   0.0                  0.0                          0.0   \n4                   0.0                  0.0                          0.0   \n\n   package#kotlin#LibPackCase2  package#kotlin#Libraries  \\\n0                          0.0                       0.0   \n1                          0.0                       0.0   \n2                          0.0                       0.0   \n3                          0.0                       0.0   \n4                          0.0                       0.0   \n\n   package#kotlin#Library  package#kotlin#My  ...  topic#vim  \\\n0                     0.0                0.0  ...          0   \n1                     0.0                0.0  ...          0   \n2                     0.0                0.0  ...          0   \n3                     0.0                0.0  ...          0   \n4                     0.0                0.0  ...          0   \n\n   topic#virtual-reality  topic#vue  topic#wagtail  topic#web-components  \\\n0                      0          0              0                     0   \n1                      0          0              0                     0   \n2                      0          0              0                     0   \n3                      0          0              0                     0   \n4                      0          0              0                     0   \n\n   topic#webapp  topic#webpack  topic#windows  topic#wordpress  topic#xml  \n0             0              0              0                0          0  \n1             0              0              0                0          0  \n2             0              0              0                0          0  \n3             0              0              0                0          0  \n4             0              0              0                0          0  \n\n[5 rows x 8247 columns]",
      "text/html": "<div>\n<style scoped>\n    .dataframe tbody tr th:only-of-type {\n        vertical-align: middle;\n    }\n\n    .dataframe tbody tr th {\n        vertical-align: top;\n    }\n\n    .dataframe thead th {\n        text-align: right;\n    }\n</style>\n<table border=\"1\" class=\"dataframe\">\n  <thead>\n    <tr style=\"text-align: right;\">\n      <th></th>\n      <th>project_name</th>\n      <th>package#kotlin#B</th>\n      <th>package#kotlin#C</th>\n      <th>package#kotlin#Class</th>\n      <th>package#kotlin#Host</th>\n      <th>package#kotlin#LibPackCase1</th>\n      <th>package#kotlin#LibPackCase2</th>\n      <th>package#kotlin#Libraries</th>\n      <th>package#kotlin#Library</th>\n      <th>package#kotlin#My</th>\n      <th>...</th>\n      <th>topic#vim</th>\n      <th>topic#virtual-reality</th>\n      <th>topic#vue</th>\n      <th>topic#wagtail</th>\n      <th>topic#web-components</th>\n      <th>topic#webapp</th>\n      <th>topic#webpack</th>\n      <th>topic#windows</th>\n      <th>topic#wordpress</th>\n      <th>topic#xml</th>\n    </tr>\n  </thead>\n  <tbody>\n    <tr>\n      <th>0</th>\n      <td>01joy#news-search-engine</td>\n      <td>0.0</td>\n      <td>0.0</td>\n      <td>0.0</td>\n      <td>0.0</td>\n      <td>0.0</td>\n      <td>0.0</td>\n      <td>0.0</td>\n      <td>0.0</td>\n      <td>0.0</td>\n      <td>...</td>\n      <td>0</td>\n      <td>0</td>\n      <td>0</td>\n      <td>0</td>\n      <td>0</td>\n      <td>0</td>\n      <td>0</td>\n      <td>0</td>\n      <td>0</td>\n      <td>0</td>\n    </tr>\n    <tr>\n      <th>1</th>\n      <td>05bit#peewee-async</td>\n      <td>0.0</td>\n      <td>0.0</td>\n      <td>0.0</td>\n      <td>0.0</td>\n      <td>0.0</td>\n      <td>0.0</td>\n      <td>0.0</td>\n      <td>0.0</td>\n      <td>0.0</td>\n      <td>...</td>\n      <td>0</td>\n      <td>0</td>\n      <td>0</td>\n      <td>0</td>\n      <td>0</td>\n      <td>0</td>\n      <td>0</td>\n      <td>0</td>\n      <td>0</td>\n      <td>0</td>\n    </tr>\n    <tr>\n      <th>2</th>\n      <td>0k#shyaml</td>\n      <td>0.0</td>\n      <td>0.0</td>\n      <td>0.0</td>\n      <td>0.0</td>\n      <td>0.0</td>\n      <td>0.0</td>\n      <td>0.0</td>\n      <td>0.0</td>\n      <td>0.0</td>\n      <td>...</td>\n      <td>0</td>\n      <td>0</td>\n      <td>0</td>\n      <td>0</td>\n      <td>0</td>\n      <td>0</td>\n      <td>0</td>\n      <td>0</td>\n      <td>0</td>\n      <td>0</td>\n    </tr>\n    <tr>\n      <th>3</th>\n      <td>0x00-0x00#ShellPop</td>\n      <td>0.0</td>\n      <td>0.0</td>\n      <td>0.0</td>\n      <td>0.0</td>\n      <td>0.0</td>\n      <td>0.0</td>\n      <td>0.0</td>\n      <td>0.0</td>\n      <td>0.0</td>\n      <td>...</td>\n      <td>0</td>\n      <td>0</td>\n      <td>0</td>\n      <td>0</td>\n      <td>0</td>\n      <td>0</td>\n      <td>0</td>\n      <td>0</td>\n      <td>0</td>\n      <td>0</td>\n    </tr>\n    <tr>\n      <th>4</th>\n      <td>0xAX#linux-insides</td>\n      <td>0.0</td>\n      <td>0.0</td>\n      <td>0.0</td>\n      <td>0.0</td>\n      <td>0.0</td>\n      <td>0.0</td>\n      <td>0.0</td>\n      <td>0.0</td>\n      <td>0.0</td>\n      <td>...</td>\n      <td>0</td>\n      <td>0</td>\n      <td>0</td>\n      <td>0</td>\n      <td>0</td>\n      <td>0</td>\n      <td>0</td>\n      <td>0</td>\n      <td>0</td>\n      <td>0</td>\n    </tr>\n  </tbody>\n</table>\n<p>5 rows × 8247 columns</p>\n</div>"
     },
     "execution_count": 66,
     "metadata": {},
     "output_type": "execute_result"
    }
   ],
   "source": [
    "final_dataset.head()"
   ]
  },
  {
   "cell_type": "code",
   "execution_count": 67,
   "metadata": {
    "pycharm": {
     "name": "#%%\n"
    }
   },
   "outputs": [
    {
     "data": {
      "text/plain": "(2412, 8247)"
     },
     "execution_count": 67,
     "metadata": {},
     "output_type": "execute_result"
    }
   ],
   "source": [
    "final_dataset.shape"
   ]
  },
  {
   "cell_type": "code",
   "execution_count": 68,
   "metadata": {
    "pycharm": {
     "name": "#%%\n"
    }
   },
   "outputs": [],
   "source": [
    "final_dataset.to_csv(\"../data/classification/count_dataset_for_multilabel.csv\", index=False)"
   ]
  },
  {
   "cell_type": "code",
   "execution_count": 69,
   "metadata": {
    "pycharm": {
     "name": "#%%\n"
    }
   },
   "outputs": [],
   "source": [
    "final_columns = final_dataset.columns.to_frame(index=False, name=\"column_name\")"
   ]
  },
  {
   "cell_type": "code",
   "execution_count": 70,
   "metadata": {
    "pycharm": {
     "name": "#%%\n"
    }
   },
   "outputs": [
    {
     "data": {
      "text/plain": "            column_name\n0          project_name\n1      package#kotlin#B\n2      package#kotlin#C\n3  package#kotlin#Class\n4   package#kotlin#Host",
      "text/html": "<div>\n<style scoped>\n    .dataframe tbody tr th:only-of-type {\n        vertical-align: middle;\n    }\n\n    .dataframe tbody tr th {\n        vertical-align: top;\n    }\n\n    .dataframe thead th {\n        text-align: right;\n    }\n</style>\n<table border=\"1\" class=\"dataframe\">\n  <thead>\n    <tr style=\"text-align: right;\">\n      <th></th>\n      <th>column_name</th>\n    </tr>\n  </thead>\n  <tbody>\n    <tr>\n      <th>0</th>\n      <td>project_name</td>\n    </tr>\n    <tr>\n      <th>1</th>\n      <td>package#kotlin#B</td>\n    </tr>\n    <tr>\n      <th>2</th>\n      <td>package#kotlin#C</td>\n    </tr>\n    <tr>\n      <th>3</th>\n      <td>package#kotlin#Class</td>\n    </tr>\n    <tr>\n      <th>4</th>\n      <td>package#kotlin#Host</td>\n    </tr>\n  </tbody>\n</table>\n</div>"
     },
     "execution_count": 70,
     "metadata": {},
     "output_type": "execute_result"
    }
   ],
   "source": [
    "final_columns.head()"
   ]
  },
  {
   "cell_type": "code",
   "execution_count": 71,
   "metadata": {
    "pycharm": {
     "name": "#%%\n"
    }
   },
   "outputs": [],
   "source": [
    "final_columns.to_csv(\"../data/pipeline/final_columns.csv\", index=False)"
   ]
  },
  {
   "cell_type": "code",
   "execution_count": 71,
   "metadata": {
    "pycharm": {
     "name": "#%%\n"
    }
   },
   "outputs": [],
   "source": []
  }
 ],
 "metadata": {
  "kernelspec": {
   "display_name": "Python 3 (ipykernel)",
   "language": "python",
   "name": "python3"
  },
  "language_info": {
   "codemirror_mode": {
    "name": "ipython",
    "version": 3
   },
   "file_extension": ".py",
   "mimetype": "text/x-python",
   "name": "python",
   "nbconvert_exporter": "python",
   "pygments_lexer": "ipython3",
   "version": "3.9.12"
  }
 },
 "nbformat": 4,
 "nbformat_minor": 1
}