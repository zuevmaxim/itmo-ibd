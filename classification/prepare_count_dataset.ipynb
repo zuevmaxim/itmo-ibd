{
 "cells": [
  {
   "cell_type": "code",
   "execution_count": 3,
   "outputs": [],
   "source": [
    "import pandas as pd\n",
    "import ast"
   ],
   "metadata": {
    "collapsed": false,
    "pycharm": {
     "name": "#%%\n"
    }
   }
  },
  {
   "cell_type": "code",
   "execution_count": 4,
   "outputs": [],
   "source": [
    "original_dataframe = pd.read_csv(\"../data/full_import_dataset/full_import_dataset_with_libname.csv\", index_col=0)"
   ],
   "metadata": {
    "collapsed": false,
    "pycharm": {
     "name": "#%%\n"
    }
   }
  },
  {
   "cell_type": "code",
   "execution_count": 5,
   "outputs": [
    {
     "data": {
      "text/plain": "    project_name                                    import  is_kotlin_import  \\\n0  2dust#v2rayNG  androidx.appcompat.app.AppCompatActivity                 1   \n1  2dust#v2rayNG                     android.view.MenuItem                 1   \n2  2dust#v2rayNG                          android.Manifest                 1   \n3  2dust#v2rayNG                    android.content.Intent                 1   \n4  2dust#v2rayNG                           android.net.Uri                 1   \n\n   is_python_import             package  \n0                 0  androidx.appcompat  \n1                 0        android.view  \n2                 0             android  \n3                 0     android.content  \n4                 0         android.net  ",
      "text/html": "<div>\n<style scoped>\n    .dataframe tbody tr th:only-of-type {\n        vertical-align: middle;\n    }\n\n    .dataframe tbody tr th {\n        vertical-align: top;\n    }\n\n    .dataframe thead th {\n        text-align: right;\n    }\n</style>\n<table border=\"1\" class=\"dataframe\">\n  <thead>\n    <tr style=\"text-align: right;\">\n      <th></th>\n      <th>project_name</th>\n      <th>import</th>\n      <th>is_kotlin_import</th>\n      <th>is_python_import</th>\n      <th>package</th>\n    </tr>\n  </thead>\n  <tbody>\n    <tr>\n      <th>0</th>\n      <td>2dust#v2rayNG</td>\n      <td>androidx.appcompat.app.AppCompatActivity</td>\n      <td>1</td>\n      <td>0</td>\n      <td>androidx.appcompat</td>\n    </tr>\n    <tr>\n      <th>1</th>\n      <td>2dust#v2rayNG</td>\n      <td>android.view.MenuItem</td>\n      <td>1</td>\n      <td>0</td>\n      <td>android.view</td>\n    </tr>\n    <tr>\n      <th>2</th>\n      <td>2dust#v2rayNG</td>\n      <td>android.Manifest</td>\n      <td>1</td>\n      <td>0</td>\n      <td>android</td>\n    </tr>\n    <tr>\n      <th>3</th>\n      <td>2dust#v2rayNG</td>\n      <td>android.content.Intent</td>\n      <td>1</td>\n      <td>0</td>\n      <td>android.content</td>\n    </tr>\n    <tr>\n      <th>4</th>\n      <td>2dust#v2rayNG</td>\n      <td>android.net.Uri</td>\n      <td>1</td>\n      <td>0</td>\n      <td>android.net</td>\n    </tr>\n  </tbody>\n</table>\n</div>"
     },
     "execution_count": 5,
     "metadata": {},
     "output_type": "execute_result"
    }
   ],
   "source": [
    "original_dataframe.head()"
   ],
   "metadata": {
    "collapsed": false,
    "pycharm": {
     "name": "#%%\n"
    }
   }
  },
  {
   "cell_type": "code",
   "execution_count": 6,
   "outputs": [
    {
     "data": {
      "text/plain": "               project_name   package  count_different_import  \\\n0  01joy#news-search-engine       bs4                       1   \n1  01joy#news-search-engine  datetime                       2   \n2  01joy#news-search-engine     flask                       3   \n3  01joy#news-search-engine     index                       1   \n4  01joy#news-search-engine     jieba                       1   \n\n   is_kotlin_package  is_python_package  \n0                  0                  1  \n1                  0                  1  \n2                  0                  1  \n3                  0                  1  \n4                  0                  1  ",
      "text/html": "<div>\n<style scoped>\n    .dataframe tbody tr th:only-of-type {\n        vertical-align: middle;\n    }\n\n    .dataframe tbody tr th {\n        vertical-align: top;\n    }\n\n    .dataframe thead th {\n        text-align: right;\n    }\n</style>\n<table border=\"1\" class=\"dataframe\">\n  <thead>\n    <tr style=\"text-align: right;\">\n      <th></th>\n      <th>project_name</th>\n      <th>package</th>\n      <th>count_different_import</th>\n      <th>is_kotlin_package</th>\n      <th>is_python_package</th>\n    </tr>\n  </thead>\n  <tbody>\n    <tr>\n      <th>0</th>\n      <td>01joy#news-search-engine</td>\n      <td>bs4</td>\n      <td>1</td>\n      <td>0</td>\n      <td>1</td>\n    </tr>\n    <tr>\n      <th>1</th>\n      <td>01joy#news-search-engine</td>\n      <td>datetime</td>\n      <td>2</td>\n      <td>0</td>\n      <td>1</td>\n    </tr>\n    <tr>\n      <th>2</th>\n      <td>01joy#news-search-engine</td>\n      <td>flask</td>\n      <td>3</td>\n      <td>0</td>\n      <td>1</td>\n    </tr>\n    <tr>\n      <th>3</th>\n      <td>01joy#news-search-engine</td>\n      <td>index</td>\n      <td>1</td>\n      <td>0</td>\n      <td>1</td>\n    </tr>\n    <tr>\n      <th>4</th>\n      <td>01joy#news-search-engine</td>\n      <td>jieba</td>\n      <td>1</td>\n      <td>0</td>\n      <td>1</td>\n    </tr>\n  </tbody>\n</table>\n</div>"
     },
     "execution_count": 6,
     "metadata": {},
     "output_type": "execute_result"
    }
   ],
   "source": [
    "# Count diff imports of packages in projects\n",
    "intermediate_dataframe = original_dataframe.groupby([\"project_name\", \"package\"])\\\n",
    "    .agg({\"import\":\"count\", 'is_kotlin_import':\"first\", 'is_python_import':\"first\"}).reset_index().rename(columns={\"import\":\"count_different_import\", 'is_kotlin_import':'is_kotlin_package', 'is_python_import':'is_python_package'})\n",
    "intermediate_dataframe.head()"
   ],
   "metadata": {
    "collapsed": false,
    "pycharm": {
     "name": "#%%\n"
    }
   }
  },
  {
   "cell_type": "code",
   "execution_count": 7,
   "outputs": [],
   "source": [
    "# Rename each package name to avoid name collision with tag names\n",
    "intermediate_dataframe.package = intermediate_dataframe.package.apply(lambda x: f\"package#{x}\")"
   ],
   "metadata": {
    "collapsed": false,
    "pycharm": {
     "name": "#%%\n"
    }
   }
  },
  {
   "cell_type": "code",
   "execution_count": 8,
   "outputs": [
    {
     "data": {
      "text/plain": "               project_name           package  count_different_import  \\\n0  01joy#news-search-engine       package#bs4                       1   \n1  01joy#news-search-engine  package#datetime                       2   \n2  01joy#news-search-engine     package#flask                       3   \n3  01joy#news-search-engine     package#index                       1   \n4  01joy#news-search-engine     package#jieba                       1   \n\n   is_kotlin_package  is_python_package  \n0                  0                  1  \n1                  0                  1  \n2                  0                  1  \n3                  0                  1  \n4                  0                  1  ",
      "text/html": "<div>\n<style scoped>\n    .dataframe tbody tr th:only-of-type {\n        vertical-align: middle;\n    }\n\n    .dataframe tbody tr th {\n        vertical-align: top;\n    }\n\n    .dataframe thead th {\n        text-align: right;\n    }\n</style>\n<table border=\"1\" class=\"dataframe\">\n  <thead>\n    <tr style=\"text-align: right;\">\n      <th></th>\n      <th>project_name</th>\n      <th>package</th>\n      <th>count_different_import</th>\n      <th>is_kotlin_package</th>\n      <th>is_python_package</th>\n    </tr>\n  </thead>\n  <tbody>\n    <tr>\n      <th>0</th>\n      <td>01joy#news-search-engine</td>\n      <td>package#bs4</td>\n      <td>1</td>\n      <td>0</td>\n      <td>1</td>\n    </tr>\n    <tr>\n      <th>1</th>\n      <td>01joy#news-search-engine</td>\n      <td>package#datetime</td>\n      <td>2</td>\n      <td>0</td>\n      <td>1</td>\n    </tr>\n    <tr>\n      <th>2</th>\n      <td>01joy#news-search-engine</td>\n      <td>package#flask</td>\n      <td>3</td>\n      <td>0</td>\n      <td>1</td>\n    </tr>\n    <tr>\n      <th>3</th>\n      <td>01joy#news-search-engine</td>\n      <td>package#index</td>\n      <td>1</td>\n      <td>0</td>\n      <td>1</td>\n    </tr>\n    <tr>\n      <th>4</th>\n      <td>01joy#news-search-engine</td>\n      <td>package#jieba</td>\n      <td>1</td>\n      <td>0</td>\n      <td>1</td>\n    </tr>\n  </tbody>\n</table>\n</div>"
     },
     "execution_count": 8,
     "metadata": {},
     "output_type": "execute_result"
    }
   ],
   "source": [
    "intermediate_dataframe.head()"
   ],
   "metadata": {
    "collapsed": false,
    "pycharm": {
     "name": "#%%\n"
    }
   }
  },
  {
   "cell_type": "code",
   "execution_count": 9,
   "outputs": [
    {
     "data": {
      "text/plain": "Empty DataFrame\nColumns: [project_name, package, count_different_import, is_kotlin_package, is_python_package]\nIndex: []",
      "text/html": "<div>\n<style scoped>\n    .dataframe tbody tr th:only-of-type {\n        vertical-align: middle;\n    }\n\n    .dataframe tbody tr th {\n        vertical-align: top;\n    }\n\n    .dataframe thead th {\n        text-align: right;\n    }\n</style>\n<table border=\"1\" class=\"dataframe\">\n  <thead>\n    <tr style=\"text-align: right;\">\n      <th></th>\n      <th>project_name</th>\n      <th>package</th>\n      <th>count_different_import</th>\n      <th>is_kotlin_package</th>\n      <th>is_python_package</th>\n    </tr>\n  </thead>\n  <tbody>\n  </tbody>\n</table>\n</div>"
     },
     "execution_count": 9,
     "metadata": {},
     "output_type": "execute_result"
    }
   ],
   "source": [
    "#Check for collision - it's ok\n",
    "intermediate_dataframe[intermediate_dataframe[\"is_kotlin_package\"] == intermediate_dataframe[\"is_python_package\"]]"
   ],
   "metadata": {
    "collapsed": false,
    "pycharm": {
     "name": "#%%\n"
    }
   }
  },
  {
   "cell_type": "code",
   "execution_count": 10,
   "outputs": [],
   "source": [
    "# Drop out 'is_kotlin_package' and 'is_python_package' since there are no collisions"
   ],
   "metadata": {
    "collapsed": false,
    "pycharm": {
     "name": "#%%\n"
    }
   }
  },
  {
   "cell_type": "code",
   "execution_count": 11,
   "outputs": [
    {
     "data": {
      "text/plain": "package                   package#A  package#ACGAN  package#APDrawing  \\\nproject_name                                                            \n01joy#news-search-engine          0              0                  0   \n05bit#peewee-async                0              0                  0   \n0k#shyaml                         0              0                  0   \n0x00-0x00#ShellPop                0              0                  0   \n0xAX#linux-insides                0              0                  0   \n\npackage                   package#APDrawingGAN  package#APDrawingGAN.data  \\\nproject_name                                                                \n01joy#news-search-engine                     0                          0   \n05bit#peewee-async                           0                          0   \n0k#shyaml                                    0                          0   \n0x00-0x00#ShellPop                           0                          0   \n0xAX#linux-insides                           0                          0   \n\npackage                   package#APDrawingGAN.data.base_data_loader  \\\nproject_name                                                           \n01joy#news-search-engine                                           0   \n05bit#peewee-async                                                 0   \n0k#shyaml                                                          0   \n0x00-0x00#ShellPop                                                 0   \n0xAX#linux-insides                                                 0   \n\npackage                   package#APDrawingGAN.data.base_dataset  \\\nproject_name                                                       \n01joy#news-search-engine                                       0   \n05bit#peewee-async                                             0   \n0k#shyaml                                                      0   \n0x00-0x00#ShellPop                                             0   \n0xAX#linux-insides                                             0   \n\npackage                   package#APDrawingGAN.data.face_landmark  \\\nproject_name                                                        \n01joy#news-search-engine                                        0   \n05bit#peewee-async                                              0   \n0k#shyaml                                                       0   \n0x00-0x00#ShellPop                                              0   \n0xAX#linux-insides                                              0   \n\npackage                   package#APDrawingGAN.data.image_folder  \\\nproject_name                                                       \n01joy#news-search-engine                                       0   \n05bit#peewee-async                                             0   \n0k#shyaml                                                      0   \n0x00-0x00#ShellPop                                             0   \n0xAX#linux-insides                                             0   \n\npackage                   package#APDrawingGAN.models  ...  \\\nproject_name                                           ...   \n01joy#news-search-engine                            0  ...   \n05bit#peewee-async                                  0  ...   \n0k#shyaml                                           0  ...   \n0x00-0x00#ShellPop                                  0  ...   \n0xAX#linux-insides                                  0  ...   \n\npackage                   package#zwave_js_server.model.utils  \\\nproject_name                                                    \n01joy#news-search-engine                                    0   \n05bit#peewee-async                                          0   \n0k#shyaml                                                   0   \n0x00-0x00#ShellPop                                          0   \n0xAX#linux-insides                                          0   \n\npackage                   package#zwave_js_server.model.value  \\\nproject_name                                                    \n01joy#news-search-engine                                    0   \n05bit#peewee-async                                          0   \n0k#shyaml                                                   0   \n0x00-0x00#ShellPop                                          0   \n0xAX#linux-insides                                          0   \n\npackage                   package#zwave_js_server.util.command_class  \\\nproject_name                                                           \n01joy#news-search-engine                                           0   \n05bit#peewee-async                                                 0   \n0k#shyaml                                                          0   \n0x00-0x00#ShellPop                                                 0   \n0xAX#linux-insides                                                 0   \n\npackage                   package#zwave_js_server.util.lock  \\\nproject_name                                                  \n01joy#news-search-engine                                  0   \n05bit#peewee-async                                        0   \n0k#shyaml                                                 0   \n0x00-0x00#ShellPop                                        0   \n0xAX#linux-insides                                        0   \n\npackage                   package#zwave_js_server.util.multicast  \\\nproject_name                                                       \n01joy#news-search-engine                                       0   \n05bit#peewee-async                                             0   \n0k#shyaml                                                      0   \n0x00-0x00#ShellPop                                             0   \n0xAX#linux-insides                                             0   \n\npackage                   package#zwave_js_server.util.node  \\\nproject_name                                                  \n01joy#news-search-engine                                  0   \n05bit#peewee-async                                        0   \n0k#shyaml                                                 0   \n0x00-0x00#ShellPop                                        0   \n0xAX#linux-insides                                        0   \n\npackage                   package#zwave_js_server.version  \\\nproject_name                                                \n01joy#news-search-engine                                0   \n05bit#peewee-async                                      0   \n0k#shyaml                                               0   \n0x00-0x00#ShellPop                                      0   \n0xAX#linux-insides                                      0   \n\npackage                   package#zwave_me_ws  package#zxcvbn  \\\nproject_name                                                    \n01joy#news-search-engine                    0               0   \n05bit#peewee-async                          0               0   \n0k#shyaml                                   0               0   \n0x00-0x00#ShellPop                          0               0   \n0xAX#linux-insides                          0               0   \n\npackage                   package#zypp_plugin  \nproject_name                                   \n01joy#news-search-engine                    0  \n05bit#peewee-async                          0  \n0k#shyaml                                   0  \n0x00-0x00#ShellPop                          0  \n0xAX#linux-insides                          0  \n\n[5 rows x 15383 columns]",
      "text/html": "<div>\n<style scoped>\n    .dataframe tbody tr th:only-of-type {\n        vertical-align: middle;\n    }\n\n    .dataframe tbody tr th {\n        vertical-align: top;\n    }\n\n    .dataframe thead th {\n        text-align: right;\n    }\n</style>\n<table border=\"1\" class=\"dataframe\">\n  <thead>\n    <tr style=\"text-align: right;\">\n      <th>package</th>\n      <th>package#A</th>\n      <th>package#ACGAN</th>\n      <th>package#APDrawing</th>\n      <th>package#APDrawingGAN</th>\n      <th>package#APDrawingGAN.data</th>\n      <th>package#APDrawingGAN.data.base_data_loader</th>\n      <th>package#APDrawingGAN.data.base_dataset</th>\n      <th>package#APDrawingGAN.data.face_landmark</th>\n      <th>package#APDrawingGAN.data.image_folder</th>\n      <th>package#APDrawingGAN.models</th>\n      <th>...</th>\n      <th>package#zwave_js_server.model.utils</th>\n      <th>package#zwave_js_server.model.value</th>\n      <th>package#zwave_js_server.util.command_class</th>\n      <th>package#zwave_js_server.util.lock</th>\n      <th>package#zwave_js_server.util.multicast</th>\n      <th>package#zwave_js_server.util.node</th>\n      <th>package#zwave_js_server.version</th>\n      <th>package#zwave_me_ws</th>\n      <th>package#zxcvbn</th>\n      <th>package#zypp_plugin</th>\n    </tr>\n    <tr>\n      <th>project_name</th>\n      <th></th>\n      <th></th>\n      <th></th>\n      <th></th>\n      <th></th>\n      <th></th>\n      <th></th>\n      <th></th>\n      <th></th>\n      <th></th>\n      <th></th>\n      <th></th>\n      <th></th>\n      <th></th>\n      <th></th>\n      <th></th>\n      <th></th>\n      <th></th>\n      <th></th>\n      <th></th>\n      <th></th>\n    </tr>\n  </thead>\n  <tbody>\n    <tr>\n      <th>01joy#news-search-engine</th>\n      <td>0</td>\n      <td>0</td>\n      <td>0</td>\n      <td>0</td>\n      <td>0</td>\n      <td>0</td>\n      <td>0</td>\n      <td>0</td>\n      <td>0</td>\n      <td>0</td>\n      <td>...</td>\n      <td>0</td>\n      <td>0</td>\n      <td>0</td>\n      <td>0</td>\n      <td>0</td>\n      <td>0</td>\n      <td>0</td>\n      <td>0</td>\n      <td>0</td>\n      <td>0</td>\n    </tr>\n    <tr>\n      <th>05bit#peewee-async</th>\n      <td>0</td>\n      <td>0</td>\n      <td>0</td>\n      <td>0</td>\n      <td>0</td>\n      <td>0</td>\n      <td>0</td>\n      <td>0</td>\n      <td>0</td>\n      <td>0</td>\n      <td>...</td>\n      <td>0</td>\n      <td>0</td>\n      <td>0</td>\n      <td>0</td>\n      <td>0</td>\n      <td>0</td>\n      <td>0</td>\n      <td>0</td>\n      <td>0</td>\n      <td>0</td>\n    </tr>\n    <tr>\n      <th>0k#shyaml</th>\n      <td>0</td>\n      <td>0</td>\n      <td>0</td>\n      <td>0</td>\n      <td>0</td>\n      <td>0</td>\n      <td>0</td>\n      <td>0</td>\n      <td>0</td>\n      <td>0</td>\n      <td>...</td>\n      <td>0</td>\n      <td>0</td>\n      <td>0</td>\n      <td>0</td>\n      <td>0</td>\n      <td>0</td>\n      <td>0</td>\n      <td>0</td>\n      <td>0</td>\n      <td>0</td>\n    </tr>\n    <tr>\n      <th>0x00-0x00#ShellPop</th>\n      <td>0</td>\n      <td>0</td>\n      <td>0</td>\n      <td>0</td>\n      <td>0</td>\n      <td>0</td>\n      <td>0</td>\n      <td>0</td>\n      <td>0</td>\n      <td>0</td>\n      <td>...</td>\n      <td>0</td>\n      <td>0</td>\n      <td>0</td>\n      <td>0</td>\n      <td>0</td>\n      <td>0</td>\n      <td>0</td>\n      <td>0</td>\n      <td>0</td>\n      <td>0</td>\n    </tr>\n    <tr>\n      <th>0xAX#linux-insides</th>\n      <td>0</td>\n      <td>0</td>\n      <td>0</td>\n      <td>0</td>\n      <td>0</td>\n      <td>0</td>\n      <td>0</td>\n      <td>0</td>\n      <td>0</td>\n      <td>0</td>\n      <td>...</td>\n      <td>0</td>\n      <td>0</td>\n      <td>0</td>\n      <td>0</td>\n      <td>0</td>\n      <td>0</td>\n      <td>0</td>\n      <td>0</td>\n      <td>0</td>\n      <td>0</td>\n    </tr>\n  </tbody>\n</table>\n<p>5 rows × 15383 columns</p>\n</div>"
     },
     "execution_count": 11,
     "metadata": {},
     "output_type": "execute_result"
    }
   ],
   "source": [
    "pivot_package_dataframe = intermediate_dataframe.pivot_table(index=\"project_name\", columns=\"package\", values=\"count_different_import\", fill_value=0)\n",
    "pivot_package_dataframe.head()"
   ],
   "metadata": {
    "collapsed": false,
    "pycharm": {
     "name": "#%%\n"
    }
   }
  },
  {
   "cell_type": "code",
   "execution_count": 12,
   "outputs": [
    {
     "data": {
      "text/plain": "(2853, 15383)"
     },
     "execution_count": 12,
     "metadata": {},
     "output_type": "execute_result"
    }
   ],
   "source": [
    "pivot_package_dataframe.shape"
   ],
   "metadata": {
    "collapsed": false,
    "pycharm": {
     "name": "#%%\n"
    }
   }
  },
  {
   "cell_type": "code",
   "execution_count": 13,
   "outputs": [
    {
     "data": {
      "text/plain": "0    2852\n2       1\nName: package#A, dtype: int64"
     },
     "execution_count": 13,
     "metadata": {},
     "output_type": "execute_result"
    }
   ],
   "source": [
    "# So it's ok\n",
    "pivot_package_dataframe[\"package#A\"].value_counts()"
   ],
   "metadata": {
    "collapsed": false,
    "pycharm": {
     "name": "#%%\n"
    }
   }
  },
  {
   "cell_type": "code",
   "execution_count": 14,
   "outputs": [
    {
     "data": {
      "text/plain": "0    2852\n1       1\nName: package#zwave_js_server.model.utils, dtype: int64"
     },
     "execution_count": 14,
     "metadata": {},
     "output_type": "execute_result"
    }
   ],
   "source": [
    "pivot_package_dataframe[\"package#zwave_js_server.model.utils\"].value_counts()"
   ],
   "metadata": {
    "collapsed": false,
    "pycharm": {
     "name": "#%%\n"
    }
   }
  },
  {
   "cell_type": "code",
   "execution_count": 15,
   "outputs": [
    {
     "data": {
      "text/plain": "  topic                name         owner    owner_type  \\\n0    3d  SpaceshipGenerator  a1studmuffin          User   \n1    3d          BlenderGIS       domlysz          User   \n2    3d               PRNet       YadiraF          User   \n3    3d               3DDFA     cleardusk          User   \n4    3d              armory      armory3d  Organization   \n\n                         full_name  \\\n0  a1studmuffin/SpaceshipGenerator   \n1               domlysz/BlenderGIS   \n2                    YadiraF/PRNet   \n3                  cleardusk/3DDFA   \n4                  armory3d/armory   \n\n                                         description og_image  \\\n0  A Blender script to procedurally generate 3D s...      NaN   \n1                                                NaN      NaN   \n2  Joint 3D Face Reconstruction and Dense Alignme...      NaN   \n3  The PyTorch improved version of TPAMI 2017 pap...      NaN   \n4                                                NaN      NaN   \n\n                           license  is_archived  is_forked  ...  open_issues  \\\n0                            Other        False      False  ...           13   \n1  GNU General Public License v3.0        False      False  ...          155   \n2                      MIT License        False      False  ...          160   \n3                      MIT License        False      False  ...           51   \n4                     zlib License        False      False  ...          310   \n\n  forks stars  watchers  has_wiki  has_pages  has_sponsorship  \\\n0   391  7100      7100      True      False            False   \n1   923  5047      5047      True      False            False   \n2   919  4574      4574      True      False            False   \n3   621  3223      3223     False      False            False   \n4   263  2421      2421      True      False            False   \n\n             created_at            updated_at  \\\n0  2016-06-14T03:16:07Z  2022-04-06T16:55:48Z   \n1  2014-05-08T14:48:25Z  2022-04-08T00:59:56Z   \n2  2018-03-20T11:44:06Z  2022-04-08T03:00:19Z   \n3  2018-06-29T14:19:21Z  2022-04-07T07:47:09Z   \n4  2015-10-29T18:27:56Z  2022-04-06T21:17:40Z   \n\n                                                repo  \n0  https://github.com/a1studmuffin/SpaceshipGener...  \n1              https://github.com/domlysz/BlenderGIS  \n2                   https://github.com/YadiraF/PRNet  \n3                 https://github.com/cleardusk/3DDFA  \n4                 https://github.com/armory3d/armory  \n\n[5 rows x 23 columns]",
      "text/html": "<div>\n<style scoped>\n    .dataframe tbody tr th:only-of-type {\n        vertical-align: middle;\n    }\n\n    .dataframe tbody tr th {\n        vertical-align: top;\n    }\n\n    .dataframe thead th {\n        text-align: right;\n    }\n</style>\n<table border=\"1\" class=\"dataframe\">\n  <thead>\n    <tr style=\"text-align: right;\">\n      <th></th>\n      <th>topic</th>\n      <th>name</th>\n      <th>owner</th>\n      <th>owner_type</th>\n      <th>full_name</th>\n      <th>description</th>\n      <th>og_image</th>\n      <th>license</th>\n      <th>is_archived</th>\n      <th>is_forked</th>\n      <th>...</th>\n      <th>open_issues</th>\n      <th>forks</th>\n      <th>stars</th>\n      <th>watchers</th>\n      <th>has_wiki</th>\n      <th>has_pages</th>\n      <th>has_sponsorship</th>\n      <th>created_at</th>\n      <th>updated_at</th>\n      <th>repo</th>\n    </tr>\n  </thead>\n  <tbody>\n    <tr>\n      <th>0</th>\n      <td>3d</td>\n      <td>SpaceshipGenerator</td>\n      <td>a1studmuffin</td>\n      <td>User</td>\n      <td>a1studmuffin/SpaceshipGenerator</td>\n      <td>A Blender script to procedurally generate 3D s...</td>\n      <td>NaN</td>\n      <td>Other</td>\n      <td>False</td>\n      <td>False</td>\n      <td>...</td>\n      <td>13</td>\n      <td>391</td>\n      <td>7100</td>\n      <td>7100</td>\n      <td>True</td>\n      <td>False</td>\n      <td>False</td>\n      <td>2016-06-14T03:16:07Z</td>\n      <td>2022-04-06T16:55:48Z</td>\n      <td>https://github.com/a1studmuffin/SpaceshipGener...</td>\n    </tr>\n    <tr>\n      <th>1</th>\n      <td>3d</td>\n      <td>BlenderGIS</td>\n      <td>domlysz</td>\n      <td>User</td>\n      <td>domlysz/BlenderGIS</td>\n      <td>NaN</td>\n      <td>NaN</td>\n      <td>GNU General Public License v3.0</td>\n      <td>False</td>\n      <td>False</td>\n      <td>...</td>\n      <td>155</td>\n      <td>923</td>\n      <td>5047</td>\n      <td>5047</td>\n      <td>True</td>\n      <td>False</td>\n      <td>False</td>\n      <td>2014-05-08T14:48:25Z</td>\n      <td>2022-04-08T00:59:56Z</td>\n      <td>https://github.com/domlysz/BlenderGIS</td>\n    </tr>\n    <tr>\n      <th>2</th>\n      <td>3d</td>\n      <td>PRNet</td>\n      <td>YadiraF</td>\n      <td>User</td>\n      <td>YadiraF/PRNet</td>\n      <td>Joint 3D Face Reconstruction and Dense Alignme...</td>\n      <td>NaN</td>\n      <td>MIT License</td>\n      <td>False</td>\n      <td>False</td>\n      <td>...</td>\n      <td>160</td>\n      <td>919</td>\n      <td>4574</td>\n      <td>4574</td>\n      <td>True</td>\n      <td>False</td>\n      <td>False</td>\n      <td>2018-03-20T11:44:06Z</td>\n      <td>2022-04-08T03:00:19Z</td>\n      <td>https://github.com/YadiraF/PRNet</td>\n    </tr>\n    <tr>\n      <th>3</th>\n      <td>3d</td>\n      <td>3DDFA</td>\n      <td>cleardusk</td>\n      <td>User</td>\n      <td>cleardusk/3DDFA</td>\n      <td>The PyTorch improved version of TPAMI 2017 pap...</td>\n      <td>NaN</td>\n      <td>MIT License</td>\n      <td>False</td>\n      <td>False</td>\n      <td>...</td>\n      <td>51</td>\n      <td>621</td>\n      <td>3223</td>\n      <td>3223</td>\n      <td>False</td>\n      <td>False</td>\n      <td>False</td>\n      <td>2018-06-29T14:19:21Z</td>\n      <td>2022-04-07T07:47:09Z</td>\n      <td>https://github.com/cleardusk/3DDFA</td>\n    </tr>\n    <tr>\n      <th>4</th>\n      <td>3d</td>\n      <td>armory</td>\n      <td>armory3d</td>\n      <td>Organization</td>\n      <td>armory3d/armory</td>\n      <td>NaN</td>\n      <td>NaN</td>\n      <td>zlib License</td>\n      <td>False</td>\n      <td>False</td>\n      <td>...</td>\n      <td>310</td>\n      <td>263</td>\n      <td>2421</td>\n      <td>2421</td>\n      <td>True</td>\n      <td>False</td>\n      <td>False</td>\n      <td>2015-10-29T18:27:56Z</td>\n      <td>2022-04-06T21:17:40Z</td>\n      <td>https://github.com/armory3d/armory</td>\n    </tr>\n  </tbody>\n</table>\n<p>5 rows × 23 columns</p>\n</div>"
     },
     "execution_count": 15,
     "metadata": {},
     "output_type": "execute_result"
    }
   ],
   "source": [
    "# Load kaggle_repos dataframe\n",
    "kaggle_repos_dataframe = pd.read_csv(\"../data/kaggle_repos.csv\")\n",
    "kaggle_repos_dataframe.head()"
   ],
   "metadata": {
    "collapsed": false,
    "pycharm": {
     "name": "#%%\n"
    }
   }
  },
  {
   "cell_type": "code",
   "execution_count": 16,
   "outputs": [
    {
     "data": {
      "text/plain": "Index(['topic', 'name', 'owner', 'owner_type', 'full_name', 'description',\n       'og_image', 'license', 'is_archived', 'is_forked', 'size', 'language',\n       'tags', 'open_issues', 'forks', 'stars', 'watchers', 'has_wiki',\n       'has_pages', 'has_sponsorship', 'created_at', 'updated_at', 'repo'],\n      dtype='object')"
     },
     "execution_count": 16,
     "metadata": {},
     "output_type": "execute_result"
    }
   ],
   "source": [
    "kaggle_repos_dataframe.columns"
   ],
   "metadata": {
    "collapsed": false,
    "pycharm": {
     "name": "#%%\n"
    }
   }
  },
  {
   "cell_type": "code",
   "execution_count": 17,
   "outputs": [
    {
     "data": {
      "text/plain": "0    a1studmuffin#SpaceshipGenerator\n1                 domlysz#BlenderGIS\n2                      YadiraF#PRNet\n3                    cleardusk#3DDFA\n4                    armory3d#armory\nName: project_name, dtype: object"
     },
     "execution_count": 17,
     "metadata": {},
     "output_type": "execute_result"
    }
   ],
   "source": [
    "# Prepare column for join\n",
    "kaggle_repos_dataframe[\"project_name\"] = kaggle_repos_dataframe[\"owner\"] + \"#\" + kaggle_repos_dataframe[\"name\"]\n",
    "kaggle_repos_dataframe[\"project_name\"].head()"
   ],
   "metadata": {
    "collapsed": false,
    "pycharm": {
     "name": "#%%\n"
    }
   }
  },
  {
   "cell_type": "code",
   "execution_count": 18,
   "outputs": [
    {
     "data": {
      "text/plain": "                      project_name  \\\n0  a1studmuffin#SpaceshipGenerator   \n1               domlysz#BlenderGIS   \n2                    YadiraF#PRNet   \n3                  cleardusk#3DDFA   \n4                  armory3d#armory   \n\n                                                tags  \n0  ['python', 'procedural-generation', 'blender-s...  \n1                                                 []  \n2  ['swap', 'face', 'alignment', 'reconstruction'...  \n3  ['python', 'computer-vision', 'deep-learning',...  \n4                                                 []  ",
      "text/html": "<div>\n<style scoped>\n    .dataframe tbody tr th:only-of-type {\n        vertical-align: middle;\n    }\n\n    .dataframe tbody tr th {\n        vertical-align: top;\n    }\n\n    .dataframe thead th {\n        text-align: right;\n    }\n</style>\n<table border=\"1\" class=\"dataframe\">\n  <thead>\n    <tr style=\"text-align: right;\">\n      <th></th>\n      <th>project_name</th>\n      <th>tags</th>\n    </tr>\n  </thead>\n  <tbody>\n    <tr>\n      <th>0</th>\n      <td>a1studmuffin#SpaceshipGenerator</td>\n      <td>['python', 'procedural-generation', 'blender-s...</td>\n    </tr>\n    <tr>\n      <th>1</th>\n      <td>domlysz#BlenderGIS</td>\n      <td>[]</td>\n    </tr>\n    <tr>\n      <th>2</th>\n      <td>YadiraF#PRNet</td>\n      <td>['swap', 'face', 'alignment', 'reconstruction'...</td>\n    </tr>\n    <tr>\n      <th>3</th>\n      <td>cleardusk#3DDFA</td>\n      <td>['python', 'computer-vision', 'deep-learning',...</td>\n    </tr>\n    <tr>\n      <th>4</th>\n      <td>armory3d#armory</td>\n      <td>[]</td>\n    </tr>\n  </tbody>\n</table>\n</div>"
     },
     "execution_count": 18,
     "metadata": {},
     "output_type": "execute_result"
    }
   ],
   "source": [
    "kaggle_repos_dataframe = kaggle_repos_dataframe[[\"project_name\", \"tags\"]]\n",
    "kaggle_repos_dataframe.head()"
   ],
   "metadata": {
    "collapsed": false,
    "pycharm": {
     "name": "#%%\n"
    }
   }
  },
  {
   "cell_type": "code",
   "execution_count": 19,
   "outputs": [
    {
     "data": {
      "text/plain": "                      project_name  \\\n0  a1studmuffin#SpaceshipGenerator   \n1               domlysz#BlenderGIS   \n2                    YadiraF#PRNet   \n3                  cleardusk#3DDFA   \n4                  armory3d#armory   \n\n                                                tags  \n0  [python, procedural-generation, blender-script...  \n1                                                 []  \n2        [swap, face, alignment, reconstruction, 3d]  \n3  [python, computer-vision, deep-learning, pytor...  \n4                                                 []  ",
      "text/html": "<div>\n<style scoped>\n    .dataframe tbody tr th:only-of-type {\n        vertical-align: middle;\n    }\n\n    .dataframe tbody tr th {\n        vertical-align: top;\n    }\n\n    .dataframe thead th {\n        text-align: right;\n    }\n</style>\n<table border=\"1\" class=\"dataframe\">\n  <thead>\n    <tr style=\"text-align: right;\">\n      <th></th>\n      <th>project_name</th>\n      <th>tags</th>\n    </tr>\n  </thead>\n  <tbody>\n    <tr>\n      <th>0</th>\n      <td>a1studmuffin#SpaceshipGenerator</td>\n      <td>[python, procedural-generation, blender-script...</td>\n    </tr>\n    <tr>\n      <th>1</th>\n      <td>domlysz#BlenderGIS</td>\n      <td>[]</td>\n    </tr>\n    <tr>\n      <th>2</th>\n      <td>YadiraF#PRNet</td>\n      <td>[swap, face, alignment, reconstruction, 3d]</td>\n    </tr>\n    <tr>\n      <th>3</th>\n      <td>cleardusk#3DDFA</td>\n      <td>[python, computer-vision, deep-learning, pytor...</td>\n    </tr>\n    <tr>\n      <th>4</th>\n      <td>armory3d#armory</td>\n      <td>[]</td>\n    </tr>\n  </tbody>\n</table>\n</div>"
     },
     "execution_count": 19,
     "metadata": {},
     "output_type": "execute_result"
    }
   ],
   "source": [
    "kaggle_repos_dataframe.tags = kaggle_repos_dataframe.tags.apply(ast.literal_eval)\n",
    "kaggle_repos_dataframe.head()"
   ],
   "metadata": {
    "collapsed": false,
    "pycharm": {
     "name": "#%%\n"
    }
   }
  },
  {
   "cell_type": "code",
   "execution_count": 20,
   "outputs": [
    {
     "data": {
      "text/plain": "                      project_name                   tags\n0  a1studmuffin#SpaceshipGenerator                 python\n0  a1studmuffin#SpaceshipGenerator  procedural-generation\n0  a1studmuffin#SpaceshipGenerator        blender-scripts\n0  a1studmuffin#SpaceshipGenerator       game-development\n0  a1studmuffin#SpaceshipGenerator                     3d",
      "text/html": "<div>\n<style scoped>\n    .dataframe tbody tr th:only-of-type {\n        vertical-align: middle;\n    }\n\n    .dataframe tbody tr th {\n        vertical-align: top;\n    }\n\n    .dataframe thead th {\n        text-align: right;\n    }\n</style>\n<table border=\"1\" class=\"dataframe\">\n  <thead>\n    <tr style=\"text-align: right;\">\n      <th></th>\n      <th>project_name</th>\n      <th>tags</th>\n    </tr>\n  </thead>\n  <tbody>\n    <tr>\n      <th>0</th>\n      <td>a1studmuffin#SpaceshipGenerator</td>\n      <td>python</td>\n    </tr>\n    <tr>\n      <th>0</th>\n      <td>a1studmuffin#SpaceshipGenerator</td>\n      <td>procedural-generation</td>\n    </tr>\n    <tr>\n      <th>0</th>\n      <td>a1studmuffin#SpaceshipGenerator</td>\n      <td>blender-scripts</td>\n    </tr>\n    <tr>\n      <th>0</th>\n      <td>a1studmuffin#SpaceshipGenerator</td>\n      <td>game-development</td>\n    </tr>\n    <tr>\n      <th>0</th>\n      <td>a1studmuffin#SpaceshipGenerator</td>\n      <td>3d</td>\n    </tr>\n  </tbody>\n</table>\n</div>"
     },
     "execution_count": 20,
     "metadata": {},
     "output_type": "execute_result"
    }
   ],
   "source": [
    "# Prepare dataset for pivot\n",
    "kaggle_repos_dataframe = kaggle_repos_dataframe.explode(\"tags\")\n",
    "kaggle_repos_dataframe.head()"
   ],
   "metadata": {
    "collapsed": false,
    "pycharm": {
     "name": "#%%\n"
    }
   }
  },
  {
   "cell_type": "code",
   "execution_count": 21,
   "outputs": [],
   "source": [
    "kaggle_repos_dataframe[\"val\"] = 1"
   ],
   "metadata": {
    "collapsed": false,
    "pycharm": {
     "name": "#%%\n"
    }
   }
  },
  {
   "cell_type": "code",
   "execution_count": 22,
   "outputs": [
    {
     "data": {
      "text/plain": "                      project_name                   tags  val\n0  a1studmuffin#SpaceshipGenerator                 python    1\n0  a1studmuffin#SpaceshipGenerator  procedural-generation    1\n0  a1studmuffin#SpaceshipGenerator        blender-scripts    1\n0  a1studmuffin#SpaceshipGenerator       game-development    1\n0  a1studmuffin#SpaceshipGenerator                     3d    1",
      "text/html": "<div>\n<style scoped>\n    .dataframe tbody tr th:only-of-type {\n        vertical-align: middle;\n    }\n\n    .dataframe tbody tr th {\n        vertical-align: top;\n    }\n\n    .dataframe thead th {\n        text-align: right;\n    }\n</style>\n<table border=\"1\" class=\"dataframe\">\n  <thead>\n    <tr style=\"text-align: right;\">\n      <th></th>\n      <th>project_name</th>\n      <th>tags</th>\n      <th>val</th>\n    </tr>\n  </thead>\n  <tbody>\n    <tr>\n      <th>0</th>\n      <td>a1studmuffin#SpaceshipGenerator</td>\n      <td>python</td>\n      <td>1</td>\n    </tr>\n    <tr>\n      <th>0</th>\n      <td>a1studmuffin#SpaceshipGenerator</td>\n      <td>procedural-generation</td>\n      <td>1</td>\n    </tr>\n    <tr>\n      <th>0</th>\n      <td>a1studmuffin#SpaceshipGenerator</td>\n      <td>blender-scripts</td>\n      <td>1</td>\n    </tr>\n    <tr>\n      <th>0</th>\n      <td>a1studmuffin#SpaceshipGenerator</td>\n      <td>game-development</td>\n      <td>1</td>\n    </tr>\n    <tr>\n      <th>0</th>\n      <td>a1studmuffin#SpaceshipGenerator</td>\n      <td>3d</td>\n      <td>1</td>\n    </tr>\n  </tbody>\n</table>\n</div>"
     },
     "execution_count": 22,
     "metadata": {},
     "output_type": "execute_result"
    }
   ],
   "source": [
    "kaggle_repos_dataframe.head()"
   ],
   "metadata": {
    "collapsed": false,
    "pycharm": {
     "name": "#%%\n"
    }
   }
  },
  {
   "cell_type": "code",
   "execution_count": 23,
   "outputs": [],
   "source": [
    "# Rename each tag name to avoid name collision with package names\n",
    "kaggle_repos_dataframe.tags = kaggle_repos_dataframe.tags.apply(lambda x: f\"tag#{x}\")"
   ],
   "metadata": {
    "collapsed": false,
    "pycharm": {
     "name": "#%%\n"
    }
   }
  },
  {
   "cell_type": "code",
   "execution_count": 24,
   "outputs": [
    {
     "data": {
      "text/plain": "                      project_name                       tags  val\n0  a1studmuffin#SpaceshipGenerator                 tag#python    1\n0  a1studmuffin#SpaceshipGenerator  tag#procedural-generation    1\n0  a1studmuffin#SpaceshipGenerator        tag#blender-scripts    1\n0  a1studmuffin#SpaceshipGenerator       tag#game-development    1\n0  a1studmuffin#SpaceshipGenerator                     tag#3d    1",
      "text/html": "<div>\n<style scoped>\n    .dataframe tbody tr th:only-of-type {\n        vertical-align: middle;\n    }\n\n    .dataframe tbody tr th {\n        vertical-align: top;\n    }\n\n    .dataframe thead th {\n        text-align: right;\n    }\n</style>\n<table border=\"1\" class=\"dataframe\">\n  <thead>\n    <tr style=\"text-align: right;\">\n      <th></th>\n      <th>project_name</th>\n      <th>tags</th>\n      <th>val</th>\n    </tr>\n  </thead>\n  <tbody>\n    <tr>\n      <th>0</th>\n      <td>a1studmuffin#SpaceshipGenerator</td>\n      <td>tag#python</td>\n      <td>1</td>\n    </tr>\n    <tr>\n      <th>0</th>\n      <td>a1studmuffin#SpaceshipGenerator</td>\n      <td>tag#procedural-generation</td>\n      <td>1</td>\n    </tr>\n    <tr>\n      <th>0</th>\n      <td>a1studmuffin#SpaceshipGenerator</td>\n      <td>tag#blender-scripts</td>\n      <td>1</td>\n    </tr>\n    <tr>\n      <th>0</th>\n      <td>a1studmuffin#SpaceshipGenerator</td>\n      <td>tag#game-development</td>\n      <td>1</td>\n    </tr>\n    <tr>\n      <th>0</th>\n      <td>a1studmuffin#SpaceshipGenerator</td>\n      <td>tag#3d</td>\n      <td>1</td>\n    </tr>\n  </tbody>\n</table>\n</div>"
     },
     "execution_count": 24,
     "metadata": {},
     "output_type": "execute_result"
    }
   ],
   "source": [
    "kaggle_repos_dataframe.head()"
   ],
   "metadata": {
    "collapsed": false,
    "pycharm": {
     "name": "#%%\n"
    }
   }
  },
  {
   "cell_type": "code",
   "execution_count": 25,
   "outputs": [
    {
     "data": {
      "text/plain": "9148"
     },
     "execution_count": 25,
     "metadata": {},
     "output_type": "execute_result"
    }
   ],
   "source": [
    "# Total number of tags\n",
    "kaggle_repos_dataframe.tags.unique().size"
   ],
   "metadata": {
    "collapsed": false,
    "pycharm": {
     "name": "#%%\n"
    }
   }
  },
  {
   "cell_type": "code",
   "execution_count": 26,
   "outputs": [
    {
     "data": {
      "text/plain": "3418"
     },
     "execution_count": 26,
     "metadata": {},
     "output_type": "execute_result"
    }
   ],
   "source": [
    "kaggle_repos_dataframe.project_name.unique().size"
   ],
   "metadata": {
    "collapsed": false,
    "pycharm": {
     "name": "#%%\n"
    }
   }
  },
  {
   "cell_type": "code",
   "execution_count": 27,
   "outputs": [
    {
     "data": {
      "text/plain": "tags                      tag#010editor  tag#053  tag#0day  tag#100daysofcode  \\\nproject_name                                                                    \n01joy#news-search-engine              0        0         0                  0   \n05bit#peewee-async                    0        0         0                  0   \n0k#shyaml                             0        0         0                  0   \n0x00-0x00#ShellPop                    0        0         0                  0   \n0xAX#linux-insides                    0        0         0                  0   \n\ntags                      tag#104  tag#1111  tag#12306  tag#163mail-login  \\\nproject_name                                                                \n01joy#news-search-engine        0         0          0                  0   \n05bit#peewee-async              0         0          0                  0   \n0k#shyaml                       0         0          0                  0   \n0x00-0x00#ShellPop              0         0          0                  0   \n0xAX#linux-insides              0         0          0                  0   \n\ntags                      tag#2  tag#2019-ncov  ...  tag#zircon  \\\nproject_name                                    ...               \n01joy#news-search-engine      0              0  ...           0   \n05bit#peewee-async            0              0  ...           0   \n0k#shyaml                     0              0  ...           0   \n0x00-0x00#ShellPop            0              0  ...           0   \n0xAX#linux-insides            0              0  ...           0   \n\ntags                      tag#zookeeper  tag#zoom  tag#zotero  tag#zotero-api  \\\nproject_name                                                                    \n01joy#news-search-engine              0         0           0               0   \n05bit#peewee-async                    0         0           0               0   \n0k#shyaml                             0         0           0               0   \n0x00-0x00#ShellPop                    0         0           0               0   \n0xAX#linux-insides                    0         0           0               0   \n\ntags                      tag#zsh  tag#ztp  tag#zuul  tag#zvt  tag#zypper  \nproject_name                                                               \n01joy#news-search-engine        0        0         0        0           0  \n05bit#peewee-async              0        0         0        0           0  \n0k#shyaml                       0        0         0        0           0  \n0x00-0x00#ShellPop              0        0         0        0           0  \n0xAX#linux-insides              0        0         0        0           0  \n\n[5 rows x 9148 columns]",
      "text/html": "<div>\n<style scoped>\n    .dataframe tbody tr th:only-of-type {\n        vertical-align: middle;\n    }\n\n    .dataframe tbody tr th {\n        vertical-align: top;\n    }\n\n    .dataframe thead th {\n        text-align: right;\n    }\n</style>\n<table border=\"1\" class=\"dataframe\">\n  <thead>\n    <tr style=\"text-align: right;\">\n      <th>tags</th>\n      <th>tag#010editor</th>\n      <th>tag#053</th>\n      <th>tag#0day</th>\n      <th>tag#100daysofcode</th>\n      <th>tag#104</th>\n      <th>tag#1111</th>\n      <th>tag#12306</th>\n      <th>tag#163mail-login</th>\n      <th>tag#2</th>\n      <th>tag#2019-ncov</th>\n      <th>...</th>\n      <th>tag#zircon</th>\n      <th>tag#zookeeper</th>\n      <th>tag#zoom</th>\n      <th>tag#zotero</th>\n      <th>tag#zotero-api</th>\n      <th>tag#zsh</th>\n      <th>tag#ztp</th>\n      <th>tag#zuul</th>\n      <th>tag#zvt</th>\n      <th>tag#zypper</th>\n    </tr>\n    <tr>\n      <th>project_name</th>\n      <th></th>\n      <th></th>\n      <th></th>\n      <th></th>\n      <th></th>\n      <th></th>\n      <th></th>\n      <th></th>\n      <th></th>\n      <th></th>\n      <th></th>\n      <th></th>\n      <th></th>\n      <th></th>\n      <th></th>\n      <th></th>\n      <th></th>\n      <th></th>\n      <th></th>\n      <th></th>\n      <th></th>\n    </tr>\n  </thead>\n  <tbody>\n    <tr>\n      <th>01joy#news-search-engine</th>\n      <td>0</td>\n      <td>0</td>\n      <td>0</td>\n      <td>0</td>\n      <td>0</td>\n      <td>0</td>\n      <td>0</td>\n      <td>0</td>\n      <td>0</td>\n      <td>0</td>\n      <td>...</td>\n      <td>0</td>\n      <td>0</td>\n      <td>0</td>\n      <td>0</td>\n      <td>0</td>\n      <td>0</td>\n      <td>0</td>\n      <td>0</td>\n      <td>0</td>\n      <td>0</td>\n    </tr>\n    <tr>\n      <th>05bit#peewee-async</th>\n      <td>0</td>\n      <td>0</td>\n      <td>0</td>\n      <td>0</td>\n      <td>0</td>\n      <td>0</td>\n      <td>0</td>\n      <td>0</td>\n      <td>0</td>\n      <td>0</td>\n      <td>...</td>\n      <td>0</td>\n      <td>0</td>\n      <td>0</td>\n      <td>0</td>\n      <td>0</td>\n      <td>0</td>\n      <td>0</td>\n      <td>0</td>\n      <td>0</td>\n      <td>0</td>\n    </tr>\n    <tr>\n      <th>0k#shyaml</th>\n      <td>0</td>\n      <td>0</td>\n      <td>0</td>\n      <td>0</td>\n      <td>0</td>\n      <td>0</td>\n      <td>0</td>\n      <td>0</td>\n      <td>0</td>\n      <td>0</td>\n      <td>...</td>\n      <td>0</td>\n      <td>0</td>\n      <td>0</td>\n      <td>0</td>\n      <td>0</td>\n      <td>0</td>\n      <td>0</td>\n      <td>0</td>\n      <td>0</td>\n      <td>0</td>\n    </tr>\n    <tr>\n      <th>0x00-0x00#ShellPop</th>\n      <td>0</td>\n      <td>0</td>\n      <td>0</td>\n      <td>0</td>\n      <td>0</td>\n      <td>0</td>\n      <td>0</td>\n      <td>0</td>\n      <td>0</td>\n      <td>0</td>\n      <td>...</td>\n      <td>0</td>\n      <td>0</td>\n      <td>0</td>\n      <td>0</td>\n      <td>0</td>\n      <td>0</td>\n      <td>0</td>\n      <td>0</td>\n      <td>0</td>\n      <td>0</td>\n    </tr>\n    <tr>\n      <th>0xAX#linux-insides</th>\n      <td>0</td>\n      <td>0</td>\n      <td>0</td>\n      <td>0</td>\n      <td>0</td>\n      <td>0</td>\n      <td>0</td>\n      <td>0</td>\n      <td>0</td>\n      <td>0</td>\n      <td>...</td>\n      <td>0</td>\n      <td>0</td>\n      <td>0</td>\n      <td>0</td>\n      <td>0</td>\n      <td>0</td>\n      <td>0</td>\n      <td>0</td>\n      <td>0</td>\n      <td>0</td>\n    </tr>\n  </tbody>\n</table>\n<p>5 rows × 9148 columns</p>\n</div>"
     },
     "execution_count": 27,
     "metadata": {},
     "output_type": "execute_result"
    }
   ],
   "source": [
    "pivot_tags_dataframe = kaggle_repos_dataframe.pivot_table(index=\"project_name\", values=\"val\", columns=\"tags\", fill_value=0)\n",
    "pivot_tags_dataframe.head()"
   ],
   "metadata": {
    "collapsed": false,
    "pycharm": {
     "name": "#%%\n"
    }
   }
  },
  {
   "cell_type": "code",
   "execution_count": 28,
   "outputs": [
    {
     "data": {
      "text/plain": "set()"
     },
     "execution_count": 28,
     "metadata": {},
     "output_type": "execute_result"
    }
   ],
   "source": [
    "set(pivot_tags_dataframe.columns).difference(set(kaggle_repos_dataframe.tags.unique()))"
   ],
   "metadata": {
    "collapsed": false,
    "pycharm": {
     "name": "#%%\n"
    }
   }
  },
  {
   "cell_type": "code",
   "execution_count": 29,
   "outputs": [
    {
     "data": {
      "text/plain": "(3418, 9148)"
     },
     "execution_count": 29,
     "metadata": {},
     "output_type": "execute_result"
    }
   ],
   "source": [
    "pivot_tags_dataframe.shape"
   ],
   "metadata": {
    "collapsed": false,
    "pycharm": {
     "name": "#%%\n"
    }
   }
  },
  {
   "cell_type": "code",
   "execution_count": 30,
   "outputs": [
    {
     "data": {
      "text/plain": "0    3416\n1       2\nName: tag#0day, dtype: int64"
     },
     "execution_count": 30,
     "metadata": {},
     "output_type": "execute_result"
    }
   ],
   "source": [
    "# Check values\n",
    "pivot_tags_dataframe[\"tag#0day\"].value_counts()"
   ],
   "metadata": {
    "collapsed": false,
    "pycharm": {
     "name": "#%%\n"
    }
   }
  },
  {
   "cell_type": "code",
   "execution_count": 31,
   "outputs": [
    {
     "data": {
      "text/plain": "0    3417\n1       1\nName: tag#zircon, dtype: int64"
     },
     "execution_count": 31,
     "metadata": {},
     "output_type": "execute_result"
    }
   ],
   "source": [
    "pivot_tags_dataframe[\"tag#zircon\"].value_counts()"
   ],
   "metadata": {
    "collapsed": false,
    "pycharm": {
     "name": "#%%\n"
    }
   }
  },
  {
   "cell_type": "code",
   "execution_count": 32,
   "outputs": [],
   "source": [
    "# Final step - join package columns (features) and tags columns (targets)"
   ],
   "metadata": {
    "collapsed": false,
    "pycharm": {
     "name": "#%%\n"
    }
   }
  },
  {
   "cell_type": "code",
   "execution_count": 33,
   "outputs": [
    {
     "data": {
      "text/plain": "(3418, 9148)"
     },
     "execution_count": 33,
     "metadata": {},
     "output_type": "execute_result"
    }
   ],
   "source": [
    "# First of all check size of dataframes\n",
    "pivot_tags_dataframe.shape"
   ],
   "metadata": {
    "collapsed": false,
    "pycharm": {
     "name": "#%%\n"
    }
   }
  },
  {
   "cell_type": "code",
   "execution_count": 34,
   "outputs": [
    {
     "data": {
      "text/plain": "(2853, 15383)"
     },
     "execution_count": 34,
     "metadata": {},
     "output_type": "execute_result"
    }
   ],
   "source": [
    "pivot_package_dataframe.shape"
   ],
   "metadata": {
    "collapsed": false,
    "pycharm": {
     "name": "#%%\n"
    }
   }
  },
  {
   "cell_type": "code",
   "execution_count": 35,
   "outputs": [
    {
     "data": {
      "text/plain": "{'1N3#Wordpress-XMLRPC-Brute-Force-Exploit',\n '666wcy#ARPT-Bot',\n 'Ank-Cha#Social-Distancing-Analyser-COVID-19',\n 'Bhupesh-V#memer-action',\n 'CLUEbenchmark#CLUEDatasetSearch',\n 'CiKu370#OSIF',\n 'Comcast#ansible-sdkman',\n 'Dineshkarthik#telegram_media_downloader',\n 'DmrfCoder#AlgorithmAndDataStructure',\n 'EZFNDEV#EZFN-Lobbybot',\n 'EZForever#HiveMiner',\n 'FeeiCN#Security-PPT',\n 'Hello-Linux#Ansible-VIM-IDE',\n 'HoboVR-Labs#hobo_vr',\n 'INTERMT#Awesome-PyTorch-Chinese',\n 'Jack-Cherish#PythonPark',\n 'JalanJiang#leetcode-notebook',\n 'Karan-Malik#FaceMaskDetector',\n 'Kylmakalle#heroku-telegram-bot',\n 'LyleMi#Learn-Web-Hacking',\n 'MMehdiMousavi#SuperCaustics',\n 'Nanoseb#ncTelegram',\n 'Neko250#sublime-PICO-8',\n 'Panintelligence#picons',\n 'RunaCapital#awesome-oss-alternatives',\n 'RyanAWalters#PowerOf2ImageResizer',\n 'Singosgu#GreaterWMS',\n 'SpEcHiDe#AnyDLBot',\n 'SpectralVectors#RightMouseNavigation',\n 'TarrySingh#Artificial-Intelligence-Deep-Learning-Machine-Learning-Tutorials',\n 'Tautulli#Tautulli',\n 'Tencent#CodeAnalysis',\n 'Textualize#rich-cli',\n 'TheLartians#Format.cmake',\n 'ThibaultGROUEIX#AtlasNet',\n 'TianhongDai#reinforcement-learning-algorithms',\n 'TimoBolkart#TF_FLAME',\n 'TingFree#NLPer-Arsenal',\n 'Tkd-Alex#Twitch-Channel-Points-Miner-v2',\n 'Tribler#py-ipv8',\n 'Tribler#tribler',\n 'Trusted-AI#AIF360',\n 'Tydotbaba#Cloud-Learning',\n 'Urinx#WeixinBot',\n 'VCL3D#VolumetricCapture',\n 'VPanjeta#ModiScript',\n 'VinAIResearch#BERTweet',\n 'VirgilSecurity#virgil-ratchet-kotlin',\n 'Vladkryvoruchko#PSPNet-Keras-tensorflow',\n 'WeileiZeng#Open-Source-COVID-19',\n 'Wiredcraft#pipelines',\n 'WoLpH#numpy-stl',\n 'WooKeyWallet#monero-wallet-android-app',\n 'XChainLab#documentation',\n 'Xharlie#pointnerf',\n 'Xilinx#finn',\n 'XuehaiPan#nvitop',\n 'YadiraF#DECA',\n 'YadiraF#PRNet',\n 'YadominJinta#atilo',\n 'YarikSOffice#lingver',\n 'YuzuRyo61#KotohiraYu',\n 'ZedThree#clang-tidy-review',\n 'a1studmuffin#SpaceshipGenerator',\n 'aabouzaid#netbox-as-ansible-inventory',\n 'aantoniadis#clean-architecture-example',\n 'aavshr#grt',\n 'ableev#Zabbix-in-Telegram',\n 'achiku#jungle',\n 'achillesrasquinha#pipupgrade',\n 'adamlwgriffiths#Pyrr',\n 'adroitandroid#Near',\n 'aeroxis#sultan',\n 'afiskon#py-vm',\n 'afrendeiro#toolkit',\n 'ageitgey#face_recognition',\n 'agoose77#pysam',\n 'aio-libs#aiobotocore',\n 'aio-libs#aiomysql',\n 'aio-libs#aiopg',\n 'aiogram#aiogram',\n 'airaria#TextBrewer',\n 'airingursb#bilibili-user',\n 'aiven#pghoard',\n 'ajalt#clikt',\n 'alameda-project#matorral',\n 'albertyw#git-reviewers',\n 'alerta#alerta',\n 'alexal1#Insomniac',\n 'alexisbcook#ResNetCAM-keras',\n 'alexlaurence#NIfTI-Image-Converter',\n 'alfonsrv#impf-botpy',\n 'algernon#fluffy-broccoli',\n 'alibaba#AliceMind',\n 'alirezamika#autoscraper',\n 'allenai#scibert',\n 'allenai#scispacy',\n 'alpacahq#alpaca-trade-api-python',\n 'amimo#dcc',\n 'ammaraskar#pyCraft',\n 'amonapp#amon',\n 'anantdgoel#ProjectFib',\n 'andmatand#midi-to-pico8',\n 'andrewbihl#bsed',\n 'andreyfedoseev#django-static-precompiler',\n 'android#architecture-samples',\n 'android#compose-samples',\n 'andyzeng#tsdf-fusion-python',\n 'andyzeng#visual-pushing-grasping',\n 'anouarbensaad#vulnx',\n 'ansible#ansible-lint',\n 'ansible#ansible-navigator',\n 'ansible-collections#community.vmware',\n 'ansible-collections#community.zabbix',\n 'ansible-provisioning#ansible-provisioning',\n 'antonioCoco#SharPyShell',\n 'apoclyps#reviews',\n 'appsecco#vulnerable-apps',\n 'appu1232#Discord-Selfbot',\n 'archivy#archivy',\n 'archlinux#archinstall',\n 'arnabgho#iSketchNFill',\n 'arnoweng#CheXNet',\n 'artyshko#smd',\n 'asappresearch#sru',\n 'ashutoshbsathe#yacv',\n 'asreview#asreview',\n 'astorfi#3D-convolutional-speaker-recognition',\n 'atom#language-csharp',\n 'atosatto#ansible-dockerswarm',\n 'atulkum#pointer_summarizer',\n 'aurelg#feedspora',\n 'autoliuweijie#K-BERT',\n 'autosoft-dev#tree-hugger',\n 'aws#aws-cli',\n 'aws-cloudformation#cfn-lint',\n 'aws-samples#aws-serverless-ecommerce-platform',\n 'aws-samples#startup-kit-templates',\n 'awslabs#aws-data-wrangler',\n 'awslabs#aws-shell',\n 'awslabs#aws-well-architected-labs',\n 'axiros#terminal_markdown_viewer',\n 'ayushi7rawat#Ultimate-Python-Resource-Hub',\n 'b-ryan#powerline-shell',\n 'bashtage#arch',\n 'bazelbuild#continuous-integration',\n 'bbaassssiiee#ansible-review',\n 'bbfamily#abu',\n 'bbugyi200#funky',\n 'bchao1#bullet',\n 'bchew#dynamodump',\n 'bclindner#ivory',\n 'benediktg#gnu-social-export',\n 'bheinzerling#bpemb',\n 'bihealth#vcfpy',\n 'billryan#algorithm-exercise',\n 'binux#pyspider',\n 'bitkeks#mastodon-to-twitter',\n 'blackle#mastodon-data-viewer.py',\n 'blmoistawinde#HarvestText',\n 'bonzanini#Book-SocialMediaMiningPython',\n 'borgbackup#borg',\n 'borzecki#reviewio',\n 'bosondata#badwolf',\n 'boto#boto3',\n 'bottlesdevs#Bottles',\n 'bram2w#baserow',\n 'breandan#galoisenne',\n 'brightmart#bert_language_understanding',\n 'buildinspace#peru',\n 'buntine#SwervinMervin',\n 'busyyang#python_sound_open',\n 'bytefish#facerec',\n 'caiyonglong#MusicLake',\n 'calmery#Pawopy',\n 'capitalone#DataProfiler',\n 'carpedm20#MemN2N-tensorflow',\n 'carpedm20#lstm-char-cnn-tensorflow',\n 'celery#celery',\n 'certbot#certbot',\n 'chartbeat-labs#textacy',\n 'chatopera#Synonyms',\n 'chauby#V-REP-YouBot-Demo',\n 'chenyuntc#PyTorchText',\n 'chiphuyen#lazynlp',\n 'chr-1x#ananas',\n 'christian-draeger#basic-selenium-project',\n 'christian-draeger#pact-example',\n 'clerie#mastodon-hashtag-spreader',\n 'clips#pattern',\n 'clovaai#wsolevaluation',\n 'cltk#cltk',\n 'code4game#libprotobuf_ue4',\n 'codeaprendiz#devops-essentials',\n 'codelucas#newspaper',\n 'codertimo#BERT-pytorch',\n 'codl#forget',\n 'coleifer#peewee',\n 'conan-io#cmake-conan',\n 'conan-io#conan-center-index',\n 'cookiecutter#cookiecutter',\n 'cool-RR#PySnooper',\n 'corbindavenport#tootbot',\n 'coursera-dl#coursera-dl',\n 'craigsdennis#intro-to-apis-course',\n 'croncat#MyCryptoHoldings',\n 'crossbario#crossbar',\n 'crownpku#Information-Extraction-Chinese',\n 'ctf-wiki#ctf-wiki',\n 'cyrus-and#gdb-dashboard',\n 'dahlia#awesome-sqlalchemy',\n 'datadesk#notebooks',\n 'deep5050#flawfinder-action',\n 'dhilipsiva#webapp-checklist',\n 'disposable#disposable',\n 'doerlbh#V2R',\n 'dolph#git-ready',\n 'donnemartin#dev-setup',\n 'drduh#macOS-Security-and-Privacy-Guide',\n 'dw5#Metropolis',\n 'edoardottt#spark-ar-creators',\n 'egtwobits#mesh_mesh_align_plus',\n 'eirannejad#pyRevit',\n 'fabianonline#telegram_backup',\n 'feicong#lua_re',\n 'fendouai#Awesome-Chatbot',\n 'guillaumegenthial#sequence_tagging',\n 'gurland#telegram-delete-all-messages',\n 'harfang3d#vr-python-quickstart-hg1',\n 'hoochanlon#w3-goto-world',\n 'hoya012#deep_learning_object_detection',\n 'hsandt#GGJ2018-Transmission',\n 'iBug#This-Repo-Has-435-Stars',\n 'idealo#imagededup',\n 'ihack4falafel#OSCP',\n 'iiscleap#Coswara-Data',\n 'immuni-app#immuni-app-android',\n 'instillai#deep-learning-roadmap',\n 'jagrit007#Telegram-CloneBot',\n 'jakubroztocil#chat',\n 'jarun#googler',\n 'jhipster#jhipster-kotlin',\n 'jostmey#NakedTensor',\n 'jpadilla#django-project-template',\n 'jrieke#traingenerator',\n 'juliangaal#python-cheat-sheet',\n 'jupyterhub#jupyterhub-deploy-docker',\n 'kelvins#Municipios-Brasileiros',\n 'kotlin-telegram-bot#kotlin-telegram-bot',\n 'lifadev#archive_aws-lambda-go-shim',\n 'likedan#Awesome-CoreML-Models',\n 'lk-geimfari#awesomo',\n 'lyhue1991#eat_tensorflow2_in_30_days',\n 'mail-in-a-box#mailinabox',\n 'mamoniem#UnrealEditorPythonScripts',\n 'mathjax#MathJax-docs',\n 'matteocrippa#awesome-conferences-database',\n 'mattrobenolt#jinja2-cli',\n 'mazurio#bodyweight-fitness-android',\n 'mbadry1#DeepLearning.ai-Summary',\n 'mechboxes#mech',\n 'microsoft#hummingbird',\n 'ml-tooling#best-of-ml-python',\n 'ml-tooling#best-of-python',\n 'ml-tooling#best-of-web-python',\n 'mmilidoni#github-downloads-count',\n 'moezbhatti#qksms',\n 'mrlesmithjr#Ansible',\n 'mrlesmithjr#vagrant-box-templates',\n 'msanders#cider',\n 'mtli#PhotoSketch',\n 'mudpi#mudpi-core',\n 'n0ts#ansible-human_log',\n 'n8henrie#pycookiecheat',\n 'nasa#scrub',\n 'nat236919#covid19-api',\n 'naturomics#CapsNet-Tensorflow',\n 'nccgroup#PMapper',\n 'nccgroup#Scout2',\n 'nccgroup#call_map',\n 'nickjj#ansible-docker',\n 'nicolai86#ansible-rails-deployment',\n 'nidhaloff#igel',\n 'nixawk#pentest-wiki',\n 'not-kennethreitz#wsl-guide',\n 'oe4dns#tootgroup.py',\n 'openedx#configuration',\n 'openshift#openshift-ansible',\n 'opoplawski#ansible-pfsense',\n 'oppia#oppia',\n 'orsinium-labs#flake8-todos',\n 'os#slacker',\n 'owid#covid-19-data',\n 'p-ranav#box',\n 'pallupz#covid-vaccine-booking',\n 'pandolia#tinyc',\n 'pantsbuild#pants',\n 'paolotremadio#SOMA-Smart-Shades-HTTP-API',\n 'paralax#awesome-honeypots',\n 'paulvangentcom#python_corona_simulation',\n 'pbeck#whatsbook',\n 'pcomputo#Whole-Foods-Delivery-Slot',\n 'pearl-core#pearl',\n 'permitio#opal',\n 'philipperemy#deep-learning-bitcoin',\n 'pirate#crypto-trader',\n 'platformio#platform-espressif32',\n 'platformio#platform-espressif8266',\n 'platformio#platform-ststm32',\n 'platformio#platformio-core',\n 'platisd#bad-commit-message-blocker',\n 'platisd#clang-tidy-pr-comments',\n 'prathimacode-hub#Awesome_Python_Scripts',\n 'praw-dev#praw',\n 'projectdiscovery#nuclei-templates',\n 'protontypes#LibreSelery',\n 'protontypes#continuous-reforestation',\n 'public-apis#public-apis',\n 'pycontribs#jenkinsapi',\n 'pynamodb#PynamoDB',\n 'pypa#pipx',\n 'pypyr#pypyr',\n 'python-discord#bot',\n 'python-gitlab#python-gitlab',\n 'pyvista#pyvista',\n 'pywavefront#PyWavefront',\n 'qidiso#mobilefacenet-V2',\n 'qubvel#segmentation_models',\n 'ranahanocka#MeshCNN',\n 'rastating#shiva',\n 'rasterio#rasterio',\n 'rbignon#doctoshotgun',\n 'rdeepak2002#reddit-place-script-2022',\n 'realsirjoe#instagram-scraper',\n 'reviewboard#ReviewBot',\n 'reviewboard#rbintegrations',\n 'reviewboard#reviewboard',\n 'richardkiss#pycoin',\n 'riemers#ansible-gitlab-runner',\n 'risuorg#risu',\n 'rndinfosecguy#Scavenger',\n 'rossant#awesome-math',\n 'rougier#numpy-100',\n 'rpicard#explore-flask',\n 'ryansmcgee#seirsplus',\n 'ryfeus#lambda-packs',\n 's0md3v#Orbit',\n 's3tools#s3cmd',\n 'sa7mon#S3Scanner',\n 'sadighian#crypto-rl',\n 'saimj7#People-Counting-in-Real-Time',\n 'salesforce#policy_sentry',\n 'sameera-madushan#Print-My-Shell',\n 'samre12#deep-trading-agent',\n 'san089#Udacity-Data-Engineering-Projects',\n 'saschpe#android-customtabs',\n 'sberbank-ai-lab#LightAutoML',\n 'selfboot#LeetCode',\n 'shadowsocks#shadowsocks-android',\n 'sideshowbarker#gpr',\n 'sidhuparas#Coronavirus-Tracker',\n 'simonbaird#gerrit-nag',\n 'simple-salesforce#simple-salesforce',\n 'sloria#doitlive',\n 'smallSohoSolo#McImage',\n 'sobolevn#flake8-type-annotations',\n 'sociomantic-tsunami#git-hub',\n 'soubhiksanyal#FLAME_PyTorch',\n 'spack#spack',\n 'spdx#tools-python',\n 'spectacles-ci#spectacles',\n 'spesmilo#electrum',\n 'splitbrain#git-pull-request',\n 'spotify#luigi',\n 'spulec#moto',\n 'spyder-ide#spyder',\n 'srevinsaju#guiscrcpy',\n 'sshwsfc#xadmin',\n 'stackimpact#stackimpact-python',\n 'stephenhky#PyShortTextCategorization',\n 'stravnik#toxic-repos',\n 'streamlink#streamlink',\n 'summanlp#textrank',\n 'sumoprojects#SumoEasyMiner',\n 'sunscrapers#djoser',\n 'swapagarwal#JARVIS-on-Messenger',\n 'sweetice#Deep-reinforcement-learning-with-pytorch',\n 'swisskyrepo#GraphQLmap',\n 'sympy#sympy',\n 't13a#depot',\n 'talkpython#data-driven-web-apps-with-flask',\n 'taogeT#livetv_mining',\n 'taosir#cnn_handwritten_chinese_recognition',\n 'taoufik07#responder',\n 'tarek360#koshry',\n 'tartiflette#tartiflette',\n 'tarunkant#Gopherus',\n 'tateisu#SubwayTooter',\n 'tdorssers#ztp',\n 'techtanic#Discounted-Udemy-Course-Enroller',\n 'tecladocode#rest-apis-flask-python',\n 'tensorlayer#seq2seq-chatbot',\n 'teracyhq#flask-classful',\n 'testdrivenio#flask-on-docker',\n 'textX#Arpeggio',\n 'texworld#tikzplotlib',\n 'tgbot-collection#YYeTsBot',\n 'the0demiurge#ShadowSocksShare',\n 'thewhiteh4t#pwnedOrNot',\n 'thingsboard#thingsboard-gateway',\n 'think-biq#LLV',\n 'thisbejim#Pyrebase',\n 'thomaxxl#safrs',\n 'thombashi#pytablewriter',\n 'thombashi#sqlitebiter',\n 'thorin-schiffer#freeturn',\n 'thoth-station#prescriptions',\n 'threedle#text2mesh',\n 'thu-ml#tianshou',\n 'thuijskens#scikit-hyperband',\n 'thunlp#OpenPrompt',\n 'tiangolo#fastapi',\n 'tiangolo#full-stack',\n 'tiangolo#full-stack-fastapi-couchbase',\n 'tiangolo#meinheld-gunicorn-flask-docker',\n 'tiangolo#uvicorn-gunicorn-fastapi-docker',\n 'timkpaine#paperboy',\n 'timofurrer#maya',\n 'timoschick#pet',\n 'tintinweb#ecdsa-private-key-recovery',\n 'tintinweb#smart-contract-sanctuary',\n 'tiny-pilot#tinypilot',\n 'tko22#flask-boilerplate',\n 'tkrabel#edaviz',\n 'tmthyjames#SQLCell',\n 'tommybuonomo#dotsindicator',\n 'tonsky#Clojure-Sublimed',\n 'torchbox#wagtail-headless-preview',\n 'tornadoweb#tornado',\n 'torrinworx#Blend_My_NFTs',\n 'tortilla#tortilla',\n 'tortoise#tortoise-orm',\n 'trailofbits#graphtage',\n 'transcranial#jupyter-themer',\n 'translate#translate',\n 'trco#django-bootstrap-modal-forms',\n 'trekhleb#learn-python',\n 'trezor#python-mnemonic',\n 'trezor#trezor-core',\n 'tribe29#checkmk',\n 'tschuchortdev#kotlin-compile-testing',\n 'tudorelu#pyjuque',\n 'tuskyapp#Tusky',\n 'tvytlx#render-py',\n 'twardoch#fonttools-opentype-feature-freezer',\n 'twintproject#twint',\n 'twisted#towncrier',\n 'twisted#twisted',\n 'twopirllc#pandas-ta',\n 'twtrubiks#django-rest-framework-tutorial',\n 'tyiannak#pyAudioAnalysis',\n 'tylerlaberge#PyPattyrn',\n 'uber-archive#plato-research-dialogue-system',\n 'uber-research#PPLM',\n 'ucas-vg#PointTinyBenchmark',\n 'uds-se#FormatFuzzer',\n 'undercasetype#Fraunces',\n 'undergroundwires#Azure-in-bullet-points',\n 'undertheseanlp#underthesea',\n 'underyx#flask-redis',\n 'uniswap-python#uniswap-python',\n 'unode#firefox_decrypt',\n 'ustclug#mirrorhelp',\n 'vaexio#vaex',\n 'valayDave#arxiv-miner',\n 'valcanobacon#BoostBots',\n 'vanniktech#kotlin-on-code-quality-tools',\n 'vantage-sh#ec2instances.info',\n 'vchinnipilli#kubestriker',\n 'vcs-python#vcspull',\n 'versada#sentry-openproject',\n 'vi3k6i5#flashtext',\n 'vidyabhandary#vidyabhandary',\n 'vimalloc#flask-jwt-extended',\n 'viniciuschiele#flask-apscheduler',\n 'vinta#awesome-python',\n 'viraptor#phply',\n 'vispy#vispy',\n 'vita-epfl#monoloco',\n 'vladimirvivien#go-cshared-examples',\n 'vlasovskikh#funcparserlib',\n 'vmnguyen#semgrep-rules',\n 'vmware-archive#wardroom',\n 'vnpy#vnpy',\n 'vocalodon#dontwi',\n 'voila-dashboards#voila',\n 'vyperlang#vyper',\n 'vzhou842#profanity-check',\n 'waditu#tushare',\n 'wagtail#wagtail-personalisation',\n 'wakin-#simple_ap',\n 'wakingrufus#mastodon-jfx',\n 'wal-e#wal-e',\n 'walsvid#Pixel2MeshPlusPlus',\n 'wangshub#wechat_jump_game',\n 'weaveworks#grafanalib',\n 'weechat#scripts',\n 'weijiekoh#py2-monero-wallet-generator',\n 'welliamcao#OpsManage',\n 'wemake-services#docker-image-size-limit',\n 'wemake-services#dotenv-linter',\n 'wemake-services#dump-env',\n 'wemake-services#flake8-broken-line',\n 'wemake-services#flake8-eradicate',\n 'wemake-services#wemake-python-styleguide',\n 'wgergely#bookmarks',\n 'why2lyj#youxiang-Itchat',\n 'wikimedia#apps-android-wikipedia',\n 'wikipedia2vec#wikipedia2vec',\n 'wilsonfreitas#awesome-quant',\n 'wookayin#gpustat',\n 'workalendar#workalendar',\n 'wrkzcoin#TipBot',\n 'wting#autojump',\n 'wtsnjp#twoot.py',\n 'wuhan-support#wuhan.support',\n 'wzhe06#Ad-papers',\n 'wzpan#dingdang-robot',\n 'x25#coinhive-stratum-mining-proxy',\n 'xHak9x#fbi',\n 'xemantic#xemantic-state',\n 'xinntao#facexlib',\n 'xiumingzhang#GenRe-ShapeHD',\n 'yangjianxin1#GPT2-chitchat',\n 'yao8839836#text_gcn',\n 'yaoyuannnn#gerritlab',\n 'yaserkl#RLSeq2Seq',\n 'ycd#manage-fastapi',\n 'yceruto#django-ajax',\n 'ymcui#Chinese-BERT-wwm',\n 'ymcui#Chinese-ELECTRA',\n 'ymcui#Chinese-XLNet',\n 'yokawasa#azure-functions-python-samples',\n 'yoloseem#awesome-sphinxdoc',\n 'yongzhuo#Keras-TextClassification',\n 'yongzhuo#nlp_xiaojiang',\n 'yoshiko2#Movie_Data_Capture',\n 'youfou#wxpy',\n 'yourlabs#crudlfap',\n 'ysrc#xunfeng',\n 'yt-dlp#yt-dlp',\n 'yzhao062#anomaly-detection-resources',\n 'zaibacu#rita-dsl',\n 'zalando#pg_view',\n 'zalando#spilo',\n 'zanellia#prometeo',\n 'zentralopensource#zentral',\n 'zeratax#mastodon-img-bot',\n 'zfw1226#gym-unrealcv',\n 'zhiyuan-lin#TuskyUncensored',\n 'zigg#fediplay',\n 'zjunlp#DeepKE',\n 'zlxy9892#ml_code',\n 'zutianbiao#baize',\n 'zwx8981#UNIQUE'}"
     },
     "execution_count": 35,
     "metadata": {},
     "output_type": "execute_result"
    }
   ],
   "source": [
    "set(pivot_tags_dataframe.index).difference(set(pivot_package_dataframe.index))"
   ],
   "metadata": {
    "collapsed": false,
    "pycharm": {
     "name": "#%%\n"
    }
   }
  },
  {
   "cell_type": "code",
   "execution_count": 36,
   "outputs": [
    {
     "data": {
      "text/plain": "set()"
     },
     "execution_count": 36,
     "metadata": {},
     "output_type": "execute_result"
    }
   ],
   "source": [
    "# Check for package names and tag names intersection\n",
    "set(pivot_tags_dataframe.columns).intersection(set(pivot_package_dataframe.columns))"
   ],
   "metadata": {
    "collapsed": false,
    "pycharm": {
     "name": "#%%\n"
    }
   }
  },
  {
   "cell_type": "code",
   "execution_count": 37,
   "outputs": [
    {
     "data": {
      "text/plain": "                          package#A  package#ACGAN  package#APDrawing  \\\nproject_name                                                            \n01joy#news-search-engine          0              0                  0   \n05bit#peewee-async                0              0                  0   \n0k#shyaml                         0              0                  0   \n0x00-0x00#ShellPop                0              0                  0   \n0xAX#linux-insides                0              0                  0   \n\n                          package#APDrawingGAN  package#APDrawingGAN.data  \\\nproject_name                                                                \n01joy#news-search-engine                     0                          0   \n05bit#peewee-async                           0                          0   \n0k#shyaml                                    0                          0   \n0x00-0x00#ShellPop                           0                          0   \n0xAX#linux-insides                           0                          0   \n\n                          package#APDrawingGAN.data.base_data_loader  \\\nproject_name                                                           \n01joy#news-search-engine                                           0   \n05bit#peewee-async                                                 0   \n0k#shyaml                                                          0   \n0x00-0x00#ShellPop                                                 0   \n0xAX#linux-insides                                                 0   \n\n                          package#APDrawingGAN.data.base_dataset  \\\nproject_name                                                       \n01joy#news-search-engine                                       0   \n05bit#peewee-async                                             0   \n0k#shyaml                                                      0   \n0x00-0x00#ShellPop                                             0   \n0xAX#linux-insides                                             0   \n\n                          package#APDrawingGAN.data.face_landmark  \\\nproject_name                                                        \n01joy#news-search-engine                                        0   \n05bit#peewee-async                                              0   \n0k#shyaml                                                       0   \n0x00-0x00#ShellPop                                              0   \n0xAX#linux-insides                                              0   \n\n                          package#APDrawingGAN.data.image_folder  \\\nproject_name                                                       \n01joy#news-search-engine                                       0   \n05bit#peewee-async                                             0   \n0k#shyaml                                                      0   \n0x00-0x00#ShellPop                                             0   \n0xAX#linux-insides                                             0   \n\n                          package#APDrawingGAN.models  ...  tag#zircon  \\\nproject_name                                           ...               \n01joy#news-search-engine                            0  ...           0   \n05bit#peewee-async                                  0  ...           0   \n0k#shyaml                                           0  ...           0   \n0x00-0x00#ShellPop                                  0  ...           0   \n0xAX#linux-insides                                  0  ...           0   \n\n                          tag#zookeeper  tag#zoom  tag#zotero  tag#zotero-api  \\\nproject_name                                                                    \n01joy#news-search-engine              0         0           0               0   \n05bit#peewee-async                    0         0           0               0   \n0k#shyaml                             0         0           0               0   \n0x00-0x00#ShellPop                    0         0           0               0   \n0xAX#linux-insides                    0         0           0               0   \n\n                          tag#zsh  tag#ztp  tag#zuul  tag#zvt  tag#zypper  \nproject_name                                                               \n01joy#news-search-engine        0        0         0        0           0  \n05bit#peewee-async              0        0         0        0           0  \n0k#shyaml                       0        0         0        0           0  \n0x00-0x00#ShellPop              0        0         0        0           0  \n0xAX#linux-insides              0        0         0        0           0  \n\n[5 rows x 24531 columns]",
      "text/html": "<div>\n<style scoped>\n    .dataframe tbody tr th:only-of-type {\n        vertical-align: middle;\n    }\n\n    .dataframe tbody tr th {\n        vertical-align: top;\n    }\n\n    .dataframe thead th {\n        text-align: right;\n    }\n</style>\n<table border=\"1\" class=\"dataframe\">\n  <thead>\n    <tr style=\"text-align: right;\">\n      <th></th>\n      <th>package#A</th>\n      <th>package#ACGAN</th>\n      <th>package#APDrawing</th>\n      <th>package#APDrawingGAN</th>\n      <th>package#APDrawingGAN.data</th>\n      <th>package#APDrawingGAN.data.base_data_loader</th>\n      <th>package#APDrawingGAN.data.base_dataset</th>\n      <th>package#APDrawingGAN.data.face_landmark</th>\n      <th>package#APDrawingGAN.data.image_folder</th>\n      <th>package#APDrawingGAN.models</th>\n      <th>...</th>\n      <th>tag#zircon</th>\n      <th>tag#zookeeper</th>\n      <th>tag#zoom</th>\n      <th>tag#zotero</th>\n      <th>tag#zotero-api</th>\n      <th>tag#zsh</th>\n      <th>tag#ztp</th>\n      <th>tag#zuul</th>\n      <th>tag#zvt</th>\n      <th>tag#zypper</th>\n    </tr>\n    <tr>\n      <th>project_name</th>\n      <th></th>\n      <th></th>\n      <th></th>\n      <th></th>\n      <th></th>\n      <th></th>\n      <th></th>\n      <th></th>\n      <th></th>\n      <th></th>\n      <th></th>\n      <th></th>\n      <th></th>\n      <th></th>\n      <th></th>\n      <th></th>\n      <th></th>\n      <th></th>\n      <th></th>\n      <th></th>\n      <th></th>\n    </tr>\n  </thead>\n  <tbody>\n    <tr>\n      <th>01joy#news-search-engine</th>\n      <td>0</td>\n      <td>0</td>\n      <td>0</td>\n      <td>0</td>\n      <td>0</td>\n      <td>0</td>\n      <td>0</td>\n      <td>0</td>\n      <td>0</td>\n      <td>0</td>\n      <td>...</td>\n      <td>0</td>\n      <td>0</td>\n      <td>0</td>\n      <td>0</td>\n      <td>0</td>\n      <td>0</td>\n      <td>0</td>\n      <td>0</td>\n      <td>0</td>\n      <td>0</td>\n    </tr>\n    <tr>\n      <th>05bit#peewee-async</th>\n      <td>0</td>\n      <td>0</td>\n      <td>0</td>\n      <td>0</td>\n      <td>0</td>\n      <td>0</td>\n      <td>0</td>\n      <td>0</td>\n      <td>0</td>\n      <td>0</td>\n      <td>...</td>\n      <td>0</td>\n      <td>0</td>\n      <td>0</td>\n      <td>0</td>\n      <td>0</td>\n      <td>0</td>\n      <td>0</td>\n      <td>0</td>\n      <td>0</td>\n      <td>0</td>\n    </tr>\n    <tr>\n      <th>0k#shyaml</th>\n      <td>0</td>\n      <td>0</td>\n      <td>0</td>\n      <td>0</td>\n      <td>0</td>\n      <td>0</td>\n      <td>0</td>\n      <td>0</td>\n      <td>0</td>\n      <td>0</td>\n      <td>...</td>\n      <td>0</td>\n      <td>0</td>\n      <td>0</td>\n      <td>0</td>\n      <td>0</td>\n      <td>0</td>\n      <td>0</td>\n      <td>0</td>\n      <td>0</td>\n      <td>0</td>\n    </tr>\n    <tr>\n      <th>0x00-0x00#ShellPop</th>\n      <td>0</td>\n      <td>0</td>\n      <td>0</td>\n      <td>0</td>\n      <td>0</td>\n      <td>0</td>\n      <td>0</td>\n      <td>0</td>\n      <td>0</td>\n      <td>0</td>\n      <td>...</td>\n      <td>0</td>\n      <td>0</td>\n      <td>0</td>\n      <td>0</td>\n      <td>0</td>\n      <td>0</td>\n      <td>0</td>\n      <td>0</td>\n      <td>0</td>\n      <td>0</td>\n    </tr>\n    <tr>\n      <th>0xAX#linux-insides</th>\n      <td>0</td>\n      <td>0</td>\n      <td>0</td>\n      <td>0</td>\n      <td>0</td>\n      <td>0</td>\n      <td>0</td>\n      <td>0</td>\n      <td>0</td>\n      <td>0</td>\n      <td>...</td>\n      <td>0</td>\n      <td>0</td>\n      <td>0</td>\n      <td>0</td>\n      <td>0</td>\n      <td>0</td>\n      <td>0</td>\n      <td>0</td>\n      <td>0</td>\n      <td>0</td>\n    </tr>\n  </tbody>\n</table>\n<p>5 rows × 24531 columns</p>\n</div>"
     },
     "execution_count": 37,
     "metadata": {},
     "output_type": "execute_result"
    }
   ],
   "source": [
    "final_dataset = pivot_package_dataframe.join(pivot_tags_dataframe, on=\"project_name\",how=\"inner\")\n",
    "final_dataset.head()"
   ],
   "metadata": {
    "collapsed": false,
    "pycharm": {
     "name": "#%%\n"
    }
   }
  },
  {
   "cell_type": "code",
   "execution_count": 38,
   "outputs": [
    {
     "data": {
      "text/plain": "(2853, 24531)"
     },
     "execution_count": 38,
     "metadata": {},
     "output_type": "execute_result"
    }
   ],
   "source": [
    "final_dataset.shape"
   ],
   "metadata": {
    "collapsed": false,
    "pycharm": {
     "name": "#%%\n"
    }
   }
  },
  {
   "cell_type": "code",
   "execution_count": 39,
   "outputs": [
    {
     "data": {
      "text/plain": "24531"
     },
     "execution_count": 39,
     "metadata": {},
     "output_type": "execute_result"
    }
   ],
   "source": [
    "pivot_tags_dataframe.shape[1] + pivot_package_dataframe.shape[1]"
   ],
   "metadata": {
    "collapsed": false,
    "pycharm": {
     "name": "#%%\n"
    }
   }
  },
  {
   "cell_type": "code",
   "execution_count": 40,
   "outputs": [],
   "source": [
    "final_dataset = final_dataset.reset_index(drop=True)"
   ],
   "metadata": {
    "collapsed": false,
    "pycharm": {
     "name": "#%%\n"
    }
   }
  },
  {
   "cell_type": "code",
   "execution_count": 41,
   "outputs": [
    {
     "data": {
      "text/plain": "   package#A  package#ACGAN  package#APDrawing  package#APDrawingGAN  \\\n0          0              0                  0                     0   \n1          0              0                  0                     0   \n2          0              0                  0                     0   \n3          0              0                  0                     0   \n4          0              0                  0                     0   \n\n   package#APDrawingGAN.data  package#APDrawingGAN.data.base_data_loader  \\\n0                          0                                           0   \n1                          0                                           0   \n2                          0                                           0   \n3                          0                                           0   \n4                          0                                           0   \n\n   package#APDrawingGAN.data.base_dataset  \\\n0                                       0   \n1                                       0   \n2                                       0   \n3                                       0   \n4                                       0   \n\n   package#APDrawingGAN.data.face_landmark  \\\n0                                        0   \n1                                        0   \n2                                        0   \n3                                        0   \n4                                        0   \n\n   package#APDrawingGAN.data.image_folder  package#APDrawingGAN.models  ...  \\\n0                                       0                            0  ...   \n1                                       0                            0  ...   \n2                                       0                            0  ...   \n3                                       0                            0  ...   \n4                                       0                            0  ...   \n\n   tag#zircon  tag#zookeeper  tag#zoom  tag#zotero  tag#zotero-api  tag#zsh  \\\n0           0              0         0           0               0        0   \n1           0              0         0           0               0        0   \n2           0              0         0           0               0        0   \n3           0              0         0           0               0        0   \n4           0              0         0           0               0        0   \n\n   tag#ztp  tag#zuul  tag#zvt  tag#zypper  \n0        0         0        0           0  \n1        0         0        0           0  \n2        0         0        0           0  \n3        0         0        0           0  \n4        0         0        0           0  \n\n[5 rows x 24531 columns]",
      "text/html": "<div>\n<style scoped>\n    .dataframe tbody tr th:only-of-type {\n        vertical-align: middle;\n    }\n\n    .dataframe tbody tr th {\n        vertical-align: top;\n    }\n\n    .dataframe thead th {\n        text-align: right;\n    }\n</style>\n<table border=\"1\" class=\"dataframe\">\n  <thead>\n    <tr style=\"text-align: right;\">\n      <th></th>\n      <th>package#A</th>\n      <th>package#ACGAN</th>\n      <th>package#APDrawing</th>\n      <th>package#APDrawingGAN</th>\n      <th>package#APDrawingGAN.data</th>\n      <th>package#APDrawingGAN.data.base_data_loader</th>\n      <th>package#APDrawingGAN.data.base_dataset</th>\n      <th>package#APDrawingGAN.data.face_landmark</th>\n      <th>package#APDrawingGAN.data.image_folder</th>\n      <th>package#APDrawingGAN.models</th>\n      <th>...</th>\n      <th>tag#zircon</th>\n      <th>tag#zookeeper</th>\n      <th>tag#zoom</th>\n      <th>tag#zotero</th>\n      <th>tag#zotero-api</th>\n      <th>tag#zsh</th>\n      <th>tag#ztp</th>\n      <th>tag#zuul</th>\n      <th>tag#zvt</th>\n      <th>tag#zypper</th>\n    </tr>\n  </thead>\n  <tbody>\n    <tr>\n      <th>0</th>\n      <td>0</td>\n      <td>0</td>\n      <td>0</td>\n      <td>0</td>\n      <td>0</td>\n      <td>0</td>\n      <td>0</td>\n      <td>0</td>\n      <td>0</td>\n      <td>0</td>\n      <td>...</td>\n      <td>0</td>\n      <td>0</td>\n      <td>0</td>\n      <td>0</td>\n      <td>0</td>\n      <td>0</td>\n      <td>0</td>\n      <td>0</td>\n      <td>0</td>\n      <td>0</td>\n    </tr>\n    <tr>\n      <th>1</th>\n      <td>0</td>\n      <td>0</td>\n      <td>0</td>\n      <td>0</td>\n      <td>0</td>\n      <td>0</td>\n      <td>0</td>\n      <td>0</td>\n      <td>0</td>\n      <td>0</td>\n      <td>...</td>\n      <td>0</td>\n      <td>0</td>\n      <td>0</td>\n      <td>0</td>\n      <td>0</td>\n      <td>0</td>\n      <td>0</td>\n      <td>0</td>\n      <td>0</td>\n      <td>0</td>\n    </tr>\n    <tr>\n      <th>2</th>\n      <td>0</td>\n      <td>0</td>\n      <td>0</td>\n      <td>0</td>\n      <td>0</td>\n      <td>0</td>\n      <td>0</td>\n      <td>0</td>\n      <td>0</td>\n      <td>0</td>\n      <td>...</td>\n      <td>0</td>\n      <td>0</td>\n      <td>0</td>\n      <td>0</td>\n      <td>0</td>\n      <td>0</td>\n      <td>0</td>\n      <td>0</td>\n      <td>0</td>\n      <td>0</td>\n    </tr>\n    <tr>\n      <th>3</th>\n      <td>0</td>\n      <td>0</td>\n      <td>0</td>\n      <td>0</td>\n      <td>0</td>\n      <td>0</td>\n      <td>0</td>\n      <td>0</td>\n      <td>0</td>\n      <td>0</td>\n      <td>...</td>\n      <td>0</td>\n      <td>0</td>\n      <td>0</td>\n      <td>0</td>\n      <td>0</td>\n      <td>0</td>\n      <td>0</td>\n      <td>0</td>\n      <td>0</td>\n      <td>0</td>\n    </tr>\n    <tr>\n      <th>4</th>\n      <td>0</td>\n      <td>0</td>\n      <td>0</td>\n      <td>0</td>\n      <td>0</td>\n      <td>0</td>\n      <td>0</td>\n      <td>0</td>\n      <td>0</td>\n      <td>0</td>\n      <td>...</td>\n      <td>0</td>\n      <td>0</td>\n      <td>0</td>\n      <td>0</td>\n      <td>0</td>\n      <td>0</td>\n      <td>0</td>\n      <td>0</td>\n      <td>0</td>\n      <td>0</td>\n    </tr>\n  </tbody>\n</table>\n<p>5 rows × 24531 columns</p>\n</div>"
     },
     "execution_count": 41,
     "metadata": {},
     "output_type": "execute_result"
    }
   ],
   "source": [
    "final_dataset.head()"
   ],
   "metadata": {
    "collapsed": false,
    "pycharm": {
     "name": "#%%\n"
    }
   }
  },
  {
   "cell_type": "code",
   "execution_count": 42,
   "outputs": [],
   "source": [
    "final_dataset.to_csv(\"../data/classification/count_dataset_for_multilabel.csv\", index=False)"
   ],
   "metadata": {
    "collapsed": false,
    "pycharm": {
     "name": "#%%\n"
    }
   }
  }
 ],
 "metadata": {
  "kernelspec": {
   "display_name": "Python 3",
   "language": "python",
   "name": "python3"
  },
  "language_info": {
   "codemirror_mode": {
    "name": "ipython",
    "version": 2
   },
   "file_extension": ".py",
   "mimetype": "text/x-python",
   "name": "python",
   "nbconvert_exporter": "python",
   "pygments_lexer": "ipython2",
   "version": "2.7.6"
  }
 },
 "nbformat": 4,
 "nbformat_minor": 0
}