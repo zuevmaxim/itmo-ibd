{
 "cells": [
  {
   "cell_type": "code",
   "execution_count": 1,
   "metadata": {
    "pycharm": {
     "name": "#%%\n"
    }
   },
   "outputs": [],
   "source": [
    "import pandas as pd\n",
    "import ast\n",
    "import matplotlib.pyplot as plt"
   ]
  },
  {
   "cell_type": "code",
   "execution_count": 2,
   "outputs": [
    {
     "data": {
      "text/plain": "    project_name                                    import  is_kotlin_import  \\\n0  2dust#v2rayNG  androidx.appcompat.app.AppCompatActivity                 1   \n1  2dust#v2rayNG                     android.view.MenuItem                 1   \n2  2dust#v2rayNG                          android.Manifest                 1   \n3  2dust#v2rayNG                    android.content.Intent                 1   \n4  2dust#v2rayNG                           android.net.Uri                 1   \n\n   is_python_import             package  \n0                 0  androidx.appcompat  \n1                 0        android.view  \n2                 0             android  \n3                 0     android.content  \n4                 0         android.net  ",
      "text/html": "<div>\n<style scoped>\n    .dataframe tbody tr th:only-of-type {\n        vertical-align: middle;\n    }\n\n    .dataframe tbody tr th {\n        vertical-align: top;\n    }\n\n    .dataframe thead th {\n        text-align: right;\n    }\n</style>\n<table border=\"1\" class=\"dataframe\">\n  <thead>\n    <tr style=\"text-align: right;\">\n      <th></th>\n      <th>project_name</th>\n      <th>import</th>\n      <th>is_kotlin_import</th>\n      <th>is_python_import</th>\n      <th>package</th>\n    </tr>\n  </thead>\n  <tbody>\n    <tr>\n      <th>0</th>\n      <td>2dust#v2rayNG</td>\n      <td>androidx.appcompat.app.AppCompatActivity</td>\n      <td>1</td>\n      <td>0</td>\n      <td>androidx.appcompat</td>\n    </tr>\n    <tr>\n      <th>1</th>\n      <td>2dust#v2rayNG</td>\n      <td>android.view.MenuItem</td>\n      <td>1</td>\n      <td>0</td>\n      <td>android.view</td>\n    </tr>\n    <tr>\n      <th>2</th>\n      <td>2dust#v2rayNG</td>\n      <td>android.Manifest</td>\n      <td>1</td>\n      <td>0</td>\n      <td>android</td>\n    </tr>\n    <tr>\n      <th>3</th>\n      <td>2dust#v2rayNG</td>\n      <td>android.content.Intent</td>\n      <td>1</td>\n      <td>0</td>\n      <td>android.content</td>\n    </tr>\n    <tr>\n      <th>4</th>\n      <td>2dust#v2rayNG</td>\n      <td>android.net.Uri</td>\n      <td>1</td>\n      <td>0</td>\n      <td>android.net</td>\n    </tr>\n  </tbody>\n</table>\n</div>"
     },
     "execution_count": 2,
     "metadata": {},
     "output_type": "execute_result"
    }
   ],
   "source": [
    "original_dataframe = pd.read_csv(\"../data/full_import_dataset/full_import_dataset_with_libname.csv\", index_col=0)\n",
    "original_dataframe.head()"
   ],
   "metadata": {
    "collapsed": false,
    "pycharm": {
     "name": "#%%\n"
    }
   }
  },
  {
   "cell_type": "code",
   "execution_count": 3,
   "outputs": [
    {
     "data": {
      "text/plain": "               project_name   package  count_different_import  \\\n0  01joy#news-search-engine       bs4                       1   \n1  01joy#news-search-engine  datetime                       2   \n2  01joy#news-search-engine     flask                       3   \n3  01joy#news-search-engine     index                       1   \n4  01joy#news-search-engine     jieba                       1   \n\n   is_kotlin_package  is_python_package  \n0                  0                  1  \n1                  0                  1  \n2                  0                  1  \n3                  0                  1  \n4                  0                  1  ",
      "text/html": "<div>\n<style scoped>\n    .dataframe tbody tr th:only-of-type {\n        vertical-align: middle;\n    }\n\n    .dataframe tbody tr th {\n        vertical-align: top;\n    }\n\n    .dataframe thead th {\n        text-align: right;\n    }\n</style>\n<table border=\"1\" class=\"dataframe\">\n  <thead>\n    <tr style=\"text-align: right;\">\n      <th></th>\n      <th>project_name</th>\n      <th>package</th>\n      <th>count_different_import</th>\n      <th>is_kotlin_package</th>\n      <th>is_python_package</th>\n    </tr>\n  </thead>\n  <tbody>\n    <tr>\n      <th>0</th>\n      <td>01joy#news-search-engine</td>\n      <td>bs4</td>\n      <td>1</td>\n      <td>0</td>\n      <td>1</td>\n    </tr>\n    <tr>\n      <th>1</th>\n      <td>01joy#news-search-engine</td>\n      <td>datetime</td>\n      <td>2</td>\n      <td>0</td>\n      <td>1</td>\n    </tr>\n    <tr>\n      <th>2</th>\n      <td>01joy#news-search-engine</td>\n      <td>flask</td>\n      <td>3</td>\n      <td>0</td>\n      <td>1</td>\n    </tr>\n    <tr>\n      <th>3</th>\n      <td>01joy#news-search-engine</td>\n      <td>index</td>\n      <td>1</td>\n      <td>0</td>\n      <td>1</td>\n    </tr>\n    <tr>\n      <th>4</th>\n      <td>01joy#news-search-engine</td>\n      <td>jieba</td>\n      <td>1</td>\n      <td>0</td>\n      <td>1</td>\n    </tr>\n  </tbody>\n</table>\n</div>"
     },
     "execution_count": 3,
     "metadata": {},
     "output_type": "execute_result"
    }
   ],
   "source": [
    "# Count diff imports of packages in projects\n",
    "intermediate_dataframe = original_dataframe \\\n",
    "    .groupby(['project_name', 'package']) \\\n",
    "    .agg({'import':'count', 'is_kotlin_import':'first', 'is_python_import':'first'}) \\\n",
    "    .reset_index() \\\n",
    "    .rename(columns={'import':'count_different_import', 'is_kotlin_import':'is_kotlin_package', 'is_python_import':'is_python_package'})\n",
    "\n",
    "intermediate_dataframe.head()"
   ],
   "metadata": {
    "collapsed": false,
    "pycharm": {
     "name": "#%%\n"
    }
   }
  },
  {
   "cell_type": "code",
   "execution_count": 4,
   "outputs": [
    {
     "data": {
      "text/plain": "Empty DataFrame\nColumns: [project_name, package, count_different_import, is_kotlin_package, is_python_package]\nIndex: []",
      "text/html": "<div>\n<style scoped>\n    .dataframe tbody tr th:only-of-type {\n        vertical-align: middle;\n    }\n\n    .dataframe tbody tr th {\n        vertical-align: top;\n    }\n\n    .dataframe thead th {\n        text-align: right;\n    }\n</style>\n<table border=\"1\" class=\"dataframe\">\n  <thead>\n    <tr style=\"text-align: right;\">\n      <th></th>\n      <th>project_name</th>\n      <th>package</th>\n      <th>count_different_import</th>\n      <th>is_kotlin_package</th>\n      <th>is_python_package</th>\n    </tr>\n  </thead>\n  <tbody>\n  </tbody>\n</table>\n</div>"
     },
     "execution_count": 4,
     "metadata": {},
     "output_type": "execute_result"
    }
   ],
   "source": [
    "#Check for collision - it's ok\n",
    "intermediate_dataframe[intermediate_dataframe[\"is_kotlin_package\"] == intermediate_dataframe[\"is_python_package\"]]"
   ],
   "metadata": {
    "collapsed": false,
    "pycharm": {
     "name": "#%%\n"
    }
   }
  },
  {
   "cell_type": "code",
   "execution_count": 5,
   "outputs": [],
   "source": [
    "# Drop out 'is_kotlin_package' and 'is_python_package' since there are no collisions"
   ],
   "metadata": {
    "collapsed": false,
    "pycharm": {
     "name": "#%%\n"
    }
   }
  },
  {
   "cell_type": "markdown",
   "source": [
    "## Package features extraction"
   ],
   "metadata": {
    "collapsed": false,
    "pycharm": {
     "name": "#%% md\n"
    }
   }
  },
  {
   "cell_type": "code",
   "execution_count": 6,
   "outputs": [
    {
     "data": {
      "text/plain": "               project_name           package  count_different_import  \\\n0  01joy#news-search-engine       package#bs4                       1   \n1  01joy#news-search-engine  package#datetime                       2   \n2  01joy#news-search-engine     package#flask                       3   \n3  01joy#news-search-engine     package#index                       1   \n4  01joy#news-search-engine     package#jieba                       1   \n\n   is_kotlin_package  is_python_package  \n0                  0                  1  \n1                  0                  1  \n2                  0                  1  \n3                  0                  1  \n4                  0                  1  ",
      "text/html": "<div>\n<style scoped>\n    .dataframe tbody tr th:only-of-type {\n        vertical-align: middle;\n    }\n\n    .dataframe tbody tr th {\n        vertical-align: top;\n    }\n\n    .dataframe thead th {\n        text-align: right;\n    }\n</style>\n<table border=\"1\" class=\"dataframe\">\n  <thead>\n    <tr style=\"text-align: right;\">\n      <th></th>\n      <th>project_name</th>\n      <th>package</th>\n      <th>count_different_import</th>\n      <th>is_kotlin_package</th>\n      <th>is_python_package</th>\n    </tr>\n  </thead>\n  <tbody>\n    <tr>\n      <th>0</th>\n      <td>01joy#news-search-engine</td>\n      <td>package#bs4</td>\n      <td>1</td>\n      <td>0</td>\n      <td>1</td>\n    </tr>\n    <tr>\n      <th>1</th>\n      <td>01joy#news-search-engine</td>\n      <td>package#datetime</td>\n      <td>2</td>\n      <td>0</td>\n      <td>1</td>\n    </tr>\n    <tr>\n      <th>2</th>\n      <td>01joy#news-search-engine</td>\n      <td>package#flask</td>\n      <td>3</td>\n      <td>0</td>\n      <td>1</td>\n    </tr>\n    <tr>\n      <th>3</th>\n      <td>01joy#news-search-engine</td>\n      <td>package#index</td>\n      <td>1</td>\n      <td>0</td>\n      <td>1</td>\n    </tr>\n    <tr>\n      <th>4</th>\n      <td>01joy#news-search-engine</td>\n      <td>package#jieba</td>\n      <td>1</td>\n      <td>0</td>\n      <td>1</td>\n    </tr>\n  </tbody>\n</table>\n</div>"
     },
     "execution_count": 6,
     "metadata": {},
     "output_type": "execute_result"
    }
   ],
   "source": [
    "# Rename each package name to avoid name collision with tag names\n",
    "intermediate_dataframe.package = intermediate_dataframe.package.apply(lambda x: f\"package#{x}\")\n",
    "intermediate_dataframe.head()"
   ],
   "metadata": {
    "collapsed": false,
    "pycharm": {
     "name": "#%%\n"
    }
   }
  },
  {
   "cell_type": "code",
   "execution_count": 7,
   "outputs": [
    {
     "data": {
      "text/plain": "package                   package#A  package#ACGAN  package#APDrawing  \\\nproject_name                                                            \n01joy#news-search-engine          0              0                  0   \n05bit#peewee-async                0              0                  0   \n0k#shyaml                         0              0                  0   \n0x00-0x00#ShellPop                0              0                  0   \n0xAX#linux-insides                0              0                  0   \n\npackage                   package#APDrawingGAN  package#APDrawingGAN.data  \\\nproject_name                                                                \n01joy#news-search-engine                     0                          0   \n05bit#peewee-async                           0                          0   \n0k#shyaml                                    0                          0   \n0x00-0x00#ShellPop                           0                          0   \n0xAX#linux-insides                           0                          0   \n\npackage                   package#APDrawingGAN.data.base_data_loader  \\\nproject_name                                                           \n01joy#news-search-engine                                           0   \n05bit#peewee-async                                                 0   \n0k#shyaml                                                          0   \n0x00-0x00#ShellPop                                                 0   \n0xAX#linux-insides                                                 0   \n\npackage                   package#APDrawingGAN.data.base_dataset  \\\nproject_name                                                       \n01joy#news-search-engine                                       0   \n05bit#peewee-async                                             0   \n0k#shyaml                                                      0   \n0x00-0x00#ShellPop                                             0   \n0xAX#linux-insides                                             0   \n\npackage                   package#APDrawingGAN.data.face_landmark  \\\nproject_name                                                        \n01joy#news-search-engine                                        0   \n05bit#peewee-async                                              0   \n0k#shyaml                                                       0   \n0x00-0x00#ShellPop                                              0   \n0xAX#linux-insides                                              0   \n\npackage                   package#APDrawingGAN.data.image_folder  \\\nproject_name                                                       \n01joy#news-search-engine                                       0   \n05bit#peewee-async                                             0   \n0k#shyaml                                                      0   \n0x00-0x00#ShellPop                                             0   \n0xAX#linux-insides                                             0   \n\npackage                   package#APDrawingGAN.models  ...  \\\nproject_name                                           ...   \n01joy#news-search-engine                            0  ...   \n05bit#peewee-async                                  0  ...   \n0k#shyaml                                           0  ...   \n0x00-0x00#ShellPop                                  0  ...   \n0xAX#linux-insides                                  0  ...   \n\npackage                   package#zwave_js_server.model.utils  \\\nproject_name                                                    \n01joy#news-search-engine                                    0   \n05bit#peewee-async                                          0   \n0k#shyaml                                                   0   \n0x00-0x00#ShellPop                                          0   \n0xAX#linux-insides                                          0   \n\npackage                   package#zwave_js_server.model.value  \\\nproject_name                                                    \n01joy#news-search-engine                                    0   \n05bit#peewee-async                                          0   \n0k#shyaml                                                   0   \n0x00-0x00#ShellPop                                          0   \n0xAX#linux-insides                                          0   \n\npackage                   package#zwave_js_server.util.command_class  \\\nproject_name                                                           \n01joy#news-search-engine                                           0   \n05bit#peewee-async                                                 0   \n0k#shyaml                                                          0   \n0x00-0x00#ShellPop                                                 0   \n0xAX#linux-insides                                                 0   \n\npackage                   package#zwave_js_server.util.lock  \\\nproject_name                                                  \n01joy#news-search-engine                                  0   \n05bit#peewee-async                                        0   \n0k#shyaml                                                 0   \n0x00-0x00#ShellPop                                        0   \n0xAX#linux-insides                                        0   \n\npackage                   package#zwave_js_server.util.multicast  \\\nproject_name                                                       \n01joy#news-search-engine                                       0   \n05bit#peewee-async                                             0   \n0k#shyaml                                                      0   \n0x00-0x00#ShellPop                                             0   \n0xAX#linux-insides                                             0   \n\npackage                   package#zwave_js_server.util.node  \\\nproject_name                                                  \n01joy#news-search-engine                                  0   \n05bit#peewee-async                                        0   \n0k#shyaml                                                 0   \n0x00-0x00#ShellPop                                        0   \n0xAX#linux-insides                                        0   \n\npackage                   package#zwave_js_server.version  \\\nproject_name                                                \n01joy#news-search-engine                                0   \n05bit#peewee-async                                      0   \n0k#shyaml                                               0   \n0x00-0x00#ShellPop                                      0   \n0xAX#linux-insides                                      0   \n\npackage                   package#zwave_me_ws  package#zxcvbn  \\\nproject_name                                                    \n01joy#news-search-engine                    0               0   \n05bit#peewee-async                          0               0   \n0k#shyaml                                   0               0   \n0x00-0x00#ShellPop                          0               0   \n0xAX#linux-insides                          0               0   \n\npackage                   package#zypp_plugin  \nproject_name                                   \n01joy#news-search-engine                    0  \n05bit#peewee-async                          0  \n0k#shyaml                                   0  \n0x00-0x00#ShellPop                          0  \n0xAX#linux-insides                          0  \n\n[5 rows x 15383 columns]",
      "text/html": "<div>\n<style scoped>\n    .dataframe tbody tr th:only-of-type {\n        vertical-align: middle;\n    }\n\n    .dataframe tbody tr th {\n        vertical-align: top;\n    }\n\n    .dataframe thead th {\n        text-align: right;\n    }\n</style>\n<table border=\"1\" class=\"dataframe\">\n  <thead>\n    <tr style=\"text-align: right;\">\n      <th>package</th>\n      <th>package#A</th>\n      <th>package#ACGAN</th>\n      <th>package#APDrawing</th>\n      <th>package#APDrawingGAN</th>\n      <th>package#APDrawingGAN.data</th>\n      <th>package#APDrawingGAN.data.base_data_loader</th>\n      <th>package#APDrawingGAN.data.base_dataset</th>\n      <th>package#APDrawingGAN.data.face_landmark</th>\n      <th>package#APDrawingGAN.data.image_folder</th>\n      <th>package#APDrawingGAN.models</th>\n      <th>...</th>\n      <th>package#zwave_js_server.model.utils</th>\n      <th>package#zwave_js_server.model.value</th>\n      <th>package#zwave_js_server.util.command_class</th>\n      <th>package#zwave_js_server.util.lock</th>\n      <th>package#zwave_js_server.util.multicast</th>\n      <th>package#zwave_js_server.util.node</th>\n      <th>package#zwave_js_server.version</th>\n      <th>package#zwave_me_ws</th>\n      <th>package#zxcvbn</th>\n      <th>package#zypp_plugin</th>\n    </tr>\n    <tr>\n      <th>project_name</th>\n      <th></th>\n      <th></th>\n      <th></th>\n      <th></th>\n      <th></th>\n      <th></th>\n      <th></th>\n      <th></th>\n      <th></th>\n      <th></th>\n      <th></th>\n      <th></th>\n      <th></th>\n      <th></th>\n      <th></th>\n      <th></th>\n      <th></th>\n      <th></th>\n      <th></th>\n      <th></th>\n      <th></th>\n    </tr>\n  </thead>\n  <tbody>\n    <tr>\n      <th>01joy#news-search-engine</th>\n      <td>0</td>\n      <td>0</td>\n      <td>0</td>\n      <td>0</td>\n      <td>0</td>\n      <td>0</td>\n      <td>0</td>\n      <td>0</td>\n      <td>0</td>\n      <td>0</td>\n      <td>...</td>\n      <td>0</td>\n      <td>0</td>\n      <td>0</td>\n      <td>0</td>\n      <td>0</td>\n      <td>0</td>\n      <td>0</td>\n      <td>0</td>\n      <td>0</td>\n      <td>0</td>\n    </tr>\n    <tr>\n      <th>05bit#peewee-async</th>\n      <td>0</td>\n      <td>0</td>\n      <td>0</td>\n      <td>0</td>\n      <td>0</td>\n      <td>0</td>\n      <td>0</td>\n      <td>0</td>\n      <td>0</td>\n      <td>0</td>\n      <td>...</td>\n      <td>0</td>\n      <td>0</td>\n      <td>0</td>\n      <td>0</td>\n      <td>0</td>\n      <td>0</td>\n      <td>0</td>\n      <td>0</td>\n      <td>0</td>\n      <td>0</td>\n    </tr>\n    <tr>\n      <th>0k#shyaml</th>\n      <td>0</td>\n      <td>0</td>\n      <td>0</td>\n      <td>0</td>\n      <td>0</td>\n      <td>0</td>\n      <td>0</td>\n      <td>0</td>\n      <td>0</td>\n      <td>0</td>\n      <td>...</td>\n      <td>0</td>\n      <td>0</td>\n      <td>0</td>\n      <td>0</td>\n      <td>0</td>\n      <td>0</td>\n      <td>0</td>\n      <td>0</td>\n      <td>0</td>\n      <td>0</td>\n    </tr>\n    <tr>\n      <th>0x00-0x00#ShellPop</th>\n      <td>0</td>\n      <td>0</td>\n      <td>0</td>\n      <td>0</td>\n      <td>0</td>\n      <td>0</td>\n      <td>0</td>\n      <td>0</td>\n      <td>0</td>\n      <td>0</td>\n      <td>...</td>\n      <td>0</td>\n      <td>0</td>\n      <td>0</td>\n      <td>0</td>\n      <td>0</td>\n      <td>0</td>\n      <td>0</td>\n      <td>0</td>\n      <td>0</td>\n      <td>0</td>\n    </tr>\n    <tr>\n      <th>0xAX#linux-insides</th>\n      <td>0</td>\n      <td>0</td>\n      <td>0</td>\n      <td>0</td>\n      <td>0</td>\n      <td>0</td>\n      <td>0</td>\n      <td>0</td>\n      <td>0</td>\n      <td>0</td>\n      <td>...</td>\n      <td>0</td>\n      <td>0</td>\n      <td>0</td>\n      <td>0</td>\n      <td>0</td>\n      <td>0</td>\n      <td>0</td>\n      <td>0</td>\n      <td>0</td>\n      <td>0</td>\n    </tr>\n  </tbody>\n</table>\n<p>5 rows × 15383 columns</p>\n</div>"
     },
     "execution_count": 7,
     "metadata": {},
     "output_type": "execute_result"
    }
   ],
   "source": [
    "pivot_package_dataframe = intermediate_dataframe.pivot_table(index=\"project_name\", columns=\"package\", values=\"count_different_import\", fill_value=0)\n",
    "pivot_package_dataframe.head()"
   ],
   "metadata": {
    "collapsed": false,
    "pycharm": {
     "name": "#%%\n"
    }
   }
  },
  {
   "cell_type": "code",
   "execution_count": 8,
   "outputs": [
    {
     "data": {
      "text/plain": "(2853, 15383)"
     },
     "execution_count": 8,
     "metadata": {},
     "output_type": "execute_result"
    }
   ],
   "source": [
    "pivot_package_dataframe.shape"
   ],
   "metadata": {
    "collapsed": false,
    "pycharm": {
     "name": "#%%\n"
    }
   }
  },
  {
   "cell_type": "code",
   "execution_count": 9,
   "outputs": [
    {
     "data": {
      "text/plain": "0    2852\n1       1\nName: package#APDrawingGAN.models, dtype: int64"
     },
     "execution_count": 9,
     "metadata": {},
     "output_type": "execute_result"
    }
   ],
   "source": [
    "# So it's ok\n",
    "pivot_package_dataframe[\"package#APDrawingGAN.models\"].value_counts()"
   ],
   "metadata": {
    "collapsed": false,
    "pycharm": {
     "name": "#%%\n"
    }
   }
  },
  {
   "cell_type": "markdown",
   "source": [
    "## Extencion features extraction"
   ],
   "metadata": {
    "collapsed": false,
    "pycharm": {
     "name": "#%% md\n"
    }
   }
  },
  {
   "cell_type": "code",
   "execution_count": 10,
   "outputs": [
    {
     "data": {
      "text/plain": "          project_name   ext  count\n0  donnemartin#gitsome  .yml      4\n1  donnemartin#gitsome   NaN     30\n2  donnemartin#gitsome   .md     10\n3  donnemartin#gitsome   .py    345\n4  donnemartin#gitsome  .txt      3",
      "text/html": "<div>\n<style scoped>\n    .dataframe tbody tr th:only-of-type {\n        vertical-align: middle;\n    }\n\n    .dataframe tbody tr th {\n        vertical-align: top;\n    }\n\n    .dataframe thead th {\n        text-align: right;\n    }\n</style>\n<table border=\"1\" class=\"dataframe\">\n  <thead>\n    <tr style=\"text-align: right;\">\n      <th></th>\n      <th>project_name</th>\n      <th>ext</th>\n      <th>count</th>\n    </tr>\n  </thead>\n  <tbody>\n    <tr>\n      <th>0</th>\n      <td>donnemartin#gitsome</td>\n      <td>.yml</td>\n      <td>4</td>\n    </tr>\n    <tr>\n      <th>1</th>\n      <td>donnemartin#gitsome</td>\n      <td>NaN</td>\n      <td>30</td>\n    </tr>\n    <tr>\n      <th>2</th>\n      <td>donnemartin#gitsome</td>\n      <td>.md</td>\n      <td>10</td>\n    </tr>\n    <tr>\n      <th>3</th>\n      <td>donnemartin#gitsome</td>\n      <td>.py</td>\n      <td>345</td>\n    </tr>\n    <tr>\n      <th>4</th>\n      <td>donnemartin#gitsome</td>\n      <td>.txt</td>\n      <td>3</td>\n    </tr>\n  </tbody>\n</table>\n</div>"
     },
     "execution_count": 10,
     "metadata": {},
     "output_type": "execute_result"
    }
   ],
   "source": [
    "# Load ext count dataset\n",
    "ext_count_dataset = pd.read_csv(\"../data/ext_count/full_ext_count_dataset.csv\", index_col=0)\n",
    "ext_count_dataset.head()"
   ],
   "metadata": {
    "collapsed": false,
    "pycharm": {
     "name": "#%%\n"
    }
   }
  },
  {
   "cell_type": "code",
   "execution_count": 11,
   "outputs": [
    {
     "data": {
      "text/plain": "(79546, 3)"
     },
     "execution_count": 11,
     "metadata": {},
     "output_type": "execute_result"
    }
   ],
   "source": [
    "ext_count_dataset.shape"
   ],
   "metadata": {
    "collapsed": false,
    "pycharm": {
     "name": "#%%\n"
    }
   }
  },
  {
   "cell_type": "code",
   "execution_count": 12,
   "outputs": [],
   "source": [
    "ext_count_dataset = ext_count_dataset.dropna()"
   ],
   "metadata": {
    "collapsed": false,
    "pycharm": {
     "name": "#%%\n"
    }
   }
  },
  {
   "cell_type": "code",
   "execution_count": 13,
   "outputs": [
    {
     "data": {
      "text/plain": "(75348, 3)"
     },
     "execution_count": 13,
     "metadata": {},
     "output_type": "execute_result"
    }
   ],
   "source": [
    "ext_count_dataset.shape"
   ],
   "metadata": {
    "collapsed": false,
    "pycharm": {
     "name": "#%%\n"
    }
   }
  },
  {
   "cell_type": "code",
   "execution_count": 14,
   "outputs": [
    {
     "data": {
      "text/plain": "          project_name             ext  count\n0  donnemartin#gitsome  extension#.yml      4\n2  donnemartin#gitsome   extension#.md     10\n3  donnemartin#gitsome   extension#.py    345\n4  donnemartin#gitsome  extension#.txt      3\n5  donnemartin#gitsome  extension#.ini      1",
      "text/html": "<div>\n<style scoped>\n    .dataframe tbody tr th:only-of-type {\n        vertical-align: middle;\n    }\n\n    .dataframe tbody tr th {\n        vertical-align: top;\n    }\n\n    .dataframe thead th {\n        text-align: right;\n    }\n</style>\n<table border=\"1\" class=\"dataframe\">\n  <thead>\n    <tr style=\"text-align: right;\">\n      <th></th>\n      <th>project_name</th>\n      <th>ext</th>\n      <th>count</th>\n    </tr>\n  </thead>\n  <tbody>\n    <tr>\n      <th>0</th>\n      <td>donnemartin#gitsome</td>\n      <td>extension#.yml</td>\n      <td>4</td>\n    </tr>\n    <tr>\n      <th>2</th>\n      <td>donnemartin#gitsome</td>\n      <td>extension#.md</td>\n      <td>10</td>\n    </tr>\n    <tr>\n      <th>3</th>\n      <td>donnemartin#gitsome</td>\n      <td>extension#.py</td>\n      <td>345</td>\n    </tr>\n    <tr>\n      <th>4</th>\n      <td>donnemartin#gitsome</td>\n      <td>extension#.txt</td>\n      <td>3</td>\n    </tr>\n    <tr>\n      <th>5</th>\n      <td>donnemartin#gitsome</td>\n      <td>extension#.ini</td>\n      <td>1</td>\n    </tr>\n  </tbody>\n</table>\n</div>"
     },
     "execution_count": 14,
     "metadata": {},
     "output_type": "execute_result"
    }
   ],
   "source": [
    "ext_count_dataset.ext = ext_count_dataset.ext.apply(lambda x: f\"extension#{x}\")\n",
    "ext_count_dataset.head()"
   ],
   "metadata": {
    "collapsed": false,
    "pycharm": {
     "name": "#%%\n"
    }
   }
  },
  {
   "cell_type": "code",
   "execution_count": 15,
   "outputs": [
    {
     "data": {
      "text/plain": "ext                       extension#.  extension#.0  extension#.0+  \\\nproject_name                                                         \n01joy#news-search-engine            0             0              0   \n05bit#peewee-async                  0             0              0   \n0k#shyaml                           0             0              0   \n0x00-0x00#ShellPop                  0             0              0   \n0xAX#linux-insides                  0             0              0   \n\next                       extension#.0-AT  \\\nproject_name                                \n01joy#news-search-engine                0   \n05bit#peewee-async                      0   \n0k#shyaml                               0   \n0x00-0x00#ShellPop                      0   \n0xAX#linux-insides                      0   \n\next                       extension#.0-Combined-Work-Exception  \\\nproject_name                                                     \n01joy#news-search-engine                                     0   \n05bit#peewee-async                                           0   \n0k#shyaml                                                    0   \n0x00-0x00#ShellPop                                           0   \n0xAX#linux-insides                                           0   \n\next                       extension#.0-DE  extension#.0-FR  extension#.0-IGO  \\\nproject_name                                                                   \n01joy#news-search-engine                0                0                 0   \n05bit#peewee-async                      0                0                 0   \n0k#shyaml                               0                0                 0   \n0x00-0x00#ShellPop                      0                0                 0   \n0xAX#linux-insides                      0                0                 0   \n\next                       extension#.0-NL  extension#.0-Perl  ...  \\\nproject_name                                                  ...   \n01joy#news-search-engine                0                  0  ...   \n05bit#peewee-async                      0                  0  ...   \n0k#shyaml                               0                  0  ...   \n0x00-0x00#ShellPop                      0                  0  ...   \n0xAX#linux-insides                      0                  0  ...   \n\next                       extension#.zktx  extension#.zlib  extension#.zmpl  \\\nproject_name                                                                  \n01joy#news-search-engine                0                0                0   \n05bit#peewee-async                      0                0                0   \n0k#shyaml                               0                0                0   \n0x00-0x00#ShellPop                      0                0                0   \n0xAX#linux-insides                      0                0                0   \n\next                       extension#.zone  extension#.zoneinfo  \\\nproject_name                                                     \n01joy#news-search-engine                0                    0   \n05bit#peewee-async                      0                    0   \n0k#shyaml                               0                    0   \n0x00-0x00#ShellPop                      0                    0   \n0xAX#linux-insides                      0                    0   \n\next                       extension#.zpln  extension#.zraw  extension#.zsh  \\\nproject_name                                                                 \n01joy#news-search-engine                0                0               0   \n05bit#peewee-async                      0                0               0   \n0k#shyaml                               0                0               0   \n0x00-0x00#ShellPop                      0                0               0   \n0xAX#linux-insides                      0                0               0   \n\next                       extension#.zst  extension#.zzz  \nproject_name                                              \n01joy#news-search-engine               0               0  \n05bit#peewee-async                     0               0  \n0k#shyaml                              0               0  \n0x00-0x00#ShellPop                     0               0  \n0xAX#linux-insides                     0               0  \n\n[5 rows x 3852 columns]",
      "text/html": "<div>\n<style scoped>\n    .dataframe tbody tr th:only-of-type {\n        vertical-align: middle;\n    }\n\n    .dataframe tbody tr th {\n        vertical-align: top;\n    }\n\n    .dataframe thead th {\n        text-align: right;\n    }\n</style>\n<table border=\"1\" class=\"dataframe\">\n  <thead>\n    <tr style=\"text-align: right;\">\n      <th>ext</th>\n      <th>extension#.</th>\n      <th>extension#.0</th>\n      <th>extension#.0+</th>\n      <th>extension#.0-AT</th>\n      <th>extension#.0-Combined-Work-Exception</th>\n      <th>extension#.0-DE</th>\n      <th>extension#.0-FR</th>\n      <th>extension#.0-IGO</th>\n      <th>extension#.0-NL</th>\n      <th>extension#.0-Perl</th>\n      <th>...</th>\n      <th>extension#.zktx</th>\n      <th>extension#.zlib</th>\n      <th>extension#.zmpl</th>\n      <th>extension#.zone</th>\n      <th>extension#.zoneinfo</th>\n      <th>extension#.zpln</th>\n      <th>extension#.zraw</th>\n      <th>extension#.zsh</th>\n      <th>extension#.zst</th>\n      <th>extension#.zzz</th>\n    </tr>\n    <tr>\n      <th>project_name</th>\n      <th></th>\n      <th></th>\n      <th></th>\n      <th></th>\n      <th></th>\n      <th></th>\n      <th></th>\n      <th></th>\n      <th></th>\n      <th></th>\n      <th></th>\n      <th></th>\n      <th></th>\n      <th></th>\n      <th></th>\n      <th></th>\n      <th></th>\n      <th></th>\n      <th></th>\n      <th></th>\n      <th></th>\n    </tr>\n  </thead>\n  <tbody>\n    <tr>\n      <th>01joy#news-search-engine</th>\n      <td>0</td>\n      <td>0</td>\n      <td>0</td>\n      <td>0</td>\n      <td>0</td>\n      <td>0</td>\n      <td>0</td>\n      <td>0</td>\n      <td>0</td>\n      <td>0</td>\n      <td>...</td>\n      <td>0</td>\n      <td>0</td>\n      <td>0</td>\n      <td>0</td>\n      <td>0</td>\n      <td>0</td>\n      <td>0</td>\n      <td>0</td>\n      <td>0</td>\n      <td>0</td>\n    </tr>\n    <tr>\n      <th>05bit#peewee-async</th>\n      <td>0</td>\n      <td>0</td>\n      <td>0</td>\n      <td>0</td>\n      <td>0</td>\n      <td>0</td>\n      <td>0</td>\n      <td>0</td>\n      <td>0</td>\n      <td>0</td>\n      <td>...</td>\n      <td>0</td>\n      <td>0</td>\n      <td>0</td>\n      <td>0</td>\n      <td>0</td>\n      <td>0</td>\n      <td>0</td>\n      <td>0</td>\n      <td>0</td>\n      <td>0</td>\n    </tr>\n    <tr>\n      <th>0k#shyaml</th>\n      <td>0</td>\n      <td>0</td>\n      <td>0</td>\n      <td>0</td>\n      <td>0</td>\n      <td>0</td>\n      <td>0</td>\n      <td>0</td>\n      <td>0</td>\n      <td>0</td>\n      <td>...</td>\n      <td>0</td>\n      <td>0</td>\n      <td>0</td>\n      <td>0</td>\n      <td>0</td>\n      <td>0</td>\n      <td>0</td>\n      <td>0</td>\n      <td>0</td>\n      <td>0</td>\n    </tr>\n    <tr>\n      <th>0x00-0x00#ShellPop</th>\n      <td>0</td>\n      <td>0</td>\n      <td>0</td>\n      <td>0</td>\n      <td>0</td>\n      <td>0</td>\n      <td>0</td>\n      <td>0</td>\n      <td>0</td>\n      <td>0</td>\n      <td>...</td>\n      <td>0</td>\n      <td>0</td>\n      <td>0</td>\n      <td>0</td>\n      <td>0</td>\n      <td>0</td>\n      <td>0</td>\n      <td>0</td>\n      <td>0</td>\n      <td>0</td>\n    </tr>\n    <tr>\n      <th>0xAX#linux-insides</th>\n      <td>0</td>\n      <td>0</td>\n      <td>0</td>\n      <td>0</td>\n      <td>0</td>\n      <td>0</td>\n      <td>0</td>\n      <td>0</td>\n      <td>0</td>\n      <td>0</td>\n      <td>...</td>\n      <td>0</td>\n      <td>0</td>\n      <td>0</td>\n      <td>0</td>\n      <td>0</td>\n      <td>0</td>\n      <td>0</td>\n      <td>0</td>\n      <td>0</td>\n      <td>0</td>\n    </tr>\n  </tbody>\n</table>\n<p>5 rows × 3852 columns</p>\n</div>"
     },
     "execution_count": 15,
     "metadata": {},
     "output_type": "execute_result"
    }
   ],
   "source": [
    "pivot_ext_count_dataset = ext_count_dataset.pivot_table(index=\"project_name\", columns=\"ext\", values=\"count\", fill_value=0)\n",
    "pivot_ext_count_dataset.head()"
   ],
   "metadata": {
    "collapsed": false,
    "pycharm": {
     "name": "#%%\n"
    }
   }
  },
  {
   "cell_type": "code",
   "execution_count": 16,
   "outputs": [
    {
     "data": {
      "text/plain": "(3404, 3852)"
     },
     "execution_count": 16,
     "metadata": {},
     "output_type": "execute_result"
    }
   ],
   "source": [
    "pivot_ext_count_dataset.shape"
   ],
   "metadata": {
    "collapsed": false,
    "pycharm": {
     "name": "#%%\n"
    }
   }
  },
  {
   "cell_type": "code",
   "execution_count": 17,
   "outputs": [
    {
     "data": {
      "text/plain": "0    3403\n1       1\nName: extension#.0-Perl, dtype: int64"
     },
     "execution_count": 17,
     "metadata": {},
     "output_type": "execute_result"
    }
   ],
   "source": [
    "# So it's ok\n",
    "pivot_ext_count_dataset[\"extension#.0-Perl\"].value_counts()"
   ],
   "metadata": {
    "collapsed": false,
    "pycharm": {
     "name": "#%%\n"
    }
   }
  },
  {
   "cell_type": "markdown",
   "source": [
    "## Kaggle dataset"
   ],
   "metadata": {
    "collapsed": false,
    "pycharm": {
     "name": "#%% md\n"
    }
   }
  },
  {
   "cell_type": "code",
   "execution_count": 18,
   "outputs": [
    {
     "data": {
      "text/plain": "  topic                name         owner    owner_type  \\\n0    3d  SpaceshipGenerator  a1studmuffin          User   \n1    3d          BlenderGIS       domlysz          User   \n2    3d               PRNet       YadiraF          User   \n3    3d               3DDFA     cleardusk          User   \n4    3d              armory      armory3d  Organization   \n\n                         full_name  \\\n0  a1studmuffin/SpaceshipGenerator   \n1               domlysz/BlenderGIS   \n2                    YadiraF/PRNet   \n3                  cleardusk/3DDFA   \n4                  armory3d/armory   \n\n                                         description og_image  \\\n0  A Blender script to procedurally generate 3D s...      NaN   \n1                                                NaN      NaN   \n2  Joint 3D Face Reconstruction and Dense Alignme...      NaN   \n3  The PyTorch improved version of TPAMI 2017 pap...      NaN   \n4                                                NaN      NaN   \n\n                           license  is_archived  is_forked  ...  open_issues  \\\n0                            Other        False      False  ...           13   \n1  GNU General Public License v3.0        False      False  ...          155   \n2                      MIT License        False      False  ...          160   \n3                      MIT License        False      False  ...           51   \n4                     zlib License        False      False  ...          310   \n\n  forks stars  watchers  has_wiki  has_pages  has_sponsorship  \\\n0   391  7100      7100      True      False            False   \n1   923  5047      5047      True      False            False   \n2   919  4574      4574      True      False            False   \n3   621  3223      3223     False      False            False   \n4   263  2421      2421      True      False            False   \n\n             created_at            updated_at  \\\n0  2016-06-14T03:16:07Z  2022-04-06T16:55:48Z   \n1  2014-05-08T14:48:25Z  2022-04-08T00:59:56Z   \n2  2018-03-20T11:44:06Z  2022-04-08T03:00:19Z   \n3  2018-06-29T14:19:21Z  2022-04-07T07:47:09Z   \n4  2015-10-29T18:27:56Z  2022-04-06T21:17:40Z   \n\n                                                repo  \n0  https://github.com/a1studmuffin/SpaceshipGener...  \n1              https://github.com/domlysz/BlenderGIS  \n2                   https://github.com/YadiraF/PRNet  \n3                 https://github.com/cleardusk/3DDFA  \n4                 https://github.com/armory3d/armory  \n\n[5 rows x 23 columns]",
      "text/html": "<div>\n<style scoped>\n    .dataframe tbody tr th:only-of-type {\n        vertical-align: middle;\n    }\n\n    .dataframe tbody tr th {\n        vertical-align: top;\n    }\n\n    .dataframe thead th {\n        text-align: right;\n    }\n</style>\n<table border=\"1\" class=\"dataframe\">\n  <thead>\n    <tr style=\"text-align: right;\">\n      <th></th>\n      <th>topic</th>\n      <th>name</th>\n      <th>owner</th>\n      <th>owner_type</th>\n      <th>full_name</th>\n      <th>description</th>\n      <th>og_image</th>\n      <th>license</th>\n      <th>is_archived</th>\n      <th>is_forked</th>\n      <th>...</th>\n      <th>open_issues</th>\n      <th>forks</th>\n      <th>stars</th>\n      <th>watchers</th>\n      <th>has_wiki</th>\n      <th>has_pages</th>\n      <th>has_sponsorship</th>\n      <th>created_at</th>\n      <th>updated_at</th>\n      <th>repo</th>\n    </tr>\n  </thead>\n  <tbody>\n    <tr>\n      <th>0</th>\n      <td>3d</td>\n      <td>SpaceshipGenerator</td>\n      <td>a1studmuffin</td>\n      <td>User</td>\n      <td>a1studmuffin/SpaceshipGenerator</td>\n      <td>A Blender script to procedurally generate 3D s...</td>\n      <td>NaN</td>\n      <td>Other</td>\n      <td>False</td>\n      <td>False</td>\n      <td>...</td>\n      <td>13</td>\n      <td>391</td>\n      <td>7100</td>\n      <td>7100</td>\n      <td>True</td>\n      <td>False</td>\n      <td>False</td>\n      <td>2016-06-14T03:16:07Z</td>\n      <td>2022-04-06T16:55:48Z</td>\n      <td>https://github.com/a1studmuffin/SpaceshipGener...</td>\n    </tr>\n    <tr>\n      <th>1</th>\n      <td>3d</td>\n      <td>BlenderGIS</td>\n      <td>domlysz</td>\n      <td>User</td>\n      <td>domlysz/BlenderGIS</td>\n      <td>NaN</td>\n      <td>NaN</td>\n      <td>GNU General Public License v3.0</td>\n      <td>False</td>\n      <td>False</td>\n      <td>...</td>\n      <td>155</td>\n      <td>923</td>\n      <td>5047</td>\n      <td>5047</td>\n      <td>True</td>\n      <td>False</td>\n      <td>False</td>\n      <td>2014-05-08T14:48:25Z</td>\n      <td>2022-04-08T00:59:56Z</td>\n      <td>https://github.com/domlysz/BlenderGIS</td>\n    </tr>\n    <tr>\n      <th>2</th>\n      <td>3d</td>\n      <td>PRNet</td>\n      <td>YadiraF</td>\n      <td>User</td>\n      <td>YadiraF/PRNet</td>\n      <td>Joint 3D Face Reconstruction and Dense Alignme...</td>\n      <td>NaN</td>\n      <td>MIT License</td>\n      <td>False</td>\n      <td>False</td>\n      <td>...</td>\n      <td>160</td>\n      <td>919</td>\n      <td>4574</td>\n      <td>4574</td>\n      <td>True</td>\n      <td>False</td>\n      <td>False</td>\n      <td>2018-03-20T11:44:06Z</td>\n      <td>2022-04-08T03:00:19Z</td>\n      <td>https://github.com/YadiraF/PRNet</td>\n    </tr>\n    <tr>\n      <th>3</th>\n      <td>3d</td>\n      <td>3DDFA</td>\n      <td>cleardusk</td>\n      <td>User</td>\n      <td>cleardusk/3DDFA</td>\n      <td>The PyTorch improved version of TPAMI 2017 pap...</td>\n      <td>NaN</td>\n      <td>MIT License</td>\n      <td>False</td>\n      <td>False</td>\n      <td>...</td>\n      <td>51</td>\n      <td>621</td>\n      <td>3223</td>\n      <td>3223</td>\n      <td>False</td>\n      <td>False</td>\n      <td>False</td>\n      <td>2018-06-29T14:19:21Z</td>\n      <td>2022-04-07T07:47:09Z</td>\n      <td>https://github.com/cleardusk/3DDFA</td>\n    </tr>\n    <tr>\n      <th>4</th>\n      <td>3d</td>\n      <td>armory</td>\n      <td>armory3d</td>\n      <td>Organization</td>\n      <td>armory3d/armory</td>\n      <td>NaN</td>\n      <td>NaN</td>\n      <td>zlib License</td>\n      <td>False</td>\n      <td>False</td>\n      <td>...</td>\n      <td>310</td>\n      <td>263</td>\n      <td>2421</td>\n      <td>2421</td>\n      <td>True</td>\n      <td>False</td>\n      <td>False</td>\n      <td>2015-10-29T18:27:56Z</td>\n      <td>2022-04-06T21:17:40Z</td>\n      <td>https://github.com/armory3d/armory</td>\n    </tr>\n  </tbody>\n</table>\n<p>5 rows × 23 columns</p>\n</div>"
     },
     "execution_count": 18,
     "metadata": {},
     "output_type": "execute_result"
    }
   ],
   "source": [
    "# Load kaggle_repos dataframe\n",
    "kaggle_repos_dataframe = pd.read_csv(\"../data/kaggle_repos.csv\")\n",
    "kaggle_repos_dataframe.head()"
   ],
   "metadata": {
    "collapsed": false,
    "pycharm": {
     "name": "#%%\n"
    }
   }
  },
  {
   "cell_type": "code",
   "execution_count": 19,
   "outputs": [
    {
     "data": {
      "text/plain": "Index(['topic', 'name', 'owner', 'owner_type', 'full_name', 'description',\n       'og_image', 'license', 'is_archived', 'is_forked', 'size', 'language',\n       'tags', 'open_issues', 'forks', 'stars', 'watchers', 'has_wiki',\n       'has_pages', 'has_sponsorship', 'created_at', 'updated_at', 'repo'],\n      dtype='object')"
     },
     "execution_count": 19,
     "metadata": {},
     "output_type": "execute_result"
    }
   ],
   "source": [
    "kaggle_repos_dataframe.columns"
   ],
   "metadata": {
    "collapsed": false,
    "pycharm": {
     "name": "#%%\n"
    }
   }
  },
  {
   "cell_type": "code",
   "execution_count": 20,
   "outputs": [
    {
     "data": {
      "text/plain": "0    a1studmuffin#SpaceshipGenerator\n1                 domlysz#BlenderGIS\n2                      YadiraF#PRNet\n3                    cleardusk#3DDFA\n4                    armory3d#armory\nName: project_name, dtype: object"
     },
     "execution_count": 20,
     "metadata": {},
     "output_type": "execute_result"
    }
   ],
   "source": [
    "# Prepare column for join\n",
    "kaggle_repos_dataframe[\"project_name\"] = kaggle_repos_dataframe[\"owner\"] + \"#\" + kaggle_repos_dataframe[\"name\"]\n",
    "kaggle_repos_dataframe[\"project_name\"].head()"
   ],
   "metadata": {
    "collapsed": false,
    "pycharm": {
     "name": "#%%\n"
    }
   }
  },
  {
   "cell_type": "markdown",
   "source": [
    "## Repos tags extraction"
   ],
   "metadata": {
    "collapsed": false,
    "pycharm": {
     "name": "#%% md\n"
    }
   }
  },
  {
   "cell_type": "code",
   "execution_count": 21,
   "outputs": [
    {
     "data": {
      "text/plain": "                      project_name  \\\n0  a1studmuffin#SpaceshipGenerator   \n1               domlysz#BlenderGIS   \n2                    YadiraF#PRNet   \n3                  cleardusk#3DDFA   \n4                  armory3d#armory   \n\n                                                tags  \n0  ['python', 'procedural-generation', 'blender-s...  \n1                                                 []  \n2  ['swap', 'face', 'alignment', 'reconstruction'...  \n3  ['python', 'computer-vision', 'deep-learning',...  \n4                                                 []  ",
      "text/html": "<div>\n<style scoped>\n    .dataframe tbody tr th:only-of-type {\n        vertical-align: middle;\n    }\n\n    .dataframe tbody tr th {\n        vertical-align: top;\n    }\n\n    .dataframe thead th {\n        text-align: right;\n    }\n</style>\n<table border=\"1\" class=\"dataframe\">\n  <thead>\n    <tr style=\"text-align: right;\">\n      <th></th>\n      <th>project_name</th>\n      <th>tags</th>\n    </tr>\n  </thead>\n  <tbody>\n    <tr>\n      <th>0</th>\n      <td>a1studmuffin#SpaceshipGenerator</td>\n      <td>['python', 'procedural-generation', 'blender-s...</td>\n    </tr>\n    <tr>\n      <th>1</th>\n      <td>domlysz#BlenderGIS</td>\n      <td>[]</td>\n    </tr>\n    <tr>\n      <th>2</th>\n      <td>YadiraF#PRNet</td>\n      <td>['swap', 'face', 'alignment', 'reconstruction'...</td>\n    </tr>\n    <tr>\n      <th>3</th>\n      <td>cleardusk#3DDFA</td>\n      <td>['python', 'computer-vision', 'deep-learning',...</td>\n    </tr>\n    <tr>\n      <th>4</th>\n      <td>armory3d#armory</td>\n      <td>[]</td>\n    </tr>\n  </tbody>\n</table>\n</div>"
     },
     "execution_count": 21,
     "metadata": {},
     "output_type": "execute_result"
    }
   ],
   "source": [
    "kaggle_repos_dataframe_tags = kaggle_repos_dataframe[[\"project_name\", \"tags\"]]\n",
    "kaggle_repos_dataframe_tags.head()"
   ],
   "metadata": {
    "collapsed": false,
    "pycharm": {
     "name": "#%%\n"
    }
   }
  },
  {
   "cell_type": "code",
   "execution_count": 22,
   "outputs": [
    {
     "name": "stderr",
     "output_type": "stream",
     "text": [
      "/tmp/ipykernel_19291/152348957.py:1: SettingWithCopyWarning: \n",
      "A value is trying to be set on a copy of a slice from a DataFrame.\n",
      "Try using .loc[row_indexer,col_indexer] = value instead\n",
      "\n",
      "See the caveats in the documentation: https://pandas.pydata.org/pandas-docs/stable/user_guide/indexing.html#returning-a-view-versus-a-copy\n",
      "  kaggle_repos_dataframe_tags.tags = kaggle_repos_dataframe_tags.tags.apply(ast.literal_eval)\n"
     ]
    },
    {
     "data": {
      "text/plain": "                      project_name  \\\n0  a1studmuffin#SpaceshipGenerator   \n1               domlysz#BlenderGIS   \n2                    YadiraF#PRNet   \n3                  cleardusk#3DDFA   \n4                  armory3d#armory   \n\n                                                tags  \n0  [python, procedural-generation, blender-script...  \n1                                                 []  \n2        [swap, face, alignment, reconstruction, 3d]  \n3  [python, computer-vision, deep-learning, pytor...  \n4                                                 []  ",
      "text/html": "<div>\n<style scoped>\n    .dataframe tbody tr th:only-of-type {\n        vertical-align: middle;\n    }\n\n    .dataframe tbody tr th {\n        vertical-align: top;\n    }\n\n    .dataframe thead th {\n        text-align: right;\n    }\n</style>\n<table border=\"1\" class=\"dataframe\">\n  <thead>\n    <tr style=\"text-align: right;\">\n      <th></th>\n      <th>project_name</th>\n      <th>tags</th>\n    </tr>\n  </thead>\n  <tbody>\n    <tr>\n      <th>0</th>\n      <td>a1studmuffin#SpaceshipGenerator</td>\n      <td>[python, procedural-generation, blender-script...</td>\n    </tr>\n    <tr>\n      <th>1</th>\n      <td>domlysz#BlenderGIS</td>\n      <td>[]</td>\n    </tr>\n    <tr>\n      <th>2</th>\n      <td>YadiraF#PRNet</td>\n      <td>[swap, face, alignment, reconstruction, 3d]</td>\n    </tr>\n    <tr>\n      <th>3</th>\n      <td>cleardusk#3DDFA</td>\n      <td>[python, computer-vision, deep-learning, pytor...</td>\n    </tr>\n    <tr>\n      <th>4</th>\n      <td>armory3d#armory</td>\n      <td>[]</td>\n    </tr>\n  </tbody>\n</table>\n</div>"
     },
     "execution_count": 22,
     "metadata": {},
     "output_type": "execute_result"
    }
   ],
   "source": [
    "kaggle_repos_dataframe_tags.tags = kaggle_repos_dataframe_tags.tags.apply(ast.literal_eval)\n",
    "kaggle_repos_dataframe_tags.head()"
   ],
   "metadata": {
    "collapsed": false,
    "pycharm": {
     "name": "#%%\n"
    }
   }
  },
  {
   "cell_type": "code",
   "execution_count": 23,
   "outputs": [
    {
     "data": {
      "text/plain": "                      project_name                   tags\n0  a1studmuffin#SpaceshipGenerator                 python\n0  a1studmuffin#SpaceshipGenerator  procedural-generation\n0  a1studmuffin#SpaceshipGenerator        blender-scripts\n0  a1studmuffin#SpaceshipGenerator       game-development\n0  a1studmuffin#SpaceshipGenerator                     3d",
      "text/html": "<div>\n<style scoped>\n    .dataframe tbody tr th:only-of-type {\n        vertical-align: middle;\n    }\n\n    .dataframe tbody tr th {\n        vertical-align: top;\n    }\n\n    .dataframe thead th {\n        text-align: right;\n    }\n</style>\n<table border=\"1\" class=\"dataframe\">\n  <thead>\n    <tr style=\"text-align: right;\">\n      <th></th>\n      <th>project_name</th>\n      <th>tags</th>\n    </tr>\n  </thead>\n  <tbody>\n    <tr>\n      <th>0</th>\n      <td>a1studmuffin#SpaceshipGenerator</td>\n      <td>python</td>\n    </tr>\n    <tr>\n      <th>0</th>\n      <td>a1studmuffin#SpaceshipGenerator</td>\n      <td>procedural-generation</td>\n    </tr>\n    <tr>\n      <th>0</th>\n      <td>a1studmuffin#SpaceshipGenerator</td>\n      <td>blender-scripts</td>\n    </tr>\n    <tr>\n      <th>0</th>\n      <td>a1studmuffin#SpaceshipGenerator</td>\n      <td>game-development</td>\n    </tr>\n    <tr>\n      <th>0</th>\n      <td>a1studmuffin#SpaceshipGenerator</td>\n      <td>3d</td>\n    </tr>\n  </tbody>\n</table>\n</div>"
     },
     "execution_count": 23,
     "metadata": {},
     "output_type": "execute_result"
    }
   ],
   "source": [
    "# Prepare dataset for pivot\n",
    "kaggle_repos_dataframe_tags = kaggle_repos_dataframe_tags.explode(\"tags\")\n",
    "kaggle_repos_dataframe_tags.head()"
   ],
   "metadata": {
    "collapsed": false,
    "pycharm": {
     "name": "#%%\n"
    }
   }
  },
  {
   "cell_type": "code",
   "execution_count": 24,
   "outputs": [
    {
     "data": {
      "text/plain": "                      project_name                   tags  val\n0  a1studmuffin#SpaceshipGenerator                 python    1\n0  a1studmuffin#SpaceshipGenerator  procedural-generation    1\n0  a1studmuffin#SpaceshipGenerator        blender-scripts    1\n0  a1studmuffin#SpaceshipGenerator       game-development    1\n0  a1studmuffin#SpaceshipGenerator                     3d    1",
      "text/html": "<div>\n<style scoped>\n    .dataframe tbody tr th:only-of-type {\n        vertical-align: middle;\n    }\n\n    .dataframe tbody tr th {\n        vertical-align: top;\n    }\n\n    .dataframe thead th {\n        text-align: right;\n    }\n</style>\n<table border=\"1\" class=\"dataframe\">\n  <thead>\n    <tr style=\"text-align: right;\">\n      <th></th>\n      <th>project_name</th>\n      <th>tags</th>\n      <th>val</th>\n    </tr>\n  </thead>\n  <tbody>\n    <tr>\n      <th>0</th>\n      <td>a1studmuffin#SpaceshipGenerator</td>\n      <td>python</td>\n      <td>1</td>\n    </tr>\n    <tr>\n      <th>0</th>\n      <td>a1studmuffin#SpaceshipGenerator</td>\n      <td>procedural-generation</td>\n      <td>1</td>\n    </tr>\n    <tr>\n      <th>0</th>\n      <td>a1studmuffin#SpaceshipGenerator</td>\n      <td>blender-scripts</td>\n      <td>1</td>\n    </tr>\n    <tr>\n      <th>0</th>\n      <td>a1studmuffin#SpaceshipGenerator</td>\n      <td>game-development</td>\n      <td>1</td>\n    </tr>\n    <tr>\n      <th>0</th>\n      <td>a1studmuffin#SpaceshipGenerator</td>\n      <td>3d</td>\n      <td>1</td>\n    </tr>\n  </tbody>\n</table>\n</div>"
     },
     "execution_count": 24,
     "metadata": {},
     "output_type": "execute_result"
    }
   ],
   "source": [
    "kaggle_repos_dataframe_tags[\"val\"] = 1\n",
    "kaggle_repos_dataframe_tags.head()"
   ],
   "metadata": {
    "collapsed": false,
    "pycharm": {
     "name": "#%%\n"
    }
   }
  },
  {
   "cell_type": "code",
   "execution_count": 25,
   "outputs": [
    {
     "data": {
      "text/plain": "                      project_name                       tags  val\n0  a1studmuffin#SpaceshipGenerator                 tag#python    1\n0  a1studmuffin#SpaceshipGenerator  tag#procedural-generation    1\n0  a1studmuffin#SpaceshipGenerator        tag#blender-scripts    1\n0  a1studmuffin#SpaceshipGenerator       tag#game-development    1\n0  a1studmuffin#SpaceshipGenerator                     tag#3d    1",
      "text/html": "<div>\n<style scoped>\n    .dataframe tbody tr th:only-of-type {\n        vertical-align: middle;\n    }\n\n    .dataframe tbody tr th {\n        vertical-align: top;\n    }\n\n    .dataframe thead th {\n        text-align: right;\n    }\n</style>\n<table border=\"1\" class=\"dataframe\">\n  <thead>\n    <tr style=\"text-align: right;\">\n      <th></th>\n      <th>project_name</th>\n      <th>tags</th>\n      <th>val</th>\n    </tr>\n  </thead>\n  <tbody>\n    <tr>\n      <th>0</th>\n      <td>a1studmuffin#SpaceshipGenerator</td>\n      <td>tag#python</td>\n      <td>1</td>\n    </tr>\n    <tr>\n      <th>0</th>\n      <td>a1studmuffin#SpaceshipGenerator</td>\n      <td>tag#procedural-generation</td>\n      <td>1</td>\n    </tr>\n    <tr>\n      <th>0</th>\n      <td>a1studmuffin#SpaceshipGenerator</td>\n      <td>tag#blender-scripts</td>\n      <td>1</td>\n    </tr>\n    <tr>\n      <th>0</th>\n      <td>a1studmuffin#SpaceshipGenerator</td>\n      <td>tag#game-development</td>\n      <td>1</td>\n    </tr>\n    <tr>\n      <th>0</th>\n      <td>a1studmuffin#SpaceshipGenerator</td>\n      <td>tag#3d</td>\n      <td>1</td>\n    </tr>\n  </tbody>\n</table>\n</div>"
     },
     "execution_count": 25,
     "metadata": {},
     "output_type": "execute_result"
    }
   ],
   "source": [
    "# Rename each tag name to avoid name collision with package names\n",
    "kaggle_repos_dataframe_tags.tags = kaggle_repos_dataframe_tags.tags.apply(lambda x: f\"tag#{x}\")\n",
    "kaggle_repos_dataframe_tags.head()"
   ],
   "metadata": {
    "collapsed": false,
    "pycharm": {
     "name": "#%%\n"
    }
   }
  },
  {
   "cell_type": "code",
   "execution_count": 26,
   "outputs": [
    {
     "data": {
      "text/plain": "9148"
     },
     "execution_count": 26,
     "metadata": {},
     "output_type": "execute_result"
    }
   ],
   "source": [
    "# Total number of tags\n",
    "kaggle_repos_dataframe_tags.tags.unique().size"
   ],
   "metadata": {
    "collapsed": false,
    "pycharm": {
     "name": "#%%\n"
    }
   }
  },
  {
   "cell_type": "code",
   "execution_count": 27,
   "outputs": [
    {
     "data": {
      "text/plain": "3418"
     },
     "execution_count": 27,
     "metadata": {},
     "output_type": "execute_result"
    }
   ],
   "source": [
    "kaggle_repos_dataframe_tags.project_name.unique().size"
   ],
   "metadata": {
    "collapsed": false,
    "pycharm": {
     "name": "#%%\n"
    }
   }
  },
  {
   "cell_type": "code",
   "execution_count": 28,
   "outputs": [
    {
     "data": {
      "text/plain": "tags                      tag#010editor  tag#053  tag#0day  tag#100daysofcode  \\\nproject_name                                                                    \n01joy#news-search-engine              0        0         0                  0   \n05bit#peewee-async                    0        0         0                  0   \n0k#shyaml                             0        0         0                  0   \n0x00-0x00#ShellPop                    0        0         0                  0   \n0xAX#linux-insides                    0        0         0                  0   \n\ntags                      tag#104  tag#1111  tag#12306  tag#163mail-login  \\\nproject_name                                                                \n01joy#news-search-engine        0         0          0                  0   \n05bit#peewee-async              0         0          0                  0   \n0k#shyaml                       0         0          0                  0   \n0x00-0x00#ShellPop              0         0          0                  0   \n0xAX#linux-insides              0         0          0                  0   \n\ntags                      tag#2  tag#2019-ncov  ...  tag#zircon  \\\nproject_name                                    ...               \n01joy#news-search-engine      0              0  ...           0   \n05bit#peewee-async            0              0  ...           0   \n0k#shyaml                     0              0  ...           0   \n0x00-0x00#ShellPop            0              0  ...           0   \n0xAX#linux-insides            0              0  ...           0   \n\ntags                      tag#zookeeper  tag#zoom  tag#zotero  tag#zotero-api  \\\nproject_name                                                                    \n01joy#news-search-engine              0         0           0               0   \n05bit#peewee-async                    0         0           0               0   \n0k#shyaml                             0         0           0               0   \n0x00-0x00#ShellPop                    0         0           0               0   \n0xAX#linux-insides                    0         0           0               0   \n\ntags                      tag#zsh  tag#ztp  tag#zuul  tag#zvt  tag#zypper  \nproject_name                                                               \n01joy#news-search-engine        0        0         0        0           0  \n05bit#peewee-async              0        0         0        0           0  \n0k#shyaml                       0        0         0        0           0  \n0x00-0x00#ShellPop              0        0         0        0           0  \n0xAX#linux-insides              0        0         0        0           0  \n\n[5 rows x 9148 columns]",
      "text/html": "<div>\n<style scoped>\n    .dataframe tbody tr th:only-of-type {\n        vertical-align: middle;\n    }\n\n    .dataframe tbody tr th {\n        vertical-align: top;\n    }\n\n    .dataframe thead th {\n        text-align: right;\n    }\n</style>\n<table border=\"1\" class=\"dataframe\">\n  <thead>\n    <tr style=\"text-align: right;\">\n      <th>tags</th>\n      <th>tag#010editor</th>\n      <th>tag#053</th>\n      <th>tag#0day</th>\n      <th>tag#100daysofcode</th>\n      <th>tag#104</th>\n      <th>tag#1111</th>\n      <th>tag#12306</th>\n      <th>tag#163mail-login</th>\n      <th>tag#2</th>\n      <th>tag#2019-ncov</th>\n      <th>...</th>\n      <th>tag#zircon</th>\n      <th>tag#zookeeper</th>\n      <th>tag#zoom</th>\n      <th>tag#zotero</th>\n      <th>tag#zotero-api</th>\n      <th>tag#zsh</th>\n      <th>tag#ztp</th>\n      <th>tag#zuul</th>\n      <th>tag#zvt</th>\n      <th>tag#zypper</th>\n    </tr>\n    <tr>\n      <th>project_name</th>\n      <th></th>\n      <th></th>\n      <th></th>\n      <th></th>\n      <th></th>\n      <th></th>\n      <th></th>\n      <th></th>\n      <th></th>\n      <th></th>\n      <th></th>\n      <th></th>\n      <th></th>\n      <th></th>\n      <th></th>\n      <th></th>\n      <th></th>\n      <th></th>\n      <th></th>\n      <th></th>\n      <th></th>\n    </tr>\n  </thead>\n  <tbody>\n    <tr>\n      <th>01joy#news-search-engine</th>\n      <td>0</td>\n      <td>0</td>\n      <td>0</td>\n      <td>0</td>\n      <td>0</td>\n      <td>0</td>\n      <td>0</td>\n      <td>0</td>\n      <td>0</td>\n      <td>0</td>\n      <td>...</td>\n      <td>0</td>\n      <td>0</td>\n      <td>0</td>\n      <td>0</td>\n      <td>0</td>\n      <td>0</td>\n      <td>0</td>\n      <td>0</td>\n      <td>0</td>\n      <td>0</td>\n    </tr>\n    <tr>\n      <th>05bit#peewee-async</th>\n      <td>0</td>\n      <td>0</td>\n      <td>0</td>\n      <td>0</td>\n      <td>0</td>\n      <td>0</td>\n      <td>0</td>\n      <td>0</td>\n      <td>0</td>\n      <td>0</td>\n      <td>...</td>\n      <td>0</td>\n      <td>0</td>\n      <td>0</td>\n      <td>0</td>\n      <td>0</td>\n      <td>0</td>\n      <td>0</td>\n      <td>0</td>\n      <td>0</td>\n      <td>0</td>\n    </tr>\n    <tr>\n      <th>0k#shyaml</th>\n      <td>0</td>\n      <td>0</td>\n      <td>0</td>\n      <td>0</td>\n      <td>0</td>\n      <td>0</td>\n      <td>0</td>\n      <td>0</td>\n      <td>0</td>\n      <td>0</td>\n      <td>...</td>\n      <td>0</td>\n      <td>0</td>\n      <td>0</td>\n      <td>0</td>\n      <td>0</td>\n      <td>0</td>\n      <td>0</td>\n      <td>0</td>\n      <td>0</td>\n      <td>0</td>\n    </tr>\n    <tr>\n      <th>0x00-0x00#ShellPop</th>\n      <td>0</td>\n      <td>0</td>\n      <td>0</td>\n      <td>0</td>\n      <td>0</td>\n      <td>0</td>\n      <td>0</td>\n      <td>0</td>\n      <td>0</td>\n      <td>0</td>\n      <td>...</td>\n      <td>0</td>\n      <td>0</td>\n      <td>0</td>\n      <td>0</td>\n      <td>0</td>\n      <td>0</td>\n      <td>0</td>\n      <td>0</td>\n      <td>0</td>\n      <td>0</td>\n    </tr>\n    <tr>\n      <th>0xAX#linux-insides</th>\n      <td>0</td>\n      <td>0</td>\n      <td>0</td>\n      <td>0</td>\n      <td>0</td>\n      <td>0</td>\n      <td>0</td>\n      <td>0</td>\n      <td>0</td>\n      <td>0</td>\n      <td>...</td>\n      <td>0</td>\n      <td>0</td>\n      <td>0</td>\n      <td>0</td>\n      <td>0</td>\n      <td>0</td>\n      <td>0</td>\n      <td>0</td>\n      <td>0</td>\n      <td>0</td>\n    </tr>\n  </tbody>\n</table>\n<p>5 rows × 9148 columns</p>\n</div>"
     },
     "execution_count": 28,
     "metadata": {},
     "output_type": "execute_result"
    }
   ],
   "source": [
    "pivot_tags_dataframe = kaggle_repos_dataframe_tags.pivot_table(index=\"project_name\", values=\"val\", columns=\"tags\", fill_value=0)\n",
    "pivot_tags_dataframe.head()"
   ],
   "metadata": {
    "collapsed": false,
    "pycharm": {
     "name": "#%%\n"
    }
   }
  },
  {
   "cell_type": "code",
   "execution_count": 29,
   "outputs": [
    {
     "data": {
      "text/plain": "{'tag#postgresql-driver',\n 'tag#blocks',\n 'tag#thehive4',\n 'tag#opentype',\n 'tag#dagger2-mvvm',\n 'tag#datajournalism',\n 'tag#chainid',\n 'tag#deep-learning-deploy',\n 'tag#python-social-auth',\n 'tag#metasploit',\n 'tag#data-gathering',\n 'tag#homebrew',\n 'tag#dcim',\n 'tag#waifu2x',\n 'tag#best',\n 'tag#nfm',\n 'tag#arxiv-papers',\n 'tag#cloud-cost-intelligence',\n 'tag#bintray',\n 'tag#spam',\n 'tag#estimator',\n 'tag#text-processing',\n 'tag#conferences',\n 'tag#statusline',\n 'tag#spacy-extension',\n 'tag#adblock',\n 'tag#datastore-android',\n 'tag#becoming-an-expert',\n 'tag#cross-lingual',\n 'tag#polyglot-files',\n 'tag#braintree',\n 'tag#cross-modal-retrieval',\n 'tag#hail',\n 'tag#android-mvi',\n 'tag#finops',\n 'tag#tensorforce',\n 'tag#serializer',\n 'tag#aws-apigateway',\n 'tag#autonomous-vehicles',\n 'tag#gpo',\n 'tag#system-control',\n 'tag#supervisor',\n 'tag#osquery',\n 'tag#character-level-cnn',\n 'tag#dtw',\n 'tag#terraform',\n 'tag#mujoco',\n 'tag#documentation-generator',\n 'tag#mockk',\n 'tag#containerd',\n 'tag#multilingual-topic-models',\n 'tag#odoo-11',\n 'tag#experiments',\n 'tag#cvae',\n 'tag#slack-commands',\n 'tag#orgzly',\n 'tag#scp',\n 'tag#sparkar',\n 'tag#sensu',\n 'tag#update',\n 'tag#pinview',\n 'tag#3d-game-engine',\n 'tag#ehentai',\n 'tag#figlet',\n 'tag#speech-recognition',\n 'tag#zotero',\n 'tag#text-vectorization',\n 'tag#default-presets',\n 'tag#hobo-vr',\n 'tag#recording',\n 'tag#completions',\n 'tag#tiktokapi',\n 'tag#wsol-benchmark',\n 'tag#anime',\n 'tag#backtest',\n 'tag#audio-data',\n 'tag#hosting',\n 'tag#image-prediction',\n 'tag#machine-learning-api',\n 'tag#rat',\n 'tag#ide-like',\n 'tag#project-setup',\n 'tag#hyperledger',\n 'tag#cocoapods',\n 'tag#python-module',\n 'tag#interpreter',\n 'tag#tools',\n 'tag#asynchronous',\n 'tag#sca',\n 'tag#facebookhacking',\n 'tag#prediction-service',\n 'tag#monterey-hackintosh',\n 'tag#qqbot',\n 'tag#phone-number-formatting',\n 'tag#googledrive',\n 'tag#statement',\n 'tag#ethereum-sandbox',\n 'tag#ping',\n 'tag#mario',\n 'tag#babel',\n 'tag#steamvr-driver',\n 'tag#ninja',\n 'tag#opml',\n 'tag#singh',\n 'tag#nanodet-plus',\n 'tag#jython',\n 'tag#pwn',\n 'tag#retrofit2',\n 'tag#siggraph-asia',\n 'tag#smaller-models',\n 'tag#scrapy',\n 'tag#following',\n 'tag#httpclient',\n 'tag#spannable',\n 'tag#a3c',\n 'tag#wsl-environment',\n 'tag#apollo',\n 'tag#telethon',\n 'tag#clip-model',\n 'tag#yml',\n 'tag#momoshop',\n 'tag#heatmaps',\n 'tag#programmable-engine',\n 'tag#reddit-client',\n 'tag#image-builder',\n 'tag#ssh',\n 'tag#drf',\n 'tag#manipulating-urls',\n 'tag#netvlad',\n 'tag#browser',\n 'tag#xuexi',\n 'tag#nearest-neighbor-search',\n 'tag#papermill',\n 'tag#django-admin',\n 'tag#tensorflow-training',\n 'tag#image-texture',\n 'tag#import-export',\n 'tag#language',\n 'tag#warehouse-management-system',\n 'tag#web-testing',\n 'tag#service-mesh',\n 'tag#mocking',\n 'tag#human-action-recognition',\n 'tag#arm-board',\n 'tag#concepts',\n 'tag#paper',\n 'tag#cost',\n 'tag#wms-system',\n 'tag#textrank',\n 'tag#jeff-geerling',\n 'tag#apple-music-downloader',\n 'tag#season',\n 'tag#pngquant',\n 'tag#gans',\n 'tag#memes4life',\n 'tag#hosts',\n 'tag#laravel-migration',\n 'tag#3d-mesh',\n 'tag#emulator-frontend',\n 'tag#github-repository-search',\n 'tag#virt',\n 'tag#redteam',\n 'tag#nosql-databases',\n 'tag#dropzone',\n 'tag#brain-com',\n 'tag#oracle-sql',\n 'tag#aaai2020',\n 'tag#encoder',\n 'tag#user-trajectories',\n 'tag#urllib3',\n 'tag#headless-browser',\n 'tag#virtual-youtuber',\n 'tag#screen',\n 'tag#kernel-driver',\n 'tag#graph-convolutional-networks',\n 'tag#hand-detection',\n 'tag#hayao-style',\n 'tag#hyperband',\n 'tag#sustainable-software',\n 'tag#typed-lambda-calculus',\n 'tag#innodb-cluster',\n 'tag#tkinter',\n 'tag#streamfield',\n 'tag#mgi',\n 'tag#fast',\n 'tag#frequency',\n 'tag#lisp-variant',\n 'tag#ratchet',\n 'tag#geophysics',\n 'tag#rollback',\n 'tag#simulink',\n 'tag#mime',\n 'tag#mac-os',\n 'tag#pmbok',\n 'tag#uoft',\n 'tag#tract-based-statistics',\n 'tag#speech-synthesis-model',\n 'tag#argument-parser',\n 'tag#pwnedornot',\n 'tag#defi',\n 'tag#parametric',\n 'tag#gitee-pages',\n 'tag#embeddings',\n 'tag#notification-service',\n 'tag#purpur',\n 'tag#usbcamera',\n 'tag#reactive-extensions',\n 'tag#bedrock',\n 'tag#gce',\n 'tag#computing-metrics',\n 'tag#distributed-computing',\n 'tag#programming-font',\n 'tag#py',\n 'tag#powerful',\n 'tag#ranking',\n 'tag#trading-strategies',\n 'tag#deep-learning-algorithms',\n 'tag#tellonym',\n 'tag#linting',\n 'tag#python-client',\n 'tag#opc',\n 'tag#match',\n 'tag#c',\n 'tag#python-utilities',\n 'tag#business-intelligence',\n 'tag#health-check',\n 'tag#facebook-face-recognition',\n 'tag#intellij-ides',\n 'tag#voice',\n 'tag#minimax-algorithm',\n 'tag#hotmail',\n 'tag#neural-compute-stick',\n 'tag#phillips-perron',\n 'tag#mitm',\n 'tag#gitconsensus',\n 'tag#build-system',\n 'tag#jdownloader',\n 'tag#api-cli',\n 'tag#ansii',\n 'tag#containers',\n 'tag#texar',\n 'tag#wacv',\n 'tag#ktlint',\n 'tag#embedded-systems',\n 'tag#governor',\n 'tag#mfcc',\n 'tag#asr',\n 'tag#preferences',\n 'tag#python-asyncio',\n 'tag#meta-heuristics',\n 'tag#collections',\n 'tag#sql',\n 'tag#localization',\n 'tag#reference',\n 'tag#rplace',\n 'tag#opendata',\n 'tag#internalization',\n 'tag#privacy',\n 'tag#currency-converter',\n 'tag#webhook',\n 'tag#azure-functions',\n 'tag#doc2vec',\n 'tag#ico',\n 'tag#tries',\n 'tag#monitoring-server',\n 'tag#proximal-policy-optimization',\n 'tag#metric-learning',\n 'tag#entity-recognition',\n 'tag#rss-aggregator',\n 'tag#grafana-dashboard',\n 'tag#news-aggregator',\n 'tag#meteor',\n 'tag#netease',\n 'tag#general-graphical-models',\n 'tag#anime-images',\n 'tag#sickchill',\n 'tag#django-intercoolerjs',\n 'tag#bidaf',\n 'tag#multigpu',\n 'tag#reserving',\n 'tag#auto-complete',\n 'tag#extraction',\n 'tag#disk-encryption',\n 'tag#django-webpack-loader',\n 'tag#shrine',\n 'tag#service-catalog',\n 'tag#gatsbyjs',\n 'tag#usability',\n 'tag#bar',\n 'tag#k-bert',\n 'tag#web-framework',\n 'tag#assistant',\n 'tag#flame-fitting',\n 'tag#tensorflow-experiments',\n 'tag#django-meta',\n 'tag#google-site-search',\n 'tag#textrcnn',\n 'tag#discord',\n 'tag#appstore',\n 'tag#coverage',\n 'tag#fairseq',\n 'tag#ios-app',\n 'tag#serverless',\n 'tag#graph-based',\n 'tag#phosphorjs',\n 'tag#python-application',\n 'tag#database-files',\n 'tag#gcp-kms',\n 'tag#emg',\n 'tag#monitoring',\n 'tag#3d-reconstruction',\n 'tag#pypiper',\n 'tag#openapi-generator',\n 'tag#dotfiles',\n 'tag#pwa',\n 'tag#viewer',\n 'tag#ontology',\n 'tag#tudelft',\n 'tag#django-wiki',\n 'tag#vim',\n 'tag#pythonide',\n 'tag#multi-sensor',\n 'tag#couchbase',\n 'tag#keyboard-input',\n 'tag#filehosting',\n 'tag#static-analyzer',\n 'tag#flask-course',\n 'tag#stm32',\n 'tag#retail',\n 'tag#few-shot',\n 'tag#wireless',\n 'tag#jws',\n 'tag#cryptocurrency',\n 'tag#finite-state-machine',\n 'tag#bert-wwm',\n 'tag#hide',\n 'tag#yahoo-finance',\n 'tag#interpretable-deep-learning',\n 'tag#mariadb',\n 'tag#podcasting20',\n 'tag#skggm',\n 'tag#bittrex',\n 'tag#face-editing',\n 'tag#vcplayer',\n 'tag#tax-calculations',\n 'tag#icons',\n 'tag#guideline',\n 'tag#maskrcnn',\n 'tag#teaching-materials',\n 'tag#delayed-jobs',\n 'tag#python26',\n 'tag#swarm-mode',\n 'tag#rce',\n 'tag#horizon',\n 'tag#bdf',\n 'tag#ansible-service-broker',\n 'tag#risc-v',\n 'tag#diffing',\n 'tag#fediverse',\n 'tag#sampling',\n 'tag#speech',\n 'tag#fate',\n 'tag#hierarchical-forecasting',\n 'tag#lihang',\n 'tag#geopython',\n 'tag#python',\n 'tag#creating-deepfakes',\n 'tag#emoji-android',\n 'tag#opentype-fonts',\n 'tag#emacs',\n 'tag#threat-sharing',\n 'tag#resource-allocation',\n 'tag#expectation-maximization-algorithm',\n 'tag#cryptocurrency-wallets',\n 'tag#jetbrains',\n 'tag#wechat-report',\n 'tag#translate',\n 'tag#opentype-variable-fonts',\n 'tag#neovim',\n 'tag#translation-interface',\n 'tag#mirror',\n 'tag#ctf-challenges',\n 'tag#wechat-app',\n 'tag#machine-translation',\n 'tag#markdown-parser',\n 'tag#ldap',\n 'tag#icons-plugin',\n 'tag#rawpy',\n 'tag#social-media-filter',\n 'tag#twitter-bot',\n 'tag#livescript',\n 'tag#pytg',\n 'tag#bezier',\n 'tag#oauth2-server',\n 'tag#data-scientists',\n 'tag#apache-parquet',\n 'tag#tortoolkit-telegram',\n 'tag#libgdx',\n 'tag#google-app-engine',\n 'tag#stock-trading',\n 'tag#post-exploitation',\n 'tag#dotfile-manager',\n 'tag#ansible-devtools',\n 'tag#apache-airflow',\n 'tag#misc',\n 'tag#macos',\n 'tag#nbconvert',\n 'tag#wifi-attacks',\n 'tag#waterfall-toolbar',\n 'tag#zip',\n 'tag#neural-architecture-search',\n 'tag#payloads',\n 'tag#imitation-learning',\n 'tag#system-fonts',\n 'tag#python-exercises',\n 'tag#wsol-training',\n 'tag#mp3',\n 'tag#qiang-guo',\n 'tag#fakeapp',\n 'tag#token-authetication',\n 'tag#machine-learning-from-scratch',\n 'tag#validation-testing',\n 'tag#music-player-bot',\n 'tag#autokeras',\n 'tag#manim',\n 'tag#cyberdefense',\n 'tag#queueing',\n 'tag#abandoned',\n 'tag#youtube-bot',\n 'tag#alpine',\n 'tag#coursera-dl',\n 'tag#yfinance',\n 'tag#rofi',\n 'tag#webframework',\n 'tag#tiktok-trending-page',\n 'tag#geospatial-analysis',\n 'tag#integration',\n 'tag#geospatial',\n 'tag#libvirt',\n 'tag#vim-python',\n 'tag#ansible-lint',\n 'tag#kinect4azure',\n 'tag#vbscript',\n 'tag#pass-the-hash',\n 'tag#auto-login',\n 'tag#gdax-api',\n 'tag#spring-boot-2',\n 'tag#jetson-nano',\n 'tag#stream',\n 'tag#jio',\n 'tag#processing',\n 'tag#pip3',\n 'tag#ijcai2020',\n 'tag#annotations-builder',\n 'tag#vertx',\n 'tag#marketmaker',\n 'tag#line-bot',\n 'tag#download-subtitles',\n 'tag#nuclei-templates',\n 'tag#lane-detection',\n 'tag#marshmallow',\n 'tag#exchange-data',\n 'tag#scene',\n 'tag#tight-binding',\n 'tag#chialisp',\n 'tag#developer-tools',\n 'tag#agent-based-modeling',\n 'tag#optimization-algorithms',\n 'tag#hill-climbing',\n 'tag#sphericalclustering',\n 'tag#tandy',\n 'tag#text-predictions',\n 'tag#voice-synthesis',\n 'tag#functional-reactive-programming',\n 'tag#gitlab',\n 'tag#conjure',\n 'tag#gvlk',\n 'tag#dovecot',\n 'tag#mesos-dns',\n 'tag#cxx',\n 'tag#graph-matching',\n 'tag#morphing-animations',\n 'tag#pagination-component',\n 'tag#telegram-sync-bot',\n 'tag#channel-points',\n 'tag#aliases',\n 'tag#read',\n 'tag#zip4j',\n 'tag#exported-metrics',\n 'tag#svga',\n 'tag#thehive',\n 'tag#neo4j',\n 'tag#noisy-data',\n 'tag#mnemonic',\n 'tag#lightning-network-wallet',\n 'tag#lenia',\n 'tag#pure-python',\n 'tag#bitcoin',\n 'tag#wakelocks',\n 'tag#nerd-fonts',\n 'tag#twitter-streaming-api',\n 'tag#whatsapp-database',\n 'tag#re-identification',\n 'tag#zsh',\n 'tag#tax-calculator',\n 'tag#geolocation',\n 'tag#iati-standard',\n 'tag#bert-model',\n 'tag#gazebo',\n 'tag#css-selector',\n 'tag#syntax',\n 'tag#betago',\n 'tag#steamvr',\n 'tag#matplotlib-style-sheets',\n 'tag#sql-query',\n 'tag#restful',\n 'tag#ctr',\n 'tag#deeplearning',\n 'tag#list',\n 'tag#pre-commit',\n 'tag#abendigo',\n 'tag#nvidia-jetson-nano',\n 'tag#robobrowser',\n 'tag#miniflux',\n 'tag#practise',\n 'tag#price',\n 'tag#spring-framework',\n 'tag#alpine-linux',\n 'tag#rails-deployment',\n 'tag#protection',\n 'tag#docarray',\n 'tag#python-web',\n 'tag#kotlin',\n 'tag#twitter-card',\n 'tag#industry',\n 'tag#streaming-bot',\n 'tag#uds',\n 'tag#huggingface-transformers',\n 'tag#onepunchman',\n 'tag#wallet',\n 'tag#ktorm',\n 'tag#avs-sdk',\n 'tag#fft',\n 'tag#easy-rsa',\n 'tag#hints',\n 'tag#inter-patient',\n 'tag#problem-solving',\n 'tag#reverse-shells',\n 'tag#dogecoin',\n 'tag#qiskit-aqua',\n 'tag#emotecollector',\n 'tag#ruby',\n 'tag#ansible-api',\n 'tag#database-perfomance',\n 'tag#fakes',\n 'tag#spreadsheet',\n 'tag#azure-iothub',\n 'tag#graph-neural-networks',\n 'tag#shoppingview',\n 'tag#hls',\n 'tag#opencv-python',\n 'tag#image-cropping',\n 'tag#place',\n 'tag#graphql-java',\n 'tag#schema-org',\n 'tag#sensitive-data-leakage',\n 'tag#freecad',\n 'tag#mega-bot',\n 'tag#image-quality-assessment',\n 'tag#utility',\n 'tag#mention-logger',\n 'tag#closember',\n 'tag#shanbay',\n 'tag#ios',\n 'tag#human-pose-estimation',\n 'tag#multiple-factor-analysis',\n 'tag#study-notes',\n 'tag#cicd',\n 'tag#data-modeling',\n 'tag#apt-smart',\n 'tag#prophet',\n 'tag#bot-framework',\n 'tag#trojans',\n 'tag#densenet',\n 'tag#paperplane',\n 'tag#text-detect',\n 'tag#zappa',\n 'tag#reactive-front-end',\n 'tag#caas',\n 'tag#ops',\n 'tag#pivot-chart',\n 'tag#pypy',\n 'tag#coinhive',\n 'tag#ebgan',\n 'tag#circleci2',\n 'tag#cyclegan',\n 'tag#hangouts-chat',\n 'tag#mail',\n 'tag#tables',\n 'tag#music',\n 'tag#data-quality',\n 'tag#instrumentation',\n 'tag#tik',\n 'tag#enhance',\n 'tag#matrix-appservice',\n 'tag#stereo',\n 'tag#ankiweb',\n 'tag#edge-detection',\n 'tag#u-net',\n 'tag#githubplayer',\n 'tag#gesture-recognition',\n 'tag#corpora',\n 'tag#software-engineering',\n 'tag#heroku-deployment',\n 'tag#wsol-evaluation',\n 'tag#machine-learning-library',\n 'tag#vfs',\n 'tag#rfc-4287',\n 'tag#ember-cli',\n 'tag#mvs',\n 'tag#monitor',\n 'tag#fgcnn',\n 'tag#chia',\n 'tag#defi-sdk',\n 'tag#swift-package-manager',\n 'tag#vision-transformers',\n 'tag#brightness-control',\n 'tag#dataflow-programming',\n 'tag#deaths',\n 'tag#face-model',\n 'tag#mininet',\n 'tag#zipline',\n 'tag#ini',\n 'tag#hdbscan',\n 'tag#pytorch-model',\n 'tag#ibkr',\n 'tag#nba-stats',\n 'tag#deep-sense',\n 'tag#trivia',\n 'tag#trading-platform',\n 'tag#maven-repository',\n 'tag#testing-framework',\n 'tag#bitmap-fonts',\n 'tag#dai',\n 'tag#code-for-america',\n 'tag#dumb',\n 'tag#navigation',\n 'tag#zalando',\n 'tag#django-prometheus',\n 'tag#serverless-framework',\n 'tag#kotlin-flow',\n 'tag#udemy-course',\n 'tag#word-extraction',\n 'tag#vgg',\n 'tag#crev',\n 'tag#parser-combinators',\n 'tag#openai-gym',\n 'tag#contrast',\n 'tag#kubernetes-cluster',\n 'tag#edge-computing',\n 'tag#pitr',\n 'tag#estimators',\n 'tag#easy',\n 'tag#trie-tree',\n 'tag#duolingo',\n 'tag#pre-trained',\n 'tag#tushare',\n 'tag#pymc3',\n 'tag#nfov',\n 'tag#embedded',\n 'tag#quotes',\n 'tag#realtime-data',\n 'tag#practice-project',\n 'tag#bybit-websocket',\n 'tag#dataquality',\n 'tag#orchestration',\n 'tag#helm-charts',\n 'tag#sidebar',\n 'tag#lending-strategies',\n 'tag#news-extractor',\n 'tag#local-features',\n 'tag#particles',\n 'tag#labs',\n 'tag#alexa',\n 'tag#kolla-ansible',\n 'tag#wizard',\n 'tag#multiplayer',\n 'tag#https',\n 'tag#stylometric',\n 'tag#aiven',\n 'tag#stylable-attributes',\n 'tag#scientific-research',\n 'tag#cd-pipeline',\n 'tag#disk-cleaner',\n 'tag#dien',\n 'tag#scada',\n 'tag#data-quality-framework',\n 'tag#proxypool',\n 'tag#slickdeals',\n 'tag#etl',\n 'tag#viewpager-indicator',\n 'tag#matconvnet',\n 'tag#spoofing',\n 'tag#mysql',\n 'tag#input',\n 'tag#queue-tasks',\n 'tag#bungee',\n 'tag#knowledge-defined-networking',\n 'tag#experiment',\n 'tag#devops-packages',\n 'tag#ansible-modules',\n 'tag#gradle-kotlin-dsl',\n 'tag#instagram-feed',\n 'tag#dialogpt',\n 'tag#percentframelayout',\n 'tag#bugs',\n 'tag#torchscript',\n 'tag#grimoirelab',\n 'tag#image-database',\n 'tag#traefik',\n 'tag#wagtail-graphql',\n 'tag#animals',\n 'tag#background-sync',\n 'tag#trader',\n 'tag#zentral',\n 'tag#nintendo',\n 'tag#longitude',\n 'tag#fediverse-account',\n 'tag#bayesopt',\n 'tag#cloud-cost',\n 'tag#vae',\n 'tag#tls13',\n 'tag#sigfox',\n 'tag#study-materials',\n 'tag#factory',\n 'tag#palo-alto-networks',\n 'tag#telnet',\n 'tag#web-app',\n 'tag#spinner',\n 'tag#about-me',\n 'tag#dingdang-robot',\n 'tag#sensitive-data-security',\n 'tag#keyword-extraction',\n 'tag#japan',\n 'tag#multidimensional-analysis',\n 'tag#pythonic',\n 'tag#torrent-client',\n 'tag#puppetdb',\n 'tag#snips',\n 'tag#django-web-app',\n 'tag#trello',\n 'tag#chat-tunneling',\n 'tag#insightface',\n 'tag#glow-tts',\n 'tag#spotify-api',\n 'tag#container-security',\n 'tag#model-confidence-set',\n 'tag#bitmessage',\n 'tag#dvc-for-experiment-management',\n 'tag#magic',\n 'tag#git-integration',\n 'tag#data-organizer',\n 'tag#greek',\n 'tag#clr',\n 'tag#python38',\n 'tag#gradle-version',\n 'tag#kindle',\n 'tag#cheating',\n 'tag#computer',\n 'tag#eth',\n 'tag#frontend-framework',\n 'tag#healthcare',\n 'tag#bugcrowd',\n 'tag#instance-segmentation',\n 'tag#binance-trading-bot',\n 'tag#octicons',\n 'tag#rnn-encoder-decoder',\n 'tag#eks',\n 'tag#sheets',\n 'tag#incidents',\n 'tag#android-resources',\n 'tag#flask-restful',\n 'tag#sketch-recognition',\n 'tag#explainable-ml',\n 'tag#assets-management',\n 'tag#addon',\n 'tag#mmdetection',\n 'tag#mysql-backup',\n 'tag#3d-model',\n 'tag#aws-kms',\n 'tag#ar',\n 'tag#deep-q-network',\n 'tag#notify',\n 'tag#detekt',\n 'tag#xcode',\n 'tag#powerline',\n 'tag#sense2vec',\n 'tag#animated',\n 'tag#vmware',\n 'tag#dickey-fuller',\n 'tag#pspnet',\n 'tag#audio-book',\n 'tag#jetpack-android',\n 'tag#requirements-management',\n 'tag#faster-rcnn',\n 'tag#distance',\n 'tag#musiclake',\n 'tag#sherlock',\n 'tag#dotfiles-manager',\n 'tag#awesome-coronavirus',\n 'tag#jwt-bearer-tokens',\n 'tag#tortoise-orm',\n 'tag#stocks',\n 'tag#rarbg',\n 'tag#dfir-automation',\n 'tag#status-indicator',\n 'tag#trezor-crypto',\n 'tag#profiler',\n 'tag#redfish',\n 'tag#spatial-data-analysis',\n 'tag#webargs',\n 'tag#ctf-framework',\n 'tag#wifi-network',\n 'tag#platformio',\n 'tag#spacevim',\n 'tag#china',\n 'tag#gender-recognition-by-voice',\n 'tag#netbios',\n 'tag#wechat-bot',\n 'tag#sniper',\n 'tag#monero-agent',\n 'tag#transformers',\n 'tag#web-based-attacks',\n 'tag#art',\n 'tag#scada-security',\n 'tag#linguistics',\n 'tag#version',\n 'tag#python-interview-questions',\n 'tag#package',\n 'tag#toast',\n 'tag#bellman-ford',\n 'tag#penetration-tests',\n 'tag#blockchain-parsing',\n 'tag#database',\n 'tag#autorclone',\n 'tag#helm',\n 'tag#collaboration',\n 'tag#dialogue-systems',\n 'tag#mitie',\n 'tag#handwriting-generation',\n 'tag#drive',\n 'tag#http',\n 'tag#statistics',\n 'tag#activity',\n 'tag#nand2tetris',\n 'tag#relation-extraction',\n 'tag#equirectangular-images',\n 'tag#gnome',\n 'tag#auto-sklearn',\n 'tag#toots',\n 'tag#moderation',\n 'tag#markdown-viewer',\n 'tag#duckduckgo-bang',\n 'tag#augmentation-pipeline',\n 'tag#opengl',\n 'tag#onebot',\n 'tag#geolocation-api',\n 'tag#emojireader',\n 'tag#ktor',\n 'tag#data-validation',\n 'tag#video-call',\n 'tag#tianchi',\n 'tag#state-of-art',\n 'tag#openhab',\n 'tag#whitenoise',\n 'tag#sphinx-doc',\n 'tag#nintendo-switch-controller',\n 'tag#google-spreadsheets',\n 'tag#scada-exploitation',\n 'tag#solidity',\n 'tag#oss',\n 'tag#continuous-testing',\n 'tag#damerau-levenshtein-distance',\n 'tag#streaming-response',\n 'tag#glide',\n 'tag#ospf',\n 'tag#document-management-system',\n 'tag#gl',\n 'tag#linked-trees',\n 'tag#kotlin-js',\n 'tag#terragrunt',\n 'tag#typing',\n 'tag#dagger2',\n 'tag#gui-framework',\n 'tag#blog-engine',\n 'tag#sequence-labeling',\n 'tag#philips-hue',\n 'tag#mssql',\n 'tag#linear-models',\n 'tag#score-cam',\n 'tag#desktop-application',\n 'tag#picture-editor',\n 'tag#attack-detection',\n 'tag#quay',\n 'tag#compact',\n 'tag#cockroach',\n 'tag#fireo',\n 'tag#bayesian',\n 'tag#variational-inference',\n 'tag#dehazing',\n 'tag#exploitation-framework',\n 'tag#bottomnavigationbar',\n 'tag#terminal',\n 'tag#jio-saavn',\n 'tag#patroni',\n 'tag#card',\n 'tag#ransomware',\n 'tag#tracker',\n 'tag#tpu',\n 'tag#jetpack-navigation',\n 'tag#foldingathome',\n 'tag#google-fonts',\n 'tag#wakatime',\n 'tag#aploium',\n 'tag#elixir',\n 'tag#photo',\n 'tag#county',\n 'tag#podcasts',\n 'tag#viewmodel',\n 'tag#grid-search',\n 'tag#linter-plugin',\n 'tag#chemoinformatics',\n 'tag#aws-lambda',\n 'tag#apache-beam',\n 'tag#chrome-extension',\n 'tag#amulet',\n 'tag#deep-learning-models',\n 'tag#fortnitepy',\n 'tag#jquery',\n 'tag#naming-pending',\n 'tag#cloner',\n 'tag#jsoup',\n 'tag#vtt-to-srt',\n 'tag#standwithrussia',\n 'tag#payloads-database',\n 'tag#socmint',\n 'tag#dependency-parser',\n 'tag#enumeration',\n 'tag#browser-extension',\n 'tag#drawer',\n 'tag#aws-security',\n 'tag#implicit-neural-representation',\n 'tag#mermaid-diagrams',\n 'tag#fastcgi',\n 'tag#sentence-embeddings',\n 'tag#data-visualisation',\n 'tag#e-mail',\n 'tag#multivendor-ecommerce',\n 'tag#obdlink',\n 'tag#wikidata-bot',\n 'tag#secrets-stored',\n 'tag#headless-chrome',\n 'tag#hitomi',\n 'tag#concept',\n 'tag#liners-database',\n 'tag#optimizations',\n 'tag#snes',\n 'tag#zvt',\n 'tag#oscp',\n 'tag#abstract-syntax-tree',\n 'tag#phone-number-input',\n 'tag#moni-go-mani',\n 'tag#deepl',\n 'tag#recipe-driven-approaches',\n 'tag#huobi',\n 'tag#usc',\n 'tag#electronjs',\n 'tag#account',\n 'tag#iec-62541',\n 'tag#conversion-rate',\n 'tag#weather-information',\n 'tag#3d-deep-learning',\n 'tag#eccv2020',\n 'tag#dokku',\n 'tag#fuse-filesystem',\n 'tag#genetic-algorithm-framework',\n 'tag#survival-game',\n 'tag#gerrit',\n 'tag#coronavirus-real-time',\n 'tag#tts',\n 'tag#dao',\n 'tag#recaptcha',\n 'tag#quantitative-trading',\n 'tag#google-adwords',\n 'tag#django-channels',\n 'tag#ca',\n 'tag#appimage',\n 'tag#python-markdown',\n 'tag#timit-dataset',\n 'tag#text-segmentation',\n ...}"
     },
     "execution_count": 29,
     "metadata": {},
     "output_type": "execute_result"
    }
   ],
   "source": [
    "set(pivot_tags_dataframe.columns).difference(set(kaggle_repos_dataframe.tags.unique()))"
   ],
   "metadata": {
    "collapsed": false,
    "pycharm": {
     "name": "#%%\n"
    }
   }
  },
  {
   "cell_type": "code",
   "execution_count": 30,
   "outputs": [
    {
     "data": {
      "text/plain": "(3418, 9148)"
     },
     "execution_count": 30,
     "metadata": {},
     "output_type": "execute_result"
    }
   ],
   "source": [
    "pivot_tags_dataframe.shape"
   ],
   "metadata": {
    "collapsed": false,
    "pycharm": {
     "name": "#%%\n"
    }
   }
  },
  {
   "cell_type": "code",
   "execution_count": 31,
   "outputs": [
    {
     "data": {
      "text/plain": "0    3413\n1       5\nName: tag#haskell, dtype: int64"
     },
     "execution_count": 31,
     "metadata": {},
     "output_type": "execute_result"
    }
   ],
   "source": [
    "# Check values\n",
    "pivot_tags_dataframe[\"tag#haskell\"].value_counts()"
   ],
   "metadata": {
    "collapsed": false,
    "pycharm": {
     "name": "#%%\n"
    }
   }
  },
  {
   "cell_type": "code",
   "execution_count": 32,
   "outputs": [
    {
     "data": {
      "text/plain": "tags\ntag#010editor                 1\ntag#okhttp3-integration       1\ntag#okhttp-interceptor        1\ntag#okhttp-client             1\ntag#okex-api                  1\n                           ... \ntag#deep-learning           234\ntag#django                  246\ntag#machine-learning        279\ntag#nan                     473\ntag#python                 1279\nLength: 9148, dtype: int64"
     },
     "execution_count": 32,
     "metadata": {},
     "output_type": "execute_result"
    }
   ],
   "source": [
    "# all tags exist at least once\n",
    "pivot_tags_dataframe.apply(lambda x: x.sum()).sort_values()"
   ],
   "metadata": {
    "collapsed": false,
    "pycharm": {
     "name": "#%%\n"
    }
   }
  },
  {
   "cell_type": "markdown",
   "source": [
    "## Repos topics extraction"
   ],
   "metadata": {
    "collapsed": false,
    "pycharm": {
     "name": "#%% md\n"
    }
   }
  },
  {
   "cell_type": "code",
   "execution_count": 33,
   "outputs": [
    {
     "data": {
      "text/plain": "                      project_name topic\n0  a1studmuffin#SpaceshipGenerator    3d\n1               domlysz#BlenderGIS    3d\n2                    YadiraF#PRNet    3d\n3                  cleardusk#3DDFA    3d\n4                  armory3d#armory    3d",
      "text/html": "<div>\n<style scoped>\n    .dataframe tbody tr th:only-of-type {\n        vertical-align: middle;\n    }\n\n    .dataframe tbody tr th {\n        vertical-align: top;\n    }\n\n    .dataframe thead th {\n        text-align: right;\n    }\n</style>\n<table border=\"1\" class=\"dataframe\">\n  <thead>\n    <tr style=\"text-align: right;\">\n      <th></th>\n      <th>project_name</th>\n      <th>topic</th>\n    </tr>\n  </thead>\n  <tbody>\n    <tr>\n      <th>0</th>\n      <td>a1studmuffin#SpaceshipGenerator</td>\n      <td>3d</td>\n    </tr>\n    <tr>\n      <th>1</th>\n      <td>domlysz#BlenderGIS</td>\n      <td>3d</td>\n    </tr>\n    <tr>\n      <th>2</th>\n      <td>YadiraF#PRNet</td>\n      <td>3d</td>\n    </tr>\n    <tr>\n      <th>3</th>\n      <td>cleardusk#3DDFA</td>\n      <td>3d</td>\n    </tr>\n    <tr>\n      <th>4</th>\n      <td>armory3d#armory</td>\n      <td>3d</td>\n    </tr>\n  </tbody>\n</table>\n</div>"
     },
     "execution_count": 33,
     "metadata": {},
     "output_type": "execute_result"
    }
   ],
   "source": [
    "kaggle_repos_dataframe_topics = kaggle_repos_dataframe[[\"project_name\", \"topic\"]]\n",
    "kaggle_repos_dataframe_topics.head()"
   ],
   "metadata": {
    "collapsed": false,
    "pycharm": {
     "name": "#%%\n"
    }
   }
  },
  {
   "cell_type": "code",
   "execution_count": 34,
   "outputs": [
    {
     "name": "stderr",
     "output_type": "stream",
     "text": [
      "/tmp/ipykernel_19291/2898533846.py:1: SettingWithCopyWarning: \n",
      "A value is trying to be set on a copy of a slice from a DataFrame.\n",
      "Try using .loc[row_indexer,col_indexer] = value instead\n",
      "\n",
      "See the caveats in the documentation: https://pandas.pydata.org/pandas-docs/stable/user_guide/indexing.html#returning-a-view-versus-a-copy\n",
      "  kaggle_repos_dataframe_topics[\"val\"] = 1\n"
     ]
    },
    {
     "data": {
      "text/plain": "                      project_name topic  val\n0  a1studmuffin#SpaceshipGenerator    3d    1\n1               domlysz#BlenderGIS    3d    1\n2                    YadiraF#PRNet    3d    1\n3                  cleardusk#3DDFA    3d    1\n4                  armory3d#armory    3d    1",
      "text/html": "<div>\n<style scoped>\n    .dataframe tbody tr th:only-of-type {\n        vertical-align: middle;\n    }\n\n    .dataframe tbody tr th {\n        vertical-align: top;\n    }\n\n    .dataframe thead th {\n        text-align: right;\n    }\n</style>\n<table border=\"1\" class=\"dataframe\">\n  <thead>\n    <tr style=\"text-align: right;\">\n      <th></th>\n      <th>project_name</th>\n      <th>topic</th>\n      <th>val</th>\n    </tr>\n  </thead>\n  <tbody>\n    <tr>\n      <th>0</th>\n      <td>a1studmuffin#SpaceshipGenerator</td>\n      <td>3d</td>\n      <td>1</td>\n    </tr>\n    <tr>\n      <th>1</th>\n      <td>domlysz#BlenderGIS</td>\n      <td>3d</td>\n      <td>1</td>\n    </tr>\n    <tr>\n      <th>2</th>\n      <td>YadiraF#PRNet</td>\n      <td>3d</td>\n      <td>1</td>\n    </tr>\n    <tr>\n      <th>3</th>\n      <td>cleardusk#3DDFA</td>\n      <td>3d</td>\n      <td>1</td>\n    </tr>\n    <tr>\n      <th>4</th>\n      <td>armory3d#armory</td>\n      <td>3d</td>\n      <td>1</td>\n    </tr>\n  </tbody>\n</table>\n</div>"
     },
     "execution_count": 34,
     "metadata": {},
     "output_type": "execute_result"
    }
   ],
   "source": [
    "kaggle_repos_dataframe_topics[\"val\"] = 1\n",
    "kaggle_repos_dataframe_topics.head()"
   ],
   "metadata": {
    "collapsed": false,
    "pycharm": {
     "name": "#%%\n"
    }
   }
  },
  {
   "cell_type": "code",
   "execution_count": 35,
   "outputs": [
    {
     "name": "stderr",
     "output_type": "stream",
     "text": [
      "/tmp/ipykernel_19291/1026092792.py:1: SettingWithCopyWarning: \n",
      "A value is trying to be set on a copy of a slice from a DataFrame.\n",
      "Try using .loc[row_indexer,col_indexer] = value instead\n",
      "\n",
      "See the caveats in the documentation: https://pandas.pydata.org/pandas-docs/stable/user_guide/indexing.html#returning-a-view-versus-a-copy\n",
      "  kaggle_repos_dataframe_topics.topic = kaggle_repos_dataframe_topics.topic.apply(lambda x: f\"topic#{x}\")\n"
     ]
    },
    {
     "data": {
      "text/plain": "                      project_name     topic  val\n0  a1studmuffin#SpaceshipGenerator  topic#3d    1\n1               domlysz#BlenderGIS  topic#3d    1\n2                    YadiraF#PRNet  topic#3d    1\n3                  cleardusk#3DDFA  topic#3d    1\n4                  armory3d#armory  topic#3d    1",
      "text/html": "<div>\n<style scoped>\n    .dataframe tbody tr th:only-of-type {\n        vertical-align: middle;\n    }\n\n    .dataframe tbody tr th {\n        vertical-align: top;\n    }\n\n    .dataframe thead th {\n        text-align: right;\n    }\n</style>\n<table border=\"1\" class=\"dataframe\">\n  <thead>\n    <tr style=\"text-align: right;\">\n      <th></th>\n      <th>project_name</th>\n      <th>topic</th>\n      <th>val</th>\n    </tr>\n  </thead>\n  <tbody>\n    <tr>\n      <th>0</th>\n      <td>a1studmuffin#SpaceshipGenerator</td>\n      <td>topic#3d</td>\n      <td>1</td>\n    </tr>\n    <tr>\n      <th>1</th>\n      <td>domlysz#BlenderGIS</td>\n      <td>topic#3d</td>\n      <td>1</td>\n    </tr>\n    <tr>\n      <th>2</th>\n      <td>YadiraF#PRNet</td>\n      <td>topic#3d</td>\n      <td>1</td>\n    </tr>\n    <tr>\n      <th>3</th>\n      <td>cleardusk#3DDFA</td>\n      <td>topic#3d</td>\n      <td>1</td>\n    </tr>\n    <tr>\n      <th>4</th>\n      <td>armory3d#armory</td>\n      <td>topic#3d</td>\n      <td>1</td>\n    </tr>\n  </tbody>\n</table>\n</div>"
     },
     "execution_count": 35,
     "metadata": {},
     "output_type": "execute_result"
    }
   ],
   "source": [
    "kaggle_repos_dataframe_topics.topic = kaggle_repos_dataframe_topics.topic.apply(lambda x: f\"topic#{x}\")\n",
    "kaggle_repos_dataframe_topics.head()"
   ],
   "metadata": {
    "collapsed": false,
    "pycharm": {
     "name": "#%%\n"
    }
   }
  },
  {
   "cell_type": "code",
   "execution_count": 36,
   "outputs": [
    {
     "data": {
      "text/plain": "topic                     topic#3d  topic#ajax  topic#algorithm  \\\nproject_name                                                      \n01joy#news-search-engine         0           0                0   \n05bit#peewee-async               0           0                0   \n0k#shyaml                        0           0                0   \n0x00-0x00#ShellPop               0           0                0   \n0xAX#linux-insides               0           0                0   \n\ntopic                     topic#android  topic#angular  topic#ansible  \\\nproject_name                                                            \n01joy#news-search-engine              0              0              0   \n05bit#peewee-async                    0              0              0   \n0k#shyaml                             0              0              0   \n0x00-0x00#ShellPop                    0              0              0   \n0xAX#linux-insides                    0              0              0   \n\ntopic                     topic#api  topic#arduino  topic#aspnet  topic#atom  \\\nproject_name                                                                   \n01joy#news-search-engine          0              0             0           0   \n05bit#peewee-async                0              0             0           0   \n0k#shyaml                         0              0             0           0   \n0x00-0x00#ShellPop                0              0             0           0   \n0xAX#linux-insides                0              0             0           0   \n\ntopic                     ...  topic#vim  topic#virtual-reality  topic#vue  \\\nproject_name              ...                                                \n01joy#news-search-engine  ...          0                      0          0   \n05bit#peewee-async        ...          0                      0          0   \n0k#shyaml                 ...          0                      0          0   \n0x00-0x00#ShellPop        ...          0                      0          0   \n0xAX#linux-insides        ...          0                      0          0   \n\ntopic                     topic#wagtail  topic#web-components  topic#webapp  \\\nproject_name                                                                  \n01joy#news-search-engine              0                     0             0   \n05bit#peewee-async                    0                     0             0   \n0k#shyaml                             0                     0             0   \n0x00-0x00#ShellPop                    0                     0             0   \n0xAX#linux-insides                    0                     0             0   \n\ntopic                     topic#webpack  topic#windows  topic#wordpress  \\\nproject_name                                                              \n01joy#news-search-engine              0              0                0   \n05bit#peewee-async                    0              0                0   \n0k#shyaml                             0              0                0   \n0x00-0x00#ShellPop                    0              0                0   \n0xAX#linux-insides                    0              0                0   \n\ntopic                     topic#xml  \nproject_name                         \n01joy#news-search-engine          0  \n05bit#peewee-async                0  \n0k#shyaml                         0  \n0x00-0x00#ShellPop                0  \n0xAX#linux-insides                0  \n\n[5 rows x 161 columns]",
      "text/html": "<div>\n<style scoped>\n    .dataframe tbody tr th:only-of-type {\n        vertical-align: middle;\n    }\n\n    .dataframe tbody tr th {\n        vertical-align: top;\n    }\n\n    .dataframe thead th {\n        text-align: right;\n    }\n</style>\n<table border=\"1\" class=\"dataframe\">\n  <thead>\n    <tr style=\"text-align: right;\">\n      <th>topic</th>\n      <th>topic#3d</th>\n      <th>topic#ajax</th>\n      <th>topic#algorithm</th>\n      <th>topic#android</th>\n      <th>topic#angular</th>\n      <th>topic#ansible</th>\n      <th>topic#api</th>\n      <th>topic#arduino</th>\n      <th>topic#aspnet</th>\n      <th>topic#atom</th>\n      <th>...</th>\n      <th>topic#vim</th>\n      <th>topic#virtual-reality</th>\n      <th>topic#vue</th>\n      <th>topic#wagtail</th>\n      <th>topic#web-components</th>\n      <th>topic#webapp</th>\n      <th>topic#webpack</th>\n      <th>topic#windows</th>\n      <th>topic#wordpress</th>\n      <th>topic#xml</th>\n    </tr>\n    <tr>\n      <th>project_name</th>\n      <th></th>\n      <th></th>\n      <th></th>\n      <th></th>\n      <th></th>\n      <th></th>\n      <th></th>\n      <th></th>\n      <th></th>\n      <th></th>\n      <th></th>\n      <th></th>\n      <th></th>\n      <th></th>\n      <th></th>\n      <th></th>\n      <th></th>\n      <th></th>\n      <th></th>\n      <th></th>\n      <th></th>\n    </tr>\n  </thead>\n  <tbody>\n    <tr>\n      <th>01joy#news-search-engine</th>\n      <td>0</td>\n      <td>0</td>\n      <td>0</td>\n      <td>0</td>\n      <td>0</td>\n      <td>0</td>\n      <td>0</td>\n      <td>0</td>\n      <td>0</td>\n      <td>0</td>\n      <td>...</td>\n      <td>0</td>\n      <td>0</td>\n      <td>0</td>\n      <td>0</td>\n      <td>0</td>\n      <td>0</td>\n      <td>0</td>\n      <td>0</td>\n      <td>0</td>\n      <td>0</td>\n    </tr>\n    <tr>\n      <th>05bit#peewee-async</th>\n      <td>0</td>\n      <td>0</td>\n      <td>0</td>\n      <td>0</td>\n      <td>0</td>\n      <td>0</td>\n      <td>0</td>\n      <td>0</td>\n      <td>0</td>\n      <td>0</td>\n      <td>...</td>\n      <td>0</td>\n      <td>0</td>\n      <td>0</td>\n      <td>0</td>\n      <td>0</td>\n      <td>0</td>\n      <td>0</td>\n      <td>0</td>\n      <td>0</td>\n      <td>0</td>\n    </tr>\n    <tr>\n      <th>0k#shyaml</th>\n      <td>0</td>\n      <td>0</td>\n      <td>0</td>\n      <td>0</td>\n      <td>0</td>\n      <td>0</td>\n      <td>0</td>\n      <td>0</td>\n      <td>0</td>\n      <td>0</td>\n      <td>...</td>\n      <td>0</td>\n      <td>0</td>\n      <td>0</td>\n      <td>0</td>\n      <td>0</td>\n      <td>0</td>\n      <td>0</td>\n      <td>0</td>\n      <td>0</td>\n      <td>0</td>\n    </tr>\n    <tr>\n      <th>0x00-0x00#ShellPop</th>\n      <td>0</td>\n      <td>0</td>\n      <td>0</td>\n      <td>0</td>\n      <td>0</td>\n      <td>0</td>\n      <td>0</td>\n      <td>0</td>\n      <td>0</td>\n      <td>0</td>\n      <td>...</td>\n      <td>0</td>\n      <td>0</td>\n      <td>0</td>\n      <td>0</td>\n      <td>0</td>\n      <td>0</td>\n      <td>0</td>\n      <td>0</td>\n      <td>0</td>\n      <td>0</td>\n    </tr>\n    <tr>\n      <th>0xAX#linux-insides</th>\n      <td>0</td>\n      <td>0</td>\n      <td>0</td>\n      <td>0</td>\n      <td>0</td>\n      <td>0</td>\n      <td>0</td>\n      <td>0</td>\n      <td>0</td>\n      <td>0</td>\n      <td>...</td>\n      <td>0</td>\n      <td>0</td>\n      <td>0</td>\n      <td>0</td>\n      <td>0</td>\n      <td>0</td>\n      <td>0</td>\n      <td>0</td>\n      <td>0</td>\n      <td>0</td>\n    </tr>\n  </tbody>\n</table>\n<p>5 rows × 161 columns</p>\n</div>"
     },
     "execution_count": 36,
     "metadata": {},
     "output_type": "execute_result"
    }
   ],
   "source": [
    "pivot_topics_dataframe = kaggle_repos_dataframe_topics.pivot_table(index=\"project_name\", values=\"val\", columns=\"topic\", fill_value=0)\n",
    "pivot_topics_dataframe.head()"
   ],
   "metadata": {
    "collapsed": false,
    "pycharm": {
     "name": "#%%\n"
    }
   }
  },
  {
   "cell_type": "markdown",
   "source": [
    "## Final dataset construction"
   ],
   "metadata": {
    "collapsed": false,
    "pycharm": {
     "name": "#%% md\n"
    }
   }
  },
  {
   "cell_type": "code",
   "execution_count": 37,
   "outputs": [],
   "source": [
    "# Final step - join package columns (features) and tags columns (targets)"
   ],
   "metadata": {
    "collapsed": false,
    "pycharm": {
     "name": "#%%\n"
    }
   }
  },
  {
   "cell_type": "code",
   "execution_count": 38,
   "outputs": [
    {
     "data": {
      "text/plain": "(3418, 9148)"
     },
     "execution_count": 38,
     "metadata": {},
     "output_type": "execute_result"
    }
   ],
   "source": [
    "# First of all check size of dataframes\n",
    "pivot_tags_dataframe.shape"
   ],
   "metadata": {
    "collapsed": false,
    "pycharm": {
     "name": "#%%\n"
    }
   }
  },
  {
   "cell_type": "code",
   "execution_count": 39,
   "outputs": [
    {
     "data": {
      "text/plain": "(3418, 161)"
     },
     "execution_count": 39,
     "metadata": {},
     "output_type": "execute_result"
    }
   ],
   "source": [
    "pivot_topics_dataframe.shape"
   ],
   "metadata": {
    "collapsed": false,
    "pycharm": {
     "name": "#%%\n"
    }
   }
  },
  {
   "cell_type": "code",
   "execution_count": 40,
   "outputs": [
    {
     "data": {
      "text/plain": "(2853, 15383)"
     },
     "execution_count": 40,
     "metadata": {},
     "output_type": "execute_result"
    }
   ],
   "source": [
    "pivot_package_dataframe.shape"
   ],
   "metadata": {
    "collapsed": false,
    "pycharm": {
     "name": "#%%\n"
    }
   }
  },
  {
   "cell_type": "code",
   "execution_count": 41,
   "outputs": [
    {
     "data": {
      "text/plain": "(3404, 3852)"
     },
     "execution_count": 41,
     "metadata": {},
     "output_type": "execute_result"
    }
   ],
   "source": [
    "pivot_ext_count_dataset.shape"
   ],
   "metadata": {
    "collapsed": false,
    "pycharm": {
     "name": "#%%\n"
    }
   }
  },
  {
   "cell_type": "code",
   "execution_count": 42,
   "outputs": [
    {
     "data": {
      "text/plain": "{'1N3#Wordpress-XMLRPC-Brute-Force-Exploit',\n '666wcy#ARPT-Bot',\n 'Ank-Cha#Social-Distancing-Analyser-COVID-19',\n 'Bhupesh-V#memer-action',\n 'CLUEbenchmark#CLUEDatasetSearch',\n 'CiKu370#OSIF',\n 'Comcast#ansible-sdkman',\n 'Dineshkarthik#telegram_media_downloader',\n 'DmrfCoder#AlgorithmAndDataStructure',\n 'EZFNDEV#EZFN-Lobbybot',\n 'EZForever#HiveMiner',\n 'FeeiCN#Security-PPT',\n 'Hello-Linux#Ansible-VIM-IDE',\n 'HoboVR-Labs#hobo_vr',\n 'INTERMT#Awesome-PyTorch-Chinese',\n 'Jack-Cherish#PythonPark',\n 'JalanJiang#leetcode-notebook',\n 'Karan-Malik#FaceMaskDetector',\n 'Kylmakalle#heroku-telegram-bot',\n 'LyleMi#Learn-Web-Hacking',\n 'MMehdiMousavi#SuperCaustics',\n 'Nanoseb#ncTelegram',\n 'Neko250#sublime-PICO-8',\n 'Panintelligence#picons',\n 'RunaCapital#awesome-oss-alternatives',\n 'RyanAWalters#PowerOf2ImageResizer',\n 'Singosgu#GreaterWMS',\n 'SpEcHiDe#AnyDLBot',\n 'SpectralVectors#RightMouseNavigation',\n 'TarrySingh#Artificial-Intelligence-Deep-Learning-Machine-Learning-Tutorials',\n 'Tautulli#Tautulli',\n 'Tencent#CodeAnalysis',\n 'Textualize#rich-cli',\n 'TheLartians#Format.cmake',\n 'ThibaultGROUEIX#AtlasNet',\n 'TianhongDai#reinforcement-learning-algorithms',\n 'TimoBolkart#TF_FLAME',\n 'TingFree#NLPer-Arsenal',\n 'Tkd-Alex#Twitch-Channel-Points-Miner-v2',\n 'Tribler#py-ipv8',\n 'Tribler#tribler',\n 'Trusted-AI#AIF360',\n 'Tydotbaba#Cloud-Learning',\n 'Urinx#WeixinBot',\n 'VCL3D#VolumetricCapture',\n 'VPanjeta#ModiScript',\n 'VinAIResearch#BERTweet',\n 'VirgilSecurity#virgil-ratchet-kotlin',\n 'Vladkryvoruchko#PSPNet-Keras-tensorflow',\n 'WeileiZeng#Open-Source-COVID-19',\n 'Wiredcraft#pipelines',\n 'WoLpH#numpy-stl',\n 'WooKeyWallet#monero-wallet-android-app',\n 'XChainLab#documentation',\n 'Xharlie#pointnerf',\n 'Xilinx#finn',\n 'XuehaiPan#nvitop',\n 'YadiraF#DECA',\n 'YadiraF#PRNet',\n 'YadominJinta#atilo',\n 'YarikSOffice#lingver',\n 'YuzuRyo61#KotohiraYu',\n 'ZedThree#clang-tidy-review',\n 'a1studmuffin#SpaceshipGenerator',\n 'aabouzaid#netbox-as-ansible-inventory',\n 'aantoniadis#clean-architecture-example',\n 'aavshr#grt',\n 'ableev#Zabbix-in-Telegram',\n 'achiku#jungle',\n 'achillesrasquinha#pipupgrade',\n 'adamlwgriffiths#Pyrr',\n 'adroitandroid#Near',\n 'aeroxis#sultan',\n 'afiskon#py-vm',\n 'afrendeiro#toolkit',\n 'ageitgey#face_recognition',\n 'agoose77#pysam',\n 'aio-libs#aiobotocore',\n 'aio-libs#aiomysql',\n 'aio-libs#aiopg',\n 'aiogram#aiogram',\n 'airaria#TextBrewer',\n 'airingursb#bilibili-user',\n 'aiven#pghoard',\n 'ajalt#clikt',\n 'alameda-project#matorral',\n 'albertyw#git-reviewers',\n 'alerta#alerta',\n 'alexal1#Insomniac',\n 'alexisbcook#ResNetCAM-keras',\n 'alexlaurence#NIfTI-Image-Converter',\n 'alfonsrv#impf-botpy',\n 'algernon#fluffy-broccoli',\n 'alibaba#AliceMind',\n 'alirezamika#autoscraper',\n 'allenai#scibert',\n 'allenai#scispacy',\n 'alpacahq#alpaca-trade-api-python',\n 'amimo#dcc',\n 'ammaraskar#pyCraft',\n 'amonapp#amon',\n 'anantdgoel#ProjectFib',\n 'andmatand#midi-to-pico8',\n 'andrewbihl#bsed',\n 'andreyfedoseev#django-static-precompiler',\n 'android#architecture-samples',\n 'android#compose-samples',\n 'andyzeng#tsdf-fusion-python',\n 'andyzeng#visual-pushing-grasping',\n 'anouarbensaad#vulnx',\n 'ansible#ansible-lint',\n 'ansible#ansible-navigator',\n 'ansible-collections#community.vmware',\n 'ansible-collections#community.zabbix',\n 'ansible-provisioning#ansible-provisioning',\n 'antonioCoco#SharPyShell',\n 'apoclyps#reviews',\n 'appsecco#vulnerable-apps',\n 'appu1232#Discord-Selfbot',\n 'archivy#archivy',\n 'archlinux#archinstall',\n 'arnabgho#iSketchNFill',\n 'arnoweng#CheXNet',\n 'artyshko#smd',\n 'asappresearch#sru',\n 'ashutoshbsathe#yacv',\n 'asreview#asreview',\n 'astorfi#3D-convolutional-speaker-recognition',\n 'atom#language-csharp',\n 'atosatto#ansible-dockerswarm',\n 'atulkum#pointer_summarizer',\n 'aurelg#feedspora',\n 'autoliuweijie#K-BERT',\n 'autosoft-dev#tree-hugger',\n 'aws#aws-cli',\n 'aws-cloudformation#cfn-lint',\n 'aws-samples#aws-serverless-ecommerce-platform',\n 'aws-samples#startup-kit-templates',\n 'awslabs#aws-data-wrangler',\n 'awslabs#aws-shell',\n 'awslabs#aws-well-architected-labs',\n 'axiros#terminal_markdown_viewer',\n 'ayushi7rawat#Ultimate-Python-Resource-Hub',\n 'b-ryan#powerline-shell',\n 'bashtage#arch',\n 'bazelbuild#continuous-integration',\n 'bbaassssiiee#ansible-review',\n 'bbfamily#abu',\n 'bbugyi200#funky',\n 'bchao1#bullet',\n 'bchew#dynamodump',\n 'bclindner#ivory',\n 'benediktg#gnu-social-export',\n 'bheinzerling#bpemb',\n 'bihealth#vcfpy',\n 'billryan#algorithm-exercise',\n 'binux#pyspider',\n 'bitkeks#mastodon-to-twitter',\n 'blackle#mastodon-data-viewer.py',\n 'blmoistawinde#HarvestText',\n 'bonzanini#Book-SocialMediaMiningPython',\n 'borgbackup#borg',\n 'borzecki#reviewio',\n 'bosondata#badwolf',\n 'boto#boto3',\n 'bottlesdevs#Bottles',\n 'bram2w#baserow',\n 'breandan#galoisenne',\n 'brightmart#bert_language_understanding',\n 'buildinspace#peru',\n 'buntine#SwervinMervin',\n 'busyyang#python_sound_open',\n 'bytefish#facerec',\n 'caiyonglong#MusicLake',\n 'calmery#Pawopy',\n 'capitalone#DataProfiler',\n 'carpedm20#MemN2N-tensorflow',\n 'carpedm20#lstm-char-cnn-tensorflow',\n 'celery#celery',\n 'certbot#certbot',\n 'chartbeat-labs#textacy',\n 'chatopera#Synonyms',\n 'chauby#V-REP-YouBot-Demo',\n 'chenyuntc#PyTorchText',\n 'chiphuyen#lazynlp',\n 'chr-1x#ananas',\n 'christian-draeger#basic-selenium-project',\n 'christian-draeger#pact-example',\n 'clerie#mastodon-hashtag-spreader',\n 'clips#pattern',\n 'clovaai#wsolevaluation',\n 'cltk#cltk',\n 'code4game#libprotobuf_ue4',\n 'codeaprendiz#devops-essentials',\n 'codelucas#newspaper',\n 'codertimo#BERT-pytorch',\n 'codl#forget',\n 'coleifer#peewee',\n 'conan-io#cmake-conan',\n 'conan-io#conan-center-index',\n 'cookiecutter#cookiecutter',\n 'cool-RR#PySnooper',\n 'corbindavenport#tootbot',\n 'coursera-dl#coursera-dl',\n 'craigsdennis#intro-to-apis-course',\n 'croncat#MyCryptoHoldings',\n 'crossbario#crossbar',\n 'crownpku#Information-Extraction-Chinese',\n 'ctf-wiki#ctf-wiki',\n 'cyrus-and#gdb-dashboard',\n 'dahlia#awesome-sqlalchemy',\n 'datadesk#notebooks',\n 'deep5050#flawfinder-action',\n 'dhilipsiva#webapp-checklist',\n 'disposable#disposable',\n 'doerlbh#V2R',\n 'dolph#git-ready',\n 'donnemartin#dev-setup',\n 'drduh#macOS-Security-and-Privacy-Guide',\n 'dw5#Metropolis',\n 'edoardottt#spark-ar-creators',\n 'egtwobits#mesh_mesh_align_plus',\n 'eirannejad#pyRevit',\n 'fabianonline#telegram_backup',\n 'feicong#lua_re',\n 'fendouai#Awesome-Chatbot',\n 'guillaumegenthial#sequence_tagging',\n 'gurland#telegram-delete-all-messages',\n 'harfang3d#vr-python-quickstart-hg1',\n 'hoochanlon#w3-goto-world',\n 'hoya012#deep_learning_object_detection',\n 'hsandt#GGJ2018-Transmission',\n 'iBug#This-Repo-Has-435-Stars',\n 'idealo#imagededup',\n 'ihack4falafel#OSCP',\n 'iiscleap#Coswara-Data',\n 'immuni-app#immuni-app-android',\n 'instillai#deep-learning-roadmap',\n 'jagrit007#Telegram-CloneBot',\n 'jakubroztocil#chat',\n 'jarun#googler',\n 'jhipster#jhipster-kotlin',\n 'jostmey#NakedTensor',\n 'jpadilla#django-project-template',\n 'jrieke#traingenerator',\n 'juliangaal#python-cheat-sheet',\n 'jupyterhub#jupyterhub-deploy-docker',\n 'kelvins#Municipios-Brasileiros',\n 'kotlin-telegram-bot#kotlin-telegram-bot',\n 'lifadev#archive_aws-lambda-go-shim',\n 'likedan#Awesome-CoreML-Models',\n 'lk-geimfari#awesomo',\n 'lyhue1991#eat_tensorflow2_in_30_days',\n 'mail-in-a-box#mailinabox',\n 'mamoniem#UnrealEditorPythonScripts',\n 'mathjax#MathJax-docs',\n 'matteocrippa#awesome-conferences-database',\n 'mattrobenolt#jinja2-cli',\n 'mazurio#bodyweight-fitness-android',\n 'mbadry1#DeepLearning.ai-Summary',\n 'mechboxes#mech',\n 'microsoft#hummingbird',\n 'ml-tooling#best-of-ml-python',\n 'ml-tooling#best-of-python',\n 'ml-tooling#best-of-web-python',\n 'mmilidoni#github-downloads-count',\n 'moezbhatti#qksms',\n 'mrlesmithjr#Ansible',\n 'mrlesmithjr#vagrant-box-templates',\n 'msanders#cider',\n 'mtli#PhotoSketch',\n 'mudpi#mudpi-core',\n 'n0ts#ansible-human_log',\n 'n8henrie#pycookiecheat',\n 'nasa#scrub',\n 'nat236919#covid19-api',\n 'naturomics#CapsNet-Tensorflow',\n 'nccgroup#PMapper',\n 'nccgroup#Scout2',\n 'nccgroup#call_map',\n 'nickjj#ansible-docker',\n 'nicolai86#ansible-rails-deployment',\n 'nidhaloff#igel',\n 'nixawk#pentest-wiki',\n 'not-kennethreitz#wsl-guide',\n 'oe4dns#tootgroup.py',\n 'openedx#configuration',\n 'openshift#openshift-ansible',\n 'opoplawski#ansible-pfsense',\n 'oppia#oppia',\n 'orsinium-labs#flake8-todos',\n 'os#slacker',\n 'owid#covid-19-data',\n 'p-ranav#box',\n 'pallupz#covid-vaccine-booking',\n 'pandolia#tinyc',\n 'pantsbuild#pants',\n 'paolotremadio#SOMA-Smart-Shades-HTTP-API',\n 'paralax#awesome-honeypots',\n 'paulvangentcom#python_corona_simulation',\n 'pbeck#whatsbook',\n 'pcomputo#Whole-Foods-Delivery-Slot',\n 'pearl-core#pearl',\n 'permitio#opal',\n 'philipperemy#deep-learning-bitcoin',\n 'pirate#crypto-trader',\n 'platformio#platform-espressif32',\n 'platformio#platform-espressif8266',\n 'platformio#platform-ststm32',\n 'platformio#platformio-core',\n 'platisd#bad-commit-message-blocker',\n 'platisd#clang-tidy-pr-comments',\n 'prathimacode-hub#Awesome_Python_Scripts',\n 'praw-dev#praw',\n 'projectdiscovery#nuclei-templates',\n 'protontypes#LibreSelery',\n 'protontypes#continuous-reforestation',\n 'public-apis#public-apis',\n 'pycontribs#jenkinsapi',\n 'pynamodb#PynamoDB',\n 'pypa#pipx',\n 'pypyr#pypyr',\n 'python-discord#bot',\n 'python-gitlab#python-gitlab',\n 'pyvista#pyvista',\n 'pywavefront#PyWavefront',\n 'qidiso#mobilefacenet-V2',\n 'qubvel#segmentation_models',\n 'ranahanocka#MeshCNN',\n 'rastating#shiva',\n 'rasterio#rasterio',\n 'rbignon#doctoshotgun',\n 'rdeepak2002#reddit-place-script-2022',\n 'realsirjoe#instagram-scraper',\n 'reviewboard#ReviewBot',\n 'reviewboard#rbintegrations',\n 'reviewboard#reviewboard',\n 'richardkiss#pycoin',\n 'riemers#ansible-gitlab-runner',\n 'risuorg#risu',\n 'rndinfosecguy#Scavenger',\n 'rossant#awesome-math',\n 'rougier#numpy-100',\n 'rpicard#explore-flask',\n 'ryansmcgee#seirsplus',\n 'ryfeus#lambda-packs',\n 's0md3v#Orbit',\n 's3tools#s3cmd',\n 'sa7mon#S3Scanner',\n 'sadighian#crypto-rl',\n 'saimj7#People-Counting-in-Real-Time',\n 'salesforce#policy_sentry',\n 'sameera-madushan#Print-My-Shell',\n 'samre12#deep-trading-agent',\n 'san089#Udacity-Data-Engineering-Projects',\n 'saschpe#android-customtabs',\n 'sberbank-ai-lab#LightAutoML',\n 'selfboot#LeetCode',\n 'shadowsocks#shadowsocks-android',\n 'sideshowbarker#gpr',\n 'sidhuparas#Coronavirus-Tracker',\n 'simonbaird#gerrit-nag',\n 'simple-salesforce#simple-salesforce',\n 'sloria#doitlive',\n 'smallSohoSolo#McImage',\n 'sobolevn#flake8-type-annotations',\n 'sociomantic-tsunami#git-hub',\n 'soubhiksanyal#FLAME_PyTorch',\n 'spack#spack',\n 'spdx#tools-python',\n 'spectacles-ci#spectacles',\n 'spesmilo#electrum',\n 'splitbrain#git-pull-request',\n 'spotify#luigi',\n 'spulec#moto',\n 'spyder-ide#spyder',\n 'srevinsaju#guiscrcpy',\n 'sshwsfc#xadmin',\n 'stackimpact#stackimpact-python',\n 'stephenhky#PyShortTextCategorization',\n 'stravnik#toxic-repos',\n 'streamlink#streamlink',\n 'summanlp#textrank',\n 'sumoprojects#SumoEasyMiner',\n 'sunscrapers#djoser',\n 'swapagarwal#JARVIS-on-Messenger',\n 'sweetice#Deep-reinforcement-learning-with-pytorch',\n 'swisskyrepo#GraphQLmap',\n 'sympy#sympy',\n 't13a#depot',\n 'talkpython#data-driven-web-apps-with-flask',\n 'taogeT#livetv_mining',\n 'taosir#cnn_handwritten_chinese_recognition',\n 'taoufik07#responder',\n 'tarek360#koshry',\n 'tartiflette#tartiflette',\n 'tarunkant#Gopherus',\n 'tateisu#SubwayTooter',\n 'tdorssers#ztp',\n 'techtanic#Discounted-Udemy-Course-Enroller',\n 'tecladocode#rest-apis-flask-python',\n 'tensorlayer#seq2seq-chatbot',\n 'teracyhq#flask-classful',\n 'testdrivenio#flask-on-docker',\n 'textX#Arpeggio',\n 'texworld#tikzplotlib',\n 'tgbot-collection#YYeTsBot',\n 'the0demiurge#ShadowSocksShare',\n 'thewhiteh4t#pwnedOrNot',\n 'thingsboard#thingsboard-gateway',\n 'think-biq#LLV',\n 'thisbejim#Pyrebase',\n 'thomaxxl#safrs',\n 'thombashi#pytablewriter',\n 'thombashi#sqlitebiter',\n 'thorin-schiffer#freeturn',\n 'thoth-station#prescriptions',\n 'threedle#text2mesh',\n 'thu-ml#tianshou',\n 'thuijskens#scikit-hyperband',\n 'thunlp#OpenPrompt',\n 'tiangolo#fastapi',\n 'tiangolo#full-stack',\n 'tiangolo#full-stack-fastapi-couchbase',\n 'tiangolo#meinheld-gunicorn-flask-docker',\n 'tiangolo#uvicorn-gunicorn-fastapi-docker',\n 'timkpaine#paperboy',\n 'timofurrer#maya',\n 'timoschick#pet',\n 'tintinweb#ecdsa-private-key-recovery',\n 'tintinweb#smart-contract-sanctuary',\n 'tiny-pilot#tinypilot',\n 'tko22#flask-boilerplate',\n 'tkrabel#edaviz',\n 'tmthyjames#SQLCell',\n 'tommybuonomo#dotsindicator',\n 'tonsky#Clojure-Sublimed',\n 'torchbox#wagtail-headless-preview',\n 'tornadoweb#tornado',\n 'torrinworx#Blend_My_NFTs',\n 'tortilla#tortilla',\n 'tortoise#tortoise-orm',\n 'trailofbits#graphtage',\n 'transcranial#jupyter-themer',\n 'translate#translate',\n 'trco#django-bootstrap-modal-forms',\n 'trekhleb#learn-python',\n 'trezor#python-mnemonic',\n 'trezor#trezor-core',\n 'tribe29#checkmk',\n 'tschuchortdev#kotlin-compile-testing',\n 'tudorelu#pyjuque',\n 'tuskyapp#Tusky',\n 'tvytlx#render-py',\n 'twardoch#fonttools-opentype-feature-freezer',\n 'twintproject#twint',\n 'twisted#towncrier',\n 'twisted#twisted',\n 'twopirllc#pandas-ta',\n 'twtrubiks#django-rest-framework-tutorial',\n 'tyiannak#pyAudioAnalysis',\n 'tylerlaberge#PyPattyrn',\n 'uber-archive#plato-research-dialogue-system',\n 'uber-research#PPLM',\n 'ucas-vg#PointTinyBenchmark',\n 'uds-se#FormatFuzzer',\n 'undercasetype#Fraunces',\n 'undergroundwires#Azure-in-bullet-points',\n 'undertheseanlp#underthesea',\n 'underyx#flask-redis',\n 'uniswap-python#uniswap-python',\n 'unode#firefox_decrypt',\n 'ustclug#mirrorhelp',\n 'vaexio#vaex',\n 'valayDave#arxiv-miner',\n 'valcanobacon#BoostBots',\n 'vanniktech#kotlin-on-code-quality-tools',\n 'vantage-sh#ec2instances.info',\n 'vchinnipilli#kubestriker',\n 'vcs-python#vcspull',\n 'versada#sentry-openproject',\n 'vi3k6i5#flashtext',\n 'vidyabhandary#vidyabhandary',\n 'vimalloc#flask-jwt-extended',\n 'viniciuschiele#flask-apscheduler',\n 'vinta#awesome-python',\n 'viraptor#phply',\n 'vispy#vispy',\n 'vita-epfl#monoloco',\n 'vladimirvivien#go-cshared-examples',\n 'vlasovskikh#funcparserlib',\n 'vmnguyen#semgrep-rules',\n 'vmware-archive#wardroom',\n 'vnpy#vnpy',\n 'vocalodon#dontwi',\n 'voila-dashboards#voila',\n 'vyperlang#vyper',\n 'vzhou842#profanity-check',\n 'waditu#tushare',\n 'wagtail#wagtail-personalisation',\n 'wakin-#simple_ap',\n 'wakingrufus#mastodon-jfx',\n 'wal-e#wal-e',\n 'walsvid#Pixel2MeshPlusPlus',\n 'wangshub#wechat_jump_game',\n 'weaveworks#grafanalib',\n 'weechat#scripts',\n 'weijiekoh#py2-monero-wallet-generator',\n 'welliamcao#OpsManage',\n 'wemake-services#docker-image-size-limit',\n 'wemake-services#dotenv-linter',\n 'wemake-services#dump-env',\n 'wemake-services#flake8-broken-line',\n 'wemake-services#flake8-eradicate',\n 'wemake-services#wemake-python-styleguide',\n 'wgergely#bookmarks',\n 'why2lyj#youxiang-Itchat',\n 'wikimedia#apps-android-wikipedia',\n 'wikipedia2vec#wikipedia2vec',\n 'wilsonfreitas#awesome-quant',\n 'wookayin#gpustat',\n 'workalendar#workalendar',\n 'wrkzcoin#TipBot',\n 'wting#autojump',\n 'wtsnjp#twoot.py',\n 'wuhan-support#wuhan.support',\n 'wzhe06#Ad-papers',\n 'wzpan#dingdang-robot',\n 'x25#coinhive-stratum-mining-proxy',\n 'xHak9x#fbi',\n 'xemantic#xemantic-state',\n 'xinntao#facexlib',\n 'xiumingzhang#GenRe-ShapeHD',\n 'yangjianxin1#GPT2-chitchat',\n 'yao8839836#text_gcn',\n 'yaoyuannnn#gerritlab',\n 'yaserkl#RLSeq2Seq',\n 'ycd#manage-fastapi',\n 'yceruto#django-ajax',\n 'ymcui#Chinese-BERT-wwm',\n 'ymcui#Chinese-ELECTRA',\n 'ymcui#Chinese-XLNet',\n 'yokawasa#azure-functions-python-samples',\n 'yoloseem#awesome-sphinxdoc',\n 'yongzhuo#Keras-TextClassification',\n 'yongzhuo#nlp_xiaojiang',\n 'yoshiko2#Movie_Data_Capture',\n 'youfou#wxpy',\n 'yourlabs#crudlfap',\n 'ysrc#xunfeng',\n 'yt-dlp#yt-dlp',\n 'yzhao062#anomaly-detection-resources',\n 'zaibacu#rita-dsl',\n 'zalando#pg_view',\n 'zalando#spilo',\n 'zanellia#prometeo',\n 'zentralopensource#zentral',\n 'zeratax#mastodon-img-bot',\n 'zfw1226#gym-unrealcv',\n 'zhiyuan-lin#TuskyUncensored',\n 'zigg#fediplay',\n 'zjunlp#DeepKE',\n 'zlxy9892#ml_code',\n 'zutianbiao#baize',\n 'zwx8981#UNIQUE'}"
     },
     "execution_count": 42,
     "metadata": {},
     "output_type": "execute_result"
    }
   ],
   "source": [
    "set(pivot_tags_dataframe.index).difference(set(pivot_package_dataframe.index))"
   ],
   "metadata": {
    "collapsed": false,
    "pycharm": {
     "name": "#%%\n"
    }
   }
  },
  {
   "cell_type": "code",
   "execution_count": 43,
   "outputs": [
    {
     "data": {
      "text/plain": "set()"
     },
     "execution_count": 43,
     "metadata": {},
     "output_type": "execute_result"
    }
   ],
   "source": [
    "set(pivot_tags_dataframe.columns).intersection(set(pivot_package_dataframe.columns))"
   ],
   "metadata": {
    "collapsed": false,
    "pycharm": {
     "name": "#%%\n"
    }
   }
  },
  {
   "cell_type": "code",
   "execution_count": 44,
   "outputs": [
    {
     "data": {
      "text/plain": "set()"
     },
     "execution_count": 44,
     "metadata": {},
     "output_type": "execute_result"
    }
   ],
   "source": [
    "# Check for package names and tag names intersection\n",
    "set(pivot_topics_dataframe.columns).intersection(set(pivot_package_dataframe.columns))"
   ],
   "metadata": {
    "collapsed": false,
    "pycharm": {
     "name": "#%%\n"
    }
   }
  },
  {
   "cell_type": "code",
   "execution_count": 45,
   "outputs": [
    {
     "data": {
      "text/plain": "set()"
     },
     "execution_count": 45,
     "metadata": {},
     "output_type": "execute_result"
    }
   ],
   "source": [
    "set(pivot_tags_dataframe.columns).intersection(set(pivot_ext_count_dataset.columns))"
   ],
   "metadata": {
    "collapsed": false,
    "pycharm": {
     "name": "#%%\n"
    }
   }
  },
  {
   "cell_type": "code",
   "execution_count": 46,
   "outputs": [
    {
     "data": {
      "text/plain": "set()"
     },
     "execution_count": 46,
     "metadata": {},
     "output_type": "execute_result"
    }
   ],
   "source": [
    "set(pivot_package_dataframe.columns).intersection(set(pivot_ext_count_dataset.columns))"
   ],
   "metadata": {
    "collapsed": false,
    "pycharm": {
     "name": "#%%\n"
    }
   }
  },
  {
   "cell_type": "code",
   "execution_count": 47,
   "outputs": [
    {
     "data": {
      "text/plain": "                          package#A  package#ACGAN  package#APDrawing  \\\nproject_name                                                            \n01joy#news-search-engine          0              0                  0   \n05bit#peewee-async                0              0                  0   \n0k#shyaml                         0              0                  0   \n0x00-0x00#ShellPop                0              0                  0   \n0xAX#linux-insides                0              0                  0   \n\n                          package#APDrawingGAN  package#APDrawingGAN.data  \\\nproject_name                                                                \n01joy#news-search-engine                     0                          0   \n05bit#peewee-async                           0                          0   \n0k#shyaml                                    0                          0   \n0x00-0x00#ShellPop                           0                          0   \n0xAX#linux-insides                           0                          0   \n\n                          package#APDrawingGAN.data.base_data_loader  \\\nproject_name                                                           \n01joy#news-search-engine                                           0   \n05bit#peewee-async                                                 0   \n0k#shyaml                                                          0   \n0x00-0x00#ShellPop                                                 0   \n0xAX#linux-insides                                                 0   \n\n                          package#APDrawingGAN.data.base_dataset  \\\nproject_name                                                       \n01joy#news-search-engine                                       0   \n05bit#peewee-async                                             0   \n0k#shyaml                                                      0   \n0x00-0x00#ShellPop                                             0   \n0xAX#linux-insides                                             0   \n\n                          package#APDrawingGAN.data.face_landmark  \\\nproject_name                                                        \n01joy#news-search-engine                                        0   \n05bit#peewee-async                                              0   \n0k#shyaml                                                       0   \n0x00-0x00#ShellPop                                              0   \n0xAX#linux-insides                                              0   \n\n                          package#APDrawingGAN.data.image_folder  \\\nproject_name                                                       \n01joy#news-search-engine                                       0   \n05bit#peewee-async                                             0   \n0k#shyaml                                                      0   \n0x00-0x00#ShellPop                                             0   \n0xAX#linux-insides                                             0   \n\n                          package#APDrawingGAN.models  ...  extension#.zktx  \\\nproject_name                                           ...                    \n01joy#news-search-engine                            0  ...                0   \n05bit#peewee-async                                  0  ...                0   \n0k#shyaml                                           0  ...                0   \n0x00-0x00#ShellPop                                  0  ...                0   \n0xAX#linux-insides                                  0  ...                0   \n\n                          extension#.zlib  extension#.zmpl  extension#.zone  \\\nproject_name                                                                  \n01joy#news-search-engine                0                0                0   \n05bit#peewee-async                      0                0                0   \n0k#shyaml                               0                0                0   \n0x00-0x00#ShellPop                      0                0                0   \n0xAX#linux-insides                      0                0                0   \n\n                          extension#.zoneinfo  extension#.zpln  \\\nproject_name                                                     \n01joy#news-search-engine                    0                0   \n05bit#peewee-async                          0                0   \n0k#shyaml                                   0                0   \n0x00-0x00#ShellPop                          0                0   \n0xAX#linux-insides                          0                0   \n\n                          extension#.zraw  extension#.zsh  extension#.zst  \\\nproject_name                                                                \n01joy#news-search-engine                0               0               0   \n05bit#peewee-async                      0               0               0   \n0k#shyaml                               0               0               0   \n0x00-0x00#ShellPop                      0               0               0   \n0xAX#linux-insides                      0               0               0   \n\n                          extension#.zzz  \nproject_name                              \n01joy#news-search-engine               0  \n05bit#peewee-async                     0  \n0k#shyaml                              0  \n0x00-0x00#ShellPop                     0  \n0xAX#linux-insides                     0  \n\n[5 rows x 19235 columns]",
      "text/html": "<div>\n<style scoped>\n    .dataframe tbody tr th:only-of-type {\n        vertical-align: middle;\n    }\n\n    .dataframe tbody tr th {\n        vertical-align: top;\n    }\n\n    .dataframe thead th {\n        text-align: right;\n    }\n</style>\n<table border=\"1\" class=\"dataframe\">\n  <thead>\n    <tr style=\"text-align: right;\">\n      <th></th>\n      <th>package#A</th>\n      <th>package#ACGAN</th>\n      <th>package#APDrawing</th>\n      <th>package#APDrawingGAN</th>\n      <th>package#APDrawingGAN.data</th>\n      <th>package#APDrawingGAN.data.base_data_loader</th>\n      <th>package#APDrawingGAN.data.base_dataset</th>\n      <th>package#APDrawingGAN.data.face_landmark</th>\n      <th>package#APDrawingGAN.data.image_folder</th>\n      <th>package#APDrawingGAN.models</th>\n      <th>...</th>\n      <th>extension#.zktx</th>\n      <th>extension#.zlib</th>\n      <th>extension#.zmpl</th>\n      <th>extension#.zone</th>\n      <th>extension#.zoneinfo</th>\n      <th>extension#.zpln</th>\n      <th>extension#.zraw</th>\n      <th>extension#.zsh</th>\n      <th>extension#.zst</th>\n      <th>extension#.zzz</th>\n    </tr>\n    <tr>\n      <th>project_name</th>\n      <th></th>\n      <th></th>\n      <th></th>\n      <th></th>\n      <th></th>\n      <th></th>\n      <th></th>\n      <th></th>\n      <th></th>\n      <th></th>\n      <th></th>\n      <th></th>\n      <th></th>\n      <th></th>\n      <th></th>\n      <th></th>\n      <th></th>\n      <th></th>\n      <th></th>\n      <th></th>\n      <th></th>\n    </tr>\n  </thead>\n  <tbody>\n    <tr>\n      <th>01joy#news-search-engine</th>\n      <td>0</td>\n      <td>0</td>\n      <td>0</td>\n      <td>0</td>\n      <td>0</td>\n      <td>0</td>\n      <td>0</td>\n      <td>0</td>\n      <td>0</td>\n      <td>0</td>\n      <td>...</td>\n      <td>0</td>\n      <td>0</td>\n      <td>0</td>\n      <td>0</td>\n      <td>0</td>\n      <td>0</td>\n      <td>0</td>\n      <td>0</td>\n      <td>0</td>\n      <td>0</td>\n    </tr>\n    <tr>\n      <th>05bit#peewee-async</th>\n      <td>0</td>\n      <td>0</td>\n      <td>0</td>\n      <td>0</td>\n      <td>0</td>\n      <td>0</td>\n      <td>0</td>\n      <td>0</td>\n      <td>0</td>\n      <td>0</td>\n      <td>...</td>\n      <td>0</td>\n      <td>0</td>\n      <td>0</td>\n      <td>0</td>\n      <td>0</td>\n      <td>0</td>\n      <td>0</td>\n      <td>0</td>\n      <td>0</td>\n      <td>0</td>\n    </tr>\n    <tr>\n      <th>0k#shyaml</th>\n      <td>0</td>\n      <td>0</td>\n      <td>0</td>\n      <td>0</td>\n      <td>0</td>\n      <td>0</td>\n      <td>0</td>\n      <td>0</td>\n      <td>0</td>\n      <td>0</td>\n      <td>...</td>\n      <td>0</td>\n      <td>0</td>\n      <td>0</td>\n      <td>0</td>\n      <td>0</td>\n      <td>0</td>\n      <td>0</td>\n      <td>0</td>\n      <td>0</td>\n      <td>0</td>\n    </tr>\n    <tr>\n      <th>0x00-0x00#ShellPop</th>\n      <td>0</td>\n      <td>0</td>\n      <td>0</td>\n      <td>0</td>\n      <td>0</td>\n      <td>0</td>\n      <td>0</td>\n      <td>0</td>\n      <td>0</td>\n      <td>0</td>\n      <td>...</td>\n      <td>0</td>\n      <td>0</td>\n      <td>0</td>\n      <td>0</td>\n      <td>0</td>\n      <td>0</td>\n      <td>0</td>\n      <td>0</td>\n      <td>0</td>\n      <td>0</td>\n    </tr>\n    <tr>\n      <th>0xAX#linux-insides</th>\n      <td>0</td>\n      <td>0</td>\n      <td>0</td>\n      <td>0</td>\n      <td>0</td>\n      <td>0</td>\n      <td>0</td>\n      <td>0</td>\n      <td>0</td>\n      <td>0</td>\n      <td>...</td>\n      <td>0</td>\n      <td>0</td>\n      <td>0</td>\n      <td>0</td>\n      <td>0</td>\n      <td>0</td>\n      <td>0</td>\n      <td>0</td>\n      <td>0</td>\n      <td>0</td>\n    </tr>\n  </tbody>\n</table>\n<p>5 rows × 19235 columns</p>\n</div>"
     },
     "execution_count": 47,
     "metadata": {},
     "output_type": "execute_result"
    }
   ],
   "source": [
    "final_dataset = pivot_package_dataframe.join(pivot_ext_count_dataset, on=\"project_name\", how=\"inner\")\n",
    "final_dataset.head()"
   ],
   "metadata": {
    "collapsed": false,
    "pycharm": {
     "name": "#%%\n"
    }
   }
  },
  {
   "cell_type": "code",
   "execution_count": 48,
   "outputs": [
    {
     "data": {
      "text/plain": "                          package#A  package#ACGAN  package#APDrawing  \\\nproject_name                                                            \n01joy#news-search-engine          0              0                  0   \n05bit#peewee-async                0              0                  0   \n0k#shyaml                         0              0                  0   \n0x00-0x00#ShellPop                0              0                  0   \n0xAX#linux-insides                0              0                  0   \n\n                          package#APDrawingGAN  package#APDrawingGAN.data  \\\nproject_name                                                                \n01joy#news-search-engine                     0                          0   \n05bit#peewee-async                           0                          0   \n0k#shyaml                                    0                          0   \n0x00-0x00#ShellPop                           0                          0   \n0xAX#linux-insides                           0                          0   \n\n                          package#APDrawingGAN.data.base_data_loader  \\\nproject_name                                                           \n01joy#news-search-engine                                           0   \n05bit#peewee-async                                                 0   \n0k#shyaml                                                          0   \n0x00-0x00#ShellPop                                                 0   \n0xAX#linux-insides                                                 0   \n\n                          package#APDrawingGAN.data.base_dataset  \\\nproject_name                                                       \n01joy#news-search-engine                                       0   \n05bit#peewee-async                                             0   \n0k#shyaml                                                      0   \n0x00-0x00#ShellPop                                             0   \n0xAX#linux-insides                                             0   \n\n                          package#APDrawingGAN.data.face_landmark  \\\nproject_name                                                        \n01joy#news-search-engine                                        0   \n05bit#peewee-async                                              0   \n0k#shyaml                                                       0   \n0x00-0x00#ShellPop                                              0   \n0xAX#linux-insides                                              0   \n\n                          package#APDrawingGAN.data.image_folder  \\\nproject_name                                                       \n01joy#news-search-engine                                       0   \n05bit#peewee-async                                             0   \n0k#shyaml                                                      0   \n0x00-0x00#ShellPop                                             0   \n0xAX#linux-insides                                             0   \n\n                          package#APDrawingGAN.models  ...  tag#zircon  \\\nproject_name                                           ...               \n01joy#news-search-engine                            0  ...           0   \n05bit#peewee-async                                  0  ...           0   \n0k#shyaml                                           0  ...           0   \n0x00-0x00#ShellPop                                  0  ...           0   \n0xAX#linux-insides                                  0  ...           0   \n\n                          tag#zookeeper  tag#zoom  tag#zotero  tag#zotero-api  \\\nproject_name                                                                    \n01joy#news-search-engine              0         0           0               0   \n05bit#peewee-async                    0         0           0               0   \n0k#shyaml                             0         0           0               0   \n0x00-0x00#ShellPop                    0         0           0               0   \n0xAX#linux-insides                    0         0           0               0   \n\n                          tag#zsh  tag#ztp  tag#zuul  tag#zvt  tag#zypper  \nproject_name                                                               \n01joy#news-search-engine        0        0         0        0           0  \n05bit#peewee-async              0        0         0        0           0  \n0k#shyaml                       0        0         0        0           0  \n0x00-0x00#ShellPop              0        0         0        0           0  \n0xAX#linux-insides              0        0         0        0           0  \n\n[5 rows x 28383 columns]",
      "text/html": "<div>\n<style scoped>\n    .dataframe tbody tr th:only-of-type {\n        vertical-align: middle;\n    }\n\n    .dataframe tbody tr th {\n        vertical-align: top;\n    }\n\n    .dataframe thead th {\n        text-align: right;\n    }\n</style>\n<table border=\"1\" class=\"dataframe\">\n  <thead>\n    <tr style=\"text-align: right;\">\n      <th></th>\n      <th>package#A</th>\n      <th>package#ACGAN</th>\n      <th>package#APDrawing</th>\n      <th>package#APDrawingGAN</th>\n      <th>package#APDrawingGAN.data</th>\n      <th>package#APDrawingGAN.data.base_data_loader</th>\n      <th>package#APDrawingGAN.data.base_dataset</th>\n      <th>package#APDrawingGAN.data.face_landmark</th>\n      <th>package#APDrawingGAN.data.image_folder</th>\n      <th>package#APDrawingGAN.models</th>\n      <th>...</th>\n      <th>tag#zircon</th>\n      <th>tag#zookeeper</th>\n      <th>tag#zoom</th>\n      <th>tag#zotero</th>\n      <th>tag#zotero-api</th>\n      <th>tag#zsh</th>\n      <th>tag#ztp</th>\n      <th>tag#zuul</th>\n      <th>tag#zvt</th>\n      <th>tag#zypper</th>\n    </tr>\n    <tr>\n      <th>project_name</th>\n      <th></th>\n      <th></th>\n      <th></th>\n      <th></th>\n      <th></th>\n      <th></th>\n      <th></th>\n      <th></th>\n      <th></th>\n      <th></th>\n      <th></th>\n      <th></th>\n      <th></th>\n      <th></th>\n      <th></th>\n      <th></th>\n      <th></th>\n      <th></th>\n      <th></th>\n      <th></th>\n      <th></th>\n    </tr>\n  </thead>\n  <tbody>\n    <tr>\n      <th>01joy#news-search-engine</th>\n      <td>0</td>\n      <td>0</td>\n      <td>0</td>\n      <td>0</td>\n      <td>0</td>\n      <td>0</td>\n      <td>0</td>\n      <td>0</td>\n      <td>0</td>\n      <td>0</td>\n      <td>...</td>\n      <td>0</td>\n      <td>0</td>\n      <td>0</td>\n      <td>0</td>\n      <td>0</td>\n      <td>0</td>\n      <td>0</td>\n      <td>0</td>\n      <td>0</td>\n      <td>0</td>\n    </tr>\n    <tr>\n      <th>05bit#peewee-async</th>\n      <td>0</td>\n      <td>0</td>\n      <td>0</td>\n      <td>0</td>\n      <td>0</td>\n      <td>0</td>\n      <td>0</td>\n      <td>0</td>\n      <td>0</td>\n      <td>0</td>\n      <td>...</td>\n      <td>0</td>\n      <td>0</td>\n      <td>0</td>\n      <td>0</td>\n      <td>0</td>\n      <td>0</td>\n      <td>0</td>\n      <td>0</td>\n      <td>0</td>\n      <td>0</td>\n    </tr>\n    <tr>\n      <th>0k#shyaml</th>\n      <td>0</td>\n      <td>0</td>\n      <td>0</td>\n      <td>0</td>\n      <td>0</td>\n      <td>0</td>\n      <td>0</td>\n      <td>0</td>\n      <td>0</td>\n      <td>0</td>\n      <td>...</td>\n      <td>0</td>\n      <td>0</td>\n      <td>0</td>\n      <td>0</td>\n      <td>0</td>\n      <td>0</td>\n      <td>0</td>\n      <td>0</td>\n      <td>0</td>\n      <td>0</td>\n    </tr>\n    <tr>\n      <th>0x00-0x00#ShellPop</th>\n      <td>0</td>\n      <td>0</td>\n      <td>0</td>\n      <td>0</td>\n      <td>0</td>\n      <td>0</td>\n      <td>0</td>\n      <td>0</td>\n      <td>0</td>\n      <td>0</td>\n      <td>...</td>\n      <td>0</td>\n      <td>0</td>\n      <td>0</td>\n      <td>0</td>\n      <td>0</td>\n      <td>0</td>\n      <td>0</td>\n      <td>0</td>\n      <td>0</td>\n      <td>0</td>\n    </tr>\n    <tr>\n      <th>0xAX#linux-insides</th>\n      <td>0</td>\n      <td>0</td>\n      <td>0</td>\n      <td>0</td>\n      <td>0</td>\n      <td>0</td>\n      <td>0</td>\n      <td>0</td>\n      <td>0</td>\n      <td>0</td>\n      <td>...</td>\n      <td>0</td>\n      <td>0</td>\n      <td>0</td>\n      <td>0</td>\n      <td>0</td>\n      <td>0</td>\n      <td>0</td>\n      <td>0</td>\n      <td>0</td>\n      <td>0</td>\n    </tr>\n  </tbody>\n</table>\n<p>5 rows × 28383 columns</p>\n</div>"
     },
     "execution_count": 48,
     "metadata": {},
     "output_type": "execute_result"
    }
   ],
   "source": [
    "final_dataset = final_dataset.join(pivot_tags_dataframe, on=\"project_name\", how=\"inner\")\n",
    "final_dataset.head()"
   ],
   "metadata": {
    "collapsed": false,
    "pycharm": {
     "name": "#%%\n"
    }
   }
  },
  {
   "cell_type": "code",
   "execution_count": 49,
   "outputs": [
    {
     "data": {
      "text/plain": "                          package#A  package#ACGAN  package#APDrawing  \\\nproject_name                                                            \n01joy#news-search-engine          0              0                  0   \n05bit#peewee-async                0              0                  0   \n0k#shyaml                         0              0                  0   \n0x00-0x00#ShellPop                0              0                  0   \n0xAX#linux-insides                0              0                  0   \n\n                          package#APDrawingGAN  package#APDrawingGAN.data  \\\nproject_name                                                                \n01joy#news-search-engine                     0                          0   \n05bit#peewee-async                           0                          0   \n0k#shyaml                                    0                          0   \n0x00-0x00#ShellPop                           0                          0   \n0xAX#linux-insides                           0                          0   \n\n                          package#APDrawingGAN.data.base_data_loader  \\\nproject_name                                                           \n01joy#news-search-engine                                           0   \n05bit#peewee-async                                                 0   \n0k#shyaml                                                          0   \n0x00-0x00#ShellPop                                                 0   \n0xAX#linux-insides                                                 0   \n\n                          package#APDrawingGAN.data.base_dataset  \\\nproject_name                                                       \n01joy#news-search-engine                                       0   \n05bit#peewee-async                                             0   \n0k#shyaml                                                      0   \n0x00-0x00#ShellPop                                             0   \n0xAX#linux-insides                                             0   \n\n                          package#APDrawingGAN.data.face_landmark  \\\nproject_name                                                        \n01joy#news-search-engine                                        0   \n05bit#peewee-async                                              0   \n0k#shyaml                                                       0   \n0x00-0x00#ShellPop                                              0   \n0xAX#linux-insides                                              0   \n\n                          package#APDrawingGAN.data.image_folder  \\\nproject_name                                                       \n01joy#news-search-engine                                       0   \n05bit#peewee-async                                             0   \n0k#shyaml                                                      0   \n0x00-0x00#ShellPop                                             0   \n0xAX#linux-insides                                             0   \n\n                          package#APDrawingGAN.models  ...  topic#vim  \\\nproject_name                                           ...              \n01joy#news-search-engine                            0  ...          0   \n05bit#peewee-async                                  0  ...          0   \n0k#shyaml                                           0  ...          0   \n0x00-0x00#ShellPop                                  0  ...          0   \n0xAX#linux-insides                                  0  ...          0   \n\n                          topic#virtual-reality  topic#vue  topic#wagtail  \\\nproject_name                                                                \n01joy#news-search-engine                      0          0              0   \n05bit#peewee-async                            0          0              0   \n0k#shyaml                                     0          0              0   \n0x00-0x00#ShellPop                            0          0              0   \n0xAX#linux-insides                            0          0              0   \n\n                          topic#web-components  topic#webapp  topic#webpack  \\\nproject_name                                                                  \n01joy#news-search-engine                     0             0              0   \n05bit#peewee-async                           0             0              0   \n0k#shyaml                                    0             0              0   \n0x00-0x00#ShellPop                           0             0              0   \n0xAX#linux-insides                           0             0              0   \n\n                          topic#windows  topic#wordpress  topic#xml  \nproject_name                                                         \n01joy#news-search-engine              0                0          0  \n05bit#peewee-async                    0                0          0  \n0k#shyaml                             0                0          0  \n0x00-0x00#ShellPop                    0                0          0  \n0xAX#linux-insides                    0                0          0  \n\n[5 rows x 28544 columns]",
      "text/html": "<div>\n<style scoped>\n    .dataframe tbody tr th:only-of-type {\n        vertical-align: middle;\n    }\n\n    .dataframe tbody tr th {\n        vertical-align: top;\n    }\n\n    .dataframe thead th {\n        text-align: right;\n    }\n</style>\n<table border=\"1\" class=\"dataframe\">\n  <thead>\n    <tr style=\"text-align: right;\">\n      <th></th>\n      <th>package#A</th>\n      <th>package#ACGAN</th>\n      <th>package#APDrawing</th>\n      <th>package#APDrawingGAN</th>\n      <th>package#APDrawingGAN.data</th>\n      <th>package#APDrawingGAN.data.base_data_loader</th>\n      <th>package#APDrawingGAN.data.base_dataset</th>\n      <th>package#APDrawingGAN.data.face_landmark</th>\n      <th>package#APDrawingGAN.data.image_folder</th>\n      <th>package#APDrawingGAN.models</th>\n      <th>...</th>\n      <th>topic#vim</th>\n      <th>topic#virtual-reality</th>\n      <th>topic#vue</th>\n      <th>topic#wagtail</th>\n      <th>topic#web-components</th>\n      <th>topic#webapp</th>\n      <th>topic#webpack</th>\n      <th>topic#windows</th>\n      <th>topic#wordpress</th>\n      <th>topic#xml</th>\n    </tr>\n    <tr>\n      <th>project_name</th>\n      <th></th>\n      <th></th>\n      <th></th>\n      <th></th>\n      <th></th>\n      <th></th>\n      <th></th>\n      <th></th>\n      <th></th>\n      <th></th>\n      <th></th>\n      <th></th>\n      <th></th>\n      <th></th>\n      <th></th>\n      <th></th>\n      <th></th>\n      <th></th>\n      <th></th>\n      <th></th>\n      <th></th>\n    </tr>\n  </thead>\n  <tbody>\n    <tr>\n      <th>01joy#news-search-engine</th>\n      <td>0</td>\n      <td>0</td>\n      <td>0</td>\n      <td>0</td>\n      <td>0</td>\n      <td>0</td>\n      <td>0</td>\n      <td>0</td>\n      <td>0</td>\n      <td>0</td>\n      <td>...</td>\n      <td>0</td>\n      <td>0</td>\n      <td>0</td>\n      <td>0</td>\n      <td>0</td>\n      <td>0</td>\n      <td>0</td>\n      <td>0</td>\n      <td>0</td>\n      <td>0</td>\n    </tr>\n    <tr>\n      <th>05bit#peewee-async</th>\n      <td>0</td>\n      <td>0</td>\n      <td>0</td>\n      <td>0</td>\n      <td>0</td>\n      <td>0</td>\n      <td>0</td>\n      <td>0</td>\n      <td>0</td>\n      <td>0</td>\n      <td>...</td>\n      <td>0</td>\n      <td>0</td>\n      <td>0</td>\n      <td>0</td>\n      <td>0</td>\n      <td>0</td>\n      <td>0</td>\n      <td>0</td>\n      <td>0</td>\n      <td>0</td>\n    </tr>\n    <tr>\n      <th>0k#shyaml</th>\n      <td>0</td>\n      <td>0</td>\n      <td>0</td>\n      <td>0</td>\n      <td>0</td>\n      <td>0</td>\n      <td>0</td>\n      <td>0</td>\n      <td>0</td>\n      <td>0</td>\n      <td>...</td>\n      <td>0</td>\n      <td>0</td>\n      <td>0</td>\n      <td>0</td>\n      <td>0</td>\n      <td>0</td>\n      <td>0</td>\n      <td>0</td>\n      <td>0</td>\n      <td>0</td>\n    </tr>\n    <tr>\n      <th>0x00-0x00#ShellPop</th>\n      <td>0</td>\n      <td>0</td>\n      <td>0</td>\n      <td>0</td>\n      <td>0</td>\n      <td>0</td>\n      <td>0</td>\n      <td>0</td>\n      <td>0</td>\n      <td>0</td>\n      <td>...</td>\n      <td>0</td>\n      <td>0</td>\n      <td>0</td>\n      <td>0</td>\n      <td>0</td>\n      <td>0</td>\n      <td>0</td>\n      <td>0</td>\n      <td>0</td>\n      <td>0</td>\n    </tr>\n    <tr>\n      <th>0xAX#linux-insides</th>\n      <td>0</td>\n      <td>0</td>\n      <td>0</td>\n      <td>0</td>\n      <td>0</td>\n      <td>0</td>\n      <td>0</td>\n      <td>0</td>\n      <td>0</td>\n      <td>0</td>\n      <td>...</td>\n      <td>0</td>\n      <td>0</td>\n      <td>0</td>\n      <td>0</td>\n      <td>0</td>\n      <td>0</td>\n      <td>0</td>\n      <td>0</td>\n      <td>0</td>\n      <td>0</td>\n    </tr>\n  </tbody>\n</table>\n<p>5 rows × 28544 columns</p>\n</div>"
     },
     "execution_count": 49,
     "metadata": {},
     "output_type": "execute_result"
    }
   ],
   "source": [
    "final_dataset = final_dataset.join(pivot_topics_dataframe, on=\"project_name\", how=\"inner\")\n",
    "final_dataset.head()"
   ],
   "metadata": {
    "collapsed": false,
    "pycharm": {
     "name": "#%%\n"
    }
   }
  },
  {
   "cell_type": "code",
   "execution_count": 50,
   "outputs": [
    {
     "data": {
      "text/plain": "(2853, 28544)"
     },
     "execution_count": 50,
     "metadata": {},
     "output_type": "execute_result"
    }
   ],
   "source": [
    "final_dataset.shape"
   ],
   "metadata": {
    "collapsed": false,
    "pycharm": {
     "name": "#%%\n"
    }
   }
  },
  {
   "cell_type": "code",
   "execution_count": 51,
   "outputs": [
    {
     "data": {
      "text/plain": "28544"
     },
     "execution_count": 51,
     "metadata": {},
     "output_type": "execute_result"
    }
   ],
   "source": [
    "pivot_tags_dataframe.shape[1] + pivot_package_dataframe.shape[1] + pivot_ext_count_dataset.shape[1] + pivot_topics_dataframe.shape[1]"
   ],
   "metadata": {
    "collapsed": false,
    "pycharm": {
     "name": "#%%\n"
    }
   }
  },
  {
   "cell_type": "code",
   "execution_count": 52,
   "outputs": [],
   "source": [
    "final_dataset.reset_index(inplace=True)"
   ],
   "metadata": {
    "collapsed": false,
    "pycharm": {
     "name": "#%%\n"
    }
   }
  },
  {
   "cell_type": "code",
   "execution_count": 53,
   "outputs": [
    {
     "data": {
      "text/plain": "               project_name  package#A  package#ACGAN  package#APDrawing  \\\n0  01joy#news-search-engine          0              0                  0   \n1        05bit#peewee-async          0              0                  0   \n2                 0k#shyaml          0              0                  0   \n3        0x00-0x00#ShellPop          0              0                  0   \n4        0xAX#linux-insides          0              0                  0   \n\n   package#APDrawingGAN  package#APDrawingGAN.data  \\\n0                     0                          0   \n1                     0                          0   \n2                     0                          0   \n3                     0                          0   \n4                     0                          0   \n\n   package#APDrawingGAN.data.base_data_loader  \\\n0                                           0   \n1                                           0   \n2                                           0   \n3                                           0   \n4                                           0   \n\n   package#APDrawingGAN.data.base_dataset  \\\n0                                       0   \n1                                       0   \n2                                       0   \n3                                       0   \n4                                       0   \n\n   package#APDrawingGAN.data.face_landmark  \\\n0                                        0   \n1                                        0   \n2                                        0   \n3                                        0   \n4                                        0   \n\n   package#APDrawingGAN.data.image_folder  ...  topic#vim  \\\n0                                       0  ...          0   \n1                                       0  ...          0   \n2                                       0  ...          0   \n3                                       0  ...          0   \n4                                       0  ...          0   \n\n   topic#virtual-reality  topic#vue  topic#wagtail  topic#web-components  \\\n0                      0          0              0                     0   \n1                      0          0              0                     0   \n2                      0          0              0                     0   \n3                      0          0              0                     0   \n4                      0          0              0                     0   \n\n   topic#webapp  topic#webpack  topic#windows  topic#wordpress  topic#xml  \n0             0              0              0                0          0  \n1             0              0              0                0          0  \n2             0              0              0                0          0  \n3             0              0              0                0          0  \n4             0              0              0                0          0  \n\n[5 rows x 28545 columns]",
      "text/html": "<div>\n<style scoped>\n    .dataframe tbody tr th:only-of-type {\n        vertical-align: middle;\n    }\n\n    .dataframe tbody tr th {\n        vertical-align: top;\n    }\n\n    .dataframe thead th {\n        text-align: right;\n    }\n</style>\n<table border=\"1\" class=\"dataframe\">\n  <thead>\n    <tr style=\"text-align: right;\">\n      <th></th>\n      <th>project_name</th>\n      <th>package#A</th>\n      <th>package#ACGAN</th>\n      <th>package#APDrawing</th>\n      <th>package#APDrawingGAN</th>\n      <th>package#APDrawingGAN.data</th>\n      <th>package#APDrawingGAN.data.base_data_loader</th>\n      <th>package#APDrawingGAN.data.base_dataset</th>\n      <th>package#APDrawingGAN.data.face_landmark</th>\n      <th>package#APDrawingGAN.data.image_folder</th>\n      <th>...</th>\n      <th>topic#vim</th>\n      <th>topic#virtual-reality</th>\n      <th>topic#vue</th>\n      <th>topic#wagtail</th>\n      <th>topic#web-components</th>\n      <th>topic#webapp</th>\n      <th>topic#webpack</th>\n      <th>topic#windows</th>\n      <th>topic#wordpress</th>\n      <th>topic#xml</th>\n    </tr>\n  </thead>\n  <tbody>\n    <tr>\n      <th>0</th>\n      <td>01joy#news-search-engine</td>\n      <td>0</td>\n      <td>0</td>\n      <td>0</td>\n      <td>0</td>\n      <td>0</td>\n      <td>0</td>\n      <td>0</td>\n      <td>0</td>\n      <td>0</td>\n      <td>...</td>\n      <td>0</td>\n      <td>0</td>\n      <td>0</td>\n      <td>0</td>\n      <td>0</td>\n      <td>0</td>\n      <td>0</td>\n      <td>0</td>\n      <td>0</td>\n      <td>0</td>\n    </tr>\n    <tr>\n      <th>1</th>\n      <td>05bit#peewee-async</td>\n      <td>0</td>\n      <td>0</td>\n      <td>0</td>\n      <td>0</td>\n      <td>0</td>\n      <td>0</td>\n      <td>0</td>\n      <td>0</td>\n      <td>0</td>\n      <td>...</td>\n      <td>0</td>\n      <td>0</td>\n      <td>0</td>\n      <td>0</td>\n      <td>0</td>\n      <td>0</td>\n      <td>0</td>\n      <td>0</td>\n      <td>0</td>\n      <td>0</td>\n    </tr>\n    <tr>\n      <th>2</th>\n      <td>0k#shyaml</td>\n      <td>0</td>\n      <td>0</td>\n      <td>0</td>\n      <td>0</td>\n      <td>0</td>\n      <td>0</td>\n      <td>0</td>\n      <td>0</td>\n      <td>0</td>\n      <td>...</td>\n      <td>0</td>\n      <td>0</td>\n      <td>0</td>\n      <td>0</td>\n      <td>0</td>\n      <td>0</td>\n      <td>0</td>\n      <td>0</td>\n      <td>0</td>\n      <td>0</td>\n    </tr>\n    <tr>\n      <th>3</th>\n      <td>0x00-0x00#ShellPop</td>\n      <td>0</td>\n      <td>0</td>\n      <td>0</td>\n      <td>0</td>\n      <td>0</td>\n      <td>0</td>\n      <td>0</td>\n      <td>0</td>\n      <td>0</td>\n      <td>...</td>\n      <td>0</td>\n      <td>0</td>\n      <td>0</td>\n      <td>0</td>\n      <td>0</td>\n      <td>0</td>\n      <td>0</td>\n      <td>0</td>\n      <td>0</td>\n      <td>0</td>\n    </tr>\n    <tr>\n      <th>4</th>\n      <td>0xAX#linux-insides</td>\n      <td>0</td>\n      <td>0</td>\n      <td>0</td>\n      <td>0</td>\n      <td>0</td>\n      <td>0</td>\n      <td>0</td>\n      <td>0</td>\n      <td>0</td>\n      <td>...</td>\n      <td>0</td>\n      <td>0</td>\n      <td>0</td>\n      <td>0</td>\n      <td>0</td>\n      <td>0</td>\n      <td>0</td>\n      <td>0</td>\n      <td>0</td>\n      <td>0</td>\n    </tr>\n  </tbody>\n</table>\n<p>5 rows × 28545 columns</p>\n</div>"
     },
     "execution_count": 53,
     "metadata": {},
     "output_type": "execute_result"
    }
   ],
   "source": [
    "final_dataset.head()"
   ],
   "metadata": {
    "collapsed": false,
    "pycharm": {
     "name": "#%%\n"
    }
   }
  },
  {
   "cell_type": "markdown",
   "source": [
    "# Final dataset postprocessing"
   ],
   "metadata": {
    "collapsed": false,
    "pycharm": {
     "name": "#%% md\n"
    }
   }
  },
  {
   "cell_type": "markdown",
   "source": [
    "# Filtering tags"
   ],
   "metadata": {
    "collapsed": false,
    "pycharm": {
     "name": "#%% md\n"
    }
   }
  },
  {
   "cell_type": "code",
   "execution_count": 54,
   "outputs": [
    {
     "data": {
      "text/plain": "9148"
     },
     "execution_count": 54,
     "metadata": {},
     "output_type": "execute_result"
    }
   ],
   "source": [
    "old_tags = [c for c in final_dataset.columns if c.startswith('tag')]\n",
    "len(old_tags)"
   ],
   "metadata": {
    "collapsed": false,
    "pycharm": {
     "name": "#%%\n"
    }
   }
  },
  {
   "cell_type": "code",
   "execution_count": 55,
   "outputs": [
    {
     "data": {
      "text/plain": "   tag#010editor  tag#053  tag#0day  tag#100daysofcode  tag#104  tag#1111  \\\n0              0        0         0                  0        0         0   \n1              0        0         0                  0        0         0   \n2              0        0         0                  0        0         0   \n3              0        0         0                  0        0         0   \n4              0        0         0                  0        0         0   \n\n   tag#12306  tag#163mail-login  tag#2  tag#2019-ncov  ...  tag#zircon  \\\n0          0                  0      0              0  ...           0   \n1          0                  0      0              0  ...           0   \n2          0                  0      0              0  ...           0   \n3          0                  0      0              0  ...           0   \n4          0                  0      0              0  ...           0   \n\n   tag#zookeeper  tag#zoom  tag#zotero  tag#zotero-api  tag#zsh  tag#ztp  \\\n0              0         0           0               0        0        0   \n1              0         0           0               0        0        0   \n2              0         0           0               0        0        0   \n3              0         0           0               0        0        0   \n4              0         0           0               0        0        0   \n\n   tag#zuul  tag#zvt  tag#zypper  \n0         0        0           0  \n1         0        0           0  \n2         0        0           0  \n3         0        0           0  \n4         0        0           0  \n\n[5 rows x 9148 columns]",
      "text/html": "<div>\n<style scoped>\n    .dataframe tbody tr th:only-of-type {\n        vertical-align: middle;\n    }\n\n    .dataframe tbody tr th {\n        vertical-align: top;\n    }\n\n    .dataframe thead th {\n        text-align: right;\n    }\n</style>\n<table border=\"1\" class=\"dataframe\">\n  <thead>\n    <tr style=\"text-align: right;\">\n      <th></th>\n      <th>tag#010editor</th>\n      <th>tag#053</th>\n      <th>tag#0day</th>\n      <th>tag#100daysofcode</th>\n      <th>tag#104</th>\n      <th>tag#1111</th>\n      <th>tag#12306</th>\n      <th>tag#163mail-login</th>\n      <th>tag#2</th>\n      <th>tag#2019-ncov</th>\n      <th>...</th>\n      <th>tag#zircon</th>\n      <th>tag#zookeeper</th>\n      <th>tag#zoom</th>\n      <th>tag#zotero</th>\n      <th>tag#zotero-api</th>\n      <th>tag#zsh</th>\n      <th>tag#ztp</th>\n      <th>tag#zuul</th>\n      <th>tag#zvt</th>\n      <th>tag#zypper</th>\n    </tr>\n  </thead>\n  <tbody>\n    <tr>\n      <th>0</th>\n      <td>0</td>\n      <td>0</td>\n      <td>0</td>\n      <td>0</td>\n      <td>0</td>\n      <td>0</td>\n      <td>0</td>\n      <td>0</td>\n      <td>0</td>\n      <td>0</td>\n      <td>...</td>\n      <td>0</td>\n      <td>0</td>\n      <td>0</td>\n      <td>0</td>\n      <td>0</td>\n      <td>0</td>\n      <td>0</td>\n      <td>0</td>\n      <td>0</td>\n      <td>0</td>\n    </tr>\n    <tr>\n      <th>1</th>\n      <td>0</td>\n      <td>0</td>\n      <td>0</td>\n      <td>0</td>\n      <td>0</td>\n      <td>0</td>\n      <td>0</td>\n      <td>0</td>\n      <td>0</td>\n      <td>0</td>\n      <td>...</td>\n      <td>0</td>\n      <td>0</td>\n      <td>0</td>\n      <td>0</td>\n      <td>0</td>\n      <td>0</td>\n      <td>0</td>\n      <td>0</td>\n      <td>0</td>\n      <td>0</td>\n    </tr>\n    <tr>\n      <th>2</th>\n      <td>0</td>\n      <td>0</td>\n      <td>0</td>\n      <td>0</td>\n      <td>0</td>\n      <td>0</td>\n      <td>0</td>\n      <td>0</td>\n      <td>0</td>\n      <td>0</td>\n      <td>...</td>\n      <td>0</td>\n      <td>0</td>\n      <td>0</td>\n      <td>0</td>\n      <td>0</td>\n      <td>0</td>\n      <td>0</td>\n      <td>0</td>\n      <td>0</td>\n      <td>0</td>\n    </tr>\n    <tr>\n      <th>3</th>\n      <td>0</td>\n      <td>0</td>\n      <td>0</td>\n      <td>0</td>\n      <td>0</td>\n      <td>0</td>\n      <td>0</td>\n      <td>0</td>\n      <td>0</td>\n      <td>0</td>\n      <td>...</td>\n      <td>0</td>\n      <td>0</td>\n      <td>0</td>\n      <td>0</td>\n      <td>0</td>\n      <td>0</td>\n      <td>0</td>\n      <td>0</td>\n      <td>0</td>\n      <td>0</td>\n    </tr>\n    <tr>\n      <th>4</th>\n      <td>0</td>\n      <td>0</td>\n      <td>0</td>\n      <td>0</td>\n      <td>0</td>\n      <td>0</td>\n      <td>0</td>\n      <td>0</td>\n      <td>0</td>\n      <td>0</td>\n      <td>...</td>\n      <td>0</td>\n      <td>0</td>\n      <td>0</td>\n      <td>0</td>\n      <td>0</td>\n      <td>0</td>\n      <td>0</td>\n      <td>0</td>\n      <td>0</td>\n      <td>0</td>\n    </tr>\n  </tbody>\n</table>\n<p>5 rows × 9148 columns</p>\n</div>"
     },
     "execution_count": 55,
     "metadata": {},
     "output_type": "execute_result"
    }
   ],
   "source": [
    "tags_dataset = final_dataset[old_tags]\n",
    "tags_dataset.head()"
   ],
   "metadata": {
    "collapsed": false,
    "pycharm": {
     "name": "#%%\n"
    }
   }
  },
  {
   "cell_type": "code",
   "execution_count": 56,
   "outputs": [],
   "source": [
    "def build_count_tags_usage_dataset(tags_data):\n",
    "    return tags_data.apply(lambda x: x.sum()).reset_index().rename(columns={0:\"count\"})"
   ],
   "metadata": {
    "collapsed": false,
    "pycharm": {
     "name": "#%%\n"
    }
   }
  },
  {
   "cell_type": "code",
   "execution_count": 57,
   "outputs": [
    {
     "data": {
      "text/plain": "               index  count\n0      tag#010editor      0\n1            tag#053      1\n2           tag#0day      1\n3  tag#100daysofcode      1\n4            tag#104      1",
      "text/html": "<div>\n<style scoped>\n    .dataframe tbody tr th:only-of-type {\n        vertical-align: middle;\n    }\n\n    .dataframe tbody tr th {\n        vertical-align: top;\n    }\n\n    .dataframe thead th {\n        text-align: right;\n    }\n</style>\n<table border=\"1\" class=\"dataframe\">\n  <thead>\n    <tr style=\"text-align: right;\">\n      <th></th>\n      <th>index</th>\n      <th>count</th>\n    </tr>\n  </thead>\n  <tbody>\n    <tr>\n      <th>0</th>\n      <td>tag#010editor</td>\n      <td>0</td>\n    </tr>\n    <tr>\n      <th>1</th>\n      <td>tag#053</td>\n      <td>1</td>\n    </tr>\n    <tr>\n      <th>2</th>\n      <td>tag#0day</td>\n      <td>1</td>\n    </tr>\n    <tr>\n      <th>3</th>\n      <td>tag#100daysofcode</td>\n      <td>1</td>\n    </tr>\n    <tr>\n      <th>4</th>\n      <td>tag#104</td>\n      <td>1</td>\n    </tr>\n  </tbody>\n</table>\n</div>"
     },
     "execution_count": 57,
     "metadata": {},
     "output_type": "execute_result"
    }
   ],
   "source": [
    "count_tags_usage_dataset = build_count_tags_usage_dataset(tags_dataset)\n",
    "count_tags_usage_dataset.head()"
   ],
   "metadata": {
    "collapsed": false,
    "pycharm": {
     "name": "#%%\n"
    }
   }
  },
  {
   "cell_type": "markdown",
   "source": [
    "There are many zeros - need to filter it"
   ],
   "metadata": {
    "collapsed": false,
    "pycharm": {
     "name": "#%% md\n"
    }
   },
   "outputs": []
  },
  {
   "cell_type": "code",
   "execution_count": 58,
   "outputs": [
    {
     "data": {
      "text/plain": "                       index  count\n0              tag#010editor      0\n2818             tag#fastcgi      0\n3543           tag#guideline      0\n937   tag#bottles-versioning      0\n936              tag#bottles      0\n...                      ...    ...\n1999       tag#deep-learning    205\n2212              tag#django    237\n4662    tag#machine-learning    257\n5254                 tag#nan    413\n6381              tag#python   1089\n\n[9148 rows x 2 columns]",
      "text/html": "<div>\n<style scoped>\n    .dataframe tbody tr th:only-of-type {\n        vertical-align: middle;\n    }\n\n    .dataframe tbody tr th {\n        vertical-align: top;\n    }\n\n    .dataframe thead th {\n        text-align: right;\n    }\n</style>\n<table border=\"1\" class=\"dataframe\">\n  <thead>\n    <tr style=\"text-align: right;\">\n      <th></th>\n      <th>index</th>\n      <th>count</th>\n    </tr>\n  </thead>\n  <tbody>\n    <tr>\n      <th>0</th>\n      <td>tag#010editor</td>\n      <td>0</td>\n    </tr>\n    <tr>\n      <th>2818</th>\n      <td>tag#fastcgi</td>\n      <td>0</td>\n    </tr>\n    <tr>\n      <th>3543</th>\n      <td>tag#guideline</td>\n      <td>0</td>\n    </tr>\n    <tr>\n      <th>937</th>\n      <td>tag#bottles-versioning</td>\n      <td>0</td>\n    </tr>\n    <tr>\n      <th>936</th>\n      <td>tag#bottles</td>\n      <td>0</td>\n    </tr>\n    <tr>\n      <th>...</th>\n      <td>...</td>\n      <td>...</td>\n    </tr>\n    <tr>\n      <th>1999</th>\n      <td>tag#deep-learning</td>\n      <td>205</td>\n    </tr>\n    <tr>\n      <th>2212</th>\n      <td>tag#django</td>\n      <td>237</td>\n    </tr>\n    <tr>\n      <th>4662</th>\n      <td>tag#machine-learning</td>\n      <td>257</td>\n    </tr>\n    <tr>\n      <th>5254</th>\n      <td>tag#nan</td>\n      <td>413</td>\n    </tr>\n    <tr>\n      <th>6381</th>\n      <td>tag#python</td>\n      <td>1089</td>\n    </tr>\n  </tbody>\n</table>\n<p>9148 rows × 2 columns</p>\n</div>"
     },
     "execution_count": 58,
     "metadata": {},
     "output_type": "execute_result"
    }
   ],
   "source": [
    "count_tags_usage_dataset.sort_values(by=[\"count\"])"
   ],
   "metadata": {
    "collapsed": false,
    "pycharm": {
     "name": "#%%\n"
    }
   }
  },
  {
   "cell_type": "code",
   "execution_count": 59,
   "outputs": [
    {
     "data": {
      "text/plain": "(1084, 2)"
     },
     "execution_count": 59,
     "metadata": {},
     "output_type": "execute_result"
    }
   ],
   "source": [
    "count_tags_usage_dataset[count_tags_usage_dataset[\"count\"] == 0].shape"
   ],
   "metadata": {
    "collapsed": false,
    "pycharm": {
     "name": "#%%\n"
    }
   }
  },
  {
   "cell_type": "code",
   "execution_count": 60,
   "outputs": [
    {
     "data": {
      "text/plain": "(2853, 8064)"
     },
     "execution_count": 60,
     "metadata": {},
     "output_type": "execute_result"
    }
   ],
   "source": [
    "tags_dataset = tags_dataset[count_tags_usage_dataset[count_tags_usage_dataset[\"count\"] != 0][\"index\"]]\n",
    "tags_dataset.shape"
   ],
   "metadata": {
    "collapsed": false,
    "pycharm": {
     "name": "#%%\n"
    }
   }
  },
  {
   "cell_type": "code",
   "execution_count": 61,
   "outputs": [
    {
     "data": {
      "text/plain": "               index  count\n0            tag#053      1\n1           tag#0day      1\n2  tag#100daysofcode      1\n3            tag#104      1\n4           tag#1111      1",
      "text/html": "<div>\n<style scoped>\n    .dataframe tbody tr th:only-of-type {\n        vertical-align: middle;\n    }\n\n    .dataframe tbody tr th {\n        vertical-align: top;\n    }\n\n    .dataframe thead th {\n        text-align: right;\n    }\n</style>\n<table border=\"1\" class=\"dataframe\">\n  <thead>\n    <tr style=\"text-align: right;\">\n      <th></th>\n      <th>index</th>\n      <th>count</th>\n    </tr>\n  </thead>\n  <tbody>\n    <tr>\n      <th>0</th>\n      <td>tag#053</td>\n      <td>1</td>\n    </tr>\n    <tr>\n      <th>1</th>\n      <td>tag#0day</td>\n      <td>1</td>\n    </tr>\n    <tr>\n      <th>2</th>\n      <td>tag#100daysofcode</td>\n      <td>1</td>\n    </tr>\n    <tr>\n      <th>3</th>\n      <td>tag#104</td>\n      <td>1</td>\n    </tr>\n    <tr>\n      <th>4</th>\n      <td>tag#1111</td>\n      <td>1</td>\n    </tr>\n  </tbody>\n</table>\n</div>"
     },
     "execution_count": 61,
     "metadata": {},
     "output_type": "execute_result"
    }
   ],
   "source": [
    "count_tags_usage_dataset = build_count_tags_usage_dataset(tags_dataset)\n",
    "count_tags_usage_dataset.head()"
   ],
   "metadata": {
    "collapsed": false,
    "pycharm": {
     "name": "#%%\n"
    }
   }
  },
  {
   "cell_type": "code",
   "execution_count": 62,
   "outputs": [
    {
     "data": {
      "text/plain": "                     index  count\n5642            tag#python   1089\n4652               tag#nan    413\n4121  tag#machine-learning    257\n1932            tag#django    237\n1746     tag#deep-learning    205",
      "text/html": "<div>\n<style scoped>\n    .dataframe tbody tr th:only-of-type {\n        vertical-align: middle;\n    }\n\n    .dataframe tbody tr th {\n        vertical-align: top;\n    }\n\n    .dataframe thead th {\n        text-align: right;\n    }\n</style>\n<table border=\"1\" class=\"dataframe\">\n  <thead>\n    <tr style=\"text-align: right;\">\n      <th></th>\n      <th>index</th>\n      <th>count</th>\n    </tr>\n  </thead>\n  <tbody>\n    <tr>\n      <th>5642</th>\n      <td>tag#python</td>\n      <td>1089</td>\n    </tr>\n    <tr>\n      <th>4652</th>\n      <td>tag#nan</td>\n      <td>413</td>\n    </tr>\n    <tr>\n      <th>4121</th>\n      <td>tag#machine-learning</td>\n      <td>257</td>\n    </tr>\n    <tr>\n      <th>1932</th>\n      <td>tag#django</td>\n      <td>237</td>\n    </tr>\n    <tr>\n      <th>1746</th>\n      <td>tag#deep-learning</td>\n      <td>205</td>\n    </tr>\n  </tbody>\n</table>\n</div>"
     },
     "execution_count": 62,
     "metadata": {},
     "output_type": "execute_result"
    }
   ],
   "source": [
    "# there is nan tag - should be filtered\n",
    "count_tags_usage_dataset = count_tags_usage_dataset.sort_values(by=[\"count\"],ascending=False)\n",
    "count_tags_usage_dataset.head()"
   ],
   "metadata": {
    "collapsed": false,
    "pycharm": {
     "name": "#%%\n"
    }
   }
  },
  {
   "cell_type": "code",
   "execution_count": 63,
   "outputs": [
    {
     "data": {
      "text/plain": "   tag#python  tag#machine-learning  tag#django  tag#deep-learning  \\\n0           0                     0           0                  0   \n1           1                     0           0                  0   \n2           0                     0           0                  0   \n3           0                     0           0                  0   \n4           0                     0           0                  0   \n\n   tag#tensorflow  tag#python3  tag#flask  tag#kotlin  tag#android  \\\n0               0            0          1           0            0   \n1               0            0          0           0            0   \n2               0            0          0           0            0   \n3               0            0          0           0            0   \n4               0            0          0           0            0   \n\n   tag#hacktoberfest  ...  tag#hamming-distance  tag#hail  tag#hacs  \\\n0                  0  ...                     0         0         0   \n1                  0  ...                     0         0         0   \n2                  0  ...                     0         0         0   \n3                  0  ...                     0         0         0   \n4                  0  ...                     0         0         0   \n\n   tag#hacks  tag#hackintosh  tag#hackerrank  tag#hackerone  \\\n0          0               0               0              0   \n1          0               0               0              0   \n2          0               0               0              0   \n3          0               0               0              0   \n4          0               0               0              0   \n\n   tag#hacker-news-reader  tag#hacker-news-client  tag#zypper  \n0                       0                       0           0  \n1                       0                       0           0  \n2                       0                       0           0  \n3                       0                       0           0  \n4                       0                       0           0  \n\n[5 rows x 8063 columns]",
      "text/html": "<div>\n<style scoped>\n    .dataframe tbody tr th:only-of-type {\n        vertical-align: middle;\n    }\n\n    .dataframe tbody tr th {\n        vertical-align: top;\n    }\n\n    .dataframe thead th {\n        text-align: right;\n    }\n</style>\n<table border=\"1\" class=\"dataframe\">\n  <thead>\n    <tr style=\"text-align: right;\">\n      <th></th>\n      <th>tag#python</th>\n      <th>tag#machine-learning</th>\n      <th>tag#django</th>\n      <th>tag#deep-learning</th>\n      <th>tag#tensorflow</th>\n      <th>tag#python3</th>\n      <th>tag#flask</th>\n      <th>tag#kotlin</th>\n      <th>tag#android</th>\n      <th>tag#hacktoberfest</th>\n      <th>...</th>\n      <th>tag#hamming-distance</th>\n      <th>tag#hail</th>\n      <th>tag#hacs</th>\n      <th>tag#hacks</th>\n      <th>tag#hackintosh</th>\n      <th>tag#hackerrank</th>\n      <th>tag#hackerone</th>\n      <th>tag#hacker-news-reader</th>\n      <th>tag#hacker-news-client</th>\n      <th>tag#zypper</th>\n    </tr>\n  </thead>\n  <tbody>\n    <tr>\n      <th>0</th>\n      <td>0</td>\n      <td>0</td>\n      <td>0</td>\n      <td>0</td>\n      <td>0</td>\n      <td>0</td>\n      <td>1</td>\n      <td>0</td>\n      <td>0</td>\n      <td>0</td>\n      <td>...</td>\n      <td>0</td>\n      <td>0</td>\n      <td>0</td>\n      <td>0</td>\n      <td>0</td>\n      <td>0</td>\n      <td>0</td>\n      <td>0</td>\n      <td>0</td>\n      <td>0</td>\n    </tr>\n    <tr>\n      <th>1</th>\n      <td>1</td>\n      <td>0</td>\n      <td>0</td>\n      <td>0</td>\n      <td>0</td>\n      <td>0</td>\n      <td>0</td>\n      <td>0</td>\n      <td>0</td>\n      <td>0</td>\n      <td>...</td>\n      <td>0</td>\n      <td>0</td>\n      <td>0</td>\n      <td>0</td>\n      <td>0</td>\n      <td>0</td>\n      <td>0</td>\n      <td>0</td>\n      <td>0</td>\n      <td>0</td>\n    </tr>\n    <tr>\n      <th>2</th>\n      <td>0</td>\n      <td>0</td>\n      <td>0</td>\n      <td>0</td>\n      <td>0</td>\n      <td>0</td>\n      <td>0</td>\n      <td>0</td>\n      <td>0</td>\n      <td>0</td>\n      <td>...</td>\n      <td>0</td>\n      <td>0</td>\n      <td>0</td>\n      <td>0</td>\n      <td>0</td>\n      <td>0</td>\n      <td>0</td>\n      <td>0</td>\n      <td>0</td>\n      <td>0</td>\n    </tr>\n    <tr>\n      <th>3</th>\n      <td>0</td>\n      <td>0</td>\n      <td>0</td>\n      <td>0</td>\n      <td>0</td>\n      <td>0</td>\n      <td>0</td>\n      <td>0</td>\n      <td>0</td>\n      <td>0</td>\n      <td>...</td>\n      <td>0</td>\n      <td>0</td>\n      <td>0</td>\n      <td>0</td>\n      <td>0</td>\n      <td>0</td>\n      <td>0</td>\n      <td>0</td>\n      <td>0</td>\n      <td>0</td>\n    </tr>\n    <tr>\n      <th>4</th>\n      <td>0</td>\n      <td>0</td>\n      <td>0</td>\n      <td>0</td>\n      <td>0</td>\n      <td>0</td>\n      <td>0</td>\n      <td>0</td>\n      <td>0</td>\n      <td>0</td>\n      <td>...</td>\n      <td>0</td>\n      <td>0</td>\n      <td>0</td>\n      <td>0</td>\n      <td>0</td>\n      <td>0</td>\n      <td>0</td>\n      <td>0</td>\n      <td>0</td>\n      <td>0</td>\n    </tr>\n  </tbody>\n</table>\n<p>5 rows × 8063 columns</p>\n</div>"
     },
     "execution_count": 63,
     "metadata": {},
     "output_type": "execute_result"
    }
   ],
   "source": [
    "tags_dataset = tags_dataset[count_tags_usage_dataset[count_tags_usage_dataset[\"index\"] != \"tag#nan\"]['index']]\n",
    "tags_dataset.head()"
   ],
   "metadata": {
    "collapsed": false,
    "pycharm": {
     "name": "#%%\n"
    }
   }
  },
  {
   "cell_type": "code",
   "execution_count": 64,
   "outputs": [
    {
     "data": {
      "text/plain": "                  index  count\n0            tag#python   1089\n1  tag#machine-learning    257\n2            tag#django    237\n3     tag#deep-learning    205\n4        tag#tensorflow    176",
      "text/html": "<div>\n<style scoped>\n    .dataframe tbody tr th:only-of-type {\n        vertical-align: middle;\n    }\n\n    .dataframe tbody tr th {\n        vertical-align: top;\n    }\n\n    .dataframe thead th {\n        text-align: right;\n    }\n</style>\n<table border=\"1\" class=\"dataframe\">\n  <thead>\n    <tr style=\"text-align: right;\">\n      <th></th>\n      <th>index</th>\n      <th>count</th>\n    </tr>\n  </thead>\n  <tbody>\n    <tr>\n      <th>0</th>\n      <td>tag#python</td>\n      <td>1089</td>\n    </tr>\n    <tr>\n      <th>1</th>\n      <td>tag#machine-learning</td>\n      <td>257</td>\n    </tr>\n    <tr>\n      <th>2</th>\n      <td>tag#django</td>\n      <td>237</td>\n    </tr>\n    <tr>\n      <th>3</th>\n      <td>tag#deep-learning</td>\n      <td>205</td>\n    </tr>\n    <tr>\n      <th>4</th>\n      <td>tag#tensorflow</td>\n      <td>176</td>\n    </tr>\n  </tbody>\n</table>\n</div>"
     },
     "execution_count": 64,
     "metadata": {},
     "output_type": "execute_result"
    }
   ],
   "source": [
    "count_tags_usage_dataset = build_count_tags_usage_dataset(tags_dataset)\n",
    "count_tags_usage_dataset.head()"
   ],
   "metadata": {
    "collapsed": false,
    "pycharm": {
     "name": "#%%\n"
    }
   }
  },
  {
   "cell_type": "code",
   "execution_count": 65,
   "outputs": [
    {
     "data": {
      "text/plain": "1      5827\n2      1029\n3       382\n4       215\n5       131\n       ... \n44        1\n42        1\n38        1\n257       1\n37        1\nName: count, Length: 69, dtype: int64"
     },
     "execution_count": 65,
     "metadata": {},
     "output_type": "execute_result"
    }
   ],
   "source": [
    "# check value counts\n",
    "value_counts = count_tags_usage_dataset[\"count\"].value_counts()\n",
    "value_counts"
   ],
   "metadata": {
    "collapsed": false,
    "pycharm": {
     "name": "#%%\n"
    }
   }
  },
  {
   "cell_type": "code",
   "execution_count": 66,
   "outputs": [
    {
     "data": {
      "text/plain": "<AxesSubplot:>"
     },
     "execution_count": 66,
     "metadata": {},
     "output_type": "execute_result"
    },
    {
     "data": {
      "text/plain": "<Figure size 1080x1080 with 1 Axes>",
      "image/png": "[encoded data removed]"
     },
     "metadata": {
      "needs_background": "light"
     },
     "output_type": "display_data"
    }
   ],
   "source": [
    "# take a look on bar chart of value counts\n",
    "value_counts.plot.bar(figsize=(15,15))"
   ],
   "metadata": {
    "collapsed": false,
    "pycharm": {
     "name": "#%%\n"
    }
   }
  },
  {
   "cell_type": "code",
   "execution_count": 67,
   "outputs": [
    {
     "data": {
      "text/plain": "                  index  count\n0            tag#python   1089\n1  tag#machine-learning    257\n2            tag#django    237\n3     tag#deep-learning    205\n4        tag#tensorflow    176",
      "text/html": "<div>\n<style scoped>\n    .dataframe tbody tr th:only-of-type {\n        vertical-align: middle;\n    }\n\n    .dataframe tbody tr th {\n        vertical-align: top;\n    }\n\n    .dataframe thead th {\n        text-align: right;\n    }\n</style>\n<table border=\"1\" class=\"dataframe\">\n  <thead>\n    <tr style=\"text-align: right;\">\n      <th></th>\n      <th>index</th>\n      <th>count</th>\n    </tr>\n  </thead>\n  <tbody>\n    <tr>\n      <th>0</th>\n      <td>tag#python</td>\n      <td>1089</td>\n    </tr>\n    <tr>\n      <th>1</th>\n      <td>tag#machine-learning</td>\n      <td>257</td>\n    </tr>\n    <tr>\n      <th>2</th>\n      <td>tag#django</td>\n      <td>237</td>\n    </tr>\n    <tr>\n      <th>3</th>\n      <td>tag#deep-learning</td>\n      <td>205</td>\n    </tr>\n    <tr>\n      <th>4</th>\n      <td>tag#tensorflow</td>\n      <td>176</td>\n    </tr>\n  </tbody>\n</table>\n</div>"
     },
     "execution_count": 67,
     "metadata": {},
     "output_type": "execute_result"
    }
   ],
   "source": [
    "# try to filter tags which count less than 5\n",
    "count_tags_usage_dataset = build_count_tags_usage_dataset(tags_dataset)\n",
    "count_tags_usage_dataset.head()"
   ],
   "metadata": {
    "collapsed": false,
    "pycharm": {
     "name": "#%%\n"
    }
   }
  },
  {
   "cell_type": "code",
   "execution_count": 68,
   "outputs": [
    {
     "data": {
      "text/plain": "   tag#python  tag#machine-learning  tag#django  tag#deep-learning  \\\n0           0                     0           0                  0   \n1           1                     0           0                  0   \n2           0                     0           0                  0   \n3           0                     0           0                  0   \n4           0                     0           0                  0   \n\n   tag#tensorflow  tag#python3  tag#flask  tag#kotlin  tag#android  \\\n0               0            0          1           0            0   \n1               0            0          0           0            0   \n2               0            0          0           0            0   \n3               0            0          0           0            0   \n4               0            0          0           0            0   \n\n   tag#hacktoberfest  ...  tag#androidx  tag#style-transfer  tag#plotly-dash  \\\n0                  0  ...             0                   0                0   \n1                  0  ...             0                   0                0   \n2                  0  ...             0                   0                0   \n3                  0  ...             0                   0                0   \n4                  0  ...             0                   0                0   \n\n   tag#rxjava  tag#fuzzing  tag#asynchronous  tag#bilibili  tag#api-wrapper  \\\n0           0            0                 0             0                0   \n1           0            0                 0             0                0   \n2           0            0                 0             0                0   \n3           0            0                 0             0                0   \n4           0            0                 0             0                0   \n\n   tag#jinja2  tag#flow  \n0           0         0  \n1           0         0  \n2           0         0  \n3           0         0  \n4           0         0  \n\n[5 rows x 610 columns]",
      "text/html": "<div>\n<style scoped>\n    .dataframe tbody tr th:only-of-type {\n        vertical-align: middle;\n    }\n\n    .dataframe tbody tr th {\n        vertical-align: top;\n    }\n\n    .dataframe thead th {\n        text-align: right;\n    }\n</style>\n<table border=\"1\" class=\"dataframe\">\n  <thead>\n    <tr style=\"text-align: right;\">\n      <th></th>\n      <th>tag#python</th>\n      <th>tag#machine-learning</th>\n      <th>tag#django</th>\n      <th>tag#deep-learning</th>\n      <th>tag#tensorflow</th>\n      <th>tag#python3</th>\n      <th>tag#flask</th>\n      <th>tag#kotlin</th>\n      <th>tag#android</th>\n      <th>tag#hacktoberfest</th>\n      <th>...</th>\n      <th>tag#androidx</th>\n      <th>tag#style-transfer</th>\n      <th>tag#plotly-dash</th>\n      <th>tag#rxjava</th>\n      <th>tag#fuzzing</th>\n      <th>tag#asynchronous</th>\n      <th>tag#bilibili</th>\n      <th>tag#api-wrapper</th>\n      <th>tag#jinja2</th>\n      <th>tag#flow</th>\n    </tr>\n  </thead>\n  <tbody>\n    <tr>\n      <th>0</th>\n      <td>0</td>\n      <td>0</td>\n      <td>0</td>\n      <td>0</td>\n      <td>0</td>\n      <td>0</td>\n      <td>1</td>\n      <td>0</td>\n      <td>0</td>\n      <td>0</td>\n      <td>...</td>\n      <td>0</td>\n      <td>0</td>\n      <td>0</td>\n      <td>0</td>\n      <td>0</td>\n      <td>0</td>\n      <td>0</td>\n      <td>0</td>\n      <td>0</td>\n      <td>0</td>\n    </tr>\n    <tr>\n      <th>1</th>\n      <td>1</td>\n      <td>0</td>\n      <td>0</td>\n      <td>0</td>\n      <td>0</td>\n      <td>0</td>\n      <td>0</td>\n      <td>0</td>\n      <td>0</td>\n      <td>0</td>\n      <td>...</td>\n      <td>0</td>\n      <td>0</td>\n      <td>0</td>\n      <td>0</td>\n      <td>0</td>\n      <td>0</td>\n      <td>0</td>\n      <td>0</td>\n      <td>0</td>\n      <td>0</td>\n    </tr>\n    <tr>\n      <th>2</th>\n      <td>0</td>\n      <td>0</td>\n      <td>0</td>\n      <td>0</td>\n      <td>0</td>\n      <td>0</td>\n      <td>0</td>\n      <td>0</td>\n      <td>0</td>\n      <td>0</td>\n      <td>...</td>\n      <td>0</td>\n      <td>0</td>\n      <td>0</td>\n      <td>0</td>\n      <td>0</td>\n      <td>0</td>\n      <td>0</td>\n      <td>0</td>\n      <td>0</td>\n      <td>0</td>\n    </tr>\n    <tr>\n      <th>3</th>\n      <td>0</td>\n      <td>0</td>\n      <td>0</td>\n      <td>0</td>\n      <td>0</td>\n      <td>0</td>\n      <td>0</td>\n      <td>0</td>\n      <td>0</td>\n      <td>0</td>\n      <td>...</td>\n      <td>0</td>\n      <td>0</td>\n      <td>0</td>\n      <td>0</td>\n      <td>0</td>\n      <td>0</td>\n      <td>0</td>\n      <td>0</td>\n      <td>0</td>\n      <td>0</td>\n    </tr>\n    <tr>\n      <th>4</th>\n      <td>0</td>\n      <td>0</td>\n      <td>0</td>\n      <td>0</td>\n      <td>0</td>\n      <td>0</td>\n      <td>0</td>\n      <td>0</td>\n      <td>0</td>\n      <td>0</td>\n      <td>...</td>\n      <td>0</td>\n      <td>0</td>\n      <td>0</td>\n      <td>0</td>\n      <td>0</td>\n      <td>0</td>\n      <td>0</td>\n      <td>0</td>\n      <td>0</td>\n      <td>0</td>\n    </tr>\n  </tbody>\n</table>\n<p>5 rows × 610 columns</p>\n</div>"
     },
     "execution_count": 68,
     "metadata": {},
     "output_type": "execute_result"
    }
   ],
   "source": [
    "tags_dataset = tags_dataset[count_tags_usage_dataset[count_tags_usage_dataset[\"count\"] >= 5]['index']]\n",
    "tags_dataset.head()"
   ],
   "metadata": {
    "collapsed": false,
    "pycharm": {
     "name": "#%%\n"
    }
   }
  },
  {
   "cell_type": "code",
   "execution_count": 69,
   "outputs": [
    {
     "data": {
      "text/plain": "                  index  count\n0            tag#python   1089\n1  tag#machine-learning    257\n2            tag#django    237\n3     tag#deep-learning    205\n4        tag#tensorflow    176",
      "text/html": "<div>\n<style scoped>\n    .dataframe tbody tr th:only-of-type {\n        vertical-align: middle;\n    }\n\n    .dataframe tbody tr th {\n        vertical-align: top;\n    }\n\n    .dataframe thead th {\n        text-align: right;\n    }\n</style>\n<table border=\"1\" class=\"dataframe\">\n  <thead>\n    <tr style=\"text-align: right;\">\n      <th></th>\n      <th>index</th>\n      <th>count</th>\n    </tr>\n  </thead>\n  <tbody>\n    <tr>\n      <th>0</th>\n      <td>tag#python</td>\n      <td>1089</td>\n    </tr>\n    <tr>\n      <th>1</th>\n      <td>tag#machine-learning</td>\n      <td>257</td>\n    </tr>\n    <tr>\n      <th>2</th>\n      <td>tag#django</td>\n      <td>237</td>\n    </tr>\n    <tr>\n      <th>3</th>\n      <td>tag#deep-learning</td>\n      <td>205</td>\n    </tr>\n    <tr>\n      <th>4</th>\n      <td>tag#tensorflow</td>\n      <td>176</td>\n    </tr>\n  </tbody>\n</table>\n</div>"
     },
     "execution_count": 69,
     "metadata": {},
     "output_type": "execute_result"
    }
   ],
   "source": [
    "count_tags_usage_dataset = build_count_tags_usage_dataset(tags_dataset)\n",
    "count_tags_usage_dataset.head()"
   ],
   "metadata": {
    "collapsed": false,
    "pycharm": {
     "name": "#%%\n"
    }
   }
  },
  {
   "cell_type": "code",
   "execution_count": 70,
   "outputs": [
    {
     "data": {
      "text/plain": "<AxesSubplot:>"
     },
     "execution_count": 70,
     "metadata": {},
     "output_type": "execute_result"
    },
    {
     "data": {
      "text/plain": "<Figure size 1080x1080 with 1 Axes>",
      "image/png": "[encoded data removed]"
     },
     "metadata": {
      "needs_background": "light"
     },
     "output_type": "display_data"
    }
   ],
   "source": [
    "# check bar chart of value counts again\n",
    "count_tags_usage_dataset[\"count\"].value_counts().plot.bar(figsize=(15,15))"
   ],
   "metadata": {
    "collapsed": false,
    "pycharm": {
     "name": "#%%\n"
    }
   }
  },
  {
   "cell_type": "code",
   "execution_count": 71,
   "outputs": [
    {
     "data": {
      "text/plain": "   tag#python  tag#machine-learning  tag#django  tag#deep-learning  \\\n0           0                     0           0                  0   \n1           1                     0           0                  0   \n2           0                     0           0                  0   \n3           0                     0           0                  0   \n4           0                     0           0                  0   \n\n   tag#tensorflow  tag#python3  tag#flask  tag#kotlin  tag#android  \\\n0               0            0          1           0            0   \n1               0            0          0           0            0   \n2               0            0          0           0            0   \n3               0            0          0           0            0   \n4               0            0          0           0            0   \n\n   tag#hacktoberfest  ...  tag#virtual-reality  tag#pretrained-models  \\\n0                  0  ...                    0                      0   \n1                  0  ...                    0                      0   \n2                  0  ...                    0                      0   \n3                  0  ...                    0                      0   \n4                  0  ...                    0                      0   \n\n   tag#wechat  tag#matplotlib  tag#tools  tag#nginx  tag#word2vec  \\\n0           0               0          0          0             0   \n1           0               0          0          0             0   \n2           0               0          0          0             0   \n3           0               0          0          0             0   \n4           0               0          0          0             0   \n\n   tag#github-actions  tag#graph  tag#c  \n0                   0          0      0  \n1                   0          0      0  \n2                   0          0      0  \n3                   0          0      0  \n4                   0          0      0  \n\n[5 rows x 252 columns]",
      "text/html": "<div>\n<style scoped>\n    .dataframe tbody tr th:only-of-type {\n        vertical-align: middle;\n    }\n\n    .dataframe tbody tr th {\n        vertical-align: top;\n    }\n\n    .dataframe thead th {\n        text-align: right;\n    }\n</style>\n<table border=\"1\" class=\"dataframe\">\n  <thead>\n    <tr style=\"text-align: right;\">\n      <th></th>\n      <th>tag#python</th>\n      <th>tag#machine-learning</th>\n      <th>tag#django</th>\n      <th>tag#deep-learning</th>\n      <th>tag#tensorflow</th>\n      <th>tag#python3</th>\n      <th>tag#flask</th>\n      <th>tag#kotlin</th>\n      <th>tag#android</th>\n      <th>tag#hacktoberfest</th>\n      <th>...</th>\n      <th>tag#virtual-reality</th>\n      <th>tag#pretrained-models</th>\n      <th>tag#wechat</th>\n      <th>tag#matplotlib</th>\n      <th>tag#tools</th>\n      <th>tag#nginx</th>\n      <th>tag#word2vec</th>\n      <th>tag#github-actions</th>\n      <th>tag#graph</th>\n      <th>tag#c</th>\n    </tr>\n  </thead>\n  <tbody>\n    <tr>\n      <th>0</th>\n      <td>0</td>\n      <td>0</td>\n      <td>0</td>\n      <td>0</td>\n      <td>0</td>\n      <td>0</td>\n      <td>1</td>\n      <td>0</td>\n      <td>0</td>\n      <td>0</td>\n      <td>...</td>\n      <td>0</td>\n      <td>0</td>\n      <td>0</td>\n      <td>0</td>\n      <td>0</td>\n      <td>0</td>\n      <td>0</td>\n      <td>0</td>\n      <td>0</td>\n      <td>0</td>\n    </tr>\n    <tr>\n      <th>1</th>\n      <td>1</td>\n      <td>0</td>\n      <td>0</td>\n      <td>0</td>\n      <td>0</td>\n      <td>0</td>\n      <td>0</td>\n      <td>0</td>\n      <td>0</td>\n      <td>0</td>\n      <td>...</td>\n      <td>0</td>\n      <td>0</td>\n      <td>0</td>\n      <td>0</td>\n      <td>0</td>\n      <td>0</td>\n      <td>0</td>\n      <td>0</td>\n      <td>0</td>\n      <td>0</td>\n    </tr>\n    <tr>\n      <th>2</th>\n      <td>0</td>\n      <td>0</td>\n      <td>0</td>\n      <td>0</td>\n      <td>0</td>\n      <td>0</td>\n      <td>0</td>\n      <td>0</td>\n      <td>0</td>\n      <td>0</td>\n      <td>...</td>\n      <td>0</td>\n      <td>0</td>\n      <td>0</td>\n      <td>0</td>\n      <td>0</td>\n      <td>0</td>\n      <td>0</td>\n      <td>0</td>\n      <td>0</td>\n      <td>0</td>\n    </tr>\n    <tr>\n      <th>3</th>\n      <td>0</td>\n      <td>0</td>\n      <td>0</td>\n      <td>0</td>\n      <td>0</td>\n      <td>0</td>\n      <td>0</td>\n      <td>0</td>\n      <td>0</td>\n      <td>0</td>\n      <td>...</td>\n      <td>0</td>\n      <td>0</td>\n      <td>0</td>\n      <td>0</td>\n      <td>0</td>\n      <td>0</td>\n      <td>0</td>\n      <td>0</td>\n      <td>0</td>\n      <td>0</td>\n    </tr>\n    <tr>\n      <th>4</th>\n      <td>0</td>\n      <td>0</td>\n      <td>0</td>\n      <td>0</td>\n      <td>0</td>\n      <td>0</td>\n      <td>0</td>\n      <td>0</td>\n      <td>0</td>\n      <td>0</td>\n      <td>...</td>\n      <td>0</td>\n      <td>0</td>\n      <td>0</td>\n      <td>0</td>\n      <td>0</td>\n      <td>0</td>\n      <td>0</td>\n      <td>0</td>\n      <td>0</td>\n      <td>0</td>\n    </tr>\n  </tbody>\n</table>\n<p>5 rows × 252 columns</p>\n</div>"
     },
     "execution_count": 71,
     "metadata": {},
     "output_type": "execute_result"
    }
   ],
   "source": [
    "# I like count 10, lets filter tags with count less than 10\n",
    "tags_dataset = tags_dataset[count_tags_usage_dataset[count_tags_usage_dataset[\"count\"] >= 10]['index']]\n",
    "tags_dataset.head()"
   ],
   "metadata": {
    "collapsed": false,
    "pycharm": {
     "name": "#%%\n"
    }
   }
  },
  {
   "cell_type": "code",
   "execution_count": 72,
   "outputs": [
    {
     "data": {
      "text/plain": "['tag#python',\n 'tag#machine-learning',\n 'tag#django',\n 'tag#deep-learning',\n 'tag#tensorflow',\n 'tag#python3',\n 'tag#flask',\n 'tag#kotlin',\n 'tag#android',\n 'tag#hacktoberfest',\n 'tag#bot',\n 'tag#nlp',\n 'tag#scikit-learn',\n 'tag#pytorch',\n 'tag#docker',\n 'tag#telegram',\n 'tag#linux',\n 'tag#data-science',\n 'tag#security',\n 'tag#cryptocurrency',\n 'tag#gradle',\n 'tag#api',\n 'tag#cli',\n 'tag#java',\n 'tag#natural-language-processing',\n 'tag#keras',\n 'tag#computer-vision',\n 'tag#google',\n 'tag#jupyter-notebook',\n 'tag#bitcoin',\n 'tag#aws',\n 'tag#library',\n 'tag#javascript',\n 'tag#ansible',\n 'tag#testing',\n 'tag#github-api',\n 'tag#covid-19',\n 'tag#data-visualization',\n 'tag#wagtail',\n 'tag#algorithm',\n 'tag#neural-network',\n 'tag#windows',\n 'tag#json',\n 'tag#git',\n 'tag#telegram-bot',\n 'tag#twitter',\n 'tag#terminal',\n 'tag#font',\n 'tag#ubuntu',\n 'tag#pandas',\n 'tag#automation',\n 'tag#framework',\n 'tag#rest-api',\n 'tag#web',\n 'tag#jupyter',\n 'tag#ethereum',\n 'tag#parsing',\n 'tag#monitoring',\n 'tag#artificial-intelligence',\n 'tag#github',\n 'tag#visualization',\n 'tag#devops',\n 'tag#trading',\n 'tag#deployment',\n 'tag#sql',\n 'tag#3d',\n 'tag#database',\n 'tag#sqlalchemy',\n 'tag#macos',\n 'tag#kubernetes',\n 'tag#ai',\n 'tag#mastodon',\n 'tag#emoji',\n 'tag#xml',\n 'tag#discord',\n 'tag#shell',\n 'tag#http',\n 'tag#code-quality',\n 'tag#rest',\n 'tag#trading-bot',\n 'tag#mysql',\n 'tag#webapp',\n 'tag#chatbot',\n 'tag#postgresql',\n 'tag#data-structures',\n 'tag#django-rest-framework',\n 'tag#neural-networks',\n 'tag#object-detection',\n 'tag#project-management',\n 'tag#command-line',\n 'tag#elasticsearch',\n 'tag#markdown',\n 'tag#raspberry-pi',\n 'tag#emulator',\n 'tag#bert',\n 'tag#tutorial',\n 'tag#reinforcement-learning',\n 'tag#python-3',\n 'tag#server',\n 'tag#gan',\n 'tag#python-library',\n 'tag#hacking',\n 'tag#graphql',\n 'tag#heroku',\n 'tag#data-analysis',\n 'tag#deeplearning',\n 'tag#asyncio',\n 'tag#html',\n 'tag#linter',\n 'tag#unreal-engine',\n 'tag#terraform',\n 'tag#vagrant',\n 'tag#spider',\n 'tag#algorithms',\n 'tag#bash',\n 'tag#documentation',\n 'tag#android-library',\n 'tag#numpy',\n 'tag#monero',\n 'tag#azure',\n 'tag#material-design',\n 'tag#rss',\n 'tag#redis',\n 'tag#pentesting',\n 'tag#data',\n 'tag#youtube',\n 'tag#serverless',\n 'tag#mongodb',\n 'tag#gui',\n 'tag#crawler',\n 'tag#automl',\n 'tag#sketch',\n 'tag#osint',\n 'tag#blockchain',\n 'tag#support',\n 'tag#opencv',\n 'tag#classification',\n 'tag#chrome',\n 'tag#deep-neural-networks',\n 'tag#ml',\n 'tag#continuous-integration',\n 'tag#gradle-plugin',\n 'tag#firebase',\n 'tag#bootstrap',\n 'tag#parser',\n 'tag#animation',\n 'tag#dataset',\n 'tag#cnn',\n 'tag#slack',\n 'tag#ui',\n 'tag#text-classification',\n 'tag#selenium',\n 'tag#cloud',\n 'tag#sklearn',\n 'tag#vue',\n 'tag#coronavirus',\n 'tag#ios',\n 'tag#xgboost',\n 'tag#music',\n 'tag#algorithmic-trading',\n 'tag#python2',\n 'tag#speech-recognition',\n 'tag#onnx',\n 'tag#firefox',\n 'tag#pypi',\n 'tag#atom',\n 'tag#scraper',\n 'tag#client',\n 'tag#mlops',\n 'tag#dashboard',\n 'tag#privacy',\n 'tag#react',\n 'tag#named-entity-recognition',\n 'tag#trading-strategies',\n 'tag#spacy',\n 'tag#kotlin-android',\n 'tag#sqlite',\n 'tag#kotlin-multiplatform',\n 'tag#intellij-plugin',\n 'tag#crypto',\n 'tag#discord-bot',\n 'tag#game',\n 'tag#celery',\n 'tag#performance',\n 'tag#lambda',\n 'tag#tensorboard',\n 'tag#matlab',\n 'tag#orm',\n 'tag#email',\n 'tag#developer-tools',\n 'tag#intellij',\n 'tag#data-mining',\n 'tag#image-processing',\n 'tag#security-tools',\n 'tag#android-development',\n 'tag#statistics',\n 'tag#interview',\n 'tag#generative-adversarial-network',\n 'tag#ner',\n 'tag#detection',\n 'tag#sdk',\n 'tag#chinese',\n 'tag#awesome',\n 'tag#compiler',\n 'tag#p2p',\n 'tag#rnn',\n 'tag#spark',\n 'tag#coroutines',\n 'tag#segmentation',\n 'tag#swagger',\n 'tag#mvvm',\n 'tag#code-review',\n 'tag#time-series',\n 'tag#pyqt5',\n 'tag#covid19',\n 'tag#authentication',\n 'tag#fastapi',\n 'tag#async',\n 'tag#css',\n 'tag#mobile',\n 'tag#yaml',\n 'tag#command-line-tool',\n 'tag#hyperparameter-optimization',\n 'tag#debian',\n 'tag#self-hosted',\n 'tag#development',\n 'tag#transformer',\n 'tag#translation',\n 'tag#scala',\n 'tag#quantitative-finance',\n 'tag#oauth2',\n 'tag#scrapy',\n 'tag#ipython',\n 'tag#cross-platform',\n 'tag#cryptocurrencies',\n 'tag#pyrogram',\n 'tag#transformers',\n 'tag#telethon',\n 'tag#search',\n 'tag#proxy',\n 'tag#kotlin-library',\n 'tag#plotly',\n 'tag#virtual-reality',\n 'tag#pretrained-models',\n 'tag#wechat',\n 'tag#matplotlib',\n 'tag#tools',\n 'tag#nginx',\n 'tag#word2vec',\n 'tag#github-actions',\n 'tag#graph',\n 'tag#c']"
     },
     "execution_count": 72,
     "metadata": {},
     "output_type": "execute_result"
    }
   ],
   "source": [
    "# Lets check the rest of tags - looks good to me\n",
    "tags_dataset.columns.tolist()"
   ],
   "metadata": {
    "collapsed": false,
    "pycharm": {
     "name": "#%%\n"
    }
   }
  },
  {
   "cell_type": "code",
   "execution_count": 73,
   "outputs": [],
   "source": [
    "new_tags = tags_dataset.columns"
   ],
   "metadata": {
    "collapsed": false,
    "pycharm": {
     "name": "#%%\n"
    }
   }
  },
  {
   "cell_type": "code",
   "execution_count": 74,
   "outputs": [],
   "source": [
    "# generate new columns of final dataset\n",
    "new_final_dataset_columns = [c for c in final_dataset.columns if not c.startswith('tag') or c in new_tags]"
   ],
   "metadata": {
    "collapsed": false,
    "pycharm": {
     "name": "#%%\n"
    }
   }
  },
  {
   "cell_type": "code",
   "execution_count": 75,
   "outputs": [
    {
     "data": {
      "text/plain": "(2853, 28545)"
     },
     "execution_count": 75,
     "metadata": {},
     "output_type": "execute_result"
    }
   ],
   "source": [
    "final_dataset.shape"
   ],
   "metadata": {
    "collapsed": false,
    "pycharm": {
     "name": "#%%\n"
    }
   }
  },
  {
   "cell_type": "code",
   "execution_count": 76,
   "outputs": [],
   "source": [
    "final_dataset = final_dataset[new_final_dataset_columns]"
   ],
   "metadata": {
    "collapsed": false,
    "pycharm": {
     "name": "#%%\n"
    }
   }
  },
  {
   "cell_type": "code",
   "execution_count": 77,
   "outputs": [
    {
     "data": {
      "text/plain": "(2853, 19649)"
     },
     "execution_count": 77,
     "metadata": {},
     "output_type": "execute_result"
    }
   ],
   "source": [
    "# new shape\n",
    "final_dataset.shape"
   ],
   "metadata": {
    "collapsed": false,
    "pycharm": {
     "name": "#%%\n"
    }
   }
  },
  {
   "cell_type": "code",
   "execution_count": 78,
   "outputs": [
    {
     "data": {
      "text/plain": "               project_name  package#A  package#ACGAN  package#APDrawing  \\\n0  01joy#news-search-engine          0              0                  0   \n1        05bit#peewee-async          0              0                  0   \n2                 0k#shyaml          0              0                  0   \n3        0x00-0x00#ShellPop          0              0                  0   \n4        0xAX#linux-insides          0              0                  0   \n\n   package#APDrawingGAN  package#APDrawingGAN.data  \\\n0                     0                          0   \n1                     0                          0   \n2                     0                          0   \n3                     0                          0   \n4                     0                          0   \n\n   package#APDrawingGAN.data.base_data_loader  \\\n0                                           0   \n1                                           0   \n2                                           0   \n3                                           0   \n4                                           0   \n\n   package#APDrawingGAN.data.base_dataset  \\\n0                                       0   \n1                                       0   \n2                                       0   \n3                                       0   \n4                                       0   \n\n   package#APDrawingGAN.data.face_landmark  \\\n0                                        0   \n1                                        0   \n2                                        0   \n3                                        0   \n4                                        0   \n\n   package#APDrawingGAN.data.image_folder  ...  topic#vim  \\\n0                                       0  ...          0   \n1                                       0  ...          0   \n2                                       0  ...          0   \n3                                       0  ...          0   \n4                                       0  ...          0   \n\n   topic#virtual-reality  topic#vue  topic#wagtail  topic#web-components  \\\n0                      0          0              0                     0   \n1                      0          0              0                     0   \n2                      0          0              0                     0   \n3                      0          0              0                     0   \n4                      0          0              0                     0   \n\n   topic#webapp  topic#webpack  topic#windows  topic#wordpress  topic#xml  \n0             0              0              0                0          0  \n1             0              0              0                0          0  \n2             0              0              0                0          0  \n3             0              0              0                0          0  \n4             0              0              0                0          0  \n\n[5 rows x 19649 columns]",
      "text/html": "<div>\n<style scoped>\n    .dataframe tbody tr th:only-of-type {\n        vertical-align: middle;\n    }\n\n    .dataframe tbody tr th {\n        vertical-align: top;\n    }\n\n    .dataframe thead th {\n        text-align: right;\n    }\n</style>\n<table border=\"1\" class=\"dataframe\">\n  <thead>\n    <tr style=\"text-align: right;\">\n      <th></th>\n      <th>project_name</th>\n      <th>package#A</th>\n      <th>package#ACGAN</th>\n      <th>package#APDrawing</th>\n      <th>package#APDrawingGAN</th>\n      <th>package#APDrawingGAN.data</th>\n      <th>package#APDrawingGAN.data.base_data_loader</th>\n      <th>package#APDrawingGAN.data.base_dataset</th>\n      <th>package#APDrawingGAN.data.face_landmark</th>\n      <th>package#APDrawingGAN.data.image_folder</th>\n      <th>...</th>\n      <th>topic#vim</th>\n      <th>topic#virtual-reality</th>\n      <th>topic#vue</th>\n      <th>topic#wagtail</th>\n      <th>topic#web-components</th>\n      <th>topic#webapp</th>\n      <th>topic#webpack</th>\n      <th>topic#windows</th>\n      <th>topic#wordpress</th>\n      <th>topic#xml</th>\n    </tr>\n  </thead>\n  <tbody>\n    <tr>\n      <th>0</th>\n      <td>01joy#news-search-engine</td>\n      <td>0</td>\n      <td>0</td>\n      <td>0</td>\n      <td>0</td>\n      <td>0</td>\n      <td>0</td>\n      <td>0</td>\n      <td>0</td>\n      <td>0</td>\n      <td>...</td>\n      <td>0</td>\n      <td>0</td>\n      <td>0</td>\n      <td>0</td>\n      <td>0</td>\n      <td>0</td>\n      <td>0</td>\n      <td>0</td>\n      <td>0</td>\n      <td>0</td>\n    </tr>\n    <tr>\n      <th>1</th>\n      <td>05bit#peewee-async</td>\n      <td>0</td>\n      <td>0</td>\n      <td>0</td>\n      <td>0</td>\n      <td>0</td>\n      <td>0</td>\n      <td>0</td>\n      <td>0</td>\n      <td>0</td>\n      <td>...</td>\n      <td>0</td>\n      <td>0</td>\n      <td>0</td>\n      <td>0</td>\n      <td>0</td>\n      <td>0</td>\n      <td>0</td>\n      <td>0</td>\n      <td>0</td>\n      <td>0</td>\n    </tr>\n    <tr>\n      <th>2</th>\n      <td>0k#shyaml</td>\n      <td>0</td>\n      <td>0</td>\n      <td>0</td>\n      <td>0</td>\n      <td>0</td>\n      <td>0</td>\n      <td>0</td>\n      <td>0</td>\n      <td>0</td>\n      <td>...</td>\n      <td>0</td>\n      <td>0</td>\n      <td>0</td>\n      <td>0</td>\n      <td>0</td>\n      <td>0</td>\n      <td>0</td>\n      <td>0</td>\n      <td>0</td>\n      <td>0</td>\n    </tr>\n    <tr>\n      <th>3</th>\n      <td>0x00-0x00#ShellPop</td>\n      <td>0</td>\n      <td>0</td>\n      <td>0</td>\n      <td>0</td>\n      <td>0</td>\n      <td>0</td>\n      <td>0</td>\n      <td>0</td>\n      <td>0</td>\n      <td>...</td>\n      <td>0</td>\n      <td>0</td>\n      <td>0</td>\n      <td>0</td>\n      <td>0</td>\n      <td>0</td>\n      <td>0</td>\n      <td>0</td>\n      <td>0</td>\n      <td>0</td>\n    </tr>\n    <tr>\n      <th>4</th>\n      <td>0xAX#linux-insides</td>\n      <td>0</td>\n      <td>0</td>\n      <td>0</td>\n      <td>0</td>\n      <td>0</td>\n      <td>0</td>\n      <td>0</td>\n      <td>0</td>\n      <td>0</td>\n      <td>...</td>\n      <td>0</td>\n      <td>0</td>\n      <td>0</td>\n      <td>0</td>\n      <td>0</td>\n      <td>0</td>\n      <td>0</td>\n      <td>0</td>\n      <td>0</td>\n      <td>0</td>\n    </tr>\n  </tbody>\n</table>\n<p>5 rows × 19649 columns</p>\n</div>"
     },
     "execution_count": 78,
     "metadata": {},
     "output_type": "execute_result"
    }
   ],
   "source": [
    "final_dataset.head()"
   ],
   "metadata": {
    "collapsed": false,
    "pycharm": {
     "name": "#%%\n"
    }
   }
  },
  {
   "cell_type": "markdown",
   "source": [
    "# Filter projects which hasn't any tag form our new tag set"
   ],
   "metadata": {
    "collapsed": false,
    "pycharm": {
     "name": "#%% md\n"
    }
   }
  },
  {
   "cell_type": "code",
   "execution_count": 79,
   "outputs": [
    {
     "data": {
      "text/plain": "3     571\n2     547\n0     439\n4     390\n1     316\n5     267\n6     147\n7      65\n8      45\n9      28\n10     24\n12      5\n13      5\n11      3\n14      1\ndtype: int64"
     },
     "execution_count": 79,
     "metadata": {},
     "output_type": "execute_result"
    }
   ],
   "source": [
    "# Count such unlucky projects\n",
    "final_dataset[new_tags].sum(1).value_counts()"
   ],
   "metadata": {
    "collapsed": false,
    "pycharm": {
     "name": "#%%\n"
    }
   }
  },
  {
   "cell_type": "code",
   "execution_count": 80,
   "outputs": [],
   "source": [
    "# So we have 439 projects without any tag from our new tag set\n",
    "# And we have two options:\n",
    "# First - leave it untouched and fit classifier on full negative projects too\n",
    "# Second - filter it\n",
    "# So hard choice :)"
   ],
   "metadata": {
    "collapsed": false,
    "pycharm": {
     "name": "#%%\n"
    }
   }
  },
  {
   "cell_type": "code",
   "execution_count": 81,
   "outputs": [],
   "source": [
    "# Lets leave it as it is for now"
   ],
   "metadata": {
    "collapsed": false,
    "pycharm": {
     "name": "#%%\n"
    }
   }
  },
  {
   "cell_type": "markdown",
   "source": [
    "# Export final dataset"
   ],
   "metadata": {
    "collapsed": false,
    "pycharm": {
     "name": "#%% md\n"
    }
   }
  },
  {
   "cell_type": "code",
   "execution_count": 82,
   "outputs": [
    {
     "data": {
      "text/plain": "               project_name  package#A  package#ACGAN  package#APDrawing  \\\n0  01joy#news-search-engine          0              0                  0   \n1        05bit#peewee-async          0              0                  0   \n2                 0k#shyaml          0              0                  0   \n3        0x00-0x00#ShellPop          0              0                  0   \n4        0xAX#linux-insides          0              0                  0   \n\n   package#APDrawingGAN  package#APDrawingGAN.data  \\\n0                     0                          0   \n1                     0                          0   \n2                     0                          0   \n3                     0                          0   \n4                     0                          0   \n\n   package#APDrawingGAN.data.base_data_loader  \\\n0                                           0   \n1                                           0   \n2                                           0   \n3                                           0   \n4                                           0   \n\n   package#APDrawingGAN.data.base_dataset  \\\n0                                       0   \n1                                       0   \n2                                       0   \n3                                       0   \n4                                       0   \n\n   package#APDrawingGAN.data.face_landmark  \\\n0                                        0   \n1                                        0   \n2                                        0   \n3                                        0   \n4                                        0   \n\n   package#APDrawingGAN.data.image_folder  ...  topic#vim  \\\n0                                       0  ...          0   \n1                                       0  ...          0   \n2                                       0  ...          0   \n3                                       0  ...          0   \n4                                       0  ...          0   \n\n   topic#virtual-reality  topic#vue  topic#wagtail  topic#web-components  \\\n0                      0          0              0                     0   \n1                      0          0              0                     0   \n2                      0          0              0                     0   \n3                      0          0              0                     0   \n4                      0          0              0                     0   \n\n   topic#webapp  topic#webpack  topic#windows  topic#wordpress  topic#xml  \n0             0              0              0                0          0  \n1             0              0              0                0          0  \n2             0              0              0                0          0  \n3             0              0              0                0          0  \n4             0              0              0                0          0  \n\n[5 rows x 19649 columns]",
      "text/html": "<div>\n<style scoped>\n    .dataframe tbody tr th:only-of-type {\n        vertical-align: middle;\n    }\n\n    .dataframe tbody tr th {\n        vertical-align: top;\n    }\n\n    .dataframe thead th {\n        text-align: right;\n    }\n</style>\n<table border=\"1\" class=\"dataframe\">\n  <thead>\n    <tr style=\"text-align: right;\">\n      <th></th>\n      <th>project_name</th>\n      <th>package#A</th>\n      <th>package#ACGAN</th>\n      <th>package#APDrawing</th>\n      <th>package#APDrawingGAN</th>\n      <th>package#APDrawingGAN.data</th>\n      <th>package#APDrawingGAN.data.base_data_loader</th>\n      <th>package#APDrawingGAN.data.base_dataset</th>\n      <th>package#APDrawingGAN.data.face_landmark</th>\n      <th>package#APDrawingGAN.data.image_folder</th>\n      <th>...</th>\n      <th>topic#vim</th>\n      <th>topic#virtual-reality</th>\n      <th>topic#vue</th>\n      <th>topic#wagtail</th>\n      <th>topic#web-components</th>\n      <th>topic#webapp</th>\n      <th>topic#webpack</th>\n      <th>topic#windows</th>\n      <th>topic#wordpress</th>\n      <th>topic#xml</th>\n    </tr>\n  </thead>\n  <tbody>\n    <tr>\n      <th>0</th>\n      <td>01joy#news-search-engine</td>\n      <td>0</td>\n      <td>0</td>\n      <td>0</td>\n      <td>0</td>\n      <td>0</td>\n      <td>0</td>\n      <td>0</td>\n      <td>0</td>\n      <td>0</td>\n      <td>...</td>\n      <td>0</td>\n      <td>0</td>\n      <td>0</td>\n      <td>0</td>\n      <td>0</td>\n      <td>0</td>\n      <td>0</td>\n      <td>0</td>\n      <td>0</td>\n      <td>0</td>\n    </tr>\n    <tr>\n      <th>1</th>\n      <td>05bit#peewee-async</td>\n      <td>0</td>\n      <td>0</td>\n      <td>0</td>\n      <td>0</td>\n      <td>0</td>\n      <td>0</td>\n      <td>0</td>\n      <td>0</td>\n      <td>0</td>\n      <td>...</td>\n      <td>0</td>\n      <td>0</td>\n      <td>0</td>\n      <td>0</td>\n      <td>0</td>\n      <td>0</td>\n      <td>0</td>\n      <td>0</td>\n      <td>0</td>\n      <td>0</td>\n    </tr>\n    <tr>\n      <th>2</th>\n      <td>0k#shyaml</td>\n      <td>0</td>\n      <td>0</td>\n      <td>0</td>\n      <td>0</td>\n      <td>0</td>\n      <td>0</td>\n      <td>0</td>\n      <td>0</td>\n      <td>0</td>\n      <td>...</td>\n      <td>0</td>\n      <td>0</td>\n      <td>0</td>\n      <td>0</td>\n      <td>0</td>\n      <td>0</td>\n      <td>0</td>\n      <td>0</td>\n      <td>0</td>\n      <td>0</td>\n    </tr>\n    <tr>\n      <th>3</th>\n      <td>0x00-0x00#ShellPop</td>\n      <td>0</td>\n      <td>0</td>\n      <td>0</td>\n      <td>0</td>\n      <td>0</td>\n      <td>0</td>\n      <td>0</td>\n      <td>0</td>\n      <td>0</td>\n      <td>...</td>\n      <td>0</td>\n      <td>0</td>\n      <td>0</td>\n      <td>0</td>\n      <td>0</td>\n      <td>0</td>\n      <td>0</td>\n      <td>0</td>\n      <td>0</td>\n      <td>0</td>\n    </tr>\n    <tr>\n      <th>4</th>\n      <td>0xAX#linux-insides</td>\n      <td>0</td>\n      <td>0</td>\n      <td>0</td>\n      <td>0</td>\n      <td>0</td>\n      <td>0</td>\n      <td>0</td>\n      <td>0</td>\n      <td>0</td>\n      <td>...</td>\n      <td>0</td>\n      <td>0</td>\n      <td>0</td>\n      <td>0</td>\n      <td>0</td>\n      <td>0</td>\n      <td>0</td>\n      <td>0</td>\n      <td>0</td>\n      <td>0</td>\n    </tr>\n  </tbody>\n</table>\n<p>5 rows × 19649 columns</p>\n</div>"
     },
     "execution_count": 82,
     "metadata": {},
     "output_type": "execute_result"
    }
   ],
   "source": [
    "final_dataset.head()"
   ],
   "metadata": {
    "collapsed": false,
    "pycharm": {
     "name": "#%%\n"
    }
   }
  },
  {
   "cell_type": "code",
   "execution_count": 83,
   "outputs": [
    {
     "data": {
      "text/plain": "(2853, 19649)"
     },
     "execution_count": 83,
     "metadata": {},
     "output_type": "execute_result"
    }
   ],
   "source": [
    "final_dataset.shape"
   ],
   "metadata": {
    "collapsed": false,
    "pycharm": {
     "name": "#%%\n"
    }
   }
  },
  {
   "cell_type": "code",
   "execution_count": 84,
   "outputs": [],
   "source": [
    "final_dataset.to_csv(\"../data/classification/count_dataset_for_multilabel.csv\", index=False)"
   ],
   "metadata": {
    "collapsed": false,
    "pycharm": {
     "name": "#%%\n"
    }
   }
  },
  {
   "cell_type": "code",
   "execution_count": 85,
   "outputs": [],
   "source": [
    "final_columns = final_dataset.columns.to_list()"
   ],
   "metadata": {
    "collapsed": false,
    "pycharm": {
     "name": "#%%\n"
    }
   }
  },
  {
   "cell_type": "code",
   "execution_count": 86,
   "outputs": [],
   "source": [
    "final_columns = [col for col in final_columns if not col.startswith(\"tag\") and not col.startswith(\"topic\")]"
   ],
   "metadata": {
    "collapsed": false,
    "pycharm": {
     "name": "#%%\n"
    }
   }
  },
  {
   "cell_type": "code",
   "execution_count": 87,
   "outputs": [
    {
     "data": {
      "text/plain": "                column_name\n0              project_name\n1                 package#A\n2             package#ACGAN\n3         package#APDrawing\n4      package#APDrawingGAN\n...                     ...\n19231       extension#.zpln\n19232       extension#.zraw\n19233        extension#.zsh\n19234        extension#.zst\n19235        extension#.zzz\n\n[19236 rows x 1 columns]",
      "text/html": "<div>\n<style scoped>\n    .dataframe tbody tr th:only-of-type {\n        vertical-align: middle;\n    }\n\n    .dataframe tbody tr th {\n        vertical-align: top;\n    }\n\n    .dataframe thead th {\n        text-align: right;\n    }\n</style>\n<table border=\"1\" class=\"dataframe\">\n  <thead>\n    <tr style=\"text-align: right;\">\n      <th></th>\n      <th>column_name</th>\n    </tr>\n  </thead>\n  <tbody>\n    <tr>\n      <th>0</th>\n      <td>project_name</td>\n    </tr>\n    <tr>\n      <th>1</th>\n      <td>package#A</td>\n    </tr>\n    <tr>\n      <th>2</th>\n      <td>package#ACGAN</td>\n    </tr>\n    <tr>\n      <th>3</th>\n      <td>package#APDrawing</td>\n    </tr>\n    <tr>\n      <th>4</th>\n      <td>package#APDrawingGAN</td>\n    </tr>\n    <tr>\n      <th>...</th>\n      <td>...</td>\n    </tr>\n    <tr>\n      <th>19231</th>\n      <td>extension#.zpln</td>\n    </tr>\n    <tr>\n      <th>19232</th>\n      <td>extension#.zraw</td>\n    </tr>\n    <tr>\n      <th>19233</th>\n      <td>extension#.zsh</td>\n    </tr>\n    <tr>\n      <th>19234</th>\n      <td>extension#.zst</td>\n    </tr>\n    <tr>\n      <th>19235</th>\n      <td>extension#.zzz</td>\n    </tr>\n  </tbody>\n</table>\n<p>19236 rows × 1 columns</p>\n</div>"
     },
     "execution_count": 87,
     "metadata": {},
     "output_type": "execute_result"
    }
   ],
   "source": [
    "final_columns = pd.DataFrame(final_columns, columns=[\"column_name\"])\n",
    "final_columns"
   ],
   "metadata": {
    "collapsed": false,
    "pycharm": {
     "name": "#%%\n"
    }
   }
  },
  {
   "cell_type": "code",
   "execution_count": 88,
   "outputs": [],
   "source": [
    "final_columns.to_csv(\"../data/pipeline/final_columns.csv\", index=False)"
   ],
   "metadata": {
    "collapsed": false,
    "pycharm": {
     "name": "#%%\n"
    }
   }
  },
  {
   "cell_type": "code",
   "execution_count": 94,
   "outputs": [],
   "source": [
    "final_tags = []\n",
    "for tag in final_dataset.columns.to_list():\n",
    "    if tag.startswith(\"tag#\"):\n",
    "        final_tags.append(tag.split(\"tag#\")[1])\n",
    "    if tag.startswith(\"topic#\"):\n",
    "        final_tags.append(tag.split(\"topic#\")[1])"
   ],
   "metadata": {
    "collapsed": false,
    "pycharm": {
     "name": "#%%\n"
    }
   }
  },
  {
   "cell_type": "code",
   "execution_count": 95,
   "outputs": [
    {
     "data": {
      "text/plain": "                tag_name\n0                     3d\n1                     ai\n2              algorithm\n3    algorithmic-trading\n4             algorithms\n..                   ...\n408               webapp\n409              webpack\n410              windows\n411            wordpress\n412                  xml\n\n[413 rows x 1 columns]",
      "text/html": "<div>\n<style scoped>\n    .dataframe tbody tr th:only-of-type {\n        vertical-align: middle;\n    }\n\n    .dataframe tbody tr th {\n        vertical-align: top;\n    }\n\n    .dataframe thead th {\n        text-align: right;\n    }\n</style>\n<table border=\"1\" class=\"dataframe\">\n  <thead>\n    <tr style=\"text-align: right;\">\n      <th></th>\n      <th>tag_name</th>\n    </tr>\n  </thead>\n  <tbody>\n    <tr>\n      <th>0</th>\n      <td>3d</td>\n    </tr>\n    <tr>\n      <th>1</th>\n      <td>ai</td>\n    </tr>\n    <tr>\n      <th>2</th>\n      <td>algorithm</td>\n    </tr>\n    <tr>\n      <th>3</th>\n      <td>algorithmic-trading</td>\n    </tr>\n    <tr>\n      <th>4</th>\n      <td>algorithms</td>\n    </tr>\n    <tr>\n      <th>...</th>\n      <td>...</td>\n    </tr>\n    <tr>\n      <th>408</th>\n      <td>webapp</td>\n    </tr>\n    <tr>\n      <th>409</th>\n      <td>webpack</td>\n    </tr>\n    <tr>\n      <th>410</th>\n      <td>windows</td>\n    </tr>\n    <tr>\n      <th>411</th>\n      <td>wordpress</td>\n    </tr>\n    <tr>\n      <th>412</th>\n      <td>xml</td>\n    </tr>\n  </tbody>\n</table>\n<p>413 rows × 1 columns</p>\n</div>"
     },
     "execution_count": 95,
     "metadata": {},
     "output_type": "execute_result"
    }
   ],
   "source": [
    "final_tags = pd.DataFrame(final_tags, columns=[\"tag_name\"])\n",
    "final_tags"
   ],
   "metadata": {
    "collapsed": false,
    "pycharm": {
     "name": "#%%\n"
    }
   }
  },
  {
   "cell_type": "code",
   "execution_count": 96,
   "outputs": [],
   "source": [
    "final_tags.to_csv(\"../data/pipeline/final_tags.csv\", index=False)"
   ],
   "metadata": {
    "collapsed": false,
    "pycharm": {
     "name": "#%%\n"
    }
   }
  },
  {
   "cell_type": "code",
   "execution_count": null,
   "outputs": [],
   "source": [],
   "metadata": {
    "collapsed": false,
    "pycharm": {
     "name": "#%%\n"
    }
   }
  }
 ],
 "metadata": {
  "kernelspec": {
   "display_name": "Python 3 (ipykernel)",
   "language": "python",
   "name": "python3"
  },
  "language_info": {
   "codemirror_mode": {
    "name": "ipython",
    "version": 3
   },
   "file_extension": ".py",
   "mimetype": "text/x-python",
   "name": "python",
   "nbconvert_exporter": "python",
   "pygments_lexer": "ipython3",
   "version": "3.9.12"
  }
 },
 "nbformat": 4,
 "nbformat_minor": 1
}