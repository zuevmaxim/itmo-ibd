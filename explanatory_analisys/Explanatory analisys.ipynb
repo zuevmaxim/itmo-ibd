{
 "cells": [
  {
   "cell_type": "code",
   "execution_count": 3,
   "metadata": {
    "id": "HCQcAtHP7sPd"
   },
   "outputs": [],
   "source": [
    "import numpy as np\n",
    "import pandas as pd\n",
    "import matplotlib.pyplot as plt\n",
    "import scipy\n",
    "%matplotlib inline"
   ]
  },
  {
   "cell_type": "markdown",
   "metadata": {
    "id": "UNCmGWtBC0eY"
   },
   "source": [
    "# **Data import**\n",
    "\n",
    "---\n",
    "\n",
    "\n",
    "\n",
    "\n"
   ]
  },
  {
   "cell_type": "code",
   "execution_count": 26,
   "metadata": {
    "colab": {
     "base_uri": "https://localhost:8080/",
     "height": 441
    },
    "id": "Djke2Vtq8Cpq",
    "outputId": "39cb9cdb-a099-47d8-8c0b-b01f8a3537d9"
   },
   "outputs": [
    {
     "name": "stdout",
     "output_type": "stream",
     "text": [
      "Drive already mounted at /content/drive/; to attempt to forcibly remount, call drive.mount(\"/content/drive/\", force_remount=True).\n"
     ]
    },
    {
     "data": {
      "text/html": [
       "\n",
       "  <div id=\"df-2904b7d5-eceb-42f6-a276-64247945de2c\">\n",
       "    <div class=\"colab-df-container\">\n",
       "      <div>\n",
       "<style scoped>\n",
       "    .dataframe tbody tr th:only-of-type {\n",
       "        vertical-align: middle;\n",
       "    }\n",
       "\n",
       "    .dataframe tbody tr th {\n",
       "        vertical-align: top;\n",
       "    }\n",
       "\n",
       "    .dataframe thead th {\n",
       "        text-align: right;\n",
       "    }\n",
       "</style>\n",
       "<table border=\"1\" class=\"dataframe\">\n",
       "  <thead>\n",
       "    <tr style=\"text-align: right;\">\n",
       "      <th></th>\n",
       "      <th>Unnamed: 0</th>\n",
       "      <th>project_name</th>\n",
       "      <th>import</th>\n",
       "      <th>is_kotlin_import</th>\n",
       "      <th>is_python_import</th>\n",
       "      <th>package</th>\n",
       "    </tr>\n",
       "  </thead>\n",
       "  <tbody>\n",
       "    <tr>\n",
       "      <th>0</th>\n",
       "      <td>0</td>\n",
       "      <td>2dust#v2rayNG</td>\n",
       "      <td>androidx.appcompat.app.AppCompatActivity</td>\n",
       "      <td>1</td>\n",
       "      <td>0</td>\n",
       "      <td>androidx.appcompat</td>\n",
       "    </tr>\n",
       "    <tr>\n",
       "      <th>1</th>\n",
       "      <td>1</td>\n",
       "      <td>2dust#v2rayNG</td>\n",
       "      <td>android.view.MenuItem</td>\n",
       "      <td>1</td>\n",
       "      <td>0</td>\n",
       "      <td>android.view</td>\n",
       "    </tr>\n",
       "    <tr>\n",
       "      <th>2</th>\n",
       "      <td>2</td>\n",
       "      <td>2dust#v2rayNG</td>\n",
       "      <td>android.Manifest</td>\n",
       "      <td>1</td>\n",
       "      <td>0</td>\n",
       "      <td>android</td>\n",
       "    </tr>\n",
       "    <tr>\n",
       "      <th>3</th>\n",
       "      <td>3</td>\n",
       "      <td>2dust#v2rayNG</td>\n",
       "      <td>android.content.Intent</td>\n",
       "      <td>1</td>\n",
       "      <td>0</td>\n",
       "      <td>android.content</td>\n",
       "    </tr>\n",
       "    <tr>\n",
       "      <th>4</th>\n",
       "      <td>4</td>\n",
       "      <td>2dust#v2rayNG</td>\n",
       "      <td>android.net.Uri</td>\n",
       "      <td>1</td>\n",
       "      <td>0</td>\n",
       "      <td>android.net</td>\n",
       "    </tr>\n",
       "    <tr>\n",
       "      <th>...</th>\n",
       "      <td>...</td>\n",
       "      <td>...</td>\n",
       "      <td>...</td>\n",
       "      <td>...</td>\n",
       "      <td>...</td>\n",
       "      <td>...</td>\n",
       "    </tr>\n",
       "    <tr>\n",
       "      <th>651817</th>\n",
       "      <td>89521</td>\n",
       "      <td>thtrieu#darkflow</td>\n",
       "      <td>os.path.basename</td>\n",
       "      <td>0</td>\n",
       "      <td>1</td>\n",
       "      <td>os</td>\n",
       "    </tr>\n",
       "    <tr>\n",
       "      <th>651818</th>\n",
       "      <td>89522</td>\n",
       "      <td>thtrieu#darkflow</td>\n",
       "      <td>setuptools.setup</td>\n",
       "      <td>0</td>\n",
       "      <td>1</td>\n",
       "      <td>setuptools</td>\n",
       "    </tr>\n",
       "    <tr>\n",
       "      <th>651819</th>\n",
       "      <td>89523</td>\n",
       "      <td>thtrieu#darkflow</td>\n",
       "      <td>setuptools.find_packages</td>\n",
       "      <td>0</td>\n",
       "      <td>1</td>\n",
       "      <td>setuptools</td>\n",
       "    </tr>\n",
       "    <tr>\n",
       "      <th>651820</th>\n",
       "      <td>89524</td>\n",
       "      <td>thtrieu#darkflow</td>\n",
       "      <td>setuptools.extension.Extension</td>\n",
       "      <td>0</td>\n",
       "      <td>1</td>\n",
       "      <td>setuptools</td>\n",
       "    </tr>\n",
       "    <tr>\n",
       "      <th>651821</th>\n",
       "      <td>89525</td>\n",
       "      <td>thtrieu#darkflow</td>\n",
       "      <td>Cython.Build.cythonize</td>\n",
       "      <td>0</td>\n",
       "      <td>1</td>\n",
       "      <td>Cython.Build</td>\n",
       "    </tr>\n",
       "  </tbody>\n",
       "</table>\n",
       "<p>651822 rows × 6 columns</p>\n",
       "</div>\n",
       "      <button class=\"colab-df-convert\" onclick=\"convertToInteractive('df-2904b7d5-eceb-42f6-a276-64247945de2c')\"\n",
       "              title=\"Convert this dataframe to an interactive table.\"\n",
       "              style=\"display:none;\">\n",
       "        \n",
       "  <svg xmlns=\"http://www.w3.org/2000/svg\" height=\"24px\"viewBox=\"0 0 24 24\"\n",
       "       width=\"24px\">\n",
       "    <path d=\"M0 0h24v24H0V0z\" fill=\"none\"/>\n",
       "    <path d=\"M18.56 5.44l.94 2.06.94-2.06 2.06-.94-2.06-.94-.94-2.06-.94 2.06-2.06.94zm-11 1L8.5 8.5l.94-2.06 2.06-.94-2.06-.94L8.5 2.5l-.94 2.06-2.06.94zm10 10l.94 2.06.94-2.06 2.06-.94-2.06-.94-.94-2.06-.94 2.06-2.06.94z\"/><path d=\"M17.41 7.96l-1.37-1.37c-.4-.4-.92-.59-1.43-.59-.52 0-1.04.2-1.43.59L10.3 9.45l-7.72 7.72c-.78.78-.78 2.05 0 2.83L4 21.41c.39.39.9.59 1.41.59.51 0 1.02-.2 1.41-.59l7.78-7.78 2.81-2.81c.8-.78.8-2.07 0-2.86zM5.41 20L4 18.59l7.72-7.72 1.47 1.35L5.41 20z\"/>\n",
       "  </svg>\n",
       "      </button>\n",
       "      \n",
       "  <style>\n",
       "    .colab-df-container {\n",
       "      display:flex;\n",
       "      flex-wrap:wrap;\n",
       "      gap: 12px;\n",
       "    }\n",
       "\n",
       "    .colab-df-convert {\n",
       "      background-color: #E8F0FE;\n",
       "      border: none;\n",
       "      border-radius: 50%;\n",
       "      cursor: pointer;\n",
       "      display: none;\n",
       "      fill: #1967D2;\n",
       "      height: 32px;\n",
       "      padding: 0 0 0 0;\n",
       "      width: 32px;\n",
       "    }\n",
       "\n",
       "    .colab-df-convert:hover {\n",
       "      background-color: #E2EBFA;\n",
       "      box-shadow: 0px 1px 2px rgba(60, 64, 67, 0.3), 0px 1px 3px 1px rgba(60, 64, 67, 0.15);\n",
       "      fill: #174EA6;\n",
       "    }\n",
       "\n",
       "    [theme=dark] .colab-df-convert {\n",
       "      background-color: #3B4455;\n",
       "      fill: #D2E3FC;\n",
       "    }\n",
       "\n",
       "    [theme=dark] .colab-df-convert:hover {\n",
       "      background-color: #434B5C;\n",
       "      box-shadow: 0px 1px 3px 1px rgba(0, 0, 0, 0.15);\n",
       "      filter: drop-shadow(0px 1px 2px rgba(0, 0, 0, 0.3));\n",
       "      fill: #FFFFFF;\n",
       "    }\n",
       "  </style>\n",
       "\n",
       "      <script>\n",
       "        const buttonEl =\n",
       "          document.querySelector('#df-2904b7d5-eceb-42f6-a276-64247945de2c button.colab-df-convert');\n",
       "        buttonEl.style.display =\n",
       "          google.colab.kernel.accessAllowed ? 'block' : 'none';\n",
       "\n",
       "        async function convertToInteractive(key) {\n",
       "          const element = document.querySelector('#df-2904b7d5-eceb-42f6-a276-64247945de2c');\n",
       "          const dataTable =\n",
       "            await google.colab.kernel.invokeFunction('convertToInteractive',\n",
       "                                                     [key], {});\n",
       "          if (!dataTable) return;\n",
       "\n",
       "          const docLinkHtml = 'Like what you see? Visit the ' +\n",
       "            '<a target=\"_blank\" href=https://colab.research.google.com/notebooks/data_table.ipynb>data table notebook</a>'\n",
       "            + ' to learn more about interactive tables.';\n",
       "          element.innerHTML = '';\n",
       "          dataTable['output_type'] = 'display_data';\n",
       "          await google.colab.output.renderOutput(dataTable, element);\n",
       "          const docLink = document.createElement('div');\n",
       "          docLink.innerHTML = docLinkHtml;\n",
       "          element.appendChild(docLink);\n",
       "        }\n",
       "      </script>\n",
       "    </div>\n",
       "  </div>\n",
       "  "
      ],
      "text/plain": [
       "        Unnamed: 0      project_name  \\\n",
       "0                0     2dust#v2rayNG   \n",
       "1                1     2dust#v2rayNG   \n",
       "2                2     2dust#v2rayNG   \n",
       "3                3     2dust#v2rayNG   \n",
       "4                4     2dust#v2rayNG   \n",
       "...            ...               ...   \n",
       "651817       89521  thtrieu#darkflow   \n",
       "651818       89522  thtrieu#darkflow   \n",
       "651819       89523  thtrieu#darkflow   \n",
       "651820       89524  thtrieu#darkflow   \n",
       "651821       89525  thtrieu#darkflow   \n",
       "\n",
       "                                          import  is_kotlin_import  \\\n",
       "0       androidx.appcompat.app.AppCompatActivity                 1   \n",
       "1                          android.view.MenuItem                 1   \n",
       "2                               android.Manifest                 1   \n",
       "3                         android.content.Intent                 1   \n",
       "4                                android.net.Uri                 1   \n",
       "...                                          ...               ...   \n",
       "651817                          os.path.basename                 0   \n",
       "651818                          setuptools.setup                 0   \n",
       "651819                  setuptools.find_packages                 0   \n",
       "651820            setuptools.extension.Extension                 0   \n",
       "651821                    Cython.Build.cythonize                 0   \n",
       "\n",
       "        is_python_import             package  \n",
       "0                      0  androidx.appcompat  \n",
       "1                      0        android.view  \n",
       "2                      0             android  \n",
       "3                      0     android.content  \n",
       "4                      0         android.net  \n",
       "...                  ...                 ...  \n",
       "651817                 1                  os  \n",
       "651818                 1          setuptools  \n",
       "651819                 1          setuptools  \n",
       "651820                 1          setuptools  \n",
       "651821                 1        Cython.Build  \n",
       "\n",
       "[651822 rows x 6 columns]"
      ]
     },
     "execution_count": 26,
     "metadata": {},
     "output_type": "execute_result"
    }
   ],
   "source": "source": [
    "data = pd.read_csv(\"../data/full_import_dataset/full_import_dataset_with_package.csv\")\n",
    "data.head()"
   ]
  },
  {
   "cell_type": "markdown",
   "metadata": {
    "id": "tUjiY769e6Ha"
   },
   "source": [
    "# **Number of unique projects**\n",
    "\n"
   ]
  },
  {
   "cell_type": "code",
   "execution_count": 22,
   "metadata": {
    "colab": {
     "base_uri": "https://localhost:8080/"
    },
    "id": "3HPtz8e5DjW-",
    "outputId": "0b384189-6728-422c-da06-dd2f18630cd4"
   },
   "outputs": [
    {
     "data": {
      "text/plain": [
       "2915"
      ]
     },
     "execution_count": 22,
     "metadata": {},
     "output_type": "execute_result"
    }
   ],
   "source": [
    "data[\"project_name\"].nunique()"
   ]
  },
  {
   "cell_type": "markdown",
   "metadata": {
    "id": "gvJaP6AODj8Y"
   },
   "source": [
    "# **Imports in a project**"
   ]
  },
  {
   "cell_type": "markdown",
   "metadata": {
    "id": "7AAfeNnZkOLQ"
   },
   "source": [
    "**Top 5 by the number of imports in the project**"
   ]
  },
  {
   "cell_type": "code",
   "execution_count": 51,
   "metadata": {
    "id": "K7U2LLpZvP23"
   },
   "outputs": [],
   "source": [
    "data_project_import = data.groupby(['project_name'], axis =0)"
   ]
  },
  {
   "cell_type": "code",
   "execution_count": 52,
   "metadata": {
    "colab": {
     "base_uri": "https://localhost:8080/",
     "height": 206
    },
    "id": "hFydL6CU_4pA",
    "outputId": "0942cc1a-5115-453c-cb82-50c802ee55b1"
   },
   "outputs": [
    {
     "data": {
      "text/html": [
       "\n",
       "  <div id=\"df-6c6a1bd3-149b-4b2b-8530-cbd57aa8e87f\">\n",
       "    <div class=\"colab-df-container\">\n",
       "      <div>\n",
       "<style scoped>\n",
       "    .dataframe tbody tr th:only-of-type {\n",
       "        vertical-align: middle;\n",
       "    }\n",
       "\n",
       "    .dataframe tbody tr th {\n",
       "        vertical-align: top;\n",
       "    }\n",
       "\n",
       "    .dataframe thead th {\n",
       "        text-align: right;\n",
       "    }\n",
       "</style>\n",
       "<table border=\"1\" class=\"dataframe\">\n",
       "  <thead>\n",
       "    <tr style=\"text-align: right;\">\n",
       "      <th></th>\n",
       "      <th>project_name</th>\n",
       "      <th>import_count</th>\n",
       "    </tr>\n",
       "  </thead>\n",
       "  <tbody>\n",
       "    <tr>\n",
       "      <th>2112</th>\n",
       "      <td>mozilla-mobile#fenix</td>\n",
       "      <td>24552</td>\n",
       "    </tr>\n",
       "    <tr>\n",
       "      <th>896</th>\n",
       "      <td>blockchain#My-Wallet-V3-Android</td>\n",
       "      <td>11219</td>\n",
       "    </tr>\n",
       "    <tr>\n",
       "      <th>2840</th>\n",
       "      <td>wordpress-mobile#WordPress-Android</td>\n",
       "      <td>10629</td>\n",
       "    </tr>\n",
       "    <tr>\n",
       "      <th>305</th>\n",
       "      <td>JetBrains#compose-jb</td>\n",
       "      <td>7996</td>\n",
       "    </tr>\n",
       "    <tr>\n",
       "      <th>1630</th>\n",
       "      <td>intellij-rust#intellij-rust</td>\n",
       "      <td>7655</td>\n",
       "    </tr>\n",
       "  </tbody>\n",
       "</table>\n",
       "</div>\n",
       "      <button class=\"colab-df-convert\" onclick=\"convertToInteractive('df-6c6a1bd3-149b-4b2b-8530-cbd57aa8e87f')\"\n",
       "              title=\"Convert this dataframe to an interactive table.\"\n",
       "              style=\"display:none;\">\n",
       "        \n",
       "  <svg xmlns=\"http://www.w3.org/2000/svg\" height=\"24px\"viewBox=\"0 0 24 24\"\n",
       "       width=\"24px\">\n",
       "    <path d=\"M0 0h24v24H0V0z\" fill=\"none\"/>\n",
       "    <path d=\"M18.56 5.44l.94 2.06.94-2.06 2.06-.94-2.06-.94-.94-2.06-.94 2.06-2.06.94zm-11 1L8.5 8.5l.94-2.06 2.06-.94-2.06-.94L8.5 2.5l-.94 2.06-2.06.94zm10 10l.94 2.06.94-2.06 2.06-.94-2.06-.94-.94-2.06-.94 2.06-2.06.94z\"/><path d=\"M17.41 7.96l-1.37-1.37c-.4-.4-.92-.59-1.43-.59-.52 0-1.04.2-1.43.59L10.3 9.45l-7.72 7.72c-.78.78-.78 2.05 0 2.83L4 21.41c.39.39.9.59 1.41.59.51 0 1.02-.2 1.41-.59l7.78-7.78 2.81-2.81c.8-.78.8-2.07 0-2.86zM5.41 20L4 18.59l7.72-7.72 1.47 1.35L5.41 20z\"/>\n",
       "  </svg>\n",
       "      </button>\n",
       "      \n",
       "  <style>\n",
       "    .colab-df-container {\n",
       "      display:flex;\n",
       "      flex-wrap:wrap;\n",
       "      gap: 12px;\n",
       "    }\n",
       "\n",
       "    .colab-df-convert {\n",
       "      background-color: #E8F0FE;\n",
       "      border: none;\n",
       "      border-radius: 50%;\n",
       "      cursor: pointer;\n",
       "      display: none;\n",
       "      fill: #1967D2;\n",
       "      height: 32px;\n",
       "      padding: 0 0 0 0;\n",
       "      width: 32px;\n",
       "    }\n",
       "\n",
       "    .colab-df-convert:hover {\n",
       "      background-color: #E2EBFA;\n",
       "      box-shadow: 0px 1px 2px rgba(60, 64, 67, 0.3), 0px 1px 3px 1px rgba(60, 64, 67, 0.15);\n",
       "      fill: #174EA6;\n",
       "    }\n",
       "\n",
       "    [theme=dark] .colab-df-convert {\n",
       "      background-color: #3B4455;\n",
       "      fill: #D2E3FC;\n",
       "    }\n",
       "\n",
       "    [theme=dark] .colab-df-convert:hover {\n",
       "      background-color: #434B5C;\n",
       "      box-shadow: 0px 1px 3px 1px rgba(0, 0, 0, 0.15);\n",
       "      filter: drop-shadow(0px 1px 2px rgba(0, 0, 0, 0.3));\n",
       "      fill: #FFFFFF;\n",
       "    }\n",
       "  </style>\n",
       "\n",
       "      <script>\n",
       "        const buttonEl =\n",
       "          document.querySelector('#df-6c6a1bd3-149b-4b2b-8530-cbd57aa8e87f button.colab-df-convert');\n",
       "        buttonEl.style.display =\n",
       "          google.colab.kernel.accessAllowed ? 'block' : 'none';\n",
       "\n",
       "        async function convertToInteractive(key) {\n",
       "          const element = document.querySelector('#df-6c6a1bd3-149b-4b2b-8530-cbd57aa8e87f');\n",
       "          const dataTable =\n",
       "            await google.colab.kernel.invokeFunction('convertToInteractive',\n",
       "                                                     [key], {});\n",
       "          if (!dataTable) return;\n",
       "\n",
       "          const docLinkHtml = 'Like what you see? Visit the ' +\n",
       "            '<a target=\"_blank\" href=https://colab.research.google.com/notebooks/data_table.ipynb>data table notebook</a>'\n",
       "            + ' to learn more about interactive tables.';\n",
       "          element.innerHTML = '';\n",
       "          dataTable['output_type'] = 'display_data';\n",
       "          await google.colab.output.renderOutput(dataTable, element);\n",
       "          const docLink = document.createElement('div');\n",
       "          docLink.innerHTML = docLinkHtml;\n",
       "          element.appendChild(docLink);\n",
       "        }\n",
       "      </script>\n",
       "    </div>\n",
       "  </div>\n",
       "  "
      ],
      "text/plain": [
       "                            project_name  import_count\n",
       "2112                mozilla-mobile#fenix         24552\n",
       "896      blockchain#My-Wallet-V3-Android         11219\n",
       "2840  wordpress-mobile#WordPress-Android         10629\n",
       "305                 JetBrains#compose-jb          7996\n",
       "1630         intellij-rust#intellij-rust          7655"
      ]
     },
     "execution_count": 52,
     "metadata": {},
     "output_type": "execute_result"
    }
   ],
   "source": [
    "data_project_import_count = data_project_import[\"import\"].count().reset_index(name=\"import_count\").sort_values(by=['import_count'], ascending=False)\n",
    "data_project_import_count_top_5 = data_project_import_count.head(5)\n",
    "data_project_import_count_top_5"
   ]
  },
  {
   "cell_type": "code",
   "execution_count": 61,
   "metadata": {
    "colab": {
     "base_uri": "https://localhost:8080/",
     "height": 494
    },
    "id": "eOCkcbXKV7ro",
    "outputId": "4808c35c-ebd7-4758-c8a0-d06e66638da6"
   },
   "outputs": [
    {
     "data": {
      "text/plain": [
       "<matplotlib.axes._subplots.AxesSubplot at 0x7f7563f1a990>"
      ]
     },
     "execution_count": 61,
     "metadata": {},
     "output_type": "execute_result"
    },
    {
     "data": {
      "image/png": "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\n",
      "text/plain": [
       "<Figure size 432x288 with 1 Axes>"
      ]
     },
     "metadata": {
      "needs_background": "light"
     },
     "output_type": "display_data"
    }
   ],
   "source": [
    "import matplotlib.pyplot as plt\n",
    "data_project_import_count_top_5.plot.bar(x ='project_name', y='import_count', title='Dependence of the number of imports on projects')"
   ]
  },
  {
   "cell_type": "markdown",
   "metadata": {
    "id": "nU_jWRHZnsKM"
   },
   "source": [
    "**Average number of imports per project**\n"
   ]
  },
  {
   "cell_type": "code",
   "execution_count": 57,
   "metadata": {
    "colab": {
     "base_uri": "https://localhost:8080/"
    },
    "id": "TTSz2Vk3nwlr",
    "outputId": "9953273b-d67e-4e86-f883-07004a6b1a7e"
   },
   "outputs": [
    {
     "data": {
      "text/plain": [
       "223.60926243567752"
      ]
     },
     "execution_count": 57,
     "metadata": {},
     "output_type": "execute_result"
    }
   ],
   "source": [
    "mean_import = data_project_import_count[\"import_count\"].mean()\n",
    "mean_import"
   ]
  },
  {
   "cell_type": "markdown",
   "metadata": {
    "id": "Zfeeo_rxwWTz"
   },
   "source": [
    "**Median number of imports per project**"
   ]
  },
  {
   "cell_type": "code",
   "execution_count": 58,
   "metadata": {
    "colab": {
     "base_uri": "https://localhost:8080/"
    },
    "id": "PBoRH_QZwaBe",
    "outputId": "759d2566-b949-4075-8f43-50b65b030c54"
   },
   "outputs": [
    {
     "data": {
      "text/plain": [
       "66.0"
      ]
     },
     "execution_count": 58,
     "metadata": {},
     "output_type": "execute_result"
    }
   ],
   "source": [
    "median_import = data_project_import_count[\"import_count\"].median()\n",
    "median_import"
   ]
  },
  {
   "cell_type": "code",
   "execution_count": 12,
   "metadata": {
    "colab": {
     "base_uri": "https://localhost:8080/",
     "height": 206
    },
    "id": "2V_1U7sSfyRT",
    "outputId": "76b633da-9571-47ca-b8f7-9e25c3134ea3"
   },
   "outputs": [
    {
     "data": {
      "text/html": [
       "\n",
       "  <div id=\"df-421c28df-438f-4077-b837-06472c6990f9\">\n",
       "    <div class=\"colab-df-container\">\n",
       "      <div>\n",
       "<style scoped>\n",
       "    .dataframe tbody tr th:only-of-type {\n",
       "        vertical-align: middle;\n",
       "    }\n",
       "\n",
       "    .dataframe tbody tr th {\n",
       "        vertical-align: top;\n",
       "    }\n",
       "\n",
       "    .dataframe thead th {\n",
       "        text-align: right;\n",
       "    }\n",
       "</style>\n",
       "<table border=\"1\" class=\"dataframe\">\n",
       "  <thead>\n",
       "    <tr style=\"text-align: right;\">\n",
       "      <th></th>\n",
       "      <th>project_name</th>\n",
       "      <th>is_kotlin_import</th>\n",
       "      <th>kotlin_import_count</th>\n",
       "    </tr>\n",
       "  </thead>\n",
       "  <tbody>\n",
       "    <tr>\n",
       "      <th>2126</th>\n",
       "      <td>mozilla-mobile#fenix</td>\n",
       "      <td>1</td>\n",
       "      <td>24398</td>\n",
       "    </tr>\n",
       "    <tr>\n",
       "      <th>904</th>\n",
       "      <td>blockchain#My-Wallet-V3-Android</td>\n",
       "      <td>1</td>\n",
       "      <td>11219</td>\n",
       "    </tr>\n",
       "    <tr>\n",
       "      <th>2859</th>\n",
       "      <td>wordpress-mobile#WordPress-Android</td>\n",
       "      <td>1</td>\n",
       "      <td>10623</td>\n",
       "    </tr>\n",
       "    <tr>\n",
       "      <th>306</th>\n",
       "      <td>JetBrains#compose-jb</td>\n",
       "      <td>1</td>\n",
       "      <td>7996</td>\n",
       "    </tr>\n",
       "    <tr>\n",
       "      <th>1642</th>\n",
       "      <td>intellij-rust#intellij-rust</td>\n",
       "      <td>1</td>\n",
       "      <td>7578</td>\n",
       "    </tr>\n",
       "  </tbody>\n",
       "</table>\n",
       "</div>\n",
       "      <button class=\"colab-df-convert\" onclick=\"convertToInteractive('df-421c28df-438f-4077-b837-06472c6990f9')\"\n",
       "              title=\"Convert this dataframe to an interactive table.\"\n",
       "              style=\"display:none;\">\n",
       "        \n",
       "  <svg xmlns=\"http://www.w3.org/2000/svg\" height=\"24px\"viewBox=\"0 0 24 24\"\n",
       "       width=\"24px\">\n",
       "    <path d=\"M0 0h24v24H0V0z\" fill=\"none\"/>\n",
       "    <path d=\"M18.56 5.44l.94 2.06.94-2.06 2.06-.94-2.06-.94-.94-2.06-.94 2.06-2.06.94zm-11 1L8.5 8.5l.94-2.06 2.06-.94-2.06-.94L8.5 2.5l-.94 2.06-2.06.94zm10 10l.94 2.06.94-2.06 2.06-.94-2.06-.94-.94-2.06-.94 2.06-2.06.94z\"/><path d=\"M17.41 7.96l-1.37-1.37c-.4-.4-.92-.59-1.43-.59-.52 0-1.04.2-1.43.59L10.3 9.45l-7.72 7.72c-.78.78-.78 2.05 0 2.83L4 21.41c.39.39.9.59 1.41.59.51 0 1.02-.2 1.41-.59l7.78-7.78 2.81-2.81c.8-.78.8-2.07 0-2.86zM5.41 20L4 18.59l7.72-7.72 1.47 1.35L5.41 20z\"/>\n",
       "  </svg>\n",
       "      </button>\n",
       "      \n",
       "  <style>\n",
       "    .colab-df-container {\n",
       "      display:flex;\n",
       "      flex-wrap:wrap;\n",
       "      gap: 12px;\n",
       "    }\n",
       "\n",
       "    .colab-df-convert {\n",
       "      background-color: #E8F0FE;\n",
       "      border: none;\n",
       "      border-radius: 50%;\n",
       "      cursor: pointer;\n",
       "      display: none;\n",
       "      fill: #1967D2;\n",
       "      height: 32px;\n",
       "      padding: 0 0 0 0;\n",
       "      width: 32px;\n",
       "    }\n",
       "\n",
       "    .colab-df-convert:hover {\n",
       "      background-color: #E2EBFA;\n",
       "      box-shadow: 0px 1px 2px rgba(60, 64, 67, 0.3), 0px 1px 3px 1px rgba(60, 64, 67, 0.15);\n",
       "      fill: #174EA6;\n",
       "    }\n",
       "\n",
       "    [theme=dark] .colab-df-convert {\n",
       "      background-color: #3B4455;\n",
       "      fill: #D2E3FC;\n",
       "    }\n",
       "\n",
       "    [theme=dark] .colab-df-convert:hover {\n",
       "      background-color: #434B5C;\n",
       "      box-shadow: 0px 1px 3px 1px rgba(0, 0, 0, 0.15);\n",
       "      filter: drop-shadow(0px 1px 2px rgba(0, 0, 0, 0.3));\n",
       "      fill: #FFFFFF;\n",
       "    }\n",
       "  </style>\n",
       "\n",
       "      <script>\n",
       "        const buttonEl =\n",
       "          document.querySelector('#df-421c28df-438f-4077-b837-06472c6990f9 button.colab-df-convert');\n",
       "        buttonEl.style.display =\n",
       "          google.colab.kernel.accessAllowed ? 'block' : 'none';\n",
       "\n",
       "        async function convertToInteractive(key) {\n",
       "          const element = document.querySelector('#df-421c28df-438f-4077-b837-06472c6990f9');\n",
       "          const dataTable =\n",
       "            await google.colab.kernel.invokeFunction('convertToInteractive',\n",
       "                                                     [key], {});\n",
       "          if (!dataTable) return;\n",
       "\n",
       "          const docLinkHtml = 'Like what you see? Visit the ' +\n",
       "            '<a target=\"_blank\" href=https://colab.research.google.com/notebooks/data_table.ipynb>data table notebook</a>'\n",
       "            + ' to learn more about interactive tables.';\n",
       "          element.innerHTML = '';\n",
       "          dataTable['output_type'] = 'display_data';\n",
       "          await google.colab.output.renderOutput(dataTable, element);\n",
       "          const docLink = document.createElement('div');\n",
       "          docLink.innerHTML = docLinkHtml;\n",
       "          element.appendChild(docLink);\n",
       "        }\n",
       "      </script>\n",
       "    </div>\n",
       "  </div>\n",
       "  "
      ],
      "text/plain": [
       "                            project_name  is_kotlin_import  \\\n",
       "2126                mozilla-mobile#fenix                 1   \n",
       "904      blockchain#My-Wallet-V3-Android                 1   \n",
       "2859  wordpress-mobile#WordPress-Android                 1   \n",
       "306                 JetBrains#compose-jb                 1   \n",
       "1642         intellij-rust#intellij-rust                 1   \n",
       "\n",
       "      kotlin_import_count  \n",
       "2126                24398  \n",
       "904                 11219  \n",
       "2859                10623  \n",
       "306                  7996  \n",
       "1642                 7578  "
      ]
     },
     "execution_count": 12,
     "metadata": {},
     "output_type": "execute_result"
    }
   ],
   "source": [
    "data_project_import_and_count_kotlin = data.groupby(['project_name','is_kotlin_import'], axis =0)['is_kotlin_import'].sum().reset_index(name=\"kotlin_import_count\").sort_values(by=['kotlin_import_count'], ascending=False)\n",
    "data_project_import_and_count_kotlin.head(5)"
   ]
  },
  {
   "cell_type": "code",
   "execution_count": 13,
   "metadata": {
    "colab": {
     "base_uri": "https://localhost:8080/",
     "height": 206
    },
    "id": "UtibeBKWjI4D",
    "outputId": "4a791041-9e51-4879-a9ed-8826c83167f1"
   },
   "outputs": [
    {
     "data": {
      "text/html": [
       "\n",
       "  <div id=\"df-32f3c78d-0e70-4de8-bab4-00649735d531\">\n",
       "    <div class=\"colab-df-container\">\n",
       "      <div>\n",
       "<style scoped>\n",
       "    .dataframe tbody tr th:only-of-type {\n",
       "        vertical-align: middle;\n",
       "    }\n",
       "\n",
       "    .dataframe tbody tr th {\n",
       "        vertical-align: top;\n",
       "    }\n",
       "\n",
       "    .dataframe thead th {\n",
       "        text-align: right;\n",
       "    }\n",
       "</style>\n",
       "<table border=\"1\" class=\"dataframe\">\n",
       "  <thead>\n",
       "    <tr style=\"text-align: right;\">\n",
       "      <th></th>\n",
       "      <th>project_name</th>\n",
       "      <th>is_python_import</th>\n",
       "      <th>python_import_count</th>\n",
       "    </tr>\n",
       "  </thead>\n",
       "  <tbody>\n",
       "    <tr>\n",
       "      <th>1563</th>\n",
       "      <td>home-assistant#core</td>\n",
       "      <td>1</td>\n",
       "      <td>5443</td>\n",
       "    </tr>\n",
       "    <tr>\n",
       "      <th>1505</th>\n",
       "      <td>gtalarico#ironpython-stubs</td>\n",
       "      <td>1</td>\n",
       "      <td>4107</td>\n",
       "    </tr>\n",
       "    <tr>\n",
       "      <th>2461</th>\n",
       "      <td>ray-project#ray</td>\n",
       "      <td>1</td>\n",
       "      <td>3874</td>\n",
       "    </tr>\n",
       "    <tr>\n",
       "      <th>1205</th>\n",
       "      <td>doableware#djongo</td>\n",
       "      <td>1</td>\n",
       "      <td>3512</td>\n",
       "    </tr>\n",
       "    <tr>\n",
       "      <th>1581</th>\n",
       "      <td>huggingface#transformers</td>\n",
       "      <td>1</td>\n",
       "      <td>3479</td>\n",
       "    </tr>\n",
       "  </tbody>\n",
       "</table>\n",
       "</div>\n",
       "      <button class=\"colab-df-convert\" onclick=\"convertToInteractive('df-32f3c78d-0e70-4de8-bab4-00649735d531')\"\n",
       "              title=\"Convert this dataframe to an interactive table.\"\n",
       "              style=\"display:none;\">\n",
       "        \n",
       "  <svg xmlns=\"http://www.w3.org/2000/svg\" height=\"24px\"viewBox=\"0 0 24 24\"\n",
       "       width=\"24px\">\n",
       "    <path d=\"M0 0h24v24H0V0z\" fill=\"none\"/>\n",
       "    <path d=\"M18.56 5.44l.94 2.06.94-2.06 2.06-.94-2.06-.94-.94-2.06-.94 2.06-2.06.94zm-11 1L8.5 8.5l.94-2.06 2.06-.94-2.06-.94L8.5 2.5l-.94 2.06-2.06.94zm10 10l.94 2.06.94-2.06 2.06-.94-2.06-.94-.94-2.06-.94 2.06-2.06.94z\"/><path d=\"M17.41 7.96l-1.37-1.37c-.4-.4-.92-.59-1.43-.59-.52 0-1.04.2-1.43.59L10.3 9.45l-7.72 7.72c-.78.78-.78 2.05 0 2.83L4 21.41c.39.39.9.59 1.41.59.51 0 1.02-.2 1.41-.59l7.78-7.78 2.81-2.81c.8-.78.8-2.07 0-2.86zM5.41 20L4 18.59l7.72-7.72 1.47 1.35L5.41 20z\"/>\n",
       "  </svg>\n",
       "      </button>\n",
       "      \n",
       "  <style>\n",
       "    .colab-df-container {\n",
       "      display:flex;\n",
       "      flex-wrap:wrap;\n",
       "      gap: 12px;\n",
       "    }\n",
       "\n",
       "    .colab-df-convert {\n",
       "      background-color: #E8F0FE;\n",
       "      border: none;\n",
       "      border-radius: 50%;\n",
       "      cursor: pointer;\n",
       "      display: none;\n",
       "      fill: #1967D2;\n",
       "      height: 32px;\n",
       "      padding: 0 0 0 0;\n",
       "      width: 32px;\n",
       "    }\n",
       "\n",
       "    .colab-df-convert:hover {\n",
       "      background-color: #E2EBFA;\n",
       "      box-shadow: 0px 1px 2px rgba(60, 64, 67, 0.3), 0px 1px 3px 1px rgba(60, 64, 67, 0.15);\n",
       "      fill: #174EA6;\n",
       "    }\n",
       "\n",
       "    [theme=dark] .colab-df-convert {\n",
       "      background-color: #3B4455;\n",
       "      fill: #D2E3FC;\n",
       "    }\n",
       "\n",
       "    [theme=dark] .colab-df-convert:hover {\n",
       "      background-color: #434B5C;\n",
       "      box-shadow: 0px 1px 3px 1px rgba(0, 0, 0, 0.15);\n",
       "      filter: drop-shadow(0px 1px 2px rgba(0, 0, 0, 0.3));\n",
       "      fill: #FFFFFF;\n",
       "    }\n",
       "  </style>\n",
       "\n",
       "      <script>\n",
       "        const buttonEl =\n",
       "          document.querySelector('#df-32f3c78d-0e70-4de8-bab4-00649735d531 button.colab-df-convert');\n",
       "        buttonEl.style.display =\n",
       "          google.colab.kernel.accessAllowed ? 'block' : 'none';\n",
       "\n",
       "        async function convertToInteractive(key) {\n",
       "          const element = document.querySelector('#df-32f3c78d-0e70-4de8-bab4-00649735d531');\n",
       "          const dataTable =\n",
       "            await google.colab.kernel.invokeFunction('convertToInteractive',\n",
       "                                                     [key], {});\n",
       "          if (!dataTable) return;\n",
       "\n",
       "          const docLinkHtml = 'Like what you see? Visit the ' +\n",
       "            '<a target=\"_blank\" href=https://colab.research.google.com/notebooks/data_table.ipynb>data table notebook</a>'\n",
       "            + ' to learn more about interactive tables.';\n",
       "          element.innerHTML = '';\n",
       "          dataTable['output_type'] = 'display_data';\n",
       "          await google.colab.output.renderOutput(dataTable, element);\n",
       "          const docLink = document.createElement('div');\n",
       "          docLink.innerHTML = docLinkHtml;\n",
       "          element.appendChild(docLink);\n",
       "        }\n",
       "      </script>\n",
       "    </div>\n",
       "  </div>\n",
       "  "
      ],
      "text/plain": [
       "                    project_name  is_python_import  python_import_count\n",
       "1563         home-assistant#core                 1                 5443\n",
       "1505  gtalarico#ironpython-stubs                 1                 4107\n",
       "2461             ray-project#ray                 1                 3874\n",
       "1205           doableware#djongo                 1                 3512\n",
       "1581    huggingface#transformers                 1                 3479"
      ]
     },
     "execution_count": 13,
     "metadata": {},
     "output_type": "execute_result"
    }
   ],
   "source": [
    "data_project_import_and_count_python = data.groupby(['project_name','is_python_import'], axis =0)['is_python_import'].sum().reset_index(name=\"python_import_count\").sort_values(by=['python_import_count'], ascending=False)\n",
    "data_project_import_and_count_python.head(5)"
   ]
  },
  {
   "cell_type": "markdown",
   "metadata": {
    "id": "UBhjdRxVfdhY"
   },
   "source": [
    "# **Package**"
   ]
  },
  {
   "cell_type": "code",
   "execution_count": 14,
   "metadata": {
    "colab": {
     "base_uri": "https://localhost:8080/",
     "height": 424
    },
    "id": "Nsw7gmmamiND",
    "outputId": "baa8bdc0-9803-415c-cd5f-e516b6776eb1"
   },
   "outputs": [
    {
     "data": {
      "text/html": [
       "\n",
       "  <div id=\"df-0542316c-4c13-47f9-a9de-f8421992c826\">\n",
       "    <div class=\"colab-df-container\">\n",
       "      <div>\n",
       "<style scoped>\n",
       "    .dataframe tbody tr th:only-of-type {\n",
       "        vertical-align: middle;\n",
       "    }\n",
       "\n",
       "    .dataframe tbody tr th {\n",
       "        vertical-align: top;\n",
       "    }\n",
       "\n",
       "    .dataframe thead th {\n",
       "        text-align: right;\n",
       "    }\n",
       "</style>\n",
       "<table border=\"1\" class=\"dataframe\">\n",
       "  <thead>\n",
       "    <tr style=\"text-align: right;\">\n",
       "      <th></th>\n",
       "      <th>project_name</th>\n",
       "      <th>package</th>\n",
       "      <th>package_count</th>\n",
       "    </tr>\n",
       "  </thead>\n",
       "  <tbody>\n",
       "    <tr>\n",
       "      <th>0</th>\n",
       "      <td>01joy#news-search-engine</td>\n",
       "      <td>bs4</td>\n",
       "      <td>1</td>\n",
       "    </tr>\n",
       "    <tr>\n",
       "      <th>1</th>\n",
       "      <td>01joy#news-search-engine</td>\n",
       "      <td>datetime</td>\n",
       "      <td>2</td>\n",
       "    </tr>\n",
       "    <tr>\n",
       "      <th>2</th>\n",
       "      <td>01joy#news-search-engine</td>\n",
       "      <td>flask</td>\n",
       "      <td>3</td>\n",
       "    </tr>\n",
       "    <tr>\n",
       "      <th>3</th>\n",
       "      <td>01joy#news-search-engine</td>\n",
       "      <td>index</td>\n",
       "      <td>1</td>\n",
       "    </tr>\n",
       "    <tr>\n",
       "      <th>4</th>\n",
       "      <td>01joy#news-search-engine</td>\n",
       "      <td>jieba</td>\n",
       "      <td>1</td>\n",
       "    </tr>\n",
       "    <tr>\n",
       "      <th>...</th>\n",
       "      <td>...</td>\n",
       "      <td>...</td>\n",
       "      <td>...</td>\n",
       "    </tr>\n",
       "    <tr>\n",
       "      <th>95</th>\n",
       "      <td>1adrianb#face-alignment</td>\n",
       "      <td>distutils</td>\n",
       "      <td>1</td>\n",
       "    </tr>\n",
       "    <tr>\n",
       "      <th>96</th>\n",
       "      <td>1adrianb#face-alignment</td>\n",
       "      <td>enum</td>\n",
       "      <td>1</td>\n",
       "    </tr>\n",
       "    <tr>\n",
       "      <th>97</th>\n",
       "      <td>1adrianb#face-alignment</td>\n",
       "      <td>matplotlib</td>\n",
       "      <td>1</td>\n",
       "    </tr>\n",
       "    <tr>\n",
       "      <th>98</th>\n",
       "      <td>1adrianb#face-alignment</td>\n",
       "      <td>mpl_toolkits</td>\n",
       "      <td>1</td>\n",
       "    </tr>\n",
       "    <tr>\n",
       "      <th>99</th>\n",
       "      <td>1adrianb#face-alignment</td>\n",
       "      <td>numba</td>\n",
       "      <td>1</td>\n",
       "    </tr>\n",
       "  </tbody>\n",
       "</table>\n",
       "<p>100 rows × 3 columns</p>\n",
       "</div>\n",
       "      <button class=\"colab-df-convert\" onclick=\"convertToInteractive('df-0542316c-4c13-47f9-a9de-f8421992c826')\"\n",
       "              title=\"Convert this dataframe to an interactive table.\"\n",
       "              style=\"display:none;\">\n",
       "        \n",
       "  <svg xmlns=\"http://www.w3.org/2000/svg\" height=\"24px\"viewBox=\"0 0 24 24\"\n",
       "       width=\"24px\">\n",
       "    <path d=\"M0 0h24v24H0V0z\" fill=\"none\"/>\n",
       "    <path d=\"M18.56 5.44l.94 2.06.94-2.06 2.06-.94-2.06-.94-.94-2.06-.94 2.06-2.06.94zm-11 1L8.5 8.5l.94-2.06 2.06-.94-2.06-.94L8.5 2.5l-.94 2.06-2.06.94zm10 10l.94 2.06.94-2.06 2.06-.94-2.06-.94-.94-2.06-.94 2.06-2.06.94z\"/><path d=\"M17.41 7.96l-1.37-1.37c-.4-.4-.92-.59-1.43-.59-.52 0-1.04.2-1.43.59L10.3 9.45l-7.72 7.72c-.78.78-.78 2.05 0 2.83L4 21.41c.39.39.9.59 1.41.59.51 0 1.02-.2 1.41-.59l7.78-7.78 2.81-2.81c.8-.78.8-2.07 0-2.86zM5.41 20L4 18.59l7.72-7.72 1.47 1.35L5.41 20z\"/>\n",
       "  </svg>\n",
       "      </button>\n",
       "      \n",
       "  <style>\n",
       "    .colab-df-container {\n",
       "      display:flex;\n",
       "      flex-wrap:wrap;\n",
       "      gap: 12px;\n",
       "    }\n",
       "\n",
       "    .colab-df-convert {\n",
       "      background-color: #E8F0FE;\n",
       "      border: none;\n",
       "      border-radius: 50%;\n",
       "      cursor: pointer;\n",
       "      display: none;\n",
       "      fill: #1967D2;\n",
       "      height: 32px;\n",
       "      padding: 0 0 0 0;\n",
       "      width: 32px;\n",
       "    }\n",
       "\n",
       "    .colab-df-convert:hover {\n",
       "      background-color: #E2EBFA;\n",
       "      box-shadow: 0px 1px 2px rgba(60, 64, 67, 0.3), 0px 1px 3px 1px rgba(60, 64, 67, 0.15);\n",
       "      fill: #174EA6;\n",
       "    }\n",
       "\n",
       "    [theme=dark] .colab-df-convert {\n",
       "      background-color: #3B4455;\n",
       "      fill: #D2E3FC;\n",
       "    }\n",
       "\n",
       "    [theme=dark] .colab-df-convert:hover {\n",
       "      background-color: #434B5C;\n",
       "      box-shadow: 0px 1px 3px 1px rgba(0, 0, 0, 0.15);\n",
       "      filter: drop-shadow(0px 1px 2px rgba(0, 0, 0, 0.3));\n",
       "      fill: #FFFFFF;\n",
       "    }\n",
       "  </style>\n",
       "\n",
       "      <script>\n",
       "        const buttonEl =\n",
       "          document.querySelector('#df-0542316c-4c13-47f9-a9de-f8421992c826 button.colab-df-convert');\n",
       "        buttonEl.style.display =\n",
       "          google.colab.kernel.accessAllowed ? 'block' : 'none';\n",
       "\n",
       "        async function convertToInteractive(key) {\n",
       "          const element = document.querySelector('#df-0542316c-4c13-47f9-a9de-f8421992c826');\n",
       "          const dataTable =\n",
       "            await google.colab.kernel.invokeFunction('convertToInteractive',\n",
       "                                                     [key], {});\n",
       "          if (!dataTable) return;\n",
       "\n",
       "          const docLinkHtml = 'Like what you see? Visit the ' +\n",
       "            '<a target=\"_blank\" href=https://colab.research.google.com/notebooks/data_table.ipynb>data table notebook</a>'\n",
       "            + ' to learn more about interactive tables.';\n",
       "          element.innerHTML = '';\n",
       "          dataTable['output_type'] = 'display_data';\n",
       "          await google.colab.output.renderOutput(dataTable, element);\n",
       "          const docLink = document.createElement('div');\n",
       "          docLink.innerHTML = docLinkHtml;\n",
       "          element.appendChild(docLink);\n",
       "        }\n",
       "      </script>\n",
       "    </div>\n",
       "  </div>\n",
       "  "
      ],
      "text/plain": [
       "                project_name       package  package_count\n",
       "0   01joy#news-search-engine           bs4              1\n",
       "1   01joy#news-search-engine      datetime              2\n",
       "2   01joy#news-search-engine         flask              3\n",
       "3   01joy#news-search-engine         index              1\n",
       "4   01joy#news-search-engine         jieba              1\n",
       "..                       ...           ...            ...\n",
       "95   1adrianb#face-alignment     distutils              1\n",
       "96   1adrianb#face-alignment          enum              1\n",
       "97   1adrianb#face-alignment    matplotlib              1\n",
       "98   1adrianb#face-alignment  mpl_toolkits              1\n",
       "99   1adrianb#face-alignment         numba              1\n",
       "\n",
       "[100 rows x 3 columns]"
      ]
     },
     "execution_count": 14,
     "metadata": {},
     "output_type": "execute_result"
    }
   ],
   "source": [
    "data_project_package = data.groupby(['project_name','package'], axis =0)[\"package\"].count().reset_index(name=\"package_count\")\n",
    "data_project_package.head(100)"
   ]
  },
  {
   "cell_type": "code",
   "execution_count": 62,
   "metadata": {
    "colab": {
     "base_uri": "https://localhost:8080/",
     "height": 206
    },
    "id": "2ldfzNSnm7vH",
    "outputId": "05d87047-ee17-4509-c237-57c0a1fe340d"
   },
   "outputs": [
    {
     "data": {
      "text/html": [
       "\n",
       "  <div id=\"df-60689ee9-6c63-45b3-a7aa-b055bfa36c97\">\n",
       "    <div class=\"colab-df-container\">\n",
       "      <div>\n",
       "<style scoped>\n",
       "    .dataframe tbody tr th:only-of-type {\n",
       "        vertical-align: middle;\n",
       "    }\n",
       "\n",
       "    .dataframe tbody tr th {\n",
       "        vertical-align: top;\n",
       "    }\n",
       "\n",
       "    .dataframe thead th {\n",
       "        text-align: right;\n",
       "    }\n",
       "</style>\n",
       "<table border=\"1\" class=\"dataframe\">\n",
       "  <thead>\n",
       "    <tr style=\"text-align: right;\">\n",
       "      <th></th>\n",
       "      <th>project_name</th>\n",
       "      <th>package_count</th>\n",
       "    </tr>\n",
       "  </thead>\n",
       "  <tbody>\n",
       "    <tr>\n",
       "      <th>1468</th>\n",
       "      <td>gtalarico#ironpython-stubs</td>\n",
       "      <td>4069</td>\n",
       "    </tr>\n",
       "    <tr>\n",
       "      <th>1523</th>\n",
       "      <td>home-assistant#core</td>\n",
       "      <td>1059</td>\n",
       "    </tr>\n",
       "    <tr>\n",
       "      <th>201</th>\n",
       "      <td>FederatedAI#FATE</td>\n",
       "      <td>312</td>\n",
       "    </tr>\n",
       "    <tr>\n",
       "      <th>2465</th>\n",
       "      <td>saltstack#salt</td>\n",
       "      <td>255</td>\n",
       "    </tr>\n",
       "    <tr>\n",
       "      <th>2390</th>\n",
       "      <td>ray-project#ray</td>\n",
       "      <td>228</td>\n",
       "    </tr>\n",
       "  </tbody>\n",
       "</table>\n",
       "</div>\n",
       "      <button class=\"colab-df-convert\" onclick=\"convertToInteractive('df-60689ee9-6c63-45b3-a7aa-b055bfa36c97')\"\n",
       "              title=\"Convert this dataframe to an interactive table.\"\n",
       "              style=\"display:none;\">\n",
       "        \n",
       "  <svg xmlns=\"http://www.w3.org/2000/svg\" height=\"24px\"viewBox=\"0 0 24 24\"\n",
       "       width=\"24px\">\n",
       "    <path d=\"M0 0h24v24H0V0z\" fill=\"none\"/>\n",
       "    <path d=\"M18.56 5.44l.94 2.06.94-2.06 2.06-.94-2.06-.94-.94-2.06-.94 2.06-2.06.94zm-11 1L8.5 8.5l.94-2.06 2.06-.94-2.06-.94L8.5 2.5l-.94 2.06-2.06.94zm10 10l.94 2.06.94-2.06 2.06-.94-2.06-.94-.94-2.06-.94 2.06-2.06.94z\"/><path d=\"M17.41 7.96l-1.37-1.37c-.4-.4-.92-.59-1.43-.59-.52 0-1.04.2-1.43.59L10.3 9.45l-7.72 7.72c-.78.78-.78 2.05 0 2.83L4 21.41c.39.39.9.59 1.41.59.51 0 1.02-.2 1.41-.59l7.78-7.78 2.81-2.81c.8-.78.8-2.07 0-2.86zM5.41 20L4 18.59l7.72-7.72 1.47 1.35L5.41 20z\"/>\n",
       "  </svg>\n",
       "      </button>\n",
       "      \n",
       "  <style>\n",
       "    .colab-df-container {\n",
       "      display:flex;\n",
       "      flex-wrap:wrap;\n",
       "      gap: 12px;\n",
       "    }\n",
       "\n",
       "    .colab-df-convert {\n",
       "      background-color: #E8F0FE;\n",
       "      border: none;\n",
       "      border-radius: 50%;\n",
       "      cursor: pointer;\n",
       "      display: none;\n",
       "      fill: #1967D2;\n",
       "      height: 32px;\n",
       "      padding: 0 0 0 0;\n",
       "      width: 32px;\n",
       "    }\n",
       "\n",
       "    .colab-df-convert:hover {\n",
       "      background-color: #E2EBFA;\n",
       "      box-shadow: 0px 1px 2px rgba(60, 64, 67, 0.3), 0px 1px 3px 1px rgba(60, 64, 67, 0.15);\n",
       "      fill: #174EA6;\n",
       "    }\n",
       "\n",
       "    [theme=dark] .colab-df-convert {\n",
       "      background-color: #3B4455;\n",
       "      fill: #D2E3FC;\n",
       "    }\n",
       "\n",
       "    [theme=dark] .colab-df-convert:hover {\n",
       "      background-color: #434B5C;\n",
       "      box-shadow: 0px 1px 3px 1px rgba(0, 0, 0, 0.15);\n",
       "      filter: drop-shadow(0px 1px 2px rgba(0, 0, 0, 0.3));\n",
       "      fill: #FFFFFF;\n",
       "    }\n",
       "  </style>\n",
       "\n",
       "      <script>\n",
       "        const buttonEl =\n",
       "          document.querySelector('#df-60689ee9-6c63-45b3-a7aa-b055bfa36c97 button.colab-df-convert');\n",
       "        buttonEl.style.display =\n",
       "          google.colab.kernel.accessAllowed ? 'block' : 'none';\n",
       "\n",
       "        async function convertToInteractive(key) {\n",
       "          const element = document.querySelector('#df-60689ee9-6c63-45b3-a7aa-b055bfa36c97');\n",
       "          const dataTable =\n",
       "            await google.colab.kernel.invokeFunction('convertToInteractive',\n",
       "                                                     [key], {});\n",
       "          if (!dataTable) return;\n",
       "\n",
       "          const docLinkHtml = 'Like what you see? Visit the ' +\n",
       "            '<a target=\"_blank\" href=https://colab.research.google.com/notebooks/data_table.ipynb>data table notebook</a>'\n",
       "            + ' to learn more about interactive tables.';\n",
       "          element.innerHTML = '';\n",
       "          dataTable['output_type'] = 'display_data';\n",
       "          await google.colab.output.renderOutput(dataTable, element);\n",
       "          const docLink = document.createElement('div');\n",
       "          docLink.innerHTML = docLinkHtml;\n",
       "          element.appendChild(docLink);\n",
       "        }\n",
       "      </script>\n",
       "    </div>\n",
       "  </div>\n",
       "  "
      ],
      "text/plain": [
       "                    project_name  package_count\n",
       "1468  gtalarico#ironpython-stubs           4069\n",
       "1523         home-assistant#core           1059\n",
       "201             FederatedAI#FATE            312\n",
       "2465              saltstack#salt            255\n",
       "2390             ray-project#ray            228"
      ]
     },
     "execution_count": 62,
     "metadata": {},
     "output_type": "execute_result"
    }
   ],
   "source": [
    "data_package = data_project_package.groupby('project_name')['package_count'].count().reset_index(name=\"package_count\").sort_values(by=['package_count'], ascending=False)\n",
    "data_package_top_5 = data_package.head(5)\n",
    "data_package_top_5.head()"
   ]
  },
  {
   "cell_type": "code",
   "execution_count": 63,
   "metadata": {
    "colab": {
     "base_uri": "https://localhost:8080/",
     "height": 440
    },
    "id": "GuoA8KqJ0IuZ",
    "outputId": "92de08b7-e3ce-44a1-fcaa-965580d5d3d7"
   },
   "outputs": [
    {
     "data": {
      "text/plain": [
       "<matplotlib.axes._subplots.AxesSubplot at 0x7f7563f06910>"
      ]
     },
     "execution_count": 63,
     "metadata": {},
     "output_type": "execute_result"
    },
    {
     "data": {
      "image/png": "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\n",
      "text/plain": [
       "<Figure size 432x288 with 1 Axes>"
      ]
     },
     "metadata": {
      "needs_background": "light"
     },
     "output_type": "display_data"
    }
   ],
   "source": [
    "data_package_top_5.plot.bar(x ='project_name', y='package_count', title='Dependence of the number of packages on projects')"
   ]
  },
  {
   "cell_type": "markdown",
   "metadata": {
    "id": "U1CKnvzJxkhj"
   },
   "source": [
    "**Average number of packages per project**"
   ]
  },
  {
   "cell_type": "code",
   "execution_count": 59,
   "metadata": {
    "colab": {
     "base_uri": "https://localhost:8080/"
    },
    "id": "5qtMch-zxht0",
    "outputId": "fc2c0682-1a48-4e6f-be6d-50a1dd1d22e2"
   },
   "outputs": [
    {
     "data": {
      "text/plain": [
       "26.70837714686295"
      ]
     },
     "execution_count": 59,
     "metadata": {},
     "output_type": "execute_result"
    }
   ],
   "source": [
    "mean_package = data_package[\"package_count\"].mean()\n",
    "mean_package"
   ]
  },
  {
   "cell_type": "markdown",
   "metadata": {
    "id": "pkTLJtCux1zf"
   },
   "source": [
    "**Median number of imports per project**"
   ]
  },
  {
   "cell_type": "code",
   "execution_count": 60,
   "metadata": {
    "colab": {
     "base_uri": "https://localhost:8080/"
    },
    "id": "avbEPODZx1V-",
    "outputId": "e676af78-03f5-4255-8e23-44ebe0712dc2"
   },
   "outputs": [
    {
     "data": {
      "text/plain": [
       "17.0"
      ]
     },
     "execution_count": 60,
     "metadata": {},
     "output_type": "execute_result"
    }
   ],
   "source": [
    "median_package = data_package[\"package_count\"].median()\n",
    "median_package"
   ]
  }
 ],
 "metadata": {
  "colab": {
   "name": "Project Data.ipynb",
   "provenance": []
  },
  "kernelspec": {
   "display_name": "Python 3",
   "language": "python",
   "name": "python3"
  },
  "language_info": {
   "codemirror_mode": {
    "name": "ipython",
    "version": 3
   },
   "file_extension": ".py",
   "mimetype": "text/x-python",
   "name": "python",
   "nbconvert_exporter": "python",
   "pygments_lexer": "ipython3",
   "version": "3.8.8"
  }
 },
 "nbformat": 4,
 "nbformat_minor": 1
}
