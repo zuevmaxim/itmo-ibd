{
 "cells": [
  {
   "cell_type": "code",
   "execution_count": 1,
   "id": "def7f7c0",
   "metadata": {},
   "outputs": [],
   "source": [
    "import numpy as np\n",
    "import pandas as pd\n",
    "import matplotlib.pyplot as plt\n",
    "import scipy\n",
    "%matplotlib inline"
   ]
  },
  {
   "cell_type": "code",
   "execution_count": 2,
   "id": "76f696d2",
   "metadata": {},
   "outputs": [
    {
     "data": {
      "text/html": [
       "<div>\n",
       "<style scoped>\n",
       "    .dataframe tbody tr th:only-of-type {\n",
       "        vertical-align: middle;\n",
       "    }\n",
       "\n",
       "    .dataframe tbody tr th {\n",
       "        vertical-align: top;\n",
       "    }\n",
       "\n",
       "    .dataframe thead th {\n",
       "        text-align: right;\n",
       "    }\n",
       "</style>\n",
       "<table border=\"1\" class=\"dataframe\">\n",
       "  <thead>\n",
       "    <tr style=\"text-align: right;\">\n",
       "      <th></th>\n",
       "      <th>project_name</th>\n",
       "      <th>import</th>\n",
       "      <th>is_kotlin_import</th>\n",
       "      <th>is_python_import</th>\n",
       "      <th>package</th>\n",
       "    </tr>\n",
       "  </thead>\n",
       "  <tbody>\n",
       "    <tr>\n",
       "      <th>0</th>\n",
       "      <td>2dust#v2rayNG</td>\n",
       "      <td>androidx.appcompat.app.AppCompatActivity</td>\n",
       "      <td>1</td>\n",
       "      <td>0</td>\n",
       "      <td>androidx.appcompat.app</td>\n",
       "    </tr>\n",
       "    <tr>\n",
       "      <th>1</th>\n",
       "      <td>InsertKoinIO#koin</td>\n",
       "      <td>androidx.appcompat.app.AppCompatActivity</td>\n",
       "      <td>1</td>\n",
       "      <td>0</td>\n",
       "      <td>androidx.appcompat.app</td>\n",
       "    </tr>\n",
       "    <tr>\n",
       "      <th>2</th>\n",
       "      <td>InsertKoinIO#koin</td>\n",
       "      <td>androidx.appcompat.app.AppCompatActivity</td>\n",
       "      <td>1</td>\n",
       "      <td>0</td>\n",
       "      <td>androidx.appcompat.app</td>\n",
       "    </tr>\n",
       "    <tr>\n",
       "      <th>3</th>\n",
       "      <td>InsertKoinIO#koin</td>\n",
       "      <td>androidx.appcompat.app.AppCompatActivity</td>\n",
       "      <td>1</td>\n",
       "      <td>0</td>\n",
       "      <td>androidx.appcompat.app</td>\n",
       "    </tr>\n",
       "    <tr>\n",
       "      <th>4</th>\n",
       "      <td>InsertKoinIO#koin</td>\n",
       "      <td>androidx.appcompat.app.AppCompatActivity</td>\n",
       "      <td>1</td>\n",
       "      <td>0</td>\n",
       "      <td>androidx.appcompat.app</td>\n",
       "    </tr>\n",
       "  </tbody>\n",
       "</table>\n",
       "</div>"
      ],
      "text/plain": [
       "        project_name                                    import  \\\n",
       "0      2dust#v2rayNG  androidx.appcompat.app.AppCompatActivity   \n",
       "1  InsertKoinIO#koin  androidx.appcompat.app.AppCompatActivity   \n",
       "2  InsertKoinIO#koin  androidx.appcompat.app.AppCompatActivity   \n",
       "3  InsertKoinIO#koin  androidx.appcompat.app.AppCompatActivity   \n",
       "4  InsertKoinIO#koin  androidx.appcompat.app.AppCompatActivity   \n",
       "\n",
       "   is_kotlin_import  is_python_import                 package  \n",
       "0                 1                 0  androidx.appcompat.app  \n",
       "1                 1                 0  androidx.appcompat.app  \n",
       "2                 1                 0  androidx.appcompat.app  \n",
       "3                 1                 0  androidx.appcompat.app  \n",
       "4                 1                 0  androidx.appcompat.app  "
      ]
     },
     "execution_count": 2,
     "metadata": {},
     "output_type": "execute_result"
    }
   ],
   "source": [
    "data = pd.read_csv(\"../data/full_import_dataset/full_import_dataset_with_package.csv\")\n",
    "data.head()"
   ]
  },
  {
   "cell_type": "markdown",
   "id": "abe0240a",
   "metadata": {},
   "source": [
    "# **Number of unique projects**"
   ]
  },
  {
   "cell_type": "code",
   "execution_count": 3,
   "id": "dd9506db",
   "metadata": {},
   "outputs": [
    {
     "data": {
      "text/plain": [
       "2836"
      ]
     },
     "execution_count": 3,
     "metadata": {},
     "output_type": "execute_result"
    }
   ],
   "source": [
    "data[\"project_name\"].nunique()"
   ]
  },
  {
   "cell_type": "markdown",
   "id": "5081c0f7",
   "metadata": {},
   "source": [
    "# **Imports in a project**"
   ]
  },
  {
   "cell_type": "markdown",
   "id": "64874990",
   "metadata": {},
   "source": [
    "**Top 5 by the number of imports in the project**"
   ]
  },
  {
   "cell_type": "code",
   "execution_count": 4,
   "id": "19371a8e",
   "metadata": {},
   "outputs": [],
   "source": [
    "data_project_import = data.groupby(['project_name'], axis =0)"
   ]
  },
  {
   "cell_type": "code",
   "execution_count": 5,
   "id": "c0b17b75",
   "metadata": {},
   "outputs": [
    {
     "data": {
      "text/html": [
       "<div>\n",
       "<style scoped>\n",
       "    .dataframe tbody tr th:only-of-type {\n",
       "        vertical-align: middle;\n",
       "    }\n",
       "\n",
       "    .dataframe tbody tr th {\n",
       "        vertical-align: top;\n",
       "    }\n",
       "\n",
       "    .dataframe thead th {\n",
       "        text-align: right;\n",
       "    }\n",
       "</style>\n",
       "<table border=\"1\" class=\"dataframe\">\n",
       "  <thead>\n",
       "    <tr style=\"text-align: right;\">\n",
       "      <th></th>\n",
       "      <th>project_name</th>\n",
       "      <th>import_count</th>\n",
       "    </tr>\n",
       "  </thead>\n",
       "  <tbody>\n",
       "    <tr>\n",
       "      <th>2053</th>\n",
       "      <td>mozilla-mobile#fenix</td>\n",
       "      <td>24474</td>\n",
       "    </tr>\n",
       "    <tr>\n",
       "      <th>878</th>\n",
       "      <td>blockchain#My-Wallet-V3-Android</td>\n",
       "      <td>11162</td>\n",
       "    </tr>\n",
       "    <tr>\n",
       "      <th>2762</th>\n",
       "      <td>wordpress-mobile#WordPress-Android</td>\n",
       "      <td>10608</td>\n",
       "    </tr>\n",
       "    <tr>\n",
       "      <th>295</th>\n",
       "      <td>JetBrains#compose-jb</td>\n",
       "      <td>7964</td>\n",
       "    </tr>\n",
       "    <tr>\n",
       "      <th>1587</th>\n",
       "      <td>intellij-rust#intellij-rust</td>\n",
       "      <td>7565</td>\n",
       "    </tr>\n",
       "  </tbody>\n",
       "</table>\n",
       "</div>"
      ],
      "text/plain": [
       "                            project_name  import_count\n",
       "2053                mozilla-mobile#fenix         24474\n",
       "878      blockchain#My-Wallet-V3-Android         11162\n",
       "2762  wordpress-mobile#WordPress-Android         10608\n",
       "295                 JetBrains#compose-jb          7964\n",
       "1587         intellij-rust#intellij-rust          7565"
      ]
     },
     "execution_count": 5,
     "metadata": {},
     "output_type": "execute_result"
    }
   ],
   "source": [
    "data_project_import_count = data_project_import[\"import\"].count().reset_index(name=\"import_count\").sort_values(by=['import_count'], ascending=False)\n",
    "data_project_import_count_top_5 = data_project_import_count.head(5)\n",
    "data_project_import_count_top_5"
   ]
  },
  {
   "cell_type": "code",
   "execution_count": 6,
   "id": "259395f2",
   "metadata": {},
   "outputs": [
    {
     "data": {
      "text/plain": [
       "<AxesSubplot:title={'center':'Dependence of the number of imports on projects'}, xlabel='project_name'>"
      ]
     },
     "execution_count": 6,
     "metadata": {},
     "output_type": "execute_result"
    },
    {
     "data": {
      "image/png": "[encoded data removed]",
      "text/plain": [
       "<Figure size 432x288 with 1 Axes>"
      ]
     },
     "metadata": {
      "needs_background": "light"
     },
     "output_type": "display_data"
    }
   ],
   "source": [
    "import matplotlib.pyplot as plt\n",
    "data_project_import_count_top_5.plot.bar(x ='project_name', y='import_count', title='Dependence of the number of imports on projects')"
   ]
  },
  {
   "cell_type": "markdown",
   "id": "87fd9c5a",
   "metadata": {},
   "source": [
    "**Average number of imports per project**"
   ]
  },
  {
   "cell_type": "code",
   "execution_count": 7,
   "id": "e3bb824c",
   "metadata": {},
   "outputs": [
    {
     "data": {
      "text/plain": [
       "187.99576868829337"
      ]
     },
     "execution_count": 7,
     "metadata": {},
     "output_type": "execute_result"
    }
   ],
   "source": [
    "mean_import = data_project_import_count[\"import_count\"].mean()\n",
    "mean_import"
   ]
  },
  {
   "cell_type": "markdown",
   "id": "533831fe",
   "metadata": {},
   "source": [
    "**Median number of imports per project**"
   ]
  },
  {
   "cell_type": "code",
   "execution_count": 8,
   "id": "dfcae765",
   "metadata": {},
   "outputs": [
    {
     "data": {
      "text/plain": [
       "43.0"
      ]
     },
     "execution_count": 8,
     "metadata": {},
     "output_type": "execute_result"
    }
   ],
   "source": [
    "median_import = data_project_import_count[\"import_count\"].median()\n",
    "median_import"
   ]
  },
  {
   "cell_type": "code",
   "execution_count": 9,
   "id": "bff2e431",
   "metadata": {},
   "outputs": [
    {
     "data": {
      "text/html": [
       "<div>\n",
       "<style scoped>\n",
       "    .dataframe tbody tr th:only-of-type {\n",
       "        vertical-align: middle;\n",
       "    }\n",
       "\n",
       "    .dataframe tbody tr th {\n",
       "        vertical-align: top;\n",
       "    }\n",
       "\n",
       "    .dataframe thead th {\n",
       "        text-align: right;\n",
       "    }\n",
       "</style>\n",
       "<table border=\"1\" class=\"dataframe\">\n",
       "  <thead>\n",
       "    <tr style=\"text-align: right;\">\n",
       "      <th></th>\n",
       "      <th>project_name</th>\n",
       "      <th>is_kotlin_import</th>\n",
       "      <th>kotlin_import_count</th>\n",
       "    </tr>\n",
       "  </thead>\n",
       "  <tbody>\n",
       "    <tr>\n",
       "      <th>2064</th>\n",
       "      <td>mozilla-mobile#fenix</td>\n",
       "      <td>1</td>\n",
       "      <td>24390</td>\n",
       "    </tr>\n",
       "    <tr>\n",
       "      <th>884</th>\n",
       "      <td>blockchain#My-Wallet-V3-Android</td>\n",
       "      <td>1</td>\n",
       "      <td>11162</td>\n",
       "    </tr>\n",
       "    <tr>\n",
       "      <th>2777</th>\n",
       "      <td>wordpress-mobile#WordPress-Android</td>\n",
       "      <td>1</td>\n",
       "      <td>10604</td>\n",
       "    </tr>\n",
       "    <tr>\n",
       "      <th>295</th>\n",
       "      <td>JetBrains#compose-jb</td>\n",
       "      <td>1</td>\n",
       "      <td>7964</td>\n",
       "    </tr>\n",
       "    <tr>\n",
       "      <th>1596</th>\n",
       "      <td>intellij-rust#intellij-rust</td>\n",
       "      <td>1</td>\n",
       "      <td>7520</td>\n",
       "    </tr>\n",
       "  </tbody>\n",
       "</table>\n",
       "</div>"
      ],
      "text/plain": [
       "                            project_name  is_kotlin_import  \\\n",
       "2064                mozilla-mobile#fenix                 1   \n",
       "884      blockchain#My-Wallet-V3-Android                 1   \n",
       "2777  wordpress-mobile#WordPress-Android                 1   \n",
       "295                 JetBrains#compose-jb                 1   \n",
       "1596         intellij-rust#intellij-rust                 1   \n",
       "\n",
       "      kotlin_import_count  \n",
       "2064                24390  \n",
       "884                 11162  \n",
       "2777                10604  \n",
       "295                  7964  \n",
       "1596                 7520  "
      ]
     },
     "execution_count": 9,
     "metadata": {},
     "output_type": "execute_result"
    }
   ],
   "source": [
    "data_project_import_and_count_kotlin = data.groupby(['project_name','is_kotlin_import'], axis =0)['is_kotlin_import'].sum().reset_index(name=\"kotlin_import_count\").sort_values(by=['kotlin_import_count'], ascending=False)\n",
    "data_project_import_and_count_kotlin.head(5)"
   ]
  },
  {
   "cell_type": "code",
   "execution_count": 10,
   "id": "0318790a",
   "metadata": {},
   "outputs": [
    {
     "data": {
      "text/html": [
       "<div>\n",
       "<style scoped>\n",
       "    .dataframe tbody tr th:only-of-type {\n",
       "        vertical-align: middle;\n",
       "    }\n",
       "\n",
       "    .dataframe tbody tr th {\n",
       "        vertical-align: top;\n",
       "    }\n",
       "\n",
       "    .dataframe thead th {\n",
       "        text-align: right;\n",
       "    }\n",
       "</style>\n",
       "<table border=\"1\" class=\"dataframe\">\n",
       "  <thead>\n",
       "    <tr style=\"text-align: right;\">\n",
       "      <th></th>\n",
       "      <th>project_name</th>\n",
       "      <th>is_python_import</th>\n",
       "      <th>python_import_count</th>\n",
       "    </tr>\n",
       "  </thead>\n",
       "  <tbody>\n",
       "    <tr>\n",
       "      <th>1468</th>\n",
       "      <td>gtalarico#ironpython-stubs</td>\n",
       "      <td>1</td>\n",
       "      <td>4060</td>\n",
       "    </tr>\n",
       "    <tr>\n",
       "      <th>1522</th>\n",
       "      <td>home-assistant#core</td>\n",
       "      <td>1</td>\n",
       "      <td>3337</td>\n",
       "    </tr>\n",
       "    <tr>\n",
       "      <th>1177</th>\n",
       "      <td>doableware#djongo</td>\n",
       "      <td>1</td>\n",
       "      <td>3226</td>\n",
       "    </tr>\n",
       "    <tr>\n",
       "      <th>2387</th>\n",
       "      <td>ray-project#ray</td>\n",
       "      <td>1</td>\n",
       "      <td>2971</td>\n",
       "    </tr>\n",
       "    <tr>\n",
       "      <th>1727</th>\n",
       "      <td>jumpserver#jumpserver</td>\n",
       "      <td>1</td>\n",
       "      <td>2706</td>\n",
       "    </tr>\n",
       "  </tbody>\n",
       "</table>\n",
       "</div>"
      ],
      "text/plain": [
       "                    project_name  is_python_import  python_import_count\n",
       "1468  gtalarico#ironpython-stubs                 1                 4060\n",
       "1522         home-assistant#core                 1                 3337\n",
       "1177           doableware#djongo                 1                 3226\n",
       "2387             ray-project#ray                 1                 2971\n",
       "1727       jumpserver#jumpserver                 1                 2706"
      ]
     },
     "execution_count": 10,
     "metadata": {},
     "output_type": "execute_result"
    }
   ],
   "source": [
    "data_project_import_and_count_python = data.groupby(['project_name','is_python_import'], axis =0)['is_python_import'].sum().reset_index(name=\"python_import_count\").sort_values(by=['python_import_count'], ascending=False)\n",
    "data_project_import_and_count_python.head(5)"
   ]
  },
  {
   "cell_type": "markdown",
   "id": "31244af2",
   "metadata": {},
   "source": [
    "# **Package**"
   ]
  },
  {
   "cell_type": "code",
   "execution_count": 11,
   "id": "3a48e886",
   "metadata": {},
   "outputs": [
    {
     "data": {
      "text/html": [
       "<div>\n",
       "<style scoped>\n",
       "    .dataframe tbody tr th:only-of-type {\n",
       "        vertical-align: middle;\n",
       "    }\n",
       "\n",
       "    .dataframe tbody tr th {\n",
       "        vertical-align: top;\n",
       "    }\n",
       "\n",
       "    .dataframe thead th {\n",
       "        text-align: right;\n",
       "    }\n",
       "</style>\n",
       "<table border=\"1\" class=\"dataframe\">\n",
       "  <thead>\n",
       "    <tr style=\"text-align: right;\">\n",
       "      <th></th>\n",
       "      <th>project_name</th>\n",
       "      <th>package</th>\n",
       "      <th>package_count</th>\n",
       "    </tr>\n",
       "  </thead>\n",
       "  <tbody>\n",
       "    <tr>\n",
       "      <th>0</th>\n",
       "      <td>01joy#news-search-engine</td>\n",
       "      <td>bs4</td>\n",
       "      <td>1</td>\n",
       "    </tr>\n",
       "    <tr>\n",
       "      <th>1</th>\n",
       "      <td>01joy#news-search-engine</td>\n",
       "      <td>datetime</td>\n",
       "      <td>2</td>\n",
       "    </tr>\n",
       "    <tr>\n",
       "      <th>2</th>\n",
       "      <td>01joy#news-search-engine</td>\n",
       "      <td>flask.Flask</td>\n",
       "      <td>1</td>\n",
       "    </tr>\n",
       "    <tr>\n",
       "      <th>3</th>\n",
       "      <td>01joy#news-search-engine</td>\n",
       "      <td>flask.render_template</td>\n",
       "      <td>1</td>\n",
       "    </tr>\n",
       "    <tr>\n",
       "      <th>4</th>\n",
       "      <td>01joy#news-search-engine</td>\n",
       "      <td>flask.request</td>\n",
       "      <td>1</td>\n",
       "    </tr>\n",
       "    <tr>\n",
       "      <th>...</th>\n",
       "      <td>...</td>\n",
       "      <td>...</td>\n",
       "      <td>...</td>\n",
       "    </tr>\n",
       "    <tr>\n",
       "      <th>95</th>\n",
       "      <td>1adrianb#face-alignment</td>\n",
       "      <td>skimage.io</td>\n",
       "      <td>1</td>\n",
       "    </tr>\n",
       "    <tr>\n",
       "      <th>96</th>\n",
       "      <td>1adrianb#face-alignment</td>\n",
       "      <td>torch.hub</td>\n",
       "      <td>4</td>\n",
       "    </tr>\n",
       "    <tr>\n",
       "      <th>97</th>\n",
       "      <td>1adrianb#face-alignment</td>\n",
       "      <td>torch.nn</td>\n",
       "      <td>2</td>\n",
       "    </tr>\n",
       "    <tr>\n",
       "      <th>98</th>\n",
       "      <td>1adrianb#face-alignment</td>\n",
       "      <td>torch.utils.model_zoo</td>\n",
       "      <td>1</td>\n",
       "    </tr>\n",
       "    <tr>\n",
       "      <th>99</th>\n",
       "      <td>1adrianb#face-alignment</td>\n",
       "      <td>tqdm</td>\n",
       "      <td>1</td>\n",
       "    </tr>\n",
       "  </tbody>\n",
       "</table>\n",
       "<p>100 rows × 3 columns</p>\n",
       "</div>"
      ],
      "text/plain": [
       "                project_name                package  package_count\n",
       "0   01joy#news-search-engine                    bs4              1\n",
       "1   01joy#news-search-engine               datetime              2\n",
       "2   01joy#news-search-engine            flask.Flask              1\n",
       "3   01joy#news-search-engine  flask.render_template              1\n",
       "4   01joy#news-search-engine          flask.request              1\n",
       "..                       ...                    ...            ...\n",
       "95   1adrianb#face-alignment             skimage.io              1\n",
       "96   1adrianb#face-alignment              torch.hub              4\n",
       "97   1adrianb#face-alignment               torch.nn              2\n",
       "98   1adrianb#face-alignment  torch.utils.model_zoo              1\n",
       "99   1adrianb#face-alignment                   tqdm              1\n",
       "\n",
       "[100 rows x 3 columns]"
      ]
     },
     "execution_count": 11,
     "metadata": {},
     "output_type": "execute_result"
    }
   ],
   "source": [
    "data_project_package = data.groupby(['project_name','package'], axis =0)[\"package\"].count().reset_index(name=\"package_count\")\n",
    "data_project_package.head(100)"
   ]
  },
  {
   "cell_type": "code",
   "execution_count": 12,
   "id": "db71c7a0",
   "metadata": {},
   "outputs": [
    {
     "data": {
      "text/html": [
       "<div>\n",
       "<style scoped>\n",
       "    .dataframe tbody tr th:only-of-type {\n",
       "        vertical-align: middle;\n",
       "    }\n",
       "\n",
       "    .dataframe tbody tr th {\n",
       "        vertical-align: top;\n",
       "    }\n",
       "\n",
       "    .dataframe thead th {\n",
       "        text-align: right;\n",
       "    }\n",
       "</style>\n",
       "<table border=\"1\" class=\"dataframe\">\n",
       "  <thead>\n",
       "    <tr style=\"text-align: right;\">\n",
       "      <th></th>\n",
       "      <th>project_name</th>\n",
       "      <th>package_count</th>\n",
       "    </tr>\n",
       "  </thead>\n",
       "  <tbody>\n",
       "    <tr>\n",
       "      <th>787</th>\n",
       "      <td>apache#airflow</td>\n",
       "      <td>315</td>\n",
       "    </tr>\n",
       "    <tr>\n",
       "      <th>2374</th>\n",
       "      <td>ray-project#ray</td>\n",
       "      <td>266</td>\n",
       "    </tr>\n",
       "    <tr>\n",
       "      <th>1514</th>\n",
       "      <td>home-assistant#core</td>\n",
       "      <td>248</td>\n",
       "    </tr>\n",
       "    <tr>\n",
       "      <th>2449</th>\n",
       "      <td>saltstack#salt</td>\n",
       "      <td>240</td>\n",
       "    </tr>\n",
       "    <tr>\n",
       "      <th>1389</th>\n",
       "      <td>getsentry#sentry</td>\n",
       "      <td>229</td>\n",
       "    </tr>\n",
       "  </tbody>\n",
       "</table>\n",
       "</div>"
      ],
      "text/plain": [
       "             project_name  package_count\n",
       "787        apache#airflow            315\n",
       "2374      ray-project#ray            266\n",
       "1514  home-assistant#core            248\n",
       "2449       saltstack#salt            240\n",
       "1389     getsentry#sentry            229"
      ]
     },
     "execution_count": 12,
     "metadata": {},
     "output_type": "execute_result"
    }
   ],
   "source": [
    "data_package = data_project_package.groupby('project_name')['package_count'].count().reset_index(name=\"package_count\").sort_values(by=['package_count'], ascending=False)\n",
    "data_package_top_5 = data_package.head(5)\n",
    "data_package_top_5.head()"
   ]
  },
  {
   "cell_type": "code",
   "execution_count": 13,
   "id": "0bed24a2",
   "metadata": {},
   "outputs": [
    {
     "data": {
      "text/plain": [
       "<AxesSubplot:title={'center':'Dependence of the number of packages on projects'}, xlabel='project_name'>"
      ]
     },
     "execution_count": 13,
     "metadata": {},
     "output_type": "execute_result"
    },
    {
     "data": {
      "image/png": "[encoded data removed]",
      "text/plain": [
       "<Figure size 432x288 with 1 Axes>"
      ]
     },
     "metadata": {
      "needs_background": "light"
     },
     "output_type": "display_data"
    }
   ],
   "source": [
    "data_package_top_5.plot.bar(x ='project_name', y='package_count', title='Dependence of the number of packages on projects')"
   ]
  },
  {
   "cell_type": "markdown",
   "id": "bc689705",
   "metadata": {},
   "source": [
    "**Average number of packages per project**"
   ]
  },
  {
   "cell_type": "code",
   "execution_count": 14,
   "id": "c9315ce0",
   "metadata": {},
   "outputs": [
    {
     "data": {
      "text/plain": [
       "28.238011283497883"
      ]
     },
     "execution_count": 14,
     "metadata": {},
     "output_type": "execute_result"
    }
   ],
   "source": [
    "mean_package = data_package[\"package_count\"].mean()\n",
    "mean_package"
   ]
  },
  {
   "cell_type": "markdown",
   "id": "d13d8214",
   "metadata": {},
   "source": [
    "**Median number of imports per project**"
   ]
  },
  {
   "cell_type": "code",
   "execution_count": 15,
   "id": "870c1615",
   "metadata": {},
   "outputs": [
    {
     "data": {
      "text/plain": [
       "18.0"
      ]
     },
     "execution_count": 15,
     "metadata": {},
     "output_type": "execute_result"
    }
   ],
   "source": [
    "median_package = data_package[\"package_count\"].median()\n",
    "median_package"
   ]
  },
  {
   "cell_type": "code",
   "execution_count": null,
   "id": "3c9738f5",
   "metadata": {},
   "outputs": [],
   "source": []
  }
 ],
 "metadata": {
  "kernelspec": {
   "display_name": "Python 3",
   "language": "python",
   "name": "python3"
  },
  "language_info": {
   "codemirror_mode": {
    "name": "ipython",
    "version": 3
   },
   "file_extension": ".py",
   "mimetype": "text/x-python",
   "name": "python",
   "nbconvert_exporter": "python",
   "pygments_lexer": "ipython3",
   "version": "3.8.8"
  }
 },
 "nbformat": 4,
 "nbformat_minor": 5
}
