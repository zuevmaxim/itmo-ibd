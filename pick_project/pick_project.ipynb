{
 "cells": [
  {
   "cell_type": "code",
   "execution_count": 2,
   "outputs": [],
   "source": [
    "import pandas as pd"
   ],
   "metadata": {
    "collapsed": false,
    "pycharm": {
     "name": "#%%\n"
    }
   }
  },
  {
   "cell_type": "code",
   "execution_count": 88,
   "outputs": [
    {
     "data": {
      "text/plain": "               project_name  package#kotlin#B  package#kotlin#C  \\\n0  01joy#news-search-engine               0.0               0.0   \n1        05bit#peewee-async               0.0               0.0   \n2                 0k#shyaml               0.0               0.0   \n3        0x00-0x00#ShellPop               0.0               0.0   \n4        0xAX#linux-insides               0.0               0.0   \n\n   package#kotlin#Class  package#kotlin#Host  package#kotlin#LibPackCase1  \\\n0                   0.0                  0.0                          0.0   \n1                   0.0                  0.0                          0.0   \n2                   0.0                  0.0                          0.0   \n3                   0.0                  0.0                          0.0   \n4                   0.0                  0.0                          0.0   \n\n   package#kotlin#LibPackCase2  package#kotlin#Libraries  \\\n0                          0.0                       0.0   \n1                          0.0                       0.0   \n2                          0.0                       0.0   \n3                          0.0                       0.0   \n4                          0.0                       0.0   \n\n   package#kotlin#Library  package#kotlin#My  ...  topic#vim  \\\n0                     0.0                0.0  ...          0   \n1                     0.0                0.0  ...          0   \n2                     0.0                0.0  ...          0   \n3                     0.0                0.0  ...          0   \n4                     0.0                0.0  ...          0   \n\n   topic#virtual-reality  topic#vue  topic#wagtail  topic#web-components  \\\n0                      0          0              0                     0   \n1                      0          0              0                     0   \n2                      0          0              0                     0   \n3                      0          0              0                     0   \n4                      0          0              0                     0   \n\n   topic#webapp  topic#webpack  topic#windows  topic#wordpress  topic#xml  \n0             0              0              0                0          0  \n1             0              0              0                0          0  \n2             0              0              0                0          0  \n3             0              0              0                0          0  \n4             0              0              0                0          0  \n\n[5 rows x 8249 columns]",
      "text/html": "<div>\n<style scoped>\n    .dataframe tbody tr th:only-of-type {\n        vertical-align: middle;\n    }\n\n    .dataframe tbody tr th {\n        vertical-align: top;\n    }\n\n    .dataframe thead th {\n        text-align: right;\n    }\n</style>\n<table border=\"1\" class=\"dataframe\">\n  <thead>\n    <tr style=\"text-align: right;\">\n      <th></th>\n      <th>project_name</th>\n      <th>package#kotlin#B</th>\n      <th>package#kotlin#C</th>\n      <th>package#kotlin#Class</th>\n      <th>package#kotlin#Host</th>\n      <th>package#kotlin#LibPackCase1</th>\n      <th>package#kotlin#LibPackCase2</th>\n      <th>package#kotlin#Libraries</th>\n      <th>package#kotlin#Library</th>\n      <th>package#kotlin#My</th>\n      <th>...</th>\n      <th>topic#vim</th>\n      <th>topic#virtual-reality</th>\n      <th>topic#vue</th>\n      <th>topic#wagtail</th>\n      <th>topic#web-components</th>\n      <th>topic#webapp</th>\n      <th>topic#webpack</th>\n      <th>topic#windows</th>\n      <th>topic#wordpress</th>\n      <th>topic#xml</th>\n    </tr>\n  </thead>\n  <tbody>\n    <tr>\n      <th>0</th>\n      <td>01joy#news-search-engine</td>\n      <td>0.0</td>\n      <td>0.0</td>\n      <td>0.0</td>\n      <td>0.0</td>\n      <td>0.0</td>\n      <td>0.0</td>\n      <td>0.0</td>\n      <td>0.0</td>\n      <td>0.0</td>\n      <td>...</td>\n      <td>0</td>\n      <td>0</td>\n      <td>0</td>\n      <td>0</td>\n      <td>0</td>\n      <td>0</td>\n      <td>0</td>\n      <td>0</td>\n      <td>0</td>\n      <td>0</td>\n    </tr>\n    <tr>\n      <th>1</th>\n      <td>05bit#peewee-async</td>\n      <td>0.0</td>\n      <td>0.0</td>\n      <td>0.0</td>\n      <td>0.0</td>\n      <td>0.0</td>\n      <td>0.0</td>\n      <td>0.0</td>\n      <td>0.0</td>\n      <td>0.0</td>\n      <td>...</td>\n      <td>0</td>\n      <td>0</td>\n      <td>0</td>\n      <td>0</td>\n      <td>0</td>\n      <td>0</td>\n      <td>0</td>\n      <td>0</td>\n      <td>0</td>\n      <td>0</td>\n    </tr>\n    <tr>\n      <th>2</th>\n      <td>0k#shyaml</td>\n      <td>0.0</td>\n      <td>0.0</td>\n      <td>0.0</td>\n      <td>0.0</td>\n      <td>0.0</td>\n      <td>0.0</td>\n      <td>0.0</td>\n      <td>0.0</td>\n      <td>0.0</td>\n      <td>...</td>\n      <td>0</td>\n      <td>0</td>\n      <td>0</td>\n      <td>0</td>\n      <td>0</td>\n      <td>0</td>\n      <td>0</td>\n      <td>0</td>\n      <td>0</td>\n      <td>0</td>\n    </tr>\n    <tr>\n      <th>3</th>\n      <td>0x00-0x00#ShellPop</td>\n      <td>0.0</td>\n      <td>0.0</td>\n      <td>0.0</td>\n      <td>0.0</td>\n      <td>0.0</td>\n      <td>0.0</td>\n      <td>0.0</td>\n      <td>0.0</td>\n      <td>0.0</td>\n      <td>...</td>\n      <td>0</td>\n      <td>0</td>\n      <td>0</td>\n      <td>0</td>\n      <td>0</td>\n      <td>0</td>\n      <td>0</td>\n      <td>0</td>\n      <td>0</td>\n      <td>0</td>\n    </tr>\n    <tr>\n      <th>4</th>\n      <td>0xAX#linux-insides</td>\n      <td>0.0</td>\n      <td>0.0</td>\n      <td>0.0</td>\n      <td>0.0</td>\n      <td>0.0</td>\n      <td>0.0</td>\n      <td>0.0</td>\n      <td>0.0</td>\n      <td>0.0</td>\n      <td>...</td>\n      <td>0</td>\n      <td>0</td>\n      <td>0</td>\n      <td>0</td>\n      <td>0</td>\n      <td>0</td>\n      <td>0</td>\n      <td>0</td>\n      <td>0</td>\n      <td>0</td>\n    </tr>\n  </tbody>\n</table>\n<p>5 rows × 8249 columns</p>\n</div>"
     },
     "execution_count": 88,
     "metadata": {},
     "output_type": "execute_result"
    }
   ],
   "source": [
    "dataset = pd.read_csv(\"../data/classification/count_dataset_for_multilabel.csv\")\n",
    "dataset.head()"
   ],
   "metadata": {
    "collapsed": false,
    "pycharm": {
     "name": "#%%\n"
    }
   }
  },
  {
   "cell_type": "code",
   "execution_count": 89,
   "outputs": [],
   "source": [
    "needed_dataset_columns = [col for col in dataset.columns if col.startswith(\"topic\") or col.startswith(\"tag\")]"
   ],
   "metadata": {
    "collapsed": false,
    "pycharm": {
     "name": "#%%\n"
    }
   }
  },
  {
   "cell_type": "code",
   "execution_count": 90,
   "outputs": [
    {
     "data": {
      "text/plain": "['tag#3d',\n 'tag#ai',\n 'tag#algorithm',\n 'tag#algorithmic-trading',\n 'tag#algorithms',\n 'tag#android',\n 'tag#android-development',\n 'tag#android-library',\n 'tag#animation',\n 'tag#ansible',\n 'tag#api',\n 'tag#artificial-intelligence',\n 'tag#async',\n 'tag#asyncio',\n 'tag#atom',\n 'tag#authentication',\n 'tag#automation',\n 'tag#automl',\n 'tag#awesome',\n 'tag#aws',\n 'tag#azure',\n 'tag#bash',\n 'tag#bert',\n 'tag#bitcoin',\n 'tag#blockchain',\n 'tag#bootstrap',\n 'tag#bot',\n 'tag#c',\n 'tag#celery',\n 'tag#chatbot',\n 'tag#chinese',\n 'tag#chrome',\n 'tag#classification',\n 'tag#cli',\n 'tag#client',\n 'tag#cloud',\n 'tag#cnn',\n 'tag#code-quality',\n 'tag#code-review',\n 'tag#command-line',\n 'tag#command-line-tool',\n 'tag#compiler',\n 'tag#computer-vision',\n 'tag#continuous-integration',\n 'tag#coronavirus',\n 'tag#coroutines',\n 'tag#covid-19',\n 'tag#covid19',\n 'tag#crawler',\n 'tag#cross-platform',\n 'tag#crypto',\n 'tag#cryptocurrencies',\n 'tag#cryptocurrency',\n 'tag#css',\n 'tag#dashboard',\n 'tag#data',\n 'tag#data-analysis',\n 'tag#data-mining',\n 'tag#data-science',\n 'tag#data-structures',\n 'tag#data-visualization',\n 'tag#database',\n 'tag#dataset',\n 'tag#debian',\n 'tag#deep-learning',\n 'tag#deep-neural-networks',\n 'tag#deeplearning',\n 'tag#deployment',\n 'tag#detection',\n 'tag#developer-tools',\n 'tag#development',\n 'tag#devops',\n 'tag#discord',\n 'tag#discord-bot',\n 'tag#django',\n 'tag#django-rest-framework',\n 'tag#docker',\n 'tag#documentation',\n 'tag#elasticsearch',\n 'tag#email',\n 'tag#emoji',\n 'tag#emulator',\n 'tag#ethereum',\n 'tag#fastapi',\n 'tag#firebase',\n 'tag#firefox',\n 'tag#flask',\n 'tag#font',\n 'tag#framework',\n 'tag#game',\n 'tag#gan',\n 'tag#generative-adversarial-network',\n 'tag#git',\n 'tag#github',\n 'tag#github-api',\n 'tag#google',\n 'tag#gradle',\n 'tag#gradle-plugin',\n 'tag#graph',\n 'tag#graphql',\n 'tag#gui',\n 'tag#hacking',\n 'tag#hacktoberfest',\n 'tag#heroku',\n 'tag#html',\n 'tag#http',\n 'tag#hyperparameter-optimization',\n 'tag#image-processing',\n 'tag#intellij',\n 'tag#intellij-plugin',\n 'tag#interview',\n 'tag#ios',\n 'tag#ipython',\n 'tag#java',\n 'tag#javascript',\n 'tag#json',\n 'tag#jupyter',\n 'tag#jupyter-notebook',\n 'tag#keras',\n 'tag#kotlin',\n 'tag#kotlin-android',\n 'tag#kotlin-library',\n 'tag#kotlin-multiplatform',\n 'tag#kubernetes',\n 'tag#lambda',\n 'tag#library',\n 'tag#linter',\n 'tag#linux',\n 'tag#machine-learning',\n 'tag#macos',\n 'tag#markdown',\n 'tag#mastodon',\n 'tag#material-design',\n 'tag#matlab',\n 'tag#matplotlib',\n 'tag#ml',\n 'tag#mlops',\n 'tag#mobile',\n 'tag#monero',\n 'tag#mongodb',\n 'tag#monitoring',\n 'tag#music',\n 'tag#mvvm',\n 'tag#mysql',\n 'tag#named-entity-recognition',\n 'tag#natural-language-processing',\n 'tag#ner',\n 'tag#neural-network',\n 'tag#neural-networks',\n 'tag#nginx',\n 'tag#nlp',\n 'tag#numpy',\n 'tag#oauth2',\n 'tag#object-detection',\n 'tag#onnx',\n 'tag#opencv',\n 'tag#orm',\n 'tag#osint',\n 'tag#p2p',\n 'tag#pandas',\n 'tag#parser',\n 'tag#parsing',\n 'tag#pentesting',\n 'tag#performance',\n 'tag#plotly',\n 'tag#postgresql',\n 'tag#pretrained-models',\n 'tag#privacy',\n 'tag#project-management',\n 'tag#proxy',\n 'tag#pypi',\n 'tag#pyqt5',\n 'tag#pyrogram',\n 'tag#python',\n 'tag#python-3',\n 'tag#python-library',\n 'tag#python2',\n 'tag#python3',\n 'tag#pytorch',\n 'tag#quantitative-finance',\n 'tag#raspberry-pi',\n 'tag#react',\n 'tag#redis',\n 'tag#reinforcement-learning',\n 'tag#rest',\n 'tag#rest-api',\n 'tag#rnn',\n 'tag#rss',\n 'tag#scala',\n 'tag#scikit-learn',\n 'tag#scraper',\n 'tag#scrapy',\n 'tag#sdk',\n 'tag#search',\n 'tag#security',\n 'tag#security-tools',\n 'tag#segmentation',\n 'tag#selenium',\n 'tag#self-hosted',\n 'tag#server',\n 'tag#serverless',\n 'tag#shell',\n 'tag#sketch',\n 'tag#sklearn',\n 'tag#slack',\n 'tag#spacy',\n 'tag#spark',\n 'tag#speech-recognition',\n 'tag#spider',\n 'tag#sql',\n 'tag#sqlalchemy',\n 'tag#sqlite',\n 'tag#statistics',\n 'tag#support',\n 'tag#swagger',\n 'tag#telegram',\n 'tag#telegram-bot',\n 'tag#telethon',\n 'tag#tensorboard',\n 'tag#tensorflow',\n 'tag#terminal',\n 'tag#terraform',\n 'tag#testing',\n 'tag#text-classification',\n 'tag#time-series',\n 'tag#tools',\n 'tag#trading',\n 'tag#trading-bot',\n 'tag#trading-strategies',\n 'tag#transformer',\n 'tag#transformers',\n 'tag#translation',\n 'tag#tutorial',\n 'tag#twitter',\n 'tag#ubuntu',\n 'tag#ui',\n 'tag#unreal-engine',\n 'tag#vagrant',\n 'tag#virtual-reality',\n 'tag#visualization',\n 'tag#vue',\n 'tag#wagtail',\n 'tag#web',\n 'tag#webapp',\n 'tag#wechat',\n 'tag#windows',\n 'tag#word2vec',\n 'tag#xgboost',\n 'tag#xml',\n 'tag#yaml',\n 'tag#youtube',\n 'topic#3d',\n 'topic#ajax',\n 'topic#algorithm',\n 'topic#android',\n 'topic#angular',\n 'topic#ansible',\n 'topic#api',\n 'topic#arduino',\n 'topic#aspnet',\n 'topic#atom',\n 'topic#awesome',\n 'topic#aws',\n 'topic#azure',\n 'topic#babel',\n 'topic#bash',\n 'topic#bitcoin',\n 'topic#bootstrap',\n 'topic#bot',\n 'topic#c',\n 'topic#chrome',\n 'topic#chrome-extension',\n 'topic#cli',\n 'topic#clojure',\n 'topic#code-quality',\n 'topic#code-review',\n 'topic#compiler',\n 'topic#continuous-integration',\n 'topic#covid-19',\n 'topic#cpp',\n 'topic#cryptocurrency',\n 'topic#crystal',\n 'topic#csharp',\n 'topic#css',\n 'topic#data-structures',\n 'topic#data-visualization',\n 'topic#database',\n 'topic#deep-learning',\n 'topic#dependency-management',\n 'topic#deployment',\n 'topic#django',\n 'topic#docker',\n 'topic#documentation',\n 'topic#electron',\n 'topic#elixir',\n 'topic#emacs',\n 'topic#ember',\n 'topic#emoji',\n 'topic#emulator',\n 'topic#eslint',\n 'topic#ethereum',\n 'topic#firebase',\n 'topic#firefox',\n 'topic#flask',\n 'topic#font',\n 'topic#framework',\n 'topic#frontend',\n 'topic#game-engine',\n 'topic#git',\n 'topic#github-api',\n 'topic#google',\n 'topic#gradle',\n 'topic#graphql',\n 'topic#gulp',\n 'topic#hacktoberfest',\n 'topic#haskell',\n 'topic#homebridge',\n 'topic#html',\n 'topic#http',\n 'topic#icon-font',\n 'topic#ios',\n 'topic#ipfs',\n 'topic#java',\n 'topic#javascript',\n 'topic#jquery',\n 'topic#json',\n 'topic#julia',\n 'topic#jupyter-notebook',\n 'topic#kotlin',\n 'topic#kubernetes',\n 'topic#laravel',\n 'topic#latex',\n 'topic#library',\n 'topic#linux',\n 'topic#localization',\n 'topic#lua',\n 'topic#machine-learning',\n 'topic#macos',\n 'topic#markdown',\n 'topic#mastodon',\n 'topic#material-design',\n 'topic#matlab',\n 'topic#maven',\n 'topic#minecraft',\n 'topic#mobile',\n 'topic#monero',\n 'topic#mongodb',\n 'topic#monitoring',\n 'topic#mysql',\n 'topic#nim',\n 'topic#nlp',\n 'topic#nodejs',\n 'topic#nosql',\n 'topic#npm',\n 'topic#objective-c',\n 'topic#opengl',\n 'topic#operating-system',\n 'topic#p2p',\n 'topic#package-manager',\n 'topic#parsing',\n 'topic#perl',\n 'topic#pico-8',\n 'topic#pixel-art',\n 'topic#postgresql',\n 'topic#project-management',\n 'topic#publishing',\n 'topic#pwa',\n 'topic#python',\n 'topic#qt',\n 'topic#r',\n 'topic#raspberry-pi',\n 'topic#ratchet',\n 'topic#react',\n 'topic#react-native',\n 'topic#reactiveui',\n 'topic#redux',\n 'topic#rest-api',\n 'topic#ruby',\n 'topic#rust',\n 'topic#sass',\n 'topic#scala',\n 'topic#scikit-learn',\n 'topic#sdn',\n 'topic#security',\n 'topic#server',\n 'topic#serverless',\n 'topic#shell',\n 'topic#sketch',\n 'topic#spacevim',\n 'topic#spring-boot',\n 'topic#sql',\n 'topic#support',\n 'topic#telegram',\n 'topic#tensorflow',\n 'topic#terminal',\n 'topic#terraform',\n 'topic#testing',\n 'topic#twitter',\n 'topic#typescript',\n 'topic#ubuntu',\n 'topic#unreal-engine',\n 'topic#vagrant',\n 'topic#vim',\n 'topic#virtual-reality',\n 'topic#vue',\n 'topic#wagtail',\n 'topic#web-components',\n 'topic#webapp',\n 'topic#webpack',\n 'topic#windows',\n 'topic#wordpress',\n 'topic#xml']"
     },
     "execution_count": 90,
     "metadata": {},
     "output_type": "execute_result"
    }
   ],
   "source": [
    "needed_dataset_columns"
   ],
   "metadata": {
    "collapsed": false,
    "pycharm": {
     "name": "#%%\n"
    }
   }
  },
  {
   "cell_type": "code",
   "execution_count": 91,
   "outputs": [
    {
     "data": {
      "text/plain": "412"
     },
     "execution_count": 91,
     "metadata": {},
     "output_type": "execute_result"
    }
   ],
   "source": [
    "# ok\n",
    "len(needed_dataset_columns)"
   ],
   "metadata": {
    "collapsed": false,
    "pycharm": {
     "name": "#%%\n"
    }
   }
  },
  {
   "cell_type": "code",
   "execution_count": 92,
   "outputs": [],
   "source": [
    "dataset = dataset[needed_dataset_columns]"
   ],
   "metadata": {
    "collapsed": false,
    "pycharm": {
     "name": "#%%\n"
    }
   }
  },
  {
   "cell_type": "code",
   "execution_count": 93,
   "outputs": [
    {
     "data": {
      "text/plain": "   tag#3d  tag#ai  tag#algorithm  tag#algorithmic-trading  tag#algorithms  \\\n0       0       0              0                        0               0   \n1       0       0              0                        0               0   \n2       0       0              0                        0               0   \n3       0       0              0                        0               0   \n4       0       0              0                        0               0   \n\n   tag#android  tag#android-development  tag#android-library  tag#animation  \\\n0            0                        0                    0              0   \n1            0                        0                    0              0   \n2            0                        0                    0              0   \n3            0                        0                    0              0   \n4            0                        0                    0              0   \n\n   tag#ansible  ...  topic#vim  topic#virtual-reality  topic#vue  \\\n0            0  ...          0                      0          0   \n1            0  ...          0                      0          0   \n2            0  ...          0                      0          0   \n3            0  ...          0                      0          0   \n4            0  ...          0                      0          0   \n\n   topic#wagtail  topic#web-components  topic#webapp  topic#webpack  \\\n0              0                     0             0              0   \n1              0                     0             0              0   \n2              0                     0             0              0   \n3              0                     0             0              0   \n4              0                     0             0              0   \n\n   topic#windows  topic#wordpress  topic#xml  \n0              0                0          0  \n1              0                0          0  \n2              0                0          0  \n3              0                0          0  \n4              0                0          0  \n\n[5 rows x 412 columns]",
      "text/html": "<div>\n<style scoped>\n    .dataframe tbody tr th:only-of-type {\n        vertical-align: middle;\n    }\n\n    .dataframe tbody tr th {\n        vertical-align: top;\n    }\n\n    .dataframe thead th {\n        text-align: right;\n    }\n</style>\n<table border=\"1\" class=\"dataframe\">\n  <thead>\n    <tr style=\"text-align: right;\">\n      <th></th>\n      <th>tag#3d</th>\n      <th>tag#ai</th>\n      <th>tag#algorithm</th>\n      <th>tag#algorithmic-trading</th>\n      <th>tag#algorithms</th>\n      <th>tag#android</th>\n      <th>tag#android-development</th>\n      <th>tag#android-library</th>\n      <th>tag#animation</th>\n      <th>tag#ansible</th>\n      <th>...</th>\n      <th>topic#vim</th>\n      <th>topic#virtual-reality</th>\n      <th>topic#vue</th>\n      <th>topic#wagtail</th>\n      <th>topic#web-components</th>\n      <th>topic#webapp</th>\n      <th>topic#webpack</th>\n      <th>topic#windows</th>\n      <th>topic#wordpress</th>\n      <th>topic#xml</th>\n    </tr>\n  </thead>\n  <tbody>\n    <tr>\n      <th>0</th>\n      <td>0</td>\n      <td>0</td>\n      <td>0</td>\n      <td>0</td>\n      <td>0</td>\n      <td>0</td>\n      <td>0</td>\n      <td>0</td>\n      <td>0</td>\n      <td>0</td>\n      <td>...</td>\n      <td>0</td>\n      <td>0</td>\n      <td>0</td>\n      <td>0</td>\n      <td>0</td>\n      <td>0</td>\n      <td>0</td>\n      <td>0</td>\n      <td>0</td>\n      <td>0</td>\n    </tr>\n    <tr>\n      <th>1</th>\n      <td>0</td>\n      <td>0</td>\n      <td>0</td>\n      <td>0</td>\n      <td>0</td>\n      <td>0</td>\n      <td>0</td>\n      <td>0</td>\n      <td>0</td>\n      <td>0</td>\n      <td>...</td>\n      <td>0</td>\n      <td>0</td>\n      <td>0</td>\n      <td>0</td>\n      <td>0</td>\n      <td>0</td>\n      <td>0</td>\n      <td>0</td>\n      <td>0</td>\n      <td>0</td>\n    </tr>\n    <tr>\n      <th>2</th>\n      <td>0</td>\n      <td>0</td>\n      <td>0</td>\n      <td>0</td>\n      <td>0</td>\n      <td>0</td>\n      <td>0</td>\n      <td>0</td>\n      <td>0</td>\n      <td>0</td>\n      <td>...</td>\n      <td>0</td>\n      <td>0</td>\n      <td>0</td>\n      <td>0</td>\n      <td>0</td>\n      <td>0</td>\n      <td>0</td>\n      <td>0</td>\n      <td>0</td>\n      <td>0</td>\n    </tr>\n    <tr>\n      <th>3</th>\n      <td>0</td>\n      <td>0</td>\n      <td>0</td>\n      <td>0</td>\n      <td>0</td>\n      <td>0</td>\n      <td>0</td>\n      <td>0</td>\n      <td>0</td>\n      <td>0</td>\n      <td>...</td>\n      <td>0</td>\n      <td>0</td>\n      <td>0</td>\n      <td>0</td>\n      <td>0</td>\n      <td>0</td>\n      <td>0</td>\n      <td>0</td>\n      <td>0</td>\n      <td>0</td>\n    </tr>\n    <tr>\n      <th>4</th>\n      <td>0</td>\n      <td>0</td>\n      <td>0</td>\n      <td>0</td>\n      <td>0</td>\n      <td>0</td>\n      <td>0</td>\n      <td>0</td>\n      <td>0</td>\n      <td>0</td>\n      <td>...</td>\n      <td>0</td>\n      <td>0</td>\n      <td>0</td>\n      <td>0</td>\n      <td>0</td>\n      <td>0</td>\n      <td>0</td>\n      <td>0</td>\n      <td>0</td>\n      <td>0</td>\n    </tr>\n  </tbody>\n</table>\n<p>5 rows × 412 columns</p>\n</div>"
     },
     "execution_count": 93,
     "metadata": {},
     "output_type": "execute_result"
    }
   ],
   "source": [
    "dataset.head()"
   ],
   "metadata": {
    "collapsed": false,
    "pycharm": {
     "name": "#%%\n"
    }
   }
  },
  {
   "cell_type": "code",
   "execution_count": 94,
   "outputs": [
    {
     "data": {
      "text/plain": "tag#python              1085\ntag#machine-learning     257\ntag#django               237\ntopic#django             211\ntag#deep-learning        203\ndtype: int64"
     },
     "execution_count": 94,
     "metadata": {},
     "output_type": "execute_result"
    }
   ],
   "source": [
    "# Count tags in dataset\n",
    "tag_count = dataset.sum().sort_values(ascending=False)\n",
    "tag_count.head()"
   ],
   "metadata": {
    "collapsed": false,
    "pycharm": {
     "name": "#%%\n"
    }
   }
  },
  {
   "cell_type": "code",
   "execution_count": 95,
   "outputs": [
    {
     "data": {
      "text/plain": "tag#python              1085\ntag#machine-learning     257\ntag#django               237\ntopic#django             211\ntag#deep-learning        203\ndtype: int64"
     },
     "execution_count": 95,
     "metadata": {},
     "output_type": "execute_result"
    }
   ],
   "source": [
    "tag_count.head()"
   ],
   "metadata": {
    "collapsed": false,
    "pycharm": {
     "name": "#%%\n"
    }
   }
  },
  {
   "cell_type": "code",
   "execution_count": 99,
   "outputs": [
    {
     "data": {
      "text/plain": "count     412.000000\nmean       29.512136\nstd        62.357086\nmin         0.000000\n25%        11.000000\n50%        16.000000\n75%        29.250000\nmax      1085.000000\ndtype: float64"
     },
     "execution_count": 99,
     "metadata": {},
     "output_type": "execute_result"
    }
   ],
   "source": [
    "# Tag stats\n",
    "tag_count.describe()"
   ],
   "metadata": {
    "collapsed": false,
    "pycharm": {
     "name": "#%%\n"
    }
   }
  },
  {
   "cell_type": "code",
   "execution_count": 100,
   "outputs": [
    {
     "data": {
      "text/plain": "16.0"
     },
     "execution_count": 100,
     "metadata": {},
     "output_type": "execute_result"
    }
   ],
   "source": [
    "# Tag median\n",
    "tag_count.median()"
   ],
   "metadata": {
    "collapsed": false,
    "pycharm": {
     "name": "#%%\n"
    }
   }
  },
  {
   "cell_type": "code",
   "execution_count": 87,
   "outputs": [
    {
     "data": {
      "text/plain": "{'tag#python': 1085,\n 'tag#machine-learning': 257,\n 'tag#django': 237,\n 'topic#django': 211,\n 'tag#deep-learning': 203,\n 'topic#flask': 174,\n 'tag#tensorflow': 174,\n 'tag#python3': 170,\n 'tag#flask': 167,\n 'topic#python': 157,\n 'tag#kotlin': 145,\n 'topic#tensorflow': 144,\n 'tag#android': 139,\n 'topic#scikit-learn': 128,\n 'topic#deep-learning': 116,\n 'tag#hacktoberfest': 114,\n 'tag#bot': 112,\n 'topic#nlp': 109,\n 'tag#scikit-learn': 105,\n 'tag#nlp': 104,\n 'topic#machine-learning': 104,\n 'tag#pytorch': 100,\n 'tag#docker': 93,\n 'topic#telegram': 91,\n 'tag#telegram': 90,\n 'tag#linux': 82,\n 'topic#bot': 81,\n 'tag#data-science': 80,\n 'tag#security': 71,\n 'topic#jupyter-notebook': 65,\n 'topic#gradle': 62,\n 'topic#cryptocurrency': 61,\n 'tag#cryptocurrency': 60,\n 'tag#api': 59,\n 'tag#gradle': 59,\n 'tag#cli': 59,\n 'tag#java': 58,\n 'topic#google': 57,\n 'tag#keras': 57,\n 'tag#natural-language-processing': 56,\n 'tag#computer-vision': 54,\n 'tag#google': 54,\n 'tag#jupyter-notebook': 53,\n 'tag#bitcoin': 49,\n 'tag#aws': 49,\n 'topic#github-api': 48,\n 'topic#wagtail': 48,\n 'topic#bitcoin': 47,\n 'tag#library': 47,\n 'tag#javascript': 47,\n 'topic#data-visualization': 46,\n 'topic#covid-19': 46,\n 'topic#ansible': 45,\n 'topic#security': 44,\n 'topic#testing': 44,\n 'tag#ansible': 44,\n 'tag#testing': 44,\n 'tag#wagtail': 41,\n 'tag#data-visualization': 41,\n 'tag#github-api': 41,\n 'tag#algorithm': 41,\n 'tag#covid-19': 41,\n 'topic#linux': 41,\n 'tag#windows': 40,\n 'tag#neural-network': 40,\n 'topic#algorithm': 40,\n 'tag#git': 39,\n 'tag#json': 39,\n 'tag#telegram-bot': 38,\n 'topic#cli': 38,\n 'tag#twitter': 37,\n 'topic#deployment': 37,\n 'topic#aws': 37,\n 'topic#ubuntu': 36,\n 'topic#kotlin': 36,\n 'tag#terminal': 36,\n 'topic#library': 35,\n 'tag#pandas': 34,\n 'topic#json': 34,\n 'topic#font': 34,\n 'tag#ubuntu': 34,\n 'topic#3d': 34,\n 'tag#automation': 33,\n 'tag#jupyter': 33,\n 'tag#rest-api': 33,\n 'topic#parsing': 33,\n 'topic#ethereum': 33,\n 'tag#web': 33,\n 'tag#framework': 33,\n 'tag#font': 32,\n 'tag#monitoring': 32,\n 'tag#artificial-intelligence': 32,\n 'topic#monitoring': 32,\n 'tag#parsing': 32,\n 'topic#hacktoberfest': 32,\n 'tag#ethereum': 32,\n 'topic#api': 32,\n 'tag#github': 31,\n 'topic#sql': 31,\n 'tag#trading': 31,\n 'tag#visualization': 31,\n 'tag#devops': 31,\n 'topic#git': 30,\n 'tag#3d': 29,\n 'tag#database': 29,\n 'topic#android': 29,\n 'tag#sql': 29,\n 'tag#sqlalchemy': 28,\n 'tag#deployment': 28,\n 'topic#webapp': 28,\n 'topic#code-quality': 28,\n 'tag#macos': 28,\n 'topic#docker': 28,\n 'topic#mastodon': 27,\n 'topic#shell': 27,\n 'topic#data-structures': 27,\n 'tag#kubernetes': 27,\n 'topic#framework': 26,\n 'topic#emulator': 26,\n 'tag#mastodon': 26,\n 'topic#terminal': 26,\n 'topic#windows': 26,\n 'tag#ai': 26,\n 'topic#xml': 26,\n 'topic#twitter': 25,\n 'tag#xml': 25,\n 'tag#shell': 25,\n 'tag#discord': 25,\n 'tag#emoji': 25,\n 'topic#project-management': 25,\n 'tag#data-structures': 24,\n 'tag#code-quality': 24,\n 'topic#rest-api': 24,\n 'topic#emoji': 24,\n 'tag#trading-bot': 24,\n 'tag#http': 24,\n 'tag#mysql': 24,\n 'tag#postgresql': 24,\n 'tag#django-rest-framework': 24,\n 'tag#webapp': 24,\n 'tag#chatbot': 24,\n 'tag#rest': 24,\n 'tag#object-detection': 23,\n 'tag#elasticsearch': 23,\n 'topic#terraform': 23,\n 'tag#project-management': 23,\n 'tag#neural-networks': 23,\n 'tag#command-line': 23,\n 'topic#postgresql': 22,\n 'tag#bert': 22,\n 'tag#reinforcement-learning': 22,\n 'tag#python-3': 22,\n 'tag#raspberry-pi': 22,\n 'tag#emulator': 22,\n 'topic#server': 22,\n 'topic#azure': 22,\n 'tag#markdown': 22,\n 'tag#tutorial': 22,\n 'topic#vagrant': 21,\n 'topic#documentation': 21,\n 'topic#database': 21,\n 'tag#hacking': 20,\n 'tag#data-analysis': 20,\n 'topic#unreal-engine': 20,\n 'tag#html': 20,\n 'tag#heroku': 20,\n 'topic#bash': 20,\n 'tag#asyncio': 20,\n 'tag#python-library': 20,\n 'tag#gan': 20,\n 'tag#server': 20,\n 'tag#terraform': 19,\n 'tag#graphql': 19,\n 'topic#kubernetes': 19,\n 'tag#unreal-engine': 19,\n 'tag#spider': 19,\n 'topic#graphql': 19,\n 'tag#documentation': 19,\n 'tag#deeplearning': 19,\n 'tag#bash': 19,\n 'topic#support': 19,\n 'tag#algorithms': 19,\n 'tag#android-library': 18,\n 'tag#azure': 18,\n 'tag#numpy': 18,\n 'tag#pentesting': 18,\n 'tag#data': 18,\n 'tag#vagrant': 18,\n 'topic#continuous-integration': 18,\n 'topic#monero': 18,\n 'tag#material-design': 18,\n 'tag#linter': 18,\n 'tag#redis': 18,\n 'topic#mysql': 18,\n 'tag#rss': 18,\n 'tag#gui': 17,\n 'tag#crawler': 17,\n 'topic#http': 17,\n 'tag#serverless': 17,\n 'tag#youtube': 17,\n 'tag#monero': 17,\n 'tag#osint': 16,\n 'tag#mongodb': 16,\n 'tag#ml': 16,\n 'tag#automl': 16,\n 'topic#atom': 16,\n 'tag#continuous-integration': 16,\n 'tag#support': 16,\n 'tag#opencv': 16,\n 'topic#firebase': 16,\n 'tag#blockchain': 16,\n 'tag#chrome': 16,\n 'tag#classification': 16,\n 'topic#markdown': 16,\n 'tag#deep-neural-networks': 16,\n 'tag#vue': 15,\n 'topic#p2p': 15,\n 'tag#ui': 15,\n 'tag#cnn': 15,\n 'tag#animation': 15,\n 'tag#bootstrap': 15,\n 'topic#matlab': 15,\n 'tag#selenium': 15,\n 'tag#parser': 15,\n 'topic#sketch': 15,\n 'tag#sketch': 15,\n 'tag#text-classification': 15,\n 'tag#sklearn': 15,\n 'tag#coronavirus': 15,\n 'tag#firebase': 15,\n 'tag#ios': 15,\n 'topic#firefox': 15,\n 'tag#cloud': 15,\n 'tag#gradle-plugin': 15,\n 'tag#dataset': 15,\n 'tag#pypi': 14,\n 'tag#algorithmic-trading': 14,\n 'topic#compiler': 14,\n 'tag#xgboost': 14,\n 'tag#scraper': 14,\n 'tag#music': 14,\n 'tag#mlops': 14,\n 'tag#client': 14,\n 'tag#atom': 14,\n 'tag#slack': 14,\n 'tag#python2': 14,\n 'tag#firefox': 14,\n 'tag#onnx': 14,\n 'tag#speech-recognition': 14,\n 'topic#bootstrap': 13,\n 'topic#r': 13,\n 'tag#kotlin-multiplatform': 13,\n 'tag#celery': 13,\n 'topic#chrome': 13,\n 'tag#dashboard': 13,\n 'tag#crypto': 13,\n 'topic#java': 13,\n 'tag#lambda': 13,\n 'tag#game': 13,\n 'tag#trading-strategies': 13,\n 'tag#discord-bot': 13,\n 'tag#intellij-plugin': 13,\n 'tag#named-entity-recognition': 13,\n 'tag#kotlin-android': 13,\n 'tag#performance': 13,\n 'tag#privacy': 13,\n 'tag#spacy': 13,\n 'tag#sqlite': 13,\n 'tag#react': 13,\n 'tag#generative-adversarial-network': 12,\n 'tag#tensorboard': 12,\n 'tag#interview': 12,\n 'tag#security-tools': 12,\n 'tag#sdk': 12,\n 'tag#matlab': 12,\n 'tag#chinese': 12,\n 'tag#statistics': 12,\n 'tag#compiler': 12,\n 'tag#spark': 12,\n 'tag#email': 12,\n 'tag#ner': 12,\n 'tag#orm': 12,\n 'tag#awesome': 12,\n 'tag#image-processing': 12,\n 'tag#detection': 12,\n 'tag#p2p': 12,\n 'tag#developer-tools': 12,\n 'tag#intellij': 12,\n 'tag#data-mining': 12,\n 'tag#android-development': 12,\n 'tag#segmentation': 11,\n 'tag#authentication': 11,\n 'tag#hyperparameter-optimization': 11,\n 'tag#mvvm': 11,\n 'tag#async': 11,\n 'tag#pyqt5': 11,\n 'tag#swagger': 11,\n 'tag#command-line-tool': 11,\n 'topic#localization': 11,\n 'tag#rnn': 11,\n 'tag#self-hosted': 11,\n 'tag#fastapi': 11,\n 'tag#covid19': 11,\n 'tag#debian': 11,\n 'tag#development': 11,\n 'tag#yaml': 11,\n 'topic#c': 11,\n 'topic#virtual-reality': 11,\n 'tag#css': 11,\n 'topic#scala': 11,\n 'tag#mobile': 11,\n 'tag#coroutines': 11,\n 'tag#time-series': 11,\n 'topic#mobile': 10,\n 'tag#pyrogram': 10,\n 'tag#translation': 10,\n 'tag#scala': 10,\n 'tag#telethon': 10,\n 'tag#virtual-reality': 10,\n 'tag#ipython': 10,\n 'tag#quantitative-finance': 10,\n 'topic#code-review': 10,\n 'tag#word2vec': 10,\n 'tag#wechat': 10,\n 'topic#game-engine': 10,\n 'tag#proxy': 10,\n 'tag#pretrained-models': 10,\n 'tag#plotly': 10,\n 'tag#nginx': 10,\n 'tag#kotlin-library': 10,\n 'tag#oauth2': 10,\n 'tag#scrapy': 10,\n 'tag#c': 10,\n 'tag#matplotlib': 10,\n 'tag#cryptocurrencies': 10,\n 'tag#search': 10,\n 'topic#html': 10,\n 'tag#graph': 10,\n 'tag#cross-platform': 10,\n 'tag#tools': 10,\n 'tag#transformers': 10,\n 'tag#transformer': 10,\n 'tag#code-review': 10,\n 'topic#serverless': 9,\n 'topic#raspberry-pi': 9,\n 'topic#wordpress': 9,\n 'topic#cpp': 9,\n 'topic#perl': 9,\n 'topic#package-manager': 8,\n 'topic#spring-boot': 8,\n 'topic#qt': 7,\n 'topic#vim': 7,\n 'topic#dependency-management': 7,\n 'topic#awesome': 7,\n 'topic#maven': 7,\n 'topic#material-design': 7,\n 'topic#sdn': 7,\n 'topic#ajax': 6,\n 'topic#pixel-art': 6,\n 'topic#emacs': 6,\n 'topic#macos': 6,\n 'topic#operating-system': 6,\n 'topic#jquery': 6,\n 'topic#ios': 6,\n 'topic#npm': 5,\n 'topic#objective-c': 5,\n 'topic#pico-8': 5,\n 'topic#opengl': 5,\n 'topic#vue': 5,\n 'topic#haskell': 5,\n 'topic#publishing': 5,\n 'topic#homebridge': 5,\n 'topic#icon-font': 5,\n 'topic#frontend': 4,\n 'topic#gulp': 4,\n 'topic#javascript': 4,\n 'topic#minecraft': 4,\n 'topic#rust': 4,\n 'topic#arduino': 3,\n 'topic#julia': 3,\n 'topic#latex': 3,\n 'topic#csharp': 3,\n 'topic#ipfs': 3,\n 'topic#ruby': 3,\n 'topic#lua': 3,\n 'topic#chrome-extension': 2,\n 'topic#web-components': 2,\n 'topic#spacevim': 2,\n 'topic#nim': 2,\n 'topic#crystal': 2,\n 'topic#angular': 2,\n 'topic#react': 2,\n 'topic#laravel': 2,\n 'topic#react-native': 2,\n 'topic#redux': 2,\n 'topic#eslint': 2,\n 'topic#pwa': 2,\n 'topic#ember': 2,\n 'topic#css': 2,\n 'topic#electron': 1,\n 'topic#clojure': 1,\n 'topic#sass': 1,\n 'topic#elixir': 1,\n 'topic#webpack': 1,\n 'topic#mongodb': 1,\n 'topic#nodejs': 1,\n 'topic#nosql': 1,\n 'topic#babel': 1,\n 'topic#ratchet': 0,\n 'topic#reactiveui': 0,\n 'topic#aspnet': 0,\n 'topic#typescript': 0}"
     },
     "execution_count": 87,
     "metadata": {},
     "output_type": "execute_result"
    }
   ],
   "source": [
    "tag_count = tag_count.to_dict()\n",
    "tag_count"
   ],
   "metadata": {
    "collapsed": false,
    "pycharm": {
     "name": "#%%\n"
    }
   }
  },
  {
   "cell_type": "code",
   "execution_count": 61,
   "outputs": [
    {
     "data": {
      "text/plain": "               project_name  package#A  package#ACGAN  package#APDrawing  \\\n0  01joy#news-search-engine          0              0                  0   \n1        05bit#peewee-async          0              0                  0   \n2                 0k#shyaml          0              0                  0   \n3        0x00-0x00#ShellPop          0              0                  0   \n4        0xAX#linux-insides          0              0                  0   \n\n   package#APDrawingGAN  package#APDrawingGAN.data  \\\n0                     0                          0   \n1                     0                          0   \n2                     0                          0   \n3                     0                          0   \n4                     0                          0   \n\n   package#APDrawingGAN.data.base_data_loader  \\\n0                                           0   \n1                                           0   \n2                                           0   \n3                                           0   \n4                                           0   \n\n   package#APDrawingGAN.data.base_dataset  \\\n0                                       0   \n1                                       0   \n2                                       0   \n3                                       0   \n4                                       0   \n\n   package#APDrawingGAN.data.face_landmark  \\\n0                                        0   \n1                                        0   \n2                                        0   \n3                                        0   \n4                                        0   \n\n   package#APDrawingGAN.data.image_folder  ...  topic#vim  \\\n0                                       0  ...          0   \n1                                       0  ...          0   \n2                                       0  ...          0   \n3                                       0  ...          0   \n4                                       0  ...          0   \n\n   topic#virtual-reality  topic#vue  topic#wagtail  topic#web-components  \\\n0                      0          0              0                     0   \n1                      0          0              0                     0   \n2                      0          0              0                     0   \n3                      0          0              0                     0   \n4                      0          0              0                     0   \n\n   topic#webapp  topic#webpack  topic#windows  topic#wordpress  topic#xml  \n0             0              0              0                0          0  \n1             0              0              0                0          0  \n2             0              0              0                0          0  \n3             0              0              0                0          0  \n4             0              0              0                0          0  \n\n[5 rows x 19649 columns]",
      "text/html": "<div>\n<style scoped>\n    .dataframe tbody tr th:only-of-type {\n        vertical-align: middle;\n    }\n\n    .dataframe tbody tr th {\n        vertical-align: top;\n    }\n\n    .dataframe thead th {\n        text-align: right;\n    }\n</style>\n<table border=\"1\" class=\"dataframe\">\n  <thead>\n    <tr style=\"text-align: right;\">\n      <th></th>\n      <th>project_name</th>\n      <th>package#A</th>\n      <th>package#ACGAN</th>\n      <th>package#APDrawing</th>\n      <th>package#APDrawingGAN</th>\n      <th>package#APDrawingGAN.data</th>\n      <th>package#APDrawingGAN.data.base_data_loader</th>\n      <th>package#APDrawingGAN.data.base_dataset</th>\n      <th>package#APDrawingGAN.data.face_landmark</th>\n      <th>package#APDrawingGAN.data.image_folder</th>\n      <th>...</th>\n      <th>topic#vim</th>\n      <th>topic#virtual-reality</th>\n      <th>topic#vue</th>\n      <th>topic#wagtail</th>\n      <th>topic#web-components</th>\n      <th>topic#webapp</th>\n      <th>topic#webpack</th>\n      <th>topic#windows</th>\n      <th>topic#wordpress</th>\n      <th>topic#xml</th>\n    </tr>\n  </thead>\n  <tbody>\n    <tr>\n      <th>0</th>\n      <td>01joy#news-search-engine</td>\n      <td>0</td>\n      <td>0</td>\n      <td>0</td>\n      <td>0</td>\n      <td>0</td>\n      <td>0</td>\n      <td>0</td>\n      <td>0</td>\n      <td>0</td>\n      <td>...</td>\n      <td>0</td>\n      <td>0</td>\n      <td>0</td>\n      <td>0</td>\n      <td>0</td>\n      <td>0</td>\n      <td>0</td>\n      <td>0</td>\n      <td>0</td>\n      <td>0</td>\n    </tr>\n    <tr>\n      <th>1</th>\n      <td>05bit#peewee-async</td>\n      <td>0</td>\n      <td>0</td>\n      <td>0</td>\n      <td>0</td>\n      <td>0</td>\n      <td>0</td>\n      <td>0</td>\n      <td>0</td>\n      <td>0</td>\n      <td>...</td>\n      <td>0</td>\n      <td>0</td>\n      <td>0</td>\n      <td>0</td>\n      <td>0</td>\n      <td>0</td>\n      <td>0</td>\n      <td>0</td>\n      <td>0</td>\n      <td>0</td>\n    </tr>\n    <tr>\n      <th>2</th>\n      <td>0k#shyaml</td>\n      <td>0</td>\n      <td>0</td>\n      <td>0</td>\n      <td>0</td>\n      <td>0</td>\n      <td>0</td>\n      <td>0</td>\n      <td>0</td>\n      <td>0</td>\n      <td>...</td>\n      <td>0</td>\n      <td>0</td>\n      <td>0</td>\n      <td>0</td>\n      <td>0</td>\n      <td>0</td>\n      <td>0</td>\n      <td>0</td>\n      <td>0</td>\n      <td>0</td>\n    </tr>\n    <tr>\n      <th>3</th>\n      <td>0x00-0x00#ShellPop</td>\n      <td>0</td>\n      <td>0</td>\n      <td>0</td>\n      <td>0</td>\n      <td>0</td>\n      <td>0</td>\n      <td>0</td>\n      <td>0</td>\n      <td>0</td>\n      <td>...</td>\n      <td>0</td>\n      <td>0</td>\n      <td>0</td>\n      <td>0</td>\n      <td>0</td>\n      <td>0</td>\n      <td>0</td>\n      <td>0</td>\n      <td>0</td>\n      <td>0</td>\n    </tr>\n    <tr>\n      <th>4</th>\n      <td>0xAX#linux-insides</td>\n      <td>0</td>\n      <td>0</td>\n      <td>0</td>\n      <td>0</td>\n      <td>0</td>\n      <td>0</td>\n      <td>0</td>\n      <td>0</td>\n      <td>0</td>\n      <td>...</td>\n      <td>0</td>\n      <td>0</td>\n      <td>0</td>\n      <td>0</td>\n      <td>0</td>\n      <td>0</td>\n      <td>0</td>\n      <td>0</td>\n      <td>0</td>\n      <td>0</td>\n    </tr>\n  </tbody>\n</table>\n<p>5 rows × 19649 columns</p>\n</div>"
     },
     "execution_count": 61,
     "metadata": {},
     "output_type": "execute_result"
    }
   ],
   "source": [
    "dataset = pd.read_csv(\"../data/classification/count_dataset_for_multilabel.csv\")\n",
    "dataset.head()"
   ],
   "metadata": {
    "collapsed": false,
    "pycharm": {
     "name": "#%%\n"
    }
   }
  },
  {
   "cell_type": "code",
   "execution_count": 62,
   "outputs": [
    {
     "data": {
      "text/plain": "                               project_name  tag#3d  tag#ai  tag#algorithm  \\\n0                  01joy#news-search-engine       0       0              0   \n1                        05bit#peewee-async       0       0              0   \n2                                 0k#shyaml       0       0              0   \n3                        0x00-0x00#ShellPop       0       0              0   \n4                        0xAX#linux-insides       0       0              0   \n...                                     ...     ...     ...            ...   \n2848                     zq1997#deepin-wine       0       0              0   \n2849                            zulip#zulip       0       0              0   \n2850                              zvtvz#zvt       0       0              0   \n2851                   zwczou#weixin-python       0       0              0   \n2852  zzw922cn#Automatic_Speech_Recognition       0       0              0   \n\n      tag#algorithmic-trading  tag#algorithms  tag#android  \\\n0                           0               0            0   \n1                           0               0            0   \n2                           0               0            0   \n3                           0               0            0   \n4                           0               0            0   \n...                       ...             ...          ...   \n2848                        0               0            0   \n2849                        0               0            0   \n2850                        1               0            0   \n2851                        0               0            0   \n2852                        0               0            0   \n\n      tag#android-development  tag#android-library  tag#animation  ...  \\\n0                           0                    0              0  ...   \n1                           0                    0              0  ...   \n2                           0                    0              0  ...   \n3                           0                    0              0  ...   \n4                           0                    0              0  ...   \n...                       ...                  ...            ...  ...   \n2848                        0                    0              0  ...   \n2849                        0                    0              0  ...   \n2850                        0                    0              0  ...   \n2851                        0                    0              0  ...   \n2852                        0                    0              0  ...   \n\n      topic#vim  topic#virtual-reality  topic#vue  topic#wagtail  \\\n0             0                      0          0              0   \n1             0                      0          0              0   \n2             0                      0          0              0   \n3             0                      0          0              0   \n4             0                      0          0              0   \n...         ...                    ...        ...            ...   \n2848          0                      0          0              0   \n2849          0                      0          0              0   \n2850          0                      0          0              0   \n2851          0                      0          0              0   \n2852          0                      0          0              0   \n\n      topic#web-components  topic#webapp  topic#webpack  topic#windows  \\\n0                        0             0              0              0   \n1                        0             0              0              0   \n2                        0             0              0              0   \n3                        0             0              0              0   \n4                        0             0              0              0   \n...                    ...           ...            ...            ...   \n2848                     0             0              0              0   \n2849                     0             0              0              0   \n2850                     0             0              0              0   \n2851                     0             0              0              0   \n2852                     0             0              0              0   \n\n      topic#wordpress  topic#xml  \n0                   0          0  \n1                   0          0  \n2                   0          0  \n3                   0          0  \n4                   0          0  \n...               ...        ...  \n2848                0          0  \n2849                0          0  \n2850                0          0  \n2851                0          0  \n2852                0          0  \n\n[2853 rows x 414 columns]",
      "text/html": "<div>\n<style scoped>\n    .dataframe tbody tr th:only-of-type {\n        vertical-align: middle;\n    }\n\n    .dataframe tbody tr th {\n        vertical-align: top;\n    }\n\n    .dataframe thead th {\n        text-align: right;\n    }\n</style>\n<table border=\"1\" class=\"dataframe\">\n  <thead>\n    <tr style=\"text-align: right;\">\n      <th></th>\n      <th>project_name</th>\n      <th>tag#3d</th>\n      <th>tag#ai</th>\n      <th>tag#algorithm</th>\n      <th>tag#algorithmic-trading</th>\n      <th>tag#algorithms</th>\n      <th>tag#android</th>\n      <th>tag#android-development</th>\n      <th>tag#android-library</th>\n      <th>tag#animation</th>\n      <th>...</th>\n      <th>topic#vim</th>\n      <th>topic#virtual-reality</th>\n      <th>topic#vue</th>\n      <th>topic#wagtail</th>\n      <th>topic#web-components</th>\n      <th>topic#webapp</th>\n      <th>topic#webpack</th>\n      <th>topic#windows</th>\n      <th>topic#wordpress</th>\n      <th>topic#xml</th>\n    </tr>\n  </thead>\n  <tbody>\n    <tr>\n      <th>0</th>\n      <td>01joy#news-search-engine</td>\n      <td>0</td>\n      <td>0</td>\n      <td>0</td>\n      <td>0</td>\n      <td>0</td>\n      <td>0</td>\n      <td>0</td>\n      <td>0</td>\n      <td>0</td>\n      <td>...</td>\n      <td>0</td>\n      <td>0</td>\n      <td>0</td>\n      <td>0</td>\n      <td>0</td>\n      <td>0</td>\n      <td>0</td>\n      <td>0</td>\n      <td>0</td>\n      <td>0</td>\n    </tr>\n    <tr>\n      <th>1</th>\n      <td>05bit#peewee-async</td>\n      <td>0</td>\n      <td>0</td>\n      <td>0</td>\n      <td>0</td>\n      <td>0</td>\n      <td>0</td>\n      <td>0</td>\n      <td>0</td>\n      <td>0</td>\n      <td>...</td>\n      <td>0</td>\n      <td>0</td>\n      <td>0</td>\n      <td>0</td>\n      <td>0</td>\n      <td>0</td>\n      <td>0</td>\n      <td>0</td>\n      <td>0</td>\n      <td>0</td>\n    </tr>\n    <tr>\n      <th>2</th>\n      <td>0k#shyaml</td>\n      <td>0</td>\n      <td>0</td>\n      <td>0</td>\n      <td>0</td>\n      <td>0</td>\n      <td>0</td>\n      <td>0</td>\n      <td>0</td>\n      <td>0</td>\n      <td>...</td>\n      <td>0</td>\n      <td>0</td>\n      <td>0</td>\n      <td>0</td>\n      <td>0</td>\n      <td>0</td>\n      <td>0</td>\n      <td>0</td>\n      <td>0</td>\n      <td>0</td>\n    </tr>\n    <tr>\n      <th>3</th>\n      <td>0x00-0x00#ShellPop</td>\n      <td>0</td>\n      <td>0</td>\n      <td>0</td>\n      <td>0</td>\n      <td>0</td>\n      <td>0</td>\n      <td>0</td>\n      <td>0</td>\n      <td>0</td>\n      <td>...</td>\n      <td>0</td>\n      <td>0</td>\n      <td>0</td>\n      <td>0</td>\n      <td>0</td>\n      <td>0</td>\n      <td>0</td>\n      <td>0</td>\n      <td>0</td>\n      <td>0</td>\n    </tr>\n    <tr>\n      <th>4</th>\n      <td>0xAX#linux-insides</td>\n      <td>0</td>\n      <td>0</td>\n      <td>0</td>\n      <td>0</td>\n      <td>0</td>\n      <td>0</td>\n      <td>0</td>\n      <td>0</td>\n      <td>0</td>\n      <td>...</td>\n      <td>0</td>\n      <td>0</td>\n      <td>0</td>\n      <td>0</td>\n      <td>0</td>\n      <td>0</td>\n      <td>0</td>\n      <td>0</td>\n      <td>0</td>\n      <td>0</td>\n    </tr>\n    <tr>\n      <th>...</th>\n      <td>...</td>\n      <td>...</td>\n      <td>...</td>\n      <td>...</td>\n      <td>...</td>\n      <td>...</td>\n      <td>...</td>\n      <td>...</td>\n      <td>...</td>\n      <td>...</td>\n      <td>...</td>\n      <td>...</td>\n      <td>...</td>\n      <td>...</td>\n      <td>...</td>\n      <td>...</td>\n      <td>...</td>\n      <td>...</td>\n      <td>...</td>\n      <td>...</td>\n      <td>...</td>\n    </tr>\n    <tr>\n      <th>2848</th>\n      <td>zq1997#deepin-wine</td>\n      <td>0</td>\n      <td>0</td>\n      <td>0</td>\n      <td>0</td>\n      <td>0</td>\n      <td>0</td>\n      <td>0</td>\n      <td>0</td>\n      <td>0</td>\n      <td>...</td>\n      <td>0</td>\n      <td>0</td>\n      <td>0</td>\n      <td>0</td>\n      <td>0</td>\n      <td>0</td>\n      <td>0</td>\n      <td>0</td>\n      <td>0</td>\n      <td>0</td>\n    </tr>\n    <tr>\n      <th>2849</th>\n      <td>zulip#zulip</td>\n      <td>0</td>\n      <td>0</td>\n      <td>0</td>\n      <td>0</td>\n      <td>0</td>\n      <td>0</td>\n      <td>0</td>\n      <td>0</td>\n      <td>0</td>\n      <td>...</td>\n      <td>0</td>\n      <td>0</td>\n      <td>0</td>\n      <td>0</td>\n      <td>0</td>\n      <td>0</td>\n      <td>0</td>\n      <td>0</td>\n      <td>0</td>\n      <td>0</td>\n    </tr>\n    <tr>\n      <th>2850</th>\n      <td>zvtvz#zvt</td>\n      <td>0</td>\n      <td>0</td>\n      <td>0</td>\n      <td>1</td>\n      <td>0</td>\n      <td>0</td>\n      <td>0</td>\n      <td>0</td>\n      <td>0</td>\n      <td>...</td>\n      <td>0</td>\n      <td>0</td>\n      <td>0</td>\n      <td>0</td>\n      <td>0</td>\n      <td>0</td>\n      <td>0</td>\n      <td>0</td>\n      <td>0</td>\n      <td>0</td>\n    </tr>\n    <tr>\n      <th>2851</th>\n      <td>zwczou#weixin-python</td>\n      <td>0</td>\n      <td>0</td>\n      <td>0</td>\n      <td>0</td>\n      <td>0</td>\n      <td>0</td>\n      <td>0</td>\n      <td>0</td>\n      <td>0</td>\n      <td>...</td>\n      <td>0</td>\n      <td>0</td>\n      <td>0</td>\n      <td>0</td>\n      <td>0</td>\n      <td>0</td>\n      <td>0</td>\n      <td>0</td>\n      <td>0</td>\n      <td>0</td>\n    </tr>\n    <tr>\n      <th>2852</th>\n      <td>zzw922cn#Automatic_Speech_Recognition</td>\n      <td>0</td>\n      <td>0</td>\n      <td>0</td>\n      <td>0</td>\n      <td>0</td>\n      <td>0</td>\n      <td>0</td>\n      <td>0</td>\n      <td>0</td>\n      <td>...</td>\n      <td>0</td>\n      <td>0</td>\n      <td>0</td>\n      <td>0</td>\n      <td>0</td>\n      <td>0</td>\n      <td>0</td>\n      <td>0</td>\n      <td>0</td>\n      <td>0</td>\n    </tr>\n  </tbody>\n</table>\n<p>2853 rows × 414 columns</p>\n</div>"
     },
     "execution_count": 62,
     "metadata": {},
     "output_type": "execute_result"
    }
   ],
   "source": [
    "dataset = dataset[[col for col in dataset.columns if col.startswith(\"project_name\") or col.startswith(\"topic\") or col.startswith(\"tag\")]]\n",
    "dataset"
   ],
   "metadata": {
    "collapsed": false,
    "pycharm": {
     "name": "#%%\n"
    }
   }
  },
  {
   "cell_type": "code",
   "execution_count": 63,
   "outputs": [],
   "source": [
    "for col in dataset.columns:\n",
    "    if col != \"project_name\":\n",
    "        dataset[col] = dataset[col].apply(lambda x: 0 if x == 0 else tag_count[col])"
   ],
   "metadata": {
    "collapsed": false,
    "pycharm": {
     "name": "#%%\n"
    }
   }
  },
  {
   "cell_type": "code",
   "execution_count": 64,
   "outputs": [
    {
     "data": {
      "text/plain": "               project_name  tag#3d  tag#ai  tag#algorithm  \\\n0  01joy#news-search-engine       0       0              0   \n1        05bit#peewee-async       0       0              0   \n2                 0k#shyaml       0       0              0   \n3        0x00-0x00#ShellPop       0       0              0   \n4        0xAX#linux-insides       0       0              0   \n\n   tag#algorithmic-trading  tag#algorithms  tag#android  \\\n0                        0               0            0   \n1                        0               0            0   \n2                        0               0            0   \n3                        0               0            0   \n4                        0               0            0   \n\n   tag#android-development  tag#android-library  tag#animation  ...  \\\n0                        0                    0              0  ...   \n1                        0                    0              0  ...   \n2                        0                    0              0  ...   \n3                        0                    0              0  ...   \n4                        0                    0              0  ...   \n\n   topic#vim  topic#virtual-reality  topic#vue  topic#wagtail  \\\n0          0                      0          0              0   \n1          0                      0          0              0   \n2          0                      0          0              0   \n3          0                      0          0              0   \n4          0                      0          0              0   \n\n   topic#web-components  topic#webapp  topic#webpack  topic#windows  \\\n0                     0             0              0              0   \n1                     0             0              0              0   \n2                     0             0              0              0   \n3                     0             0              0              0   \n4                     0             0              0              0   \n\n   topic#wordpress  topic#xml  \n0                0          0  \n1                0          0  \n2                0          0  \n3                0          0  \n4                0          0  \n\n[5 rows x 414 columns]",
      "text/html": "<div>\n<style scoped>\n    .dataframe tbody tr th:only-of-type {\n        vertical-align: middle;\n    }\n\n    .dataframe tbody tr th {\n        vertical-align: top;\n    }\n\n    .dataframe thead th {\n        text-align: right;\n    }\n</style>\n<table border=\"1\" class=\"dataframe\">\n  <thead>\n    <tr style=\"text-align: right;\">\n      <th></th>\n      <th>project_name</th>\n      <th>tag#3d</th>\n      <th>tag#ai</th>\n      <th>tag#algorithm</th>\n      <th>tag#algorithmic-trading</th>\n      <th>tag#algorithms</th>\n      <th>tag#android</th>\n      <th>tag#android-development</th>\n      <th>tag#android-library</th>\n      <th>tag#animation</th>\n      <th>...</th>\n      <th>topic#vim</th>\n      <th>topic#virtual-reality</th>\n      <th>topic#vue</th>\n      <th>topic#wagtail</th>\n      <th>topic#web-components</th>\n      <th>topic#webapp</th>\n      <th>topic#webpack</th>\n      <th>topic#windows</th>\n      <th>topic#wordpress</th>\n      <th>topic#xml</th>\n    </tr>\n  </thead>\n  <tbody>\n    <tr>\n      <th>0</th>\n      <td>01joy#news-search-engine</td>\n      <td>0</td>\n      <td>0</td>\n      <td>0</td>\n      <td>0</td>\n      <td>0</td>\n      <td>0</td>\n      <td>0</td>\n      <td>0</td>\n      <td>0</td>\n      <td>...</td>\n      <td>0</td>\n      <td>0</td>\n      <td>0</td>\n      <td>0</td>\n      <td>0</td>\n      <td>0</td>\n      <td>0</td>\n      <td>0</td>\n      <td>0</td>\n      <td>0</td>\n    </tr>\n    <tr>\n      <th>1</th>\n      <td>05bit#peewee-async</td>\n      <td>0</td>\n      <td>0</td>\n      <td>0</td>\n      <td>0</td>\n      <td>0</td>\n      <td>0</td>\n      <td>0</td>\n      <td>0</td>\n      <td>0</td>\n      <td>...</td>\n      <td>0</td>\n      <td>0</td>\n      <td>0</td>\n      <td>0</td>\n      <td>0</td>\n      <td>0</td>\n      <td>0</td>\n      <td>0</td>\n      <td>0</td>\n      <td>0</td>\n    </tr>\n    <tr>\n      <th>2</th>\n      <td>0k#shyaml</td>\n      <td>0</td>\n      <td>0</td>\n      <td>0</td>\n      <td>0</td>\n      <td>0</td>\n      <td>0</td>\n      <td>0</td>\n      <td>0</td>\n      <td>0</td>\n      <td>...</td>\n      <td>0</td>\n      <td>0</td>\n      <td>0</td>\n      <td>0</td>\n      <td>0</td>\n      <td>0</td>\n      <td>0</td>\n      <td>0</td>\n      <td>0</td>\n      <td>0</td>\n    </tr>\n    <tr>\n      <th>3</th>\n      <td>0x00-0x00#ShellPop</td>\n      <td>0</td>\n      <td>0</td>\n      <td>0</td>\n      <td>0</td>\n      <td>0</td>\n      <td>0</td>\n      <td>0</td>\n      <td>0</td>\n      <td>0</td>\n      <td>...</td>\n      <td>0</td>\n      <td>0</td>\n      <td>0</td>\n      <td>0</td>\n      <td>0</td>\n      <td>0</td>\n      <td>0</td>\n      <td>0</td>\n      <td>0</td>\n      <td>0</td>\n    </tr>\n    <tr>\n      <th>4</th>\n      <td>0xAX#linux-insides</td>\n      <td>0</td>\n      <td>0</td>\n      <td>0</td>\n      <td>0</td>\n      <td>0</td>\n      <td>0</td>\n      <td>0</td>\n      <td>0</td>\n      <td>0</td>\n      <td>...</td>\n      <td>0</td>\n      <td>0</td>\n      <td>0</td>\n      <td>0</td>\n      <td>0</td>\n      <td>0</td>\n      <td>0</td>\n      <td>0</td>\n      <td>0</td>\n      <td>0</td>\n    </tr>\n  </tbody>\n</table>\n<p>5 rows × 414 columns</p>\n</div>"
     },
     "execution_count": 64,
     "metadata": {},
     "output_type": "execute_result"
    }
   ],
   "source": [
    "dataset.head()"
   ],
   "metadata": {
    "collapsed": false,
    "pycharm": {
     "name": "#%%\n"
    }
   }
  },
  {
   "cell_type": "code",
   "execution_count": 71,
   "outputs": [
    {
     "name": "stderr",
     "output_type": "stream",
     "text": [
      "/tmp/ipykernel_17123/1970726587.py:1: FutureWarning: Dropping of nuisance columns in DataFrame reductions (with 'numeric_only=None') is deprecated; in a future version this will raise TypeError.  Select only valid columns before calling the reduction.\n",
      "  data = list(zip(dataset[\"project_name\"], dataset.sum(axis=1)))\n"
     ]
    }
   ],
   "source": [
    "data = list(zip(dataset[\"project_name\"], dataset.sum(axis=1)))"
   ],
   "metadata": {
    "collapsed": false,
    "pycharm": {
     "name": "#%%\n"
    }
   }
  },
  {
   "cell_type": "code",
   "execution_count": 77,
   "outputs": [
    {
     "data": {
      "text/plain": "                                           project_name  score\n1189         donnemartin#data-science-ipython-notebooks   2780\n965             chiphuyen#stanford-tensorflow-tutorials   2570\n1293                                    explosion#spaCy   2446\n1779                                   keras-team#keras   2352\n119                                 ClimbsRocks#auto_ml   2335\n...                                                 ...    ...\n1433                google-research#arxiv-latex-cleaner      3\n595                              SpaceVim#deoplete-dart      2\n849   beckenrode#mysql-workbench-export-laravel-5-mi...      2\n1042                 crystal-lang-tools#sublime-crystal      2\n2148                                    nodejs#node-gyp      1\n\n[2853 rows x 2 columns]",
      "text/html": "<div>\n<style scoped>\n    .dataframe tbody tr th:only-of-type {\n        vertical-align: middle;\n    }\n\n    .dataframe tbody tr th {\n        vertical-align: top;\n    }\n\n    .dataframe thead th {\n        text-align: right;\n    }\n</style>\n<table border=\"1\" class=\"dataframe\">\n  <thead>\n    <tr style=\"text-align: right;\">\n      <th></th>\n      <th>project_name</th>\n      <th>score</th>\n    </tr>\n  </thead>\n  <tbody>\n    <tr>\n      <th>1189</th>\n      <td>donnemartin#data-science-ipython-notebooks</td>\n      <td>2780</td>\n    </tr>\n    <tr>\n      <th>965</th>\n      <td>chiphuyen#stanford-tensorflow-tutorials</td>\n      <td>2570</td>\n    </tr>\n    <tr>\n      <th>1293</th>\n      <td>explosion#spaCy</td>\n      <td>2446</td>\n    </tr>\n    <tr>\n      <th>1779</th>\n      <td>keras-team#keras</td>\n      <td>2352</td>\n    </tr>\n    <tr>\n      <th>119</th>\n      <td>ClimbsRocks#auto_ml</td>\n      <td>2335</td>\n    </tr>\n    <tr>\n      <th>...</th>\n      <td>...</td>\n      <td>...</td>\n    </tr>\n    <tr>\n      <th>1433</th>\n      <td>google-research#arxiv-latex-cleaner</td>\n      <td>3</td>\n    </tr>\n    <tr>\n      <th>595</th>\n      <td>SpaceVim#deoplete-dart</td>\n      <td>2</td>\n    </tr>\n    <tr>\n      <th>849</th>\n      <td>beckenrode#mysql-workbench-export-laravel-5-mi...</td>\n      <td>2</td>\n    </tr>\n    <tr>\n      <th>1042</th>\n      <td>crystal-lang-tools#sublime-crystal</td>\n      <td>2</td>\n    </tr>\n    <tr>\n      <th>2148</th>\n      <td>nodejs#node-gyp</td>\n      <td>1</td>\n    </tr>\n  </tbody>\n</table>\n<p>2853 rows × 2 columns</p>\n</div>"
     },
     "execution_count": 77,
     "metadata": {},
     "output_type": "execute_result"
    }
   ],
   "source": [
    "# Top repos by tag count sum score\n",
    "pd.DataFrame(data, columns=[\"project_name\", \"score\"]).sort_values(\"score\", ascending=False)"
   ],
   "metadata": {
    "collapsed": false,
    "pycharm": {
     "name": "#%%\n"
    }
   }
  },
  {
   "cell_type": "code",
   "execution_count": null,
   "outputs": [],
   "source": [],
   "metadata": {
    "collapsed": false,
    "pycharm": {
     "name": "#%%\n"
    }
   }
  }
 ],
 "metadata": {
  "kernelspec": {
   "display_name": "Python 3",
   "language": "python",
   "name": "python3"
  },
  "language_info": {
   "codemirror_mode": {
    "name": "ipython",
    "version": 2
   },
   "file_extension": ".py",
   "mimetype": "text/x-python",
   "name": "python",
   "nbconvert_exporter": "python",
   "pygments_lexer": "ipython2",
   "version": "2.7.6"
  }
 },
 "nbformat": 4,
 "nbformat_minor": 0
}